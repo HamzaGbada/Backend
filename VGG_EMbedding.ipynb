{
  "cells": [
    {
      "cell_type": "markdown",
      "metadata": {
        "id": "view-in-github",
        "colab_type": "text"
      },
      "source": [
        "<a href=\"https://colab.research.google.com/github/HamzaGbada/Backend/blob/master/VGG_EMbedding.ipynb\" target=\"_parent\"><img src=\"https://colab.research.google.com/assets/colab-badge.svg\" alt=\"Open In Colab\"/></a>"
      ]
    },
    {
      "cell_type": "markdown",
      "metadata": {
        "id": "S0LXgvUliYzf"
      },
      "source": [
        "https://medium.com/mlearning-ai/load-pre-trained-glove-embeddings-in-torch-nn-embedding-layer-in-under-2-minutes-f5af8f57416a\n",
        "\n",
        "https://machinelearningmastery.com/building-multilayer-perceptron-models-in-pytorch/"
      ]
    },
    {
      "cell_type": "markdown",
      "metadata": {
        "id": "VNNnxo_OrhY7"
      },
      "source": [
        "# TODO:\n",
        "1. Dataloader should return list of data containing the image embedding and the image itself under pytorch tensor\n",
        "1. perform class encoding when creating dataloader\n",
        "1. the classifier at the first set it will be a full connected layer then a discuter\n"
      ]
    },
    {
      "cell_type": "markdown",
      "metadata": {
        "id": "nT8KDPNMnO6j"
      },
      "source": [
        "# VGG start"
      ]
    },
    {
      "cell_type": "code",
      "execution_count": 1,
      "metadata": {
        "colab": {
          "base_uri": "https://localhost:8080/"
        },
        "id": "7zzQ5FKv9SDl",
        "outputId": "b16cd2fa-e0ba-4b25-f117-b66c547e12da"
      },
      "outputs": [
        {
          "output_type": "stream",
          "name": "stdout",
          "text": [
            "--2023-04-07 08:43:23--  http://nlp.stanford.edu/data/glove.6B.zip\n",
            "Resolving nlp.stanford.edu (nlp.stanford.edu)... 171.64.67.140\n",
            "Connecting to nlp.stanford.edu (nlp.stanford.edu)|171.64.67.140|:80... connected.\n",
            "HTTP request sent, awaiting response... 302 Found\n",
            "Location: https://nlp.stanford.edu/data/glove.6B.zip [following]\n",
            "--2023-04-07 08:43:24--  https://nlp.stanford.edu/data/glove.6B.zip\n",
            "Connecting to nlp.stanford.edu (nlp.stanford.edu)|171.64.67.140|:443... connected.\n",
            "HTTP request sent, awaiting response... 301 Moved Permanently\n",
            "Location: https://downloads.cs.stanford.edu/nlp/data/glove.6B.zip [following]\n",
            "--2023-04-07 08:43:24--  https://downloads.cs.stanford.edu/nlp/data/glove.6B.zip\n",
            "Resolving downloads.cs.stanford.edu (downloads.cs.stanford.edu)... 171.64.64.22\n",
            "Connecting to downloads.cs.stanford.edu (downloads.cs.stanford.edu)|171.64.64.22|:443... connected.\n",
            "HTTP request sent, awaiting response... 200 OK\n",
            "Length: 862182613 (822M) [application/zip]\n",
            "Saving to: ‘glove.6B.zip’\n",
            "\n",
            "glove.6B.zip        100%[===================>] 822.24M  5.09MB/s    in 2m 39s  \n",
            "\n",
            "2023-04-07 08:46:05 (5.16 MB/s) - ‘glove.6B.zip’ saved [862182613/862182613]\n",
            "\n",
            "Archive:  glove.6B.zip\n",
            "  inflating: glove.6B.50d.txt        \n",
            "  inflating: glove.6B.100d.txt       \n",
            "  inflating: glove.6B.200d.txt       \n",
            "  inflating: glove.6B.300d.txt       \n",
            "total 3040824\n",
            "drwxr-xr-x 1 root root       4096 Apr  7 08:46  .\n",
            "-rw-r--r-- 1 root root    1712704 Apr  7 08:44 'cord_embedding (1).pt'\n",
            "drwxr-xr-x 1 root root       4096 Apr  7 08:41  ..\n",
            "drwxr-xr-x 1 root root       4096 Apr  5 13:30  sample_data\n",
            "drwxr-xr-x 4 root root       4096 Apr  5 13:29  .config\n",
            "-rw-r--r-- 1 root root  862182613 Oct 25  2015  glove.6B.zip\n",
            "-rw-rw-r-- 1 root root 1037962819 Aug 27  2014  glove.6B.300d.txt\n",
            "-rw-rw-r-- 1 root root  171350079 Aug  4  2014  glove.6B.50d.txt\n",
            "-rw-rw-r-- 1 root root  693432828 Aug  4  2014  glove.6B.200d.txt\n",
            "-rw-rw-r-- 1 root root  347116733 Aug  4  2014  glove.6B.100d.txt\n"
          ]
        }
      ],
      "source": [
        "!wget http://nlp.stanford.edu/data/glove.6B.zip\n",
        "!unzip glove.6B.zip\n",
        "!ls -lat"
      ]
    },
    {
      "cell_type": "code",
      "source": [
        "%%capture\n",
        "!pip install tensorflow-addons\n",
        "!pip install tf2onnx\n",
        "!pip install \"python-doctr[torch]\""
      ],
      "metadata": {
        "id": "UNEWCl5i855V"
      },
      "execution_count": null,
      "outputs": []
    },
    {
      "cell_type": "code",
      "execution_count": null,
      "metadata": {
        "id": "G4aMCSfgxRoU"
      },
      "outputs": [],
      "source": [
        "!pip install \"python-doctr[torch]\""
      ]
    },
    {
      "cell_type": "code",
      "execution_count": 1,
      "metadata": {
        "id": "hbE-mTM33K3h"
      },
      "outputs": [],
      "source": [
        "import numpy as np\n",
        "from PIL import Image\n",
        "import cv2\n",
        "from copy import deepcopy\n",
        "from typing import Tuple, TypeVar, Union, List\n",
        "from pathlib import Path\n",
        "\n",
        "\n",
        "\n",
        "def extract_crops(img: np.ndarray, boxes: np.ndarray, channels_last: bool = True) -> List[np.ndarray]:\n",
        "    \"\"\"Created cropped images from list of bounding boxes\n",
        "    Args:\n",
        "        img: input image\n",
        "        boxes: bounding boxes of shape (N, 4) where N is the number of boxes, and the relative\n",
        "            coordinates (xmin, ymin, xmax, ymax)\n",
        "        channels_last: whether the channel dimensions is the last one instead of the last one\n",
        "    Returns:\n",
        "        list of cropped images\n",
        "    \"\"\"\n",
        "    if boxes.shape[0] == 0:\n",
        "        return []\n",
        "    if boxes.shape[1] != 4:\n",
        "        raise AssertionError(\"boxes are expected to be relative and in order (xmin, ymin, xmax, ymax)\")\n",
        "\n",
        "    # Project relative coordinates\n",
        "    _boxes = boxes.copy()\n",
        "    h, w = img.shape[:2] if channels_last else img.shape[-2:]\n",
        "    if _boxes.dtype != int:\n",
        "        _boxes[:, [0, 2]] *= w\n",
        "        _boxes[:, [1, 3]] *= h\n",
        "        _boxes = _boxes.round().astype(int)\n",
        "        # Add last index\n",
        "        _boxes[2:] += 1\n",
        "    if channels_last:\n",
        "        return deepcopy([img[box[1] : box[3], box[0] : box[2]] for box in _boxes])\n",
        "\n",
        "    return deepcopy([img[:, box[1] : box[3], box[0] : box[2]] for box in _boxes])\n",
        "\n",
        "def extract_rcrops(\n",
        "    img: np.ndarray, polys: np.ndarray, dtype=np.float32, channels_last: bool = True\n",
        ") -> List[np.ndarray]:\n",
        "    \"\"\"Created cropped images from list of rotated bounding boxes\n",
        "    Args:\n",
        "        img: input image\n",
        "        polys: bounding boxes of shape (N, 4, 2)\n",
        "        dtype: target data type of bounding boxes\n",
        "        channels_last: whether the channel dimensions is the last one instead of the last one\n",
        "    Returns:\n",
        "        list of cropped images\n",
        "    \"\"\"\n",
        "    if polys.shape[0] == 0:\n",
        "        return []\n",
        "    if polys.shape[1:] != (4, 2):\n",
        "        raise AssertionError(\"polys are expected to be quadrilateral, of shape (N, 4, 2)\")\n",
        "\n",
        "    # Project relative coordinates\n",
        "    _boxes = polys.copy()\n",
        "    height, width = img.shape[:2] if channels_last else img.shape[-2:]\n",
        "    if _boxes.dtype != int:\n",
        "        _boxes[:, :, 0] *= width\n",
        "        _boxes[:, :, 1] *= height\n",
        "\n",
        "    src_pts = _boxes[:, :3].astype(np.float32)\n",
        "    # Preserve size\n",
        "    d1 = np.linalg.norm(src_pts[:, 0] - src_pts[:, 1], axis=-1)\n",
        "    d2 = np.linalg.norm(src_pts[:, 1] - src_pts[:, 2], axis=-1)\n",
        "    # (N, 3, 2)\n",
        "    dst_pts = np.zeros((_boxes.shape[0], 3, 2), dtype=dtype)\n",
        "    dst_pts[:, 1, 0] = dst_pts[:, 2, 0] = d1 - 1\n",
        "    dst_pts[:, 2, 1] = d2 - 1\n",
        "    # Use a warp transformation to extract the crop\n",
        "    crops = [\n",
        "        cv2.warpAffine(\n",
        "            img if channels_last else img.transpose(1, 2, 0),\n",
        "            # Transformation matrix\n",
        "            cv2.getAffineTransform(src_pts[idx], dst_pts[idx]),\n",
        "            (int(d1[idx]), int(d2[idx])),\n",
        "        )\n",
        "        for idx in range(_boxes.shape[0])\n",
        "    ]\n",
        "    return crops\n",
        "\n",
        "def crop_bboxes_from_image(img_path: Union[str, Path], geoms: np.ndarray) -> List[np.ndarray]:\n",
        "    \"\"\"Crop a set of bounding boxes from an image\n",
        "    Args:\n",
        "        img_path: path to the image\n",
        "        geoms: a array of polygons of shape (N, 4, 2) or of straight boxes of shape (N, 4)\n",
        "    Returns:\n",
        "        a list of cropped images\n",
        "    \"\"\"\n",
        "    img: np.ndarray = np.array(Image.open(img_path).convert(\"RGB\"))\n",
        "    # Polygon\n",
        "    if geoms.ndim == 3 and geoms.shape[1:] == (4, 2):\n",
        "        return extract_rcrops(img, geoms.astype(dtype=int))\n",
        "    if geoms.ndim == 2 and geoms.shape[1] == 4:\n",
        "        return extract_crops(img, geoms.astype(dtype=int))\n",
        "    raise ValueError(\"Invalid geometry format\")"
      ]
    },
    {
      "cell_type": "code",
      "execution_count": 9,
      "metadata": {
        "id": "Hejcw2vbeYRE"
      },
      "outputs": [],
      "source": [
        "import json\n",
        "import os\n",
        "import shutil\n",
        "from pathlib import Path\n",
        "from typing import Any, Dict, List, Tuple\n",
        "from torchtext.vocab import GloVe\n",
        "from torchtext.data import get_tokenizer\n",
        "\n",
        "import numpy as np\n",
        "\n",
        "from doctr.datasets.datasets.pytorch import VisionDataset\n",
        "from doctr.datasets.utils import convert_target_to_relative\n",
        "\n",
        "__all__ = ['CORD']\n",
        "\n",
        "\n",
        "# TODO: create a documentation for each dataloader especially the json of the output\n",
        "class CORD(VisionDataset):\n",
        "    \"\"\"CORD dataset from `\"CORD: A Consolidated Receipt Dataset forPost-OCR Parsing\"\n",
        "    <https://openreview.net/pdf?id=SJl3z659UH>`_.\n",
        "    .. image:: https://github.com/mindee/doctr/releases/download/v0.5.0/cord-grid.png\n",
        "        :align: center\n",
        "    >>> from doctr.datasets import CORD\n",
        "    >>> train_set = CORD(train=True, download=True)\n",
        "    >>> img, target = train_set[0]\n",
        "    Args:\n",
        "        train: whether the subset should be the training one\n",
        "        use_polygons: whether polygons should be considered as rotated bounding box (instead of straight ones)\n",
        "        **kwargs: keyword arguments from `VisionDataset`.\n",
        "    \"\"\"\n",
        "    TRAIN = ('https://github.com/mindee/doctr/releases/download/v0.1.1/cord_train.zip',\n",
        "             '45f9dc77f126490f3e52d7cb4f70ef3c57e649ea86d19d862a2757c9c455d7f8')\n",
        "\n",
        "    TEST = ('https://github.com/mindee/doctr/releases/download/v0.1.1/cord_test.zip',\n",
        "            '8c895e3d6f7e1161c5b7245e3723ce15c04d84be89eaa6093949b75a66fb3c58')\n",
        "\n",
        "    def __init__(\n",
        "            self,\n",
        "            train: bool = True,\n",
        "            use_polygons: bool = False,\n",
        "            **kwargs: Any,\n",
        "    ) -> None:\n",
        "\n",
        "        url, sha256 = self.TRAIN if train else self.TEST\n",
        "        super().__init__(url, None, sha256, True, pre_transforms=convert_target_to_relative, **kwargs)\n",
        "\n",
        "        # # List images\n",
        "        tmp_root = os.path.join(self.root, 'image')\n",
        "        self.train = train\n",
        "\n",
        "\n",
        "        self.data: List[Tuple[str, Dict[str, Any]]] = []\n",
        "\n",
        "\n",
        "        # model = torch.load('/content/cord_embedding.pt')\n",
        "        # global_vectors = GloVe(name='6B', dim=100)\n",
        "        # tokenizer = get_tokenizer(\"basic_english\")\n",
        "\n",
        "\n",
        "        np_dtype = np.float32\n",
        "        text_unit_list = []\n",
        "        for img_path in os.listdir(tmp_root):\n",
        "            # File existence check\n",
        "            if not os.path.exists(os.path.join(tmp_root, img_path)):\n",
        "                raise FileNotFoundError(f\"unable to locate {os.path.join(tmp_root, img_path)}\")\n",
        "\n",
        "            stem = Path(img_path).stem\n",
        "            _targets = []\n",
        "\n",
        "            with open(os.path.join(self.root, 'json', f\"{stem}.json\"), 'rb') as f:\n",
        "                label = json.load(f)\n",
        "                row_id_dic = {}\n",
        "                for line in label[\"valid_line\"]:\n",
        "                    # text_unit = \"\"\n",
        "\n",
        "                    for word in line[\"words\"]:\n",
        "                        if len(word[\"text\"]) > 0:\n",
        "                            # text_unit += word[\"text\"] + \" \"\n",
        "                            # row_id_dic[word['row_id']] += word[\"text\"] + \" \"\n",
        "                            if word['row_id'] in row_id_dic:\n",
        "                                row_id_dic[word['row_id']] += word[\"text\"].lower() + \" \"\n",
        "                            else:\n",
        "                                row_id_dic[word['row_id']] = word[\"text\"].lower() + \" \"\n",
        "                            x = word[\"quad\"][\"x1\"], word[\"quad\"][\"x2\"], word[\"quad\"][\"x3\"], word[\"quad\"][\"x4\"]\n",
        "                            y = word[\"quad\"][\"y1\"], word[\"quad\"][\"y2\"], word[\"quad\"][\"y3\"], word[\"quad\"][\"y4\"]\n",
        "                            if use_polygons:\n",
        "                                # (x, y) coordinates of top left, top right, bottom right, bottom left corners\n",
        "                                box = np.array([\n",
        "                                    [x[0], y[0]],\n",
        "                                    [x[1], y[1]],\n",
        "                                    [x[2], y[2]],\n",
        "                                    [x[3], y[3]],\n",
        "                                ], dtype=np_dtype)\n",
        "                            else:\n",
        "                                # Reduce 8 coords to 4 -> xmin, ymin, xmax, ymax\n",
        "                                box = [min(x), min(y), max(x), max(y)]\n",
        "                            _targets.append(((word['text'].lower(), line[\"category\"]), box))\n",
        "                            # embedding = model.embeddings.weight[word_to_ix[word['text'].lower()]]\n",
        "                            # try:\n",
        "                            #   embedding = model.weight[word_to_ix[word['text'].lower()]]\n",
        "                            # except KeyError:\n",
        "                            #   embedding = embeddings = global_vectors.get_vecs_by_tokens([word['text'].lower()])\n",
        "                            # _targets.append(((embedding, line[\"category\"]), box))\n",
        "                            # _targets.append(((word['text'].lower(), line[\"category\"]), box))\n",
        "                    # logger.debug(f\"row id dict: {row_id_dic}\")\n",
        "                text_unit_list.append(row_id_dic)\n",
        "\n",
        "            text_targets, box_targets = zip(*_targets)\n",
        "            crops = crop_bboxes_from_image(\n",
        "                    img_path=os.path.join(tmp_root, img_path), geoms=np.asarray(box_targets, dtype=int).clip(min=0)\n",
        "                )\n",
        "            self.data.append((\n",
        "                img_path,\n",
        "                dict(boxes=np.asarray(box_targets, dtype=int).clip(min=0), crops = crops ,labels=list(text_targets))\n",
        "            ))\n",
        "        self.text_units = text_unit_list\n",
        "        self.root = tmp_root\n",
        "\n",
        "    def extra_repr(self) -> str:\n",
        "        return f\"train={self.train}\""
      ]
    },
    {
      "cell_type": "code",
      "execution_count": null,
      "metadata": {
        "id": "ok9-pfm0nOLA",
        "colab": {
          "base_uri": "https://localhost:8080/",
          "height": 87,
          "referenced_widgets": [
            "6adc8a57056d47c9869360013a918c82",
            "ce1a53daa965429ea347b1595519d5ba",
            "e668dcec712d4cf2a7f6e559be2ababd",
            "84db9e31c5e545e584087aca649ff23d",
            "dd7bb5a84cb546b2afd7f837c30f3f36",
            "b395be7d010a4c91b4f5880ca29bf58e",
            "1c7cc4174f4145c1b4e1c6eeae543cad",
            "b50ef6774ed54b94a2a717dbdfe1e73e",
            "ad45498b712c44af9f98c8b166e7065e",
            "0c359487d40042559c6f617fafa76ef9",
            "075da979f1324931925bc8131837a427"
          ]
        },
        "outputId": "2ca806fb-5116-4e0e-cdbc-ac7ce7de53fc"
      },
      "outputs": [
        {
          "output_type": "stream",
          "name": "stdout",
          "text": [
            "Downloading https://github.com/mindee/doctr/releases/download/v0.1.1/cord_train.zip to /root/.cache/doctr/datasets/cord_train.zip\n"
          ]
        },
        {
          "output_type": "display_data",
          "data": {
            "text/plain": [
              "  0%|          | 0/1633132413 [00:00<?, ?it/s]"
            ],
            "application/vnd.jupyter.widget-view+json": {
              "version_major": 2,
              "version_minor": 0,
              "model_id": "6adc8a57056d47c9869360013a918c82"
            }
          },
          "metadata": {}
        }
      ],
      "source": [
        "dataset = CORD(train=True, download=True)\n",
        "\n"
      ]
    },
    {
      "cell_type": "code",
      "source": [
        "dataset.data[0][1][\"labels\"][5]"
      ],
      "metadata": {
        "id": "WufD4cnmozu3"
      },
      "execution_count": null,
      "outputs": []
    },
    {
      "cell_type": "code",
      "source": [
        "dataset.data[0][1][\"labels\"][15]"
      ],
      "metadata": {
        "id": "CxX6q2UVsr-o"
      },
      "execution_count": null,
      "outputs": []
    },
    {
      "cell_type": "code",
      "execution_count": null,
      "metadata": {
        "colab": {
          "base_uri": "https://localhost:8080/",
          "height": 430
        },
        "id": "LngBNTlJyeMa",
        "outputId": "eb54c852-7022-455e-b097-1cd320a4d2ab"
      },
      "outputs": [
        {
          "output_type": "display_data",
          "data": {
            "text/plain": [
              "<Figure size 640x480 with 1 Axes>"
            ],
            "image/png": "[encoded data removed]"
          },
          "metadata": {}
        }
      ],
      "source": [
        "import matplotlib.pyplot as plt\n",
        "plt.imshow(dataset.data[0][1][\"crops\"][1])\n",
        "plt.show()"
      ]
    },
    {
      "cell_type": "code",
      "source": [
        "len(dataset.data)"
      ],
      "metadata": {
        "colab": {
          "base_uri": "https://localhost:8080/"
        },
        "id": "HwhBkMvHxoBe",
        "outputId": "063d6680-27ec-4ff7-a72f-0e295264ba61"
      },
      "execution_count": null,
      "outputs": [
        {
          "output_type": "execute_result",
          "data": {
            "text/plain": [
              "800"
            ]
          },
          "metadata": {},
          "execution_count": 7
        }
      ]
    },
    {
      "cell_type": "code",
      "execution_count": null,
      "metadata": {
        "id": "TA0WRKTT5QpL"
      },
      "outputs": [],
      "source": [
        "test_sentence = [dataset.data[i][1][\"labels\"][j][0] for i in range(len(dataset.data)) for j in range(len(dataset.data[i][1][\"labels\"]))]"
      ]
    },
    {
      "cell_type": "code",
      "source": [
        "len(test_sentence)"
      ],
      "metadata": {
        "colab": {
          "base_uri": "https://localhost:8080/"
        },
        "id": "q5AMFWjnhNyY",
        "outputId": "8fe64917-6f65-4853-c3c5-336077fc0879"
      },
      "execution_count": null,
      "outputs": [
        {
          "output_type": "execute_result",
          "data": {
            "text/plain": [
              "19370"
            ]
          },
          "metadata": {},
          "execution_count": 11
        }
      ]
    },
    {
      "cell_type": "code",
      "source": [
        "# Author: Robert Guthrie\n",
        "\n",
        "import torch\n",
        "import torch.nn as nn\n",
        "import torch.nn.functional as F\n",
        "import torch.optim as optim\n",
        "\n",
        "torch.manual_seed(1)"
      ],
      "metadata": {
        "colab": {
          "base_uri": "https://localhost:8080/"
        },
        "id": "4TBgn59xY1H2",
        "outputId": "8cff467c-2673-406b-a6ab-63892b5dbe39"
      },
      "execution_count": null,
      "outputs": [
        {
          "output_type": "execute_result",
          "data": {
            "text/plain": [
              "<torch._C.Generator at 0x7f35d0a8b730>"
            ]
          },
          "metadata": {},
          "execution_count": 13
        }
      ]
    },
    {
      "cell_type": "code",
      "execution_count": null,
      "metadata": {
        "id": "3RppNYc1-7gp",
        "colab": {
          "base_uri": "https://localhost:8080/"
        },
        "outputId": "5e55ad3a-6c78-4a9e-dad3-5401038ba1db"
      },
      "outputs": [
        {
          "output_type": "stream",
          "name": "stdout",
          "text": [
            "[(['9', 'kupon'], '8,182'), (['8,182', '9'], 'kupon'), (['kupon', '8,182'], '1')]\n",
            "epochs: 0, loss: 147525.7649732679\n",
            "epochs: 1, loss: 134020.00229025632\n",
            "epochs: 2, loss: 126232.6497439444\n",
            "epochs: 3, loss: 120423.40088605136\n",
            "epochs: 4, loss: 115930.25840944797\n",
            "epochs: 5, loss: 112193.267016422\n",
            "epochs: 6, loss: 108833.57612579316\n",
            "epochs: 7, loss: 105661.17124858405\n",
            "epochs: 8, loss: 102583.56508761551\n",
            "epochs: 9, loss: 99546.81386568397\n",
            "epochs: 10, loss: 96520.20740602585\n",
            "epochs: 11, loss: 93485.10138954222\n",
            "epochs: 12, loss: 90437.86383028887\n",
            "epochs: 13, loss: 87376.11923415423\n",
            "epochs: 14, loss: 84306.24976813851\n",
            "epochs: 15, loss: 81228.81072086724\n",
            "epochs: 16, loss: 78148.28703508287\n",
            "epochs: 17, loss: 75077.05377115723\n",
            "epochs: 18, loss: 72024.09192587767\n",
            "epochs: 19, loss: 69001.34178799579\n",
            "epochs: 20, loss: 66016.0419233802\n",
            "epochs: 21, loss: 63080.24110282639\n",
            "epochs: 22, loss: 60201.99913725092\n",
            "epochs: 23, loss: 57387.366835213914\n",
            "epochs: 24, loss: 54644.503529309644\n",
            "epochs: 25, loss: 51979.723064730984\n",
            "epochs: 26, loss: 49400.33043616703\n",
            "epochs: 27, loss: 46916.581005602566\n",
            "epochs: 28, loss: 44540.65180808786\n",
            "epochs: 29, loss: 42280.837700296026\n",
            "epochs: 30, loss: 40151.04417301536\n",
            "epochs: 31, loss: 38163.79488961471\n",
            "epochs: 32, loss: 36324.23991957071\n",
            "epochs: 33, loss: 34635.80748759195\n",
            "epochs: 34, loss: 33097.4899728586\n",
            "epochs: 35, loss: 31703.278524009052\n",
            "epochs: 36, loss: 30443.919526472997\n",
            "epochs: 37, loss: 29307.7386496873\n",
            "epochs: 38, loss: 28287.60903137947\n",
            "epochs: 39, loss: 27363.162971942118\n",
            "epochs: 40, loss: 26527.882492295597\n",
            "epochs: 41, loss: 25769.215240534202\n",
            "epochs: 42, loss: 25078.861446520787\n",
            "epochs: 43, loss: 24447.871323881005\n",
            "epochs: 44, loss: 23870.737846010645\n",
            "epochs: 45, loss: 23339.997836092814\n",
            "epochs: 46, loss: 22850.664794689037\n",
            "epochs: 47, loss: 22397.916936560036\n",
            "epochs: 48, loss: 21979.257215691217\n",
            "epochs: 49, loss: 21589.231410582473\n",
            "[147525.7649732679, 134020.00229025632, 126232.6497439444, 120423.40088605136, 115930.25840944797, 112193.267016422, 108833.57612579316, 105661.17124858405, 102583.56508761551, 99546.81386568397, 96520.20740602585, 93485.10138954222, 90437.86383028887, 87376.11923415423, 84306.24976813851, 81228.81072086724, 78148.28703508287, 75077.05377115723, 72024.09192587767, 69001.34178799579, 66016.0419233802, 63080.24110282639, 60201.99913725092, 57387.366835213914, 54644.503529309644, 51979.723064730984, 49400.33043616703, 46916.581005602566, 44540.65180808786, 42280.837700296026, 40151.04417301536, 38163.79488961471, 36324.23991957071, 34635.80748759195, 33097.4899728586, 31703.278524009052, 30443.919526472997, 29307.7386496873, 28287.60903137947, 27363.162971942118, 26527.882492295597, 25769.215240534202, 25078.861446520787, 24447.871323881005, 23870.737846010645, 23339.997836092814, 22850.664794689037, 22397.916936560036, 21979.257215691217, 21589.231410582473]\n",
            "tensor([ 0.0119, -1.9909,  1.0323, -0.7078, -0.1885, -0.1347,  0.7933, -1.5626,\n",
            "        -0.4240, -1.0867, -1.2796, -0.7574, -0.7364, -0.1454, -0.6819,  2.1418,\n",
            "         0.0200,  0.1414,  0.4575,  3.1584,  0.7920,  0.2920,  1.5123,  0.9940,\n",
            "         0.9261, -1.1969,  0.0894,  0.5564,  1.5167, -1.3881, -0.5880, -1.0745,\n",
            "        -0.0079, -1.0072,  1.2594, -0.2798, -0.9910, -1.1291,  1.6396,  0.6098,\n",
            "        -1.3514,  1.0260,  0.9121,  0.6231, -0.9675,  0.5667, -1.0189, -0.5950,\n",
            "        -1.2501,  0.2097,  0.9403, -1.2517, -1.0637, -0.2020, -2.1416, -0.8237,\n",
            "        -0.2876,  2.0969,  1.9750,  0.7011, -0.0903, -0.3147, -0.9980,  1.9316,\n",
            "        -0.7429,  0.4354, -0.5395, -0.3768,  0.3348,  0.4114, -0.9778,  0.7307,\n",
            "        -0.7845,  0.5068,  1.0036,  1.0185, -1.6836, -0.7783, -0.8248, -0.3585,\n",
            "        -0.9931,  0.5105, -0.1689, -0.4070,  0.3124, -0.6436, -0.5462, -0.3118,\n",
            "         0.9568,  0.6866, -0.5725, -2.5280, -0.1724, -0.5918, -0.2414, -1.7040,\n",
            "         1.1721, -0.3249,  0.2060,  0.1710], grad_fn=<SelectBackward0>)\n"
          ]
        }
      ],
      "source": [
        "CONTEXT_SIZE = 2\n",
        "EMBEDDING_DIM = 100\n",
        "# We will use Shakespeare Sonnet 2\n",
        "test_sentence = [dataset.data[i][1][\"labels\"][j][0] for i in range(len(dataset.data)) for j in range(len(dataset.data[i][1][\"labels\"]))]\n",
        "# we should tokenize the input, but we will ignore that for now\n",
        "# build a list of tuples.\n",
        "# Each tuple is ([ word_i-CONTEXT_SIZE, ..., word_i-1 ], target word)\n",
        "ngrams = [\n",
        "    (\n",
        "        [test_sentence[i - j - 1] for j in range(CONTEXT_SIZE)],\n",
        "        test_sentence[i]\n",
        "    )\n",
        "    for i in range(CONTEXT_SIZE, len(test_sentence))\n",
        "]\n",
        "# Print the first 3, just so you can see what they look like.\n",
        "print(ngrams[:3])\n",
        "\n",
        "vocab = set(test_sentence)\n",
        "word_to_ix = {word: i for i, word in enumerate(vocab)}\n",
        "\n",
        "\n",
        "class NGramLanguageModeler(nn.Module):\n",
        "\n",
        "    def __init__(self, vocab_size, embedding_dim, context_size):\n",
        "        super(NGramLanguageModeler, self).__init__()\n",
        "        self.embeddings = nn.Embedding(vocab_size, embedding_dim)\n",
        "        self.linear1 = nn.Linear(context_size * embedding_dim, 128)\n",
        "        self.linear2 = nn.Linear(128, vocab_size)\n",
        "\n",
        "    def forward(self, inputs):\n",
        "        embeds = self.embeddings(inputs).view((1, -1))\n",
        "        out = F.relu(self.linear1(embeds))\n",
        "        out = self.linear2(out)\n",
        "        log_probs = F.log_softmax(out, dim=1)\n",
        "        return log_probs\n",
        "\n",
        "\n",
        "losses = []\n",
        "loss_function = nn.NLLLoss()\n",
        "model = NGramLanguageModeler(len(vocab), EMBEDDING_DIM, CONTEXT_SIZE)\n",
        "optimizer = optim.SGD(model.parameters(), lr=0.001)\n",
        "\n",
        "for epoch in range(50):\n",
        "    total_loss = 0\n",
        "    for context, target in ngrams:\n",
        "\n",
        "        # Step 1. Prepare the inputs to be passed to the model (i.e, turn the words\n",
        "        # into integer indices and wrap them in tensors)\n",
        "        context_idxs = torch.tensor([word_to_ix[w] for w in context], dtype=torch.long)\n",
        "\n",
        "        # Step 2. Recall that torch *accumulates* gradients. Before passing in a\n",
        "        # new instance, you need to zero out the gradients from the old\n",
        "        # instance\n",
        "        model.zero_grad()\n",
        "\n",
        "        # Step 3. Run the forward pass, getting log probabilities over next\n",
        "        # words\n",
        "        log_probs = model(context_idxs)\n",
        "\n",
        "        # Step 4. Compute your loss function. (Again, Torch wants the target\n",
        "        # word wrapped in a tensor)\n",
        "        loss = loss_function(log_probs, torch.tensor([word_to_ix[target]], dtype=torch.long))\n",
        "\n",
        "        # Step 5. Do the backward pass and update the gradient\n",
        "        loss.backward()\n",
        "        optimizer.step()\n",
        "\n",
        "        # Get the Python number from a 1-element Tensor by calling tensor.item()\n",
        "        total_loss += loss.item()\n",
        "    print(f'epochs: {epoch}, loss: {total_loss}')\n",
        "    losses.append(total_loss)\n",
        "print(losses)  # The loss decreased every iteration over the training data!\n",
        "\n",
        "# To get the embedding of a particular word, e.g. \"beauty\"\n",
        "print(model.embeddings.weight[word_to_ix[\"35.000\"]])\n",
        "torch.save(model.embeddings, \"/content/cord_embedding.pt\")"
      ]
    },
    {
      "cell_type": "code",
      "source": [
        "model.embeddings.weight"
      ],
      "metadata": {
        "colab": {
          "base_uri": "https://localhost:8080/"
        },
        "id": "nPxwhpYXYvvc",
        "outputId": "ca7cdde9-3006-4f66-a147-e79ab909d4bd"
      },
      "execution_count": null,
      "outputs": [
        {
          "output_type": "execute_result",
          "data": {
            "text/plain": [
              "Parameter containing:\n",
              "tensor([[-1.0411,  1.0701,  0.8174,  ...,  0.2639,  0.3720, -0.3693],\n",
              "        [ 0.3026, -0.6482, -1.1100,  ...,  1.0809,  0.1345,  0.2780],\n",
              "        [ 1.3898,  0.8371,  0.2167,  ...,  0.8164, -0.4949,  0.8771],\n",
              "        ...,\n",
              "        [-0.3865, -1.0182,  2.5876,  ..., -0.2733, -0.2047, -0.0950],\n",
              "        [-0.2679, -1.3657, -0.7658,  ..., -0.4955, -1.7007, -0.7512],\n",
              "        [-1.8812, -1.5214,  0.6301,  ...,  0.0595, -0.2884, -1.4445]],\n",
              "       requires_grad=True)"
            ]
          },
          "metadata": {},
          "execution_count": 53
        }
      ]
    },
    {
      "cell_type": "code",
      "source": [
        "import json\n",
        "import torch\n",
        "import os\n",
        "import shutil\n",
        "from pathlib import Path\n",
        "from typing import Any, Dict, List, Tuple\n",
        "from torchtext.vocab import GloVe\n",
        "from torchtext.data import get_tokenizer\n",
        "\n",
        "import numpy as np\n",
        "\n",
        "from doctr.datasets.datasets.pytorch import VisionDataset\n",
        "from doctr.datasets.utils import convert_target_to_relative\n",
        "\n",
        "__all__ = ['CORDEmbed']\n",
        "\n",
        "\n",
        "# TODO: create a documentation for each dataloader especially the json of the output\n",
        "class CORDEmbed(VisionDataset):\n",
        "    \"\"\"CORD dataset from `\"CORD: A Consolidated Receipt Dataset forPost-OCR Parsing\"\n",
        "    <https://openreview.net/pdf?id=SJl3z659UH>`_.\n",
        "    .. image:: https://github.com/mindee/doctr/releases/download/v0.5.0/cord-grid.png\n",
        "        :align: center\n",
        "    >>> from doctr.datasets import CORD\n",
        "    >>> train_set = CORD(train=True, download=True)\n",
        "    >>> img, target = train_set[0]\n",
        "    Args:\n",
        "        train: whether the subset should be the training one\n",
        "        use_polygons: whether polygons should be considered as rotated bounding box (instead of straight ones)\n",
        "        **kwargs: keyword arguments from `VisionDataset`.\n",
        "    \"\"\"\n",
        "    TRAIN = ('https://github.com/mindee/doctr/releases/download/v0.1.1/cord_train.zip',\n",
        "             '45f9dc77f126490f3e52d7cb4f70ef3c57e649ea86d19d862a2757c9c455d7f8')\n",
        "\n",
        "    TEST = ('https://github.com/mindee/doctr/releases/download/v0.1.1/cord_test.zip',\n",
        "            '8c895e3d6f7e1161c5b7245e3723ce15c04d84be89eaa6093949b75a66fb3c58')\n",
        "\n",
        "    def __init__(\n",
        "            self,\n",
        "            train: bool = True,\n",
        "            use_polygons: bool = False,\n",
        "            **kwargs: Any,\n",
        "    ) -> None:\n",
        "\n",
        "        url, sha256 = self.TRAIN if train else self.TEST\n",
        "        super().__init__(url, None, sha256, True, pre_transforms=convert_target_to_relative, **kwargs)\n",
        "\n",
        "        # # List images\n",
        "        tmp_root = os.path.join(self.root, 'image')\n",
        "        self.train = train\n",
        "\n",
        "\n",
        "        self.data: List[Tuple[str, Dict[str, Any]]] = []\n",
        "        dataset = CORD(train=True, download=True)\n",
        "        CONTEXT_SIZE = 2\n",
        "        EMBEDDING_DIM = 100\n",
        "        # We will use Shakespeare Sonnet 2\n",
        "        test_sentence = [dataset.data[i][1][\"labels\"][j][0] for i in range(len(dataset.data)) for j in range(len(dataset.data[i][1][\"labels\"]))]\n",
        "        # we should tokenize the input, but we will ignore that for now\n",
        "        # build a list of tuples.\n",
        "        # Each tuple is ([ word_i-CONTEXT_SIZE, ..., word_i-1 ], target word)\n",
        "        ngrams = [\n",
        "            (\n",
        "                [test_sentence[i - j - 1] for j in range(CONTEXT_SIZE)],\n",
        "                test_sentence[i]\n",
        "            )\n",
        "            for i in range(CONTEXT_SIZE, len(test_sentence))\n",
        "        ]\n",
        "        # Print the first 3, just so you can see what they look like.\n",
        "        # print(ngrams[:3])\n",
        "\n",
        "        vocab = set(test_sentence)\n",
        "        word_to_ix = {word: i for i, word in enumerate(vocab)}\n",
        "\n",
        "        model = torch.load('/content/cord_embedding.pt')\n",
        "        global_vectors = GloVe(name='6B', dim=100)\n",
        "        tokenizer = get_tokenizer(\"basic_english\")\n",
        "\n",
        "\n",
        "        np_dtype = np.float32\n",
        "        text_unit_list = []\n",
        "        for img_path in os.listdir(tmp_root):\n",
        "            # File existence check\n",
        "            if not os.path.exists(os.path.join(tmp_root, img_path)):\n",
        "                raise FileNotFoundError(f\"unable to locate {os.path.join(tmp_root, img_path)}\")\n",
        "\n",
        "            stem = Path(img_path).stem\n",
        "            _targets = []\n",
        "\n",
        "            with open(os.path.join(self.root, 'json', f\"{stem}.json\"), 'rb') as f:\n",
        "                label = json.load(f)\n",
        "                row_id_dic = {}\n",
        "                for line in label[\"valid_line\"]:\n",
        "                    # text_unit = \"\"\n",
        "\n",
        "                    for word in line[\"words\"]:\n",
        "                        if len(word[\"text\"]) > 0:\n",
        "                            # text_unit += word[\"text\"] + \" \"\n",
        "                            # row_id_dic[word['row_id']] += word[\"text\"] + \" \"\n",
        "                            if word['row_id'] in row_id_dic:\n",
        "                                row_id_dic[word['row_id']] += word[\"text\"].lower() + \" \"\n",
        "                            else:\n",
        "                                row_id_dic[word['row_id']] = word[\"text\"].lower() + \" \"\n",
        "                            x = word[\"quad\"][\"x1\"], word[\"quad\"][\"x2\"], word[\"quad\"][\"x3\"], word[\"quad\"][\"x4\"]\n",
        "                            y = word[\"quad\"][\"y1\"], word[\"quad\"][\"y2\"], word[\"quad\"][\"y3\"], word[\"quad\"][\"y4\"]\n",
        "                            if use_polygons:\n",
        "                                # (x, y) coordinates of top left, top right, bottom right, bottom left corners\n",
        "                                box = np.array([\n",
        "                                    [x[0], y[0]],\n",
        "                                    [x[1], y[1]],\n",
        "                                    [x[2], y[2]],\n",
        "                                    [x[3], y[3]],\n",
        "                                ], dtype=np_dtype)\n",
        "                            else:\n",
        "                                # Reduce 8 coords to 4 -> xmin, ymin, xmax, ymax\n",
        "                                box = [min(x), min(y), max(x), max(y)]\n",
        "                            # _targets.append(((word['text'].lower(), line[\"category\"]), box))\n",
        "                            # ## embedding = model.embeddings.weight[word_to_ix[word['text'].lower()]]\n",
        "                            try:\n",
        "                              embedding = model.weight[word_to_ix[word['text'].lower()]]\n",
        "                            except KeyError:\n",
        "                              embedding = embeddings = global_vectors.get_vecs_by_tokens([word['text'].lower()])\n",
        "                            _targets.append(((embedding, line[\"category\"]), box))\n",
        "                            # _targets.append(((word['text'].lower(), line[\"category\"]), box))\n",
        "                    # logger.debug(f\"row id dict: {row_id_dic}\")\n",
        "                text_unit_list.append(row_id_dic)\n",
        "\n",
        "            text_targets, box_targets = zip(*_targets)\n",
        "            crops = crop_bboxes_from_image(\n",
        "                    img_path=os.path.join(tmp_root, img_path), geoms=np.asarray(box_targets, dtype=int).clip(min=0)\n",
        "                )\n",
        "            self.data.append((\n",
        "                img_path,\n",
        "                dict(boxes=np.asarray(box_targets, dtype=int).clip(min=0), crops = crops ,labels=list(text_targets))\n",
        "            ))\n",
        "        self.text_units = text_unit_list\n",
        "        self.root = tmp_root\n",
        "\n",
        "    def extra_repr(self) -> str:\n",
        "        return f\"train={self.train}\""
      ],
      "metadata": {
        "id": "xGCcjjH1ErTW"
      },
      "execution_count": 10,
      "outputs": []
    },
    {
      "cell_type": "code",
      "source": [
        "dataset = CORDEmbed(train=True, download=True)"
      ],
      "metadata": {
        "id": "-9guN2cjEzBv",
        "colab": {
          "base_uri": "https://localhost:8080/"
        },
        "outputId": "a4dbbd77-0f45-40d8-b241-a7731730c51d"
      },
      "execution_count": 11,
      "outputs": [
        {
          "output_type": "stream",
          "name": "stdout",
          "text": [
            "[(['52.636', 'dpp'], 'isi'), (['isi', '52.636'], 'campur'), (['campur', 'isi'], '1')]\n"
          ]
        }
      ]
    },
    {
      "cell_type": "code",
      "source": [
        "len(dataset.data)"
      ],
      "metadata": {
        "id": "kAzsM9ShE5H0",
        "colab": {
          "base_uri": "https://localhost:8080/"
        },
        "outputId": "c91aa871-71d8-46f9-f634-d374ce3321c3"
      },
      "execution_count": 12,
      "outputs": [
        {
          "output_type": "execute_result",
          "data": {
            "text/plain": [
              "800"
            ]
          },
          "metadata": {},
          "execution_count": 12
        }
      ]
    },
    {
      "cell_type": "code",
      "source": [
        "dataset.data[0][1][\"labels\"][5][1]"
      ],
      "metadata": {
        "colab": {
          "base_uri": "https://localhost:8080/",
          "height": 35
        },
        "id": "6l-ESbZY9mSl",
        "outputId": "7575d1e2-452a-48c6-e2d2-5be4b31cad89"
      },
      "execution_count": 16,
      "outputs": [
        {
          "output_type": "execute_result",
          "data": {
            "text/plain": [
              "'menu.unitprice'"
            ],
            "application/vnd.google.colaboratory.intrinsic+json": {
              "type": "string"
            }
          },
          "metadata": {},
          "execution_count": 16
        }
      ]
    },
    {
      "cell_type": "code",
      "source": [
        "\n",
        "import matplotlib.pyplot as plt\n",
        "plt.imshow(dataset.data[0][1][\"crops\"][5])\n",
        "plt.show()"
      ],
      "metadata": {
        "colab": {
          "base_uri": "https://localhost:8080/",
          "height": 232
        },
        "id": "mDpRf3dbD_SO",
        "outputId": "fac979b5-9caa-4d50-ebce-5bbe4d1c7c8b"
      },
      "execution_count": 18,
      "outputs": [
        {
          "output_type": "display_data",
          "data": {
            "text/plain": [
              "<Figure size 640x480 with 1 Axes>"
            ],
            "image/png": "[encoded data removed]"
          },
          "metadata": {}
        }
      ]
    },
    {
      "cell_type": "code",
      "source": [
        "import os\n",
        "import pandas as pd\n",
        "from torchvision.io import read_image\n",
        "import torch\n",
        "from torch.utils.data import Dataset\n",
        "from torchvision import datasets\n",
        "from torchvision.transforms import ToTensor\n",
        "\n",
        "\n",
        "class CORDTORCH(Dataset):\n",
        "    def __init__(self, train=True):\n",
        "        dataset = CORDEmbed(train=train, download=True)\n",
        "        self.img_labels = [dataset.data[i][1][\"labels\"][j][1] for i in range(len(dataset.data)) for j in range(len(dataset.data[i][1][\"labels\"]))]\n",
        "        self.images = [dataset.data[i][1][\"crops\"][j] for i in range(len(dataset.data)) for j in range(len(dataset.data[i][1][\"labels\"]))]\n",
        "        self.word_tensors = [dataset.data[i][1][\"labels\"][j][0] for i in range(len(dataset.data)) for j in range(len(dataset.data[i][1][\"labels\"]))]\n",
        "        # self.img_dir = img_dir\n",
        "        # self.transform = transform\n",
        "        # self.target_transform = target_transform\n",
        "\n",
        "    def __len__(self):\n",
        "        print(len(self.img_labels), len(self.images), len(self.word_tensors))\n",
        "        return len(self.img_labels)\n",
        "\n",
        "    def __getitem__(self, idx):\n",
        "        # img_path = os.path.join(self.img_dir, self.img_labels.iloc[idx, 0])\n",
        "        image = self.images[idx]\n",
        "        transform = transforms.Compose([\n",
        "            ToTensor()\n",
        "        ])\n",
        "        image = transform(image)\n",
        "        print(\"image.shape\")\n",
        "        print(image.shape)\n",
        "        word_embed = self.word_tensors[idx]\n",
        "        label = self.img_labels[idx]\n",
        "        print(\"THE LEEEEEEEEEEEEEEEEEEEEEEBELLLLLLLLLLLLL\")\n",
        "        print(label)\n",
        "        return image, word_embed,label"
      ],
      "metadata": {
        "id": "zZUMyQNMqN88"
      },
      "execution_count": 92,
      "outputs": []
    },
    {
      "cell_type": "code",
      "source": [
        "cordTorch_train = CORDTORCH()\n",
        "cordTorch_test = CORDTORCH(train=False)"
      ],
      "metadata": {
        "colab": {
          "base_uri": "https://localhost:8080/"
        },
        "id": "RzjlDLyKE5ne",
        "outputId": "7d9dfc4c-196b-4791-da7d-0546e5349b60"
      },
      "execution_count": 93,
      "outputs": [
        {
          "output_type": "stream",
          "name": "stdout",
          "text": [
            "[(['52.636', 'dpp'], 'isi'), (['isi', '52.636'], 'campur'), (['campur', 'isi'], '1')]\n",
            "[(['52.636', 'dpp'], 'isi'), (['isi', '52.636'], 'campur'), (['campur', 'isi'], '1')]\n"
          ]
        }
      ]
    },
    {
      "cell_type": "code",
      "source": [
        "len(cordTorch_test)"
      ],
      "metadata": {
        "colab": {
          "base_uri": "https://localhost:8080/"
        },
        "id": "FC4FZV-vGW4q",
        "outputId": "fb39bbb7-dd4a-4579-ec2a-abb03a892c4a"
      },
      "execution_count": 41,
      "outputs": [
        {
          "output_type": "stream",
          "name": "stdout",
          "text": [
            "2186 2186 2186\n"
          ]
        },
        {
          "output_type": "execute_result",
          "data": {
            "text/plain": [
              "2186"
            ]
          },
          "metadata": {},
          "execution_count": 41
        }
      ]
    },
    {
      "cell_type": "code",
      "source": [
        "import torch\n",
        "import torchvision\n",
        "import torchvision.transforms as transforms"
      ],
      "metadata": {
        "id": "hppe2xWmTZnU"
      },
      "execution_count": 42,
      "outputs": []
    },
    {
      "cell_type": "code",
      "source": [
        "# transform = transforms.Compose(\n",
        "#     [transforms.ToTensor(),\n",
        "#      transforms.Normalize((0.5, 0.5, 0.5), (0.5, 0.5, 0.5))])\n",
        "\n",
        "batch_size = 1\n",
        "\n",
        "# trainset = torchvision.datasets.CIFAR10(root='./data', train=True,\n",
        "#                                         download=True, transform=transform)\n",
        "trainloader = torch.utils.data.DataLoader(cordTorch_train, batch_size=batch_size,\n",
        "                                          shuffle=True, num_workers=0)\n",
        "\n",
        "# testset = torchvision.datasets.CIFAR10(root='./data', train=False,\n",
        "#                                        download=True, transform=transform)\n",
        "testloader = torch.utils.data.DataLoader(cordTorch_test, batch_size=batch_size,\n",
        "                                         shuffle=False, num_workers=0)\n",
        "\n",
        "classes = ('menu.sub_cnt',\n",
        "                       'sub_total.othersvc_price',\n",
        "                       'total.total_price',\n",
        "                       'menu.etc',\n",
        "                       'sub_total.discount_price',\n",
        "                       'menu.unitprice',\n",
        "                       'menu.discountprice',\n",
        "                       'void_menu.price',\n",
        "                       'menu.nm',\n",
        "                       'total.menutype_cnt',\n",
        "                       'sub_total.subtotal_price',\n",
        "                       'menu.sub_nm',\n",
        "                       'void_menu.nm',\n",
        "                       'menu.sub_unitprice',\n",
        "                       'menu.sub_etc',\n",
        "                       'menu.cnt',\n",
        "                       'menu.vatyn',\n",
        "                       'total.total_etc',\n",
        "                       'total.menuqty_cnt',\n",
        "                       'total.cashprice',\n",
        "                       'menu.num',\n",
        "                       'total.changeprice',\n",
        "                       'sub_total.tax_price',\n",
        "                       'sub_total.etc',\n",
        "                       'menu.price',\n",
        "                       'total.creditcardprice',\n",
        "                       'total.emoneyprice',\n",
        "                       'sub_total.service_price',\n",
        "                       'menu.itemsubtotal',\n",
        "                       'menu.sub_price')"
      ],
      "metadata": {
        "colab": {
          "base_uri": "https://localhost:8080/"
        },
        "id": "-p4N5-yCTZj2",
        "outputId": "941c3533-1224-4da0-b866-e7afa248b3df"
      },
      "execution_count": 85,
      "outputs": [
        {
          "output_type": "stream",
          "name": "stdout",
          "text": [
            "19370 19370 19370\n",
            "19370 19370 19370\n"
          ]
        }
      ]
    },
    {
      "cell_type": "code",
      "source": [
        "import torch.nn as nn\n",
        "import torch.nn.functional as F\n",
        "from torch import Tensor, is_tensor, from_numpy\n",
        "\n",
        "\n",
        "class Net(nn.Module):\n",
        "    def __init__(self, embed_size):\n",
        "        super().__init__()\n",
        "        self.cnn = nn.Sequential(\n",
        "            nn.Conv2d(3, 8, 3, stride=2, padding=1),\n",
        "            nn.ReLU(True),\n",
        "            nn.Conv2d(8, 16, 3, stride=2, padding=1),\n",
        "            nn.BatchNorm2d(16),\n",
        "            nn.ReLU(True),\n",
        "            nn.Conv2d(16, 32, 2, stride=2, padding=1),\n",
        "            nn.ReLU(True)\n",
        "        )\n",
        "\n",
        "        self.flatten = nn.Flatten(start_dim=1)\n",
        "        self.linear = nn.Sequential(\n",
        "            nn.LazyLinear(100),\n",
        "            # nn.ReLU(True),\n",
        "            # nn.Linear(128, embed_size)\n",
        "        )\n",
        "\n",
        "    def forward(self, images, word_embed):\n",
        "        if not is_tensor(images):\n",
        "            images = from_numpy(images)\n",
        "        print(\"images.shape\")\n",
        "        print(images.shape)\n",
        "        print(\"word_embed.shape\")\n",
        "        print(word_embed.shape)\n",
        "        print(\"x.type\")\n",
        "        print(type(images))\n",
        "        print(\"word_embed.type\")\n",
        "        print(type(word_embed))\n",
        "        images = self.cnn(images)\n",
        "        images = self.flatten(images)\n",
        "        images = self.linear(images)\n",
        "        print(\"images.shape1\")\n",
        "        print(images.shape)\n",
        "        print(\"word_embed.shape1\")\n",
        "        print(word_embed.shape)\n",
        "        print(\"x.type1\")\n",
        "        print(type(images))\n",
        "        print(\"word_embed.type1\")\n",
        "        print(type(word_embed))\n",
        "        # x = self.fc3(x)\n",
        "        return images\n",
        "\n",
        "\n",
        "net = Net(100)"
      ],
      "metadata": {
        "id": "MlKO6RqUTeTw",
        "colab": {
          "base_uri": "https://localhost:8080/"
        },
        "outputId": "0f4829ed-4406-42f6-886d-90e78b8fa72d"
      },
      "execution_count": 96,
      "outputs": [
        {
          "output_type": "stream",
          "name": "stderr",
          "text": [
            "/usr/local/lib/python3.9/dist-packages/torch/nn/modules/lazy.py:180: UserWarning: Lazy modules are a new feature under heavy development so changes to the API or functionality can happen at any moment.\n",
            "  warnings.warn('Lazy modules are a new feature under heavy development '\n"
          ]
        }
      ]
    },
    {
      "cell_type": "code",
      "source": [
        "import torch.optim as optim\n",
        "\n",
        "criterion = nn.CrossEntropyLoss()\n",
        "optimizer = optim.SGD(net.parameters(), lr=0.001, momentum=0.9)"
      ],
      "metadata": {
        "id": "U0cjw5nDTllQ"
      },
      "execution_count": 97,
      "outputs": []
    },
    {
      "cell_type": "code",
      "source": [
        "for epoch in range(1):  # loop over the dataset multiple times\n",
        "\n",
        "    running_loss = 0.0\n",
        "    for i, data in enumerate(trainloader, 0):\n",
        "        # get the inputs; data is a list of [inputs, labels]\n",
        "        inputs, word_embed, labels = data\n",
        "        print(\"booooooooooooooooooooooooooooooooooooob\")\n",
        "        print(labels)\n",
        "        # zero the parameter gradients\n",
        "        optimizer.zero_grad()\n",
        "\n",
        "        # forward + backward + optimize\n",
        "        outputs = net(inputs, word_embed)\n",
        "        loss = criterion(outputs, labels)\n",
        "        loss.backward()\n",
        "        optimizer.step()\n",
        "\n",
        "        # print statistics\n",
        "        running_loss += loss.item()\n",
        "        if i % 2000 == 1999:    # print every 2000 mini-batches\n",
        "            print(f'[{epoch + 1}, {i + 1:5d}] loss: {running_loss / 2000:.3f}')\n",
        "            running_loss = 0.0\n",
        "\n",
        "print('Finished Training')"
      ],
      "metadata": {
        "colab": {
          "base_uri": "https://localhost:8080/",
          "height": 654
        },
        "id": "eXr3w1BETnfG",
        "outputId": "5b7c3dfc-c9e4-4a01-cca1-90692f7356df"
      },
      "execution_count": 99,
      "outputs": [
        {
          "output_type": "stream",
          "name": "stdout",
          "text": [
            "19370 19370 19370\n",
            "19370 19370 19370\n",
            "image.shape\n",
            "torch.Size([3, 16, 10])\n",
            "booooooooooooooooooooooooooooooooooooob\n",
            "('menu.price',)\n",
            "images.shape\n",
            "torch.Size([1, 3, 16, 10])\n",
            "word_embed.shape\n",
            "torch.Size([1, 100])\n",
            "x.type\n",
            "<class 'torch.Tensor'>\n",
            "word_embed.type\n",
            "<class 'torch.Tensor'>\n"
          ]
        },
        {
          "output_type": "error",
          "ename": "RuntimeError",
          "evalue": "ignored",
          "traceback": [
            "\u001b[0;31m---------------------------------------------------------------------------\u001b[0m",
            "\u001b[0;31mRuntimeError\u001b[0m                              Traceback (most recent call last)",
            "\u001b[0;32m<ipython-input-99-9a71677b0d77>\u001b[0m in \u001b[0;36m<cell line: 1>\u001b[0;34m()\u001b[0m\n\u001b[1;32m     11\u001b[0m \u001b[0;34m\u001b[0m\u001b[0m\n\u001b[1;32m     12\u001b[0m         \u001b[0;31m# forward + backward + optimize\u001b[0m\u001b[0;34m\u001b[0m\u001b[0;34m\u001b[0m\u001b[0m\n\u001b[0;32m---> 13\u001b[0;31m         \u001b[0moutputs\u001b[0m \u001b[0;34m=\u001b[0m \u001b[0mnet\u001b[0m\u001b[0;34m(\u001b[0m\u001b[0minputs\u001b[0m\u001b[0;34m,\u001b[0m \u001b[0mword_embed\u001b[0m\u001b[0;34m)\u001b[0m\u001b[0;34m\u001b[0m\u001b[0;34m\u001b[0m\u001b[0m\n\u001b[0m\u001b[1;32m     14\u001b[0m         \u001b[0mloss\u001b[0m \u001b[0;34m=\u001b[0m \u001b[0mcriterion\u001b[0m\u001b[0;34m(\u001b[0m\u001b[0moutputs\u001b[0m\u001b[0;34m,\u001b[0m \u001b[0mlabels\u001b[0m\u001b[0;34m)\u001b[0m\u001b[0;34m\u001b[0m\u001b[0;34m\u001b[0m\u001b[0m\n\u001b[1;32m     15\u001b[0m         \u001b[0mloss\u001b[0m\u001b[0;34m.\u001b[0m\u001b[0mbackward\u001b[0m\u001b[0;34m(\u001b[0m\u001b[0;34m)\u001b[0m\u001b[0;34m\u001b[0m\u001b[0;34m\u001b[0m\u001b[0m\n",
            "\u001b[0;32m/usr/local/lib/python3.9/dist-packages/torch/nn/modules/module.py\u001b[0m in \u001b[0;36m_call_impl\u001b[0;34m(self, *args, **kwargs)\u001b[0m\n\u001b[1;32m   1499\u001b[0m                 \u001b[0;32mor\u001b[0m \u001b[0m_global_backward_pre_hooks\u001b[0m \u001b[0;32mor\u001b[0m \u001b[0m_global_backward_hooks\u001b[0m\u001b[0;34m\u001b[0m\u001b[0;34m\u001b[0m\u001b[0m\n\u001b[1;32m   1500\u001b[0m                 or _global_forward_hooks or _global_forward_pre_hooks):\n\u001b[0;32m-> 1501\u001b[0;31m             \u001b[0;32mreturn\u001b[0m \u001b[0mforward_call\u001b[0m\u001b[0;34m(\u001b[0m\u001b[0;34m*\u001b[0m\u001b[0margs\u001b[0m\u001b[0;34m,\u001b[0m \u001b[0;34m**\u001b[0m\u001b[0mkwargs\u001b[0m\u001b[0;34m)\u001b[0m\u001b[0;34m\u001b[0m\u001b[0;34m\u001b[0m\u001b[0m\n\u001b[0m\u001b[1;32m   1502\u001b[0m         \u001b[0;31m# Do not call functions when jit is used\u001b[0m\u001b[0;34m\u001b[0m\u001b[0;34m\u001b[0m\u001b[0m\n\u001b[1;32m   1503\u001b[0m         \u001b[0mfull_backward_hooks\u001b[0m\u001b[0;34m,\u001b[0m \u001b[0mnon_full_backward_hooks\u001b[0m \u001b[0;34m=\u001b[0m \u001b[0;34m[\u001b[0m\u001b[0;34m]\u001b[0m\u001b[0;34m,\u001b[0m \u001b[0;34m[\u001b[0m\u001b[0;34m]\u001b[0m\u001b[0;34m\u001b[0m\u001b[0;34m\u001b[0m\u001b[0m\n",
            "\u001b[0;32m<ipython-input-96-a205bf9df659>\u001b[0m in \u001b[0;36mforward\u001b[0;34m(self, images, word_embed)\u001b[0m\n\u001b[1;32m     37\u001b[0m         \u001b[0mimages\u001b[0m \u001b[0;34m=\u001b[0m \u001b[0mself\u001b[0m\u001b[0;34m.\u001b[0m\u001b[0mcnn\u001b[0m\u001b[0;34m(\u001b[0m\u001b[0mimages\u001b[0m\u001b[0;34m)\u001b[0m\u001b[0;34m\u001b[0m\u001b[0;34m\u001b[0m\u001b[0m\n\u001b[1;32m     38\u001b[0m         \u001b[0mimages\u001b[0m \u001b[0;34m=\u001b[0m \u001b[0mself\u001b[0m\u001b[0;34m.\u001b[0m\u001b[0mflatten\u001b[0m\u001b[0;34m(\u001b[0m\u001b[0mimages\u001b[0m\u001b[0;34m)\u001b[0m\u001b[0;34m\u001b[0m\u001b[0;34m\u001b[0m\u001b[0m\n\u001b[0;32m---> 39\u001b[0;31m         \u001b[0mimages\u001b[0m \u001b[0;34m=\u001b[0m \u001b[0mself\u001b[0m\u001b[0;34m.\u001b[0m\u001b[0mlinear\u001b[0m\u001b[0;34m(\u001b[0m\u001b[0mimages\u001b[0m\u001b[0;34m)\u001b[0m\u001b[0;34m\u001b[0m\u001b[0;34m\u001b[0m\u001b[0m\n\u001b[0m\u001b[1;32m     40\u001b[0m         \u001b[0mprint\u001b[0m\u001b[0;34m(\u001b[0m\u001b[0;34m\"images.shape1\"\u001b[0m\u001b[0;34m)\u001b[0m\u001b[0;34m\u001b[0m\u001b[0;34m\u001b[0m\u001b[0m\n\u001b[1;32m     41\u001b[0m         \u001b[0mprint\u001b[0m\u001b[0;34m(\u001b[0m\u001b[0mimages\u001b[0m\u001b[0;34m.\u001b[0m\u001b[0mshape\u001b[0m\u001b[0;34m)\u001b[0m\u001b[0;34m\u001b[0m\u001b[0;34m\u001b[0m\u001b[0m\n",
            "\u001b[0;32m/usr/local/lib/python3.9/dist-packages/torch/nn/modules/module.py\u001b[0m in \u001b[0;36m_call_impl\u001b[0;34m(self, *args, **kwargs)\u001b[0m\n\u001b[1;32m   1499\u001b[0m                 \u001b[0;32mor\u001b[0m \u001b[0m_global_backward_pre_hooks\u001b[0m \u001b[0;32mor\u001b[0m \u001b[0m_global_backward_hooks\u001b[0m\u001b[0;34m\u001b[0m\u001b[0;34m\u001b[0m\u001b[0m\n\u001b[1;32m   1500\u001b[0m                 or _global_forward_hooks or _global_forward_pre_hooks):\n\u001b[0;32m-> 1501\u001b[0;31m             \u001b[0;32mreturn\u001b[0m \u001b[0mforward_call\u001b[0m\u001b[0;34m(\u001b[0m\u001b[0;34m*\u001b[0m\u001b[0margs\u001b[0m\u001b[0;34m,\u001b[0m \u001b[0;34m**\u001b[0m\u001b[0mkwargs\u001b[0m\u001b[0;34m)\u001b[0m\u001b[0;34m\u001b[0m\u001b[0;34m\u001b[0m\u001b[0m\n\u001b[0m\u001b[1;32m   1502\u001b[0m         \u001b[0;31m# Do not call functions when jit is used\u001b[0m\u001b[0;34m\u001b[0m\u001b[0;34m\u001b[0m\u001b[0m\n\u001b[1;32m   1503\u001b[0m         \u001b[0mfull_backward_hooks\u001b[0m\u001b[0;34m,\u001b[0m \u001b[0mnon_full_backward_hooks\u001b[0m \u001b[0;34m=\u001b[0m \u001b[0;34m[\u001b[0m\u001b[0;34m]\u001b[0m\u001b[0;34m,\u001b[0m \u001b[0;34m[\u001b[0m\u001b[0;34m]\u001b[0m\u001b[0;34m\u001b[0m\u001b[0;34m\u001b[0m\u001b[0m\n",
            "\u001b[0;32m/usr/local/lib/python3.9/dist-packages/torch/nn/modules/container.py\u001b[0m in \u001b[0;36mforward\u001b[0;34m(self, input)\u001b[0m\n\u001b[1;32m    215\u001b[0m     \u001b[0;32mdef\u001b[0m \u001b[0mforward\u001b[0m\u001b[0;34m(\u001b[0m\u001b[0mself\u001b[0m\u001b[0;34m,\u001b[0m \u001b[0minput\u001b[0m\u001b[0;34m)\u001b[0m\u001b[0;34m:\u001b[0m\u001b[0;34m\u001b[0m\u001b[0;34m\u001b[0m\u001b[0m\n\u001b[1;32m    216\u001b[0m         \u001b[0;32mfor\u001b[0m \u001b[0mmodule\u001b[0m \u001b[0;32min\u001b[0m \u001b[0mself\u001b[0m\u001b[0;34m:\u001b[0m\u001b[0;34m\u001b[0m\u001b[0;34m\u001b[0m\u001b[0m\n\u001b[0;32m--> 217\u001b[0;31m             \u001b[0minput\u001b[0m \u001b[0;34m=\u001b[0m \u001b[0mmodule\u001b[0m\u001b[0;34m(\u001b[0m\u001b[0minput\u001b[0m\u001b[0;34m)\u001b[0m\u001b[0;34m\u001b[0m\u001b[0;34m\u001b[0m\u001b[0m\n\u001b[0m\u001b[1;32m    218\u001b[0m         \u001b[0;32mreturn\u001b[0m \u001b[0minput\u001b[0m\u001b[0;34m\u001b[0m\u001b[0;34m\u001b[0m\u001b[0m\n\u001b[1;32m    219\u001b[0m \u001b[0;34m\u001b[0m\u001b[0m\n",
            "\u001b[0;32m/usr/local/lib/python3.9/dist-packages/torch/nn/modules/module.py\u001b[0m in \u001b[0;36m_call_impl\u001b[0;34m(self, *args, **kwargs)\u001b[0m\n\u001b[1;32m   1499\u001b[0m                 \u001b[0;32mor\u001b[0m \u001b[0m_global_backward_pre_hooks\u001b[0m \u001b[0;32mor\u001b[0m \u001b[0m_global_backward_hooks\u001b[0m\u001b[0;34m\u001b[0m\u001b[0;34m\u001b[0m\u001b[0m\n\u001b[1;32m   1500\u001b[0m                 or _global_forward_hooks or _global_forward_pre_hooks):\n\u001b[0;32m-> 1501\u001b[0;31m             \u001b[0;32mreturn\u001b[0m \u001b[0mforward_call\u001b[0m\u001b[0;34m(\u001b[0m\u001b[0;34m*\u001b[0m\u001b[0margs\u001b[0m\u001b[0;34m,\u001b[0m \u001b[0;34m**\u001b[0m\u001b[0mkwargs\u001b[0m\u001b[0;34m)\u001b[0m\u001b[0;34m\u001b[0m\u001b[0;34m\u001b[0m\u001b[0m\n\u001b[0m\u001b[1;32m   1502\u001b[0m         \u001b[0;31m# Do not call functions when jit is used\u001b[0m\u001b[0;34m\u001b[0m\u001b[0;34m\u001b[0m\u001b[0m\n\u001b[1;32m   1503\u001b[0m         \u001b[0mfull_backward_hooks\u001b[0m\u001b[0;34m,\u001b[0m \u001b[0mnon_full_backward_hooks\u001b[0m \u001b[0;34m=\u001b[0m \u001b[0;34m[\u001b[0m\u001b[0;34m]\u001b[0m\u001b[0;34m,\u001b[0m \u001b[0;34m[\u001b[0m\u001b[0;34m]\u001b[0m\u001b[0;34m\u001b[0m\u001b[0;34m\u001b[0m\u001b[0m\n",
            "\u001b[0;32m/usr/local/lib/python3.9/dist-packages/torch/nn/modules/linear.py\u001b[0m in \u001b[0;36mforward\u001b[0;34m(self, input)\u001b[0m\n\u001b[1;32m    112\u001b[0m \u001b[0;34m\u001b[0m\u001b[0m\n\u001b[1;32m    113\u001b[0m     \u001b[0;32mdef\u001b[0m \u001b[0mforward\u001b[0m\u001b[0;34m(\u001b[0m\u001b[0mself\u001b[0m\u001b[0;34m,\u001b[0m \u001b[0minput\u001b[0m\u001b[0;34m:\u001b[0m \u001b[0mTensor\u001b[0m\u001b[0;34m)\u001b[0m \u001b[0;34m->\u001b[0m \u001b[0mTensor\u001b[0m\u001b[0;34m:\u001b[0m\u001b[0;34m\u001b[0m\u001b[0;34m\u001b[0m\u001b[0m\n\u001b[0;32m--> 114\u001b[0;31m         \u001b[0;32mreturn\u001b[0m \u001b[0mF\u001b[0m\u001b[0;34m.\u001b[0m\u001b[0mlinear\u001b[0m\u001b[0;34m(\u001b[0m\u001b[0minput\u001b[0m\u001b[0;34m,\u001b[0m \u001b[0mself\u001b[0m\u001b[0;34m.\u001b[0m\u001b[0mweight\u001b[0m\u001b[0;34m,\u001b[0m \u001b[0mself\u001b[0m\u001b[0;34m.\u001b[0m\u001b[0mbias\u001b[0m\u001b[0;34m)\u001b[0m\u001b[0;34m\u001b[0m\u001b[0;34m\u001b[0m\u001b[0m\n\u001b[0m\u001b[1;32m    115\u001b[0m \u001b[0;34m\u001b[0m\u001b[0m\n\u001b[1;32m    116\u001b[0m     \u001b[0;32mdef\u001b[0m \u001b[0mextra_repr\u001b[0m\u001b[0;34m(\u001b[0m\u001b[0mself\u001b[0m\u001b[0;34m)\u001b[0m \u001b[0;34m->\u001b[0m \u001b[0mstr\u001b[0m\u001b[0;34m:\u001b[0m\u001b[0;34m\u001b[0m\u001b[0;34m\u001b[0m\u001b[0m\n",
            "\u001b[0;31mRuntimeError\u001b[0m: mat1 and mat2 shapes cannot be multiplied (1x192 and 384x100)"
          ]
        }
      ]
    },
    {
      "cell_type": "code",
      "source": [
        "PATH = './cifar_net.pth'\n",
        "torch.save(net.state_dict(), PATH)"
      ],
      "metadata": {
        "id": "YNTsSsAQTvJz"
      },
      "execution_count": null,
      "outputs": []
    }
  ],
  "metadata": {
    "accelerator": "GPU",
    "colab": {
      "provenance": [],
      "include_colab_link": true
    },
    "gpuClass": "standard",
    "kernelspec": {
      "display_name": "Python 3",
      "name": "python3"
    },
    "language_info": {
      "name": "python"
    },
    "widgets": {
      "application/vnd.jupyter.widget-state+json": {
        "6adc8a57056d47c9869360013a918c82": {
          "model_module": "@jupyter-widgets/controls",
          "model_name": "HBoxModel",
          "model_module_version": "1.5.0",
          "state": {
            "_dom_classes": [],
            "_model_module": "@jupyter-widgets/controls",
            "_model_module_version": "1.5.0",
            "_model_name": "HBoxModel",
            "_view_count": null,
            "_view_module": "@jupyter-widgets/controls",
            "_view_module_version": "1.5.0",
            "_view_name": "HBoxView",
            "box_style": "",
            "children": [
              "IPY_MODEL_ce1a53daa965429ea347b1595519d5ba",
              "IPY_MODEL_e668dcec712d4cf2a7f6e559be2ababd",
              "IPY_MODEL_84db9e31c5e545e584087aca649ff23d"
            ],
            "layout": "IPY_MODEL_dd7bb5a84cb546b2afd7f837c30f3f36"
          }
        },
        "ce1a53daa965429ea347b1595519d5ba": {
          "model_module": "@jupyter-widgets/controls",
          "model_name": "HTMLModel",
          "model_module_version": "1.5.0",
          "state": {
            "_dom_classes": [],
            "_model_module": "@jupyter-widgets/controls",
            "_model_module_version": "1.5.0",
            "_model_name": "HTMLModel",
            "_view_count": null,
            "_view_module": "@jupyter-widgets/controls",
            "_view_module_version": "1.5.0",
            "_view_name": "HTMLView",
            "description": "",
            "description_tooltip": null,
            "layout": "IPY_MODEL_b395be7d010a4c91b4f5880ca29bf58e",
            "placeholder": "​",
            "style": "IPY_MODEL_1c7cc4174f4145c1b4e1c6eeae543cad",
            "value": ""
          }
        },
        "e668dcec712d4cf2a7f6e559be2ababd": {
          "model_module": "@jupyter-widgets/controls",
          "model_name": "FloatProgressModel",
          "model_module_version": "1.5.0",
          "state": {
            "_dom_classes": [],
            "_model_module": "@jupyter-widgets/controls",
            "_model_module_version": "1.5.0",
            "_model_name": "FloatProgressModel",
            "_view_count": null,
            "_view_module": "@jupyter-widgets/controls",
            "_view_module_version": "1.5.0",
            "_view_name": "ProgressView",
            "bar_style": "success",
            "description": "",
            "description_tooltip": null,
            "layout": "IPY_MODEL_b50ef6774ed54b94a2a717dbdfe1e73e",
            "max": 1633132413,
            "min": 0,
            "orientation": "horizontal",
            "style": "IPY_MODEL_ad45498b712c44af9f98c8b166e7065e",
            "value": 1633132413
          }
        },
        "84db9e31c5e545e584087aca649ff23d": {
          "model_module": "@jupyter-widgets/controls",
          "model_name": "HTMLModel",
          "model_module_version": "1.5.0",
          "state": {
            "_dom_classes": [],
            "_model_module": "@jupyter-widgets/controls",
            "_model_module_version": "1.5.0",
            "_model_name": "HTMLModel",
            "_view_count": null,
            "_view_module": "@jupyter-widgets/controls",
            "_view_module_version": "1.5.0",
            "_view_name": "HTMLView",
            "description": "",
            "description_tooltip": null,
            "layout": "IPY_MODEL_0c359487d40042559c6f617fafa76ef9",
            "placeholder": "​",
            "style": "IPY_MODEL_075da979f1324931925bc8131837a427",
            "value": " 1633132544/? [00:24&lt;00:00, 149633228.42it/s]"
          }
        },
        "dd7bb5a84cb546b2afd7f837c30f3f36": {
          "model_module": "@jupyter-widgets/base",
          "model_name": "LayoutModel",
          "model_module_version": "1.2.0",
          "state": {
            "_model_module": "@jupyter-widgets/base",
            "_model_module_version": "1.2.0",
            "_model_name": "LayoutModel",
            "_view_count": null,
            "_view_module": "@jupyter-widgets/base",
            "_view_module_version": "1.2.0",
            "_view_name": "LayoutView",
            "align_content": null,
            "align_items": null,
            "align_self": null,
            "border": null,
            "bottom": null,
            "display": null,
            "flex": null,
            "flex_flow": null,
            "grid_area": null,
            "grid_auto_columns": null,
            "grid_auto_flow": null,
            "grid_auto_rows": null,
            "grid_column": null,
            "grid_gap": null,
            "grid_row": null,
            "grid_template_areas": null,
            "grid_template_columns": null,
            "grid_template_rows": null,
            "height": null,
            "justify_content": null,
            "justify_items": null,
            "left": null,
            "margin": null,
            "max_height": null,
            "max_width": null,
            "min_height": null,
            "min_width": null,
            "object_fit": null,
            "object_position": null,
            "order": null,
            "overflow": null,
            "overflow_x": null,
            "overflow_y": null,
            "padding": null,
            "right": null,
            "top": null,
            "visibility": null,
            "width": null
          }
        },
        "b395be7d010a4c91b4f5880ca29bf58e": {
          "model_module": "@jupyter-widgets/base",
          "model_name": "LayoutModel",
          "model_module_version": "1.2.0",
          "state": {
            "_model_module": "@jupyter-widgets/base",
            "_model_module_version": "1.2.0",
            "_model_name": "LayoutModel",
            "_view_count": null,
            "_view_module": "@jupyter-widgets/base",
            "_view_module_version": "1.2.0",
            "_view_name": "LayoutView",
            "align_content": null,
            "align_items": null,
            "align_self": null,
            "border": null,
            "bottom": null,
            "display": null,
            "flex": null,
            "flex_flow": null,
            "grid_area": null,
            "grid_auto_columns": null,
            "grid_auto_flow": null,
            "grid_auto_rows": null,
            "grid_column": null,
            "grid_gap": null,
            "grid_row": null,
            "grid_template_areas": null,
            "grid_template_columns": null,
            "grid_template_rows": null,
            "height": null,
            "justify_content": null,
            "justify_items": null,
            "left": null,
            "margin": null,
            "max_height": null,
            "max_width": null,
            "min_height": null,
            "min_width": null,
            "object_fit": null,
            "object_position": null,
            "order": null,
            "overflow": null,
            "overflow_x": null,
            "overflow_y": null,
            "padding": null,
            "right": null,
            "top": null,
            "visibility": null,
            "width": null
          }
        },
        "1c7cc4174f4145c1b4e1c6eeae543cad": {
          "model_module": "@jupyter-widgets/controls",
          "model_name": "DescriptionStyleModel",
          "model_module_version": "1.5.0",
          "state": {
            "_model_module": "@jupyter-widgets/controls",
            "_model_module_version": "1.5.0",
            "_model_name": "DescriptionStyleModel",
            "_view_count": null,
            "_view_module": "@jupyter-widgets/base",
            "_view_module_version": "1.2.0",
            "_view_name": "StyleView",
            "description_width": ""
          }
        },
        "b50ef6774ed54b94a2a717dbdfe1e73e": {
          "model_module": "@jupyter-widgets/base",
          "model_name": "LayoutModel",
          "model_module_version": "1.2.0",
          "state": {
            "_model_module": "@jupyter-widgets/base",
            "_model_module_version": "1.2.0",
            "_model_name": "LayoutModel",
            "_view_count": null,
            "_view_module": "@jupyter-widgets/base",
            "_view_module_version": "1.2.0",
            "_view_name": "LayoutView",
            "align_content": null,
            "align_items": null,
            "align_self": null,
            "border": null,
            "bottom": null,
            "display": null,
            "flex": null,
            "flex_flow": null,
            "grid_area": null,
            "grid_auto_columns": null,
            "grid_auto_flow": null,
            "grid_auto_rows": null,
            "grid_column": null,
            "grid_gap": null,
            "grid_row": null,
            "grid_template_areas": null,
            "grid_template_columns": null,
            "grid_template_rows": null,
            "height": null,
            "justify_content": null,
            "justify_items": null,
            "left": null,
            "margin": null,
            "max_height": null,
            "max_width": null,
            "min_height": null,
            "min_width": null,
            "object_fit": null,
            "object_position": null,
            "order": null,
            "overflow": null,
            "overflow_x": null,
            "overflow_y": null,
            "padding": null,
            "right": null,
            "top": null,
            "visibility": null,
            "width": null
          }
        },
        "ad45498b712c44af9f98c8b166e7065e": {
          "model_module": "@jupyter-widgets/controls",
          "model_name": "ProgressStyleModel",
          "model_module_version": "1.5.0",
          "state": {
            "_model_module": "@jupyter-widgets/controls",
            "_model_module_version": "1.5.0",
            "_model_name": "ProgressStyleModel",
            "_view_count": null,
            "_view_module": "@jupyter-widgets/base",
            "_view_module_version": "1.2.0",
            "_view_name": "StyleView",
            "bar_color": null,
            "description_width": ""
          }
        },
        "0c359487d40042559c6f617fafa76ef9": {
          "model_module": "@jupyter-widgets/base",
          "model_name": "LayoutModel",
          "model_module_version": "1.2.0",
          "state": {
            "_model_module": "@jupyter-widgets/base",
            "_model_module_version": "1.2.0",
            "_model_name": "LayoutModel",
            "_view_count": null,
            "_view_module": "@jupyter-widgets/base",
            "_view_module_version": "1.2.0",
            "_view_name": "LayoutView",
            "align_content": null,
            "align_items": null,
            "align_self": null,
            "border": null,
            "bottom": null,
            "display": null,
            "flex": null,
            "flex_flow": null,
            "grid_area": null,
            "grid_auto_columns": null,
            "grid_auto_flow": null,
            "grid_auto_rows": null,
            "grid_column": null,
            "grid_gap": null,
            "grid_row": null,
            "grid_template_areas": null,
            "grid_template_columns": null,
            "grid_template_rows": null,
            "height": null,
            "justify_content": null,
            "justify_items": null,
            "left": null,
            "margin": null,
            "max_height": null,
            "max_width": null,
            "min_height": null,
            "min_width": null,
            "object_fit": null,
            "object_position": null,
            "order": null,
            "overflow": null,
            "overflow_x": null,
            "overflow_y": null,
            "padding": null,
            "right": null,
            "top": null,
            "visibility": null,
            "width": null
          }
        },
        "075da979f1324931925bc8131837a427": {
          "model_module": "@jupyter-widgets/controls",
          "model_name": "DescriptionStyleModel",
          "model_module_version": "1.5.0",
          "state": {
            "_model_module": "@jupyter-widgets/controls",
            "_model_module_version": "1.5.0",
            "_model_name": "DescriptionStyleModel",
            "_view_count": null,
            "_view_module": "@jupyter-widgets/base",
            "_view_module_version": "1.2.0",
            "_view_name": "StyleView",
            "description_width": ""
          }
        }
      }
    }
  },
  "nbformat": 4,
  "nbformat_minor": 0
}