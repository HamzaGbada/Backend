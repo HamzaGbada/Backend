{
  "cells": [
    {
      "cell_type": "markdown",
      "metadata": {
        "id": "view-in-github",
        "colab_type": "text"
      },
      "source": [
        "<a href=\"https://colab.research.google.com/github/HamzaGbada/Backend/blob/master/Name_entity_Recognition.ipynb\" target=\"_parent\"><img src=\"https://colab.research.google.com/assets/colab-badge.svg\" alt=\"Open In Colab\"/></a>"
      ]
    },
    {
      "cell_type": "code",
      "execution_count": null,
      "metadata": {
        "colab": {
          "base_uri": "https://localhost:8080/"
        },
        "id": "MNRIAIoApBgS",
        "outputId": "7ac980dd-91b5-4a72-c34f-8951c0be8b6c"
      },
      "outputs": [
        {
          "name": "stdout",
          "output_type": "stream",
          "text": [
            "cpu\n"
          ]
        }
      ],
      "source": [
        "import torch\n",
        "device = torch.device(\"cuda:0\" if torch.cuda.is_available() else \"cpu\")\n",
        "print(device)"
      ]
    },
    {
      "cell_type": "code",
      "execution_count": null,
      "metadata": {
        "id": "CfUQ2bE5o_1U"
      },
      "outputs": [],
      "source": [
        "!mkdir sroie/\n",
        "!unzip /content/drive/MyDrive/SROIE2019.zip -d sroie/"
      ]
    },
    {
      "cell_type": "code",
      "execution_count": null,
      "metadata": {
        "id": "xw4clJX3o8jc"
      },
      "outputs": [],
      "source": [
        "import json\n",
        "import os\n",
        "from difflib import SequenceMatcher\n",
        "from pathlib import Path\n",
        "import numpy as np\n",
        "import pandas as pd\n",
        "import warnings\n",
        "warnings.filterwarnings(\"ignore\", category=FutureWarning)\n",
        "\n",
        "def read_bbox_and_words(path: Path):\n",
        "    bbox_and_words_list = []\n",
        "\n",
        "    with open(path, 'r', errors='ignore') as f:\n",
        "        for line in f.read().splitlines():\n",
        "            if len(line) == 0:\n",
        "                continue\n",
        "\n",
        "            split_lines = line.split(\",\")\n",
        "\n",
        "            bbox = np.array(split_lines[0:8], dtype=np.int32)\n",
        "            text = \",\".join(split_lines[8:])\n",
        "\n",
        "            # From the splited line we save (filename, [bounding box points], text line).\n",
        "            # The filename will be useful in the future\n",
        "            bbox_and_words_list.append([path.stem, *bbox, text])\n",
        "\n",
        "    dataframe = pd.DataFrame(bbox_and_words_list,\n",
        "                             columns=['filename', 'x0', 'y0', 'x1', 'y1', 'x2', 'y2', 'x3', 'y3', 'line'],\n",
        "                             dtype=np.int16)\n",
        "    dataframe = dataframe.drop(columns=['x1', 'y1', 'x3', 'y3'])\n",
        "\n",
        "    return dataframe\n",
        "\n",
        "\n",
        "def read_entities(path: Path):\n",
        "    with open(path, 'r') as f:\n",
        "        data = json.load(f)\n",
        "\n",
        "    dataframe = pd.DataFrame([data])\n",
        "    return dataframe\n",
        "\n",
        "\n",
        "# Assign a label to the line by checking the similarity of the line and all the entities\n",
        "def assign_line_label(line: str, entities: pd.DataFrame):\n",
        "    line_set = line.replace(\",\", \"\").strip().split()\n",
        "    for i, column in enumerate(entities):\n",
        "        entity_values = entities.iloc[0, i].replace(\",\", \"\").strip()\n",
        "        entity_set = entity_values.split()\n",
        "\n",
        "        matches_count = 0\n",
        "        for l in line_set:\n",
        "            if any(SequenceMatcher(a=l, b=b).ratio() > 0.8 for b in entity_set):\n",
        "                matches_count += 1\n",
        "\n",
        "            if (column.upper() == 'ADDRESS' and (matches_count / len(line_set)) >= 0.5) or \\\n",
        "                    (column.upper() != 'ADDRESS' and (matches_count == len(line_set))) or \\\n",
        "                    matches_count == len(entity_set):\n",
        "                return column.upper()\n",
        "\n",
        "    return \"O\"\n",
        "\n",
        "\n",
        "def assign_labels(words: pd.DataFrame, entities: pd.DataFrame):\n",
        "    max_area = {\"TOTAL\": (0, -1), \"DATE\": (0, -1)}  # Value, index\n",
        "    already_labeled = {\"TOTAL\": False,\n",
        "                       \"DATE\": False,\n",
        "                       \"ADDRESS\": False,\n",
        "                       \"COMPANY\": False,\n",
        "                       \"O\": False\n",
        "                       }\n",
        "\n",
        "    # Go through every line in $words and assign it a label\n",
        "    labels = []\n",
        "    for i, line in enumerate(words['line']):\n",
        "        label = assign_line_label(line, entities)\n",
        "\n",
        "        already_labeled[label] = True\n",
        "        if (label == \"ADDRESS\" and already_labeled[\"TOTAL\"]) or \\\n",
        "                (label == \"COMPANY\" and (already_labeled[\"DATE\"] or already_labeled[\"TOTAL\"])):\n",
        "            label = \"O\"\n",
        "\n",
        "        # Assign to the largest bounding box\n",
        "        if label in [\"TOTAL\", \"DATE\"]:\n",
        "            x0_loc = words.columns.get_loc(\"x0\")\n",
        "            bbox = words.iloc[i, x0_loc:x0_loc + 4].to_list()\n",
        "            area = (bbox[2] - bbox[0]) + (bbox[3] - bbox[1])\n",
        "\n",
        "            if max_area[label][0] < area:\n",
        "                max_area[label] = (area, i)\n",
        "\n",
        "            label = \"O\"\n",
        "\n",
        "        labels.append(label)\n",
        "\n",
        "    labels[max_area[\"DATE\"][1]] = \"DATE\"\n",
        "    labels[max_area[\"TOTAL\"][1]] = \"TOTAL\"\n",
        "\n",
        "    words[\"label\"] = labels\n",
        "    return words\n"
      ]
    },
    {
      "cell_type": "code",
      "execution_count": null,
      "metadata": {
        "id": "iwUoFiuio53i"
      },
      "outputs": [],
      "source": [
        "import glob\n",
        "import os\n",
        "from pathlib import Path\n",
        "from typing import Any, Dict, List, Tuple, Optional, Callable\n",
        "\n",
        "import numpy as np\n",
        "import torch\n",
        "from torch.utils.data import Dataset"
      ]
    },
    {
      "cell_type": "code",
      "execution_count": null,
      "metadata": {
        "id": "vsurXcSKpPbP"
      },
      "outputs": [],
      "source": [
        "!mkdir sroie_csv/"
      ]
    },
    {
      "cell_type": "code",
      "execution_count": null,
      "metadata": {
        "id": "5cLRkhcbF5Mf"
      },
      "outputs": [],
      "source": []
    },
    {
      "cell_type": "code",
      "execution_count": null,
      "metadata": {
        "id": "y6bcucOnoxNw"
      },
      "outputs": [],
      "source": [
        "class CustomDataset(Dataset):\n",
        "    def __init__(self, train):\n",
        "        self.train = train\n",
        "        self.train_path = '/content/sroie/SROIE2019/train/'\n",
        "        if not self.train:\n",
        "          self.train_path = '/content/sroie/SROIE2019/test/'\n",
        "        \n",
        "        self.data = []\n",
        "        bbox_train_path = self.train_path + \"box/\"\n",
        "        entities_train_path = self.train_path + \"entities/\"\n",
        "\n",
        "        L = []\n",
        "        d = {\n",
        "             \"address_mean\":0,\n",
        "             \"company_mean\":0,\n",
        "             \"date_mean\":0,\n",
        "             \"total_mean\":0\n",
        "        }\n",
        "        address = []\n",
        "        company = []\n",
        "        date = []\n",
        "        total = []\n",
        "        # Train Loop\n",
        "        train_data = []\n",
        "        bbox = list()\n",
        "        for filename in os.listdir(bbox_train_path):\n",
        "            bbox_file_path = bbox_train_path + filename\n",
        "            entities_file_path = entities_train_path + filename\n",
        "\n",
        "            bbox = read_bbox_and_words(path=Path(bbox_file_path))\n",
        "            entities = read_entities(path=Path(entities_file_path))\n",
        "\n",
        "            bbox_labeled = assign_labels(bbox, entities)\n",
        "            bbox.append(bbox_labeled)\n",
        "            bbox_labeled.to_csv(\"sroie_csv/\"+filename[:-4]+\".csv\")\n",
        "            s = \"\"\n",
        "            L = []\n",
        "            for i in range(len(bbox_labeled[\"line\"])):\n",
        "              s+=bbox_labeled[\"line\"][i]+\"\\n\"\n",
        "\n",
        "              if bbox_labeled[\"label\"][i] != 'O':\n",
        "                L.append((len(s)-len(bbox_labeled[\"line\"][i])-1, len(s)-2, bbox_labeled[\"label\"][i]))\n",
        "\n",
        "            train_data.append((s, {\"entities\": L}))\n",
        "        print(bbox_labeled.head())\n",
        "        print(train_data[-1])\n",
        "        self.data = train_data\n",
        "        print(type(bbox))\n",
        "        df = pd.concat([bbox])\n",
        "        df.to_csv(\"srroie_\"+str(self.train)+\".csv\")\n",
        "\n",
        "\n",
        "    def __len__(self):\n",
        "        return len(self.data)\n",
        "    def __getitem__(self, idx):\n",
        "        return self.data[idx]"
      ]
    },
    {
      "cell_type": "code",
      "execution_count": null,
      "metadata": {
        "colab": {
          "base_uri": "https://localhost:8080/"
        },
        "id": "PCvbJnTFpK93",
        "outputId": "1d52cb66-9cac-4489-9c40-4416d16f9cd1"
      },
      "outputs": [
        {
          "output_type": "stream",
          "name": "stdout",
          "text": [
            "       filename   x0   y0    x2   y2                               line  \\\n",
            "0  X51005361946  912  372  1216  400             MR. D.I.Y. (M) SDN BHD   \n",
            "1  X51005361946  943  398  1187  429                 (CO REG :860671-D)   \n",
            "2  X51005361946  830  427  1283  457  LOT 1851-A & 1851-B, JALAN KPB 6,   \n",
            "3  X51005361946  846  456  1268  484    KAWASAN PERINDUSTRIAN BALAKONG,   \n",
            "4  X51005361946  860  483  1272  511     43300 SERI KEMBANGAN, SELANGOR   \n",
            "\n",
            "     label  \n",
            "0  COMPANY  \n",
            "1        O  \n",
            "2  ADDRESS  \n",
            "3  ADDRESS  \n",
            "4  ADDRESS  \n",
            "('MR. D.I.Y. (M) SDN BHD\\n(CO REG :860671-D)\\nLOT 1851-A & 1851-B, JALAN KPB 6,\\nKAWASAN PERINDUSTRIAN BALAKONG,\\n43300 SERI KEMBANGAN, SELANGOR\\n(GST ID NO :000306020352)\\n(TESCO MUTIARA DAMANSARA)\\nTAX INVOICE\\nSOURING PAD 1018-4 4S\\n*S\\nWA03 - 24/240\\n9555221301081\\n4 X\\nEXCHANGE ARE ALLOWED WITHIN\\n2.80\\n11.20\\nSCISSOR G/FISH\\n*S\\nAD51 - 24/360\\n9064422\\n2 X\\nOPERATOR TMDC - SAH BIJAY KUMAR\\n1.50\\n3.00\\nTRAILING SKT 5GN+SP 3X1.25MM CABLE 2\\n*S\\nWA27 - 20\\n9553114461966\\n1 X 22.90\\nSTRICTLY NO CASH REFUND .\\n7 DAYS WITH RECEIPT .\\n22.90\\nITEM(S) : 3\\nQTY(S) : 7\\nTOTAL INCL. GST@6%\\nRM 37.10\\nCASH\\nRM 50.00\\nCHANGE\\nRM 12.90\\nGST SUMMARY\\nAMT(RM)\\nTAX(RM)\\nGST S@6%\\n35.00\\n2.10\\n14-03-18 21:49 SH03 ZJ20\\nT1 R000418193\\n', {'entities': [(0, 21, 'COMPANY'), (42, 74, 'ADDRESS'), (76, 106, 'ADDRESS'), (108, 137, 'ADDRESS'), (555, 562, 'TOTAL'), (642, 665, 'DATE')]})\n",
            "<class 'pandas.core.frame.DataFrame'>\n"
          ]
        }
      ],
      "source": [
        "dataset_train = CustomDataset(True)\n",
        "# dataset_test = CustomDataset(False)"
      ]
    },
    {
      "cell_type": "code",
      "execution_count": null,
      "metadata": {
        "colab": {
          "base_uri": "https://localhost:8080/"
        },
        "id": "itUq67MNpo-2",
        "outputId": "ee446a78-ffc3-4a52-bbce-7d775b719980"
      },
      "outputs": [
        {
          "data": {
            "text/plain": [
              "list"
            ]
          },
          "execution_count": 10,
          "metadata": {},
          "output_type": "execute_result"
        }
      ],
      "source": [
        "type(dataset_train[:])"
      ]
    },
    {
      "cell_type": "code",
      "execution_count": null,
      "metadata": {
        "id": "5mEkjWqkqBDQ"
      },
      "outputs": [],
      "source": [
        "!pip install plac"
      ]
    },
    {
      "cell_type": "code",
      "execution_count": null,
      "metadata": {
        "id": "B5wHVY_DI3l9"
      },
      "outputs": [],
      "source": [
        "('SIZZLING STONEGRILL DIMILIKI OLEH : DOVE HOLDINGS SDN BHD REG NO : 91694-X LOT S25, AEON TEBRAU CITY JUSCO NO 1, JLN DESA TEBRAU, TMN DESA TEBRAU, 81100 JOHOR BAHRU, JOHOR +607-357 1177 GST ID: 0013 7941 8112 TAX INVOICE NO 15 80292 DATE: 26/05/2018 8:53:27 PM CASHIER: C001 TAX QTY CODE/DESC UNIT PRICE TOTAL RM SR 2 6.10 12.20 07 CREAM OF MUSHROOM SOUP SR 1 12.90 12.90 101 NOODLE SOUP O.T.ROCK SR 1 14.90 14.90 107 SPICY T/S SPAGHETTI SR 2 34.90 69.80 40 SIRLOIN STEAK SR 1 19.90 19.90 51 GRILLED MARINATED SR 1 18.90 18.90 54 GRILLED CHICKEN CHOP SR 1 6.90 6.90 99 ICED LEMON TEA TOTAL AMOUNT : 155.50 GST 6% 9.31 ROUNDING ADJ : -0.01 TOTAL AMOUNT: 164.80 TOTAL: RM 164.80 TYPE 7 QTY: 9 26/05/2018 8:53:37 GST SUMMARY AMOUNT RM TAX RM SR 6% 155.50 9.31 ZR 0% 0.00 0.00 ... XPOSMART WIFIPOS SINCE 1985 ... ', \n",
        " {'entities': [(20, 57, 'COMPANY'), (75, 106, 'ADDRESS'), (107, 146, 'ADDRESS'), (147, 171, 'ADDRESS'), (233, 260, 'DATE'), (358, 359, 'ADDRESS'), (400, 401, 'ADDRESS'), (475, 476, 'ADDRESS'), (513, 514, 'ADDRESS'), (554, 555, 'ADDRESS'), (667, 676, 'TOTAL')]})"
      ]
    },
    {
      "cell_type": "code",
      "execution_count": null,
      "metadata": {
        "id": "U1TYN_4JqnIE"
      },
      "outputs": [],
      "source": [
        "\n",
        "\n",
        "('AEON CO. (M) BHD (126926-H) 3RD FLR, AEON TAMAN MALURI SC JLN JEJAKA, TAMAN MALURI CHERAS, 55100 KUALA LUMPUR GST ID : 002017394688 SHOPPING HOURS SUN-THU:1000 HRS - 2200 HRS FRI-SAT:1000 HRS - 2300 HRS 1X 000006142384 7.51SR MUNCHY`S CREAM 3X 000005709410 18.60SR TOPVALU BESTPRI @6.20 SUB-TOTAL 26.11 TOTAL SALES INCL GST 26.11 ROUNDING ADJ -0.01 TOTAL AFTER ADJ INCL GST 26.10 CASH 50.00 ITEM COUNT 4 CHANGE AMT 23.90 INVOICE NO: 2018042810080010325 GST SUMMARY AMOUNT TAX SR @ 6% 24.63 1.48 TOTAL 24.63 1.48 28/04/2018 15:35 1008 001 0010325 0304662 HEMADAS A/L BALOO AEON BANDAR PUCHONG TEL 1-300-80-AEON (2366) THANK YOU FOR YOUR PATRONAGE PLEASE COME AGAIN ', \n",
        " {'entities': [(1, 28, 'COMPANY'), (29, 58, 'ADDRESS'), (59, 83, 'ADDRESS'), (84, 110, 'ADDRESS'), (375, 380, 'TOTAL'), (513, 529, 'DATE')]})\n"
      ]
    },
    {
      "cell_type": "code",
      "execution_count": null,
      "metadata": {
        "colab": {
          "base_uri": "https://localhost:8080/"
        },
        "id": "YIYjpTU18JHz",
        "outputId": "7fea5a05-b61c-461a-ac8a-b229c1f41b0d"
      },
      "outputs": [
        {
          "name": "stderr",
          "output_type": "stream",
          "text": [
            "/usr/local/lib/python3.9/dist-packages/torch/cuda/__init__.py:497: UserWarning: Can't initialize NVML\n",
            "  warnings.warn(\"Can't initialize NVML\")\n"
          ]
        }
      ],
      "source": [
        "from __future__ import unicode_literals, print_function\n",
        "import plac\n",
        "import random\n",
        "from pathlib import Path\n",
        "import spacy\n",
        "from tqdm import tqdm "
      ]
    },
    {
      "cell_type": "code",
      "execution_count": null,
      "metadata": {
        "id": "YwCpL8qjK2EI"
      },
      "outputs": [],
      "source": [
        "!mkdir ner/"
      ]
    },
    {
      "cell_type": "code",
      "execution_count": null,
      "metadata": {
        "id": "HiKFCmNn8JEM"
      },
      "outputs": [],
      "source": [
        "model = None\n",
        "output_dir=Path(\"ner/\")\n",
        "n_iter=100"
      ]
    },
    {
      "cell_type": "code",
      "execution_count": null,
      "metadata": {
        "colab": {
          "base_uri": "https://localhost:8080/"
        },
        "id": "ZH0qVBTm8JBg",
        "outputId": "1e500ffa-f78c-4736-e4e2-5b0180e332db"
      },
      "outputs": [
        {
          "name": "stdout",
          "output_type": "stream",
          "text": [
            "Created blank 'en' model\n"
          ]
        }
      ],
      "source": [
        "if model is not None:\n",
        "    nlp = spacy.load(model)  \n",
        "    print(\"Loaded model '%s'\" % model)\n",
        "else:\n",
        "    nlp = spacy.blank('en')  \n",
        "    print(\"Created blank 'en' model\")\n",
        "    "
      ]
    },
    {
      "cell_type": "code",
      "execution_count": null,
      "metadata": {
        "id": "mFsqzc9a8I-v"
      },
      "outputs": [],
      "source": [
        "if 'ner' not in nlp.pipe_names:\n",
        "    # ner = nlp.create_pipe('ner')\n",
        "    nlp.add_pipe('ner', last=True)\n",
        "else:\n",
        "    ner = nlp.get_pipe('ner')"
      ]
    },
    {
      "cell_type": "code",
      "execution_count": null,
      "metadata": {
        "id": "C0klG9MMqZL_"
      },
      "outputs": [],
      "source": [
        "TRAIN_DATA = dataset_train[:]\n",
        "TEST_DATA = dataset_test[:]"
      ]
    },
    {
      "cell_type": "code",
      "execution_count": null,
      "metadata": {
        "id": "cSiS7ajj8Yl-"
      },
      "outputs": [],
      "source": [
        "from spacy.training.example import Example\n",
        "\n",
        "for _, annotations in TRAIN_DATA:\n",
        "    for ent in annotations.get('entities'):\n",
        "        ner.add_label(ent[2])\n",
        "\n",
        "other_pipes = [pipe for pipe in nlp.pipe_names if pipe != 'ner']\n",
        "with nlp.disable_pipes(*other_pipes):  # only train NER\n",
        "    optimizer = nlp.begin_training()\n",
        "    for itn in range(n_iter):\n",
        "        random.shuffle(TRAIN_DATA)\n",
        "        losses = {}\n",
        "        for text, annotations in tqdm(TRAIN_DATA):\n",
        "          doc = nlp.make_doc(text)\n",
        "          example = Example.from_dict(doc, annotations)\n",
        "          # Update the model\n",
        "          nlp.update([example], losses=losses, drop=0.5, sgd=optimizer,)\n",
        "          # nlp.update(\n",
        "          #     [text],  \n",
        "          #     [annotations],  \n",
        "          #     drop=0.5,  \n",
        "          #     sgd=optimizer,\n",
        "          #     losses=losses)\n",
        "        print(losses)"
      ]
    },
    {
      "cell_type": "code",
      "execution_count": null,
      "metadata": {
        "colab": {
          "background_save": true
        },
        "id": "sKB9bUqH8dlt"
      },
      "outputs": [],
      "source": [
        "for text, _ in TRAIN_DATA:\n",
        "    doc = nlp(text)\n",
        "    print('Entities', [(ent.text, ent.label_) for ent in doc.ents])\n",
        "    print('Tokens', [(t.text, t.ent_type_, t.ent_iob) for t in doc])"
      ]
    },
    {
      "cell_type": "code",
      "execution_count": null,
      "metadata": {
        "colab": {
          "background_save": true
        },
        "id": "RlzzFE738fsN",
        "outputId": "e3530300-bc6c-4864-a471-78d8b5cbbfe7"
      },
      "outputs": [
        {
          "name": "stdout",
          "output_type": "stream",
          "text": [
            "Saved model to ner\n"
          ]
        }
      ],
      "source": [
        "if output_dir is not None:\n",
        "    output_dir = Path(output_dir)\n",
        "    if not output_dir.exists():\n",
        "        output_dir.mkdir()\n",
        "    nlp.to_disk(output_dir)\n",
        "    print(\"Saved model to\", output_dir)   "
      ]
    },
    {
      "cell_type": "code",
      "execution_count": null,
      "metadata": {
        "colab": {
          "background_save": true
        },
        "id": "IWvhiMzC8h5N"
      },
      "outputs": [],
      "source": [
        "print(\"Loading from\", output_dir)\n",
        "nlp2 = spacy.load(output_dir)\n",
        "for text, _ in TRAIN_DATA:\n",
        "    doc = nlp2(text)\n",
        "    print('Entities', [(ent.text, ent.label_) for ent in doc.ents])\n",
        "    print('Tokens', [(t.text, t.ent_type_, t.ent_iob) for t in doc])"
      ]
    },
    {
      "cell_type": "code",
      "source": [],
      "metadata": {
        "id": "OBe4iP9wpnVy"
      },
      "execution_count": null,
      "outputs": []
    },
    {
      "cell_type": "code",
      "execution_count": null,
      "metadata": {
        "id": "hZyHwqCXsJlv",
        "colab": {
          "base_uri": "https://localhost:8080/"
        },
        "outputId": "8839f8a8-243d-4b53-bb28-dd9c546846ae"
      },
      "outputs": [
        {
          "output_type": "stream",
          "name": "stdout",
          "text": [
            "<class 'pandas.core.frame.DataFrame'>\n",
            "RangeIndex: 48 entries, 0 to 47\n",
            "Data columns (total 8 columns):\n",
            " #   Column      Non-Null Count  Dtype \n",
            "---  ------      --------------  ----- \n",
            " 0   Unnamed: 0  48 non-null     int64 \n",
            " 1   filename    48 non-null     object\n",
            " 2   x0          48 non-null     int64 \n",
            " 3   y0          48 non-null     int64 \n",
            " 4   x2          48 non-null     int64 \n",
            " 5   y2          48 non-null     int64 \n",
            " 6   line        48 non-null     object\n",
            " 7   label       48 non-null     object\n",
            "dtypes: int64(5), object(3)\n",
            "memory usage: 3.1+ KB\n"
          ]
        }
      ],
      "source": [
        "import pandas as pd\n",
        "datapath = '/content/srroie_True.csv'\n",
        "df = pd.read_csv(datapath)\n",
        "df.info()"
      ]
    },
    {
      "cell_type": "code",
      "source": [
        "!ls sroie_csv/"
      ],
      "metadata": {
        "id": "n8INeswQsWw5"
      },
      "execution_count": null,
      "outputs": []
    },
    {
      "cell_type": "code",
      "source": [
        "path = 'sroie_csv/' # use your path\n",
        "all_files = glob.glob(os.path.join(path , \"*.csv\"))\n",
        "\n",
        "li = []\n",
        "\n",
        "for filename in all_files:\n",
        "    df = pd.read_csv(filename, index_col=None, header=0)\n",
        "    li.append(df)\n",
        "\n",
        "frame = pd.concat(li, axis=0, ignore_index=True)\n",
        "\n",
        "frame.to_csv(\"bob.csv\")"
      ],
      "metadata": {
        "id": "PpeYqapXyaq6"
      },
      "execution_count": null,
      "outputs": []
    },
    {
      "cell_type": "code",
      "source": [
        "import pandas as pd\n",
        "datapath = 'bob.csv'\n",
        "df = pd.read_csv(datapath)\n",
        "df.head()"
      ],
      "metadata": {
        "id": "t9HuFsjU4hJc"
      },
      "execution_count": null,
      "outputs": []
    },
    {
      "cell_type": "code",
      "source": [
        "df.groupby(['label']).size().plot.bar()\n"
      ],
      "metadata": {
        "colab": {
          "base_uri": "https://localhost:8080/",
          "height": 336
        },
        "id": "4IhgK3no784f",
        "outputId": "93c12983-a638-4443-e3e8-9f010216c0f4"
      },
      "execution_count": null,
      "outputs": [
        {
          "output_type": "execute_result",
          "data": {
            "text/plain": [
              "<Axes: xlabel='label'>"
            ]
          },
          "metadata": {},
          "execution_count": 86
        },
        {
          "output_type": "display_data",
          "data": {
            "text/plain": [
              "<Figure size 432x288 with 1 Axes>"
            ],
            "image/png": "[encoded data removed]"
          },
          "metadata": {
            "needs_background": "light"
          }
        }
      ]
    },
    {
      "cell_type": "markdown",
      "source": [
        "https://towardsdatascience.com/named-entity-recognition-with-bert-in-pytorch-a454405e0b6a\n",
        "\n",
        "https://towardsdatascience.com/text-classification-with-bert-in-pytorch-887965e5820f\n",
        "\n",
        "https://towardsdatascience.com/custom-named-entity-recognition-with-bert-cf1fd4510804\n",
        "\n",
        "https://github.com/Kanishkparganiha/Named-Entity-Recognition-using-BERT-with-PyTorch\n",
        "\n",
        "https://github.com/sandipan/Blogs/blob/master/2020-09-08_Named-Entity-Recognition--NER--on-Twitter-using-Bi-directional-LSTM-with-tensorflow-in-python-8b85cccc649c.md\n",
        "\n",
        "https://sandipanweb.wordpress.com/2020/08/30/named-entity-recognition-ner-on-twitter-with-bi-directional-lstm-with-tensorflow-in-python/\n",
        "\n",
        "https://pythonalgos.com/using-nlp-to-get-insights-from-twitter/\n",
        "\n",
        "https://www.analyticsvidhya.com/blog/2022/06/custom-named-entity-recognition-using-spacy-v3/"
      ],
      "metadata": {
        "id": "-Kgwxfi3AqgT"
      }
    },
    {
      "cell_type": "markdown",
      "source": [
        "# NER with BERT"
      ],
      "metadata": {
        "id": "3zfG8xDL4Xxi"
      }
    },
    {
      "cell_type": "markdown",
      "source": [],
      "metadata": {
        "id": "4ikrEOQr4XrR"
      }
    },
    {
      "cell_type": "code",
      "source": [
        "!mkdir sroie/\n",
        "!unzip /content/drive/MyDrive/SROIE2019.zip -d sroie/"
      ],
      "metadata": {
        "id": "UmUmzTpyIgak"
      },
      "execution_count": null,
      "outputs": []
    },
    {
      "cell_type": "code",
      "source": [
        "import json\n",
        "import os\n",
        "from difflib import SequenceMatcher\n",
        "from pathlib import Path\n",
        "import numpy as np\n",
        "import pandas as pd\n",
        "import warnings\n",
        "warnings.filterwarnings(\"ignore\", category=FutureWarning)\n",
        "\n",
        "def read_bbox_and_words(path: Path):\n",
        "    bbox_and_words_list = []\n",
        "\n",
        "    with open(path, 'r', errors='ignore') as f:\n",
        "        for line in f.read().splitlines():\n",
        "            if len(line) == 0:\n",
        "                continue\n",
        "\n",
        "            split_lines = line.split(\",\")\n",
        "\n",
        "            bbox = np.array(split_lines[0:8], dtype=np.int32)\n",
        "            text = \",\".join(split_lines[8:])\n",
        "\n",
        "            # From the splited line we save (filename, [bounding box points], text line).\n",
        "            # The filename will be useful in the future\n",
        "            bbox_and_words_list.append([path.stem, *bbox, text])\n",
        "\n",
        "    dataframe = pd.DataFrame(bbox_and_words_list,\n",
        "                             columns=['filename', 'x0', 'y0', 'x1', 'y1', 'x2', 'y2', 'x3', 'y3', 'line'],\n",
        "                             dtype=np.int16)\n",
        "    dataframe = dataframe.drop(columns=['x1', 'y1', 'x3', 'y3'])\n",
        "\n",
        "    return dataframe\n",
        "\n",
        "\n",
        "def read_entities(path: Path):\n",
        "    with open(path, 'r') as f:\n",
        "        data = json.load(f)\n",
        "\n",
        "    dataframe = pd.DataFrame([data])\n",
        "    return dataframe\n",
        "\n",
        "\n",
        "# Assign a label to the line by checking the similarity of the line and all the entities\n",
        "def assign_line_label(line: str, entities: pd.DataFrame):\n",
        "    line_set = line.replace(\",\", \"\").strip().split()\n",
        "    for i, column in enumerate(entities):\n",
        "        entity_values = entities.iloc[0, i].replace(\",\", \"\").strip()\n",
        "        entity_set = entity_values.split()\n",
        "\n",
        "        matches_count = 0\n",
        "        for l in line_set:\n",
        "            if any(SequenceMatcher(a=l, b=b).ratio() > 0.8 for b in entity_set):\n",
        "                matches_count += 1\n",
        "\n",
        "            if (column.upper() == 'ADDRESS' and (matches_count / len(line_set)) >= 0.5) or \\\n",
        "                    (column.upper() != 'ADDRESS' and (matches_count == len(line_set))) or \\\n",
        "                    matches_count == len(entity_set):\n",
        "                return column.upper()\n",
        "\n",
        "    return \"O\"\n",
        "\n",
        "\n",
        "def assign_labels(words: pd.DataFrame, entities: pd.DataFrame):\n",
        "    max_area = {\"TOTAL\": (0, -1), \"DATE\": (0, -1)}  # Value, index\n",
        "    already_labeled = {\"TOTAL\": False,\n",
        "                       \"DATE\": False,\n",
        "                       \"ADDRESS\": False,\n",
        "                       \"COMPANY\": False,\n",
        "                       \"O\": False\n",
        "                       }\n",
        "\n",
        "    # Go through every line in $words and assign it a label\n",
        "    labels = []\n",
        "    for i, line in enumerate(words['line']):\n",
        "        label = assign_line_label(line, entities)\n",
        "\n",
        "        already_labeled[label] = True\n",
        "        if (label == \"ADDRESS\" and already_labeled[\"TOTAL\"]) or \\\n",
        "                (label == \"COMPANY\" and (already_labeled[\"DATE\"] or already_labeled[\"TOTAL\"])):\n",
        "            label = \"O\"\n",
        "\n",
        "        # Assign to the largest bounding box\n",
        "        if label in [\"TOTAL\", \"DATE\"]:\n",
        "            x0_loc = words.columns.get_loc(\"x0\")\n",
        "            bbox = words.iloc[i, x0_loc:x0_loc + 4].to_list()\n",
        "            area = (bbox[2] - bbox[0]) + (bbox[3] - bbox[1])\n",
        "\n",
        "            if max_area[label][0] < area:\n",
        "                max_area[label] = (area, i)\n",
        "\n",
        "            label = \"O\"\n",
        "\n",
        "        labels.append(label)\n",
        "\n",
        "    labels[max_area[\"DATE\"][1]] = \"DATE\"\n",
        "    labels[max_area[\"TOTAL\"][1]] = \"TOTAL\"\n",
        "\n",
        "    words[\"label\"] = labels\n",
        "    return words\n"
      ],
      "metadata": {
        "id": "XcdepSuOIgX-"
      },
      "execution_count": 4,
      "outputs": []
    },
    {
      "cell_type": "code",
      "source": [
        "import glob\n",
        "import os\n",
        "from pathlib import Path\n",
        "from typing import Any, Dict, List, Tuple, Optional, Callable\n",
        "\n",
        "import numpy as np\n",
        "import torch\n",
        "from torch.utils.data import Dataset"
      ],
      "metadata": {
        "id": "XueBGdgtIgVN"
      },
      "execution_count": 5,
      "outputs": []
    },
    {
      "cell_type": "code",
      "source": [
        "!mkdir sroie_csv/"
      ],
      "metadata": {
        "colab": {
          "base_uri": "https://localhost:8080/"
        },
        "id": "Os3tDxDhJJO8",
        "outputId": "7c5e70be-50e7-4708-c7d0-af3a8b906c5e"
      },
      "execution_count": 6,
      "outputs": [
        {
          "output_type": "stream",
          "name": "stdout",
          "text": [
            "mkdir: cannot create directory ‘sroie_csv/’: File exists\n"
          ]
        }
      ]
    },
    {
      "cell_type": "code",
      "source": [
        "class CustomDataset(Dataset):\n",
        "    def __init__(self, train):\n",
        "        self.train = train\n",
        "        self.train_path = '/content/sroie/SROIE2019/train/'\n",
        "        if not self.train:\n",
        "          self.train_path = '/content/sroie/SROIE2019/test/'\n",
        "        \n",
        "        self.data = []\n",
        "        bbox_train_path = self.train_path + \"box/\"\n",
        "        entities_train_path = self.train_path + \"entities/\"\n",
        "\n",
        "        L = []\n",
        "        d = {\n",
        "             \"address_mean\":0,\n",
        "             \"company_mean\":0,\n",
        "             \"date_mean\":0,\n",
        "             \"total_mean\":0\n",
        "        }\n",
        "        address = []\n",
        "        company = []\n",
        "        date = []\n",
        "        total = []\n",
        "        # Train Loop\n",
        "        train_data = []\n",
        "        bbox = list()\n",
        "        for filename in os.listdir(bbox_train_path):\n",
        "            bbox_file_path = bbox_train_path + filename\n",
        "            entities_file_path = entities_train_path + filename\n",
        "\n",
        "            bbox = read_bbox_and_words(path=Path(bbox_file_path))\n",
        "            entities = read_entities(path=Path(entities_file_path))\n",
        "\n",
        "            bbox_labeled = assign_labels(bbox, entities)\n",
        "            bbox.append(bbox_labeled)\n",
        "            bbox_labeled.to_csv(\"sroie_csv/\"+filename[:-4]+\".csv\")\n",
        "            s = \"\"\n",
        "            L = []\n",
        "            for i in range(len(bbox_labeled[\"line\"])):\n",
        "              s+=bbox_labeled[\"line\"][i]+\"\\n\"\n",
        "\n",
        "              if bbox_labeled[\"label\"][i] != 'O':\n",
        "                L.append((len(s)-len(bbox_labeled[\"line\"][i])-1, len(s)-2, bbox_labeled[\"label\"][i]))\n",
        "\n",
        "            train_data.append((s, {\"entities\": L}))\n",
        "        print(bbox_labeled.head())\n",
        "        print(train_data[-1])\n",
        "        self.data = train_data\n",
        "        print(type(bbox))\n",
        "        df = pd.concat([bbox])\n",
        "        df.to_csv(\"srroie_\"+str(self.train)+\".csv\")\n",
        "\n",
        "\n",
        "    def __len__(self):\n",
        "        return len(self.data)\n",
        "    def __getitem__(self, idx):\n",
        "        return self.data[idx]"
      ],
      "metadata": {
        "id": "iGY_HeVaIgSo"
      },
      "execution_count": 7,
      "outputs": []
    },
    {
      "cell_type": "code",
      "source": [
        "dataset = dataset_train = CustomDataset(True)\n"
      ],
      "metadata": {
        "colab": {
          "base_uri": "https://localhost:8080/",
          "height": 324
        },
        "id": "cSSOCfSSIgQG",
        "outputId": "b9f0feff-c1a7-4890-fdf1-daa6cccc5a30"
      },
      "execution_count": 8,
      "outputs": [
        {
          "output_type": "error",
          "ename": "KeyboardInterrupt",
          "evalue": "ignored",
          "traceback": [
            "\u001b[0;31m---------------------------------------------------------------------------\u001b[0m",
            "\u001b[0;31mKeyboardInterrupt\u001b[0m                         Traceback (most recent call last)",
            "\u001b[0;32m<ipython-input-8-07f4ddde49fe>\u001b[0m in \u001b[0;36m<module>\u001b[0;34m\u001b[0m\n\u001b[0;32m----> 1\u001b[0;31m \u001b[0mdataset\u001b[0m \u001b[0;34m=\u001b[0m \u001b[0mdataset_train\u001b[0m \u001b[0;34m=\u001b[0m \u001b[0mCustomDataset\u001b[0m\u001b[0;34m(\u001b[0m\u001b[0;32mTrue\u001b[0m\u001b[0;34m)\u001b[0m\u001b[0;34m\u001b[0m\u001b[0;34m\u001b[0m\u001b[0m\n\u001b[0m",
            "\u001b[0;32m<ipython-input-7-31063fba9a79>\u001b[0m in \u001b[0;36m__init__\u001b[0;34m(self, train)\u001b[0m\n\u001b[1;32m     31\u001b[0m             \u001b[0mentities\u001b[0m \u001b[0;34m=\u001b[0m \u001b[0mread_entities\u001b[0m\u001b[0;34m(\u001b[0m\u001b[0mpath\u001b[0m\u001b[0;34m=\u001b[0m\u001b[0mPath\u001b[0m\u001b[0;34m(\u001b[0m\u001b[0mentities_file_path\u001b[0m\u001b[0;34m)\u001b[0m\u001b[0;34m)\u001b[0m\u001b[0;34m\u001b[0m\u001b[0;34m\u001b[0m\u001b[0m\n\u001b[1;32m     32\u001b[0m \u001b[0;34m\u001b[0m\u001b[0m\n\u001b[0;32m---> 33\u001b[0;31m             \u001b[0mbbox_labeled\u001b[0m \u001b[0;34m=\u001b[0m \u001b[0massign_labels\u001b[0m\u001b[0;34m(\u001b[0m\u001b[0mbbox\u001b[0m\u001b[0;34m,\u001b[0m \u001b[0mentities\u001b[0m\u001b[0;34m)\u001b[0m\u001b[0;34m\u001b[0m\u001b[0;34m\u001b[0m\u001b[0m\n\u001b[0m\u001b[1;32m     34\u001b[0m             \u001b[0mbbox\u001b[0m\u001b[0;34m.\u001b[0m\u001b[0mappend\u001b[0m\u001b[0;34m(\u001b[0m\u001b[0mbbox_labeled\u001b[0m\u001b[0;34m)\u001b[0m\u001b[0;34m\u001b[0m\u001b[0;34m\u001b[0m\u001b[0m\n\u001b[1;32m     35\u001b[0m             \u001b[0mbbox_labeled\u001b[0m\u001b[0;34m.\u001b[0m\u001b[0mto_csv\u001b[0m\u001b[0;34m(\u001b[0m\u001b[0;34m\"sroie_csv/\"\u001b[0m\u001b[0;34m+\u001b[0m\u001b[0mfilename\u001b[0m\u001b[0;34m[\u001b[0m\u001b[0;34m:\u001b[0m\u001b[0;34m-\u001b[0m\u001b[0;36m4\u001b[0m\u001b[0;34m]\u001b[0m\u001b[0;34m+\u001b[0m\u001b[0;34m\".csv\"\u001b[0m\u001b[0;34m)\u001b[0m\u001b[0;34m\u001b[0m\u001b[0;34m\u001b[0m\u001b[0m\n",
            "\u001b[0;32m<ipython-input-4-e9d8438cc904>\u001b[0m in \u001b[0;36massign_labels\u001b[0;34m(words, entities)\u001b[0m\n\u001b[1;32m     73\u001b[0m     \u001b[0mlabels\u001b[0m \u001b[0;34m=\u001b[0m \u001b[0;34m[\u001b[0m\u001b[0;34m]\u001b[0m\u001b[0;34m\u001b[0m\u001b[0;34m\u001b[0m\u001b[0m\n\u001b[1;32m     74\u001b[0m     \u001b[0;32mfor\u001b[0m \u001b[0mi\u001b[0m\u001b[0;34m,\u001b[0m \u001b[0mline\u001b[0m \u001b[0;32min\u001b[0m \u001b[0menumerate\u001b[0m\u001b[0;34m(\u001b[0m\u001b[0mwords\u001b[0m\u001b[0;34m[\u001b[0m\u001b[0;34m'line'\u001b[0m\u001b[0;34m]\u001b[0m\u001b[0;34m)\u001b[0m\u001b[0;34m:\u001b[0m\u001b[0;34m\u001b[0m\u001b[0;34m\u001b[0m\u001b[0m\n\u001b[0;32m---> 75\u001b[0;31m         \u001b[0mlabel\u001b[0m \u001b[0;34m=\u001b[0m \u001b[0massign_line_label\u001b[0m\u001b[0;34m(\u001b[0m\u001b[0mline\u001b[0m\u001b[0;34m,\u001b[0m \u001b[0mentities\u001b[0m\u001b[0;34m)\u001b[0m\u001b[0;34m\u001b[0m\u001b[0;34m\u001b[0m\u001b[0m\n\u001b[0m\u001b[1;32m     76\u001b[0m \u001b[0;34m\u001b[0m\u001b[0m\n\u001b[1;32m     77\u001b[0m         \u001b[0malready_labeled\u001b[0m\u001b[0;34m[\u001b[0m\u001b[0mlabel\u001b[0m\u001b[0;34m]\u001b[0m \u001b[0;34m=\u001b[0m \u001b[0;32mTrue\u001b[0m\u001b[0;34m\u001b[0m\u001b[0;34m\u001b[0m\u001b[0m\n",
            "\u001b[0;32m<ipython-input-4-e9d8438cc904>\u001b[0m in \u001b[0;36massign_line_label\u001b[0;34m(line, entities)\u001b[0m\n\u001b[1;32m     50\u001b[0m         \u001b[0mmatches_count\u001b[0m \u001b[0;34m=\u001b[0m \u001b[0;36m0\u001b[0m\u001b[0;34m\u001b[0m\u001b[0;34m\u001b[0m\u001b[0m\n\u001b[1;32m     51\u001b[0m         \u001b[0;32mfor\u001b[0m \u001b[0ml\u001b[0m \u001b[0;32min\u001b[0m \u001b[0mline_set\u001b[0m\u001b[0;34m:\u001b[0m\u001b[0;34m\u001b[0m\u001b[0;34m\u001b[0m\u001b[0m\n\u001b[0;32m---> 52\u001b[0;31m             \u001b[0;32mif\u001b[0m \u001b[0many\u001b[0m\u001b[0;34m(\u001b[0m\u001b[0mSequenceMatcher\u001b[0m\u001b[0;34m(\u001b[0m\u001b[0ma\u001b[0m\u001b[0;34m=\u001b[0m\u001b[0ml\u001b[0m\u001b[0;34m,\u001b[0m \u001b[0mb\u001b[0m\u001b[0;34m=\u001b[0m\u001b[0mb\u001b[0m\u001b[0;34m)\u001b[0m\u001b[0;34m.\u001b[0m\u001b[0mratio\u001b[0m\u001b[0;34m(\u001b[0m\u001b[0;34m)\u001b[0m \u001b[0;34m>\u001b[0m \u001b[0;36m0.8\u001b[0m \u001b[0;32mfor\u001b[0m \u001b[0mb\u001b[0m \u001b[0;32min\u001b[0m \u001b[0mentity_set\u001b[0m\u001b[0;34m)\u001b[0m\u001b[0;34m:\u001b[0m\u001b[0;34m\u001b[0m\u001b[0;34m\u001b[0m\u001b[0m\n\u001b[0m\u001b[1;32m     53\u001b[0m                 \u001b[0mmatches_count\u001b[0m \u001b[0;34m+=\u001b[0m \u001b[0;36m1\u001b[0m\u001b[0;34m\u001b[0m\u001b[0;34m\u001b[0m\u001b[0m\n\u001b[1;32m     54\u001b[0m \u001b[0;34m\u001b[0m\u001b[0m\n",
            "\u001b[0;32m<ipython-input-4-e9d8438cc904>\u001b[0m in \u001b[0;36m<genexpr>\u001b[0;34m(.0)\u001b[0m\n\u001b[1;32m     50\u001b[0m         \u001b[0mmatches_count\u001b[0m \u001b[0;34m=\u001b[0m \u001b[0;36m0\u001b[0m\u001b[0;34m\u001b[0m\u001b[0;34m\u001b[0m\u001b[0m\n\u001b[1;32m     51\u001b[0m         \u001b[0;32mfor\u001b[0m \u001b[0ml\u001b[0m \u001b[0;32min\u001b[0m \u001b[0mline_set\u001b[0m\u001b[0;34m:\u001b[0m\u001b[0;34m\u001b[0m\u001b[0;34m\u001b[0m\u001b[0m\n\u001b[0;32m---> 52\u001b[0;31m             \u001b[0;32mif\u001b[0m \u001b[0many\u001b[0m\u001b[0;34m(\u001b[0m\u001b[0mSequenceMatcher\u001b[0m\u001b[0;34m(\u001b[0m\u001b[0ma\u001b[0m\u001b[0;34m=\u001b[0m\u001b[0ml\u001b[0m\u001b[0;34m,\u001b[0m \u001b[0mb\u001b[0m\u001b[0;34m=\u001b[0m\u001b[0mb\u001b[0m\u001b[0;34m)\u001b[0m\u001b[0;34m.\u001b[0m\u001b[0mratio\u001b[0m\u001b[0;34m(\u001b[0m\u001b[0;34m)\u001b[0m \u001b[0;34m>\u001b[0m \u001b[0;36m0.8\u001b[0m \u001b[0;32mfor\u001b[0m \u001b[0mb\u001b[0m \u001b[0;32min\u001b[0m \u001b[0mentity_set\u001b[0m\u001b[0;34m)\u001b[0m\u001b[0;34m:\u001b[0m\u001b[0;34m\u001b[0m\u001b[0;34m\u001b[0m\u001b[0m\n\u001b[0m\u001b[1;32m     53\u001b[0m                 \u001b[0mmatches_count\u001b[0m \u001b[0;34m+=\u001b[0m \u001b[0;36m1\u001b[0m\u001b[0;34m\u001b[0m\u001b[0;34m\u001b[0m\u001b[0m\n\u001b[1;32m     54\u001b[0m \u001b[0;34m\u001b[0m\u001b[0m\n",
            "\u001b[0;32m/usr/lib/python3.9/difflib.py\u001b[0m in \u001b[0;36mratio\u001b[0;34m(self)\u001b[0m\n\u001b[1;32m    617\u001b[0m         \"\"\"\n\u001b[1;32m    618\u001b[0m \u001b[0;34m\u001b[0m\u001b[0m\n\u001b[0;32m--> 619\u001b[0;31m         \u001b[0mmatches\u001b[0m \u001b[0;34m=\u001b[0m \u001b[0msum\u001b[0m\u001b[0;34m(\u001b[0m\u001b[0mtriple\u001b[0m\u001b[0;34m[\u001b[0m\u001b[0;34m-\u001b[0m\u001b[0;36m1\u001b[0m\u001b[0;34m]\u001b[0m \u001b[0;32mfor\u001b[0m \u001b[0mtriple\u001b[0m \u001b[0;32min\u001b[0m \u001b[0mself\u001b[0m\u001b[0;34m.\u001b[0m\u001b[0mget_matching_blocks\u001b[0m\u001b[0;34m(\u001b[0m\u001b[0;34m)\u001b[0m\u001b[0;34m)\u001b[0m\u001b[0;34m\u001b[0m\u001b[0;34m\u001b[0m\u001b[0m\n\u001b[0m\u001b[1;32m    620\u001b[0m         \u001b[0;32mreturn\u001b[0m \u001b[0m_calculate_ratio\u001b[0m\u001b[0;34m(\u001b[0m\u001b[0mmatches\u001b[0m\u001b[0;34m,\u001b[0m \u001b[0mlen\u001b[0m\u001b[0;34m(\u001b[0m\u001b[0mself\u001b[0m\u001b[0;34m.\u001b[0m\u001b[0ma\u001b[0m\u001b[0;34m)\u001b[0m \u001b[0;34m+\u001b[0m \u001b[0mlen\u001b[0m\u001b[0;34m(\u001b[0m\u001b[0mself\u001b[0m\u001b[0;34m.\u001b[0m\u001b[0mb\u001b[0m\u001b[0;34m)\u001b[0m\u001b[0;34m)\u001b[0m\u001b[0;34m\u001b[0m\u001b[0;34m\u001b[0m\u001b[0m\n\u001b[1;32m    621\u001b[0m \u001b[0;34m\u001b[0m\u001b[0m\n",
            "\u001b[0;32m/usr/lib/python3.9/difflib.py\u001b[0m in \u001b[0;36mget_matching_blocks\u001b[0;34m(self)\u001b[0m\n\u001b[1;32m    487\u001b[0m \u001b[0;34m\u001b[0m\u001b[0m\n\u001b[1;32m    488\u001b[0m         \u001b[0mnon_adjacent\u001b[0m\u001b[0;34m.\u001b[0m\u001b[0mappend\u001b[0m\u001b[0;34m(\u001b[0m \u001b[0;34m(\u001b[0m\u001b[0mla\u001b[0m\u001b[0;34m,\u001b[0m \u001b[0mlb\u001b[0m\u001b[0;34m,\u001b[0m \u001b[0;36m0\u001b[0m\u001b[0;34m)\u001b[0m \u001b[0;34m)\u001b[0m\u001b[0;34m\u001b[0m\u001b[0;34m\u001b[0m\u001b[0m\n\u001b[0;32m--> 489\u001b[0;31m         \u001b[0mself\u001b[0m\u001b[0;34m.\u001b[0m\u001b[0mmatching_blocks\u001b[0m \u001b[0;34m=\u001b[0m \u001b[0mlist\u001b[0m\u001b[0;34m(\u001b[0m\u001b[0mmap\u001b[0m\u001b[0;34m(\u001b[0m\u001b[0mMatch\u001b[0m\u001b[0;34m.\u001b[0m\u001b[0m_make\u001b[0m\u001b[0;34m,\u001b[0m \u001b[0mnon_adjacent\u001b[0m\u001b[0;34m)\u001b[0m\u001b[0;34m)\u001b[0m\u001b[0;34m\u001b[0m\u001b[0;34m\u001b[0m\u001b[0m\n\u001b[0m\u001b[1;32m    490\u001b[0m         \u001b[0;32mreturn\u001b[0m \u001b[0mself\u001b[0m\u001b[0;34m.\u001b[0m\u001b[0mmatching_blocks\u001b[0m\u001b[0;34m\u001b[0m\u001b[0;34m\u001b[0m\u001b[0m\n\u001b[1;32m    491\u001b[0m \u001b[0;34m\u001b[0m\u001b[0m\n",
            "\u001b[0;31mKeyboardInterrupt\u001b[0m: "
          ]
        }
      ]
    },
    {
      "cell_type": "code",
      "source": [
        "df_NER = pd.read_csv(\"/content/sroie_csv/X00016469612.csv\")[[\"line\", \"label\"]]\n",
        "df_NER.head()"
      ],
      "metadata": {
        "colab": {
          "base_uri": "https://localhost:8080/",
          "height": 206
        },
        "id": "eiqCwmGAIgL-",
        "outputId": "7df34ab6-e559-4428-a114-e05eac341c36"
      },
      "execution_count": 25,
      "outputs": [
        {
          "output_type": "execute_result",
          "data": {
            "text/plain": [
              "                               line    label\n",
              "0                     TAN WOON YANN        O\n",
              "1    BOOK TA .K(TAMAN DAYA) SDN BND        O\n",
              "2                          789417-W        O\n",
              "3  NO.53 55,57 & 59, JALAN SAGU 18,  ADDRESS\n",
              "4                       TAMAN DAYA,  COMPANY"
            ],
            "text/html": [
              "\n",
              "  <div id=\"df-2d9cbd14-ee32-4103-87c2-eb43224921fd\">\n",
              "    <div class=\"colab-df-container\">\n",
              "      <div>\n",
              "<style scoped>\n",
              "    .dataframe tbody tr th:only-of-type {\n",
              "        vertical-align: middle;\n",
              "    }\n",
              "\n",
              "    .dataframe tbody tr th {\n",
              "        vertical-align: top;\n",
              "    }\n",
              "\n",
              "    .dataframe thead th {\n",
              "        text-align: right;\n",
              "    }\n",
              "</style>\n",
              "<table border=\"1\" class=\"dataframe\">\n",
              "  <thead>\n",
              "    <tr style=\"text-align: right;\">\n",
              "      <th></th>\n",
              "      <th>line</th>\n",
              "      <th>label</th>\n",
              "    </tr>\n",
              "  </thead>\n",
              "  <tbody>\n",
              "    <tr>\n",
              "      <th>0</th>\n",
              "      <td>TAN WOON YANN</td>\n",
              "      <td>O</td>\n",
              "    </tr>\n",
              "    <tr>\n",
              "      <th>1</th>\n",
              "      <td>BOOK TA .K(TAMAN DAYA) SDN BND</td>\n",
              "      <td>O</td>\n",
              "    </tr>\n",
              "    <tr>\n",
              "      <th>2</th>\n",
              "      <td>789417-W</td>\n",
              "      <td>O</td>\n",
              "    </tr>\n",
              "    <tr>\n",
              "      <th>3</th>\n",
              "      <td>NO.53 55,57 &amp; 59, JALAN SAGU 18,</td>\n",
              "      <td>ADDRESS</td>\n",
              "    </tr>\n",
              "    <tr>\n",
              "      <th>4</th>\n",
              "      <td>TAMAN DAYA,</td>\n",
              "      <td>COMPANY</td>\n",
              "    </tr>\n",
              "  </tbody>\n",
              "</table>\n",
              "</div>\n",
              "      <button class=\"colab-df-convert\" onclick=\"convertToInteractive('df-2d9cbd14-ee32-4103-87c2-eb43224921fd')\"\n",
              "              title=\"Convert this dataframe to an interactive table.\"\n",
              "              style=\"display:none;\">\n",
              "        \n",
              "  <svg xmlns=\"http://www.w3.org/2000/svg\" height=\"24px\"viewBox=\"0 0 24 24\"\n",
              "       width=\"24px\">\n",
              "    <path d=\"M0 0h24v24H0V0z\" fill=\"none\"/>\n",
              "    <path d=\"M18.56 5.44l.94 2.06.94-2.06 2.06-.94-2.06-.94-.94-2.06-.94 2.06-2.06.94zm-11 1L8.5 8.5l.94-2.06 2.06-.94-2.06-.94L8.5 2.5l-.94 2.06-2.06.94zm10 10l.94 2.06.94-2.06 2.06-.94-2.06-.94-.94-2.06-.94 2.06-2.06.94z\"/><path d=\"M17.41 7.96l-1.37-1.37c-.4-.4-.92-.59-1.43-.59-.52 0-1.04.2-1.43.59L10.3 9.45l-7.72 7.72c-.78.78-.78 2.05 0 2.83L4 21.41c.39.39.9.59 1.41.59.51 0 1.02-.2 1.41-.59l7.78-7.78 2.81-2.81c.8-.78.8-2.07 0-2.86zM5.41 20L4 18.59l7.72-7.72 1.47 1.35L5.41 20z\"/>\n",
              "  </svg>\n",
              "      </button>\n",
              "      \n",
              "  <style>\n",
              "    .colab-df-container {\n",
              "      display:flex;\n",
              "      flex-wrap:wrap;\n",
              "      gap: 12px;\n",
              "    }\n",
              "\n",
              "    .colab-df-convert {\n",
              "      background-color: #E8F0FE;\n",
              "      border: none;\n",
              "      border-radius: 50%;\n",
              "      cursor: pointer;\n",
              "      display: none;\n",
              "      fill: #1967D2;\n",
              "      height: 32px;\n",
              "      padding: 0 0 0 0;\n",
              "      width: 32px;\n",
              "    }\n",
              "\n",
              "    .colab-df-convert:hover {\n",
              "      background-color: #E2EBFA;\n",
              "      box-shadow: 0px 1px 2px rgba(60, 64, 67, 0.3), 0px 1px 3px 1px rgba(60, 64, 67, 0.15);\n",
              "      fill: #174EA6;\n",
              "    }\n",
              "\n",
              "    [theme=dark] .colab-df-convert {\n",
              "      background-color: #3B4455;\n",
              "      fill: #D2E3FC;\n",
              "    }\n",
              "\n",
              "    [theme=dark] .colab-df-convert:hover {\n",
              "      background-color: #434B5C;\n",
              "      box-shadow: 0px 1px 3px 1px rgba(0, 0, 0, 0.15);\n",
              "      filter: drop-shadow(0px 1px 2px rgba(0, 0, 0, 0.3));\n",
              "      fill: #FFFFFF;\n",
              "    }\n",
              "  </style>\n",
              "\n",
              "      <script>\n",
              "        const buttonEl =\n",
              "          document.querySelector('#df-2d9cbd14-ee32-4103-87c2-eb43224921fd button.colab-df-convert');\n",
              "        buttonEl.style.display =\n",
              "          google.colab.kernel.accessAllowed ? 'block' : 'none';\n",
              "\n",
              "        async function convertToInteractive(key) {\n",
              "          const element = document.querySelector('#df-2d9cbd14-ee32-4103-87c2-eb43224921fd');\n",
              "          const dataTable =\n",
              "            await google.colab.kernel.invokeFunction('convertToInteractive',\n",
              "                                                     [key], {});\n",
              "          if (!dataTable) return;\n",
              "\n",
              "          const docLinkHtml = 'Like what you see? Visit the ' +\n",
              "            '<a target=\"_blank\" href=https://colab.research.google.com/notebooks/data_table.ipynb>data table notebook</a>'\n",
              "            + ' to learn more about interactive tables.';\n",
              "          element.innerHTML = '';\n",
              "          dataTable['output_type'] = 'display_data';\n",
              "          await google.colab.output.renderOutput(dataTable, element);\n",
              "          const docLink = document.createElement('div');\n",
              "          docLink.innerHTML = docLinkHtml;\n",
              "          element.appendChild(docLink);\n",
              "        }\n",
              "      </script>\n",
              "    </div>\n",
              "  </div>\n",
              "  "
            ]
          },
          "metadata": {},
          "execution_count": 25
        }
      ]
    },
    {
      "cell_type": "markdown",
      "source": [
        "### def SROIE NER"
      ],
      "metadata": {
        "id": "qZGZa-oYNUn2"
      }
    },
    {
      "cell_type": "code",
      "source": [
        "def sroie_relabel(df_NER):\n",
        "  ner_label = []\n",
        "\n",
        "  for i in range(len(df_NER[\"line\"])):\n",
        "    nb_word = len(df_NER['line'][i].split())\n",
        "    if df_NER[\"label\"][i] == \"O\":\n",
        "      ner_label.append(\"O \" * nb_word)\n",
        "    else:\n",
        "      s = (\" I-\"+df_NER[\"label\"][i]) * (nb_word-1)\n",
        "      ner_label.append(\"B-\"+df_NER[\"label\"][i]+s)\n",
        "\n",
        "  df_NER['ner_label'] = np.array(ner_label)\n",
        "  return df_NER"
      ],
      "metadata": {
        "id": "uDV0z36HNBE2"
      },
      "execution_count": 9,
      "outputs": []
    },
    {
      "cell_type": "code",
      "source": [
        "df_NER1 = sroie_relabel(df_NER)"
      ],
      "metadata": {
        "colab": {
          "base_uri": "https://localhost:8080/",
          "height": 171
        },
        "id": "ilgq54P1Ip_B",
        "outputId": "bae7e3a1-b1bf-4522-b9af-17d32361dfa0"
      },
      "execution_count": 10,
      "outputs": [
        {
          "output_type": "error",
          "ename": "NameError",
          "evalue": "ignored",
          "traceback": [
            "\u001b[0;31m---------------------------------------------------------------------------\u001b[0m",
            "\u001b[0;31mNameError\u001b[0m                                 Traceback (most recent call last)",
            "\u001b[0;32m<ipython-input-10-a09a4bdeffd4>\u001b[0m in \u001b[0;36m<module>\u001b[0;34m\u001b[0m\n\u001b[0;32m----> 1\u001b[0;31m \u001b[0mdf_NER1\u001b[0m \u001b[0;34m=\u001b[0m \u001b[0msroie_relabel\u001b[0m\u001b[0;34m(\u001b[0m\u001b[0mdf_NER\u001b[0m\u001b[0;34m)\u001b[0m\u001b[0;34m\u001b[0m\u001b[0;34m\u001b[0m\u001b[0m\n\u001b[0m",
            "\u001b[0;31mNameError\u001b[0m: name 'df_NER' is not defined"
          ]
        }
      ]
    },
    {
      "cell_type": "code",
      "source": [
        "def convert_sroie_to_string(df_NER):\n",
        "  lines = \"\"\n",
        "  labels = \"\"\n",
        "  L = []\n",
        "  for i in range(len(df_NER[\"line\"])):\n",
        "    lines+=df_NER[\"line\"][i]+\" \"\n",
        "    labels+=df_NER[\"ner_label\"][i]+\" \"\n",
        "  return (lines, labels)"
      ],
      "metadata": {
        "id": "TVHf54xiNo5H"
      },
      "execution_count": 11,
      "outputs": []
    },
    {
      "cell_type": "code",
      "source": [
        "df_NER1.head(100)"
      ],
      "metadata": {
        "id": "aHALCMT7MAAl"
      },
      "execution_count": null,
      "outputs": []
    },
    {
      "cell_type": "code",
      "source": [
        "convert_sroie_to_string(df_NER1)"
      ],
      "metadata": {
        "id": "GM820EVmIp8g"
      },
      "execution_count": null,
      "outputs": []
    },
    {
      "cell_type": "code",
      "source": [
        "def sroie_to_ner(sroie_csv_path):\n",
        "  lines = []\n",
        "  labels = []\n",
        "  for filename in os.listdir(sroie_csv_path):\n",
        "    file_path = sroie_csv_path + filename\n",
        "    df_NER = pd.read_csv(file_path)[[\"line\", \"label\"]]\n",
        "    df_NER1 = sroie_relabel(df_NER)\n",
        "    (line, label) = convert_sroie_to_string(df_NER1)\n",
        "    lines.append(line)\n",
        "    labels.append(label)\n",
        "  \n",
        "  zipped = list(zip(lines, labels))\n",
        "  # print(labels)\n",
        "  df = pd.DataFrame(zipped, columns=['text', 'labels'])\n",
        "  df.to_csv(\"sroie_NER.csv\")\n",
        "  return df"
      ],
      "metadata": {
        "id": "7O_diXZaIp5d"
      },
      "execution_count": 16,
      "outputs": []
    },
    {
      "cell_type": "code",
      "source": [
        "df = sroie_to_ner(\"/content/sroie_csv/\")\n"
      ],
      "metadata": {
        "colab": {
          "base_uri": "https://localhost:8080/"
        },
        "id": "G4hf9dw9QdAq",
        "outputId": "8cbbbf8f-e3dc-4633-b6f5-9a17acc9c7b1"
      },
      "execution_count": 17,
      "outputs": [
        {
          "output_type": "stream",
          "name": "stdout",
          "text": [
            "['B-COMPANY I-COMPANY I-COMPANY I-COMPANY B-DATE I-DATE I-DATE I-DATE O  B-ADDRESS I-ADDRESS I-ADDRESS I-ADDRESS I-ADDRESS B-ADDRESS I-ADDRESS I-ADDRESS O O  O O O O  O  O  O  O  O  O O  O  O O O  O  O  O  O  O  B-TOTAL I-TOTAL I-TOTAL O O O  O O  O O O  O O  O  O  O  O  O  O O  O O O O  O  O  O  O  O O O  O O O O  O O O O O  O O O O O O  O  ', 'O O O O  B-ADDRESS I-ADDRESS I-ADDRESS I-ADDRESS I-ADDRESS I-ADDRESS B-ADDRESS I-ADDRESS I-ADDRESS I-ADDRESS B-ADDRESS I-ADDRESS I-ADDRESS I-ADDRESS O  O O O O  O O  O O  O  O  O  O  O  O  B-DATE I-DATE I-DATE O  O  O  O O  O  O  O O O O O  O O  O  B-TOTAL O  O O  O O O  O O O O O  O O O  O  O  O  O  O O  O O O  O O  O  O  O  O  O  O O  O  O O O O  O O O O O  ', 'B-COMPANY I-COMPANY I-COMPANY I-COMPANY I-COMPANY O  B-ADDRESS I-ADDRESS I-ADDRESS I-ADDRESS I-ADDRESS B-ADDRESS I-ADDRESS I-ADDRESS B-ADDRESS I-ADDRESS O O O O O  O O  O O  O O O  O O  O  B-DATE I-DATE I-DATE O O O  O  O  O  O O  O O O O O O  O O  O  O  O  O O O  O  O O O  O  O O O O  O  O  B-TOTAL O O  O  O  O O O  O O  O  O O  O  O  O  O O  O  O  O O  O O O  ', 'O O O O O  B-COMPANY I-COMPANY I-COMPANY I-COMPANY I-COMPANY I-COMPANY I-COMPANY O  B-ADDRESS I-ADDRESS B-ADDRESS I-ADDRESS I-ADDRESS I-ADDRESS I-ADDRESS I-ADDRESS I-ADDRESS O O O O O O  O O O O  O O  B-ADDRESS I-ADDRESS O  O O  O  O O  O  O  O O  O  B-DATE O  O  O  O  O  O  O  O  O  O O O O O O  O  O  O  O  O  O  O  O O O O O  O  O O  O  O O O  O  O O O  O  O O  O  O O O O O  B-TOTAL O  O  O  O  O O  O O  O  O O  O O  O  O  O  O  O O  O  O  O O O O O O O O  O  O O O O O O O  ', 'B-COMPANY I-COMPANY I-COMPANY I-COMPANY O  B-ADDRESS I-ADDRESS I-ADDRESS I-ADDRESS B-ADDRESS I-ADDRESS I-ADDRESS I-ADDRESS I-ADDRESS B-ADDRESS I-ADDRESS I-ADDRESS O  O  O  O O O O O  O  O  O  O  O  O O O  O O  O  O O  O O  O  O O  O  O  O  O O O  O O O  O O  O  O O  O O  O  O O  B-ADDRESS I-ADDRESS O O O  B-TOTAL O O  O  O  O O  O  O  O  O  O  O  O  O  O O  O  O  O  O  O  B-DATE O  O O O O O O O  O O O O O  O O O O O  O O O  ', 'O O O  B-COMPANY I-COMPANY I-COMPANY I-COMPANY I-COMPANY O O O  B-ADDRESS I-ADDRESS I-ADDRESS I-ADDRESS I-ADDRESS I-ADDRESS I-ADDRESS B-ADDRESS I-ADDRESS I-ADDRESS B-ADDRESS I-ADDRESS I-ADDRESS I-ADDRESS B-ADDRESS I-ADDRESS I-ADDRESS I-ADDRESS O  O O O O  O O O  O  O  O  O  O  O O O O O  O O O  O  O  O  O  O  O O O O  O O O  O  O  O  O  O  O O O O  O O O  O  O  O  O  O  O O O  O O O  O  O O  O O  O O  O O  B-TOTAL I-TOTAL O  O O  O  O O  B-DATE I-DATE I-DATE I-DATE O O  O O O  O O O O  O O O O  O O O O  ', 'B-COMPANY I-COMPANY I-COMPANY I-COMPANY I-COMPANY I-COMPANY O O O O  O O O O O  B-ADDRESS I-ADDRESS I-ADDRESS I-ADDRESS I-ADDRESS I-ADDRESS I-ADDRESS B-ADDRESS I-ADDRESS I-ADDRESS B-ADDRESS I-ADDRESS I-ADDRESS I-ADDRESS I-ADDRESS O O O O O O  B-DATE O O  O O  O O O O  O O O  O O O  O  O  O  O  O  O  O  O O  O O O O  O O O  O  O  O  O O  O O O O O O  O  O  O  O O  O O O O  O  O  O  O O  O O O O O  O  O  O  O O  O O O O  O O O O O O O O  B-TOTAL O O O  O  O O O O  O  O O O O  O  O O  O O  O O  O O O O  O  O  O  O  O O O O O  O O O O O  O O O O O O  ', 'B-COMPANY I-COMPANY I-COMPANY I-COMPANY I-COMPANY B-ADDRESS I-ADDRESS I-ADDRESS I-ADDRESS I-ADDRESS I-ADDRESS B-ADDRESS I-ADDRESS B-ADDRESS I-ADDRESS I-ADDRESS B-ADDRESS I-ADDRESS O O O O O  O O O O  O  O  B-DATE O O O O  O  O  O O O O  O  O  O O O O  O  O  O  O  O  B-TOTAL O  O  O O  O O O  O O  O  O O  O  ', 'O O O  B-COMPANY I-COMPANY O  B-ADDRESS I-ADDRESS I-ADDRESS I-ADDRESS I-ADDRESS B-ADDRESS I-ADDRESS I-ADDRESS O O  O O O  O O O  O  B-ADDRESS I-ADDRESS O  O  B-DATE O  O  O  O O O  O  O  O  O  O  O  O  O  O  O  O  O  O O O O  O O  O  O  O O O O O  O  O O  O  O O O  O  O  O  O O O O O O  B-TOTAL O O  O  O O  O  O O  O O  O  O O  O O  O  O  O  O  O O  O  O  O O O O O O  ', 'B-COMPANY I-COMPANY I-COMPANY I-COMPANY I-COMPANY I-COMPANY O O O O  B-ADDRESS I-ADDRESS I-ADDRESS I-ADDRESS I-ADDRESS I-ADDRESS I-ADDRESS I-ADDRESS B-ADDRESS I-ADDRESS I-ADDRESS I-ADDRESS I-ADDRESS I-ADDRESS B-ADDRESS I-ADDRESS I-ADDRESS O O O O  O O  O O  O O O  O O O O  O O  O  O  O  O O O O O O  O  O  O  O O O O O O  O  O  O  O O O O O O  O  O  O  O O O O O  O  O  B-TOTAL O  O  O  O  O O O  O  O  O  O  O O O  O  O  O O O O O  O O O O O  B-DATE I-DATE I-DATE O O O O  O O  ', 'B-COMPANY I-COMPANY B-COMPANY I-COMPANY I-COMPANY I-COMPANY O O O  O O O O  B-ADDRESS I-ADDRESS I-ADDRESS I-ADDRESS I-ADDRESS I-ADDRESS I-ADDRESS B-ADDRESS I-ADDRESS I-ADDRESS I-ADDRESS I-ADDRESS O O  O O O O O  B-DATE I-DATE O O O O  O  O O  O  O  O  O O O O  O O  O O  O O O O O  O  O  B-TOTAL O  O  O O  O O  O O O  O O  O  O O  O  O  O O  O  O O O O O  O O O O  O O O O O  O O O O  O O O O  O O O O  ', 'B-COMPANY I-COMPANY I-COMPANY I-COMPANY I-COMPANY B-ADDRESS I-ADDRESS I-ADDRESS I-ADDRESS I-ADDRESS I-ADDRESS B-ADDRESS I-ADDRESS B-ADDRESS I-ADDRESS I-ADDRESS B-ADDRESS I-ADDRESS O O O O O  O O O O  O  O  B-DATE O O O O O  B-TOTAL O  O O O O  O  O  O  O  O  O  O  O  O O  O O O  O O  O  O  O  O O O O O  O O O O O O  ', 'B-COMPANY I-COMPANY I-COMPANY I-COMPANY O  B-ADDRESS I-ADDRESS I-ADDRESS I-ADDRESS B-ADDRESS I-ADDRESS I-ADDRESS O O  O O  O O O O  O O  O O  O  B-DATE I-DATE I-DATE I-DATE O  O O  O O O O O  O  O  O  O  O  O  O  B-TOTAL I-TOTAL O O O O O O  O O  O  O  O O O  O  O O  O  O  O  O O O  O  O O  O  O O  O  O  O  O  O  O O O O O O O  O O O O O  O O  ', 'B-COMPANY I-COMPANY I-COMPANY I-COMPANY I-COMPANY O O O  B-ADDRESS I-ADDRESS I-ADDRESS I-ADDRESS I-ADDRESS B-ADDRESS I-ADDRESS I-ADDRESS I-ADDRESS I-ADDRESS B-ADDRESS I-ADDRESS I-ADDRESS O O  O O O O O O  O O  O O  O O  B-DATE I-DATE O O O  O O  O  O  O  O  O  O O  O  O  O  O  O O O O O O  O  O  O  O  O O O O  O  O  O O  O  O O O  O O O  O O O O  B-TOTAL O O  O O  O  O O  O  O O O O O  O O O O O  O  O O  O O  O O O  O  O  ', 'B-COMPANY I-COMPANY B-COMPANY I-COMPANY I-COMPANY I-COMPANY O O O  O O O O  B-ADDRESS I-ADDRESS I-ADDRESS I-ADDRESS I-ADDRESS I-ADDRESS I-ADDRESS B-ADDRESS I-ADDRESS I-ADDRESS I-ADDRESS O O  O O O O  B-DATE I-DATE O O O  O O O  O O  O O O O  O O O  O  O  O O O  O O O  O O  O O O O  O O O  O O  O O  O  O O O  O O  O O  O  O O O O O  O  O O  O  O O  B-TOTAL O  O  O  O  O O  O  O O  O O  O O  O O O  O  O  O O O  O  O  O O  O  O O O O O  O O O O  O O O O O  O  O O O O  O  ', 'B-COMPANY I-COMPANY I-COMPANY I-COMPANY B-DATE I-DATE I-DATE I-DATE O  B-ADDRESS I-ADDRESS I-ADDRESS I-ADDRESS I-ADDRESS B-ADDRESS I-ADDRESS I-ADDRESS O O  O O O  O  O  O  O O O O O O O  O  O O O  O  O  O  O  O  B-TOTAL I-TOTAL I-TOTAL O O O  O O  O O O  O O  O  O  O  O  O  O O  O  O  O O O O  O  O  O O O  O O O O  O O O O O  O O O O O O  O  ', 'O  B-COMPANY I-COMPANY I-COMPANY I-COMPANY I-COMPANY B-ADDRESS I-ADDRESS I-ADDRESS I-ADDRESS B-ADDRESS I-ADDRESS I-ADDRESS I-ADDRESS I-ADDRESS I-ADDRESS I-ADDRESS B-ADDRESS I-ADDRESS I-ADDRESS I-ADDRESS I-ADDRESS I-ADDRESS O O O O  O O O  O  O O O O  O O O  O O O  O O  O O O  O O O O O O  O  O  O  O  O O O O O  O  O  O  O  O  O O O O O  O  O  O  O  O  O O O O  O  O  O  O  O O O O  O  O  O  O  O O  O  O  B-TOTAL O O  O  O O O  O  O  O  O  O  O O  O O O  O  O O O  O  O  O O O  O  O  O O O O O O  O O  O  O O O O O  O  B-DATE I-DATE I-DATE I-DATE O O O O O O O  O O O O O O O O  O O O O O O O O  O O O O O O  O O O O O O O O  O O O O  O O O O O O  O  O  O  O  O  O  O  O  O  O  O  O  O  ', 'B-COMPANY I-COMPANY I-COMPANY O  B-ADDRESS I-ADDRESS I-ADDRESS I-ADDRESS B-ADDRESS I-ADDRESS I-ADDRESS I-ADDRESS I-ADDRESS B-ADDRESS I-ADDRESS I-ADDRESS O O O O  O O  O O O  O O  O  B-DATE I-DATE I-DATE O  O  O  O O  O  O O  O  O O  O O  O O  O  O O  O O O  O O O  O  O O O O  O  O  B-TOTAL O O  O  O O  O  O  O  O O  O  O  ', 'O  B-COMPANY I-COMPANY I-COMPANY I-COMPANY O  B-ADDRESS I-ADDRESS I-ADDRESS I-ADDRESS B-ADDRESS I-ADDRESS I-ADDRESS O O O  O O O  O O O O  O O  O O O  O O O O  O O O O O  O O O  B-ADDRESS I-ADDRESS O  O O  O O  B-DATE I-DATE O  O O  O O  O O  O O  O  O  O  O  O  O  O  O  O  O  O  O  O O O  O O  O  B-TOTAL O O O O O  O  O O  O  O O O  O  O O  O  O O O O O O  O  O O  O  O O  O  O O  O O  O  O  O  O  O  O  O  O O  O  O  O O O O O O O  O  O  ', 'B-COMPANY I-COMPANY I-COMPANY I-COMPANY I-COMPANY B-ADDRESS I-ADDRESS I-ADDRESS I-ADDRESS I-ADDRESS I-ADDRESS B-ADDRESS I-ADDRESS I-ADDRESS I-ADDRESS B-ADDRESS I-ADDRESS I-ADDRESS I-ADDRESS O O O O  O O  O O O O O  O O O O O  O O  O  O O  O O  O  O O  O  B-TOTAL O O O O  O  O O O O O  O  O  O  O O O  O O  O  O O O  O O  O  O  O O O  O  O  O  O  O  B-DATE I-DATE O O O  O O  O O O  O O O  O O O O O  O O O  ', 'B-COMPANY I-COMPANY I-COMPANY I-COMPANY B-DATE I-DATE I-DATE I-DATE O  B-ADDRESS I-ADDRESS I-ADDRESS I-ADDRESS I-ADDRESS B-ADDRESS I-ADDRESS I-ADDRESS O O  O O O O  O  O  O  O O O O O O O  O  O  O  O O O  O  O  O  B-TOTAL I-TOTAL I-TOTAL O O O  O O O  O O  O  O  O  O  O  O O  O  O  O O O O  O  O  O O O  O O O O  O O O O  O O O O O  O O O O O O  O  ', 'B-COMPANY I-COMPANY I-COMPANY O  B-ADDRESS I-ADDRESS I-ADDRESS I-ADDRESS B-ADDRESS I-ADDRESS I-ADDRESS I-ADDRESS I-ADDRESS B-ADDRESS I-ADDRESS I-ADDRESS O O O O  O O  O O O O  O O  O  B-DATE I-DATE I-DATE O  O  O  O  O  O O  O O  O  O  O  O O  O O  O  O  O  O O O  O O O  O  O O O  O  O O O O  O  O O  B-TOTAL O O  O  O O  O  O  O  O O  O  O  ', 'B-COMPANY I-COMPANY I-COMPANY I-COMPANY I-COMPANY B-ADDRESS I-ADDRESS I-ADDRESS I-ADDRESS I-ADDRESS I-ADDRESS I-ADDRESS B-ADDRESS I-ADDRESS I-ADDRESS B-ADDRESS I-ADDRESS I-ADDRESS I-ADDRESS O O O O  O O  O O O  O  O O O  O  O O  O O O O  O  O O O  O  O O  O O  O  O O O  O  O O  O O O  O  O O O  O  O O  O O O  O O O  O O O  B-TOTAL I-TOTAL O  O O  O  O O  O O O O O  B-DATE I-DATE I-DATE I-DATE O O  O O O O  O O O O  O O O O  O O O O  O  O  O  O  O  O  O  O  O O  ', 'B-COMPANY I-COMPANY I-COMPANY I-COMPANY I-COMPANY O O O  B-ADDRESS I-ADDRESS I-ADDRESS I-ADDRESS I-ADDRESS I-ADDRESS I-ADDRESS B-ADDRESS I-ADDRESS I-ADDRESS B-ADDRESS I-ADDRESS I-ADDRESS I-ADDRESS O O O O  O O  O O  O O O O  O  O O O  O  O O O  O  O O O O  O  O O O  O  O O O  O  O O  O  O O O  O  O O O  O  O O O O O  O  O O O  O  O O O  O  O O O O O  O  O O O  O  O O O  O  O O O  O  O O O  O  O O O  O  O O O  O  O O O  O  O O O  O  O O O  O O O  O O O  B-TOTAL I-TOTAL O  O O  O  O O  O O  O  O  O O  O  O  B-DATE I-DATE I-DATE I-DATE O O  O O O  O O O O O  O O O O  O O O O  ', 'O  B-COMPANY I-COMPANY I-COMPANY I-COMPANY O  B-ADDRESS I-ADDRESS I-ADDRESS I-ADDRESS B-ADDRESS I-ADDRESS I-ADDRESS O O O  O O O  O O O O  O O  O O O  O O O O  O O O O O  O O O  B-ADDRESS I-ADDRESS O  O O  O O  B-DATE I-DATE O  O O  O O  O O  O O  O  O  O  O  O  O  O  O  O  O  O  O  O O O  O O  O  B-TOTAL O O O O O  O  O O  O  O O O  O  O O  O  O O O O O O  O  O O  O  O O  O  O O  O O  O  O O  O O  O  O  O  O  O O  O  O  O O O O O O O  ', 'B-COMPANY I-COMPANY I-COMPANY I-COMPANY I-COMPANY B-ADDRESS I-ADDRESS I-ADDRESS I-ADDRESS I-ADDRESS B-ADDRESS I-ADDRESS B-ADDRESS I-ADDRESS I-ADDRESS B-ADDRESS I-ADDRESS I-ADDRESS O O O O O  O O O O  O  O  B-DATE O O O O O  O O  O O O O O  O O  O O O O  O O O O O  O  O O O  O  O O  B-TOTAL O O  O  O O  O  O O  O  O  O O O  O  O  O O O O O  O O O O O O  ', 'B-COMPANY I-COMPANY I-COMPANY I-COMPANY I-COMPANY I-COMPANY I-COMPANY B-ADDRESS I-ADDRESS I-ADDRESS I-ADDRESS I-ADDRESS B-ADDRESS I-ADDRESS I-ADDRESS I-ADDRESS O O O  O O O  O O O O O  O O O O  O  B-DATE I-DATE O O O O O  O O O O O O  O O O  O O O O  O O O  O O  O  O  O  O  O  O  O  O O  O  O  O  O  O  O  O  O  B-ADDRESS O  O  B-ADDRESS O  O O  O  O  O  O  O  O  O O O  O  O  O  O  O  O  O  O  O O O O O  O  O  O  O O O O O  O  O O O  O  O O  B-TOTAL O  O O O O O O O  O O O O O O  O O O O O O O  O O O O O O O O  O O O O O O O  O O  O O  O O  O  ', 'B-ADDRESS B-ADDRESS B-COMPANY I-COMPANY I-COMPANY I-COMPANY O O  B-ADDRESS I-ADDRESS I-ADDRESS I-ADDRESS B-ADDRESS I-ADDRESS B-ADDRESS I-ADDRESS I-ADDRESS I-ADDRESS I-ADDRESS B-ADDRESS I-ADDRESS I-ADDRESS O O O O  O O O  O O  O O  O  O O  O O  O O  O O  B-DATE I-DATE I-DATE O O  O O O  O O  O  O O  O O  O  O  O  O  O O  O  O  O  O  O  O  B-TOTAL O O O  O O  ', 'B-COMPANY I-COMPANY I-COMPANY B-ADDRESS I-ADDRESS I-ADDRESS I-ADDRESS B-ADDRESS I-ADDRESS B-ADDRESS I-ADDRESS I-ADDRESS O O  O O  O  O  O  O  O  B-DATE I-DATE I-DATE O  O  O  O  O  O  O  O  O  O  O  O  O O  O  O  O  O O O  O  O O  O  O  O  O O  O  O  O O O  O  O  O  O  O  O O O  O  O  O  O  O  O O  O  O  O  O  O O  O  O  O  O  O  O O  O  O  O  O  O  O O  O  O  O  O O  O  O  O  O O  B-TOTAL O O  O  O  O  O  O  O O O O O  ', 'B-COMPANY I-COMPANY I-COMPANY I-COMPANY I-COMPANY I-COMPANY I-COMPANY B-ADDRESS I-ADDRESS I-ADDRESS I-ADDRESS I-ADDRESS B-ADDRESS I-ADDRESS I-ADDRESS I-ADDRESS O O O  O O O  O O O O O  O O O O  O  B-DATE I-DATE O O O O O  O O O O O O  O O O  O O O O  O O O  O O  O  O  O  O  O  O O  O  B-ADDRESS O  O  B-ADDRESS O  O  O  O  O  O  O  O  O O  O  O  O  O  O  O  O O O  O  O  O  B-ADDRESS O  O  B-ADDRESS O  O  O  O  O  O  O  O  O  O  O  O  O  O  O  O  O  O  O  O  O  O  O O O O O  O  O  O  O O O O O  O  O O O  O  O O  B-TOTAL O  O O O O O O O  O O O O O O  O O O O O O O  O O O O O O O O  O O O O O O O  O O  O O  O O  O  O  O  ', 'O O O  B-COMPANY I-COMPANY I-COMPANY I-COMPANY I-COMPANY I-COMPANY O  B-ADDRESS I-ADDRESS I-ADDRESS I-ADDRESS I-ADDRESS I-ADDRESS I-ADDRESS B-ADDRESS I-ADDRESS I-ADDRESS B-ADDRESS I-ADDRESS I-ADDRESS O O O O O  O O  O O  O O  O O O  O O  O  B-DATE I-DATE O  O O  O O  O  O  O  O  O O  O O O O  O  O  O  O  O O O  O  O  O  O  O O O  O  O  O  O  O O O  O  O O  O  O O  O  O O O O  O  O O  O  O  B-TOTAL O O  O  O  O O O  O O  O  O O  O  O O  O  O  O  O O  O  O  O O  O O O  O O O  ', 'B-COMPANY I-COMPANY B-COMPANY I-COMPANY O  B-ADDRESS I-ADDRESS I-ADDRESS I-ADDRESS I-ADDRESS B-ADDRESS I-ADDRESS I-ADDRESS I-ADDRESS I-ADDRESS B-ADDRESS I-ADDRESS O  O O  B-TOTAL O O O  O O O O  B-DATE I-DATE I-DATE I-DATE O  O  O  O  O  O O  O O  O O  O O O O O O  O  O  O  O O O O O  O  O  O  O O O  O  O  O  O O  O  O  O  O  O  O O  O  O  O  O  O O O O  O O  O O  O O  O O  O O  O O O  O O  O  O  ', 'B-COMPANY I-COMPANY I-COMPANY I-COMPANY I-COMPANY B-ADDRESS I-ADDRESS I-ADDRESS I-ADDRESS I-ADDRESS I-ADDRESS B-ADDRESS I-ADDRESS I-ADDRESS I-ADDRESS I-ADDRESS B-ADDRESS I-ADDRESS I-ADDRESS I-ADDRESS I-ADDRESS O O O O O O  O O O O  O O  O O O  O O  O  O O  O  O  O  O  O  O  O O O O  O  O  O  B-TOTAL I-TOTAL O  O  O  O O  O  O  O  O  O  O  O  O O O O O O O  O O O O  O O O O O  O O O O  B-DATE I-DATE I-DATE I-DATE I-DATE ', 'B-COMPANY I-COMPANY I-COMPANY I-COMPANY O  B-ADDRESS I-ADDRESS I-ADDRESS B-ADDRESS I-ADDRESS I-ADDRESS I-ADDRESS O O O O  O O O O  O O O  O O  O O O  O  O O O O  O  O  O  O  O O O  O  O O O O  O  O  O  O  O O O  O  O  O  O  O O O O  O  O  O  O  O O  O  O O O  O  O O  O  O  O O  O  O O  O  B-TOTAL O O  O  O  O O  O  O O  O  O O O  O  O O O O  O  O  O  O O  B-DATE O O  O  ', 'B-COMPANY I-COMPANY I-COMPANY I-COMPANY I-COMPANY B-ADDRESS I-ADDRESS I-ADDRESS I-ADDRESS I-ADDRESS B-ADDRESS I-ADDRESS I-ADDRESS I-ADDRESS B-ADDRESS I-ADDRESS I-ADDRESS B-ADDRESS I-ADDRESS I-ADDRESS O O O O O  O O O O  O  O  B-DATE O O O O O  O O  O O O O  O O O O O O  O O  O O O O  O O O O O  O O  O O O O  O O  O O O O  O O O O O O O  O O  O O O O  O O O O O  O O  O O O O O  O O  O O O O  O O O O O  O O  O O O O  O O O O O  O O  O O O O  O O  O O O O  O O  O O O O  O O O O O  O O O  O O  O O  O O  O O  O  O  O O O  O  O  O O O O O  O O O O O O  B-TOTAL O  O  O  O  ', 'B-COMPANY I-COMPANY O  B-ADDRESS I-ADDRESS I-ADDRESS B-ADDRESS I-ADDRESS I-ADDRESS I-ADDRESS B-ADDRESS O O O O  O O O  O  O  O  O  O O O O  O  O  B-DATE I-DATE O  O O  O  O O  O  O  O  O  O  O  O  O  O  O  O  O  O  O O  O  O O O  O O  O  O O  O  O O O  O  O O O  O  O O  O  O  O  O  B-TOTAL O  O  O O O O O  O O  O  O  ', 'B-COMPANY I-COMPANY I-COMPANY I-COMPANY I-COMPANY I-COMPANY O O O O  B-ADDRESS I-ADDRESS I-ADDRESS I-ADDRESS I-ADDRESS I-ADDRESS I-ADDRESS I-ADDRESS B-ADDRESS I-ADDRESS I-ADDRESS I-ADDRESS O  O  O O  O O O  O  B-DATE I-DATE I-DATE O O O  O O O  O O  O O O O  O  O O O O  O  O O O  O  O O O  O  O  O  O  O  O O  O  O O  O  O O  O  O O  O  O O O O  O  O  O  O O  B-TOTAL O O  O  O  O  O O  O O  O  O O  O O  O  O  O  O O O  O O O  O  O  O  O  O  O  O O  ', 'B-COMPANY I-COMPANY I-COMPANY I-COMPANY I-COMPANY I-COMPANY I-COMPANY O  B-ADDRESS I-ADDRESS I-ADDRESS I-ADDRESS I-ADDRESS I-ADDRESS I-ADDRESS B-ADDRESS I-ADDRESS I-ADDRESS O O O O O  O O  O O  O  O O  O  B-DATE I-DATE I-DATE O O O  O  O  O  O  O O  O  O  O O  O O  O  O  O O  O O O O  O  O  O O  O O  O  O  O O  O O  O  O  O O  O O  O  O  O O  O O O  O  O  O O  O  O O O  O  O O O O  O  O O  B-TOTAL O O  O  O  O O O  O O  O  O O  O  O  O  O O  O  O  O O O O  O O O  ', 'B-COMPANY I-COMPANY I-COMPANY I-COMPANY O  O O O O  B-ADDRESS I-ADDRESS I-ADDRESS B-ADDRESS I-ADDRESS I-ADDRESS O O O O  O O  O O O O O  O O  O O  B-DATE I-DATE I-DATE I-DATE O  O  O O  O  O  O O  O  O O  O  O O  O  O O  B-TOTAL O  O  O  O  O O O O  O  O O O O O O  ', 'B-COMPANY I-COMPANY I-COMPANY I-COMPANY I-COMPANY I-COMPANY I-COMPANY O  B-ADDRESS I-ADDRESS I-ADDRESS I-ADDRESS I-ADDRESS I-ADDRESS I-ADDRESS B-ADDRESS I-ADDRESS I-ADDRESS O O O O O  O O  O O  O  O O  O  B-DATE I-DATE I-DATE O O O  O  O  O  O  O O  O  O  O O  O O  O  O  O O  O O  O  O  O O  O O O O  O  O  O O  O  O O O  O  O O  O  O O O O  O  O O  O  O O  B-TOTAL O O  O  O  O O O  O O  O  O O  O  O  O  O O  O  O  O O O O  O O O  ', 'B-COMPANY I-COMPANY I-COMPANY I-COMPANY I-COMPANY O O O  B-ADDRESS I-ADDRESS I-ADDRESS I-ADDRESS B-ADDRESS I-ADDRESS I-ADDRESS I-ADDRESS I-ADDRESS O O O O  O O O O O  O O O  O  O  B-DATE I-DATE I-DATE O O  O O  O O  O O  O O O O O O O  O O  O  O O O O  O  B-ADDRESS O O O  O  O  O O O  O  O  O  O  O  O O O  O  O O O  O  O O O  O  O O O  O  O O  O  O  B-TOTAL I-TOTAL O O  O O  O O  O O  O O  O  O  ', 'B-COMPANY I-COMPANY I-COMPANY I-COMPANY I-COMPANY I-COMPANY I-COMPANY B-ADDRESS I-ADDRESS I-ADDRESS I-ADDRESS I-ADDRESS B-ADDRESS I-ADDRESS I-ADDRESS I-ADDRESS O O O  O O O  O O O O O  O O O O  O  B-DATE I-DATE O O O O O  O O O O O O  O O O  O O O O  O O  O O  O  O  O  O  O  O O  O  O  O  O  O  O  O  O  O  O  O  B-ADDRESS O  O O  O  B-ADDRESS O  O  O  O  O O O  O  O  O  O  O  O  O  O  O  O  O  O  O  O  O  O  O  O  O  O  O  O  O  O  B-ADDRESS O  O  B-ADDRESS O  O O O O O  O  O  O  O O O O O  O  O O O  O  O O  B-TOTAL O  O O O O O O O  O O O O O O  O O O O O O O  O O O O O O O O  O O O O O O O  O O  O O  O O  O  O  O  ', 'B-COMPANY I-COMPANY I-COMPANY I-COMPANY O  B-ADDRESS I-ADDRESS I-ADDRESS I-ADDRESS I-ADDRESS I-ADDRESS I-ADDRESS I-ADDRESS B-ADDRESS I-ADDRESS I-ADDRESS I-ADDRESS O O O  O O O O  O O  O O  O  O  O  O  O  O  O  O  O  B-DATE O  O  O O O  O  O  O  O  O  O  O  O  O  O  O  O O O O O  O O  O O O  O O O  O O  O O O O O  O  O  O  O  O  O  O  B-TOTAL O  O  O O  O O  O  O  O  O O  O O  O  O  O O  O  O  O O O O O O O O  O  O O O O O O O  O  ', 'B-COMPANY I-COMPANY I-COMPANY I-COMPANY O  O O O O  O  B-ADDRESS I-ADDRESS I-ADDRESS B-ADDRESS I-ADDRESS I-ADDRESS O O O  O O  O O O O O  O O  O O  B-DATE I-DATE I-DATE I-DATE O  O  O O O  O  O  O O  O  O O  O  O O  O  O O  B-TOTAL O  O  O  O  O O O O  O  O O O O O O  ', 'B-COMPANY I-COMPANY I-COMPANY I-COMPANY I-COMPANY I-COMPANY I-COMPANY O  B-ADDRESS I-ADDRESS I-ADDRESS I-ADDRESS I-ADDRESS I-ADDRESS I-ADDRESS B-ADDRESS I-ADDRESS I-ADDRESS O O O O O  O O  O O  O  O O  O  B-DATE I-DATE I-DATE O O O  O  O  O  O  O O  O  O  O O  O O  O  O  O O  O O  O  O  O O  O O  O  O  O O  O O  O  O  O O  O  O O O O  O  O O O  O  O O O O O  O  O O  B-TOTAL O O  O  O  O O O  O O  O  O O  O  O  O  O O  O  O  O O O O  O O O  ', 'B-COMPANY I-COMPANY I-COMPANY O  B-ADDRESS I-ADDRESS I-ADDRESS I-ADDRESS B-ADDRESS I-ADDRESS I-ADDRESS I-ADDRESS B-ADDRESS I-ADDRESS I-ADDRESS O O O O  O O O O  O O O O  O O O  O O O O O  O O O  O  B-DATE I-DATE O O  O O  O  O  O  O  O  O  O  O  O  O  O O O O O O O  O  O  O  O  O O O O  O  O  O  O  O O O O O O  O  O  O  O  O O O O O O  O  O  O  O  O O O O O O  O  O  O  O  O O O O O O O O  O  O  O  O  O O O O O  O  O  O  O  O O O O O O  O  O  O  O  O O O O O O  O  O  O  O  O O O O O O O  O  O  O  O  O O O O O O O O O O  O O  O  O  O O O O O O  O  O O O  O  O O O O  O  O O O  O  O O O  B-TOTAL O O  O  O O O  O  O O  O O  O  O  O  O  O  O  O  O O  O  O  O O O O O  O O  ', 'B-COMPANY I-COMPANY I-COMPANY O  B-ADDRESS I-ADDRESS I-ADDRESS I-ADDRESS I-ADDRESS B-ADDRESS I-ADDRESS I-ADDRESS I-ADDRESS B-ADDRESS I-ADDRESS I-ADDRESS B-ADDRESS O O O O  O O O  O O  B-DATE I-DATE I-DATE I-DATE I-DATE O O  O O  O O O  O  O  O  O  O  O  O  O  O  O  O O O  O  O  O  O  O O O  O  O  O  O  O O O O O  O O  O  O  O  O  O  O  O  O  O  O  O  O  O  B-TOTAL O  O O  O  O  O  O  O  O  O  O  O O  O  O O O O O  O O  ', 'B-COMPANY I-COMPANY I-COMPANY B-ADDRESS I-ADDRESS I-ADDRESS I-ADDRESS I-ADDRESS I-ADDRESS I-ADDRESS B-ADDRESS I-ADDRESS I-ADDRESS O O O O O  O O O  O O O O  O O  O O O  O O O O O  O O O  O O  O O O  O O O O  O  B-TOTAL O  O O O O O  O  O  O O  O O  O  O  O  O  O  O  O  O  O  O O  O  O  O O O  O  O  O O O  B-DATE I-DATE I-DATE O O O O O O O  O O O O O  O O O  O O O O O  O O O O O O O O  O O O O O O  O O  O O O O O O  ', 'B-COMPANY I-COMPANY I-COMPANY I-COMPANY O  B-ADDRESS I-ADDRESS I-ADDRESS I-ADDRESS I-ADDRESS B-ADDRESS B-ADDRESS I-ADDRESS I-ADDRESS O O  O O O  O O O  O  O O  O O  B-DATE I-DATE O  O O  O O  O  O  O  O  O  O  O  O  O  O  O  O  O O  O O  O  B-TOTAL O O O O O  O  O O  O  O O O  O  O O  O  O O O O O  O  O O  O  O O  O  O O  O O  O  O  O  O  O  O  O  O  O  O  O O  ', 'O O O O  O  B-COMPANY B-COMPANY I-COMPANY I-COMPANY I-COMPANY I-COMPANY B-COMPANY I-COMPANY O  O O  B-ADDRESS I-ADDRESS I-ADDRESS I-ADDRESS B-ADDRESS B-ADDRESS I-ADDRESS I-ADDRESS O O  O  O O  O  O O  O  O  O O  O  O  O O  O O O  O  O  O  O  O  O  O  O  O O  O  O  O  O O O O O O  B-TOTAL O  O  O  O  O  O  O  O O O  O  O  O  O  O O O O O O O  O O O O O O O  O O O O O  O O O O O  O O O O  O O O O O  B-DATE I-DATE I-DATE O  ', 'B-COMPANY I-COMPANY I-COMPANY I-COMPANY I-COMPANY O  O O O O O  B-ADDRESS I-ADDRESS I-ADDRESS I-ADDRESS B-ADDRESS I-ADDRESS I-ADDRESS B-ADDRESS I-ADDRESS I-ADDRESS B-ADDRESS I-ADDRESS I-ADDRESS O O O  O O  B-ADDRESS I-ADDRESS O O  O  B-DATE I-DATE I-DATE I-DATE O  O O  O  O O  O  O  O  O  O O O O  O  O  O  O O  O O O O  O  O  O  O O  O O  O  O O O  O  O O O  B-TOTAL O  O  O O  O  O O  O  O O  O O O  O  O  O  O  O O  O O O  ', 'B-COMPANY I-COMPANY I-COMPANY I-COMPANY O  B-ADDRESS I-ADDRESS I-ADDRESS I-ADDRESS B-ADDRESS I-ADDRESS I-ADDRESS O O O  O O O  O O O O  O O  O O O  O O O O  O O O O O  O O O  B-ADDRESS I-ADDRESS O  O O  O  O  B-DATE I-DATE O  O  O  O O  O  O  O  O  O  O  O  O  O  O  O  O  O O O  O  O  O  O  O  O O  O  B-TOTAL O O O O  O  O  O  O  O  O O  O  O  O  O  O  O O O O O  O  O  O  O  O  O  O  O  O O  O O  O  O O  O O  O  O  O  O  O O  O  O  O O O O O O O  ', 'B-COMPANY I-COMPANY I-COMPANY I-COMPANY I-COMPANY O O  B-ADDRESS I-ADDRESS I-ADDRESS I-ADDRESS I-ADDRESS I-ADDRESS I-ADDRESS B-ADDRESS I-ADDRESS I-ADDRESS B-ADDRESS I-ADDRESS I-ADDRESS I-ADDRESS O O O O  O O  O O  O O O  O  O O O  O  O  O  O  O  O O O  O O O  O O O  O O  O  B-TOTAL I-TOTAL O O O O O  O O  B-DATE O  O  O  O  O  O O O  O O O O  O O O O  O O O O  ', 'O O  B-COMPANY I-COMPANY O O O O O  B-COMPANY I-COMPANY I-COMPANY I-COMPANY B-ADDRESS I-ADDRESS I-ADDRESS I-ADDRESS I-ADDRESS I-ADDRESS B-ADDRESS I-ADDRESS I-ADDRESS O O O  O O O O  O  O O  O  O O  O O O O  B-DATE I-DATE I-DATE O O O  O O O  O  O  O  O  O  O  O  O  O  O  O  O  O  O  O  O  O  O  O  O  O  O  O  O  O  O  O  O  O  O  O  O  O  O  O O  O  O  O  O  O O  O  O  O O  O  B-TOTAL O  O  O  O O  O  O  O O O  O  O  O O O O O O  O O O O O  O O O O  O O  O O O O O O O  O O O  O O O  O O O O O  O O O  O O O O O O O O O O O O O  O  O O O O O O O  O O  O O O O O  O O  O O  O O O O O  O O O  O  ', 'B-COMPANY I-COMPANY I-COMPANY I-COMPANY B-DATE I-DATE I-DATE I-DATE O  B-ADDRESS I-ADDRESS I-ADDRESS I-ADDRESS I-ADDRESS B-ADDRESS I-ADDRESS I-ADDRESS O O  O O O O  O  O  O  O O O O O O O  O  O  O  O O O O  O  O  O  O O O O O  O  O  O  B-TOTAL I-TOTAL I-TOTAL O O O  O O O  O O  O  O  O  O  O  O O  O  O  O O O O  O  O  O O O  O O O O  O O O O  O O O O O  O O O O O O  O  ', 'O O O O O  B-COMPANY I-COMPANY I-COMPANY I-COMPANY I-COMPANY B-ADDRESS I-ADDRESS I-ADDRESS I-ADDRESS B-ADDRESS I-ADDRESS I-ADDRESS B-ADDRESS I-ADDRESS I-ADDRESS O O O O O  O O  O O  O O  O O O  O O  O  B-DATE I-DATE I-DATE O O  O  O  O  O  O  O O O  O O  O  O  O  O O O  O O  O  O  O  O O O O  O O  O  O  O  O O O  O O  O  O  O  O O O  O O  O  O  O  O O O  O O  O  O  O  O O O  O  O O O  O  O O O O  O  O O O  O  O O  B-TOTAL O O  O  O  O O  O  O  O O  O  O  O  O O  O  O  O O  O O O  O O O  ', 'B-COMPANY I-COMPANY I-COMPANY I-COMPANY B-DATE I-DATE I-DATE I-DATE O  B-ADDRESS I-ADDRESS I-ADDRESS I-ADDRESS B-ADDRESS I-ADDRESS I-ADDRESS O O  O O O O  O  O  O  O O O  O  O  O  O O O  O  O  O  O O O  O  O  O  B-TOTAL I-TOTAL I-TOTAL O O O  O O O  O O  O  O  O  O  O  O O  O  O  O O  O  O  O O O  O O O O  O O O O  O O O O O  O O O O O O  O  ', 'B-COMPANY I-COMPANY I-COMPANY I-COMPANY B-ADDRESS I-ADDRESS I-ADDRESS B-ADDRESS I-ADDRESS I-ADDRESS B-ADDRESS I-ADDRESS I-ADDRESS O O O  O  O O O O O  O O O O O O O O  O O O O O  B-DATE I-DATE O O  O O O  O  O  O O  O  O  O  B-TOTAL O O  O  O  O O O O O O  O O O  O  O  ', 'B-COMPANY I-COMPANY I-COMPANY I-COMPANY O  B-ADDRESS I-ADDRESS I-ADDRESS I-ADDRESS I-ADDRESS B-ADDRESS B-ADDRESS I-ADDRESS I-ADDRESS O O  O O O O  O O O  O  O O  O O  O  B-DATE O  O O  O  O  O O  O  O  O  O  O  O  O  O  O  O  O  O O O  O  O  O  O  O  O O O O O O  O O  O  O  O O O O O  O  O O  O  O O O  O  O O  O  O O O O O O  B-TOTAL O O  O  O O  O  O O  O O  O  O  O  O O  O  O O  O  O O  O  O  O O O O O O  ', 'B-COMPANY I-COMPANY I-COMPANY I-COMPANY B-COMPANY I-COMPANY I-COMPANY O  B-ADDRESS I-ADDRESS I-ADDRESS I-ADDRESS I-ADDRESS B-ADDRESS I-ADDRESS I-ADDRESS I-ADDRESS I-ADDRESS I-ADDRESS B-ADDRESS I-ADDRESS I-ADDRESS I-ADDRESS O  O  O O O O  B-ADDRESS I-ADDRESS O O  O  B-DATE I-DATE I-DATE I-DATE O  O O  O O  O  O  O  O  O  O  O O  O O O O O  O O  O O O O  B-ADDRESS O  O  O  O  O  O  O  O  O  O O O O O  O  O O O  O  O O  O  O O  O  O  O  O  O  B-TOTAL O  O O O O O  O O O O O  O O O O O O O  ', 'B-COMPANY I-COMPANY I-COMPANY I-COMPANY O O  O O O O O  O O O O  B-ADDRESS I-ADDRESS I-ADDRESS I-ADDRESS I-ADDRESS I-ADDRESS I-ADDRESS I-ADDRESS B-ADDRESS I-ADDRESS I-ADDRESS O O  O O O  O O O O  O O  O O  O  O O O O O  O  O O  O  O  O O O O  O  B-TOTAL O O  O  O  O  O  O  O O  O O O  O  O  O  O  O O  O O  B-DATE I-DATE I-DATE O O O O  O O  O  O  O O O O O  O O O O O O  O O O O O O  O O O O O  O O O O O  O O  O O O O  O O O O  O  O  O O  O  O  O  O  O O O  O  O  ', 'O O  B-COMPANY I-COMPANY I-COMPANY I-COMPANY I-COMPANY I-COMPANY I-COMPANY B-ADDRESS I-ADDRESS I-ADDRESS I-ADDRESS I-ADDRESS B-ADDRESS I-ADDRESS I-ADDRESS I-ADDRESS O O O  O O  O O O  O O O O O  O O O O  O  B-DATE I-DATE O O O O O  O O O  O O O  O O O O  O O  O O  O  O  O  O  O  O  O  O  O O  O  O  O  O  B-ADDRESS O  O  O  O  O  O  O  O  O O  O  O  O  O  O  O  O O O  O  O  O  O  O  O  O  O  O  O  O  O  O  O  O  O O  O  O  O  O  O  O  O O O O O  O  O  O  O O O O O  O  O O O  O  O O  B-TOTAL O  O O O O O O O  O O O O O O  O O O O O O O  O O O O O O O O  O O O O O O O  O O  O O  O  O  O  O  O O O  ', 'B-COMPANY I-COMPANY I-COMPANY O  B-ADDRESS I-ADDRESS I-ADDRESS I-ADDRESS B-ADDRESS I-ADDRESS I-ADDRESS I-ADDRESS I-ADDRESS B-ADDRESS I-ADDRESS I-ADDRESS O O O O  O O  O O O  O O  O  B-DATE I-DATE I-DATE O  O  O  O  O  O O  O O  O  O  O  O O  O O  O  O  O  O O  O O  O  O  O  O O  O O  O  O  O  O O O  O O O  O  O O O O  O  O O  B-TOTAL O O  O  O O  O  O  O  O O  O  O  ', 'B-COMPANY I-COMPANY I-COMPANY I-COMPANY B-DATE I-DATE I-DATE I-DATE O  B-ADDRESS I-ADDRESS I-ADDRESS I-ADDRESS I-ADDRESS B-ADDRESS I-ADDRESS I-ADDRESS O  O O O O  O  O  O  O O O O  O  O  O  O O O  O  O  O  O O O O  O  O  O  O O O O  O  O  O  B-TOTAL I-TOTAL I-TOTAL O O O  O O O  O O  O  O  O  O  O  O O  O  O  O O O O  O  O  O O O  O O O O  O O O O  O O O O O  O O O O O O  O  ', 'B-COMPANY I-COMPANY I-COMPANY I-COMPANY B-DATE I-DATE I-DATE I-DATE O  B-ADDRESS I-ADDRESS I-ADDRESS I-ADDRESS I-ADDRESS B-ADDRESS I-ADDRESS I-ADDRESS O O  O O O O  O  O  O  O  O  O  O O  O O O  O O  O  O  O  O  O  O  O  O  O  O O O  O O O  O O  B-TOTAL I-TOTAL I-TOTAL O O  O  O  O  O  O  O O  O O O O  O  O  O  O  O O O  O O O O  O O O O O  O O O O O O  O  ', 'O O O  B-COMPANY I-COMPANY I-COMPANY I-COMPANY I-COMPANY O O O O  B-ADDRESS I-ADDRESS I-ADDRESS I-ADDRESS I-ADDRESS I-ADDRESS I-ADDRESS B-ADDRESS I-ADDRESS I-ADDRESS B-ADDRESS I-ADDRESS I-ADDRESS I-ADDRESS B-ADDRESS I-ADDRESS I-ADDRESS O  O O O O O O O O  O O O O  O  O  O  O  O  O O O O O O  O O O  O  O  O  O  O  O O O O  O O O  O  O  O  O  O  O O O O O O  O O O  O  O  O  O  O  O O  O O O  O  O  O  O  O  O O O O  O O O  O  O O  O O  O O  O O  B-TOTAL I-TOTAL O  O O  O  O O  B-DATE I-DATE I-DATE I-DATE I-DATE I-DATE O O  O O O  O O O O  O O O O  O O O O  ', 'B-COMPANY I-COMPANY O O O  B-ADDRESS I-ADDRESS B-ADDRESS I-ADDRESS O O O O  O  O O O  O  O O  O O  O  O O O  B-DATE I-DATE I-DATE I-DATE I-DATE O O  O  O O  O  O  O O O O  O  O  O O O O  O  O  O O  O  O O O  O  O O  O  O O  O  O O  B-TOTAL O O  O  O  O O O O  O  O  O O  O  O  O O  ', 'B-COMPANY I-COMPANY I-COMPANY I-COMPANY B-DATE I-DATE I-DATE I-DATE O  B-ADDRESS I-ADDRESS I-ADDRESS I-ADDRESS I-ADDRESS B-ADDRESS I-ADDRESS I-ADDRESS O O  O O O O  O  O O O  O  O O O O  O  O  O  B-TOTAL I-TOTAL I-TOTAL O O O  O O O  O  O O  O  O  O  O  O O  O O O O  O O O  O O O O  O O O O  O O O O O  O O O O O O  O  O  O  O  O  O  O  O  O  ', 'O  B-COMPANY I-COMPANY B-COMPANY I-COMPANY I-COMPANY O O O O O  O O O O  B-ADDRESS I-ADDRESS I-ADDRESS I-ADDRESS B-ADDRESS I-ADDRESS I-ADDRESS I-ADDRESS O O O O  O O  O  B-DATE O  O  O O  O  O O O  O  O  O O  O O O  O  O O  O  O  O  O  O  O  O  O O O O  O O O O  B-TOTAL ', 'B-COMPANY I-COMPANY I-COMPANY I-COMPANY I-COMPANY I-COMPANY I-COMPANY B-ADDRESS I-ADDRESS I-ADDRESS I-ADDRESS I-ADDRESS B-ADDRESS I-ADDRESS I-ADDRESS I-ADDRESS O O O  O O O  O O O O O  O O O O  O  B-DATE I-DATE O O O O O  O O O O O O  O O O  O O O O  O O O  O O  O  O  O  O  O  O  O  O O  O  B-ADDRESS O  O  B-ADDRESS O  O  O  B-ADDRESS O  O  O  O  O O  O  B-ADDRESS O  O  O  O  O O O  O  O  O  O  O  O  O  O  O O O O O  O  O  O  O O O O O  O  O O O  O  O O  B-TOTAL O  O O O O O O O  O O O O O O  O O O O O O O  O O O O O O O O  O O O O O O O  O O  O O  O O  O  ', 'B-COMPANY I-COMPANY I-COMPANY I-COMPANY I-COMPANY I-COMPANY I-COMPANY B-ADDRESS I-ADDRESS I-ADDRESS I-ADDRESS I-ADDRESS B-ADDRESS I-ADDRESS I-ADDRESS I-ADDRESS O O O O O  O O O  O O O O O  O O O O  O  B-DATE I-DATE O O O O O  O O O O O O  O O O  O O O O  O O  O O  O  O  O  O  O  O  O  O  O O  O  O  B-ADDRESS O  O  O  O  O  O  O  O  B-ADDRESS O  O O  O  B-ADDRESS B-ADDRESS O  O  O  O O O  O  O  O  B-ADDRESS O  O  O  O  O  O  O  O  O  O  O  O  O  O  O  O  O  O  O O  O  O  O  O  O  O  O  O  O  O  O  O  O  O O O O O  O  O  O  O O O O O  O  O O O  O  O O  B-TOTAL O  O O O O O O O  O O O O O O  O O O O O O O  O O O O O O O O  O O O O O O O  O O  O O  O  ', 'B-COMPANY I-COMPANY I-COMPANY I-COMPANY B-DATE I-DATE I-DATE I-DATE O  O O O O O  O O O  O O  O O O O  O  O  O  B-TOTAL I-TOTAL I-TOTAL I-TOTAL I-TOTAL I-TOTAL I-TOTAL O  O  O  O O O  O  O  O  O O O  O O O  O O O  O O  O  O  O  O  O  O O  O  O  O O O O  O  O  O O O  O O O O  O O O O  O O O O O  O O O O O O  O  ', 'B-COMPANY I-COMPANY I-COMPANY I-COMPANY B-DATE I-DATE I-DATE I-DATE O  B-ADDRESS I-ADDRESS I-ADDRESS I-ADDRESS I-ADDRESS B-ADDRESS I-ADDRESS I-ADDRESS O  O O O O  O  O  O  O O O O O O O  O  O  O  O O O  O  O  O  B-TOTAL I-TOTAL I-TOTAL O O O  O O O  O O  O  O  O  O  O  O O  O  O  O O O O  O  O  O O O  O O O O  O O O O  O O O O O  O O O O O O  O  ', 'B-COMPANY I-COMPANY I-COMPANY I-COMPANY I-COMPANY B-ADDRESS I-ADDRESS I-ADDRESS I-ADDRESS I-ADDRESS B-ADDRESS I-ADDRESS B-ADDRESS I-ADDRESS I-ADDRESS B-ADDRESS O O O O O  O O O O  O  O  B-DATE O O O O O  O O  O O O O O  O O O O O  O O  O O O O O O  O O O O O  B-TOTAL O O  O  O O  O  O O  O  O  O O O  O  O  ', 'B-COMPANY I-COMPANY I-COMPANY B-ADDRESS I-ADDRESS I-ADDRESS I-ADDRESS I-ADDRESS I-ADDRESS I-ADDRESS I-ADDRESS B-ADDRESS I-ADDRESS I-ADDRESS I-ADDRESS O O O  O O O O O  O O  O  O O  O O  O  O O  B-DATE I-DATE I-DATE O  O  O O O O O O O  O O  O O O  O  O  O O O O O O  O O  O  O  O  O  O O O O  O O  O  O  O O O  O O  O O O O O  O  O  O O  O  O O  O  O O  O  O O  B-TOTAL O  O  O  O  O O  O  O  O O O  O  O  ', 'B-COMPANY I-COMPANY I-COMPANY I-COMPANY I-COMPANY I-COMPANY O O O O  O O O O O  B-ADDRESS I-ADDRESS I-ADDRESS I-ADDRESS I-ADDRESS I-ADDRESS I-ADDRESS B-ADDRESS I-ADDRESS I-ADDRESS B-ADDRESS I-ADDRESS I-ADDRESS I-ADDRESS I-ADDRESS O O O O O O  B-DATE O O  O O  O O O O  O O O  O O O  O  O  O  O  O  O  O  O O  O O O O  O  O  O  B-TOTAL I-TOTAL O  O  O  O  O O  O O O O O  O  O  O  O O  O O  O O O O O O O O  O  O O O  O  O O O O  O  O O O O  O  O O  O O  O O  O O O O  O  O  O O O  O O O O O  O O O O O  O O O O O O  ', 'B-COMPANY I-COMPANY I-COMPANY O  B-ADDRESS I-ADDRESS I-ADDRESS I-ADDRESS I-ADDRESS B-ADDRESS I-ADDRESS I-ADDRESS I-ADDRESS B-ADDRESS I-ADDRESS I-ADDRESS B-ADDRESS O O O O  O O O  O O  B-DATE I-DATE I-DATE I-DATE I-DATE O  O O  O O  O  O  O  O  O  O  O  O  O  O  O O O O O  O O  O  O  O  O  O  O  O  O  O  O  O  O  B-TOTAL O  O  O O  O  O  O  O  O  O  O  O  O O  O  O O O O O  O O  ', 'B-COMPANY I-COMPANY I-COMPANY I-COMPANY I-COMPANY I-COMPANY I-COMPANY B-ADDRESS I-ADDRESS I-ADDRESS I-ADDRESS I-ADDRESS B-ADDRESS I-ADDRESS I-ADDRESS I-ADDRESS O O O  O O O  O O O O O  O O O O  O  B-DATE I-DATE O O O O O  O O O O O O  O O O  O O O O  O O O  O O  O  O  O  O  O  O  O  O O  O  B-ADDRESS O  O  O  O  O  O  B-ADDRESS B-ADDRESS O  O  O  O O  O  B-ADDRESS B-ADDRESS O  O  O  O O O  O  O  O  O  O  O  O  O  O  O  O  O  O  O  O  O  O  O  O  O  O  O  O  O  O  O  O  O  O  O O O O O  O  O  O  O O O O O  O  O O O  O  O O  B-TOTAL O  O O O O O O O  O O O O O O  O O O O O O O  O O O O O O O O  O O O O O O O  O O  O O  O O  O  O  ', 'B-COMPANY I-COMPANY I-COMPANY B-ADDRESS I-ADDRESS I-ADDRESS I-ADDRESS I-ADDRESS I-ADDRESS I-ADDRESS B-ADDRESS I-ADDRESS I-ADDRESS O O O O O  O O O  O O O O  O O O  O O O O O  O O O  O O  O O  O O O  O O O O  O  O  O  O O O O O  O  O  O O  O O  O  O  O  O  B-TOTAL O  O  O  O  O O  O  O  O O O  O  O  O O O  O  B-DATE O O O O O O O  O O O O O  O O O  O O O O O  O O O O O O O O  O O O O O O  O O  O O O O O O  ', 'B-COMPANY I-COMPANY I-COMPANY B-COMPANY I-COMPANY I-COMPANY I-COMPANY I-COMPANY I-COMPANY O O  B-ADDRESS I-ADDRESS I-ADDRESS I-ADDRESS B-ADDRESS I-ADDRESS I-ADDRESS I-ADDRESS I-ADDRESS B-ADDRESS I-ADDRESS I-ADDRESS I-ADDRESS I-ADDRESS I-ADDRESS I-ADDRESS I-ADDRESS B-ADDRESS I-ADDRESS I-ADDRESS I-ADDRESS O O  O O  B-DATE I-DATE O  O  O  O  O  O O O  O O  O  O  O O  O  O  O  B-TOTAL O  O  O  O  O O  O  O  O O  O  O  O O  O  O  O O O O O O O  O O O O O  O O O O  O O O O O  O O O O O O  O O  O  O  O O O O  O O  ', 'O O  B-COMPANY I-COMPANY I-COMPANY I-COMPANY O  B-ADDRESS I-ADDRESS I-ADDRESS I-ADDRESS I-ADDRESS I-ADDRESS I-ADDRESS I-ADDRESS B-ADDRESS B-ADDRESS I-ADDRESS I-ADDRESS I-ADDRESS I-ADDRESS I-ADDRESS O O  O O  O O  O  O  O  O  O O O  O  O O O O  O  O  O O  O O  O  O  O  O O O  O O  O  O  O O  O O O  O O  O  O  O O  O  O  O O O  O  O  O  O O  O  O O O O  O  O  O  O O O  O  O O  B-TOTAL O  O  O O  O  O O  O O  O  O O O  O  O  B-DATE I-DATE I-DATE I-DATE I-DATE O O O O O O  O O  O O O  ', 'O O O  O  O  O O O O O O O  O O  O O  B-DATE I-DATE O O O O O  O  O O O O O O  O O O O O O O  O O O O  O O  O O O  O O  O O  O O  O  O  O  O O  O O  O O O O  O O O  O  O  O O  B-TOTAL O O  O  O  O O O  O  O  O O O  O  O  O O O O O O O  O O  O O  O O  ', 'B-COMPANY I-COMPANY I-COMPANY I-COMPANY I-COMPANY B-ADDRESS I-ADDRESS I-ADDRESS I-ADDRESS I-ADDRESS I-ADDRESS B-ADDRESS I-ADDRESS I-ADDRESS I-ADDRESS B-ADDRESS I-ADDRESS I-ADDRESS I-ADDRESS O O O O  O O  O O O O O O  O O O O O O O  O O  B-TOTAL O O  O  O  O O O O  O  O O O O O  O  O  O  O O O  O O  O  O O O  O O  O  O  O O O  O  O  O  O  O  B-DATE I-DATE O O O  O O O  O O O  O O O  O O O O O  O O O  ', 'O O  B-COMPANY I-COMPANY O O O O O  B-COMPANY I-COMPANY I-COMPANY I-COMPANY B-ADDRESS I-ADDRESS I-ADDRESS I-ADDRESS I-ADDRESS B-ADDRESS I-ADDRESS I-ADDRESS I-ADDRESS I-ADDRESS I-ADDRESS B-ADDRESS O O O  O O O  O  O  O  O  O O O  O O O O  O O O  O O  O  O  O  O O  O  O  O  O  O O  O  O  O O  O  O  O  O  O  O O  O  O  O O O  O  O  O O O O O O  O O O O O  O O O O  O O  O O O O O O O  O O O  O O O  O O O O O  O O O  O O O O O O O O O O O O O  O  O O O O O O O  O O  O O O O O  O O  O O  O O O O O  O O O  O  B-DATE I-DATE O  O  O  O  O  O  O  O  O  O  O  O  B-TOTAL ', 'O O  B-COMPANY I-COMPANY I-COMPANY I-COMPANY O O O O O  O O O O  B-ADDRESS I-ADDRESS I-ADDRESS I-ADDRESS I-ADDRESS B-ADDRESS I-ADDRESS I-ADDRESS I-ADDRESS B-ADDRESS I-ADDRESS I-ADDRESS B-ADDRESS I-ADDRESS I-ADDRESS B-ADDRESS I-ADDRESS O O O O O  B-DATE I-DATE O O O O O  O O  O  O  O  O O O O  O O O  O O O O  O  O O O  O O O O O  O  O  O  O  O  O  O  O  O  O  O  O  O  O  O  O  O  B-TOTAL O  O  O  O  O  O  O O  O O O  O O O  O O O  O O O  O O  O  O  O O O O  O O O O O O  O O  O O O  O  O  O  O  ', 'B-COMPANY I-COMPANY I-COMPANY B-ADDRESS I-ADDRESS I-ADDRESS I-ADDRESS I-ADDRESS I-ADDRESS I-ADDRESS B-ADDRESS I-ADDRESS I-ADDRESS O O O O O  O O O  O O O O  O O  O O O  O O O O O  O O O  O O  O O O  O O O O  O  B-TOTAL O  O O O O O  O  O  O O  O O  O  O  O  O  O  O  O  O  O  O O  O  O  O O O  O  O  O O O  B-DATE I-DATE I-DATE O O O O O O O  O O O O O  O O O  O O O O O  O O O O O O O O  ', 'B-COMPANY I-COMPANY I-COMPANY I-COMPANY I-COMPANY O O O  O O  B-ADDRESS I-ADDRESS I-ADDRESS I-ADDRESS B-ADDRESS I-ADDRESS I-ADDRESS O O  O O O  O O O  O  O O O O O  O O O  O  B-TOTAL I-TOTAL O  O  O  O  O  O  O  O  O  O  O O  O  O  O  O O  O  O  O  O O O  O  O O O  O  O  O  O  B-DATE O  O O  O O O O  O O O O  O O O O O O  O O  O O O  ', 'B-COMPANY I-COMPANY I-COMPANY O  B-ADDRESS I-ADDRESS I-ADDRESS I-ADDRESS B-ADDRESS I-ADDRESS B-ADDRESS I-ADDRESS I-ADDRESS B-ADDRESS I-ADDRESS I-ADDRESS O O  O O  O  O O O  O O  O O  O O  B-DATE I-DATE O  O O  O O  O O  O  O  O  O  O  O  O  O  O  O  O  O  O  O  O  O O O O  O O  O  O  O O O O O O  O  O O  O  O O O  O  O O  O  O O O O O O  B-TOTAL O O  O  O O  O  O O  O O  O  O O  O O  O  O  O  O  O O  O  O  O O O O O O  ', 'B-COMPANY I-COMPANY I-COMPANY I-COMPANY I-COMPANY I-COMPANY O O O  O O O O  B-ADDRESS I-ADDRESS I-ADDRESS I-ADDRESS I-ADDRESS B-ADDRESS I-ADDRESS I-ADDRESS I-ADDRESS I-ADDRESS B-ADDRESS I-ADDRESS I-ADDRESS I-ADDRESS O O O O  O  B-DATE I-DATE I-DATE O O O  O O O  O O O O  O  O  O O O O O  O  O  O O  O O O O O  O  O  O  O  O O O  O  B-TOTAL O  O  O  O  O  O O  O  O O  O O O  O  O  O O O  O  O  O O O  O O O O O O O O  O O O O  O O O O O  O O O O O O  O O O O  O O  O O  O  ', 'B-COMPANY I-COMPANY I-COMPANY B-ADDRESS I-ADDRESS I-ADDRESS I-ADDRESS I-ADDRESS I-ADDRESS I-ADDRESS B-ADDRESS I-ADDRESS I-ADDRESS O O O O O  O O O  O O O O  O O  O O O  O O O O O  O O O  O O  O O O  O O O  O  O  O O O O O  O  O  O O  O O  O  O  B-TOTAL O  O  O  O  O  O  O O  O  O  O O O  O  O  O O O  B-DATE I-DATE I-DATE O O O O O O O  O O O O O  O O O  O O O O O  O O O O O O O O  O O O O O O  O O  O O O O O O  ', 'O O O O O  B-COMPANY I-COMPANY I-COMPANY I-COMPANY I-COMPANY B-ADDRESS I-ADDRESS I-ADDRESS I-ADDRESS I-ADDRESS I-ADDRESS I-ADDRESS I-ADDRESS I-ADDRESS B-ADDRESS I-ADDRESS I-ADDRESS I-ADDRESS I-ADDRESS I-ADDRESS B-ADDRESS O O O O  O  O O O O O O O  O O O O O  O  O  O  O  O O  O  O  O  O  O O  O O  O  O O  O  O O O  O  O O  O  O O  O  B-TOTAL I-TOTAL I-TOTAL I-TOTAL I-TOTAL I-TOTAL O O O  B-DATE I-DATE I-DATE O O O O O O O O  O O O O  ', 'O  B-COMPANY I-COMPANY I-COMPANY I-COMPANY O O  B-ADDRESS I-ADDRESS I-ADDRESS I-ADDRESS I-ADDRESS B-ADDRESS I-ADDRESS I-ADDRESS I-ADDRESS I-ADDRESS O O  O O O O  O  O O  O O  O  B-DATE I-DATE I-DATE I-DATE O  O  O  O  O O  O  O O  O  O  O  O O O  O  O O  O  O  O  O O O O O  O O O  O  O O O O O O  O  O O  O  O O  B-TOTAL O  O  O O  O  O O O  O  O  O  O  O  O  O O O  O O O O O  O O O O  ', 'B-COMPANY I-COMPANY I-COMPANY I-COMPANY I-COMPANY I-COMPANY I-COMPANY O O O  O O O  O O  B-ADDRESS I-ADDRESS I-ADDRESS B-ADDRESS I-ADDRESS I-ADDRESS I-ADDRESS I-ADDRESS I-ADDRESS O  O  O  O O  B-DATE O  O O  O O  O O  O  O  O  O  O O O O  O  O  O  O  O O O O O  O  O  O  O  O  O O O O O O  O  O  O  O  O O O  O  O  O  O  O O  O O  O  O  O  O  O O  O  O  B-TOTAL O  O  O  O  O  O O  O O O  O O O  O  O  O  O O  O  O  O O  O O O  O O O O  O O O O O O  O O O O O  O  ', 'B-COMPANY I-COMPANY I-COMPANY B-COMPANY I-COMPANY B-COMPANY I-COMPANY I-COMPANY O  B-ADDRESS I-ADDRESS I-ADDRESS I-ADDRESS I-ADDRESS B-ADDRESS I-ADDRESS I-ADDRESS I-ADDRESS B-ADDRESS I-ADDRESS I-ADDRESS I-ADDRESS I-ADDRESS O O O O O O O O  O O O  O O O  O  B-DATE I-DATE I-DATE I-DATE I-DATE O O O  O O  O  O  O  O  O  O  O  O  O  O  O  O O O O O O O  O O  O  O O  O  O  O  O  O  O  O  O  B-TOTAL O  O  O O O O O O  O O  O  O  O  O  O  O  O  O  O O  O  O O O O O  O O O O O  O O O O O O  O O O O O O  O O O O O O O O  O O O  ', 'B-COMPANY I-COMPANY I-COMPANY I-COMPANY I-COMPANY O O  B-ADDRESS I-ADDRESS I-ADDRESS I-ADDRESS I-ADDRESS I-ADDRESS I-ADDRESS B-ADDRESS I-ADDRESS I-ADDRESS B-ADDRESS I-ADDRESS I-ADDRESS I-ADDRESS O O O O  O O  O O  O O O O O O  O  O O O  O  O O O  O  O O O  O  O O O  O  O O  O  O  O O O  O  O O O  O  O O  O  O  O O  O  O O O  O  O O  O  O  O O  O  O  O O  O  O  O O O  O O O  O O O  B-TOTAL I-TOTAL O  O O  O  O O  O O O O O  O O  B-DATE I-DATE I-DATE I-DATE O O  O O O  O O O O  O O O O  O O O O  ', 'O O O  B-COMPANY I-COMPANY I-COMPANY I-COMPANY O O  O O O  B-ADDRESS I-ADDRESS I-ADDRESS I-ADDRESS B-ADDRESS B-ADDRESS I-ADDRESS I-ADDRESS O O O O O O  O O  O O  O  B-DATE I-DATE I-DATE I-DATE I-DATE O O O  O O  O O O  O  O  O  O  O  O O O O  O  O  O  O O  O  O  O  O  O  O  O  O  O  O  B-TOTAL O  O  O  O  O O  O  O  O  O  O  O  O  O  O O  O  O O O O O  O O  ', 'B-COMPANY I-COMPANY I-COMPANY I-COMPANY B-DATE I-DATE I-DATE I-DATE O  B-ADDRESS I-ADDRESS I-ADDRESS I-ADDRESS I-ADDRESS B-ADDRESS I-ADDRESS I-ADDRESS O O  O O O O  O  O  O  O  O  O O  O  O O  O  O  O  O  O  B-TOTAL I-TOTAL I-TOTAL O O O  O O  O O O  O O  O  O  O  O  O  O O  O  O  O O O O  O  O  O O O  O O O O  O O O O O  O O O O O O  O  ', 'B-COMPANY I-COMPANY I-COMPANY I-COMPANY I-COMPANY O O O  B-ADDRESS I-ADDRESS I-ADDRESS I-ADDRESS I-ADDRESS I-ADDRESS I-ADDRESS B-ADDRESS I-ADDRESS I-ADDRESS B-ADDRESS I-ADDRESS I-ADDRESS I-ADDRESS O O O O  O O  O O  O O O O  O  O O O  O  O O O  O  O O O O  O  O O O  O  O O O  O  O O O O  O  O O O  O  O O O  O  O O O  O O O  O O O  B-TOTAL I-TOTAL O  O O  O  O O  O O O O O  O O  B-DATE I-DATE I-DATE I-DATE O O  O O O  O O O O  O O O O O  O O O O O  ', 'B-COMPANY I-COMPANY I-COMPANY I-COMPANY O  O O  B-ADDRESS I-ADDRESS I-ADDRESS I-ADDRESS B-ADDRESS I-ADDRESS B-ADDRESS I-ADDRESS I-ADDRESS O O O  O O  O O  B-DATE I-DATE O O  O O  O  O  O  O O  O O O  O O  O O O  O O  O O O  O O  O O O O O  O O O O  O  O  O O O O O  O  O O  O  O O  O  O  B-TOTAL O  O  O  O  O O O  O  O O O  O  O O O O O  O  ', 'B-COMPANY I-COMPANY I-COMPANY I-COMPANY I-COMPANY I-COMPANY I-COMPANY B-ADDRESS I-ADDRESS I-ADDRESS I-ADDRESS I-ADDRESS B-ADDRESS I-ADDRESS I-ADDRESS I-ADDRESS O O O  O O O  O O O O O  O O O O  O  B-DATE I-DATE O O O O O  O O O O O O  O O O  O O O O  O O O  O O  O  O  O  O  O  O  O  O O  O  B-ADDRESS O  O  B-ADDRESS O  O  O  B-ADDRESS O  O  B-ADDRESS O  O O  O  O  O  O  O  O  O O O  O  O  O  O  O  O  O  O  O O O O O  O  O  O  O O O O O  O  O O O  O  O O  B-TOTAL O  O O O O O O O  O O O O O O  O O O O O O O  O O O O O O O O  O O O O O O O  O O  O O  O O  O  ', 'B-COMPANY I-COMPANY I-COMPANY I-COMPANY B-COMPANY I-COMPANY I-COMPANY I-COMPANY O  B-ADDRESS I-ADDRESS I-ADDRESS I-ADDRESS B-ADDRESS I-ADDRESS I-ADDRESS I-ADDRESS B-ADDRESS I-ADDRESS I-ADDRESS I-ADDRESS I-ADDRESS B-ADDRESS I-ADDRESS I-ADDRESS B-ADDRESS O O O O O  O O  O O  O  O O  O O O  O O  O  B-DATE I-DATE I-DATE O O O  O O  O  O  O  O  O  O O O  O O O O O  O O O O  O O O  B-ADDRESS I-ADDRESS B-ADDRESS I-ADDRESS B-ADDRESS I-ADDRESS B-ADDRESS I-ADDRESS O  O  O  O  O  O  O  O  O  O  O  O  O O O  O O O  O O  O O O O  O  O  O  O  O  B-TOTAL O O  O  O  O O  O  O  O O  O O O O  O O  O O  O  O  O  O O  O  O  O O  O O  O O O  ', 'B-COMPANY I-COMPANY I-COMPANY I-COMPANY O  B-ADDRESS I-ADDRESS I-ADDRESS I-ADDRESS I-ADDRESS B-ADDRESS B-ADDRESS I-ADDRESS I-ADDRESS O O O  O O O O  O O O  O  O O  O O O O O O O  O O  B-DATE I-DATE O  O O  O  O O  O O  O O  O  O  O  O  O  O  O  O  B-TOTAL O  O O O O  O O  O  O  O O O O O  O  O O  O  O O O  O  O O  O  O O O O O O  O  O O  O  O O  O  O O  O O  O  O  O  O  O  O  O  O  O  ', 'O O O  B-COMPANY I-COMPANY I-COMPANY I-COMPANY O O O O O  B-ADDRESS I-ADDRESS I-ADDRESS I-ADDRESS I-ADDRESS I-ADDRESS I-ADDRESS B-ADDRESS I-ADDRESS I-ADDRESS B-ADDRESS I-ADDRESS I-ADDRESS I-ADDRESS O O O  O  O O O O  O O  O O  O O  O  O  O O O O O  B-DATE I-DATE I-DATE O  O  O  O  O  B-ADDRESS O  O  B-ADDRESS O  O  O  O  O O  O O O O  O  O O  O  O  O  O  O  O  O  O  O  O  O  O  O  O  O O  O O  O O  O O  O  O  O  O  O  O O  O  O O O  O  B-TOTAL O  O O  O  O  O  O  O  O O  O  O  O  O  O  O  O  O  O O O  O  O O O  O O O O O O O  O O O O O O O O O  ', 'B-COMPANY I-COMPANY I-COMPANY I-COMPANY I-COMPANY O O O  B-ADDRESS I-ADDRESS I-ADDRESS I-ADDRESS I-ADDRESS I-ADDRESS I-ADDRESS I-ADDRESS B-ADDRESS I-ADDRESS I-ADDRESS I-ADDRESS B-ADDRESS I-ADDRESS I-ADDRESS I-ADDRESS O O O O  O O  O O  O O O O O O O  O  O O O  O  O  O  O  O O O O  O  O O O  O  O O O  O  O O O  O O O  O O O  B-TOTAL I-TOTAL O  O O  O  O O  O O O O O  O O  B-DATE I-DATE I-DATE I-DATE O O  O O O  O O O O  O O O O  O O O O O  ', 'B-COMPANY I-COMPANY I-COMPANY I-COMPANY I-COMPANY B-ADDRESS I-ADDRESS I-ADDRESS I-ADDRESS I-ADDRESS I-ADDRESS B-ADDRESS I-ADDRESS I-ADDRESS I-ADDRESS B-ADDRESS I-ADDRESS I-ADDRESS I-ADDRESS O O O O  O O  O O O O O  O O O O O  O O O  O O  O  O O  B-TOTAL I-TOTAL I-TOTAL O  O  O  O O O O  O  O O O O O  O  O  O  O O O  O O O  O O  O  O  O O O  O  O  O  O  O  B-DATE I-DATE O O O  O O  O O O  O O O  O O O O O  O O O  O O  O  ', 'B-COMPANY I-COMPANY O  B-ADDRESS I-ADDRESS I-ADDRESS I-ADDRESS I-ADDRESS I-ADDRESS I-ADDRESS B-ADDRESS I-ADDRESS I-ADDRESS B-ADDRESS I-ADDRESS I-ADDRESS I-ADDRESS O O O O  O O  O O  O O O  O  O O O  O  O O  O  O  O O O  O  O O O  O  O O  O  O  O O O O  O  O O  O  O  O O  O  O  O O O  O  O  O O  O  O  O O  O  O  O O  O  O O O O  O  O O  O  O  O O O O O  O O O O O  O O O  O O O  O O O  B-TOTAL I-TOTAL O  O O  O  O O  O O  O  O  O O  O  O  B-DATE I-DATE I-DATE I-DATE O O  O O O  O O O  O O O O  ', 'B-COMPANY I-COMPANY I-COMPANY O  B-ADDRESS I-ADDRESS I-ADDRESS I-ADDRESS B-ADDRESS I-ADDRESS I-ADDRESS I-ADDRESS I-ADDRESS B-ADDRESS I-ADDRESS I-ADDRESS O O O O  O O  O O O O  O O  O  B-DATE I-DATE I-DATE O  O  O  O  O  O O  O O  O  O  O  O  O O  O  O  O  O O  O O  O  O  O  O O O  O O O  O  O O O  O  O O O O  O  O O  B-TOTAL O O  O  O O  O  O  O  O O  O  O  ', 'B-COMPANY I-COMPANY I-COMPANY I-COMPANY B-ADDRESS I-ADDRESS I-ADDRESS I-ADDRESS I-ADDRESS I-ADDRESS I-ADDRESS B-ADDRESS I-ADDRESS I-ADDRESS I-ADDRESS I-ADDRESS B-ADDRESS I-ADDRESS O O O  O O O O O  O O  O O  O  B-DATE I-DATE I-DATE O  O O O O  O O O  O O  O  O  O  O  O  O  O  O  O  O  O  O O  O O  O O  O O O O  O  O  O O  O  O  O  O  B-TOTAL O O  O  O  O  O  O  O O O  O  O  O O  O O  O O  O O O  O  O  O  O  O  O O O  O O  O O O  O O  O  ', 'B-COMPANY I-COMPANY O O O O O  B-ADDRESS I-ADDRESS I-ADDRESS O O  B-ADDRESS I-ADDRESS I-ADDRESS O O O O  O O  O O O  O  O O O O  O  B-DATE I-DATE O  O O  O O  O O O  O O  O  O O O O  O  O O  O O  O  O O O  O  O  O O O O O O O O  O  O O O  O  O  O O O O  O  O O O  O  O  O O O O O O  O  O O O  O  O  O O O  O  O O O  O  O  O O  B-TOTAL O  O  O  O  O O O  O  O  O  O  O  O O O O  O  O O O O  O O  O  O  O  O  O  O O O O O O  O O O O O O  O O  ', 'B-COMPANY I-COMPANY I-COMPANY B-ADDRESS I-ADDRESS I-ADDRESS I-ADDRESS I-ADDRESS I-ADDRESS I-ADDRESS B-ADDRESS I-ADDRESS I-ADDRESS O O O O O  O O O  O O O O  O O  O O O  O O O O O  O O O  O O  O O O O  O  O O O  O  O  O O O O O  O  O  O  O  O  O O  O  O O  O  O  O  O  B-TOTAL O O  O  O  O O O  O  O  O O O  B-DATE I-DATE I-DATE O O O O O O O  O O O O O  O O O  O O O O O  O O O O O O O O  O O O O O O  O O  O O O O O O  ', 'B-COMPANY I-COMPANY I-COMPANY I-COMPANY I-COMPANY B-ADDRESS I-ADDRESS I-ADDRESS I-ADDRESS I-ADDRESS B-ADDRESS I-ADDRESS B-ADDRESS I-ADDRESS I-ADDRESS B-ADDRESS I-ADDRESS I-ADDRESS O O O O O  O O O O  O  O  B-DATE O O O O O  O O  O O O O  O O O O  O O  O O O O O  B-TOTAL O O  O  O O  O  O O  O  O  O O O  O  O  O O O  O  O  O O O O O  O O O O O O  ', 'B-COMPANY I-COMPANY I-COMPANY I-COMPANY I-COMPANY O O O O  B-ADDRESS I-ADDRESS I-ADDRESS I-ADDRESS B-ADDRESS I-ADDRESS B-ADDRESS I-ADDRESS I-ADDRESS O  O O O  O O  O  O O  O  O  O  O  O  O O  O O  O O O O  B-TOTAL I-TOTAL O O  O  O  O  O O O  O  O O O  O  O  O  O  O  O  O  O  O  O  O O O O O O  O O O O O  O O  O  O  O  O  B-DATE I-DATE ', 'O  B-COMPANY I-COMPANY I-COMPANY I-COMPANY I-COMPANY O  O O O  B-ADDRESS I-ADDRESS I-ADDRESS I-ADDRESS I-ADDRESS I-ADDRESS B-ADDRESS I-ADDRESS I-ADDRESS I-ADDRESS I-ADDRESS I-ADDRESS B-ADDRESS O O O O  O O O O O O  O O O  O O  O O O  O O  B-DATE I-DATE I-DATE I-DATE I-DATE O  O O  O  O O O  O  O O O  O O O  O O  O  O O  O  O O O O O  O O O  O O O O  O  O O  B-TOTAL O O  O  O  O  O O O O  O  O O O O O O  O O O O  ', 'B-COMPANY I-COMPANY I-COMPANY B-ADDRESS I-ADDRESS I-ADDRESS B-ADDRESS I-ADDRESS O O O  B-DATE I-DATE I-DATE I-DATE I-DATE I-DATE I-DATE O  O  O  O  O O  O  O  O  O O  O  O  O  O O  O  O  O  B-TOTAL I-TOTAL I-TOTAL I-TOTAL I-TOTAL O O O  O O  O O O O  O  O  ', 'B-COMPANY I-COMPANY I-COMPANY B-COMPANY I-COMPANY I-COMPANY I-COMPANY I-COMPANY I-COMPANY I-COMPANY B-ADDRESS I-ADDRESS I-ADDRESS I-ADDRESS I-ADDRESS B-ADDRESS I-ADDRESS I-ADDRESS I-ADDRESS B-ADDRESS I-ADDRESS O O O O O  O O  O O  O O O  O O  O  O O O  O  O  O O  O  O O O O O  O  O  O O O O O  O  O O O O O O  O  O  O O O O O  O  O O O  O  O  O O O O  O O O  O  O O O  O  O O O  O  O O O O  O  O O  O  O  B-TOTAL O  O  O O O  O O  O  O  O O  O O O O O  O O O  B-DATE I-DATE I-DATE ', 'B-COMPANY I-COMPANY I-COMPANY I-COMPANY O  B-ADDRESS I-ADDRESS I-ADDRESS I-ADDRESS I-ADDRESS I-ADDRESS B-ADDRESS I-ADDRESS I-ADDRESS I-ADDRESS B-ADDRESS I-ADDRESS I-ADDRESS O O O  O O O  O O O O  O O  O O  O  O  O O  O O  O O  B-DATE I-DATE O O  O  O  O  O  O  O  O  O  O  O  O O O O  O  O O  O  O  O O O O O  O  O  O  O  O  O  O  O  O  O  O  O  O  O  O  O O  O  O  O O O O O  O  O O  O  O O O  O  O O  O  O O O O O O  B-TOTAL O O  O  O O  O  O O  O O  O  O  O  O O  O  O O  O  O O  O  O  O O O O O O O  O O O  ', 'B-COMPANY I-COMPANY I-COMPANY I-COMPANY I-COMPANY I-COMPANY I-COMPANY O  B-ADDRESS I-ADDRESS I-ADDRESS I-ADDRESS I-ADDRESS I-ADDRESS I-ADDRESS B-ADDRESS I-ADDRESS I-ADDRESS O O O O O  O O  O O  O  O O  O  B-DATE I-DATE I-DATE O O O  O  O  O  O O  B-ADDRESS O  O O  O O  B-ADDRESS O  O O  O O  B-ADDRESS O  O O  O O O  B-ADDRESS O  O O  O O O O O O  B-ADDRESS O  O O  O  O O O  O  O O  O  O O O O  O  O O  O  O O  B-TOTAL O O  O  O  O O O  O O  O  O O  O  O  O  O O  O  O  O O O O  O O O  O  ', 'B-COMPANY I-COMPANY I-COMPANY O  B-ADDRESS I-ADDRESS I-ADDRESS I-ADDRESS B-ADDRESS I-ADDRESS I-ADDRESS I-ADDRESS I-ADDRESS B-ADDRESS I-ADDRESS I-ADDRESS O O O O  O O  O O O  O O  O  B-DATE I-DATE I-DATE O  O  O  O  O  O O  O O  O  O  O  O O  O O  O  O  O  O O  O O O  O  O O O  O  O O O O  O  O  B-TOTAL O  O  O O  O O  O O  O  O O  O  O  ', 'B-COMPANY I-COMPANY I-COMPANY I-COMPANY I-COMPANY B-ADDRESS I-ADDRESS I-ADDRESS I-ADDRESS I-ADDRESS B-ADDRESS I-ADDRESS I-ADDRESS I-ADDRESS B-ADDRESS I-ADDRESS I-ADDRESS B-ADDRESS I-ADDRESS I-ADDRESS O O O O O  O O O O  O  O  B-DATE O O O O O  O O O O  O O O O O  O O  O O  O O O O O  O O O  O O  O O  O O  O O  O O O  O  O  O  O  O O O O O  O O O O O O  O  O  B-TOTAL O  O  ', 'O O  B-COMPANY I-COMPANY O O O O O  B-COMPANY I-COMPANY I-COMPANY I-COMPANY B-ADDRESS I-ADDRESS I-ADDRESS I-ADDRESS I-ADDRESS I-ADDRESS B-ADDRESS I-ADDRESS I-ADDRESS O O O  O O O O  O  O O  O  O O  O O O O  B-DATE I-DATE I-DATE O O O O  O O O O  O  O  O  O  O  O  O  O  O  O  O  O  O  O  O  O  O  O  O  O  O  O  O O  O  O  O  O  O O  O  O  O O  O  B-TOTAL O  O  O  O O  O  O  O O O  O  O  O O O O O O  O O O O O  O O O O  O O  O O O O O O O  O O O  O O O O  O O O O O  O O O  O O O O O O O O O O O O O  O  O O O O O O O  O O  O O O O O  O O  O O  O O O O O  O O O  O  ', 'O  B-COMPANY I-COMPANY I-COMPANY I-COMPANY I-COMPANY O  B-ADDRESS I-ADDRESS I-ADDRESS I-ADDRESS I-ADDRESS I-ADDRESS I-ADDRESS I-ADDRESS B-ADDRESS I-ADDRESS I-ADDRESS B-ADDRESS I-ADDRESS I-ADDRESS I-ADDRESS B-ADDRESS I-ADDRESS O O O O  O O  B-DATE O O O  O  O  O  O O O O  O  B-ADDRESS O  O O O O O  O O O O O O O  O  O O O  O O O O  B-TOTAL O O O  O  O O  O  O O O O  O  O O  O  O  O  O  O O O  O  O  O  O  O  O O  O O O O O O  ', 'O O O  B-COMPANY I-COMPANY I-COMPANY I-COMPANY I-COMPANY I-COMPANY O  B-ADDRESS I-ADDRESS I-ADDRESS I-ADDRESS I-ADDRESS I-ADDRESS B-ADDRESS I-ADDRESS I-ADDRESS O O O O  O  O  O O O  O  O  O  B-TOTAL O O O  O O O  O  O O O  O  O O O  O  O O  O  O O  O  B-DATE I-DATE I-DATE I-DATE I-DATE I-DATE O O O O O O O O  O O O  O O O  ', 'B-COMPANY I-COMPANY I-COMPANY I-COMPANY I-COMPANY O O O O  B-ADDRESS I-ADDRESS I-ADDRESS I-ADDRESS I-ADDRESS I-ADDRESS I-ADDRESS B-ADDRESS I-ADDRESS I-ADDRESS B-ADDRESS I-ADDRESS I-ADDRESS I-ADDRESS O O O O  O  O O  O O O  O  O O O  O  O O  O  O  O O O  O O O  O O O  B-TOTAL I-TOTAL O  O O  O  O O  O O  O  O  O O  O  O  B-DATE I-DATE I-DATE I-DATE O O  O O O O O  O O O O  O O O O  O O O O  ', 'O  B-COMPANY I-COMPANY I-COMPANY I-COMPANY I-COMPANY I-COMPANY B-ADDRESS I-ADDRESS I-ADDRESS I-ADDRESS I-ADDRESS I-ADDRESS I-ADDRESS B-ADDRESS I-ADDRESS I-ADDRESS I-ADDRESS B-ADDRESS I-ADDRESS I-ADDRESS I-ADDRESS O O O O O O  O O O  O O O  O  O  O  O  O O O O O  O  O  O  O  O O O O O O O  O  O O O  O  O O O O  B-TOTAL O O O  O  O O  O  O O O O  O  O O  O O O O O O  O  O O  O O O O O  O O  O  O  O  O  O O O  O  O  O  O  O  O O  O O O O O O  B-DATE I-DATE ', 'B-COMPANY I-COMPANY O O O  B-ADDRESS I-ADDRESS I-ADDRESS B-ADDRESS I-ADDRESS I-ADDRESS B-ADDRESS I-ADDRESS I-ADDRESS I-ADDRESS I-ADDRESS O O  O O  O O  O O O  O O  O O O O O  O O O  O O O O O O  O O  O O O O O  O O  O O O O O  O O  O O O O O O  O O  O O O O O  O O  O  O  O  O  O  O O O  O  O O  O  O  B-TOTAL O O  O  O O O  O  O  O  O O  O  B-DATE I-DATE I-DATE I-DATE I-DATE I-DATE I-DATE O O O O O  O O O O  O  O O  O O  O O  O  O  O O  O  O  O  ', 'B-COMPANY I-COMPANY I-COMPANY O  B-ADDRESS I-ADDRESS I-ADDRESS I-ADDRESS B-ADDRESS I-ADDRESS I-ADDRESS I-ADDRESS I-ADDRESS B-ADDRESS I-ADDRESS I-ADDRESS O O O O  O O  O O O O  O O  O  B-DATE I-DATE I-DATE O  O  O  O  O  O O  O O  O  O  O  O O  O O  O  O  O  O O O  O O O  O  O O O  O  O O O O  O  O O  B-TOTAL O  O O  O  O  O  O O  O  O  ', 'B-COMPANY I-COMPANY I-COMPANY I-COMPANY I-COMPANY I-COMPANY I-COMPANY B-ADDRESS I-ADDRESS I-ADDRESS I-ADDRESS I-ADDRESS B-ADDRESS I-ADDRESS I-ADDRESS I-ADDRESS O O O  O O O  O O O O O  O O O O  O  B-DATE I-DATE O O O O O  O O O O O O  O O O  O O O O  O O O  O O  O  O  O  O  O  O O  O  B-ADDRESS O  O  O  O  O  O  B-ADDRESS O  O  O  O  O O  O  B-ADDRESS O  O  O  O  O O O  O  O  O  O  O  O  O  O  O  O  O  O  O  O  O  O O  O  O  O  O  O  O  O O  O  O  O  O  O  O  O O O O O  O  O  O  O O O O O  O  O O O  O  O O  B-TOTAL O  O O O O O O O  O O O O O O  O O O O O O O  O O O O O O O O  O O O O O O O  O O  O O  O O  O  O  O  ', 'B-COMPANY I-COMPANY I-COMPANY B-ADDRESS I-ADDRESS I-ADDRESS I-ADDRESS I-ADDRESS I-ADDRESS I-ADDRESS B-ADDRESS I-ADDRESS I-ADDRESS O O O O O  O O O  O O O O  O O  O O O  O O O O O  O O O  O O  O O O  O O  O O O  O O O O O  O O O  O O  O  O  O O O O O  O  O  O  O O O O O  O  O  O O  O O  O  O  O  O  O  O  B-TOTAL O  O  O O  O  O  O O O  O  O  O O O  B-DATE I-DATE I-DATE O O O O O O O  O O O O O  O O O  O O O O O  O O O O O O O O  O O O O O O  O O  O O O O O O  ', 'B-COMPANY I-COMPANY I-COMPANY I-COMPANY O  B-ADDRESS I-ADDRESS I-ADDRESS I-ADDRESS I-ADDRESS B-ADDRESS B-ADDRESS I-ADDRESS I-ADDRESS O O O  O O O O  O O O  O  O O  O  O O  O O  O O  O O O O O O O  O  O  B-DATE I-DATE O O  O O  O  O  O  O  O  O  O  O  O  O  O  O  O  O  O  O  O  O  O  O  O  O  O O O O  O O O O O O O  O O  O O  O  O O O O O  O O  O O O  O O  O O O O O O  O O  O O  O  O  O O  O O  O  O  O O  O  O  O  O  O  B-TOTAL O  O  O O  ', 'O O O O O  B-COMPANY I-COMPANY I-COMPANY I-COMPANY I-COMPANY B-ADDRESS I-ADDRESS I-ADDRESS I-ADDRESS I-ADDRESS B-ADDRESS I-ADDRESS I-ADDRESS I-ADDRESS I-ADDRESS O O O O O  O O O O O  O O  O O  O O  O  O O  O O  O  B-DATE I-DATE I-DATE O  O  O  O  O  O  O  O O O  O O  O  O  O  O O  O O  O  O  O O  O O  O  O  O  O O  B-ADDRESS I-ADDRESS O  O  O  O O  O O  O  O  O  O O O O  O  O O O O  O  O O  O  O O O O O  O  O O O  O  O O  B-TOTAL O O  O  O  O O O  O O  O  O  O  O  O O  O  O  O  O  O O O  O O O  ', 'B-COMPANY I-COMPANY I-COMPANY I-COMPANY I-COMPANY B-ADDRESS O O O O  B-ADDRESS I-ADDRESS I-ADDRESS I-ADDRESS B-ADDRESS I-ADDRESS B-ADDRESS I-ADDRESS I-ADDRESS O O O  O O O  B-DATE O O  O  O O O O O  O  O  O  O O O O  O  O  O  O O O O  O  O  O  O  O O O O O  B-TOTAL O  O  O  O  O  O  O  O O O O  O  O  O  O O  O  O O  O O O  O  O  O O O  O  O  O O O O O O O  O O O O O O O O  O O O O O O O  O O O O O O O O  O  O O  O  O  O  O  ', 'B-COMPANY I-COMPANY I-COMPANY I-COMPANY I-COMPANY B-ADDRESS I-ADDRESS I-ADDRESS I-ADDRESS I-ADDRESS B-ADDRESS I-ADDRESS B-ADDRESS I-ADDRESS I-ADDRESS B-ADDRESS I-ADDRESS I-ADDRESS O O O O O  O O O O  O  O  B-DATE O O O O  B-TOTAL I-TOTAL O O O O O  O  O O  O  O O  O  O O  O  O  O O O  O  O  O O O O O  O O O O O O  ', 'B-COMPANY I-COMPANY I-COMPANY I-COMPANY I-COMPANY I-COMPANY I-COMPANY B-ADDRESS I-ADDRESS I-ADDRESS I-ADDRESS I-ADDRESS B-ADDRESS I-ADDRESS I-ADDRESS I-ADDRESS O O O  O O O  O O O O O  O O O O  O  B-DATE I-DATE O O O O O  O O O O O O  O O O  O O O O  O O  O O  O  O  O  O  O  O O  O  O  O  O  O  O  O  O  O  O  O  O  O  O O  O  B-ADDRESS O  O  O  O  O O O  O  O  O  O  O  O  O  O  O O O O O  O  O  O  O O O O O  O  O O O  O  O O  B-TOTAL O  O O O O O O O  O O O O O O  O O O O O O O  O O O O O O O O  O O O O O O O  O O  O O  O O  O  O  O  ', 'B-COMPANY I-COMPANY I-COMPANY I-COMPANY I-COMPANY O O O O  B-ADDRESS I-ADDRESS I-ADDRESS I-ADDRESS I-ADDRESS B-ADDRESS I-ADDRESS I-ADDRESS B-ADDRESS I-ADDRESS I-ADDRESS I-ADDRESS O O O O O O O O  O O  O O O O  O O  O O O O  B-TOTAL I-TOTAL B-DATE I-DATE I-DATE I-DATE I-DATE O O O O O O O O O  O  O O  O O  O O  O O  O  O O  O O  O O  O O  ', 'B-COMPANY I-COMPANY I-COMPANY B-ADDRESS I-ADDRESS I-ADDRESS I-ADDRESS I-ADDRESS I-ADDRESS I-ADDRESS B-ADDRESS I-ADDRESS I-ADDRESS O O O O O  O O O  O O O O  O O  O O O  O O O O O  O O O  O O  O O O  O O O O  O  O  O  O O O O O  O  O  O O  O O  O  O  O  O  O  O  B-TOTAL O  O  O O  O  O  O O O  O  O  O O O  B-DATE I-DATE I-DATE O O O O O O O  O O O O O  O O O  O O O O O  O O O O O O O O  O O O O O O  O O  O O O O O O  ', 'B-COMPANY I-COMPANY I-COMPANY I-COMPANY B-DATE I-DATE I-DATE I-DATE O  B-ADDRESS I-ADDRESS I-ADDRESS I-ADDRESS I-ADDRESS B-ADDRESS I-ADDRESS I-ADDRESS O  O O O O  O  O  O  O O O O  O  O  O  O O O  O  O  O  B-TOTAL I-TOTAL I-TOTAL O O O  O O O  O O  O  O  O  O  O  O O  O  O  O O O O  O  O  O O O  O O O O  O O O O  O O O O O  O O O O O O  O  ', 'B-COMPANY I-COMPANY I-COMPANY I-COMPANY B-DATE I-DATE I-DATE I-DATE O  B-ADDRESS I-ADDRESS I-ADDRESS I-ADDRESS I-ADDRESS B-ADDRESS I-ADDRESS I-ADDRESS O O  O O O O  O  O O O O  O  O O O O  O  B-TOTAL I-TOTAL I-TOTAL O O O  O O O  O O  O  O  O O  O O O O  O O O  O O O O  O O O O  O O O O O  O O O O O O  O  O  O  O  O  O  O  O  O  O  O  O  O  O  ', 'B-COMPANY I-COMPANY I-COMPANY I-COMPANY O  B-ADDRESS I-ADDRESS I-ADDRESS I-ADDRESS I-ADDRESS B-ADDRESS B-ADDRESS I-ADDRESS I-ADDRESS O O O  O O O O  O O O  O  B-ADDRESS I-ADDRESS O O O O O O O  O O  B-DATE I-DATE O  O  O O  O O  O O  O O  O  O  O  O  O  O  O  O  O  O  O O O O  O  O  O  O  O  O O O O O O  O  O  O  O  O  O O O O  O O  O  O  O O O O O  O  O O  O  O O O  O  O O  O  O O O O O O  B-TOTAL O O  O  O O  O  O O  O O  O  O  O  O  O  O  O  O O  O  ', 'B-COMPANY I-COMPANY I-COMPANY I-COMPANY B-ADDRESS I-ADDRESS I-ADDRESS I-ADDRESS I-ADDRESS B-ADDRESS I-ADDRESS B-ADDRESS I-ADDRESS I-ADDRESS I-ADDRESS I-ADDRESS O O  O O O O  O O  O O O  B-DATE I-DATE O O O O  O  O  O  O  O O O O O  O  O  O  O O  O O O O  O  O  O  O O  O O O O O O  O  O  O  O O  O  O  O  O  O  O O  O O O  O  O O O  B-TOTAL O  O  O O  O  O  O  O  O  O  O  O  O  O  O O O  O O  O  O O  O O O  O  ', 'B-COMPANY I-COMPANY I-COMPANY I-COMPANY B-DATE I-DATE I-DATE I-DATE O  B-ADDRESS I-ADDRESS I-ADDRESS I-ADDRESS I-ADDRESS B-ADDRESS I-ADDRESS I-ADDRESS O O  O O O O  O  O O O O O O O  O  O O O  O  B-TOTAL I-TOTAL I-TOTAL O O O  O O O  O O  O  O  O O  O O O O  O O O  O O O O  O O O O  O O O O O  O O O O O O  O O  O  O  O  O  O  O  O  O  O  O  O  O  O  ', 'O O  B-COMPANY I-COMPANY I-COMPANY I-COMPANY I-COMPANY I-COMPANY O  B-ADDRESS I-ADDRESS I-ADDRESS I-ADDRESS I-ADDRESS B-ADDRESS I-ADDRESS O O O  O O O O O  O O  O O  O  O  O  O  O O  O O  O  O  O O O  O O  O  O O O  O O  O  O O O  O  O O O O O O  O O  O  O O O O O O O  O O  O  O O O O O  O O  O  O O O O  O O  O O  O  O O  B-TOTAL O  O  O  O  B-DATE I-DATE I-DATE I-DATE I-DATE O O  O O  O  O  O  O  O O O O O  O O O O O  ', 'B-COMPANY I-COMPANY I-COMPANY I-COMPANY O  O O  B-ADDRESS I-ADDRESS I-ADDRESS I-ADDRESS B-ADDRESS I-ADDRESS B-ADDRESS I-ADDRESS I-ADDRESS O O O O  O O  O O  B-DATE I-DATE O O  O O  O  O  O  O O  O O O O O  O O O O  O  O  O O O O O  O  O O O  O  O O  O  O  B-TOTAL O  O  O  O  O  O O O  O  O O O  O  O O O O O  O  O  O  ', 'B-COMPANY I-COMPANY I-COMPANY I-COMPANY I-COMPANY O O O O  B-ADDRESS I-ADDRESS I-ADDRESS I-ADDRESS I-ADDRESS I-ADDRESS I-ADDRESS B-ADDRESS I-ADDRESS I-ADDRESS B-ADDRESS I-ADDRESS I-ADDRESS I-ADDRESS O O O O O  O O  O O  O O O O O O  O  O O O  O  O O  O  O  O O O  O O O  O O O O  B-TOTAL I-TOTAL O  O O  O  O O  O O  O  O  O O  O  O  B-DATE I-DATE I-DATE I-DATE O O  O O O O  O O O O  O O O O  O O O O  ', 'B-COMPANY I-COMPANY I-COMPANY I-COMPANY B-DATE I-DATE I-DATE I-DATE O  B-ADDRESS I-ADDRESS I-ADDRESS I-ADDRESS B-ADDRESS I-ADDRESS I-ADDRESS O O  O O  O  O  O  O O O  O  O  O  O O  O  O  O  O O  O  O  O  O O  O O  O O  O O  O  O  B-TOTAL O  O  O O  O  O  O O  O  O  O O O  O O O O  O O O O  O O O O O  O O O O O O  O  ', 'B-COMPANY I-COMPANY I-COMPANY I-COMPANY I-COMPANY I-COMPANY B-ADDRESS I-ADDRESS I-ADDRESS I-ADDRESS B-ADDRESS I-ADDRESS I-ADDRESS B-ADDRESS I-ADDRESS O O  O O O  O O O  O  O O O O O  O  O  O O  O O O O O  O  O  O  O O O O  O  O  O O O O  O  O  O  O  O  O  O O O  B-TOTAL O  O  O O  O  O O  O  O O O O  O  O O O  O O  O O  O  O  O  O  O O O O  O O O O  O O  O O O O O  O O O O  O O O O  O O  O O O O O  O O O O O O  O O O O O O  O O O O  O O O O  O  B-DATE O  ', 'B-COMPANY I-COMPANY I-COMPANY I-COMPANY I-COMPANY B-ADDRESS I-ADDRESS I-ADDRESS I-ADDRESS I-ADDRESS I-ADDRESS B-ADDRESS I-ADDRESS I-ADDRESS I-ADDRESS B-ADDRESS I-ADDRESS I-ADDRESS I-ADDRESS O O O O  O O  O O O O O O O  O O O O O O O  O O O  O O  O O  O  O O  O O O O  O  O O  O O O  O  O O  O O O  O  O O  O O O  O  O O  O O O  O  O O  O O O  O  O O  O O  O O O  O  O  O O  O O O  O  O O  O O O  O O O  O  O  O O  O  O O  O O O  O  O O  O  O O  O  O O O O  O O  O O O O O  O  O O O  O O  O  O  O  B-TOTAL O  O  O O O  O O  O O O  O  O  O  O  O  O  O  B-DATE I-DATE O O O  O O  O O O  O O O  O O O O O  O O O  ', 'B-COMPANY I-COMPANY I-COMPANY I-COMPANY O O O  B-ADDRESS I-ADDRESS I-ADDRESS I-ADDRESS I-ADDRESS I-ADDRESS B-ADDRESS I-ADDRESS I-ADDRESS I-ADDRESS O O  O O  O  B-DATE O  O O  O  O O  O  O  O  O  O O  O  O O  O  O O  O  B-TOTAL ', 'B-COMPANY I-COMPANY I-COMPANY I-COMPANY O  B-ADDRESS I-ADDRESS I-ADDRESS I-ADDRESS I-ADDRESS B-ADDRESS I-ADDRESS I-ADDRESS I-ADDRESS I-ADDRESS I-ADDRESS O O O O  O O O O  B-DATE I-DATE O  O  O  B-ADDRESS O  B-ADDRESS O  B-ADDRESS O O O O  O O  O O  O O O  O O  O O  O O  O O  O O  O O  O  O  B-TOTAL O  O  O  O  O O O O  O O  O O O  O O  O O  O O  O O O O O O O  O  O O O O O O  O O O O O  O O  O  O  O  O  O  O  O  O  O O  ', 'B-COMPANY I-COMPANY I-COMPANY I-COMPANY O  B-ADDRESS I-ADDRESS I-ADDRESS I-ADDRESS B-ADDRESS I-ADDRESS I-ADDRESS O O O  O O O  O O O O  O O  O O O  O O O O  O O O O O  O O O  B-ADDRESS I-ADDRESS O  O O  O  O  B-DATE I-DATE O  O  O  O O  O  O  O  O  O  O  O  O  O  O  O  O  O O O O  O  O  O  O  O  O O  O  O  O O O O  O  O  O  O  O  O O  O  O  O  O  O  O O O O O  O  O  O  O  B-TOTAL O  O  O  O O  O O  O  O O  O O  O  O  O  O  O O  O  O  O O O O O O O  O O O  ', 'B-COMPANY I-COMPANY I-COMPANY I-COMPANY I-COMPANY B-ADDRESS I-ADDRESS I-ADDRESS I-ADDRESS I-ADDRESS B-ADDRESS I-ADDRESS B-ADDRESS I-ADDRESS I-ADDRESS B-ADDRESS I-ADDRESS O O O O O  O O O O  O  O  B-DATE O O O O O O O  O O  O O O O O O  O O  O O O O O  O O  O O O O  O O  O O O O  O O O O O  O O  O O O O O  O O  O O O O O O  O O  O O O O  O O  O O O O O O  O O  O O O O  O O  O O O O  O O O O O  O  O O O  O  O O  B-TOTAL O O  O  O O  O  O O  O  O  O O O  O  O  O O O O O  O O O O O O  ', 'B-COMPANY I-COMPANY I-COMPANY B-ADDRESS I-ADDRESS I-ADDRESS I-ADDRESS I-ADDRESS B-ADDRESS I-ADDRESS I-ADDRESS I-ADDRESS O O  O O O  O  O O O  B-DATE I-DATE O O  O O  O O  O  O  O  O  O  O  O  O  O O O O O O O  O  O  O  O  O O O  O O  O  O  O  O  O  O  O  O  O  O  O  O  O  O  B-TOTAL O  O  O O O O O  O O  ', 'B-COMPANY I-COMPANY I-COMPANY I-COMPANY B-DATE I-DATE I-DATE I-DATE O  B-ADDRESS I-ADDRESS I-ADDRESS I-ADDRESS I-ADDRESS B-ADDRESS I-ADDRESS I-ADDRESS O O  O O O O  O  O  O  O O O O O O O  O  O  O  O O O  O  O  O  B-TOTAL I-TOTAL I-TOTAL O O O  O O O  O O  O  O  O  O  O  O O  O  O  O O O O  O  O  O O O  O O O O  O O O O  O O O O O  O O O O O O  O  ', 'B-COMPANY I-COMPANY I-COMPANY I-COMPANY I-COMPANY I-COMPANY I-COMPANY B-ADDRESS I-ADDRESS I-ADDRESS I-ADDRESS I-ADDRESS B-ADDRESS I-ADDRESS I-ADDRESS I-ADDRESS O O O  O O  O O O  O O O O O  O O O O  O  B-DATE I-DATE O O O O O  O O O O O O  O O O  O O O O  O O O  O O  O  O  O  O  O  O  O  O  O O  O  O  O  O  O  O  O  O  O  O  O  O  O  O O  O  O  O  O  O  O  O O O  O  O  O  O  O  O  O  O  O O O O O  O  O  O  O O O O O  O  O O O  O  O O  B-TOTAL O  O O O O O O O  O O O O O O  O O O O O O O  O O O O O O O O  O O O O O O O  O O  O O  ', 'B-COMPANY I-COMPANY I-COMPANY I-COMPANY B-DATE I-DATE I-DATE I-DATE O  B-ADDRESS I-ADDRESS I-ADDRESS I-ADDRESS I-ADDRESS B-ADDRESS I-ADDRESS I-ADDRESS I-ADDRESS O O  O O O O  O  O  O  O O O O  O  O O O O  O  O O O  O  O  O  O  O  O  O  O O O  O O O  O O  B-TOTAL I-TOTAL I-TOTAL O O  O  O  O  O  O  O O  O O O O  O  O  O  O  O O O  O O O O  O O O O O  O O O O O O  O  ', 'B-COMPANY I-COMPANY B-ADDRESS I-ADDRESS I-ADDRESS I-ADDRESS I-ADDRESS B-ADDRESS I-ADDRESS I-ADDRESS I-ADDRESS I-ADDRESS B-ADDRESS I-ADDRESS B-ADDRESS O O  O O O  O O  O O O  O  O O  O  O O  O O  O  O  B-DATE I-DATE I-DATE I-DATE O  O  O O  O  O  O O  O  O  O  O  O  O  O  O  O  O  B-TOTAL I-TOTAL O O  O  O  O O  O  O  O O  O  O  O  O  O  O O O O  O  O  O O  O  O  O O O O  O  O  O  O  O  O  O  ', 'B-COMPANY I-COMPANY I-COMPANY I-COMPANY I-COMPANY I-COMPANY O O O O O  O O O O O  B-ADDRESS I-ADDRESS I-ADDRESS I-ADDRESS I-ADDRESS I-ADDRESS I-ADDRESS B-ADDRESS I-ADDRESS I-ADDRESS B-ADDRESS I-ADDRESS I-ADDRESS I-ADDRESS I-ADDRESS O O O O O O O  B-DATE O O  O O  O O O O  O O O  O O O  O  O  O  O  O  O  O  O O  O O O O  O  O  O  O O  O O O O  O  O  O  O O  O O O O O O O O  O O O O O O O  O  O O O  O  O O O O  B-TOTAL O O O O  O  O O  O O O  O O  O  O O  O  O O O  O O O O O  O O O O O  O O O O O O  ', 'B-COMPANY I-COMPANY I-COMPANY I-COMPANY I-COMPANY B-ADDRESS I-ADDRESS I-ADDRESS I-ADDRESS I-ADDRESS I-ADDRESS I-ADDRESS I-ADDRESS B-ADDRESS I-ADDRESS I-ADDRESS I-ADDRESS O O O  O O O O O  O O  O  O  O  O  O  O  O  O  O O O O  O O  O  O O  O  O O O O  O O  O  O O  O  O O O O O  O O  O  O O  O  O O O O O  O O  O  O O  O  O O O O  O O  O  O O  O O O  O  O  O O  O  O O  O  B-TOTAL O  O  O  O  O  O  O O  O  O  O O O  O  O  O O O  O  O  O  B-DATE I-DATE I-DATE O  O  ', 'B-COMPANY I-COMPANY I-COMPANY I-COMPANY O  B-ADDRESS I-ADDRESS I-ADDRESS I-ADDRESS I-ADDRESS B-ADDRESS B-ADDRESS I-ADDRESS I-ADDRESS O O O  O O O O  O O O  O  O O  O  O O  O O O O O O O  O  O  O O  O O  B-DATE I-DATE O O  O O  O O  O  O  O  O  O  O  O  O  O  O  O  O  O  O  O  O  O O  O O O  O O  O  B-TOTAL O O O O O  O O  O O O  O O  O O O O O O  O O  O O  O  O  O  O O  O O  O  O O  O  O  O  O  O  O  O  O O  ', 'B-COMPANY I-COMPANY I-COMPANY I-COMPANY I-COMPANY O  B-ADDRESS I-ADDRESS I-ADDRESS I-ADDRESS I-ADDRESS I-ADDRESS I-ADDRESS B-ADDRESS I-ADDRESS I-ADDRESS B-ADDRESS I-ADDRESS I-ADDRESS I-ADDRESS O O O O  O O  O O  O O O  O  O O O  O  O O  O O O O  O  O O O  O  O O O  O O O  O O O  O O O  O  B-TOTAL I-TOTAL O O  O O O O O  O O  B-DATE I-DATE I-DATE I-DATE O O  O O O O O  O O O O  O O O O  O O O O  O  O  O  ', 'B-COMPANY I-COMPANY I-COMPANY I-COMPANY O O  B-ADDRESS I-ADDRESS I-ADDRESS I-ADDRESS I-ADDRESS I-ADDRESS I-ADDRESS B-ADDRESS I-ADDRESS I-ADDRESS B-ADDRESS I-ADDRESS I-ADDRESS I-ADDRESS O O O O  O O O  O O  O O O  O  O O O  O  O  O  O  O  O O O  O O O  O O O  B-TOTAL I-TOTAL O  O O  O  O O  O O  O  O  O O  O  O  B-DATE I-DATE I-DATE I-DATE O O  O O O  O O O O  O O O O  O O O O  ', 'O O O  O  O  B-COMPANY I-COMPANY I-COMPANY I-COMPANY B-DATE I-DATE I-DATE I-DATE O  B-ADDRESS I-ADDRESS I-ADDRESS I-ADDRESS I-ADDRESS B-ADDRESS I-ADDRESS I-ADDRESS O O  O O O  O  O  O  O  O  O  O O O O O O  O  O  O O  O  O  O  O  B-TOTAL I-TOTAL I-TOTAL O O O  O O  O O O  O O  O  O  O  O  O  O O  O O O O  O  O  O  O  O O O  O O O O  O O O O O  O O O O O O  O  ', 'B-COMPANY I-COMPANY I-COMPANY I-COMPANY I-COMPANY I-COMPANY I-COMPANY B-ADDRESS I-ADDRESS I-ADDRESS I-ADDRESS I-ADDRESS B-ADDRESS I-ADDRESS I-ADDRESS I-ADDRESS O O O  O O O  O O O O O  O O O O  O  B-DATE I-DATE O O O O O  O O O O O O  O O O  O O O O  O O O  O O  O  O  O  O  O  O O  O  O  O  O  O  O  O  O  O  O  O  O  O  O O  O  O  O  O  O  O  O O O  O  O  O  O  O  O  O  O  O O O O O  O  O  O  O O O O O  O  O O O  O  O O  B-TOTAL O  O O O O O O O  O O O O O O  O O O O O O O  O O O O O O O O  O O O O O O O  O O  O O  O O  O  O  O  ', 'B-COMPANY I-COMPANY I-COMPANY B-ADDRESS I-ADDRESS I-ADDRESS I-ADDRESS I-ADDRESS I-ADDRESS I-ADDRESS B-ADDRESS I-ADDRESS I-ADDRESS O O O O O  O O O  O O O O  O O  O O O  O O O O O  O O O  O O  O O O  O O  O O O  O O O  O O O  O O O O  O  O  O  O  O  O O O O O  O  O  O O  O O  O  O  B-TOTAL O  O  O  O  O  O  O O  O  O  O O O  O  O  O O O  B-DATE I-DATE I-DATE O O O O O O O  O O O O O  O O O  O O O O O  O O O O O O O O  O O O O O O  O O  O O O O O O  ', 'B-COMPANY I-COMPANY I-COMPANY B-ADDRESS I-ADDRESS I-ADDRESS I-ADDRESS I-ADDRESS I-ADDRESS I-ADDRESS B-ADDRESS I-ADDRESS I-ADDRESS O O O O O  O O O  O O O O  O O  O O O  O O O O O  O O O  O O  O O O O O  O O  O O O  O  O  O O  O O O O  O  O O O  O  O  O O O O O  B-TOTAL O  O  O  O  O O  O  O O  O  O  O  O  O  O O  O  O  O O O  O  O  O O O  B-DATE I-DATE I-DATE O O O O O O O  O O O O O  O O O  O O O O O  O O O O O O O O  O O O O O O  O O  O O O O O O  ', 'O O O O O  B-COMPANY I-COMPANY I-COMPANY I-COMPANY I-COMPANY B-ADDRESS I-ADDRESS I-ADDRESS I-ADDRESS I-ADDRESS I-ADDRESS O O O O O  O O  B-DATE I-DATE I-DATE I-DATE O O  O O  O  O O  O O  O O  O O  O O  O O  O  O O O O  O  O  O  O  O  O  O  O  O  O  O  O  O  O  O  O  O O  O  O  O  B-TOTAL O  O  O O  O O  O  O  O O O O O O O  ', 'B-COMPANY I-COMPANY I-COMPANY I-COMPANY B-DATE I-DATE I-DATE I-DATE O  B-ADDRESS I-ADDRESS I-ADDRESS I-ADDRESS I-ADDRESS B-ADDRESS I-ADDRESS I-ADDRESS O O  O O O O  O  O O O O  O  B-TOTAL I-TOTAL I-TOTAL O O O  O O O  O O  O  O  O O  O O O O  O O O  O O O O  O O O O  O O O O O  O O O O O O  O  O  O  O  O  O  O  O  O  O  O  ', 'B-COMPANY I-COMPANY I-COMPANY I-COMPANY I-COMPANY O  B-ADDRESS I-ADDRESS I-ADDRESS I-ADDRESS I-ADDRESS B-ADDRESS I-ADDRESS B-ADDRESS I-ADDRESS I-ADDRESS B-ADDRESS I-ADDRESS O O O O O  O O O O  O  O  B-DATE O O O  O O O O  B-TOTAL I-TOTAL O O O O O  O O  O O  O  O  O  O O  O  O  O O O  O  O  O O O O O  ', 'B-COMPANY I-COMPANY I-COMPANY I-COMPANY I-COMPANY O O O  B-ADDRESS I-ADDRESS I-ADDRESS I-ADDRESS I-ADDRESS B-ADDRESS I-ADDRESS I-ADDRESS I-ADDRESS B-ADDRESS I-ADDRESS I-ADDRESS O O O  O O O  O O O O  O O O  O O O O  O O O O O  O O  O  B-TOTAL I-TOTAL O  O O O  O  O  O  O  O  O  O O  O  O  O  O O  O  O  O  O  O  O  O  O  O O O  B-DATE I-DATE I-DATE I-DATE I-DATE O  O O O O O O  O O O O O O  O O O O O O  ', 'B-COMPANY I-COMPANY I-COMPANY I-COMPANY I-COMPANY I-COMPANY O O O O  O O O O O  B-ADDRESS I-ADDRESS I-ADDRESS I-ADDRESS I-ADDRESS I-ADDRESS I-ADDRESS B-ADDRESS I-ADDRESS I-ADDRESS B-ADDRESS I-ADDRESS I-ADDRESS I-ADDRESS I-ADDRESS O O O O O O  B-DATE O O  O O  O O O O  O O O  O O O  O  O  O  O  O  O  O  O O  O O  O  O  O  O O  O  O O O O  O O O O O O O O  B-TOTAL O O O  O  O O O O  O  O O O O  O  O O  O O  O O  O O O O  O  O  O O O  O O O O O  O O O O O  O O O O O O  ', 'B-ADDRESS I-ADDRESS I-ADDRESS I-ADDRESS I-ADDRESS B-ADDRESS I-ADDRESS I-ADDRESS I-ADDRESS O O O  O O O  O O O O O  O O O O  B-DATE I-DATE O  O O O O O  O O O O O O  O O O  O O O O  O O O  O O  O  O  O  O  O  O  O  O O  O  O  O  O  O  O  O  O  O  B-ADDRESS O  O  O  O O  O  O  B-ADDRESS O  O  O  O O O  O  O  O  O  O  O  O  O  O  O  O  O  O  O  O  O  O  O  O  O  O  O  O O O O O  O  O  O  O O O O O  O  O O O  O  O O  B-TOTAL O  O O O O O O O  O O O O O O  O O O O O O O  O O O O O O O O  O O O O O O O  O O  O O  O O O O O  O O  O  O  ', 'O O O  B-COMPANY I-COMPANY I-COMPANY I-COMPANY I-COMPANY B-ADDRESS I-ADDRESS I-ADDRESS B-ADDRESS I-ADDRESS I-ADDRESS I-ADDRESS B-ADDRESS I-ADDRESS O O O O  O O  O  O O O  O  O  O  O  O O  O O O  O O O O  O O O  O O O O  O  O  O  O  O  O  O  O  O  O  O O O  O  O  B-TOTAL O  O  O O  O  O O  O  O  B-DATE I-DATE I-DATE O  O O  O  O  O  O  O  O  O O O O O  O O O  ', 'B-COMPANY I-COMPANY I-COMPANY I-COMPANY I-COMPANY I-COMPANY I-COMPANY B-ADDRESS I-ADDRESS I-ADDRESS I-ADDRESS I-ADDRESS B-ADDRESS I-ADDRESS I-ADDRESS I-ADDRESS O O O  O O O  O O O O O  O O O O  O  B-DATE I-DATE O O O O O  O O O O O O  O O O  O O O O  O O O  O O  O  O  O  O  O  O O  O  O  O  O  O  O  O  O  O  B-ADDRESS O  O  O  O O  O  O  O  O  O  O  O O O  O  O  O  O  O  O  O  O  O  O  O  O  O  O  O  O O O O O  O  O  O  O O O O O  O  O O O  O  O O  B-TOTAL O  O O O O O O O  O O O O O O  O O O O O O O  O O O O O O O O  O O O O O O O  O O  O O  O O  O  O  O  ', 'B-COMPANY I-COMPANY I-COMPANY I-COMPANY I-COMPANY O  B-ADDRESS I-ADDRESS I-ADDRESS I-ADDRESS I-ADDRESS I-ADDRESS I-ADDRESS B-ADDRESS I-ADDRESS I-ADDRESS B-ADDRESS I-ADDRESS I-ADDRESS I-ADDRESS O O O O  O  O O  O O O  O O O  O  O O  O O O  O  O O  O O O  O  O O O O  O O O  O  O O O  O O O  O  O O O O  O O O  O  O O O O  O O O  O  O O O O O  O  O O O  O O  O O  O O  O O  O O  O O O  O O  O O  O  O  O  O  O  O  O  O  O O O  O O O  O  O  O O O O O  B-TOTAL I-TOTAL O O  O O  O O  B-DATE I-DATE I-DATE I-DATE O O O O O  O O O O  O O O O  O O O O  O  O  O  O  O  O  O  O  O  O  O  O  O  O  O  O O  ', 'O O  B-COMPANY I-COMPANY B-COMPANY I-COMPANY O  B-ADDRESS I-ADDRESS I-ADDRESS I-ADDRESS I-ADDRESS I-ADDRESS B-ADDRESS I-ADDRESS B-ADDRESS I-ADDRESS B-ADDRESS O O  O O  O  O O  B-DATE I-DATE I-DATE I-DATE O  O  O  O  O  O  O  O  O  O O O O O  O  O  O  O  O  O  O O  O  O O O O O  O O O  O O O  O  O  O  B-TOTAL O  O O  O  O  O O O  O  O  O O O O  ', 'B-COMPANY I-COMPANY I-COMPANY I-COMPANY O  B-ADDRESS I-ADDRESS I-ADDRESS I-ADDRESS I-ADDRESS I-ADDRESS I-ADDRESS I-ADDRESS B-ADDRESS I-ADDRESS I-ADDRESS I-ADDRESS O O O  O O O  O O O O  O O O  O O  O  O  O  O  O  O  O  B-DATE O  O  O  O  O  O  O O  O  O O  O  O  O O  O  O  O  O  O  O  O  O  O  O  O  O  O  O  O  O  O  O  O  O  O  O O  O  O O O O O  O O  O O O  O O  O O O O O  O  O  O  O  B-TOTAL O O O O O O O  ', 'B-COMPANY I-COMPANY I-COMPANY I-COMPANY I-COMPANY O  B-ADDRESS I-ADDRESS I-ADDRESS I-ADDRESS I-ADDRESS I-ADDRESS I-ADDRESS I-ADDRESS O O O O  O O O O  O O O  O  O  O  O  O  O  B-DATE O  O  O  O  O  O  O  O O O  O  O  O  O O O  O O O  O  O  O  O  O O O O  O  O  O  O  O O O  O  O  O  O  O O O O  O  O  O  O O O  O O  O  O  O O O O O  O  O O  O  O O O  O  O O  O  O O O O O  B-TOTAL O  ', 'B-COMPANY I-COMPANY I-COMPANY I-COMPANY I-COMPANY B-ADDRESS I-ADDRESS I-ADDRESS I-ADDRESS I-ADDRESS I-ADDRESS I-ADDRESS B-ADDRESS I-ADDRESS I-ADDRESS I-ADDRESS O O O  O O O  O O  O O O O O  O O O  O O O  O O O O  O O O O O  O O  O O O O O O  O O O O O O  O O O O O O  O  O O  O  O O  O  O  O O O  O O  O  O  O O O  O O  O  O  O O  O O  O  O  O O O O  O O  O  O  O O O  O O  O  O  O O O O  O O  O  O  O O O O O  B-TOTAL I-TOTAL I-TOTAL I-TOTAL I-TOTAL I-TOTAL O O O O O O  O O O O  O O O O  O O O O  O O O O  O O O  O O O O  O O O O  O O O O  O O O O O  O O O O  O O  B-DATE I-DATE I-DATE O O  O  O  O O  O  O  O  O  O  O  O  O  O  O  O  O  O O O O O O O O  O O O O O O O O O  O O O O O O O O  O O O O  O  O  O  O  O  O  O  O  O  O  O  O  O  O  O  O  ', 'B-COMPANY I-COMPANY I-COMPANY O  B-ADDRESS I-ADDRESS I-ADDRESS I-ADDRESS B-ADDRESS I-ADDRESS B-ADDRESS I-ADDRESS I-ADDRESS B-ADDRESS I-ADDRESS I-ADDRESS O O  O O  O  O O O  O O  O O  O O O O O  O O  O  O O O O  O O O  O O  O O  B-DATE I-DATE O  O O  O O  O O  O  O  O  O  O  O  O  O  O  O  O  O  O  O  O  O O O O  O  O  O  O  O  O  O O  O  O  O  O  O  O  O O O O O  O  O  O  O  O  O  O O  O  O  O  O  O  O  O O O O  O  O  O  O  O  O  O O O  O  O  O  O  O  O  O O O  O  O  O  O  O  O  O O O O  O  O  O  O  O  O  O O O  O  O  O  O  O  O  O O O O  O  O  O  O  O  O  O O O O  O  O  O  O  O  O  O O O O  O  O  O  O  O  O  O O O  O O  O  B-TOTAL O O O O O  O  O O  O  O O O  O  O O  O  O O O O O O  O  O O  O  O O  O  O O  O O  O  O  O  O  O  O  O  O  O  O  ', 'B-COMPANY I-COMPANY I-COMPANY I-COMPANY I-COMPANY B-ADDRESS I-ADDRESS I-ADDRESS I-ADDRESS I-ADDRESS I-ADDRESS B-ADDRESS I-ADDRESS I-ADDRESS I-ADDRESS B-ADDRESS I-ADDRESS I-ADDRESS I-ADDRESS O O O O  O O  O O O O O  O O O O O  O  O  O O O O  O O O  O  O  O  O O  O  O  O O O O  O O O  O  O  O  O O O O  O O O  O  O  O  O O  O  O  O O O  O  O  O O O O  O  O O  O  O O O O O  B-TOTAL O  O  O O O  O O  O  O O O  O O  O  O  O O O  O  O  O  O  O  B-DATE I-DATE O O O  O O O  O O O  O O O  O O O O O  O O O  O  O  O  O  O  O  ', 'B-COMPANY I-COMPANY I-COMPANY B-ADDRESS I-ADDRESS I-ADDRESS I-ADDRESS I-ADDRESS I-ADDRESS I-ADDRESS B-ADDRESS I-ADDRESS I-ADDRESS O O O O O  O O O  O O O O  O O  O O O  O O O O O  O O O  O O  O O O  O O O  O  O  O O O O O  O  O  O O  O O  O  O  O  O  O  O  B-TOTAL O  O  O O  O  O  O O O  O  O  O O O  B-DATE I-DATE I-DATE O O O O O O O  O O O O O  O O O  O O O O O  O O O O O O O O  O O O O O O  O O  O O O O O O  ', 'B-COMPANY I-COMPANY I-COMPANY O  B-ADDRESS I-ADDRESS I-ADDRESS I-ADDRESS B-ADDRESS I-ADDRESS I-ADDRESS I-ADDRESS I-ADDRESS B-ADDRESS I-ADDRESS I-ADDRESS O O O O  O O  O O O  O O O  O  B-DATE I-DATE I-DATE O  O  O  O  O  O O  O  O O  O  O  O  O O  O O  O  O  O  O O  O O  O  O  O  O O  O O  O  O  O  O O O  O O O  O  O O O  O  O O O O  O  O O  B-TOTAL O O  O  O O  O  O  O  O O  O  O  ', 'B-COMPANY I-COMPANY I-COMPANY I-COMPANY I-COMPANY O  B-ADDRESS I-ADDRESS I-ADDRESS I-ADDRESS B-ADDRESS I-ADDRESS I-ADDRESS I-ADDRESS B-ADDRESS I-ADDRESS I-ADDRESS I-ADDRESS O O  O  O  O  O  O  O  O  O  O  O  O  O  O  O O O  O  O  O  O  O O O O  O O  O  O  O  O  O  O  O  O  O  O  B-TOTAL O  O  O  O  O O O O O  O  O  O  B-DATE O  O  O  ', 'B-COMPANY I-COMPANY I-COMPANY I-COMPANY O  B-ADDRESS I-ADDRESS I-ADDRESS I-ADDRESS I-ADDRESS I-ADDRESS B-ADDRESS I-ADDRESS I-ADDRESS I-ADDRESS B-ADDRESS I-ADDRESS I-ADDRESS B-ADDRESS O O  O O O  O  B-DATE O  O O O O  O O O O O O  O O O O O  O O  O O  O  O O O  O  O O  O  O O  B-TOTAL O O O O O O  O O O  O  O O O O O  O O  O  O O  O  O O  O O  O O O O  O  ', 'B-COMPANY I-COMPANY I-COMPANY I-COMPANY I-COMPANY O O  B-ADDRESS I-ADDRESS I-ADDRESS I-ADDRESS I-ADDRESS I-ADDRESS I-ADDRESS B-ADDRESS I-ADDRESS I-ADDRESS B-ADDRESS I-ADDRESS I-ADDRESS I-ADDRESS O O O O  O O  O O  O O  O  O O O  O  O O  O  O  O O O O O O  O  O O O  O  O O  O  O  O O O O O  O  O O O  O  O O  O  O  O O  O  O  O O  O  O  O O O  O O O  O O O  B-TOTAL I-TOTAL O  O O  O O O O O  O O  B-DATE I-DATE I-DATE I-DATE O O  O O O  O O O O  O O O O  O O O O  ', 'O  B-COMPANY I-COMPANY I-COMPANY I-COMPANY I-COMPANY O  B-ADDRESS I-ADDRESS I-ADDRESS I-ADDRESS I-ADDRESS I-ADDRESS I-ADDRESS I-ADDRESS B-ADDRESS I-ADDRESS I-ADDRESS B-ADDRESS I-ADDRESS I-ADDRESS I-ADDRESS B-ADDRESS I-ADDRESS O O O O  O O  B-DATE O O O  O  O  O  O O O O O  O  B-ADDRESS O  O O O O O  O O O O O  O  B-ADDRESS O  O O O O  O O O O O O O  O  O O O  O O O O  B-TOTAL O O O  O  O O  O  O O O O  O  O O  O  O  O  O  O O O  O  O  O  O  O  O O  O O O O O O  ', 'O O O  B-COMPANY I-COMPANY I-COMPANY I-COMPANY I-COMPANY O  B-ADDRESS I-ADDRESS I-ADDRESS I-ADDRESS I-ADDRESS I-ADDRESS I-ADDRESS B-ADDRESS I-ADDRESS I-ADDRESS I-ADDRESS O O O O  O  O O  O O  O O O  O O  B-DATE I-DATE I-DATE O  O O  O  O  O  O  O  O O O  O  O  O  O  O  O O O O O  O  O  O  O  O  O O O  O O  O  O  O  O  O O O O  O O  O O  O O  O O  O O  O O  O O  O  B-TOTAL I-TOTAL O  O O  O  O O  ', 'B-COMPANY I-COMPANY I-COMPANY I-COMPANY O  B-ADDRESS I-ADDRESS I-ADDRESS I-ADDRESS B-ADDRESS I-ADDRESS I-ADDRESS O O O  O O O  O O O O  O O  O O O  O O O O  O O O O O  O O O  B-ADDRESS I-ADDRESS O  O O  O  O  B-DATE I-DATE O  O  O  O O  O  O  O  O  O  O  O  O  O  O  O  O  O O O  O  O  O  O  O  O  O  O  O  O  O  O  O  O  O  O  O  O  O O O  O O  O  O  O O O O  O  O  O  O  O  O O  O  O  O  O  O  O O O O O  O  O  O  O  B-TOTAL O  O  O  O O  O O  O  O  O  O O  O  O O  O  O O  O  O  O O O O O O O  O O O  ', 'B-COMPANY I-COMPANY I-COMPANY I-COMPANY I-COMPANY I-COMPANY I-COMPANY B-ADDRESS I-ADDRESS I-ADDRESS I-ADDRESS I-ADDRESS B-ADDRESS I-ADDRESS I-ADDRESS I-ADDRESS O O O  O O O  O O O O O  O O O O  O  B-DATE I-DATE O O O O O  O O O O O O  O O O  O O O O  O O O  O O  O  O  O  O  O  O  O  O O  O  B-ADDRESS O  O  B-ADDRESS O  O  O  B-ADDRESS O  O  O  O  O O  O  O  O  O  O  O  O O O  O  O  O  B-ADDRESS O  O  B-ADDRESS O  O  O  O  O  O  O  O  O  O  O  O  O  O  O  O O O O O  O  O  O  O O O O O  O  O O O  O  O O  B-TOTAL O  O O O O O O O  O O O O O O  O O O O O O O  O O O O O O O O  O O O O O O O  O O  O O  O O  O  ', 'B-COMPANY I-COMPANY I-COMPANY B-COMPANY I-COMPANY B-COMPANY I-COMPANY I-COMPANY O  B-ADDRESS I-ADDRESS I-ADDRESS I-ADDRESS I-ADDRESS B-ADDRESS I-ADDRESS I-ADDRESS I-ADDRESS B-ADDRESS I-ADDRESS I-ADDRESS I-ADDRESS I-ADDRESS O O O O O O O O  O O O  O O O  O  B-DATE I-DATE I-DATE I-DATE I-DATE O O O  O O  O  O  O  O  O  O  O  O  O  O  O  O O O O  O O  O  O O  O  O  O  O  O  O  O  O  B-TOTAL O  O  O O O O O O  O O  O  O  O  O  O  O  O  O  O O  O  O O O O O  O O O O O  O O O O O O  O O O O O O  O O O O O O O O  O O O  ', 'O O  O O O O  O O O O O  O O O O  O O O O O O O  B-ADDRESS I-ADDRESS I-ADDRESS I-ADDRESS I-ADDRESS I-ADDRESS I-ADDRESS B-ADDRESS I-ADDRESS I-ADDRESS I-ADDRESS O O  O O O  B-DATE I-DATE O O O O O O  O O  O O  O O  O  O O  O  O  O  O O O O O  O  O  O  O  O O O  O  O  O  O O O  O  O  O  O O  O  O  O  O O O  O  O  O  O O O  O  O  O  O O O  O  O  O O  O  O O O  O  O O  O  O  B-TOTAL O O  O O  O  O  O  O  O  O  O  O  O  ', 'B-COMPANY I-COMPANY I-COMPANY I-COMPANY B-ADDRESS I-ADDRESS I-ADDRESS B-ADDRESS I-ADDRESS I-ADDRESS I-ADDRESS B-ADDRESS I-ADDRESS I-ADDRESS B-ADDRESS I-ADDRESS I-ADDRESS I-ADDRESS I-ADDRESS O O O O O  O O  O  O O  O  B-DATE O O  O O  O O  O  O O O  O  B-ADDRESS O  O  O O  O  B-ADDRESS O  O  O O O O  O  O O O O  O  O O O O O O  B-TOTAL O O O  O  O O O  O  O O  O  O O  O  O  O  O  O  O  O O O O O  O O O O  O O O  O O O O O  O O O O O  ', 'O  B-COMPANY I-COMPANY I-COMPANY I-COMPANY O  B-ADDRESS I-ADDRESS I-ADDRESS I-ADDRESS B-ADDRESS I-ADDRESS I-ADDRESS O O O  O O O  O O O O  O O  O O O  O O O O  O O O O O  O O O  B-ADDRESS I-ADDRESS O  O O  O O  B-DATE I-DATE O  O O  O O  O O  O O  O  O  O  O  O  O  O  O  O  O  O  O  O  O O  O  O  O O O O O  O  O O  O  O O O  O  O O  O  O O O O O O  O  O O  B-TOTAL O O  O  O O  O O  O  O O  O O  O  O  O  O  O O  O  O  O O O O O O O  O  O  ', 'B-COMPANY I-COMPANY I-COMPANY B-ADDRESS I-ADDRESS I-ADDRESS I-ADDRESS I-ADDRESS I-ADDRESS I-ADDRESS B-ADDRESS I-ADDRESS I-ADDRESS O O O O O  O O O  O O O O  O O  O O O  O O O O O  O O O  O O  O O O  O O  O O O  O O O O  O  O O  O  O  O  O  O O O O O  O  O  O O  O O  O  O  O  O  O  O  B-TOTAL O  O  O O  O  O  O O O  O  O  O O O  B-DATE I-DATE I-DATE O O O O O O O  O O O O O  O O O  O O O O O  O O O O O O O O  O O O O O O  O O  O O O O O O  ', 'B-COMPANY I-COMPANY I-COMPANY I-COMPANY I-COMPANY I-COMPANY I-COMPANY O  O O O O  B-ADDRESS I-ADDRESS I-ADDRESS I-ADDRESS I-ADDRESS B-ADDRESS I-ADDRESS I-ADDRESS I-ADDRESS B-ADDRESS I-ADDRESS I-ADDRESS I-ADDRESS I-ADDRESS I-ADDRESS I-ADDRESS O  O O O  O O O  O O O O  O O  O O O  O O O O  O O O O O  O O  O O O O O O  B-DATE O O  O  O O O O  O  O  O O  O O O O O  O  O  O  O O  O O O O O  O  O  O O  O O O O  O  O  O O  O O O O O  O  O  O O  O O O O O  O  O  O O  O O O O  O O O O O  O  O O  O  O O  B-TOTAL O O  O O  O O  O O  O O  O  O  O O  O  O  O O  O  O  O O O O  O O O O  O O O O O  O O  ', 'B-COMPANY I-COMPANY I-COMPANY I-COMPANY I-COMPANY O O O  B-ADDRESS I-ADDRESS I-ADDRESS I-ADDRESS I-ADDRESS I-ADDRESS I-ADDRESS B-ADDRESS I-ADDRESS I-ADDRESS I-ADDRESS B-ADDRESS I-ADDRESS I-ADDRESS I-ADDRESS O O O O  O O  O O  O O O O O O  O  O O  O  O O O  O  O O  O  O  O O O  O  O O O  O O O  O O O  B-TOTAL I-TOTAL O  O O  O  O O  O O O O O  O O  B-DATE I-DATE I-DATE I-DATE O O  O O O  O O O O  O O O O O  O O O O O  ', 'B-COMPANY I-COMPANY I-COMPANY B-COMPANY I-COMPANY B-COMPANY I-COMPANY I-COMPANY O  B-ADDRESS I-ADDRESS I-ADDRESS I-ADDRESS I-ADDRESS B-ADDRESS I-ADDRESS I-ADDRESS I-ADDRESS B-ADDRESS I-ADDRESS I-ADDRESS I-ADDRESS I-ADDRESS O O O O O O O O  O O O  O O O  O  B-DATE I-DATE I-DATE I-DATE I-DATE O O O  O O  O  O  O  O  O  O  O  O  O  O  O  O O O O O  O  O  O  O  O  O O O O O O  O O  O  O O  O  O  O  O  O  O  O  O  B-TOTAL O  O  O O O O O O  O O  O  O  O  O  O  O  O  O  O O  O  O O O O O  O O O O O  O O O O O O  O O O O O O  O O O O O O O O  O O O  ', 'B-COMPANY I-COMPANY O O O O  O O O  O O O O  B-ADDRESS I-ADDRESS I-ADDRESS I-ADDRESS I-ADDRESS I-ADDRESS I-ADDRESS B-ADDRESS I-ADDRESS I-ADDRESS I-ADDRESS B-ADDRESS I-ADDRESS I-ADDRESS I-ADDRESS O O  B-DATE I-DATE O O O  O  O O  O  O  O O O  O O O  O O  O O  O  O O O O O  O  O O  O  O O  B-TOTAL O  O  O  O  O O  O  O O O  O O  O  O O O  O  O  O O  O  O O O O O  O O O O  O O O O O  O  O O O O  O  ', 'O  B-COMPANY B-COMPANY I-COMPANY I-COMPANY I-COMPANY I-COMPANY I-COMPANY O O O O  O O O O  B-ADDRESS I-ADDRESS I-ADDRESS I-ADDRESS O O O O  O  O  O O O O  O  O  O O O O O  O  O  O O O O O  O  O O O  O  O  O O O  O  O  O O O  B-TOTAL O  O  O O  O  O O  O  O  O  O  O  O  O  O  O  O  O O  O  O  O O  O O  O  O O  O  O O  O  O  B-DATE O  O  O  O  ', 'B-COMPANY I-COMPANY I-COMPANY I-COMPANY I-COMPANY O O  B-ADDRESS I-ADDRESS I-ADDRESS I-ADDRESS I-ADDRESS I-ADDRESS I-ADDRESS B-ADDRESS I-ADDRESS I-ADDRESS B-ADDRESS I-ADDRESS I-ADDRESS I-ADDRESS O O O O  O O  O O  O O O  O  O O O  O  O O  O  O  O O  O  O  O O  O  O  O O O  O O O  O O O  B-TOTAL I-TOTAL O  O O  O  O O  O O O O O  O O  B-DATE I-DATE I-DATE I-DATE O O  O O O O O  O O O O  O O O O  O O O O  ', 'B-COMPANY I-COMPANY I-COMPANY O O O  B-ADDRESS I-ADDRESS I-ADDRESS I-ADDRESS I-ADDRESS I-ADDRESS I-ADDRESS B-ADDRESS I-ADDRESS I-ADDRESS I-ADDRESS I-ADDRESS O  O  O O O O  O O  O O  O  B-DATE I-DATE I-DATE I-DATE O  O O  O  O  O  O  O  O  O  O  O  O  O O O  O  O  O  O  O  O  O O O  O  O  O  O O O O  B-TOTAL O O  O  O O O O  O  O O  O  O  O  O O  O O  O  O O  O  O  O  O  O  O  O  O O O O  O O O O O  O O  ', 'B-COMPANY I-COMPANY I-COMPANY I-COMPANY I-COMPANY I-COMPANY B-ADDRESS I-ADDRESS I-ADDRESS I-ADDRESS I-ADDRESS I-ADDRESS I-ADDRESS B-ADDRESS I-ADDRESS I-ADDRESS O O O  O O O  O  O  O  B-DATE I-DATE I-DATE I-DATE I-DATE O  O  O O  O  O  O  O  O  O O  O  O  O  O O O  O O O O O O  B-TOTAL O  O  O  O  O  O O O  O  O O O  O  O  O  O  O O O  O  O  O  O  O  O O O O  O  O  O O  ', 'O  B-COMPANY I-COMPANY I-COMPANY I-COMPANY I-COMPANY O  B-ADDRESS I-ADDRESS I-ADDRESS I-ADDRESS I-ADDRESS I-ADDRESS I-ADDRESS I-ADDRESS B-ADDRESS I-ADDRESS I-ADDRESS B-ADDRESS I-ADDRESS I-ADDRESS I-ADDRESS B-ADDRESS I-ADDRESS O O O O  O O  B-DATE O O O  O  O  O  O O O  O  B-ADDRESS O  O O O O O  O O O O O O O  O  O O O  O O O O  B-TOTAL O O O  O  O O  O  O O O O  O  O O  O  O  O  O  O O O  O  O  O  O  O  O O  O O O O O O  ', 'O O  B-COMPANY I-COMPANY I-COMPANY I-COMPANY I-COMPANY B-ADDRESS I-ADDRESS I-ADDRESS I-ADDRESS B-ADDRESS I-ADDRESS O O O  O O  O O  O O O  O  O  B-DATE I-DATE O O O O  O  O  O  O  O  O O  O O  O  O  O  O O  O  O O O  O  O O O  O  O O O O  O  O  B-TOTAL O O  O  O O  O  O  O  O  O  O  O O  O  O  O O O O  O O O  ', 'B-COMPANY I-COMPANY I-COMPANY I-COMPANY I-COMPANY I-COMPANY I-COMPANY B-ADDRESS I-ADDRESS I-ADDRESS I-ADDRESS I-ADDRESS B-ADDRESS I-ADDRESS I-ADDRESS I-ADDRESS O O O  O O O  O O O O O  O O O O  O  B-DATE I-DATE O O O O O  O O O O O O  O O O  O O O O  O O O  O O  O  O  O  O  O  O  O  O O  O  B-ADDRESS O  O  O  O  O  O  B-ADDRESS O  O  B-ADDRESS O  O O  O  B-ADDRESS O  O  O  O  O O O  O  O  O  O  O  O  O  O  O O O O O  O  O  O  O O O O O  O  O O O  O  O O  B-TOTAL O  O O O O O O O  O O O O O O  O O O O O O O  O O O O O O O O  O O O O O O O  O O  O O  O O  O  ', 'B-COMPANY I-COMPANY B-ADDRESS I-ADDRESS I-ADDRESS I-ADDRESS I-ADDRESS I-ADDRESS B-ADDRESS I-ADDRESS I-ADDRESS B-ADDRESS I-ADDRESS I-ADDRESS O O O O  O O  O O O  O  O O  O  O O  O O O  O O  O O O  O O  O  O  O O  O O O  O O  B-ADDRESS B-ADDRESS B-ADDRESS O  O  O  O  O O  B-TOTAL O O O O O O O  O  O  O  O  O O  O O O O O O  O O O O  O  O O O O  O O O O  B-DATE I-DATE O  O O  ', 'B-COMPANY I-COMPANY I-COMPANY O  B-ADDRESS I-ADDRESS I-ADDRESS I-ADDRESS B-ADDRESS I-ADDRESS I-ADDRESS I-ADDRESS I-ADDRESS B-ADDRESS I-ADDRESS I-ADDRESS O O O O  O O  O O O  O  O  O  O  O  O O  O O  O  O  O  O O  O O  O  O  O  O O  O O  O  O  O  O O  O O  O  O  O  O O O O  O O O  O  O O O  O  O O O O  O  O  B-TOTAL O  O  O O  O  O  O  O  O  O  O O  B-DATE I-DATE I-DATE ', 'B-COMPANY I-COMPANY I-COMPANY I-COMPANY B-ADDRESS I-ADDRESS I-ADDRESS I-ADDRESS I-ADDRESS B-ADDRESS I-ADDRESS B-ADDRESS I-ADDRESS I-ADDRESS I-ADDRESS I-ADDRESS O O  O O O O  O O  O O O  B-DATE I-DATE O O O O  O  O  O  O  O O O O O  O O O  O O O O  O  O  O  O  O  O  O  O  O  O  O  O  O  O  O  O  O  O  O  O  O O O  O O O  O  O  O  B-TOTAL O  O O  O  O  O  O  O  O  O  O  O  O  O O O  O O O  O O  O O O  ', 'O O  O O  O O O O O  O O O  B-ADDRESS I-ADDRESS I-ADDRESS I-ADDRESS I-ADDRESS I-ADDRESS I-ADDRESS I-ADDRESS B-ADDRESS I-ADDRESS B-ADDRESS I-ADDRESS I-ADDRESS O O O  O O O O  O  O O O O  O O  O  O  O  B-DATE O O O  O O  O  O O  O  O  O  O  B-ADDRESS B-ADDRESS O  O  O  O  O  O  O  O  O  O  B-TOTAL I-TOTAL O O  O  O O  O O  O  O O  O O O  O  O  O  O  O  O  O  O  O  O  O  O  O  O O O O O O  O O O O O  O O O O  O O  O O O O O O O  O O O  O O O  O  O O O O O  O O O O  O O O O O O O  O O O O O  O O O O O O O O  O O O O O O O O  O O O O O  O O O  O O  O O O O O  O O O O O  O  ', 'B-COMPANY I-COMPANY I-COMPANY I-COMPANY I-COMPANY I-COMPANY I-COMPANY B-ADDRESS I-ADDRESS I-ADDRESS I-ADDRESS I-ADDRESS B-ADDRESS I-ADDRESS I-ADDRESS I-ADDRESS O O O  O O O  O O O O O  O O O O  O  B-DATE I-DATE O O O O O  O O O O O O  O O O  O O O O  O O O  O O  O  O  O  O  O  O  O  O O  O  B-ADDRESS O  O  B-ADDRESS O  O  O  O  O  O  O  O  O O O  O  O  O  O  O  O  O  O  O O O O O  O  O  O  O O O O O  O  O O O  O  O O  B-TOTAL O  O O O O O O O  O O O O O O  O O O O O O O  O O O O O O O O  O O O O O O O  O O  O O  O O  O  ', 'B-COMPANY I-COMPANY I-COMPANY I-COMPANY I-COMPANY I-COMPANY I-COMPANY B-ADDRESS I-ADDRESS I-ADDRESS I-ADDRESS I-ADDRESS B-ADDRESS I-ADDRESS I-ADDRESS I-ADDRESS O O O  O O O  O O O O O  O O O O  O  B-DATE I-DATE O O O O O  O O O O O O  O O O  O O O O  O O O  O O  O  O O  O  O O  O O O  O  O  O  O O O O O  O  O  O  O O O O O  O  O O O  O  O O  B-TOTAL O  O O O O O O O  O O O O O O  O O O O O O O  O O O O O O O O  O O O O O O O  O O  O O  O O  O  O  O  O  O  O  O  O  O  O  O  O  O  O  O  O  O  O  O  O  O  O  O  O  O  O  O  O  O  O  O  O  O  O  O  O  O  ', 'B-COMPANY I-COMPANY I-COMPANY B-ADDRESS I-ADDRESS I-ADDRESS I-ADDRESS I-ADDRESS I-ADDRESS I-ADDRESS B-ADDRESS I-ADDRESS I-ADDRESS O O O O O  O O O  O O O O  O O  O O O  O O O O O  O O O  O O  O O O  O O O O  O  O  O  O O O O O  O  O  O O  O O  O  O  B-TOTAL O  O  O  O  O  O  O O  O  O  O O O  O  O  O O O  B-DATE I-DATE I-DATE O O O O O O O  O O O O O  O O O  O O O O O  O O O O O O O O  O O O O O O  O O  O O O O O O  ', 'B-COMPANY I-COMPANY O O O O O  B-ADDRESS I-ADDRESS I-ADDRESS I-ADDRESS I-ADDRESS I-ADDRESS B-ADDRESS I-ADDRESS I-ADDRESS I-ADDRESS B-ADDRESS I-ADDRESS I-ADDRESS O  O O O O  O O  O O  O O  O O  O  O O O  O  B-DATE I-DATE O  O  O  O  O O O O O O O  O  O  B-TOTAL O  O  O  O  O  O  O O  O  O O O  O  O  O O  O  O  O  O  O O  O  O  O  O  O  O  O  O  O  O  O  O  O O O O O O  O O O O O O O O  O O  ', 'B-COMPANY I-COMPANY I-COMPANY O  B-ADDRESS I-ADDRESS I-ADDRESS I-ADDRESS B-ADDRESS I-ADDRESS I-ADDRESS I-ADDRESS I-ADDRESS B-ADDRESS I-ADDRESS I-ADDRESS O O O O  O O  O O O O  O O  O  B-DATE I-DATE I-DATE O  O  O  O  O  O O  O O  O  O  O  O O  O O  O  O  O  O O O  O O O  O  O O O  O  O O O O  O  O O  B-TOTAL O O  O  O O  O  O  O  O O  O  O  ', 'B-COMPANY I-COMPANY I-COMPANY I-COMPANY I-COMPANY B-ADDRESS I-ADDRESS I-ADDRESS I-ADDRESS I-ADDRESS I-ADDRESS I-ADDRESS I-ADDRESS O O  O O  O  O O O  O O  O O O  O  O O  B-DATE I-DATE I-DATE O O  O O  O  O O  O  O  O  O  O O  O  O  O  O  O O O O  O O  O  O  O  O  O O O O O  O O  O  O  O  O  O O O O O  O O  O  O  O  O  O O O  O O  O  O  O  O  O O O  O O O  O O O O  O  O O O  O  O O O  O  O O O  B-TOTAL O  O  O O  O  O O  O  O  O O O O  O  O  O O O  O O O O O O O  O O O O O O O O  O O O O O O O  O O O O O O O O O O O  O O O O O O O O O  ', 'B-COMPANY I-COMPANY I-COMPANY B-COMPANY I-COMPANY B-COMPANY I-COMPANY I-COMPANY O  B-ADDRESS I-ADDRESS I-ADDRESS I-ADDRESS I-ADDRESS B-ADDRESS I-ADDRESS I-ADDRESS I-ADDRESS B-ADDRESS I-ADDRESS I-ADDRESS I-ADDRESS I-ADDRESS O O O O O O O O  O O O  O O O  O  B-DATE I-DATE I-DATE I-DATE I-DATE O O O  O O  O  O  O  O  O  O  O  O  O  O  O  O O O O  O O  O  O O  O  O  O  O  O  O  O  O  B-TOTAL O  O  O O O O O O  O O  O  O  O  O  O  O  O  O  O O  O  O O O O  O O O  O O O  O O  O O  ', 'B-COMPANY I-COMPANY I-COMPANY O  B-ADDRESS I-ADDRESS I-ADDRESS I-ADDRESS B-ADDRESS I-ADDRESS I-ADDRESS I-ADDRESS I-ADDRESS B-ADDRESS I-ADDRESS I-ADDRESS O O O O  O O  O O O  B-DATE I-DATE I-DATE I-DATE O  O  O  O O  O O  O  O  O O  O O  O  O  O O O  O O O O  O  O  O O O  O O O O  O  O O  B-TOTAL O O  O  O O  O O  O O  O  O O  O  O  O O  O  O  O  O  ', 'B-COMPANY I-COMPANY I-COMPANY I-COMPANY B-DATE I-DATE I-DATE I-DATE O  B-ADDRESS I-ADDRESS I-ADDRESS I-ADDRESS I-ADDRESS B-ADDRESS I-ADDRESS I-ADDRESS O  O O O O  O  O  O  O O O O O O O  O  O  O  O O O  O  O  O  B-TOTAL I-TOTAL I-TOTAL O O O  O O O  O O  O  O  O  O  O  O O  O  O  O O O O  O  O  O O O  O O O O  O O O O  O O O O O  O O O O O O  O  ', 'B-COMPANY I-COMPANY I-COMPANY I-COMPANY I-COMPANY O O  B-ADDRESS I-ADDRESS I-ADDRESS I-ADDRESS I-ADDRESS I-ADDRESS I-ADDRESS B-ADDRESS I-ADDRESS I-ADDRESS B-ADDRESS I-ADDRESS I-ADDRESS I-ADDRESS O O O O  O O O  O O  O O O  O  O O O  O  O  O  O  O  O O O  O  O O O  O  O  O  O  O  O O O O O  O  O O O  O  O  O  O  O  O O O O  O  O O O  O  O  O  O  O  O O O  O O O  O O O  B-TOTAL I-TOTAL O  O O  O  O O  O O  O  O  O O  O  O  B-DATE I-DATE I-DATE I-DATE O O  O O  O O O O  O O O O  O O O O  ', 'B-COMPANY I-COMPANY I-COMPANY I-COMPANY O  B-ADDRESS I-ADDRESS I-ADDRESS I-ADDRESS I-ADDRESS B-ADDRESS B-ADDRESS I-ADDRESS I-ADDRESS O O O  O O O O  O O O  O  O O  O O O O O O O  O  B-DATE I-DATE O  O  O  O O  O O  O O  O  O  O  O  O  O  O  O  O  O  O O O O  O O  O  B-TOTAL O O O O O  O  O O  O  O O O  O  O O  O  O O O O O O  O  O O  O  O O  O  O O  O O  O  O  O  O  O  O  O  O O  O  ', 'O  O O  B-COMPANY I-COMPANY I-COMPANY I-COMPANY O O O  O O O O  B-ADDRESS I-ADDRESS I-ADDRESS I-ADDRESS I-ADDRESS I-ADDRESS I-ADDRESS B-ADDRESS I-ADDRESS I-ADDRESS I-ADDRESS B-ADDRESS I-ADDRESS O O O O  B-DATE O  O O O  O O O  O O  O  O  O O O  O O  O O O O O  O O  O O O O O  O  O O  O  O O  B-TOTAL O  O  O  O  O O  O O  O O  O O  O  O O O  O  O  O O  O  O O O O O  O O O O  O O O O O  O  O O O O  O  ', 'B-COMPANY I-COMPANY I-COMPANY B-ADDRESS I-ADDRESS I-ADDRESS I-ADDRESS I-ADDRESS I-ADDRESS I-ADDRESS B-ADDRESS I-ADDRESS I-ADDRESS O O O O O  O O O  O O O O  O O  O O O  O O O O O  O O O  O O  O O O  O O  O O O  O O  O O O  O O O O  O  O O O O  O  O O O O O  O O O  O  O  O  O  O  O  O  O O O O O  O  O  O O  O O  O  O  O  O  O  O  B-TOTAL O  O  O O  O  O  O O O  O  O  O O  O O  O O  O O O  O  B-DATE O  O O O O O O  O O O O O O O  O O O O O  O O O  O O O O O  O O O O O O O O  O O O O O O  O O  O O O O O O  ', 'B-COMPANY I-COMPANY I-COMPANY B-ADDRESS I-ADDRESS I-ADDRESS I-ADDRESS I-ADDRESS I-ADDRESS I-ADDRESS B-ADDRESS I-ADDRESS I-ADDRESS O O O O O  O O O  O O O O  O O  O O O  O O O O O  O O O  O O  O O O O O  O O  O O O  O  O  O O O O O  O  O  O  O  O  O O  O  O O  O  O  B-TOTAL O  O  O O  O  O  O O O  O  O  O O O  O O  B-DATE O O  O  O O O O O O O O O  O O O O O O O  O O O O O  O O O  O O O O O  O O O O O O O O  O O O O O O  O O  O O O O O O  ', 'O O O O O  B-ADDRESS I-ADDRESS B-ADDRESS I-ADDRESS I-ADDRESS I-ADDRESS I-ADDRESS I-ADDRESS I-ADDRESS B-ADDRESS I-ADDRESS I-ADDRESS I-ADDRESS I-ADDRESS I-ADDRESS B-ADDRESS I-ADDRESS O O O O O  O O  B-COMPANY I-COMPANY I-COMPANY I-COMPANY I-COMPANY I-COMPANY I-COMPANY O O O O O  O  O  O  O  O O O O O  O  O  O  O  O  O O O O O  O  O  O  O  O  O O  O  O  O  O  O  O O  O  O O  B-TOTAL O O O  O  O O  O  O O  O  O O  O  O O  O  O O  O  B-DATE I-DATE I-DATE O O O O O O O O  O O O O  ', 'B-COMPANY I-COMPANY I-COMPANY O  B-ADDRESS I-ADDRESS I-ADDRESS I-ADDRESS B-ADDRESS I-ADDRESS I-ADDRESS I-ADDRESS I-ADDRESS B-ADDRESS I-ADDRESS I-ADDRESS O O O O  O O  O O O  O O  O  B-DATE I-DATE I-DATE O  O  O  O  O  O O  O O  O  O  O  O O  O O  O  O  O  O O  O O  O  O  O  O O O  O O O  O  O O O O  O  O O  B-TOTAL O O  O  O O  O  O  O  O O  O  O  ', 'B-COMPANY I-COMPANY I-COMPANY I-COMPANY I-COMPANY O  B-ADDRESS I-ADDRESS I-ADDRESS I-ADDRESS I-ADDRESS B-ADDRESS I-ADDRESS I-ADDRESS O  O O O  O O O  O  O O O O  O O  O O  O  O O  O O  O O  B-DATE I-DATE O O  O  O  O  O  O  O  O  O  O  O  O O  O  O O O  O  O O O  O  O O O  O  O O  O  O O O  O  O O O  O  O O O  O  O O  O  O  O  O  O  O  O  O  O  O  O  O  O  O  O  O  O  O  O  O  O  O  O  O  O  O  O  O  O  O  O  O  O  O  O  O  O  O  O  O  O  O  O  O  O  O O  O  O  O O O O O  O O  O O O  O O  O O O O O O  O O  O O  O  O  O  O  B-TOTAL O  O  O O  O O  O  O  O  O  O  O  O  O  O  O O O O O O O  O O  ', 'B-COMPANY I-COMPANY I-COMPANY B-COMPANY I-COMPANY B-COMPANY I-COMPANY I-COMPANY O  B-ADDRESS I-ADDRESS I-ADDRESS I-ADDRESS I-ADDRESS B-ADDRESS I-ADDRESS I-ADDRESS I-ADDRESS B-ADDRESS I-ADDRESS I-ADDRESS I-ADDRESS I-ADDRESS O O O O O O O O  O O O  O O O  O  B-DATE I-DATE I-DATE I-DATE I-DATE O O O  O O  O  O  O  O  O  O  O  O  O  O  O  O O O O O  O O  O  O O  O  O  O  O  O  O  O  O  B-TOTAL O  O  O O O O O O  O O  O  O  O  O  O  O  O  O  O O  O  O O O O O  O O O O O  O O O O O O  O O O O O O  O O O O O O O O  O O O  ', 'B-COMPANY I-COMPANY B-COMPANY I-COMPANY I-COMPANY I-COMPANY I-COMPANY O  B-ADDRESS I-ADDRESS I-ADDRESS B-ADDRESS I-ADDRESS I-ADDRESS I-ADDRESS I-ADDRESS B-ADDRESS I-ADDRESS I-ADDRESS B-ADDRESS I-ADDRESS O O O O O  O O O O  O O  O O  O  O  O O  O O  O O  O O  O  O O  B-DATE I-DATE O  O O  O  O O  O O  O  O  O  O  O  O  O  O  B-TOTAL O  O  O O O  O O  O O  ', 'B-COMPANY I-COMPANY I-COMPANY I-COMPANY I-COMPANY B-ADDRESS I-ADDRESS I-ADDRESS I-ADDRESS I-ADDRESS B-ADDRESS I-ADDRESS I-ADDRESS I-ADDRESS B-ADDRESS I-ADDRESS I-ADDRESS B-ADDRESS I-ADDRESS I-ADDRESS O O O O O  O O O O  O  O  B-DATE O O O O O  O O O O  O O  O O O O O  O O O  O O  O O  O O  O O  O O O  O  O  O  O  O O O O O  O O O O O O  O  O  B-TOTAL O  O  ', 'B-COMPANY I-COMPANY I-COMPANY I-COMPANY I-COMPANY I-COMPANY I-COMPANY B-ADDRESS I-ADDRESS I-ADDRESS I-ADDRESS I-ADDRESS B-ADDRESS I-ADDRESS I-ADDRESS I-ADDRESS O O O  O O O  O O O O O  O O O O  O  B-DATE I-DATE O O O O O  O O O O O O  O O O  O O O O  O O O  O O  O  O  O  O  O  O  O  O O  O  O  O  O  B-ADDRESS O  O  O  O  O  O  B-ADDRESS O  O O  O  O  O  O  O  O  O O O  O  O  O  O  B-ADDRESS O  O  O  O  O  O  O  O  O  O  O O O O O  O  O  O  O O O O O  O  O O O  O  O O  B-TOTAL O  O O O O O O O  O O O O O O  O O O O O O O  O O O O O O O O  O O O O O O O  O O  O O  O O  O  ', 'B-COMPANY I-COMPANY I-COMPANY I-COMPANY B-ADDRESS I-ADDRESS I-ADDRESS I-ADDRESS I-ADDRESS B-ADDRESS I-ADDRESS I-ADDRESS B-ADDRESS I-ADDRESS I-ADDRESS I-ADDRESS O O O O  O O O O  O O O O  O O O O O O O  O  O  O O O O  O  O  O O O O O  O O  O  O  O  O  O  O O  O  O  B-TOTAL I-TOTAL O O  O  O  O  O  O  O O  O  O  O  O O O O O  O  O O O O O O  B-DATE O  O  ', 'B-COMPANY I-COMPANY I-COMPANY I-COMPANY I-COMPANY I-COMPANY I-COMPANY B-ADDRESS I-ADDRESS I-ADDRESS I-ADDRESS I-ADDRESS B-ADDRESS I-ADDRESS I-ADDRESS I-ADDRESS O O O  O O O  O O O O O  O O O O  O  B-DATE I-DATE O O O O O  O O O O O O  O O O  O O O O  O O  O O  O  O  O  O  O  O O  O  O  O  O  O  O  O  O  O  O  O  O  O  O O  O  O  O  O  O  O  O O O  O  O  O  O  O  O  O  O  O O O O O  O  O  O  O O O O O  O  O O O  O  O O  B-TOTAL O  O O O O O O O  O O O O O O  O O O O O O O  O O O O O O O O  O O O O O O O  O O  O O  O O  O  O  O  ', 'B-COMPANY I-COMPANY I-COMPANY O  B-ADDRESS I-ADDRESS I-ADDRESS I-ADDRESS B-ADDRESS I-ADDRESS I-ADDRESS I-ADDRESS I-ADDRESS B-ADDRESS I-ADDRESS I-ADDRESS O O O O  O O  O O O  O O  O  B-DATE I-DATE I-DATE O  O  O  O  O  O O  O O  O  O  O  O O  O O  O  O  O  O O  O O  O  O  O  O O O  O O O  O  O O O O  O  O O  B-TOTAL O O  O  O O  O  O  O  O O  O  O  ', 'B-COMPANY I-COMPANY I-COMPANY I-COMPANY I-COMPANY O  B-ADDRESS I-ADDRESS I-ADDRESS I-ADDRESS I-ADDRESS I-ADDRESS I-ADDRESS B-ADDRESS I-ADDRESS I-ADDRESS O O O O  O O O O  O O O  O  O O O O  B-DATE I-DATE I-DATE O  O  O  O  O  O  O  O  O  O O  O O O O O O  O O O  O  O  O O  O  O  O O  O  O  O  O  O  O  O  B-TOTAL O  O  O  O  O  O  O O  O O  O  O  O  O  O  O  O  O  O  O  O O O O O O O O O  O O O O O O  O O O O O  O O  O O O O  O  O  O  ', 'B-COMPANY I-COMPANY I-COMPANY I-COMPANY I-COMPANY O  B-ADDRESS I-ADDRESS I-ADDRESS I-ADDRESS I-ADDRESS I-ADDRESS I-ADDRESS B-ADDRESS I-ADDRESS I-ADDRESS B-ADDRESS I-ADDRESS I-ADDRESS I-ADDRESS O O O O  O O  O O  O O  O O O  O  O O  O O O  O  O O O O  O O O  O  O O O  O O O  O  O O O  O O O  O  O O O O  O O O  O  O O O  O O O  O  O O O  O O O  O O  O O  O O  O O O  O O O  O O O O  O  O  O  O  O  O  O  O O O  O O O  O  O  O O O O O  B-TOTAL I-TOTAL O O  O O  O O  B-DATE I-DATE I-DATE I-DATE O O O O O  O O O O  O O O O  O O O O  O  O  O  O  O  O  O  O  O  O O  O O O O  O O  ', 'B-COMPANY I-COMPANY I-COMPANY I-COMPANY I-COMPANY B-ADDRESS I-ADDRESS I-ADDRESS I-ADDRESS I-ADDRESS I-ADDRESS B-ADDRESS I-ADDRESS I-ADDRESS I-ADDRESS B-ADDRESS I-ADDRESS I-ADDRESS I-ADDRESS O O O O  O O  O O O O O  O O O O O  O O  O  O O  O O  O  O O O  O  O  O O O O  O  O O  O  O O O O O  B-TOTAL O  O  O O O  O O  O  O O O  O O  O  O  O O O  O  O  O  O  O  B-DATE I-DATE O O O  O O  O O O  O O O  O O O O O  O O O  ', 'B-COMPANY I-COMPANY I-COMPANY I-COMPANY I-COMPANY I-COMPANY O  B-ADDRESS I-ADDRESS I-ADDRESS I-ADDRESS I-ADDRESS B-ADDRESS I-ADDRESS I-ADDRESS B-ADDRESS I-ADDRESS I-ADDRESS O O O O O  B-DATE I-DATE I-DATE O O O  O O O  O O O O O  O  O  O  O O O O O  O  O  O  O O  O O  O O  O O O O  O O O  O  O  O  O  B-TOTAL O  O  O O  O O O  O O O  O O  O  O  O  O  O  O  O  O O O O O O  O O O O  O O O O O  O O O  O O O  O O O O O O O  O O O  O  ', 'B-COMPANY I-COMPANY I-COMPANY I-COMPANY I-COMPANY I-COMPANY O  B-ADDRESS I-ADDRESS I-ADDRESS I-ADDRESS I-ADDRESS I-ADDRESS I-ADDRESS I-ADDRESS B-ADDRESS I-ADDRESS I-ADDRESS I-ADDRESS I-ADDRESS I-ADDRESS B-ADDRESS I-ADDRESS I-ADDRESS I-ADDRESS I-ADDRESS I-ADDRESS O O O  O  O  B-DATE I-DATE I-DATE I-DATE O  O O  O O  B-ADDRESS I-ADDRESS O O  O  O  O  O  O O O  O  O  O  O  O O O  O O  O  O O  O  O O  O  O  B-TOTAL I-TOTAL O O  O O  O  O O O O  O  ', 'B-COMPANY I-COMPANY I-COMPANY O  B-ADDRESS I-ADDRESS I-ADDRESS I-ADDRESS B-ADDRESS I-ADDRESS I-ADDRESS I-ADDRESS I-ADDRESS B-ADDRESS I-ADDRESS I-ADDRESS O O O O  O O  O O O  O O  O  B-DATE I-DATE I-DATE O  O  O  O  O  O O  O O  O  O  O  O O  O O  O  O  O  O O  O O  O  O  O  O O  O O  O  O  O  O O O  O O O  O  O O O O  O  O O  B-TOTAL O O  O  O O  O  O  O  O O  O  O  ', 'B-COMPANY I-COMPANY I-COMPANY I-COMPANY B-DATE I-DATE I-DATE I-DATE O  B-ADDRESS I-ADDRESS I-ADDRESS I-ADDRESS I-ADDRESS B-ADDRESS I-ADDRESS I-ADDRESS O O  O O O O  O  O O O O O O O  O  O O O  O  O O O  O  O O  O O O  B-TOTAL I-TOTAL I-TOTAL O O  O  O  O  O  O O  O O O O  O O O  O O O O  O O O O  O O O O O  O O O O O O  O  O  O  O  O  O  O  O  O  O  O  O  O  O  O  ', 'O  B-COMPANY I-COMPANY I-COMPANY I-COMPANY I-COMPANY O  O O O  O O O O O  O O O  B-ADDRESS I-ADDRESS I-ADDRESS I-ADDRESS I-ADDRESS I-ADDRESS B-ADDRESS I-ADDRESS I-ADDRESS I-ADDRESS I-ADDRESS I-ADDRESS B-ADDRESS O O O O  O O O O O O  O O O  O O  O O O  O O  B-DATE I-DATE I-DATE I-DATE I-DATE O  O O  O  O O O  O  O O  O  O O O O  O  O O  B-TOTAL O O  O  O  O  O O O O  O  O O O O O O  ', 'B-COMPANY I-COMPANY I-COMPANY I-COMPANY B-ADDRESS I-ADDRESS I-ADDRESS I-ADDRESS I-ADDRESS B-ADDRESS I-ADDRESS B-ADDRESS I-ADDRESS I-ADDRESS I-ADDRESS I-ADDRESS O O  O O  O O  O O O  B-DATE I-DATE O O O O  O  O  O  O O O O O O  O  O  O O  O  O  O  O  O  O O O  O  O O O  B-TOTAL O  O  O O  O  O  O  O  O  O  O  O O O  O O  O  O O  O O O  O  O  ', 'B-COMPANY I-COMPANY I-COMPANY I-COMPANY I-COMPANY O O  B-ADDRESS I-ADDRESS I-ADDRESS I-ADDRESS I-ADDRESS I-ADDRESS I-ADDRESS B-ADDRESS I-ADDRESS I-ADDRESS B-ADDRESS I-ADDRESS I-ADDRESS I-ADDRESS O O O O  O O  O O  O O O O  O  O O O  O  O  O  O  O  O O O O O  O  O O O  O  O  O  O  O  O O  O  O  O  O  O  O  O O O  O O O  O O O  B-TOTAL I-TOTAL O  O O  O  O O  O O O O O  O O  B-DATE O  O  O  O  O  O O O  O O O O  O O O O  O O O O  ', 'B-COMPANY I-COMPANY I-COMPANY I-COMPANY O O O O  B-ADDRESS I-ADDRESS I-ADDRESS I-ADDRESS I-ADDRESS I-ADDRESS B-ADDRESS I-ADDRESS I-ADDRESS I-ADDRESS O O  O O O  O O O  O O O  B-DATE I-DATE I-DATE O  O  O  O O O O O  O O O  O  O O  O O O O  O O O  O O  O O O  B-TOTAL O  O  O  O  O  O  O  O  O O  O O  O O O  O  O  O  O  O O O O O  O O O O O  O O O O O  O O  O O O O O O  O O O O  O O  O O O  O O  O  ', 'B-COMPANY I-COMPANY I-COMPANY I-COMPANY I-COMPANY I-COMPANY O O O O O  B-ADDRESS I-ADDRESS I-ADDRESS I-ADDRESS I-ADDRESS B-ADDRESS I-ADDRESS I-ADDRESS I-ADDRESS B-ADDRESS I-ADDRESS I-ADDRESS O O O O O O  O O O O O O  O O  O O O O  O O  O O O O  O O  B-DATE I-DATE I-DATE I-DATE I-DATE O O O O O O O O O  O  O O O  O O  O O  O O  O  B-TOTAL I-TOTAL O  O  O O  O O  ', 'B-COMPANY I-COMPANY I-COMPANY I-COMPANY I-COMPANY O  B-ADDRESS I-ADDRESS I-ADDRESS I-ADDRESS I-ADDRESS I-ADDRESS I-ADDRESS B-ADDRESS I-ADDRESS I-ADDRESS O O O O  O O O O  O O O O  O O O  O  O O O O  O O O O O  B-DATE I-DATE I-DATE O O  O  O  O  O  O  O  O  O  O  O  O O  O O O O O O  O  O  O  O  O O  O O O  O O O  O  O  O O  O  O  O O  O  O  O  O  O  O  O  B-TOTAL O  O  O  O  O  O  O O  O O  O  O  O  O  O  O  O  O  O  O O  O  O  O O O O O O O O O  O O O O O O  ', 'B-COMPANY I-COMPANY O O  B-ADDRESS I-ADDRESS I-ADDRESS I-ADDRESS I-ADDRESS I-ADDRESS B-ADDRESS I-ADDRESS I-ADDRESS O O  O  O O  O  O O  O O O O O  O O  O  B-TOTAL I-TOTAL O  O  O  O  O  O  O  O  O  O  O O  O O  O  O O  O O  O  O  O  O O  O O  O  O  O  O O  O  O  O O O  O  O  O O  O  O  O  O  O  O  B-DATE O O O O  O O O O  O O O O O O  O O  O O O  O  O  O  O  O  O  O  ', 'B-COMPANY I-COMPANY I-COMPANY O  B-ADDRESS I-ADDRESS I-ADDRESS I-ADDRESS I-ADDRESS I-ADDRESS B-ADDRESS I-ADDRESS I-ADDRESS I-ADDRESS B-ADDRESS I-ADDRESS B-ADDRESS O O  O O  O  O  O  O  O  O  O  O  O  B-DATE O  O  O  O  O  O  O  O  O  O  O  O  O  O  O  O  O  O  O  O  O  O  O  O  O  O  O  O  O  O  O  O  O  O  O  O  O  O  O  O  O  O  O  O  O  O  O  O  O  O  O  O  O  O  O  O  O  O  O  O  O  O  O  O  O  O  O  O  O  O  O  O  O  O  O  O  O  O  O  O  O  O  O  O  O  O  O  O  O  O  O  O  O O O O O  O  O O  O  O O O  O  O O O  O  O O  O  O O O O O  O  O  O  O  O  O O  O O  O  O  O  O O  O  O O  O  O O  B-TOTAL O  O O O O O O O O  O  O O O O O O O  ', 'O O O O  B-COMPANY O O O O O  B-ADDRESS I-ADDRESS I-ADDRESS I-ADDRESS I-ADDRESS I-ADDRESS I-ADDRESS B-ADDRESS I-ADDRESS I-ADDRESS I-ADDRESS I-ADDRESS O O O O  O O O  O O O  O O  B-DATE I-DATE O  O O O O  O O  O  O O  O  O  O O O O  O  O O O O  O  O  B-TOTAL O  O  O  O  O O O  O  O O  O  O  O  O  O  O O O O O O  O  O O O O O O O  O  O  O  O  ', 'B-COMPANY I-COMPANY I-COMPANY B-ADDRESS I-ADDRESS I-ADDRESS I-ADDRESS I-ADDRESS I-ADDRESS I-ADDRESS B-ADDRESS I-ADDRESS I-ADDRESS O O O O O  O O O  O O O O  O O  O O O  O O O O O  O O O  O O  O O O  O O  O O O  O O O O  O  O O O O O O  O O  O  O  O  O  O O O O O  O  O  O O  O O  O  O  B-TOTAL O  O  O  O  O  O  O O  O  O  O O O  O  O  O O O  B-DATE I-DATE I-DATE O O O O O O O  O O O O O  O O O  O O O O O  O O O O O O O O  O O O O O O  O O  O O O O O O  ', 'B-COMPANY I-COMPANY I-COMPANY I-COMPANY O  O O O  B-ADDRESS I-ADDRESS I-ADDRESS I-ADDRESS I-ADDRESS I-ADDRESS I-ADDRESS I-ADDRESS O O O O  O O O  O O  O O O O  B-DATE I-DATE I-DATE I-DATE I-DATE O  O  O O  O  O  O  O  O  O  O  O O  O  O  O  O  O  O  O  O  O  O O  O  O O  O  O  O  O  O  O O  O  O  O  O  B-TOTAL O  O  O  O  O O  O  O  O  O  O  O  O  O  O O  O  O O O O  O O  O O  O O O  O O O O  O O O O  ', 'B-COMPANY I-COMPANY I-COMPANY B-COMPANY O  B-ADDRESS I-ADDRESS I-ADDRESS I-ADDRESS B-ADDRESS I-ADDRESS I-ADDRESS I-ADDRESS B-ADDRESS I-ADDRESS I-ADDRESS I-ADDRESS O O  O O  O O O O  O O  O O  O  B-DATE I-DATE I-DATE I-DATE O  O  O  O  O O O  O  O  B-TOTAL I-TOTAL O O  O  O O  O  O O  O  O O O  O  O O O  O  O O  O  O  O  O  O  O O  O O O  ', 'O O O O O  B-ADDRESS I-ADDRESS I-ADDRESS I-ADDRESS I-ADDRESS I-ADDRESS B-ADDRESS I-ADDRESS I-ADDRESS I-ADDRESS B-ADDRESS I-ADDRESS I-ADDRESS I-ADDRESS O O O O  O O  O O O O O  O O O O O  O O  O  O O O  O O  O O O  O  O O  O O  O  O  B-TOTAL O O O O  O  O O O O O  O  O  O  O O O  O O O  O O  O  O  O O O  O  O  O  O  O  B-DATE I-DATE O O O  O O O  O O O  O O O  O O O O O  O O O  O O  O  ', 'B-COMPANY I-COMPANY I-COMPANY I-COMPANY O O  B-ADDRESS I-ADDRESS I-ADDRESS I-ADDRESS I-ADDRESS I-ADDRESS I-ADDRESS B-ADDRESS I-ADDRESS I-ADDRESS B-ADDRESS I-ADDRESS I-ADDRESS I-ADDRESS O O O O  O O O  O O  O O O O O  O  O O O  O  O O  O  O  O O O O  O O O  O O O  O O O  B-TOTAL I-TOTAL O  O O  O  O O  O O  O  O  O O  O  O  B-DATE I-DATE I-DATE I-DATE O O  O O O  O O O O  O O O O  ', 'B-COMPANY I-COMPANY I-COMPANY I-COMPANY I-COMPANY O  B-ADDRESS I-ADDRESS I-ADDRESS I-ADDRESS I-ADDRESS I-ADDRESS B-ADDRESS I-ADDRESS I-ADDRESS I-ADDRESS I-ADDRESS B-ADDRESS O O O O  O O O O  O O O  O O  O O O  O O  B-DATE I-DATE I-DATE I-DATE I-DATE I-DATE O O  O O O  O O O  O O O  O O  O O  O O  O O O O  O O  O O  O  O O O O  O  O  O  O  O  B-TOTAL O  O  O  O  O O O O O O  O O O O O  ', 'B-COMPANY I-COMPANY I-COMPANY I-COMPANY O  B-ADDRESS I-ADDRESS I-ADDRESS I-ADDRESS I-ADDRESS B-ADDRESS B-ADDRESS I-ADDRESS I-ADDRESS O O  O O O  O O O  O  O O  O O  B-DATE I-DATE O  O O  O O  O  O  O  O  O  O  O  O  O  O  O  O  O O O O O  O O  O  B-TOTAL O O O O O  O  O O  O  O O O  O  O O  O  O O O O O  O  O O  O  O O  O  O O  O O  O  O  O  O  O  O  O  O  O  O  O O O O O O  ', 'B-COMPANY I-COMPANY I-COMPANY I-COMPANY I-COMPANY O  B-ADDRESS I-ADDRESS I-ADDRESS I-ADDRESS I-ADDRESS I-ADDRESS I-ADDRESS B-ADDRESS I-ADDRESS I-ADDRESS O O O O  O O O O  O O O  O  O O O O  O  O  O  O  O  O  O  O  O  O O  O O O O O  O  O  O  O  O O  O O O O O  O O O  O  O  O O  O  O  O O  O  O  O  O  O  O  O  O  O  O  B-TOTAL O  O  O  O O  O O  O  O  O  O  O  O  O  O O  O  O  O O O O O O O O  O O O O O O  O O O O O  O O  O O O O  B-DATE I-DATE I-DATE O  ', 'B-COMPANY I-COMPANY I-COMPANY I-COMPANY O O O O O  B-ADDRESS I-ADDRESS I-ADDRESS I-ADDRESS I-ADDRESS I-ADDRESS I-ADDRESS B-ADDRESS I-ADDRESS I-ADDRESS I-ADDRESS O O  O O O O  O O  O O  B-DATE I-DATE I-DATE O O O O O  O O O O  O  O  O  O  O O O O  O  O O  O  O O O O  O  O O  O  O O O O  O  O O  O  O O O  O  O O  O  O O O O O O  O  O O  O O O  O  O O  O O  O O  O  O O  O O O O  O  O O  O O O O  O  O O  O O  O  O O O O  O  O O  O  O  O  O  O  O  O  O O  O  O O O  B-TOTAL O  O  O O  O  O  O O  O  O  O  O  O  O  O  O  O  O  O  O O O O O O O O  O O O O O O O O O O  ', 'B-COMPANY I-COMPANY I-COMPANY I-COMPANY B-DATE I-DATE I-DATE I-DATE O  B-ADDRESS I-ADDRESS I-ADDRESS I-ADDRESS I-ADDRESS B-ADDRESS I-ADDRESS I-ADDRESS O O  O O O O  O  O  O  O O O O O O O  O  O  O  O O O  O  O  O  B-TOTAL I-TOTAL I-TOTAL O O O  O O O  O O  O  O  O  O  O  O O  O  O  O O O O  O  O  O O O  O O O O O  O O O O  O O O O O  O O O O O O  O  ', 'B-COMPANY I-COMPANY I-COMPANY I-COMPANY B-DATE I-DATE I-DATE I-DATE O  B-ADDRESS I-ADDRESS I-ADDRESS I-ADDRESS I-ADDRESS B-ADDRESS I-ADDRESS I-ADDRESS O O  O O O O  O  O  O  O O O O O O O  O  O  O  B-TOTAL I-TOTAL I-TOTAL O O O  O O O  O O  O  O  O  O  O  O O  O  O  O O O O  O  O  O O O  O O O O  O O O O  O O O O O  O O O O O O  O  ', 'B-COMPANY I-COMPANY I-COMPANY I-COMPANY I-COMPANY O  B-ADDRESS I-ADDRESS I-ADDRESS I-ADDRESS I-ADDRESS B-ADDRESS I-ADDRESS I-ADDRESS B-ADDRESS I-ADDRESS B-ADDRESS O O O O  O O  O  O  O  O  O O  O  O  O  B-DATE O  O  O  O  O  O  O  O O O O O O  O  O  O  O  O O O  O  O  O  O  O  O  O  O O O O  O  O  O  O O O  O  O O O  O  O O  O  O O O O O  O  O  O  O  O  O O  O O  O  O  O  O O  O  O O  O  O O  B-TOTAL O  O O O O O O O O  O  O O O O O O  ', 'B-COMPANY I-COMPANY I-COMPANY B-ADDRESS I-ADDRESS I-ADDRESS I-ADDRESS I-ADDRESS B-ADDRESS I-ADDRESS I-ADDRESS B-ADDRESS I-ADDRESS I-ADDRESS O O O  O O  O O  O O O  O O  O  B-DATE I-DATE O  O O O O  O  O  O  O O  O O O  O  O  O  O  O O O  O  O  O  O  O  O  O  O  O  O O O  O  O  O  O  O O O  O O  O  O O O  O  O O O O  O  O  B-TOTAL O O  O  O  O O O O  O O  O  O O  O  O O  O  O  O  O O  O  O  ', 'B-COMPANY I-COMPANY I-COMPANY I-COMPANY B-ADDRESS I-ADDRESS I-ADDRESS I-ADDRESS I-ADDRESS B-ADDRESS I-ADDRESS I-ADDRESS I-ADDRESS B-ADDRESS I-ADDRESS I-ADDRESS I-ADDRESS O O O O  O O O O  O O O O  O O  O O  O O O  O  O O  O O O  O O O O  B-DATE I-DATE I-DATE I-DATE I-DATE O  O O  O  O O  O  O  O  O  O O  O  O  O  O O O O  O O O O O O O  O  O  O  O O O O O O O  O  O O O O O O O  O O  O  O  O  O O  O  O  O  O O  O  O  O  O  O  O  B-TOTAL O  O  O  O  O  O  O  O O O  O O O O  O O O O O  O O O O O  O O O O O O  O O O O O O  O O O O O O  O O O O O O O  O O  O O  O O  O O O  O  O  O  O  O  ', 'B-COMPANY I-COMPANY I-COMPANY I-COMPANY I-COMPANY B-ADDRESS I-ADDRESS I-ADDRESS I-ADDRESS I-ADDRESS I-ADDRESS I-ADDRESS I-ADDRESS B-ADDRESS I-ADDRESS I-ADDRESS I-ADDRESS O O O  O O O O O  O O  O O  O O  O O  O  O  O  O  O O O O  O O  O  O O  O  O  O O  O O  O  O O  O  O  O O O O  O O  O  O O  O O O  O  O O O O O  O O  O  O O  O  O  O O O O O  O O  O  O O  O  O  O O O O  O O  O  O O  O O O  O  O O O O O  O O  O  O O  O  O  O O O O O  O O  O  O O  O  O  O O O O  O O  O  O O  O  O  O O O O  O O  O  O O  B-DATE I-DATE I-DATE O  O O O O  O O  O  O O  O  O  O O O O  O O  O  O O  O  O  O O O O  O O  O  O O  O  O O O  O  O  O O  O  O O  O  B-TOTAL O  O  O  O  O  ', 'B-COMPANY I-COMPANY I-COMPANY I-COMPANY I-COMPANY B-ADDRESS I-ADDRESS I-ADDRESS I-ADDRESS I-ADDRESS I-ADDRESS B-ADDRESS I-ADDRESS I-ADDRESS I-ADDRESS B-ADDRESS I-ADDRESS I-ADDRESS I-ADDRESS O O O O  O O  O O O O O  O O O O O  O O O  O O  O O  O O  O O  O O  O O O  O O O  O O  O O O  O O  O O O O  O O O  O O  O O O  O O  O O O  O  O O O O  O O O O O  O  O O O  O  B-TOTAL O  O  O  O O O  O O  O O O  O O O  O  B-DATE I-DATE O O O  O O O  O O O  O O  O O  O  O  O  O  O  O  O  O  O  O O  O  O  O  O  O  O  O  O  O  O  O  O  O  ', 'B-COMPANY I-COMPANY I-COMPANY B-ADDRESS I-ADDRESS I-ADDRESS I-ADDRESS I-ADDRESS I-ADDRESS I-ADDRESS B-ADDRESS I-ADDRESS I-ADDRESS O O O O O  O O O  O O O O  O O  O O O  O O O O O  O O O  O O  O O O  O O O  O  O  O O O O O  O  O  O O  O O  O  O  O  O  O  O  B-TOTAL O  O  O O  O  O  O O O  O  O  O O O  B-DATE I-DATE I-DATE O O O O O O O  O O O O O  O O O  O O O O O  O O O O O O O O  O O O O O O  O O  O O O O O O  ', 'B-COMPANY I-COMPANY I-COMPANY I-COMPANY O  B-ADDRESS I-ADDRESS I-ADDRESS I-ADDRESS I-ADDRESS B-ADDRESS B-ADDRESS I-ADDRESS I-ADDRESS O O O  O O O  O O O  O  O O  O O  B-DATE I-DATE O  O O  O O  O O  O  O  O  O  O  O  O  O  O  B-TOTAL O  O O O O  O O  O  O  O O O O O  O  O O  O  O O O  O  O O  O  O O O O O O  O O  O O  O  O  O  O O  O O  O  O O  O O  O  O  O  O  O O  O  O  O O O O O O O  ', 'B-COMPANY I-COMPANY I-COMPANY I-COMPANY I-COMPANY I-COMPANY I-COMPANY B-ADDRESS I-ADDRESS I-ADDRESS I-ADDRESS I-ADDRESS B-ADDRESS I-ADDRESS I-ADDRESS I-ADDRESS O O O  O O O  O O O O O  O O O O  B-DATE I-DATE O O O O O  O O O O O O  O O O  O O O O  O O O  O O  O  O  O  O  O  O  O  O O  O  O  O  O  O  O  O  O  O  O  O  O  O  O O  O  B-ADDRESS O  O  B-ADDRESS O  O O O  O  O  O  O  O  O  O  O  O O O O O  O  O  O  O O O O O  O  O O O  O  O O  B-TOTAL O  O O O O O O O  O O O O O O  O O O O O O O  O O O O O O O O  O O O O O O O  O O  O O  O O  O  O  ', 'B-COMPANY I-COMPANY I-COMPANY O  B-ADDRESS I-ADDRESS I-ADDRESS I-ADDRESS I-ADDRESS B-ADDRESS I-ADDRESS I-ADDRESS I-ADDRESS I-ADDRESS B-ADDRESS I-ADDRESS I-ADDRESS O O O O  O O  O O O O  O  O O  O  O  B-DATE I-DATE I-DATE O  O O  O  O  O  O O  O  O O O O  O  O O  O O  O  O  O  O O  O  O  O O O  O  O O O O  O O  O O O O  O O O O O  O  O O  O  O  O  B-TOTAL O O  O  O O  O  ', 'B-COMPANY I-COMPANY I-COMPANY I-COMPANY B-DATE I-DATE I-DATE I-DATE O  B-ADDRESS I-ADDRESS I-ADDRESS I-ADDRESS I-ADDRESS B-ADDRESS I-ADDRESS I-ADDRESS O O  O O O O  O  O  O  O O O  O  O  O  O O  O  O  O  B-TOTAL I-TOTAL I-TOTAL O O O  O O O  O O  O  O  O  O  O  O O  O  O  O O O O  O  O  O O O  O O O O  O O O O  O O O O O  O O O O O O  O  ', 'B-COMPANY I-COMPANY I-COMPANY I-COMPANY I-COMPANY B-ADDRESS I-ADDRESS I-ADDRESS I-ADDRESS I-ADDRESS B-ADDRESS I-ADDRESS I-ADDRESS B-ADDRESS I-ADDRESS I-ADDRESS O O O O O O  O O O O  O O  O O O  O O  O  O O  O  O  O  O  O  O  O O O  O O O  O O O  O O O  O O O  O  O  O  O  O  O  O  O  O  O  O  O  O  O  O  O  O  O  O  O  O  O  O  O  O  O  O  O  O O O  O  O  O  O  B-TOTAL O  O  O O O O O O  O  O O O O  O O O O O O  O O O O O  B-DATE I-DATE I-DATE I-DATE I-DATE ', 'B-COMPANY I-COMPANY I-COMPANY B-ADDRESS I-ADDRESS I-ADDRESS I-ADDRESS I-ADDRESS I-ADDRESS I-ADDRESS B-ADDRESS I-ADDRESS I-ADDRESS O O O O O  O O O  O O O O  O O  O O O  O O O O O  O O O  O O  O O O O  O  O O O  B-TOTAL O  O O O O O  O  O  O O  O O  O  O  O  O  O  O  O  O  O  O O  O O O  O  O  O  O  O O O  B-DATE I-DATE O O O O O O O  O O O O O  O O O  O O O O O  O O O O O O O O  O O O O O O  O O  O O O O O O  ', 'O O O  O O  B-COMPANY I-COMPANY I-COMPANY O  O O O  B-ADDRESS I-ADDRESS I-ADDRESS B-ADDRESS I-ADDRESS I-ADDRESS I-ADDRESS O O  O  O O O  O  B-DATE O O  O  O  O  O  O  O  O  O  O  O  O  O  O  O  O  O  O O O O O  O  O  O  O  O  O O O O O O O  O  O  O  O  O  O  O O O O O O  O  O  O  O  O  O O O O O O  O  O  O  O  O  O O O O  O O  O  O  O  O  O  O  O  O  O  O  B-TOTAL O O  O  O  O  O O O O O  O O  O O O O  O O  O  O  O  O  O  O  O  O  O  O  O  O  O O  O  O  ', 'B-COMPANY I-COMPANY I-COMPANY I-COMPANY I-COMPANY B-ADDRESS I-ADDRESS I-ADDRESS I-ADDRESS I-ADDRESS B-ADDRESS I-ADDRESS B-ADDRESS I-ADDRESS I-ADDRESS O O  O O O O  O O O O  O  O  B-DATE O O O O O O  O  O  O O O O  O O O O  O  O  O O O O O  O  O O O  O  O O  O  O O  B-TOTAL O O  O  O O  O O O  O O  O O  O  O  O  O  O  O O O O O  O O O O O O  ', 'B-COMPANY I-COMPANY I-COMPANY B-ADDRESS I-ADDRESS I-ADDRESS I-ADDRESS I-ADDRESS I-ADDRESS I-ADDRESS B-ADDRESS I-ADDRESS I-ADDRESS O O O O O  O O O  O O O O  O O O  O O  O O O O O  O O O  O O  O O O O  O  O O O  O  O  O O O O O  O  O  O  O  O  O O  O  O O  O  O  B-TOTAL O  O  O O  O  O  O O O  O  O  O O O  B-DATE I-DATE I-DATE O O O O O O O  O O O O O  O O O  O O O O O  O O O O O O O O  O O O O O O  O O  O O O O O O  ', 'B-COMPANY I-COMPANY I-COMPANY I-COMPANY B-DATE I-DATE I-DATE I-DATE O  B-ADDRESS I-ADDRESS I-ADDRESS I-ADDRESS I-ADDRESS B-ADDRESS I-ADDRESS I-ADDRESS O O  O O O O  O  O  O  O O O  O  O  O  O O O O  O  O  O  B-TOTAL I-TOTAL I-TOTAL O O O  O O O  O O  O  O  O  O  O  O O  O  O  O O O O  O  O  O O O  O O O O  O O O O  O O O O O  O O O O O O  O O  ', 'B-COMPANY I-COMPANY I-COMPANY I-COMPANY I-COMPANY I-COMPANY B-ADDRESS I-ADDRESS I-ADDRESS I-ADDRESS O O O  B-ADDRESS I-ADDRESS I-ADDRESS I-ADDRESS O O O O  O O O O  O O O O  O O  O O O  O  O  O  O O O  B-ADDRESS O  O  O O O O O O  O O  O O O  O O  O  O O O  O  B-TOTAL O  O  O  O  O  O O  O O O  O  O  O  O  O  O  O  O  O  O O  O O O O O  B-DATE I-DATE I-DATE ', 'B-COMPANY I-COMPANY I-COMPANY O O  O O  B-ADDRESS I-ADDRESS I-ADDRESS O O O O  O  O  O O O  O  O O  O O O  O  O  O  B-TOTAL O  O  O  O O O  O O  O O O  O O  O  O  O  O  O O O O  O O O O O  O  B-DATE O O O  O O O  O  O  O  O  ', 'B-COMPANY I-COMPANY I-COMPANY B-ADDRESS I-ADDRESS I-ADDRESS I-ADDRESS I-ADDRESS I-ADDRESS I-ADDRESS B-ADDRESS I-ADDRESS I-ADDRESS O O O O O  O O O  O O O O  O O  O O O  O O O O O  O O O  O O  O O O O O O  O O O O O  O O O  O  O  O O  O O O O O  O  O O O  O  O  O O O O O  B-TOTAL O  O  O  O  O O  O  O O  O  O  O  O  O  O O  O  O  O O O  O  O  O O O  O O  B-DATE O O  O  O O O O O O O O  O O O O O O O  O O O O O  O O O  O O O O O  O O O O O O O O  O O O O O O  O O  O O O O O O  ', 'O O  B-COMPANY I-COMPANY I-COMPANY I-COMPANY I-COMPANY I-COMPANY B-ADDRESS I-ADDRESS I-ADDRESS I-ADDRESS B-ADDRESS I-ADDRESS I-ADDRESS I-ADDRESS I-ADDRESS O O O  O O O O  O  O O  B-DATE I-DATE I-DATE O O O O  O O O  B-TOTAL O O O O O  O  O  O  O  O  O O  O  O  O O O  O  O  O O O O O  O O O O O  ', 'O  B-COMPANY B-COMPANY B-COMPANY B-COMPANY O  B-ADDRESS I-ADDRESS I-ADDRESS I-ADDRESS I-ADDRESS I-ADDRESS O O  O O  O O  O  O  B-DATE I-DATE O  O  O  O  O O  O  O  O O O  O  O  O O  O  B-TOTAL O  O  O O O  O  O O  O O O  O O O O  ', 'B-COMPANY I-COMPANY I-COMPANY I-COMPANY O  B-ADDRESS I-ADDRESS I-ADDRESS I-ADDRESS I-ADDRESS B-ADDRESS B-ADDRESS I-ADDRESS I-ADDRESS O O O  O O O O  O O O  O  O O  O O O O O O O  O O  B-DATE I-DATE O  O  O O  O O  O O  O O  O  O  O  O  O  O  O  O  O  O  O O O  O  O  O  O  O  O O O O  O  O  O  O  O  O O  O  O  O  O  O  O O O  O O  O  B-TOTAL O O O O O  O  O O  O  O O O  O  O O  O  O O O O O O  O  O O  O  O O  O  O O  O O  O  O  O  O  O  O  O  O O  O  ', 'B-COMPANY I-COMPANY I-COMPANY I-COMPANY I-COMPANY B-ADDRESS I-ADDRESS I-ADDRESS I-ADDRESS I-ADDRESS I-ADDRESS B-ADDRESS I-ADDRESS I-ADDRESS I-ADDRESS B-ADDRESS I-ADDRESS I-ADDRESS I-ADDRESS O O O O  O O  O O O O O  O O  O  O  O O  O  O O O  O O  O  O O O  O  B-TOTAL O O O O  O  O O O O O  O  O  O  O O O  O O  O  O O O  O O  O  O  O O O  O  O  O  O  O  B-DATE I-DATE O O O  O O O O  O O O  O O O  O O O O O  O O O  ', 'B-COMPANY I-COMPANY I-COMPANY O  B-ADDRESS I-ADDRESS I-ADDRESS I-ADDRESS B-ADDRESS I-ADDRESS I-ADDRESS I-ADDRESS I-ADDRESS B-ADDRESS I-ADDRESS I-ADDRESS O O O O  O O  O O O O  O O  O  B-DATE I-DATE I-DATE O  O  O  O  O  O O  O O  O  O  O  O O  O O  O  O  O  O O  O O  O  O  O  O O O  O O O  O  O O O  O  O O O O  O  O O  B-TOTAL O O  O  O O  O  O  O  O O  O  O  ', 'B-COMPANY I-COMPANY I-COMPANY I-COMPANY B-ADDRESS I-ADDRESS I-ADDRESS B-COMPANY I-COMPANY I-COMPANY B-ADDRESS I-ADDRESS I-ADDRESS I-ADDRESS B-ADDRESS I-ADDRESS I-ADDRESS B-ADDRESS I-ADDRESS I-ADDRESS I-ADDRESS O  O O O O  O O  O  B-DATE I-DATE I-DATE O O  O  B-ADDRESS O  O  O O  O  O  O  O O  O  O  B-ADDRESS O  O  O  O O  O  B-ADDRESS O  O  O  O O O  O  B-ADDRESS O  O  O  O O  O  O  O  O  O  O  O  B-TOTAL O O O  O  O  O  O  O O  O  O  O O  O  O O  O O  O  O  O  O  O  O  O  O O O O  O O O  ', 'B-COMPANY I-COMPANY I-COMPANY I-COMPANY B-ADDRESS I-ADDRESS I-ADDRESS I-ADDRESS I-ADDRESS I-ADDRESS B-ADDRESS I-ADDRESS I-ADDRESS I-ADDRESS B-ADDRESS I-ADDRESS I-ADDRESS O O O  O O  O O O O O O  B-DATE O O O  O O O O O  O O O  O O O  O O  O  O  O O  O O O O O  O  O  O O  O  O  O  O  O O  O O O O O O  O  O  O  O  B-TOTAL O  O  O O  O O  O O  O O O  O  O  O  O  O O O O O O  O O O O O O O  ', 'B-COMPANY B-COMPANY B-COMPANY I-COMPANY I-COMPANY I-COMPANY I-COMPANY B-ADDRESS I-ADDRESS I-ADDRESS I-ADDRESS I-ADDRESS I-ADDRESS B-ADDRESS I-ADDRESS I-ADDRESS I-ADDRESS I-ADDRESS I-ADDRESS O O O O O  O O O  O O O O O  O O  O  B-DATE I-DATE I-DATE I-DATE I-DATE B-ADDRESS I-ADDRESS O O  O O  O O  O O O O  O O  O O O O  O  O O O O O O  O O  B-ADDRESS I-ADDRESS I-ADDRESS I-ADDRESS O  O O  O O  O  O  O  O  O  O  O  O  O O O O O O O  O  O  O  O O O O O  O  O O O O O  O  O  O  O  O  O O O  O  O O  O  O O O  B-TOTAL O O O  O  O O O  O  O  O  O  O  O  O  O  O O O O O  O  O  O  O O  O O O  O  O  O  O O  O O O  O  O  O  O O  O  O  O  O  O O O  O  O O O O  O  O O O O O  O  O O O O O  O  O  O O O O  O O O  O O  O O O  O O O  O O O  O O O  O O  O O  O O  ', 'B-COMPANY I-COMPANY O O O O O  B-ADDRESS I-ADDRESS I-ADDRESS I-ADDRESS I-ADDRESS I-ADDRESS B-ADDRESS I-ADDRESS I-ADDRESS I-ADDRESS B-ADDRESS I-ADDRESS I-ADDRESS O  O O O O  O O  O O O  O O  O O O  O O  O  B-DATE I-DATE O  O  O  O  O O O O  O  O  O  O  O  O O O O O  O  O  O  O  O  O  O  O  O  B-TOTAL O O  O  O O O  O  O  O  O  O  O O  O  O  O  O  O  O O  O  O  O  O  O  O  O  O  O O O O O O  O O O O O O O O  O O  ', 'B-COMPANY I-COMPANY I-COMPANY I-COMPANY I-COMPANY I-COMPANY I-COMPANY O O O  O O O  B-ADDRESS I-ADDRESS I-ADDRESS I-ADDRESS B-ADDRESS I-ADDRESS I-ADDRESS I-ADDRESS I-ADDRESS I-ADDRESS O  O  O  B-DATE I-DATE I-DATE O O O  O O O O O O O  O  O O  O  O  O  O  O  O O  O O O O O  O  O  O  O  B-TOTAL O  O  O  O  O  O O  O O O  O O O  O O  O O O O  O O O O O O  O O O O O  O  O O  O O  O O  O O  O  O  O  O  O O  O  O  O  O  O O O  ', 'B-COMPANY I-COMPANY I-COMPANY I-COMPANY I-COMPANY O  B-ADDRESS I-ADDRESS I-ADDRESS I-ADDRESS I-ADDRESS I-ADDRESS I-ADDRESS B-ADDRESS I-ADDRESS I-ADDRESS B-ADDRESS I-ADDRESS I-ADDRESS I-ADDRESS O O O O  O O O O  O O  O O  O  O O O  O  O O  O  O  O O  O O O  O  O O  O  O  O  O O  O  O  O O  O  O  O O O  O O O  O O O  O O  O O  O O  O O  B-TOTAL I-TOTAL O  O O  O  O O  O O  O  O  O O  O  O  B-DATE I-DATE I-DATE I-DATE O O  O O O O O  O O O O  O O O O  O O O O  ', 'B-COMPANY I-COMPANY I-COMPANY I-COMPANY B-ADDRESS I-ADDRESS I-ADDRESS B-COMPANY I-COMPANY I-COMPANY B-ADDRESS I-ADDRESS I-ADDRESS I-ADDRESS B-ADDRESS I-ADDRESS I-ADDRESS B-ADDRESS I-ADDRESS I-ADDRESS I-ADDRESS O  O O O O  O O  O  B-DATE O O  O O O  O  B-ADDRESS O  O  O O  O  O  O  O  O  O  O  O  O  O  O O  O  B-ADDRESS O  O  O  O O  O  B-ADDRESS O  O  O  O  O  B-ADDRESS O  O  O  O O O O O  O  B-ADDRESS O  O  O  O O O O O O  O  B-ADDRESS O  O  O  O O O O  O  B-ADDRESS O  O  O  O O  O  B-ADDRESS O  O  O  O O  O  B-ADDRESS O  O  O  O O O O  O  B-ADDRESS O  O  O  O O O  O  B-ADDRESS O  O  O  O O  O  O  O  O  O  O  O  B-TOTAL O O O  O  O  O  O  O O  O  O  O O  O  O O  O O  O  O  O  O  O  O  O O O O  O O O  O  ', 'O O O  B-COMPANY I-COMPANY I-COMPANY I-COMPANY I-COMPANY B-ADDRESS I-ADDRESS I-ADDRESS B-ADDRESS I-ADDRESS I-ADDRESS B-ADDRESS I-ADDRESS I-ADDRESS O  O  O  B-DATE I-DATE I-DATE O O  O O O  O O  O O O  O  O  O  O  O  O O O  O  O  O  O  O O O  O  O  O  O  O  O  O  O O  O  O O O  O  O O  O  O  B-TOTAL O O  O  O O  O  O O O O O O O  O O O O O  O O O O O O O  O O O O O  O O O O O  ', 'B-COMPANY I-COMPANY I-COMPANY O  B-ADDRESS I-ADDRESS I-ADDRESS I-ADDRESS I-ADDRESS B-ADDRESS I-ADDRESS I-ADDRESS B-ADDRESS I-ADDRESS I-ADDRESS O O  O O  O O O  O O  O O O  O O O O  B-DATE I-DATE I-DATE O  O  O  O O  O  O O O  O  O  O  O  O  O O O O  O  O  O  O  O  O O O O  O O  O  O O  O  O O O  B-TOTAL O O O  O  O O  O  O O O O O  ', 'O  B-COMPANY I-COMPANY I-COMPANY I-COMPANY I-COMPANY O  O O O  O O O O O  O O O  B-ADDRESS I-ADDRESS I-ADDRESS I-ADDRESS I-ADDRESS I-ADDRESS B-ADDRESS I-ADDRESS I-ADDRESS I-ADDRESS I-ADDRESS B-ADDRESS O O O O  O O O O  O O O  O O  O O O  O O  B-DATE I-DATE I-DATE I-DATE I-DATE I-DATE O O  O O  O O O  O O O  O O O  O O O O  O O  O O  O  O O O O  O  O  O  O  O  B-TOTAL O  O  O  O O O O O O  O O  O  O O O O O  O O O  O O O O  O O O O O O  O O O O O  ', 'B-COMPANY I-COMPANY O O O O  B-ADDRESS I-ADDRESS I-ADDRESS I-ADDRESS I-ADDRESS I-ADDRESS B-ADDRESS I-ADDRESS I-ADDRESS I-ADDRESS B-ADDRESS I-ADDRESS I-ADDRESS O  O O O  O O  O O  B-DATE I-DATE O O  O O  O  O  O  O  O O O O O O  O O  O  O  O O  O  O  O O O O O O  O  O  O  O  O  O  O  O  O  O O  O O  O  O O  O  O O O  O  O  O  O  O  O O  O  O  O O  O  O  O  O  O  O  O  O  O  O  B-TOTAL O O O O O O  O O O O O O O O  O  ', 'B-COMPANY I-COMPANY I-COMPANY I-COMPANY I-COMPANY O O O  B-ADDRESS I-ADDRESS I-ADDRESS I-ADDRESS I-ADDRESS I-ADDRESS I-ADDRESS I-ADDRESS B-ADDRESS I-ADDRESS I-ADDRESS I-ADDRESS B-ADDRESS I-ADDRESS I-ADDRESS I-ADDRESS O O O O  O O  O O  O O O O O  O  O O O  O  O O O  O  O O O  O O O  O O O O  B-TOTAL I-TOTAL O  O O  O  O O  O O O O O  O O  B-DATE I-DATE I-DATE I-DATE O O  O O O  O O O O  O O O O O  O O O O O  ', 'B-COMPANY I-COMPANY I-COMPANY I-COMPANY B-DATE I-DATE I-DATE I-DATE O  B-ADDRESS I-ADDRESS I-ADDRESS I-ADDRESS I-ADDRESS B-ADDRESS I-ADDRESS I-ADDRESS O O  O O O O  O  O  O  O O O O O O O  O  O  O  O O O  O  O  O  B-TOTAL I-TOTAL I-TOTAL O O O  O O O  O O  O  O  O  O  O  O O  O  O  O O O O  O  O  O O O  O O O O  O O O O  O O O O O  O O O O O O  O  ', 'O  B-COMPANY I-COMPANY I-COMPANY I-COMPANY O O O  B-ADDRESS I-ADDRESS I-ADDRESS I-ADDRESS I-ADDRESS B-ADDRESS I-ADDRESS B-ADDRESS I-ADDRESS O  O O O O O  O  O O O  O O O O O  O O  O  B-TOTAL I-TOTAL O  O  O  O  O  O  O  O O  O O  O  O O  O O  O  O O O  O  O O  O  O  O  B-DATE I-DATE I-DATE I-DATE O O O O O  O O O O  O O O O O O  O O  O O O  O  O  O  O  O  O  O  ', 'B-COMPANY I-COMPANY I-COMPANY I-COMPANY I-COMPANY B-ADDRESS I-ADDRESS I-ADDRESS I-ADDRESS I-ADDRESS I-ADDRESS B-ADDRESS I-ADDRESS I-ADDRESS I-ADDRESS O O O O O  O O  O O O  O O O  O O  O O  O O  O  O  O  O O  O O  B-TOTAL O  O  O O  O  O O O O  O  O O O O  O  O O  O  O O O  O  O O O O  O O  O  O  O  O O  O  O  O O  O O O  O  B-DATE I-DATE O  ', 'O  B-COMPANY I-COMPANY I-COMPANY O  B-ADDRESS I-ADDRESS I-ADDRESS I-ADDRESS B-ADDRESS I-ADDRESS I-ADDRESS B-ADDRESS I-ADDRESS I-ADDRESS O O O  O O O  O  O O O  O O  O O  O  O O  B-DATE I-DATE O  O O  O  O  O  O  O  O  O  O  O  O  O  O  O  O  O  O  O O O O  O O  O  O O O O  O  O O  O  O O O  O  O O  O  O O O O O  O  O O  B-TOTAL O O  O  O O  O O  O  O  O  O  O  O  O  O  O  O  O O O O O O O  O O  O O  O  O  ', 'O O O  B-COMPANY I-COMPANY I-COMPANY B-ADDRESS I-ADDRESS I-ADDRESS B-ADDRESS I-ADDRESS I-ADDRESS B-ADDRESS I-ADDRESS I-ADDRESS I-ADDRESS O O  O O O  O  O  O  B-DATE I-DATE I-DATE O  O  O  O  O  O  O  O  O  O  O  O  O  O O  O  O O  B-TOTAL O O O  O  O O  O  O O O O  O O  O O O  ', 'B-COMPANY I-COMPANY O O O O  B-ADDRESS I-ADDRESS I-ADDRESS I-ADDRESS I-ADDRESS B-ADDRESS I-ADDRESS I-ADDRESS B-ADDRESS I-ADDRESS I-ADDRESS O O O  O O O  O O O O  O  O O O O  O O O O O  O O  O  B-TOTAL I-TOTAL O  O  O O  O  O  O  O  O  O  O O O  O  O  O  O O  O  O  O  O  O  O O O O O O O  O  O  O  O O O  B-DATE I-DATE I-DATE I-DATE I-DATE O  O O O O O O  O O O O O O  O O O O O O  ', 'B-COMPANY I-COMPANY I-COMPANY I-COMPANY B-ADDRESS I-ADDRESS I-ADDRESS B-ADDRESS I-ADDRESS I-ADDRESS I-ADDRESS B-ADDRESS I-ADDRESS O O O  O O  O O O  O  O  O O O  O  O  O O  O  O O  O O  O  O  O O  O  O  O O  O  O  O O  O  O  O O  O  O O O O  O  O  O O  O  O  O  O  B-TOTAL O O  O  O O  O  O  O O  O  B-DATE I-DATE I-DATE O  O O  O  O  O  O  O  O  O  O  O  O  O O  O O O  O  O O O O O  O O  ', 'O  B-COMPANY I-COMPANY I-COMPANY I-COMPANY I-COMPANY I-COMPANY B-ADDRESS I-ADDRESS I-ADDRESS I-ADDRESS B-ADDRESS I-ADDRESS I-ADDRESS I-ADDRESS O O O  O O O  O O O O  O O  O O  O O O  O  O O O O  O O  O O  O O  O O  O O  B-DATE I-DATE I-DATE I-DATE O O  O  O O  O  O O O O O O O  O  O  B-TOTAL I-TOTAL O O  O O O  O  O O O  O  O O O O O  O  O  O  O  O  O  O  O O  O O O O O  O O O  O  O  O  O O O O O O  ', 'B-COMPANY I-COMPANY B-COMPANY I-COMPANY I-COMPANY I-COMPANY O O O  O O O O  B-ADDRESS I-ADDRESS I-ADDRESS I-ADDRESS I-ADDRESS I-ADDRESS I-ADDRESS B-ADDRESS I-ADDRESS I-ADDRESS I-ADDRESS O O O  O O O  B-DATE I-DATE O  O O O O  O O O  O  O  O O O O O  O O O O  O O O O  O O O O O  O O O  O O O  O O  O O  O O  O  O O O O O  O  O  B-TOTAL O  O  O O  O O  O O O  O O O  O O  O  O  O  O O  O  O  O O  O  O O O O O  O O O O  O O O O O  O  O O O O  O  ', 'O O O O  O  B-COMPANY I-COMPANY I-COMPANY I-COMPANY I-COMPANY O  B-ADDRESS I-ADDRESS I-ADDRESS I-ADDRESS I-ADDRESS I-ADDRESS B-ADDRESS I-ADDRESS I-ADDRESS I-ADDRESS I-ADDRESS B-ADDRESS O O O O  O O O O  O O O  O O  O O O  O O  B-DATE I-DATE I-DATE I-DATE I-DATE I-DATE O O O O O O  O O  O  O O O  O  O O O  O O  O O O  O O  O  O O O  O O O  O  O O O O  O  O O  O  O O  B-TOTAL O O  O  O  O  O O O O  O  O O O O O  ', 'B-COMPANY I-COMPANY O O O  B-ADDRESS I-ADDRESS B-ADDRESS I-ADDRESS O O O O  O O  O  O O  O O O  O O O  O O  B-DATE I-DATE I-DATE I-DATE I-DATE O  O O  O  O  O O O O  O O  O  O O  O  O O O  O  O O  O O  B-TOTAL O  O  O  O  O O  O  O  O O O O  O  O  O  O  O  O O O O O  O O  ', 'B-COMPANY I-COMPANY I-COMPANY I-COMPANY O  O O O O  B-ADDRESS I-ADDRESS I-ADDRESS B-ADDRESS I-ADDRESS I-ADDRESS O O O O  O O  O O O O O  O O  O O  B-DATE I-DATE I-DATE I-DATE O  O  O O  O  O  O O  O  O O  O  O O  O  O O  B-TOTAL O  O  O  O  O O O O  O  O O O O O O  ', 'B-COMPANY I-COMPANY I-COMPANY I-COMPANY I-COMPANY B-ADDRESS I-ADDRESS I-ADDRESS I-ADDRESS I-ADDRESS B-ADDRESS I-ADDRESS B-ADDRESS I-ADDRESS I-ADDRESS B-ADDRESS I-ADDRESS I-ADDRESS O O O O O  O O O O  O  O  B-DATE O O O O O  O O  O O O O  O O O O O  O O  O O O  B-TOTAL O O  O  O O  O  O O  O  O  O O O  O  O  O O O O O  O O O O O O  ', 'O O  B-COMPANY I-COMPANY I-COMPANY I-COMPANY I-COMPANY I-COMPANY O O  B-ADDRESS I-ADDRESS I-ADDRESS I-ADDRESS I-ADDRESS I-ADDRESS B-ADDRESS I-ADDRESS I-ADDRESS I-ADDRESS I-ADDRESS I-ADDRESS O O O  O O  O O  O O  B-DATE I-DATE I-DATE I-DATE I-DATE I-DATE I-DATE O O O  O  O O O  O O  O O  O O  O O  O O  O O O O  O O  O O O O  O O  O O  O O  O  O O  O  O  O  O O O  O O  O O  O O  O O O  O O  O  O  O O  O O O  O  O  O  B-TOTAL O  O  O  O O  O O O O O  ', 'B-COMPANY I-COMPANY I-COMPANY I-COMPANY O  B-ADDRESS I-ADDRESS I-ADDRESS I-ADDRESS I-ADDRESS B-ADDRESS B-ADDRESS I-ADDRESS I-ADDRESS O O O  O O O O  O O O  O  O O  O O  B-DATE I-DATE O  O O  O O  O O  O O O O O O O  O O  O  O  O  O  O  O  O  O  O  O  O O O O O  O O  O  O  O O O O O  O  O O  O  O O O  O  O O  O  O O O O O O  B-TOTAL O O  O  O O  O O  O  O  O  O  ', 'B-COMPANY I-COMPANY I-COMPANY I-COMPANY I-COMPANY I-COMPANY I-COMPANY B-ADDRESS I-ADDRESS I-ADDRESS I-ADDRESS I-ADDRESS B-ADDRESS I-ADDRESS I-ADDRESS I-ADDRESS O O O  O O O  O O O O O  O O O O  B-DATE I-DATE O O O O O O  O O O O O O  O O O  O O O O  O O O  O O  O  O  O  O  O  O  O  O O  O  B-ADDRESS O  O  O  O  O  B-ADDRESS O  B-ADDRESS O  O O  O  O  O  O  O  O O O  O  O  O  O  O  O  O  O  O  O  O  O  O  O  O  O O  O  O  B-ADDRESS O  O  O  O  O  O  O  O  O  O  O  O  O  O  O  O  O  O O  O  O  O  O  O  O  O O O O O  O  O  O  O O O O O  O  O O O  O  O O  B-TOTAL O  O O O O O O O  O O O O O O  O O O O O O O  O O O O O O O O  O O O O O O O  O O  O O  O O  O  ', 'O  B-COMPANY I-COMPANY I-COMPANY I-COMPANY I-COMPANY I-COMPANY B-ADDRESS I-ADDRESS I-ADDRESS I-ADDRESS I-ADDRESS I-ADDRESS I-ADDRESS B-ADDRESS I-ADDRESS I-ADDRESS I-ADDRESS B-ADDRESS I-ADDRESS I-ADDRESS I-ADDRESS O O O O O O  O O O  O O O  O  O  O  O  O O O O  O  O  O  O  O O O O O  O  O  O  O  O O O O O O O  O  O O O  O  O O O O  B-TOTAL O O O  O  O O  O  O O O O  O  O O  O O O O O O  O  O O  O O O O O  O O  O  O  O  O  O O O  O  O  O  O  O  O O  O O O O O O  B-DATE I-DATE ', 'O O O O  O  B-COMPANY I-COMPANY I-COMPANY I-COMPANY I-COMPANY B-ADDRESS I-ADDRESS I-ADDRESS I-ADDRESS I-ADDRESS I-ADDRESS B-ADDRESS I-ADDRESS I-ADDRESS I-ADDRESS I-ADDRESS O O O  O O O O  O O  B-DATE I-DATE O  O O  O O  O  O  O O O O  O  O  O  B-TOTAL O  O  O  O  O O O  O  O O  O  O  O O  O  O  O O O O O O  O  O O O O O O O  O O  O  O O O O O O O O O O O O  ', 'B-COMPANY I-COMPANY I-COMPANY I-COMPANY I-COMPANY B-ADDRESS I-ADDRESS I-ADDRESS I-ADDRESS I-ADDRESS B-ADDRESS I-ADDRESS B-ADDRESS I-ADDRESS I-ADDRESS B-ADDRESS I-ADDRESS O O O O O  O O O O  O  O  B-DATE O O O O O O  O O O O  O O O O O  O O O O  O O O O O O  O O O O  O O O O  O O  O O O  O O  O O O O  O O O O O  O O  O O O O O  O O  O O  B-TOTAL O  O  O O  O  O  O O O  O O O  O  O  O  O  O O O O O  O O O O O O  O O  O O  O O  O O  ', 'O O O O O O O O  B-COMPANY I-COMPANY I-COMPANY I-COMPANY I-COMPANY B-ADDRESS I-ADDRESS I-ADDRESS I-ADDRESS I-ADDRESS B-ADDRESS I-ADDRESS B-ADDRESS I-ADDRESS I-ADDRESS B-ADDRESS I-ADDRESS O O O O O  O O O O  O  O  B-DATE O O O O O O  O O  O O O O O O  O O  O O O O O  B-TOTAL O O  O  O O  O  O O  O  O  O O O  O  O  O O O O O  O O O O O O  ', 'B-COMPANY I-COMPANY I-COMPANY I-COMPANY I-COMPANY I-COMPANY I-COMPANY O  B-ADDRESS I-ADDRESS I-ADDRESS I-ADDRESS I-ADDRESS I-ADDRESS I-ADDRESS B-ADDRESS I-ADDRESS I-ADDRESS O O O O O  O O  O O  O  O O  O  B-DATE I-DATE I-DATE O O O O  O  O  O  O  O O  O  O  O O  O O O O O O  O  O  O O  O  O  O  O O  O O O  O O O O  O  O O O O O  O  O O  B-TOTAL O O  O  O  O O O  O O  O  O O  O  O O  O  O  O  O  O O O O  O O O  ', 'B-COMPANY I-COMPANY B-ADDRESS I-ADDRESS I-ADDRESS I-ADDRESS I-ADDRESS B-ADDRESS I-ADDRESS I-ADDRESS B-ADDRESS I-ADDRESS I-ADDRESS O O O O  O O  O O  B-DATE I-DATE I-DATE O O  O O O O  O  O  B-ADDRESS O  O  O O  O  O  O  O  O O  B-TOTAL O  O  O  O  O O  O O O O  O O  O O  O  O O  ', 'O  O O  B-COMPANY O O  B-COMPANY I-COMPANY I-COMPANY I-COMPANY B-ADDRESS I-ADDRESS I-ADDRESS I-ADDRESS B-ADDRESS I-ADDRESS I-ADDRESS I-ADDRESS I-ADDRESS B-ADDRESS I-ADDRESS I-ADDRESS I-ADDRESS O O O O O  O O O  O O O  O O O O  O O O O  O O O  O O O O  O  O  O  O  O O  O  O O  O O  O O  O O  O O O O  O O  O  O  O O  O O  O  O  O  B-TOTAL I-TOTAL O  O O  O O  O O  O O  O O  O O  O  O O  O O  O  O O  O O  O O  O  O  O O  O O O O O O O  B-DATE I-DATE I-DATE I-DATE O  O  ', 'B-COMPANY B-COMPANY I-COMPANY I-COMPANY I-COMPANY I-COMPANY O O O  B-ADDRESS I-ADDRESS I-ADDRESS I-ADDRESS I-ADDRESS I-ADDRESS I-ADDRESS I-ADDRESS B-ADDRESS I-ADDRESS I-ADDRESS I-ADDRESS I-ADDRESS B-ADDRESS I-ADDRESS I-ADDRESS I-ADDRESS I-ADDRESS I-ADDRESS O O O O  O O O O  O O  B-DATE I-DATE O  O  O  O  B-ADDRESS O O O  O O  O  O O O  O O  B-ADDRESS O O O  O O  B-ADDRESS O O  O O  O  O O  O O  B-ADDRESS O O O  O O  O  O  B-TOTAL O  O  O  O  O O  O O  O O O  O  O  O  O  O  O  O O  O  O O  O O O O O O O  O O O O O  O O O O O O  O O O O  O O O O O O  O O O  O O O O O O O  O O O O O O  O O O O O O  O O O O O O O  O O O O O O  O O O O  O O O O  O O O  ', 'B-COMPANY I-COMPANY O O O O O  B-ADDRESS I-ADDRESS I-ADDRESS I-ADDRESS I-ADDRESS I-ADDRESS B-ADDRESS I-ADDRESS I-ADDRESS I-ADDRESS B-ADDRESS I-ADDRESS I-ADDRESS O  O O O O  O O  O O  O O  O O  O  O O O  O  B-DATE I-DATE O  O  O  O  O O O O O  O  O  O  O  O  O O  O  O  O  O  O  O  O  O O  O  O O O  O  O  B-TOTAL O  O  O O  O  O  O  O  O  O O  O  O  O  O  O  O  O  O  O O O  O O O O O O  O O O O O O O O  O O  ', 'B-COMPANY I-COMPANY I-COMPANY B-COMPANY I-COMPANY B-COMPANY I-COMPANY I-COMPANY O  B-ADDRESS I-ADDRESS I-ADDRESS I-ADDRESS I-ADDRESS B-ADDRESS I-ADDRESS I-ADDRESS I-ADDRESS B-ADDRESS I-ADDRESS I-ADDRESS I-ADDRESS I-ADDRESS O O O O O O O O  O O O  O O O  O  B-DATE I-DATE I-DATE I-DATE I-DATE O O O  O O  O  O  O  O  O  O  O  O  O  O  O  O O O O  O O  O  O O  O  O  O  O  O  O  O  O  O  B-TOTAL O  O O O O O O  O O  O  O  O  O  O  O  O  O  O O  O  O O O O O  O O O O O  O O O O O O  O O O O O O  O O O O O O O O  O O O  ', 'B-COMPANY I-COMPANY I-COMPANY I-COMPANY I-COMPANY B-ADDRESS I-ADDRESS I-ADDRESS I-ADDRESS B-ADDRESS I-ADDRESS I-ADDRESS B-ADDRESS I-ADDRESS I-ADDRESS I-ADDRESS O O  O O O  O O  O O  O  O  O  O O  B-TOTAL O O  O O  O O  O O  O  B-DATE I-DATE I-DATE O O O  O  O  O O  O O O  O  O  O O  O O  O  O O  O  O  O  O  O  ', 'B-COMPANY I-COMPANY I-COMPANY I-COMPANY I-COMPANY I-COMPANY I-COMPANY O O O O  B-ADDRESS I-ADDRESS I-ADDRESS I-ADDRESS I-ADDRESS I-ADDRESS I-ADDRESS I-ADDRESS B-ADDRESS I-ADDRESS I-ADDRESS I-ADDRESS B-ADDRESS I-ADDRESS I-ADDRESS I-ADDRESS I-ADDRESS O O O O O  O O O O O  O O  O O O O O  O O O  O  O O O  O O O  O  O O O O  O O O  O  O O  O O O  O  O O O  O O O  O  O O O O O  O O O  O  O O O  O O O  O  O O O O  O O O  O  O O O  O O O  O O O  O O O  O O O  O O O  O O O  O O O  O O O  O O O  O  O  O  O  O  O  O  O  O  O  O  O  O  O  O  O  O O O  O  O O  O O  B-TOTAL I-TOTAL O O O O  O O  O O  O O O O  O  O O O  O  B-DATE O O  O O O  O O  O O  O O O O  O O O O  O O O O O  O O O O  ', 'B-COMPANY I-COMPANY I-COMPANY I-COMPANY I-COMPANY I-COMPANY I-COMPANY I-COMPANY B-ADDRESS I-ADDRESS I-ADDRESS I-ADDRESS I-ADDRESS B-ADDRESS I-ADDRESS I-ADDRESS I-ADDRESS O O O  O O  O O O  O O O O O  O O O O  O  B-DATE I-DATE O O O O O  O O O O O O  O O O  O O O O  O O  O O  O  O  O  O  O  O  O  O  O O  O  O  O  O  O  O  O  O  O  O  O  O  O  O O  O  O  O  O  B-ADDRESS O  O O O  O  O  O  O  O  O  O  O  O  O  O  O  O  O  O  O O O O O  O  O  O  O O O O O  O  O O O  O  O O  B-TOTAL O  O O O O O O O  O O O O O O  O O O O O O O  O O O O O O O O  O O O O O O  O O  O O  ', 'B-COMPANY I-COMPANY I-COMPANY I-COMPANY O O  B-ADDRESS I-ADDRESS I-ADDRESS I-ADDRESS I-ADDRESS I-ADDRESS B-ADDRESS I-ADDRESS I-ADDRESS I-ADDRESS I-ADDRESS O O O  O O O O  B-DATE I-DATE I-DATE I-DATE I-DATE O O O O  O  O  O  O O  O O O O  O  O O  O O O  O O O O O O  O O  O O  B-TOTAL I-TOTAL O  O O  O  O O  O O  O  O  O O O  O  O  O O O  O  O  O O O  O O  O O  O O  O O O O  O O  O O  O O O  O O O  ', 'B-COMPANY I-COMPANY I-COMPANY B-ADDRESS I-ADDRESS I-ADDRESS I-ADDRESS I-ADDRESS I-ADDRESS I-ADDRESS B-ADDRESS I-ADDRESS I-ADDRESS O O O O O  O O O  O O O O  O O  O O O  O O O O O  O O O  O O  O O O O  O  O O O  O  O  O O O O O  B-TOTAL O  O  O  O  O O  O  O O  O  O  O  O  O  O O  O  O  O O O  O  O  O O  O O  B-DATE O O  O  O O O  O O O O O O O  O O O O O  O O O  O O O O O  O O O O O O O O  O O O O O O  O O  O O O O O O  O  O O O O O O  ', 'B-COMPANY I-COMPANY I-COMPANY I-COMPANY O  B-ADDRESS I-ADDRESS I-ADDRESS I-ADDRESS I-ADDRESS B-ADDRESS B-ADDRESS I-ADDRESS I-ADDRESS O O O  O O O O  O O O  O  O O  O O O O O O O  O O  B-DATE I-DATE O  O  O O  O O  O O  O O  O  O  O  O  O  O  O  O  O  O  O O O  O  O  O  O  O  O O  O  O  O  O  O  O O O  O  O  O  O  O  O O O  O O  O  O  O O O O O  O  O O  O  O O O  O  O O  O  O O O O O O  B-TOTAL O O  O  O O  O  O O  O O  O  O  O  O  O  O  O  O O  O  ', 'B-COMPANY I-COMPANY I-COMPANY I-COMPANY O  B-ADDRESS I-ADDRESS I-ADDRESS I-ADDRESS I-ADDRESS B-ADDRESS B-ADDRESS I-ADDRESS I-ADDRESS O O O  O O O O  O O O  O  B-ADDRESS I-ADDRESS O O  O O O O O O O  B-DATE I-DATE O  O O  O  O O  O O  O O  O  O  O  O  O  O  O  O  O  O  O O O O  O O  O  O  O O O O O  O  O O  O  O O O  O  O O  O  O O O O O O  B-TOTAL O O  O  O O  O  O O  O O  O  O  O  O  O  O  O  O O  O  ', 'B-COMPANY I-COMPANY I-COMPANY I-COMPANY I-COMPANY O O  B-ADDRESS I-ADDRESS I-ADDRESS I-ADDRESS I-ADDRESS I-ADDRESS I-ADDRESS B-ADDRESS I-ADDRESS I-ADDRESS B-ADDRESS I-ADDRESS I-ADDRESS I-ADDRESS O O O O  O O  O O  O O O  O  O O O  O  O O  O  O O O O O O  O  O O O  O  O O O  O  O O O  O  O O O  O  O O  O  O O O  O  O O O  O  O O  O  O O O  O  O O O  O  O O  O  O O O  O O O  O O O  O O  O  B-TOTAL I-TOTAL O O  O O O O O  O O  B-DATE I-DATE I-DATE I-DATE O O  O O O  O O O O  O O O O  O O O O  O  O  O  O  O O  O  O  O  O  O  ', 'B-COMPANY I-COMPANY O  B-ADDRESS I-ADDRESS I-ADDRESS I-ADDRESS I-ADDRESS B-ADDRESS I-ADDRESS I-ADDRESS B-ADDRESS I-ADDRESS B-ADDRESS I-ADDRESS I-ADDRESS I-ADDRESS O O O O O O O  O O  O O O O  O O  O O  O O O O O  O O O  O O O O  B-DATE I-DATE I-DATE O  B-ADDRESS I-ADDRESS O  O  O  O  O  O  O O O O O  O  O  O  O  O  O  O O  O  O O O  O  O O O O O O  O  O O O O  B-TOTAL O O O  O  O O  O  O O  O O  O O  O O O  O  O  O O O O O  ', 'B-COMPANY I-COMPANY I-COMPANY I-COMPANY I-COMPANY O O  B-ADDRESS I-ADDRESS I-ADDRESS I-ADDRESS I-ADDRESS I-ADDRESS I-ADDRESS B-ADDRESS I-ADDRESS I-ADDRESS B-ADDRESS I-ADDRESS I-ADDRESS I-ADDRESS O O O O  O O  O O  O O O O  O  O O O  O  O O O  O  O O O O  O  O O O  O  O O O  O  O O O  O  O O O  O  O O O  O  O O O  O O O  O O O  B-TOTAL I-TOTAL O  O O  O  O O  O O O O O  O O  B-DATE I-DATE I-DATE I-DATE O O  O O O  O O O O  O O O O O  O O O O O  ', 'B-COMPANY I-COMPANY I-COMPANY I-COMPANY I-COMPANY O  O O O  B-ADDRESS I-ADDRESS I-ADDRESS I-ADDRESS I-ADDRESS I-ADDRESS B-ADDRESS I-ADDRESS I-ADDRESS I-ADDRESS I-ADDRESS I-ADDRESS B-ADDRESS O O O O  O O O O  B-ADDRESS I-ADDRESS O O  O O O  O O  B-DATE I-DATE I-DATE I-DATE I-DATE I-DATE O O  O  O O O  B-TOTAL O O O  O O O  O O O O  O  O O  O  O O  O  O  O  O O O O  O  O O O O O O  O O O O O  O O O O  ', 'B-COMPANY I-COMPANY I-COMPANY O  B-ADDRESS I-ADDRESS I-ADDRESS I-ADDRESS B-ADDRESS I-ADDRESS I-ADDRESS I-ADDRESS B-ADDRESS I-ADDRESS I-ADDRESS O O O O O O O O  O O O  O O O  O O O O O  O O  O  B-DATE I-DATE O O  O  O  O  O  O  O  O  O  O  O  O  O O O O O O O  O  O  O  O  O O O O O O  O  O  O  O  O O O O O O O  O  O  O  O  O O O O O  O  O  O  O  O O O O O O O  O O  O  O  O O O O O O  O  O O O  O  O O O O  O  O O O  O  O O O  O  O O  B-TOTAL O O O  O  O O  O O  O  O  O  O  O  O  O  O O  O  O  O O O O O  O O  ', 'B-COMPANY I-COMPANY B-COMPANY I-COMPANY O O O  O O O O O  B-ADDRESS I-ADDRESS I-ADDRESS I-ADDRESS B-ADDRESS I-ADDRESS I-ADDRESS I-ADDRESS B-ADDRESS I-ADDRESS I-ADDRESS I-ADDRESS I-ADDRESS O  O  O O O O  O  O  O O  O O O  O  O  O  O  B-TOTAL O  O  O  O  O O O O  O  O  O O O  O  O  O O  O O O O  O O O  O O  O  O  B-DATE I-DATE I-DATE O  O O O O  O O O O O O  O O O O O O O O  O O O O  O O  O O O O O  O O O O  ', 'B-COMPANY I-COMPANY B-ADDRESS I-ADDRESS I-ADDRESS I-ADDRESS I-ADDRESS B-ADDRESS B-ADDRESS I-ADDRESS I-ADDRESS O O O  O  O O O O O  O O O O O O O O  O O O O O  B-DATE I-DATE O O O  O O O  O  O  O O  O  O  O  O  B-TOTAL O O  O  O  O O O O O  O O O  O  ', 'B-COMPANY I-COMPANY I-COMPANY I-COMPANY I-COMPANY I-COMPANY I-COMPANY B-ADDRESS I-ADDRESS I-ADDRESS I-ADDRESS I-ADDRESS B-ADDRESS I-ADDRESS I-ADDRESS I-ADDRESS O O O  O O O  O O O O O  O O O O  O  B-DATE I-DATE O O O O O  O O O O O O  O O O  O O O O  O O O  O O  O  O  O  O  O  O  O  O O  O  B-ADDRESS O  O  O  O  O  O  B-ADDRESS O  O  B-ADDRESS O  O O  O  O  O  O  O  O  O O O  O  O  O  O  O  O  O  O O O O O  O  O  O  O O O O O  O  O O O  O  O O  B-TOTAL O O O  O O O O O O O  O O O O O O  O O O O O O O  O O O O O O O O  O O O O O O O  O O  O O  O O  O  O  ', 'O O  O O O O O  B-COMPANY I-COMPANY I-COMPANY I-COMPANY I-COMPANY B-ADDRESS I-ADDRESS I-ADDRESS I-ADDRESS B-ADDRESS I-ADDRESS I-ADDRESS I-ADDRESS I-ADDRESS B-ADDRESS I-ADDRESS B-ADDRESS I-ADDRESS I-ADDRESS O O O O O  O O O O O  O O O  O O O O O O O  O  O O O  O O  O  O O  O O O  O  O O  O  O  O O  O O  O O  O O  O O  O  O  B-TOTAL I-TOTAL I-TOTAL I-TOTAL I-TOTAL O  O  O  O  O  O  O  B-DATE I-DATE O  O  O  O  O O  O  O  O  O  O O O O O O O  O O O O O O  O O O O O O  O O O O O O  O O O  O O O O  O  ', 'B-COMPANY I-COMPANY I-COMPANY I-COMPANY O  B-ADDRESS I-ADDRESS I-ADDRESS I-ADDRESS B-ADDRESS I-ADDRESS I-ADDRESS B-ADDRESS I-ADDRESS B-ADDRESS O O O O O O  O O  O O O  O  O O  B-DATE I-DATE O O O  O  O O  O  O  O  O  O  O  O  O O O O  O  O  O O  O  O O  O O  O O  O  O  O O O  O  O O  B-TOTAL O  O  O O O O O  O  O  O O  O  O O  O  ', 'O O  B-COMPANY I-COMPANY I-COMPANY B-ADDRESS I-ADDRESS I-ADDRESS I-ADDRESS B-ADDRESS I-ADDRESS B-ADDRESS O O  O O O O  O O O O  B-DATE I-DATE O O  O O O  O  O  O  O  O O O  O  O  B-TOTAL I-TOTAL O O  O  O O O  O  O O  O  O O  O O  O O  O O O  O  O  O  O O O  O O  O  O O  O  O O  O  O O  O  O  O  O O  O  O O  O  O  O  O  O O O O O O  O O O  O  O  O  ', 'B-COMPANY I-COMPANY I-COMPANY I-COMPANY I-COMPANY B-ADDRESS I-ADDRESS I-ADDRESS I-ADDRESS I-ADDRESS B-ADDRESS I-ADDRESS I-ADDRESS I-ADDRESS B-ADDRESS I-ADDRESS I-ADDRESS B-ADDRESS I-ADDRESS O O O O O  O O O O  O  O  B-DATE O O O O  O O  O O O O  O O O O O  O O  O O  B-TOTAL O  O  O O  O  O  O O O  O  O  O O O O O  O O O O O O  ', 'B-COMPANY I-COMPANY O O O  O O  B-ADDRESS I-ADDRESS I-ADDRESS I-ADDRESS B-ADDRESS I-ADDRESS I-ADDRESS I-ADDRESS B-ADDRESS I-ADDRESS I-ADDRESS O O  O O O  O O O  O O O O O  O O  O  B-TOTAL I-TOTAL O  O  O  O  O  O  O  O  O  O  O O  O  O  O  O O  O  O  O  O O O  O  O O  O  O  O  O  O  B-DATE O  O  O  O O O O  O O O O  O O O O O O  O O  O O O  ', 'B-COMPANY I-COMPANY I-COMPANY O O O  B-ADDRESS I-ADDRESS I-ADDRESS I-ADDRESS B-ADDRESS I-ADDRESS I-ADDRESS B-ADDRESS I-ADDRESS I-ADDRESS O O O O  O O  O  O O  O O  O O  O O  B-DATE I-DATE I-DATE O  O O O  O O  O  O O  O O O O O  O  O  O O O  O  O O  O  O O O O O  O  O O O  O  O O  O  O O  O  O  O  O O O  O  O O  O  O O O O  B-TOTAL O O  O  O O O  O  O  O  O O  O O O  O O  O  O O O  O O  O  O  O O O  O  O  O O O  O  O  O O O  O  O O O O  O O  O O O  O  ', 'B-COMPANY I-COMPANY I-COMPANY I-COMPANY I-COMPANY B-ADDRESS I-ADDRESS I-ADDRESS I-ADDRESS B-ADDRESS I-ADDRESS I-ADDRESS B-ADDRESS I-ADDRESS I-ADDRESS I-ADDRESS O O  O O O  O O  O O  O  O  O  O O  O O  O O  O O  O O  O O O  B-DATE I-DATE I-DATE B-TOTAL O  O O  O O O  O  O  O O  O  O O  O  O O  O  O  O  O  O  ', 'B-COMPANY I-COMPANY I-COMPANY I-COMPANY I-COMPANY I-COMPANY I-COMPANY B-ADDRESS I-ADDRESS I-ADDRESS I-ADDRESS I-ADDRESS B-ADDRESS I-ADDRESS I-ADDRESS I-ADDRESS O O O  O O O  O O O O O  O O O O  O  B-DATE I-DATE O O O O O  O O O O O O  O O O  O O O O  O O O  O O  O  O  O  O  O  O  O  O O  O  O  O  O  O  O  O  O  O  O  O  O  O  O O  O  B-ADDRESS O  O  B-ADDRESS O  O O O  O  O  O  O  O  O  O  O  O  O  O  O  O  O  O  O O O O O  O  O  O  O O O O O  O  O O O  O  O O  B-TOTAL O  O O O O O O O  O O O O O O  O O O O O O O  O O O O O O O O  O O O O O O O  O O  O O  O O  O  ', 'B-COMPANY I-COMPANY I-COMPANY I-COMPANY I-COMPANY I-COMPANY B-ADDRESS I-ADDRESS I-ADDRESS I-ADDRESS I-ADDRESS B-ADDRESS I-ADDRESS I-ADDRESS B-ADDRESS I-ADDRESS I-ADDRESS I-ADDRESS O O  O O O O  O O  O  O  O O  O O  O O  O  O  O  O  O  O  O  O  O O  O  O  O  O O  O  O  O  O  O  O O  O  O O  O  O  O  O O  O  O  O  O  O  O O  O O O  O O  O  O O  O  O  O  O O O O  B-TOTAL O  O  O  O  O  O  O  O O O  B-DATE I-DATE I-DATE O  O  ', 'O O O O O  B-COMPANY I-COMPANY I-COMPANY O  B-ADDRESS I-ADDRESS I-ADDRESS I-ADDRESS I-ADDRESS I-ADDRESS B-ADDRESS I-ADDRESS I-ADDRESS I-ADDRESS I-ADDRESS B-ADDRESS I-ADDRESS I-ADDRESS O O O  O O O  O  O  O O O  O  O O  O O  O  O O O  O  O O  O O  O  O  O  O O O O  O O  O  O  O O  O O O O  O O  O  O  O O  O O O  O O  O  O  O O  O O O  O O  O  O  O O  O O O O O  O O O  O O  O  O  O O  O O O O O  O O O  O O  O  O  O O  O  O  O O  O  O  O  O O  O  O O  O  O O  B-TOTAL O O  O O  O  O O O  O  O  B-DATE ', 'B-COMPANY I-COMPANY I-COMPANY I-COMPANY I-COMPANY I-COMPANY I-COMPANY B-ADDRESS I-ADDRESS I-ADDRESS I-ADDRESS I-ADDRESS B-ADDRESS I-ADDRESS I-ADDRESS I-ADDRESS O O O  O O O  O O O O O  O O O O  O  B-DATE I-DATE O O O O O  O O O O O O  O O O  O O O O  O O  O O  O  O  O  O  O  O O  O  O  O  O  B-ADDRESS O  O  O  O  O  O  O  O  O O  O  O  B-ADDRESS O  O  O  O O O  O  O  O  O  O  O  O  O  O  O  O  O  O  O  O  O  O  O  O  O  O  O  O O O O O  O  O  O  O O O O O  O  O O O  O  O O  B-TOTAL O  O O O O O O O  O O O O O O  O O O O O O O  O O O O O O O O  O O O O O O O  O O  O O  O O  O  O  O  ', 'B-COMPANY I-COMPANY I-COMPANY I-COMPANY I-COMPANY I-COMPANY I-COMPANY B-ADDRESS I-ADDRESS I-ADDRESS I-ADDRESS I-ADDRESS B-ADDRESS I-ADDRESS I-ADDRESS I-ADDRESS O O O  O O O  O O O O O  O O O O  O  B-DATE I-DATE O O O O O  O O O O O O  O O O  O O O O  O O O  O O  O  O  O  O  O  O  O  O O  O  B-ADDRESS O  O  B-ADDRESS O  O  O  B-ADDRESS O  O  O  O  O O  O  O  O  O  O  O  O O O  O  O  O  O  O  O  O  O  O  O  O  O  O  O  O  O O  O  O  O  O  O  O  O O O O O  O  O  O  O O O O O  O  O O O  O  O O  B-TOTAL O  O O O O O O O  O O O O O O  O O O O O O O  O O O O O O O O  O O O O O O O  O O  O O  O O  O  ', 'B-COMPANY I-COMPANY I-COMPANY I-COMPANY O  O O O O  B-ADDRESS I-ADDRESS I-ADDRESS B-ADDRESS I-ADDRESS I-ADDRESS O O O O  O O  O O O O O  O O  O O  B-DATE I-DATE I-DATE I-DATE O  O  O O O  O  O  O O  O  O O  O  O O  O  O O  B-TOTAL O  O  O  O  O O O O  O  O O O O O O  O  ', 'B-COMPANY I-COMPANY I-COMPANY I-COMPANY I-COMPANY O  B-ADDRESS I-ADDRESS I-ADDRESS I-ADDRESS I-ADDRESS I-ADDRESS I-ADDRESS B-ADDRESS I-ADDRESS I-ADDRESS B-ADDRESS I-ADDRESS I-ADDRESS I-ADDRESS O O O O  O O  O O  O O O  O O O  O  O O O O  O O O  O  O O  O O  O  O O O O  O O O  O  O O O O O  O O O  O  O O  O O O  O  O O O  O O  O O  O O  O O  O O  O O  O  O  O  O  O  O  O O O  O O O  O  O  O O O O O  B-TOTAL I-TOTAL O O  O O  O O  B-DATE I-DATE I-DATE I-DATE O O O O O  O O O O  O O O O  O O O O  O  O  O  O  O  O  O  O  O  O  O  O  O  O O  ', 'B-COMPANY I-COMPANY I-COMPANY B-ADDRESS I-ADDRESS I-ADDRESS I-ADDRESS I-ADDRESS I-ADDRESS I-ADDRESS B-ADDRESS I-ADDRESS I-ADDRESS O O O O O  O O O  O O O O  O O  O O O  O O O O O  O O O  O O  O O O O O  O O O  O  B-TOTAL I-TOTAL I-TOTAL O  O  O O O O O  O  O  O  O  O  O O  O  O O  O  O  O  O  O  O O  O  O  O O O  O  O  O O O  B-DATE I-DATE I-DATE O O O O O O O  O O O O O  O O O  O O O O O  O O O O O O O O  O O O O O O  O O  O O O O O O  ', 'B-COMPANY I-COMPANY I-COMPANY I-COMPANY O  B-ADDRESS I-ADDRESS I-ADDRESS I-ADDRESS I-ADDRESS I-ADDRESS B-ADDRESS I-ADDRESS I-ADDRESS I-ADDRESS B-ADDRESS I-ADDRESS I-ADDRESS I-ADDRESS O O O O  O O  O O O O O  O O O O O  O  O  O  O  O  O  O  O  O  O  O  O  O  O O  O O O  O  O O O O  O  O O  O  O O O  O  O O  O  O O O O  O  O O O  O O O  O  O O  O  O O O  O  O O  O  O O O  O O O  O  O O  O  O  O  O  O  O  O  O  O  O  O  O  O  O  O  O  O  O  O O O O  O O  O O O O O  O  O O O  O O  O  O  O  O  O  O  O O O O  O O  O O O  O  O  B-TOTAL O  O  O  O  B-DATE O  O O O  O O O O  O O O  O  O O  O  O O  O  O O O O O  O O O O O  O  O O O  O O O  O O O O O  O O O  ', 'B-COMPANY I-COMPANY I-COMPANY I-COMPANY B-DATE I-DATE I-DATE I-DATE O  B-ADDRESS I-ADDRESS I-ADDRESS I-ADDRESS I-ADDRESS B-ADDRESS I-ADDRESS I-ADDRESS O O  O O O O  O  O  O  O O O O O O  O  O  O  O O O O O O O  O  O  O  B-TOTAL I-TOTAL I-TOTAL O O O  O O O  O O  O  O  O  O  O  O O  O  O  O O O O  O  O  O O O  O O O O  O O O O  O O O O O  O O O O O O  O  ', 'B-COMPANY I-COMPANY I-COMPANY B-ADDRESS I-ADDRESS I-ADDRESS I-ADDRESS I-ADDRESS I-ADDRESS I-ADDRESS B-ADDRESS I-ADDRESS I-ADDRESS O O O O O  O O O  O O O O  O O  O O O  O O O O O  O O O  O O  O O O  O O O O  O  O  O  O O O O O  O  O  O O  O O  O  O  B-TOTAL O  O  O  O  O  O  O O  O  O  O O O  O  O  O O O  B-DATE I-DATE I-DATE O O O O O O O  O O O O O  O O O  O O O O O  O O O O O O O O  O O O O O O  O O  O O O O O O  ', 'B-COMPANY I-COMPANY O  B-ADDRESS I-ADDRESS I-ADDRESS I-ADDRESS I-ADDRESS B-ADDRESS I-ADDRESS I-ADDRESS I-ADDRESS I-ADDRESS O O O O  O O  O O  O O  B-DATE I-DATE O  O O  O O  O O O  O O O  O  O  O  O  O  O  O  O  O  O  O  O  O  O  O  O O O  O  O  O  O  O  O  O O O O O  O  O  O  O  O  O  O  O  O  O  O  O  O  O O O O  O  O  O  O  O  O  O O O O  O  O  O  O  O  O  O O O O O  O  O  O  O  O  O  O O O O O  O  O  O  O  O  O  O O O O  O  O  O  O  O  O O O  O O  O  O  O O O O O  O  O O  O  O O O  O  O O  O  O O O O O O  B-TOTAL O O  O  O O  O  O O  O O  O  O O  O O  O  O  O  O  O  O  O  O  O  O O  O  O O O O O O O  ', 'B-COMPANY I-COMPANY I-COMPANY I-COMPANY O  B-ADDRESS I-ADDRESS I-ADDRESS I-ADDRESS I-ADDRESS B-ADDRESS B-ADDRESS I-ADDRESS I-ADDRESS O O O  O O O O  O O O  O  B-ADDRESS I-ADDRESS O  O  O  B-DATE O  O  O  O  O  O  O  O O  O  O  O  O  O  O  O  O  O  O  O O  O  O  O  O  O  O O O O O  O  O  O  O  O  O O O O  O  O  O  O  O  O O O O O O  O  O  O  O  O  O O  O  O  O  O  O  O O O O O O  O  O  O  O  O  O O  O  O  O  O  O  O  O  O  O  O  O  O O  O  O  O  O  O  O O O O  O O  O  B-TOTAL O O O O O  O  O O  O  O O O  O  O O  O  O O O O O O  O  O O  O  O O  O  O O  O O  O  O  O  O  O  O  O  O O  O  O  O O O O O O O  ', 'B-COMPANY I-COMPANY I-COMPANY I-COMPANY I-COMPANY I-COMPANY I-COMPANY B-ADDRESS I-ADDRESS I-ADDRESS I-ADDRESS I-ADDRESS B-ADDRESS I-ADDRESS I-ADDRESS I-ADDRESS O O O  O O O  O O O O O  O O O O  O  B-DATE I-DATE O O O O O  O O O O O O  O O O  O O O O  O O O  O O  O  O  O  O  O  O  O  O O  O  O  O  O  O  O  O  O  O  O  O  O  O  O O  O  O  O  O  O  O  O O O  O  O O  O  O  O  O  O  O O O O O  O  O  O  O O O O O  O  O O O  O  O O  B-TOTAL O  O O O O O O O  O O O O O O  O O O O O O O  O O O O O O O  O O O O O O O  O  O  O O  O  ', 'B-COMPANY I-COMPANY I-COMPANY I-COMPANY I-COMPANY I-COMPANY I-COMPANY B-ADDRESS I-ADDRESS I-ADDRESS I-ADDRESS I-ADDRESS B-ADDRESS I-ADDRESS I-ADDRESS I-ADDRESS O O O  O O O  O O O O O  O O O O  O  B-DATE I-DATE O O O O O  O O O O O O  O O O  O O O O  O O O  O O  O  O  O  O  O  O  O  O O  O  O  O  O  O  O  O  O  O  O  O  O  O  O O  O  O  O  O  O  O  O O O  O  O  O  O  O  O  O  O  O  O  O  O  O  O  O  O  O  O  O  O  O  O  O  O  O  O  O  O  O  O  O  O  O  O  O  O  O O O O O  O  O  O  O O O O O  O  O O O  O  O O  B-TOTAL O  O O O O O O O  O O O O O O  O O O O O O O  O O O O O O O O  O O O O O O O  O O  O O  O O  O  ', 'B-COMPANY I-COMPANY I-COMPANY I-COMPANY O  B-ADDRESS I-ADDRESS I-ADDRESS I-ADDRESS I-ADDRESS B-ADDRESS B-ADDRESS I-ADDRESS I-ADDRESS O O O  O O O O  O O O  O  O O  O O  B-DATE I-DATE O O  O  O O  O O O O O O O  O  O O  O O  O  O  O  O  O  O  O  O  O  O  O O O O  O O  O  B-TOTAL O O O O O  O  O O  O  O O O  O  O O  O  O O O O O O  O  O O  O  O O  O  O O  O O  O  O  O  O  O  O  O  O O  O  ', 'B-COMPANY I-COMPANY I-COMPANY I-COMPANY I-COMPANY B-ADDRESS I-ADDRESS I-ADDRESS I-ADDRESS I-ADDRESS I-ADDRESS I-ADDRESS B-ADDRESS I-ADDRESS I-ADDRESS B-ADDRESS I-ADDRESS I-ADDRESS I-ADDRESS O O O O  O O  O O O  O O O  O  O O O  O O O  O  O O O  O O  O O  O  O  O O O  O O O  O  O O O O O  B-TOTAL I-TOTAL O O  O O  B-DATE I-DATE I-DATE I-DATE O O  O O O O O  O O O O  O O O O  O O O O  O  O  O  O  ', 'B-COMPANY I-COMPANY I-COMPANY I-COMPANY I-COMPANY I-COMPANY I-COMPANY B-ADDRESS I-ADDRESS I-ADDRESS I-ADDRESS I-ADDRESS B-ADDRESS I-ADDRESS I-ADDRESS I-ADDRESS O O O  O O O  O O O O O  O O O O  O  B-DATE I-DATE O O O O O  O O O O O O  O O O  O O O O  O O O  O O  O  O  O  O  O  O  O  O O  O  B-ADDRESS O  O  B-ADDRESS O  O  O  B-ADDRESS O  O  B-ADDRESS O  O O  O  O  O  O  O  O  O O O  O  O  O  B-ADDRESS O  O  B-ADDRESS O  O  O  O  O  O  O  O  O  O  O  O  O  O  O  O O O O O  O  O  O  O O O O O  O  O O O  O  O O  B-TOTAL O  O O O O O O O  O O O O O O  O O O O O O O  O O O O O O O O  O O O O O O O  O O  O O  O O  O  O  ', 'B-COMPANY I-COMPANY I-COMPANY I-COMPANY I-COMPANY I-COMPANY I-COMPANY O  B-ADDRESS I-ADDRESS I-ADDRESS I-ADDRESS I-ADDRESS I-ADDRESS I-ADDRESS B-ADDRESS I-ADDRESS I-ADDRESS O O O O O  O O  O O  O  O O  O  B-DATE I-DATE I-DATE O O O  O O O  O  O  O  O  O O  B-ADDRESS O  O O  O O O O O O  B-ADDRESS O  O O  O  B-ADDRESS O  O O  O O O  O O O  O  O O  O  O O O O  O  O O  B-TOTAL O O  O  O  O O O  O O  O  O O  O  O  O  O O  O  O  O O O O  ', 'B-COMPANY I-COMPANY I-COMPANY I-COMPANY B-COMPANY B-ADDRESS I-ADDRESS I-ADDRESS I-ADDRESS I-ADDRESS I-ADDRESS B-ADDRESS I-ADDRESS I-ADDRESS I-ADDRESS B-ADDRESS I-ADDRESS I-ADDRESS I-ADDRESS B-ADDRESS O O O  O O O  O O  O O  O O  O O  B-DATE I-DATE O  O  O  O  O O O  O  O  O  O  O  O O  O  O O O O  O  O O O O  B-TOTAL O O O  O  O O  O  O O O  O  O O O O  O  O  O  O O  O  O O  O  O  ', 'B-COMPANY I-COMPANY I-COMPANY B-ADDRESS I-ADDRESS I-ADDRESS I-ADDRESS I-ADDRESS I-ADDRESS I-ADDRESS B-ADDRESS I-ADDRESS I-ADDRESS O O O O O  O O O  O O O O  O O  O O O  O O O O O  O O O  O O  O O O O  O  O O O  O  O  O O O O O  O  O  O  O  O  O O  O  O O  B-TOTAL O  O  O  O  O O  O  O  O O O  O  O  O O O  B-DATE I-DATE I-DATE O O O O O O O  O O O O O  O O O  O O O O O  O O O O O O O O  O O O O O O  O O  O O O O O O  ', 'O O O O O O O O  B-COMPANY I-COMPANY I-COMPANY I-COMPANY I-COMPANY B-ADDRESS I-ADDRESS I-ADDRESS I-ADDRESS I-ADDRESS B-ADDRESS I-ADDRESS B-ADDRESS I-ADDRESS I-ADDRESS B-ADDRESS I-ADDRESS I-ADDRESS O O O O O  O O O O  O  O  B-DATE O O O O  O O  O O O O O  O O  O O O O O  O O  O O O O O O  O O  O O O O O  O  O O O O O O  O O  O O O O  O O O O O  O O  O O O O  O O  O O O O  O O O O O  O O  O O O O O O  O O  O O O O  O O O O O  O  O O O  O  O O  B-TOTAL O O  O  O O  O  O O  O  O  O O O  O  O  O O O  O  O  O O O O O  O O O O O O  ', 'B-COMPANY I-COMPANY I-COMPANY I-COMPANY B-DATE I-DATE I-DATE I-DATE O  B-ADDRESS I-ADDRESS I-ADDRESS I-ADDRESS I-ADDRESS B-ADDRESS I-ADDRESS I-ADDRESS O O  O O O O  O  O O O O  O  O O O  O  B-TOTAL I-TOTAL I-TOTAL O O O  O O O  O O  O  O  O O  O O O O  O O O  O O O O  O O O O  O O O O O  O O O O O O  O  O  O  O  O  O  O  O  O  O  O  O  O  O  ', 'B-COMPANY I-COMPANY I-COMPANY I-COMPANY I-COMPANY B-ADDRESS I-ADDRESS I-ADDRESS I-ADDRESS I-ADDRESS I-ADDRESS B-ADDRESS I-ADDRESS I-ADDRESS B-ADDRESS I-ADDRESS O O O O O O  O  O O O O  O  O  O O O  O O  O  O O  O  O  O  O  O  O  O O O  O  O  O  B-TOTAL I-TOTAL O  O  O  O O  O  O  O  O  O  O  O  O O O O O O O  O O O O  O O O O O  O O O O  B-DATE I-DATE I-DATE I-DATE I-DATE ', 'B-COMPANY I-COMPANY I-COMPANY I-COMPANY I-COMPANY I-COMPANY I-COMPANY B-ADDRESS I-ADDRESS I-ADDRESS I-ADDRESS I-ADDRESS B-ADDRESS I-ADDRESS I-ADDRESS I-ADDRESS O O O  O O  O O O  O O O O O  O O O O  O  B-DATE I-DATE O O O O O  O O O O O O  O O O  O O O O  O O  O O  O  O  O  O  O  O  O  O  O O  O  O  O  O  O  O  O  O  O  O  O  B-ADDRESS O  O O  O  O  O  O  O  O  O O O  O  O  O  O  O  O  O  O  O  O  O  O  O  O  O  O O O O O  O  O  O  O O O O O  O  O O O  O  O O  B-TOTAL O  O O O O O O O  O O O O O O  O O O O O O O  O O O O O O O O  O O O O O O O  O O  O O  ', 'B-COMPANY I-COMPANY I-COMPANY I-COMPANY I-COMPANY O  B-ADDRESS I-ADDRESS I-ADDRESS I-ADDRESS I-ADDRESS I-ADDRESS B-ADDRESS I-ADDRESS I-ADDRESS I-ADDRESS B-ADDRESS I-ADDRESS I-ADDRESS I-ADDRESS I-ADDRESS O O O  O O  O  O O  O O O O O  O O  O O  O O  O O  B-DATE I-DATE O  O O  O O  O  O  O  O  O  O  O  O  O  O  O  O  O O O O O  O  O  O  O  O  O  O O O O O O  O  O O  O  O O O O  O  O O  O  O O O  O  O O  O  O O  B-TOTAL O O  O  O O  O  O O  O O  O  O  O  O  O  O  O  O  O  ', 'O O O O O  B-COMPANY I-COMPANY I-COMPANY I-COMPANY I-COMPANY B-ADDRESS I-ADDRESS I-ADDRESS I-ADDRESS B-ADDRESS I-ADDRESS I-ADDRESS B-ADDRESS I-ADDRESS I-ADDRESS O O O  O O  O O  O O  O O O  O O  O  B-DATE I-DATE I-DATE O O  O  O  O  O  O  O O O  O O  O  O  O  O O O  O O  O  O  O  O O O  O O  O  O  O  O O O  O O  O  O  O  O O O  O O  O  O  O  O O O  O O  O  O  O  O O O  O  O O O  O  O O  O  O O O O  O  O O  O  O  B-TOTAL O O  O  O  O O  O  O  O  O  O  O  O  O O  O  O  O O  O O O  O O O  ', 'B-COMPANY I-COMPANY I-COMPANY I-COMPANY B-ADDRESS I-ADDRESS I-ADDRESS I-ADDRESS I-ADDRESS B-ADDRESS I-ADDRESS I-ADDRESS B-ADDRESS I-ADDRESS I-ADDRESS I-ADDRESS O O  O O  O O O  B-DATE I-DATE I-DATE O O  O O  O O  O O  O O  O  O  O  O  O  O  O  O  B-TOTAL I-TOTAL I-TOTAL O O O O O O O  O  O  O O  O O  O O  ', 'B-COMPANY I-COMPANY I-COMPANY B-COMPANY I-COMPANY B-COMPANY I-COMPANY I-COMPANY O  B-ADDRESS I-ADDRESS I-ADDRESS I-ADDRESS I-ADDRESS B-ADDRESS I-ADDRESS I-ADDRESS I-ADDRESS B-ADDRESS I-ADDRESS I-ADDRESS I-ADDRESS I-ADDRESS O O O O O O O O  O O O  O O O  O  B-DATE I-DATE I-DATE I-DATE I-DATE O O O  O O  O  O  O  O  O  O  O  O  O  O  O  O O O O O  O O  O  O O  O  O  O  O  O  O  O  O  B-TOTAL O  O  O O O O O O  O O  O  O  O  O  O  O  O  O  O O  O  O O O O O  O O O O O  O O O O O O  O O O O O O  O O O O O O O O  O O O  ', 'B-COMPANY I-COMPANY I-COMPANY I-COMPANY I-COMPANY I-COMPANY B-ADDRESS I-ADDRESS I-ADDRESS I-ADDRESS B-ADDRESS I-ADDRESS I-ADDRESS B-ADDRESS I-ADDRESS I-ADDRESS O O O  O O O  O O O  O  O  O O  O  O  O  O  B-TOTAL O O O  O  O  O  O O  O  O O  O  O O O O  O  O  O  O  O  O  O  O O O  O O O O  O O  O O O O O  O O O O  O O O O O  O O O O O O  O O O O O O  O O O O  O O O O O  O  B-DATE O  O O  O O  ', 'B-COMPANY I-COMPANY I-COMPANY B-ADDRESS I-ADDRESS I-ADDRESS I-ADDRESS I-ADDRESS I-ADDRESS I-ADDRESS B-ADDRESS I-ADDRESS I-ADDRESS O O O O O  O O O  O O O O  O O  O O O  O O O O O  O O O  O O  B-TOTAL I-TOTAL I-TOTAL O O O O O  O O O  O  O  O  O O O O O  O  O  O O  O O  O  O  O  O  O  O  O  O  O  O O  O  O  O O O  O  O  O O  O O  O O  O O O  O  B-DATE O  O O O O O O  O O O O O O O  O O O O O  O O O  O O O O O  O O O O O O O O  O O O O O O  O O  O O O O O O  ', 'B-COMPANY I-COMPANY I-COMPANY I-COMPANY I-COMPANY I-COMPANY I-COMPANY I-COMPANY B-ADDRESS I-ADDRESS I-ADDRESS B-ADDRESS I-ADDRESS B-ADDRESS I-ADDRESS I-ADDRESS O O O O O  O O  O O  O O  O  O O  O  B-DATE I-DATE I-DATE O O  O  O  O  O O  O O O  O O  O  O  O  O O O  O O  O  O O O O  O  O  B-TOTAL O O  O  O  O O  O O  O  O O  O  O O  O O  O O  O  O O  O O O O  ', 'B-COMPANY I-COMPANY I-COMPANY I-COMPANY I-COMPANY B-ADDRESS I-ADDRESS I-ADDRESS I-ADDRESS I-ADDRESS B-ADDRESS I-ADDRESS B-ADDRESS I-ADDRESS I-ADDRESS B-ADDRESS I-ADDRESS I-ADDRESS O O O O O  O O O O  O  O  B-DATE O O O O O  O O  O O O O O  O  O O  O  O O  O  O O  O  O  O O O  B-TOTAL O  O O O O O  O O O O O O  ', 'B-COMPANY I-COMPANY I-COMPANY B-ADDRESS I-ADDRESS I-ADDRESS I-ADDRESS I-ADDRESS I-ADDRESS I-ADDRESS B-ADDRESS I-ADDRESS I-ADDRESS O O O O O  O O O  O O O O  O O  O O O  O O O O O  O O O  O O  O O O  O O  O O O  O O O O  O  O  O  O O O O O  O O O  O  O  O O O O O  O  O  O O  O O  B-TOTAL O  O  O  O  O  O  O  O  O O  O  O  O O O  O  O  O O O  B-DATE I-DATE I-DATE O O O O O O O  O O O O O  O O O  O O O O O  O O O O O O O O  O O O O O O  O O  O O O O O O  ', 'O  O  B-COMPANY I-COMPANY I-COMPANY I-COMPANY I-COMPANY I-COMPANY B-ADDRESS I-ADDRESS I-ADDRESS I-ADDRESS I-ADDRESS I-ADDRESS B-ADDRESS I-ADDRESS I-ADDRESS I-ADDRESS O O O  O O O  O O O O O  O O  O O  O O O  O  O O O O  O O  O O  O O  O O  O O  B-DATE I-DATE I-DATE I-DATE O O  O  O O  O  O O O O  O  O  O O  O O  O O O  O  O O O O  O  O O O O  O  O O O  O  O O O O O  O  O  O  B-TOTAL O  O  O  O O  O  O O  O O O  O  O  O  O O O O O O  O O  ', 'B-COMPANY I-COMPANY I-COMPANY I-COMPANY I-COMPANY O O  B-ADDRESS I-ADDRESS I-ADDRESS I-ADDRESS I-ADDRESS I-ADDRESS I-ADDRESS B-ADDRESS I-ADDRESS I-ADDRESS B-ADDRESS I-ADDRESS I-ADDRESS I-ADDRESS O O O O  O O  O O  O O O O O  O  O O O  O  O  O  O  O  O O O O  O  O O O  O  O  O  O  O  O O O  O O O  O O O  O O  O  O O  O  B-TOTAL I-TOTAL O O O O O  O O  B-DATE O  O  O  O  O  O O O  O O O O  O O O O  O O O O  ', 'B-COMPANY I-COMPANY I-COMPANY I-COMPANY I-COMPANY B-ADDRESS I-ADDRESS I-ADDRESS I-ADDRESS I-ADDRESS I-ADDRESS B-ADDRESS I-ADDRESS I-ADDRESS I-ADDRESS B-ADDRESS I-ADDRESS I-ADDRESS I-ADDRESS O O O O  O O  O O O O O  O O O O O  O O O  O O  O O  O O  O O O  O O O  O  O O O  O O O  O O O  O  O O  O O O  O O O  O  O  O  O  O  O  O  O  O  O  O O O O  O O  O O O O O  O  O O O  O  O  O  B-TOTAL O  O  O O O  O O  O O O  O  B-DATE I-DATE O O O O O  O  O O O  O O  O O  O O O O O  O  O O O O O  O  O O O  O O O  O O O O O  O O O  O O O O  O O O O O O O  O O  O O O  O O O  O O O O O  O O  O  O  O  O  O  O  O O O  O  O  O  O  O  ', 'B-COMPANY I-COMPANY I-COMPANY I-COMPANY B-DATE I-DATE I-DATE I-DATE O  B-ADDRESS I-ADDRESS I-ADDRESS I-ADDRESS I-ADDRESS B-ADDRESS I-ADDRESS I-ADDRESS O  O O O O  O  O  O  O O O O O O O  O  O  O  O O O  O  O  O  B-TOTAL I-TOTAL I-TOTAL O O O  O O O  O O  O  O  O  O  O  O O  O  O  O O O O  O  O  O O O  O O O O  O O O O  O O O O O  O O O O O O  O  ', 'O O  B-COMPANY I-COMPANY I-COMPANY I-COMPANY I-COMPANY B-ADDRESS I-ADDRESS I-ADDRESS I-ADDRESS B-ADDRESS I-ADDRESS B-ADDRESS I-ADDRESS B-ADDRESS O O  O O  O  O O  B-DATE I-DATE I-DATE I-DATE O  O  O  O  O  O  O  O  O  O O O O O  O O O  O  O  O  O  O O O O  O O O  O  O  O  O  O O O O O  O O O  O  O  O  O  O O O O O O  O O O  O  O  O  O  O O O O  O O O  O  O  O  O  O O  O  O O O O O  O O O  O O O  O  O  O  B-TOTAL O  O O  O O O O  O  O  O  O  O O O O  ', 'B-COMPANY I-COMPANY I-COMPANY I-COMPANY B-DATE I-DATE I-DATE I-DATE O  B-ADDRESS I-ADDRESS I-ADDRESS I-ADDRESS I-ADDRESS B-ADDRESS I-ADDRESS I-ADDRESS O O  O O O O  O  O  O  O O O O O O O  O  O O O O  O  O  O  O  O  O O O  O O O  O O  B-TOTAL I-TOTAL I-TOTAL O O  O  O  O  O  O  O O  O  O  O O O O  O  O  O O O  O O O O  O O O O O  O O O O O O  O  ', 'B-COMPANY I-COMPANY I-COMPANY I-COMPANY O  B-ADDRESS I-ADDRESS I-ADDRESS I-ADDRESS B-ADDRESS I-ADDRESS I-ADDRESS O O O  O O O  O O O O  O O  O O O  O O O O  O O O O O  O O O  B-ADDRESS I-ADDRESS O  O O  O  O  B-DATE I-DATE O  O  O  O O  O  O  O  O  O  O  O  O  O  O  O  O  O O O O  O  O  O  O  O  O  O O O O  O  O  O  O  O  O  O  O  O  O  O  O  O O  O  O  O O O O  O  O  O  O  O  O O  O  O  O  O  O  O O O O O  O  O  O  O  B-TOTAL O  O  O  O O  O O  O  O O  O O  O  O  O  O  O O  O  O  O O O O O O O  ', 'B-COMPANY I-COMPANY I-COMPANY I-COMPANY I-COMPANY B-ADDRESS I-ADDRESS I-ADDRESS I-ADDRESS I-ADDRESS I-ADDRESS B-ADDRESS I-ADDRESS I-ADDRESS I-ADDRESS B-ADDRESS I-ADDRESS I-ADDRESS I-ADDRESS O O O  O O  O O O O O O  O  O  O O  O  B-TOTAL O O O O  O  O O O O O  O  O  O  O O O  O O  O  O O O  O O  O  O  O O O  O  O  O  O  O  B-DATE O  O O O  O O O O O  O O O  O O O  O O O O O  O O O  ', 'O O  O O O O O  O  O O O O  B-ADDRESS I-ADDRESS I-ADDRESS I-ADDRESS I-ADDRESS B-ADDRESS I-ADDRESS I-ADDRESS I-ADDRESS B-ADDRESS I-ADDRESS I-ADDRESS I-ADDRESS I-ADDRESS O O  O O O O  O O O  O O  O O  O  O O O O O  O O O O O  O  O O O  O  O O  O O  O O O O  O O  O  O O O O  O  O O O O O O O  O O O O  O  O O  O O  O  O O  O O  O  O O O  O O  O  O  O  O O  O  O O  O  O O  B-TOTAL B-DATE I-DATE I-DATE I-DATE I-DATE I-DATE I-DATE O O  O  O  O O  O  O  O O O O O  ', 'O O O O O  O  B-ADDRESS I-ADDRESS I-ADDRESS I-ADDRESS I-ADDRESS I-ADDRESS I-ADDRESS B-ADDRESS I-ADDRESS I-ADDRESS O O O O  O O O O  O O O O  O O O  O  O O O O  B-DATE I-DATE I-DATE O O O O O  O O  O  O  O  O  O  O  O  O  O  O  O  O  O  O  O  O  O  O  O  O  O  O  O  O  O  O  O  O  O  O  O  O  O  O  O O  O O  O O  O O  O O  O O  O O  O O O O  O O O O O  O O O  O O O O O  O O O  O O O O O O O O  O O  O O O O O O  O  O O O  O  O O  O O  O  O  O  O  O  O  O  O  B-TOTAL O  O  O O  O O  O  O  O  O  O  O  O  O  O  O O  O  O  O O O O O O O O O  O O O O O O  ', 'B-COMPANY I-COMPANY I-COMPANY O O O  B-ADDRESS I-ADDRESS B-ADDRESS I-ADDRESS B-ADDRESS I-ADDRESS I-ADDRESS I-ADDRESS B-ADDRESS I-ADDRESS O O  O O  B-DATE I-DATE O O  O O  O O  O O  O O O O O O O O  O O O O  O  O O O O  O O O  O O O O  O O  O  O  O O  O  B-TOTAL O  O  O O  O  O O O O O  O O O O O O O  O  O  O  O  O  O  O  O  O  O  ', 'B-COMPANY I-COMPANY I-COMPANY I-COMPANY I-COMPANY B-ADDRESS I-ADDRESS I-ADDRESS I-ADDRESS I-ADDRESS I-ADDRESS B-ADDRESS I-ADDRESS B-ADDRESS I-ADDRESS I-ADDRESS B-ADDRESS I-ADDRESS I-ADDRESS O O O O O  O O O O  O  O  B-DATE O O O O  O O O O  O  O  O  O  O O O O  O  O  O  O  O  B-TOTAL O  O  O O  O O O  O O  O  O  O  O O O O O  O O O O O O  ', 'B-COMPANY I-COMPANY I-COMPANY I-COMPANY O O  B-ADDRESS I-ADDRESS I-ADDRESS I-ADDRESS I-ADDRESS I-ADDRESS B-ADDRESS I-ADDRESS B-ADDRESS I-ADDRESS I-ADDRESS I-ADDRESS O  O O O  O O O O  O O  O O  B-DATE O O  O  O  O  O  O  O  O  O  O  O  O O O O  O O  B-TOTAL O O  O  O  O  O O  O  O O  O  O  O  O O O O O O  O O O O O O  O O O O O O O  ', 'B-COMPANY I-COMPANY I-COMPANY I-COMPANY I-COMPANY B-ADDRESS I-ADDRESS I-ADDRESS B-ADDRESS I-ADDRESS I-ADDRESS B-ADDRESS I-ADDRESS I-ADDRESS B-ADDRESS O O O O  O O O O  O O  O O  O O  O O  B-DATE I-DATE O O  O  O  O  O O O O  B-TOTAL I-TOTAL O  O  O  O  O O  O  O O O O  O  O O O O  O  O O O  O  O O  O  O O O  O  O O O O  O O  O  O  O  O O  O  O  O O  O O O  ', 'O O O  O O O  B-COMPANY I-COMPANY I-COMPANY I-COMPANY I-COMPANY B-ADDRESS I-ADDRESS I-ADDRESS I-ADDRESS I-ADDRESS I-ADDRESS I-ADDRESS B-ADDRESS I-ADDRESS I-ADDRESS I-ADDRESS I-ADDRESS I-ADDRESS I-ADDRESS B-ADDRESS B-ADDRESS O O O  O O O O O  O O  O O  O O  O  O O O  O O O  O O  O O  B-DATE I-DATE I-DATE O  O  O  O O  O O O  O O  O  O  O  O  O O  B-TOTAL I-TOTAL O O  O O  O O  O O  O O  O  O  O  O  O  O  O  O  O O O O  O  O  O O  O  O O O O O O  O  ', 'O  B-COMPANY I-COMPANY I-COMPANY I-COMPANY O O  B-ADDRESS I-ADDRESS I-ADDRESS I-ADDRESS I-ADDRESS I-ADDRESS I-ADDRESS B-ADDRESS I-ADDRESS I-ADDRESS I-ADDRESS I-ADDRESS O O  O O O O  O  O O  O O  O  B-DATE I-DATE I-DATE I-DATE O  O O  O  O  O O  O  O O  O  O  O  O O O O  O  O O  O  O  O  O O O  O  O O  O  O  O  O O O O  O  O O  O  O  O  O O O  O O O  O  O O O O O  O  O O  O  O O  B-TOTAL O  O  O O  O  O O O  O  O  O  O  O  O  O O O  O O O O O  O O O O  ', 'B-COMPANY I-COMPANY I-COMPANY I-COMPANY I-COMPANY B-ADDRESS I-ADDRESS I-ADDRESS B-ADDRESS I-ADDRESS I-ADDRESS B-ADDRESS I-ADDRESS I-ADDRESS B-ADDRESS O O O O  O O O O  O O  O O  O O  O O  B-DATE I-DATE O O  O  O  O  O O O O  O O  O  O  O  O  O O  O  O O O O  O  O O O O  B-TOTAL O O O  O  O O  O  O O O  O  O O O O  O O  O  O  O  O O  O  O  O O  O O O  ', 'O O O  B-COMPANY I-COMPANY I-COMPANY I-COMPANY O  B-ADDRESS I-ADDRESS I-ADDRESS I-ADDRESS B-ADDRESS I-ADDRESS B-ADDRESS I-ADDRESS I-ADDRESS B-ADDRESS O O O O O  O O O  O  O O O O  O O  O O  O O  B-DATE I-DATE O  O O  O O  O O  O  O O O O O O O  O  O  O  O  O  O  O  B-ADDRESS O  O  O  O O O O O  O O O  O  B-ADDRESS O  O  O  O O O O  O  B-ADDRESS O  O  O  O O  O  B-ADDRESS O  O  O  O O O O O  O  B-ADDRESS O  O  O  O O O  O  B-ADDRESS O  O  O  O O  O  B-ADDRESS O  O  O  O O O  O  O  O  O  O  O O O  O O  O  O  O O O  B-TOTAL O O  O  O O  O  O O  O  O O O  O  O O  O  O O  O  ', 'B-COMPANY I-COMPANY I-COMPANY I-COMPANY I-COMPANY I-COMPANY B-ADDRESS I-ADDRESS I-ADDRESS I-ADDRESS B-ADDRESS I-ADDRESS I-ADDRESS B-ADDRESS I-ADDRESS O  O O O  O O O  O  O O O O O O  O O O O O O  O O O O O  O O O O O  O O O O O  O  O  O  O  O  O  O  O  O  O  O  O O O  O  B-TOTAL O  O O O O  O  O  O  O  O  O O  O  O O  O  O O O O  O O  O O O O O  O O O O  O O O O  O O  O O O O O  O O O O O O  O O O O O O  O O O O  O O O O  O  B-DATE ', 'B-COMPANY I-COMPANY I-COMPANY I-COMPANY I-COMPANY B-ADDRESS I-ADDRESS I-ADDRESS I-ADDRESS I-ADDRESS B-ADDRESS I-ADDRESS B-ADDRESS I-ADDRESS I-ADDRESS B-ADDRESS I-ADDRESS I-ADDRESS O O O O O  O O O O  O  O  B-DATE O O O O O  O O  O O O O O  O O  O O O O O  O O  O O O O O  O  O O O  O  O O  B-TOTAL O O  O  O O  O  O O  O  O  O O O  O  O  O O O O O  O O O O O O  ', 'B-COMPANY I-COMPANY I-COMPANY I-COMPANY I-COMPANY O  O O O  B-ADDRESS I-ADDRESS I-ADDRESS I-ADDRESS I-ADDRESS I-ADDRESS B-ADDRESS I-ADDRESS I-ADDRESS I-ADDRESS I-ADDRESS I-ADDRESS B-ADDRESS O O O O  O O O O  O O O  O O  O O O  O O  B-DATE I-DATE I-DATE I-DATE I-DATE O  O O  O  O O O  O  O O O  O O O  O O O  O  O O O O  B-TOTAL O O  O  O O  O  O  O  O O O O  O  O O O O O O  O O O O O  ', 'B-COMPANY I-COMPANY I-COMPANY I-COMPANY O  O O  B-ADDRESS I-ADDRESS I-ADDRESS I-ADDRESS B-ADDRESS I-ADDRESS B-ADDRESS I-ADDRESS I-ADDRESS O O O  O O  O O  B-DATE I-DATE O O  O O  O  O  O  O O  O O O O  O O O O  B-TOTAL I-TOTAL O O O  O O O  O O O O O  O  O O  O  O O  O  O  O  O  O  O  O  O  O O O  O  O O O  O  O O O O O  O  ', 'B-COMPANY I-COMPANY B-COMPANY I-COMPANY I-COMPANY I-COMPANY O O O  O O O O  B-ADDRESS I-ADDRESS I-ADDRESS I-ADDRESS I-ADDRESS I-ADDRESS I-ADDRESS B-ADDRESS I-ADDRESS I-ADDRESS I-ADDRESS I-ADDRESS O O  O O O O O  B-DATE I-DATE O O O O  O  O O  O  O  O O O O  O O O  B-TOTAL O O O O O  O  O  O  O  O  O O  O  O O  O O  O O  O O O  O  O  O O  O  O O O O O  O O O O  O O O O O  O O O  O O O O  O O O O  ', 'B-COMPANY I-COMPANY I-COMPANY I-COMPANY I-COMPANY I-COMPANY I-COMPANY B-ADDRESS I-ADDRESS I-ADDRESS I-ADDRESS I-ADDRESS B-ADDRESS I-ADDRESS I-ADDRESS I-ADDRESS O O O  O O O  O O O O O  O O O O  O  B-DATE I-DATE O O O O O  O O O O O O  O O O  O O O O  O O  O O  O  O  O  O  O  O  O  O  O O  O  O  O  O  B-ADDRESS O  O  O  B-ADDRESS O  O  B-ADDRESS O  O O  O  O  O  O  B-ADDRESS O  O O O  O  O  O  O  O  O  O  O  O O O O O  O  O  O  O O O O O  O  O O O  O  O O  B-TOTAL O  O O O O O O O  O O O O O O  O O O O O O O  O O O O O O O O  O O O O O O O  O O  O O  O O  ', 'B-COMPANY I-COMPANY I-COMPANY I-COMPANY B-COMPANY I-COMPANY O O O O  O O  O  O  O  O  O O  O  O  B-DATE I-DATE O O O  O  O  O O O  O O  O  O  O  O  O  B-TOTAL O O O  O O O  O  O  O  O  O O  O O  O O  O O O O O  O O O  O  O  O  O  O  O  ', 'B-COMPANY I-COMPANY I-COMPANY I-COMPANY O O O O O  O O O  B-ADDRESS I-ADDRESS I-ADDRESS I-ADDRESS I-ADDRESS I-ADDRESS I-ADDRESS I-ADDRESS I-ADDRESS B-ADDRESS I-ADDRESS O O O  O O O  B-DATE I-DATE I-DATE O O O  O  O O O O  O  O  O  B-TOTAL I-TOTAL O O O O O  O O  O  O  O  O  O  O  O O  O  O O  O  O  O  O  O O O O  O O O O  O O  O  O  O O  O  O  O O O O  O  O O  O O O  ', 'B-COMPANY I-COMPANY I-COMPANY O  B-ADDRESS I-ADDRESS I-ADDRESS I-ADDRESS B-ADDRESS I-ADDRESS I-ADDRESS I-ADDRESS I-ADDRESS B-ADDRESS I-ADDRESS I-ADDRESS O O O O  O O  O O O  O O  O  B-DATE I-DATE I-DATE O  O  O  O  O  O O  O O  O  O  O  O O  O O  O  O  O  O O  O O  O  O  O  O O O  O O O  O  O O O O  O  O O  B-TOTAL O O  O  O O  O  O  O  O O  O  O  ', 'B-COMPANY I-COMPANY I-COMPANY I-COMPANY I-COMPANY I-COMPANY I-COMPANY B-ADDRESS I-ADDRESS I-ADDRESS I-ADDRESS I-ADDRESS B-ADDRESS I-ADDRESS I-ADDRESS I-ADDRESS O O O  O O O  O O O O O  O O O O  O  B-DATE I-DATE O O O O O  O O O O O O  O O O  O O O O  O O O  O O  O  O  O  O  O  O  O  O O  O  O  O  O  O  O  O  O  O  O  O  O  O  O O  O  O  B-ADDRESS O  O  O  O O O  O  O  O  O  O  O  O  O  O O O O O  O  O  O  O O O O O  O  O O O  O  O O  B-TOTAL O  O O O O O O O  O O O O O O  O O O O O O O  O O O O O O O O  O O O O O O O  O O  O O  O O  O  O  ', 'B-COMPANY I-COMPANY I-COMPANY I-COMPANY B-DATE I-DATE I-DATE I-DATE O  B-ADDRESS I-ADDRESS I-ADDRESS I-ADDRESS I-ADDRESS B-ADDRESS I-ADDRESS I-ADDRESS O O  O O O O  O  O  O  O O O O  O  O  O O O  O  O  O  B-TOTAL I-TOTAL I-TOTAL O O O  O O O  O O  O  O  O  O  O  O O  O  O  O O O O  O  O  O O O  O O O O  O O O O  O O O O O  O O O O O O  O  O  ', 'B-COMPANY I-COMPANY I-COMPANY I-COMPANY O  B-ADDRESS I-ADDRESS I-ADDRESS I-ADDRESS I-ADDRESS I-ADDRESS B-ADDRESS I-ADDRESS I-ADDRESS B-ADDRESS I-ADDRESS I-ADDRESS B-ADDRESS I-ADDRESS I-ADDRESS O O O  O O O  O O O O  O O  B-ADDRESS I-ADDRESS O O  B-DATE I-DATE O  O O  O O  O O  O  O  O  O  O  O  O  O  O  O  O  O  O  O  O  O O  O O  O  O  O O O O O  O  O O  O  O O O  O  O O  O  O O O O O O  O  O O  O  O O  O  O O  O O  O  O O  O O  O  O  O  O  O O  B-TOTAL O  O O O O O O O  ', 'B-COMPANY I-COMPANY I-COMPANY I-COMPANY B-DATE I-DATE I-DATE I-DATE O  B-ADDRESS I-ADDRESS I-ADDRESS I-ADDRESS I-ADDRESS B-ADDRESS I-ADDRESS I-ADDRESS O  O O O O  O  O  O  O O O O  O  O  O  O O O  O  O  O  O O O  O  O  O  O O O  O  O  O  B-TOTAL I-TOTAL I-TOTAL O O O  O O O  O O  O  O  O  O  O  O O  O  O  O O O O  O  O  O O O  O O O O  O O O O  O O O O O  O O O O O O  O  ', 'B-COMPANY I-COMPANY I-COMPANY I-COMPANY I-COMPANY B-ADDRESS I-ADDRESS I-ADDRESS I-ADDRESS I-ADDRESS B-ADDRESS I-ADDRESS I-ADDRESS I-ADDRESS B-ADDRESS I-ADDRESS I-ADDRESS B-ADDRESS I-ADDRESS O O O O O  O O O O  O  O  B-DATE O O O O  B-TOTAL I-TOTAL O O O O  O O O O O  O O  O O  O  O O  O O O  O  O  O  O  O O O O O  O O O O O O  O  O  ', 'B-COMPANY I-COMPANY I-COMPANY I-COMPANY B-DATE I-DATE I-DATE I-DATE O  B-ADDRESS I-ADDRESS I-ADDRESS I-ADDRESS I-ADDRESS B-ADDRESS I-ADDRESS I-ADDRESS O  O O O O  O  O  O  O O O O O O O  O  O  O  O O O  O  O  O  B-TOTAL I-TOTAL I-TOTAL O O O  O O O  O O  O  O  O  O  O  O O  O  O  O O O O  O  O  O O O  O O O O  O O O O  O O O O O  O O O O O O  O  ', 'B-COMPANY I-COMPANY I-COMPANY I-COMPANY O  B-ADDRESS I-ADDRESS I-ADDRESS I-ADDRESS I-ADDRESS B-ADDRESS B-ADDRESS I-ADDRESS I-ADDRESS O O  O O O  O O O  O  O O  O O  B-DATE I-DATE O  O O  O O  O  O O  O  O  O  O  O  O  O  O  O  O O O  O O  O  O  O O O O  O  O O  O  O O O  O  O O  O  O O O O O  B-TOTAL O O  O  O O  O  O O  O O  O  O  O  O  O  O  O  O  O  O  O O O O O O  O  ', 'B-COMPANY I-COMPANY I-COMPANY I-COMPANY B-ADDRESS I-ADDRESS I-ADDRESS I-ADDRESS I-ADDRESS B-ADDRESS I-ADDRESS I-ADDRESS I-ADDRESS B-ADDRESS I-ADDRESS I-ADDRESS I-ADDRESS O O O O  O O O O  O O O O  O O  O O  O O O  O  O  O O O O  O O O O O  O  O O  O  O O  O  O O  O  O  O O O O  O  O O  O  O O O  O  O  O  O O O O O O O  O  O O  O  O O  O  O O  O  O O  O  O  O  O  O  O  O  O O O  O O O O  B-DATE I-DATE I-DATE I-DATE I-DATE O O O O O  O O O O O O  O O O O O O  O O O O O O  O O O O O O O  O O  O O  O O  O O O  O  O  O  O  O  O O  O O  O  O  O  O  O O O  O  O  O  O  O  O  O  O  O  B-TOTAL O  O  ', 'B-COMPANY I-COMPANY I-COMPANY I-COMPANY I-COMPANY B-ADDRESS I-ADDRESS I-ADDRESS B-ADDRESS I-ADDRESS B-ADDRESS I-ADDRESS I-ADDRESS B-ADDRESS O O  O O O O  O O  O O  O  B-DATE I-DATE I-DATE I-DATE O  O O  O O  O O  O O  O  O O O O O  O O  O O O O O  O O  O  O O O O  O O  O O O O O  O O  O  O O  O  O O  O  O O O O  O  O O  O  O O O  O  O O  O  O O O  B-TOTAL O O  O  O  O  O  O  O  O  ', 'B-COMPANY I-COMPANY I-COMPANY I-COMPANY O  B-ADDRESS I-ADDRESS I-ADDRESS I-ADDRESS B-ADDRESS I-ADDRESS I-ADDRESS O O O  O O O  O O O O  O O  O O O  O O O O  O O O O O  O O O  B-ADDRESS I-ADDRESS O  O O  O  O  B-DATE I-DATE O  O  O  O O  O  O  O  O  O  O  O  O  O  O  O  O  O  O  O  O  O  O  O  O O O  O  O  O  O  O  O O  O  O  O O O O  O  O  O  O  O  O O  O  O  O  O  O  O O O O O  O  B-TOTAL O  O  O  O  O  O  O O  O O  O  O O  O O  O  O  O  O  O O  O  O  O O O O O O O  ', 'B-COMPANY I-COMPANY I-COMPANY I-COMPANY I-COMPANY I-COMPANY B-ADDRESS I-ADDRESS I-ADDRESS I-ADDRESS I-ADDRESS B-ADDRESS I-ADDRESS I-ADDRESS B-ADDRESS I-ADDRESS I-ADDRESS O O  O O O O  O O  O  O O  O O  O  O  O O  O  O  O  O  O  O O  O  O O  O  O  O  O O  O  O O  O  O  O  O O  O  O O O  O  O  O  O O  O  O O  O  O  O  O O  O  O O O O  O  O  O  O O  O O O  O O O  O O  O  O O O O  O O  O  O  O  O  O  B-TOTAL O  O  O  O  O O O  B-DATE I-DATE I-DATE ', 'O O  O O O O  B-ADDRESS I-ADDRESS I-ADDRESS B-ADDRESS I-ADDRESS I-ADDRESS B-ADDRESS I-ADDRESS I-ADDRESS B-COMPANY I-COMPANY I-COMPANY O O O O  O O O O  B-DATE I-DATE O O  O O O  O O O O  O  O  O  O  O O  O  O  O  O  O  O O  O O  O  O  O O O  O  O  O  O O  O  O O  O  O O  O O  O O  O  O O  O  O O O O O O  O O O O O O  O O O  O  B-TOTAL O  O  ', 'B-COMPANY I-COMPANY I-COMPANY B-COMPANY I-COMPANY B-COMPANY I-COMPANY I-COMPANY O  B-ADDRESS I-ADDRESS I-ADDRESS I-ADDRESS I-ADDRESS B-ADDRESS I-ADDRESS I-ADDRESS I-ADDRESS B-ADDRESS I-ADDRESS I-ADDRESS I-ADDRESS I-ADDRESS O O O O O O O O  O O O  O O O  O  B-DATE I-DATE I-DATE I-DATE I-DATE O O O  O O  O  O  O  O  O  O  O  O  O  O  O  O O O O  O O  O  O O  O  O  O  O  O  O  O  O  B-TOTAL O  O  O O O O O O  O O  O  O  O  O  O  O  O  O  O O  O  O O O O O  O O O O O  O O O O O O  O O O O O O  O O O O O O O O  O O O  ', 'O O O O O  O O O O O  O O O O O O  O O  O O O O O  B-COMPANY I-COMPANY I-COMPANY I-COMPANY I-COMPANY O  B-ADDRESS I-ADDRESS I-ADDRESS B-ADDRESS I-ADDRESS I-ADDRESS B-ADDRESS I-ADDRESS I-ADDRESS O O O O O  O O  O O  O  B-DATE I-DATE I-DATE I-DATE I-DATE O  O O  O O O  O O O O O  O O O O O  O O O O  O O O  O O  O O O O  O O O  O O  O O O O  O O O  B-TOTAL O  O  O  O  O O O O  O O O O O O  O O  O O  O  O  O O  O  O  O O  O  O  O O O O O O  ', 'B-COMPANY I-COMPANY I-COMPANY I-COMPANY I-COMPANY O O  B-ADDRESS I-ADDRESS I-ADDRESS I-ADDRESS I-ADDRESS I-ADDRESS I-ADDRESS B-ADDRESS I-ADDRESS I-ADDRESS B-ADDRESS I-ADDRESS I-ADDRESS I-ADDRESS O O O O  O O  O O  O O O O  O  O O O  O  O  O  O  O  O O O O O  O  O O O  O  O  O  O  O  O O  O  O  O  O  O  O  O  O  O  O  B-ADDRESS O O O  O  O  B-TOTAL I-TOTAL O O  O O  O O O O O  O O  B-DATE I-DATE I-DATE I-DATE O O  O O O  O O O O  O O O O  O O O O  ', 'O  B-COMPANY I-COMPANY I-COMPANY I-COMPANY I-COMPANY B-ADDRESS I-ADDRESS I-ADDRESS B-ADDRESS I-ADDRESS B-ADDRESS I-ADDRESS I-ADDRESS B-ADDRESS O O O O  O O O O  O O  O O  O O  O  B-DATE I-DATE O O  O  O  O  O O O O O  O O  O  O  O  O  O O  B-TOTAL O O O  O  O O O  O  O O O  O  O O  O  O O O  O  O O O O  O O  O  O  O  O O  O  O  O O  O O O  ', 'B-COMPANY I-COMPANY I-COMPANY I-COMPANY I-COMPANY B-ADDRESS I-ADDRESS I-ADDRESS I-ADDRESS I-ADDRESS B-ADDRESS I-ADDRESS B-ADDRESS I-ADDRESS I-ADDRESS B-ADDRESS I-ADDRESS O O O O O  O O O O  O  O  B-DATE O O O O O  O O  O O O O  O O O O O  O O  O O O O  O O  O O O O O  O O  O O O O  O O O O O  O O  O O O O O O  O O  O O O O  O O O O  O O  O O O O  O O O O O  O O O  O  O O  B-TOTAL O O  O  O O  O  O O  O  O  O O O  O  O  O O O  O  O  O O O O O  O O O O O O  O  ', 'B-COMPANY I-COMPANY I-COMPANY O  B-ADDRESS I-ADDRESS I-ADDRESS I-ADDRESS B-ADDRESS I-ADDRESS I-ADDRESS I-ADDRESS I-ADDRESS B-ADDRESS I-ADDRESS I-ADDRESS O O O O  O O  O O O  O O  O  B-DATE I-DATE I-DATE O  O  O  O  O  O O  O O  O  O  O  O O  O O  O  O  O  O O O  O O O  O  O O O O  O  O O  B-TOTAL O O  O  O O  O  O  O  O O  O  O  ', 'B-COMPANY I-COMPANY I-COMPANY I-COMPANY I-COMPANY B-ADDRESS I-ADDRESS I-ADDRESS I-ADDRESS I-ADDRESS B-ADDRESS I-ADDRESS B-ADDRESS I-ADDRESS I-ADDRESS B-ADDRESS I-ADDRESS I-ADDRESS O O O O O  O O O O  O  O  B-DATE O O O O O  O O O O  O O O O O  O O  O O  O O  O  O  O O O  O  O  O O O O O  O O O O O O  B-TOTAL I-TOTAL O  O  O  ', 'O O O O  B-COMPANY I-COMPANY I-COMPANY I-COMPANY I-COMPANY O  B-ADDRESS I-ADDRESS I-ADDRESS I-ADDRESS B-ADDRESS I-ADDRESS I-ADDRESS I-ADDRESS O  O O O O  O O  O O  O O  O O  O  O  O O O O  O O O  O O  O  O  O  O  O  O  O O O O  O O O O O  O O O O  O O O O  O O  O  O  O O O  O O  O O  O O O  O O  O  O  O  O  O  O O  O  O  O  O  O  O  B-TOTAL O  O  O  O O  B-DATE I-DATE I-DATE I-DATE I-DATE I-DATE O O  O O O  O O O O O  O O O  O O O  O  O O O  O  O  ', 'B-COMPANY I-COMPANY I-COMPANY I-COMPANY B-ADDRESS I-ADDRESS O  O O O O  B-ADDRESS I-ADDRESS I-ADDRESS I-ADDRESS B-ADDRESS I-ADDRESS I-ADDRESS I-ADDRESS I-ADDRESS B-ADDRESS I-ADDRESS O O O O  O O  O O  B-DATE O  O O O O O  O  O O O O O O  O  O O O O O  O  O  O  O  O O  O O  O O  O  O O O  O O O O O O O O O O  B-ADDRESS I-ADDRESS O  O O  O  O O O O O  O  O  O  O O O O  O  O  O  O  B-TOTAL O  O O  O  O O  O O O  O O O  O  O  O  O  O O O O  ', 'B-COMPANY I-COMPANY I-COMPANY I-COMPANY I-COMPANY O  O O O  B-ADDRESS I-ADDRESS I-ADDRESS I-ADDRESS I-ADDRESS I-ADDRESS B-ADDRESS I-ADDRESS I-ADDRESS I-ADDRESS I-ADDRESS B-ADDRESS O O O O  O O O O O  O O O  O O  O O O  O O  B-DATE I-DATE I-DATE I-DATE I-DATE I-DATE O O  O O O  O O  O O O  O O O O O  O O O  O O  O O O  O  O  O O O O  O O  O O  O  O O O O  O  B-TOTAL O  O  O  O O O O O O  ', 'B-COMPANY I-COMPANY I-COMPANY I-COMPANY I-COMPANY O O  B-ADDRESS I-ADDRESS I-ADDRESS I-ADDRESS I-ADDRESS I-ADDRESS I-ADDRESS B-ADDRESS I-ADDRESS I-ADDRESS B-ADDRESS I-ADDRESS I-ADDRESS I-ADDRESS O O O O  O O  O O  O O O O O O  O  O O O  O  O O O  O  O O O  O  O O O  O  O O  O  O  O O O  O  O O O  O  O O  O  O  O O  O  O O O  O  O O  O  O  O O  O  O  O O  O  O  O O O  O O O  O O O  B-TOTAL I-TOTAL O  O O  O  O O  O O O O O  O O  B-DATE I-DATE I-DATE I-DATE O O  O O O  O O O O  O O O O  O O O O  ', 'B-COMPANY I-COMPANY I-COMPANY I-COMPANY I-COMPANY B-ADDRESS I-ADDRESS I-ADDRESS I-ADDRESS I-ADDRESS I-ADDRESS B-ADDRESS I-ADDRESS I-ADDRESS I-ADDRESS B-ADDRESS I-ADDRESS I-ADDRESS I-ADDRESS O O O O  O O  O O O O O  O O O O O  O O O  O O  O  O O O  O O  O  O O  O O  O  O O O  O O  O  O O O  O O O  O  O O  O  O O  O O  O  O O O  O O  O  O O O  O O  O  O O  O O  O  O O O  O O  O  O O O  O O  O  O O O  O O  O  O O  O O  O  O  O O  O  O O O O  O O  O  O O  O O  O  O O O  O  O  O O O O  B-TOTAL O O  O  O O O O O  O  O  O  O O O  O O  O  O O O  O O  O  O  O O O  O  O  O O O  O  O  O  O  O  B-DATE I-DATE O O O  O O O O  O O O  O O O  O O O O O  O O O  ', 'B-COMPANY I-COMPANY I-COMPANY I-COMPANY I-COMPANY I-COMPANY I-COMPANY O  B-ADDRESS I-ADDRESS I-ADDRESS I-ADDRESS I-ADDRESS I-ADDRESS I-ADDRESS B-ADDRESS I-ADDRESS I-ADDRESS O O O O O  O O  O O  O  O O  O  B-DATE I-DATE I-DATE O O O  O  O  O  O  O O  B-ADDRESS O  O O  O O  B-ADDRESS O  O O  O O O  B-ADDRESS O  O O  O O O O O O  B-ADDRESS O  O O  O  O O O  O  O O O O  O  O O  B-TOTAL O O  O  O  O O O  O O  O  O O  O  O  O  O O  O  O  O O O O  O O O  ', 'B-COMPANY I-COMPANY I-COMPANY I-COMPANY B-ADDRESS I-ADDRESS I-ADDRESS I-ADDRESS I-ADDRESS B-ADDRESS I-ADDRESS B-ADDRESS I-ADDRESS I-ADDRESS I-ADDRESS I-ADDRESS O O  O O O O  O O  O O O  B-DATE I-DATE O O O O  O  O  O  O  O O O O  O  O  O  O  O  O  O  O  O  O  O O O  O  O O O  B-TOTAL O  O  O O  O  O  O  O  O  O  O  O O O  O O O  O O  O O O  ', 'B-COMPANY I-COMPANY I-COMPANY B-ADDRESS I-ADDRESS I-ADDRESS I-ADDRESS I-ADDRESS I-ADDRESS I-ADDRESS B-ADDRESS I-ADDRESS I-ADDRESS O O O O O  O O O  O O O O  O O  O O O  O O O O O  O O O  O O  O O O  O O  O O O  O O O O O  O O O  O  O  O  O O O O  O  O  O  O O O O O  O  O  O O  O O  O  O  B-TOTAL O  O  O  O  O  O  O O  O  O  O O O  O  O  O O O  B-DATE I-DATE I-DATE O O O O O O O  O O O O O  O O O  O O O O O  O O O O O O O O  O O O O O O  O O  O O O O O O  ', 'B-COMPANY I-COMPANY I-COMPANY I-COMPANY I-COMPANY I-COMPANY I-COMPANY B-ADDRESS I-ADDRESS I-ADDRESS I-ADDRESS I-ADDRESS B-ADDRESS I-ADDRESS I-ADDRESS I-ADDRESS O O O  O O O  O O O O O  O O O O  O  B-DATE I-DATE O O O O O  O O O O O O  O O O  O O O O  O O O  O O  O  O O  O  O O  O O O  O  O  O O O O O  O  O  O  O O O O O  O  O O O  O  O O  B-TOTAL O  O O O O O O O  O O O O O O  O O O O O O O  O O O O O O O O  O O O O O O O  O O  O O  O O  O  O  O  O  O  O  O  O  O  O  O  O  O  O  O  O  O  O  O  O  O  O  O  O  O  O  O  O  O  O  O  ', 'O  B-COMPANY I-COMPANY I-COMPANY B-COMPANY I-COMPANY I-COMPANY I-COMPANY I-COMPANY O  B-ADDRESS I-ADDRESS I-ADDRESS I-ADDRESS B-ADDRESS I-ADDRESS I-ADDRESS I-ADDRESS B-ADDRESS I-ADDRESS I-ADDRESS O O O O O O O  O O O O  O O O O  B-DATE O O O O  O  O O O  O  O  O O  O O O O  O  O  O O  O O  O O O O O  O  O  O  O  O O  O  O  B-TOTAL O  O  O  O  O  O O  O  O O  O O O  O  O  O O O  O  O  O  O  O O O O O O  O O O O O O O  O O O O O  O  O  ', 'B-COMPANY I-COMPANY I-COMPANY I-COMPANY I-COMPANY O O O  B-ADDRESS I-ADDRESS I-ADDRESS I-ADDRESS I-ADDRESS I-ADDRESS I-ADDRESS I-ADDRESS B-ADDRESS I-ADDRESS I-ADDRESS I-ADDRESS I-ADDRESS B-ADDRESS I-ADDRESS I-ADDRESS I-ADDRESS I-ADDRESS I-ADDRESS O O O O  O O O O  O O  B-DATE I-DATE O  O  O  O  B-ADDRESS O O  O O  B-ADDRESS O O O  O O  O  O  B-TOTAL O  O  O  O  O O O  O  O O O O  O O  O  O  O O  O  O  O O O  O  O  O  O  O O  O O O O O O O  O O O O O  O O O O O O  O O O O  O O O O O O  O O O  O O O O O O  O O O O O  O O O O O O  O O O O O O O  O O O O O O  O O O O  O O O O  O O  O  ', 'O  B-COMPANY I-COMPANY I-COMPANY I-COMPANY I-COMPANY B-ADDRESS I-ADDRESS I-ADDRESS I-ADDRESS B-ADDRESS I-ADDRESS I-ADDRESS I-ADDRESS I-ADDRESS I-ADDRESS I-ADDRESS B-ADDRESS I-ADDRESS I-ADDRESS I-ADDRESS I-ADDRESS I-ADDRESS O O O  O O O  O  O O  O O O  O  O O O  O O O  O O O  O O O O O  O  O  O  O  O  O O O  O  O  O  O  O  O  O O O O O O  O  O  O  O  O  O O O O  O  O  O  O  O  O  O O O O  O  O  O  O  O  O  O O O O  O  O  O  O  O  O  O O O O  O  O  O  O  O  O  O O  O  O  O  O  B-TOTAL O O  O O O  O  O  O  O  O O  O O O  O O O  O O O O  O  O  O  O  O  O O  O  O O O O O O  O  B-DATE I-DATE I-DATE I-DATE O O O O O O O  O O O O O  O O O O O O O O  O O O O O O O  O O O O O O O  O O O O O O  O  O O O O O O  O O  O  O  O  O  O  O  O  ', 'B-COMPANY I-COMPANY I-COMPANY I-COMPANY I-COMPANY I-COMPANY I-COMPANY B-ADDRESS I-ADDRESS I-ADDRESS I-ADDRESS I-ADDRESS B-ADDRESS I-ADDRESS I-ADDRESS I-ADDRESS O O O  O O  O O O  O O O O O  O O O O  O  B-DATE I-DATE O O O O O  O O O O O O  O O O  O O O O  O O  O O  O  O  O  O  O  O  O  O  O O  O  O  O  O  O  O  O  O  O  B-ADDRESS O  O  O  O O  O  O  O  O  B-ADDRESS O  O O O  O  O  O  O  O  O  O  O  O  O  O  O  O  O  O  O O O O O  O  O  O  O O O O O  O  O O O  O  O O  B-TOTAL O  O O O O O O O  O O O O O O  O O O O O O O  O O O O O O O O  O O O O O O O  O O  O O  ', 'B-COMPANY I-COMPANY I-COMPANY I-COMPANY B-DATE I-DATE I-DATE I-DATE O  B-ADDRESS I-ADDRESS I-ADDRESS I-ADDRESS I-ADDRESS B-ADDRESS I-ADDRESS I-ADDRESS O  O O O O  O  O  O  O O O O O O O  O  O  O  B-TOTAL I-TOTAL I-TOTAL O O O  O O O  O O  O  O  O  O  O  O O  O  O  O O O O  O  O  O O O  O O O O  O O O O  O O O O O  O O O O O O  O  ', 'B-COMPANY I-COMPANY I-COMPANY I-COMPANY O  B-ADDRESS I-ADDRESS I-ADDRESS I-ADDRESS B-ADDRESS I-ADDRESS I-ADDRESS O O O  O O O  O O O O  O O  O O O  O O O O  O O O O O  O O O  B-ADDRESS I-ADDRESS O  O O  O  O  B-DATE I-DATE O  O  O  O O  O  O  O  O  O  O  O  O  O  O  O  O  O O O O  O  O  O  O  O  O  O O O O  O  O  O  O  O  O O  O  O  O O O O  O  O  O  O  O  O O  O  O  O  O  O  O O O O O  O  B-TOTAL O  O  O  O  O  O  O O  O O  O  O O  O O  O  O  O  O  O O  O  O  O O O O O O O  ', 'B-COMPANY I-COMPANY I-COMPANY I-COMPANY I-COMPANY O  B-ADDRESS I-ADDRESS I-ADDRESS I-ADDRESS I-ADDRESS I-ADDRESS B-ADDRESS I-ADDRESS I-ADDRESS I-ADDRESS I-ADDRESS I-ADDRESS I-ADDRESS O O O O  O O  O O O  O O  O O  O O  O  O  O  O O  O O O O  O O O O  O  O O  B-TOTAL O O  O  O O  O  O O  O  O  O O O  O  O  O O O  O  O  O O O O O O O  O O  O O  B-DATE I-DATE ', 'B-COMPANY I-COMPANY I-COMPANY O  B-ADDRESS I-ADDRESS I-ADDRESS I-ADDRESS B-ADDRESS I-ADDRESS I-ADDRESS I-ADDRESS I-ADDRESS B-ADDRESS I-ADDRESS I-ADDRESS O O O O  O O  O O O O  O O  O  B-DATE I-DATE I-DATE O  O  O  O  O  O O  O O  O  O  O  O O  O O  O  O  O  O O  O O  O  O  O  O O  O O  O  O  O  O O O  O O O  O  O O O  O  O O O O  O  O O  B-TOTAL O O  O  O O  O  O  O  O O  O  O  ', 'B-COMPANY I-COMPANY B-COMPANY I-COMPANY I-COMPANY I-COMPANY O O O  O O O O  B-ADDRESS I-ADDRESS I-ADDRESS I-ADDRESS I-ADDRESS I-ADDRESS I-ADDRESS B-ADDRESS I-ADDRESS I-ADDRESS I-ADDRESS O O O  O O O  B-DATE I-DATE O O  O O O O  O O O  O O O O O  O O O O  O  O  O O O O  O O O  O O  O O  O  O O O O O  O  O  B-TOTAL O  O  O O  O O  O O O  O O  O  O O  O  O  O O  O  O O O O O  O O O O  O O O O O  O  O O O O  O  ', 'B-COMPANY I-COMPANY I-COMPANY O  B-ADDRESS I-ADDRESS I-ADDRESS I-ADDRESS B-ADDRESS I-ADDRESS I-ADDRESS I-ADDRESS I-ADDRESS B-ADDRESS I-ADDRESS I-ADDRESS O O O O  O O  O O O  O O  O  B-DATE I-DATE I-DATE O  O  O  O O  O O  O O  O  O O  O O  O O  O  O O  O O  O O  O  O O  O O O  O O O  O  O O O O  O  O  B-TOTAL O O  O  O O  O  O  O  O O  O  O  ', 'B-COMPANY I-COMPANY I-COMPANY I-COMPANY I-COMPANY B-ADDRESS I-ADDRESS I-ADDRESS I-ADDRESS I-ADDRESS B-ADDRESS I-ADDRESS B-ADDRESS I-ADDRESS I-ADDRESS B-ADDRESS O O O O O  O O O O  O  O  B-DATE O O O O  O O  O O O O  O O O O  O O  O O O O O  B-TOTAL O O  O  O O  O  O O  O  O  O O O  O  O  O O O O O  O O O O O O  ', 'B-COMPANY I-COMPANY I-COMPANY I-COMPANY I-COMPANY O  B-ADDRESS I-ADDRESS I-ADDRESS I-ADDRESS I-ADDRESS I-ADDRESS I-ADDRESS B-ADDRESS I-ADDRESS I-ADDRESS B-ADDRESS I-ADDRESS I-ADDRESS I-ADDRESS O O O O  O  O O  O O O  O O O  O  O O O  O  O O O  O O O  O O O  O  O  O O O O O  B-TOTAL I-TOTAL O O  O O  O O  B-DATE I-DATE I-DATE I-DATE O O O O O O  O O O O  O O O O  O O O O  O  O O  ', 'B-COMPANY I-COMPANY O  B-ADDRESS I-ADDRESS I-ADDRESS I-ADDRESS I-ADDRESS B-ADDRESS I-ADDRESS I-ADDRESS B-ADDRESS I-ADDRESS B-ADDRESS I-ADDRESS I-ADDRESS I-ADDRESS O O O O O O O  O O  O O O O  O O  O O  O O O O O  O O O  O O O O  B-DATE I-DATE I-DATE O  O  O  O  O O  O  O  O O O O O  O  O  O  O  O  O  O O  O  O O O  O  O O O O O O  B-TOTAL O O O O  O  O O O  O  O O  O  O O  O O  O O  O O O  O  O  O O O O O  ', 'B-COMPANY I-COMPANY I-COMPANY I-COMPANY I-COMPANY O O  B-ADDRESS I-ADDRESS I-ADDRESS I-ADDRESS I-ADDRESS I-ADDRESS I-ADDRESS B-ADDRESS I-ADDRESS I-ADDRESS B-ADDRESS I-ADDRESS I-ADDRESS I-ADDRESS O O O O  O O  O O  O O O O O  O  O O O  O  O  O  O  O  O O O  O O O  O O O  B-TOTAL I-TOTAL O  O O  O  O O  O O O O O  O O  B-DATE O  O  O  O  O  O O O  O O O O  O O O O  O O O O  ', 'B-COMPANY I-COMPANY I-COMPANY I-COMPANY I-COMPANY B-ADDRESS I-ADDRESS I-ADDRESS I-ADDRESS I-ADDRESS I-ADDRESS B-ADDRESS I-ADDRESS I-ADDRESS I-ADDRESS B-ADDRESS I-ADDRESS I-ADDRESS I-ADDRESS O O O O  O O  O O O O O  O O O O O  O O  O  O O  O O  O  O O O  O O  O  O O O  O O  O  O O O  O  O  O O O O  O  O O  O  O O O O O  B-TOTAL O  O  O O O  O O  O  O O O  O O  O  O  O O O  O  O  O O O  O  O  O  O  O  B-DATE I-DATE O O O  O O O O  O O O  O O O  O O O O O  O O O  ', 'B-COMPANY I-COMPANY I-COMPANY O  B-ADDRESS I-ADDRESS I-ADDRESS I-ADDRESS B-ADDRESS I-ADDRESS I-ADDRESS I-ADDRESS I-ADDRESS B-ADDRESS I-ADDRESS I-ADDRESS O O O O  O O  O O O  O O  O  B-DATE I-DATE I-DATE O  O  O  O  O  O O  O O  O  O  O  O O  O O  O  O  O  O O  O O  O  O  O  O O O  O O O  O  O O O O  O  O O  B-TOTAL O O  O  O O  O  O  O  O O  O  O  ', 'B-COMPANY I-COMPANY O  B-ADDRESS I-ADDRESS I-ADDRESS I-ADDRESS I-ADDRESS B-ADDRESS I-ADDRESS I-ADDRESS B-ADDRESS I-ADDRESS I-ADDRESS I-ADDRESS O O O O  O O O O  O O O  O  B-ADDRESS I-ADDRESS O  O  O O  O O  B-DATE I-DATE O O  O O  O  O  O  O  O  O  O  O  O  O  O O O O O O O O O  O O  O  B-TOTAL O O O O O  O  O O  O O O  O O  O O O O O O  O O  O O  O  O  O  O  O  O  O O  O O  O  O  O  O O  O  O O  O  O O  O  O  O O O O O O O  ', 'B-COMPANY I-COMPANY I-COMPANY I-COMPANY O  B-ADDRESS I-ADDRESS I-ADDRESS I-ADDRESS I-ADDRESS I-ADDRESS B-ADDRESS I-ADDRESS I-ADDRESS B-ADDRESS I-ADDRESS I-ADDRESS B-ADDRESS I-ADDRESS I-ADDRESS O O O  O O O  O O O O  O O  B-ADDRESS I-ADDRESS O O  B-DATE I-DATE O  O O  O O  O O  O  O  O  O  O  O  O  O  O  O  O  O  O  O  O  O O  O O  O  O  O O O O O  O  O O  O  O O O  O  O O  O  O O O O O O  B-TOTAL O O O O O O  O  O O  O  O O  O O  O  O O  O O  O  O  O  O  O O  O  O  O O O O O O O  ', 'B-COMPANY I-COMPANY I-COMPANY I-COMPANY I-COMPANY O O O  B-ADDRESS I-ADDRESS I-ADDRESS I-ADDRESS I-ADDRESS I-ADDRESS I-ADDRESS B-ADDRESS I-ADDRESS I-ADDRESS I-ADDRESS B-ADDRESS I-ADDRESS I-ADDRESS I-ADDRESS I-ADDRESS O O O O O  O O O O  O O  O O O O O  O  O O O  O  O O O  O  O O O  O  O O O  O  O O O  O  O  O O  O O  O O  O O O O O  O  O  B-TOTAL O  O  O O  O O  O  O  O O  O  O O  O  O  O  O O  O  O O  O O O  O O O O  O O O O O  B-DATE I-DATE I-DATE I-DATE I-DATE ', 'O  B-COMPANY I-COMPANY I-COMPANY O O O O O O  B-ADDRESS B-ADDRESS I-ADDRESS I-ADDRESS B-ADDRESS I-ADDRESS B-ADDRESS I-ADDRESS B-ADDRESS O O  B-DATE I-DATE I-DATE O  O  O O O  O  O O O  O  O  O  O O O O  O  O  O  O O O O  O  O  O  O O O O  O  O  O  O O O O  B-TOTAL O O  O  O  O  O O  O  O  O  O  O O  O  O O  O  O O  O  O  O O O  O  O  O O  O  O  O O  O  O O O O O  O O O O  O  O  O  ', 'B-COMPANY I-COMPANY I-COMPANY I-COMPANY B-DATE I-DATE I-DATE I-DATE O  B-ADDRESS I-ADDRESS I-ADDRESS I-ADDRESS I-ADDRESS B-ADDRESS I-ADDRESS I-ADDRESS O O  O O O O  O  O  O  O O O O O O O  O  O  O  O O O  O  O  O  B-TOTAL I-TOTAL I-TOTAL O O O  O O O  O O  O  O  O  O  O  O O  O  O  O O O O  O  O  O O O  O O O O  O O O O  O O O O O  O O O O O O  O  ', 'B-COMPANY I-COMPANY I-COMPANY I-COMPANY I-COMPANY O O O  B-ADDRESS I-ADDRESS I-ADDRESS I-ADDRESS I-ADDRESS I-ADDRESS I-ADDRESS B-ADDRESS I-ADDRESS I-ADDRESS B-ADDRESS I-ADDRESS I-ADDRESS I-ADDRESS O O O O  O O O  O O  O O O O  O  O O O  O  O O  O O O O  O  O  O O  O  O O O  O  O O  O O O O O O  O  O  O O O O O O  O  O O O  O  O O O  O O O O O  O O O O O  O  O O O  O O O  O O O  B-TOTAL I-TOTAL O  O O  O  O O  O O  O  O  O O  O  O  B-DATE I-DATE I-DATE I-DATE O O  ', 'O  O  O O O O O O O O O O O O O O  O O O O O O  O O O O O  O O O  O O O O  O O O  O O O O O O O O  O O O O O O  O O O  O O O  O O O  O O O O O O  O  O O  O  O O  O O  O O  O O  O O  O O O O  O O O O O O O  O O  O O O  O  O  O  O O  O  O  B-TOTAL O O  O  O  O  O  O  O O O  O  O O O O O  O O  O  O  O  O  O  O O  O O  B-DATE I-DATE ', 'B-COMPANY I-COMPANY I-COMPANY O  B-ADDRESS I-ADDRESS I-ADDRESS I-ADDRESS B-ADDRESS I-ADDRESS I-ADDRESS I-ADDRESS I-ADDRESS B-ADDRESS I-ADDRESS I-ADDRESS O O O O  O O  O O O  O O  O  B-DATE I-DATE I-DATE O  O  O  O  O  O O  O O  O  O  O  O O  O O  O  O  O  O O  O O  O  O  O  O O  O O  O  O  O  O O O  O O O  O  O O O O  O  O O  B-TOTAL O O  O  O O  O  O  O  O O  O  O  ', 'O O  B-COMPANY I-COMPANY O O O O O  B-COMPANY I-COMPANY I-COMPANY I-COMPANY B-ADDRESS I-ADDRESS I-ADDRESS I-ADDRESS I-ADDRESS B-ADDRESS I-ADDRESS I-ADDRESS I-ADDRESS I-ADDRESS I-ADDRESS B-ADDRESS O O O  O O O  O  O O  O  O O  O O O O  O  O O O  O O O  O  O  O  O  O  O  O  O  O  O  O  O  O  O O  O  O  O  O  O O  O  O  O O  O  B-TOTAL O  O  O  O O  O  O  O O O  O  O  O O O O O O  O O O O O  O O O O  O O  O O O O O O O  O O O  O O O  O O O O O  O O O  O O O O O O O O O O O O O  O  O O O O O O O  O O  O O O O O  O O  O O  O O O O O  O O O  O  B-DATE I-DATE ', 'B-COMPANY I-COMPANY I-COMPANY I-COMPANY I-COMPANY I-COMPANY I-COMPANY B-ADDRESS I-ADDRESS I-ADDRESS I-ADDRESS I-ADDRESS B-ADDRESS I-ADDRESS I-ADDRESS I-ADDRESS O O O  O O O  O O O O O  O O O O  O  B-DATE I-DATE O O O O O  O O O O O O  O O O  O O O O  O O O  O O  O  O O  O  O O  O O O  O  O  O  O  O O O O O  O  O  O  O O O O O  O  O O O  O  O O  B-TOTAL O  O O O O O O O  O O O O O O  O O O O O O O  O O O O O O O O  O O O O O O O  O O  O O  O O  O  O  O  O  O  O  O  O  O  O  O  O  O  O  O  O  O  O  O  O  O  O  O  O  O  O  O  O  O  O  O  O  O  O  O  O  O  O  O  O  O  O  O  O  ', 'B-COMPANY I-COMPANY I-COMPANY O  O O O O  B-ADDRESS I-ADDRESS I-ADDRESS I-ADDRESS I-ADDRESS B-ADDRESS I-ADDRESS I-ADDRESS B-ADDRESS I-ADDRESS I-ADDRESS I-ADDRESS I-ADDRESS O O  O O O  O O  O O  O O  O  B-DATE I-DATE O O  O  O O  O  O O  O  O  O  O  B-TOTAL I-TOTAL I-TOTAL I-TOTAL I-TOTAL I-TOTAL I-TOTAL O  O  O  O  O  O O O O O  O  O  O  O  O  O O O  O  O O O  O  O O O  O  O  O  O  O  O O  O  O O  O O O  O  O  O  O  O O  O O O  ', 'B-COMPANY I-COMPANY I-COMPANY I-COMPANY I-COMPANY O  O O O  O O O O O  O O O  B-ADDRESS I-ADDRESS I-ADDRESS I-ADDRESS I-ADDRESS I-ADDRESS B-ADDRESS I-ADDRESS I-ADDRESS I-ADDRESS I-ADDRESS I-ADDRESS B-ADDRESS O O O O  O O O  O O O  O O  O O O  O O  B-DATE I-DATE I-DATE I-DATE I-DATE O  O O  O  O O O  O  O O O  O O O  O O  O  O O O  O O  O  O O O O  B-TOTAL O O  O  O O  O  O  O  O O O O  O  O O O O O O  ', 'B-COMPANY I-COMPANY I-COMPANY B-ADDRESS I-ADDRESS I-ADDRESS B-ADDRESS I-ADDRESS I-ADDRESS B-ADDRESS O O  O  B-DATE I-DATE O  O O  O  O  O  O  O  O  O  O  B-TOTAL ', 'O O O  O O O O O O  O  B-ADDRESS I-ADDRESS I-ADDRESS I-ADDRESS I-ADDRESS I-ADDRESS I-ADDRESS B-COMPANY I-COMPANY B-ADDRESS I-ADDRESS I-ADDRESS B-ADDRESS O O O O  O  B-DATE I-DATE I-DATE O  O  O  O O  O  O  O  O  O  O  O  O  O O O O O  O O  O  B-TOTAL O  O  O  O O O  O  O O O O  O  O  O  O  O  O O O O O O  O  O  O  O O  O O O O  O  ', 'B-COMPANY I-COMPANY I-COMPANY I-COMPANY O  B-ADDRESS I-ADDRESS I-ADDRESS I-ADDRESS I-ADDRESS B-ADDRESS B-ADDRESS I-ADDRESS I-ADDRESS O O O  O O O O  O O O  O  B-ADDRESS I-ADDRESS O O O O O O O  O O  B-DATE I-DATE O  O  O O  O O  O O  O O  O  O  O  O  O  O  O  O  B-TOTAL O  O O  O O  O  O  O O O O O  O  O O  O  O O O  O  O O  O  O O O O O O  O  O O  O  O O  O  O O  O O  O  O  O  O  O  O  O  O O  O  ', 'B-COMPANY I-COMPANY I-COMPANY B-ADDRESS I-ADDRESS I-ADDRESS I-ADDRESS I-ADDRESS I-ADDRESS B-ADDRESS I-ADDRESS I-ADDRESS I-ADDRESS I-ADDRESS O O O  O O O O  O O  O O O O  O  B-DATE I-DATE I-DATE I-DATE O  O O  O  O  O  O  O O O  O  O  O  O O O O O O  O O  O  O  O  O O O O O  B-TOTAL O O  O  O  O O  O  O  O  O  O  O  O  O O O O O O O O O  O O O O O  O O O O O O O  ', 'B-COMPANY I-COMPANY I-COMPANY B-COMPANY I-COMPANY B-COMPANY I-COMPANY I-COMPANY O  B-ADDRESS I-ADDRESS I-ADDRESS I-ADDRESS I-ADDRESS B-ADDRESS I-ADDRESS I-ADDRESS I-ADDRESS B-ADDRESS I-ADDRESS I-ADDRESS I-ADDRESS I-ADDRESS O O O O O O O O  O O O  O O O  O  B-DATE I-DATE I-DATE I-DATE I-DATE O O O  O O  O  O  O  O  O  O  O  O  O  O  O  O O O O O  O O  O  O O  O  O  O  O  O  O  O  O  B-TOTAL O  O  O O O O O O  O O  O  O  O  O  O  O  O  O  O O  O  O O O O O  O O O O O  O O O O O O  O O O O O O  O O O O O O O O  O O O  ', 'B-COMPANY I-COMPANY I-COMPANY I-COMPANY I-COMPANY I-COMPANY I-COMPANY B-ADDRESS I-ADDRESS I-ADDRESS I-ADDRESS I-ADDRESS B-ADDRESS I-ADDRESS I-ADDRESS I-ADDRESS O O O  O O O  O O O O O  O O O O  O  B-DATE I-DATE O O O O O  O O O O O O  O O O  O O O O  O O  O O  O  O  O  O  O  O O  O  O  O  O  O  O  O  O  O  O  O  O  O  O O  O  B-ADDRESS O  O  B-ADDRESS O  O O  O  B-ADDRESS O  O  B-ADDRESS O  O O O  O  O  O  O  O  O  O  O  O O O O O  O  O  O  O O O O O  O  O O O  B-TOTAL O O  O  O  O O O O O O O  O O O O O O  O O O O O O O  O O O O O O O O  O O O O O O O  O O  O O  O O  O  O  O  ', 'B-COMPANY I-COMPANY I-COMPANY I-COMPANY B-ADDRESS I-ADDRESS I-ADDRESS I-ADDRESS B-ADDRESS I-ADDRESS I-ADDRESS I-ADDRESS I-ADDRESS B-ADDRESS I-ADDRESS I-ADDRESS I-ADDRESS O O O  O O O O O  B-COMPANY B-DATE I-DATE I-DATE I-DATE I-DATE O O  O O  O O O  O  O  O  O  O  O  O  O O  O O O O O  O O  O  O  O  O  O  O  O  O  O  O  B-TOTAL O  O  O  O  O O O O O  O O  O O  O  O  O  O  O  O  O  O  O O  O  ', 'B-COMPANY I-COMPANY I-COMPANY I-COMPANY I-COMPANY I-COMPANY O  B-ADDRESS I-ADDRESS I-ADDRESS I-ADDRESS I-ADDRESS B-ADDRESS I-ADDRESS I-ADDRESS O O O  O O O O  O O  O  O O O  B-DATE I-DATE O O  O O  O  O O  O  O  O  O  O  O  O  O  O  O  O O O O O  O O  O  O  O O O O O  O  O O  O O O  O O  O O O O O O  O O  O O  O  O  O  B-TOTAL O  O  O O  O O  O  O O  O O  O  O  O  O  O  O  O O  O O O O O O O  O O  O O  O  ', 'B-COMPANY I-COMPANY I-COMPANY I-COMPANY O  B-ADDRESS I-ADDRESS I-ADDRESS I-ADDRESS I-ADDRESS B-ADDRESS B-ADDRESS I-ADDRESS I-ADDRESS O O O  O O O O  O O O  O  O O  O O O O O O O  O O  B-DATE I-DATE O  O  O O  O O  O O  O O  O  O  O  O  O  O  O  O  O  O  O O O  O  O  O  O  O  O O O  O  O  O  O  O  O O O  O O  O  O  O O O O O  O  O O  O  O O O  O  O O  O  O O O O O O  B-TOTAL O O  O  O O  O  O O  O O  O  O  O  O  O  O  O  O O  O  ', 'B-COMPANY I-COMPANY B-COMPANY I-COMPANY I-COMPANY I-COMPANY O O O  O O O O  B-ADDRESS I-ADDRESS I-ADDRESS I-ADDRESS I-ADDRESS I-ADDRESS I-ADDRESS B-ADDRESS I-ADDRESS I-ADDRESS I-ADDRESS B-ADDRESS I-ADDRESS I-ADDRESS O O O  B-DATE I-DATE I-DATE I-DATE O O O O  O O O  O O O  O  O  O O O O  O O  O O O  O O  O O O O O  O  O  B-TOTAL O O  O  O O  O O  O O  O O O  O  O  O O  O  O O O O O  O O O O  O O O O O  O O O O O  O O O O  O O O O  ', 'O  B-COMPANY I-COMPANY I-COMPANY I-COMPANY O  B-ADDRESS I-ADDRESS I-ADDRESS I-ADDRESS B-ADDRESS I-ADDRESS I-ADDRESS O O O  O O O  O O O O  O O  O O O  O O O O  O O O O O  O O O  B-ADDRESS I-ADDRESS O  O O  O O  B-DATE I-DATE O  O O  O O  O O  O O  O  O  O  O  O  O  O  O  O  O  O  O  O O O  O O  O  B-TOTAL O O O O O  O  O O  O  O O O  O  O O  O  O O O O O O  O  O O  O  O O  O  O O  O O  O  O O  O O  O  O  O  O  O  O  O  O O O O O O O  O  O  ', 'B-COMPANY I-COMPANY I-COMPANY I-COMPANY I-COMPANY B-ADDRESS I-ADDRESS I-ADDRESS I-ADDRESS I-ADDRESS B-ADDRESS I-ADDRESS B-ADDRESS I-ADDRESS I-ADDRESS B-ADDRESS I-ADDRESS I-ADDRESS O O O O O  O O O O  O  O  B-DATE O O O O  O O  O O O O O  O O  O O O O O  O  O O  B-TOTAL O O  O  O O  O  O  O O O  O  O  O O O O O  O O O O O O  ', 'B-COMPANY I-COMPANY I-COMPANY B-ADDRESS I-ADDRESS I-ADDRESS I-ADDRESS I-ADDRESS I-ADDRESS I-ADDRESS B-ADDRESS I-ADDRESS I-ADDRESS O O O O O  O O O  O O O O  O O  O O O  O O O O O  O O O  O O  O O O  O O  O O O  O O O O O  O O  O  O  O O O O  O  O  O  O O O O O  O  O  O O  O O  O  O  O  O  B-TOTAL O  O  O  O  O O  O  O  O O O  O  O  O O O  B-DATE I-DATE I-DATE O O O O O O O  O O O O O  O O O  O O O O O  O O O O O O O O  O O O O O O  O O  O O O O O O  ', 'B-COMPANY I-COMPANY I-COMPANY I-COMPANY I-COMPANY I-COMPANY I-COMPANY B-ADDRESS I-ADDRESS I-ADDRESS I-ADDRESS I-ADDRESS B-ADDRESS I-ADDRESS I-ADDRESS I-ADDRESS O O O  O O O  O O O O O  O O O  O  O  O  O  O O O O O  O O O O O O  O O O  O O O O  O O  B-DATE I-DATE O  O  O  O  O  O  O  O  O O  O  O  O  O  O  O  O  O  O  O  O  O  O  O O  O  O  B-ADDRESS O  O  O  O O O  O  O O  O  O  O  O  O  O  O  O  O  O  O  O  O  O O O O O  O  O  O  O O O O O  O  O O O  O  O O  B-TOTAL O  O O O O O O O  O O O O O O  O O O O O O O  O O O O O O O O  O O O O O O O  O O  O O  O O  ', 'B-COMPANY I-COMPANY I-COMPANY O O O O O  B-ADDRESS I-ADDRESS I-ADDRESS I-ADDRESS O O  O O  O  O  O O O  O  O O O O  B-DATE I-DATE I-DATE I-DATE O  O  O  O O O  O  O  O O O O  O  O  O  O O O O  O  O  O  O O O O  O  O  O  O O O  O  O O  O  O O O  O  O  O  O O O O  O  O O  O  O  O O O  O  O  O O O  O  O O  O  O O O  O  O  O  O  O O O O  O  O  O  O  O  O  O O  O  O O  O O O  O  O O  O  O O O  B-TOTAL O  O  O O  O O O  O  O  ', 'B-COMPANY I-COMPANY I-COMPANY I-COMPANY O O O  B-ADDRESS I-ADDRESS I-ADDRESS B-ADDRESS I-ADDRESS I-ADDRESS I-ADDRESS B-ADDRESS I-ADDRESS I-ADDRESS O  O O O O  O O  O  O  O O O  O  O O O  O O  B-DATE I-DATE I-DATE O  O  O O  O  O  O O  O O  O O O O  O O  O O O  O  O O  O  O O  O  O  B-TOTAL O  O  O O  O  O O O  O O  O  O  O O O  O  O  O O  O O O  O O O O O  O O O O  O  O O O O O  ', 'B-COMPANY I-COMPANY I-COMPANY I-COMPANY B-DATE I-DATE I-DATE I-DATE O  B-ADDRESS I-ADDRESS I-ADDRESS I-ADDRESS I-ADDRESS B-ADDRESS I-ADDRESS I-ADDRESS O O  O O O O  O  O  O  O O O O  O  O  O O O O O O O  O  O  O  O  B-TOTAL I-TOTAL I-TOTAL O O O  O O O  O O  O  O  O  O  O  O O  O  O  O O O O  O  O  O O O  O O O O  O O O O  O O O O O  O O O O O O  O  ', 'B-COMPANY I-COMPANY I-COMPANY I-COMPANY I-COMPANY B-ADDRESS I-ADDRESS I-ADDRESS I-ADDRESS I-ADDRESS I-ADDRESS B-ADDRESS I-ADDRESS I-ADDRESS I-ADDRESS I-ADDRESS I-ADDRESS I-ADDRESS B-ADDRESS O O O O O O O  O O  O O O O O  O O O O O  O O  O O O  O O  O O  B-DATE I-DATE O O  O  O  O  O  O  O  O  O  O  O O  B-TOTAL O O O O O  O  O O  O  O O O  O  O O O O  O O  O  O  O  O O  O  O  O O  O O O  O O O O O  ', 'B-COMPANY I-COMPANY I-COMPANY I-COMPANY B-ADDRESS I-ADDRESS I-ADDRESS I-ADDRESS I-ADDRESS I-ADDRESS I-ADDRESS B-ADDRESS I-ADDRESS I-ADDRESS B-ADDRESS I-ADDRESS I-ADDRESS O O O O  O O  O O  O  O  B-DATE O O  O  O  O  O  O  O  O  O O O O  O  O  O  O O O  O  O  O  O O O  O  O  O  O O O O O  O  O  O  O  O  O  O O O O  O  O O  O  O  B-TOTAL O O  O O  O  O  O  O  O  O  O  O O  O  O  O O O O O  O O  ', 'B-COMPANY I-COMPANY I-COMPANY B-COMPANY I-COMPANY O O O  B-ADDRESS I-ADDRESS I-ADDRESS I-ADDRESS I-ADDRESS I-ADDRESS I-ADDRESS I-ADDRESS B-ADDRESS I-ADDRESS I-ADDRESS I-ADDRESS O  O O  B-DATE I-DATE O O  O O  O O  O O  O O  O O O O O O  O  O  O O  O O O O  O  O  O  O  O  O  O O O O  O  O  O  O  O  O  O O O  O  O  O  O  O  O  O O O O  O  O  O  O  O  O  O O O  B-TOTAL O O O O  O  O O  O  O  O  O  O O  O O  O O  O O O  O  O  O O O O O  O O O O O O  O O O O  ', 'B-COMPANY I-COMPANY I-COMPANY I-COMPANY O O O O O  B-ADDRESS I-ADDRESS I-ADDRESS I-ADDRESS I-ADDRESS I-ADDRESS I-ADDRESS B-ADDRESS I-ADDRESS I-ADDRESS I-ADDRESS O O  O O O O  O O  O O  B-DATE I-DATE I-DATE O O O O O  O O O O  O  O  O  O  O O O O  O  O O  O O O  O  O O  O  O  O  O  O  O  O  O  O O  O  O O O  B-TOTAL O  O  O O  O  O  O O  O  O  O  O  O  O  O  O  O  O  O  O O O O O O O O  O O O O O O O O O O  ', 'B-COMPANY I-COMPANY I-COMPANY I-COMPANY I-COMPANY O  B-ADDRESS I-ADDRESS I-ADDRESS I-ADDRESS I-ADDRESS I-ADDRESS I-ADDRESS B-ADDRESS I-ADDRESS I-ADDRESS B-ADDRESS I-ADDRESS I-ADDRESS I-ADDRESS O O O O  O O O O  O O  O O O  O  O O O  O  O O  O  O  O O O  O  O O O  O  O O  O  O  O O O O O  O  O O O  O  O O  O  O  O O O  O O O  O O O  O  O  B-TOTAL I-TOTAL O O  O O  O O  O O  O  O  O  O  B-DATE I-DATE I-DATE I-DATE O O  O O O O O  O O O O  O O O O  O O O O  ', 'B-COMPANY I-COMPANY I-COMPANY I-COMPANY I-COMPANY I-COMPANY O  O O O O  B-ADDRESS I-ADDRESS I-ADDRESS I-ADDRESS I-ADDRESS B-ADDRESS I-ADDRESS I-ADDRESS I-ADDRESS B-ADDRESS I-ADDRESS I-ADDRESS I-ADDRESS I-ADDRESS I-ADDRESS O  O O O  O O O  O O O O  O O  O O O O O  O O  O O O O O  B-DATE O O  O  O O O O O  O  O  O O  O O O  O  O  O O  O O O O  O  O  O O  O O O O  O  O  O O  O O O O  O O O O O  B-TOTAL O O  O  O O  O  O O  O  O O  O  O  O  O O  O O  O O  O  O  O O  O  O  O O  O  O  O O O O  O O O O  O O O O O  O O  O  ', 'O O O  O  O O O O O O  B-COMPANY I-COMPANY I-COMPANY I-COMPANY I-COMPANY I-COMPANY B-ADDRESS I-ADDRESS I-ADDRESS I-ADDRESS I-ADDRESS O O O O O  O  B-DATE I-DATE O O O  O  O O O  O O  O O O O  O O O  O O  O O O O  O O O  O O  O O O O  O O O  O  O O  B-TOTAL O  O  O O O O  O O O O  O O  O O  O  O  O O  O  O  O O O  O O O O O O  ', 'O O O  O  B-COMPANY I-COMPANY I-COMPANY I-COMPANY I-COMPANY O  O O O  B-ADDRESS I-ADDRESS I-ADDRESS I-ADDRESS I-ADDRESS I-ADDRESS B-ADDRESS I-ADDRESS I-ADDRESS I-ADDRESS I-ADDRESS B-ADDRESS O O O O  O O O O  B-ADDRESS I-ADDRESS O O  O O O  O O  B-DATE I-DATE I-DATE I-DATE I-DATE I-DATE O O  O  O O O O O O  O O O O O  O O  O O O  O O O O O  O O O  O O O  O O O O O  O O O  O O  O O  O O O O  O  O  O  O  O  O  O  O O O O  O  O  B-TOTAL O  O  O O O O  O  O O O O O O  O O O O O  O  ', 'B-COMPANY I-COMPANY I-COMPANY B-ADDRESS I-ADDRESS I-ADDRESS I-ADDRESS I-ADDRESS I-ADDRESS I-ADDRESS B-ADDRESS I-ADDRESS I-ADDRESS O O O O O  O O O  O O O O  O O  O O O  O O O O O  O O O  O O  O O O  O O O O  O  O  O  O O O O O  O  O  O O  O O  O  O  B-TOTAL O  O  O  O  O  O  O O  O  O  O O O  O  O  O O O  B-DATE I-DATE I-DATE O O O O O O O  O O O O O  O O O  O O O O O  O O O O O O O O  O O O O O O  O O  O O O O O O  ', 'B-COMPANY I-COMPANY I-COMPANY I-COMPANY B-ADDRESS I-ADDRESS I-ADDRESS I-ADDRESS I-ADDRESS I-ADDRESS I-ADDRESS I-ADDRESS I-ADDRESS I-ADDRESS I-ADDRESS B-ADDRESS I-ADDRESS I-ADDRESS I-ADDRESS I-ADDRESS I-ADDRESS I-ADDRESS I-ADDRESS I-ADDRESS I-ADDRESS I-ADDRESS B-ADDRESS I-ADDRESS I-ADDRESS I-ADDRESS I-ADDRESS I-ADDRESS I-ADDRESS O  O O O O  O O  O O O  B-DATE I-DATE I-DATE I-DATE I-DATE I-DATE I-DATE I-DATE O O  O O  O O  O  O  O  O  O O  B-TOTAL O O O O O O O  O  O  O  O  O O  O O O  O O  ', 'O O O O  B-ADDRESS I-ADDRESS I-ADDRESS I-ADDRESS I-ADDRESS I-ADDRESS B-ADDRESS I-ADDRESS I-ADDRESS I-ADDRESS B-ADDRESS I-ADDRESS I-ADDRESS I-ADDRESS O  O O O O  O O  O O  O  O  O  O  B-DATE I-DATE I-DATE O  O  O  O  O  O  O  O  O O O O  O  O  O  O O O  O O  O  O O O  O  O O O O O  O  O O O  B-TOTAL O O  O O O  O O  O  O  O  O  O  O O  O  O O O O  O  O O O O O  ', 'B-COMPANY I-COMPANY I-COMPANY I-COMPANY I-COMPANY I-COMPANY I-COMPANY B-ADDRESS I-ADDRESS I-ADDRESS I-ADDRESS I-ADDRESS B-ADDRESS I-ADDRESS I-ADDRESS I-ADDRESS O O O  O O O  O O O O O  O O O O  O  B-DATE I-DATE O O O O O  O O O O O O  O O O  O O O O  O O O  O O  O  O  O  O  O  O O  O  O  O  O  O  O  O O  O  O  O  O  O  O  O O O  O  O  O  O  O  O  O  O  O  O  O  O  O  O  O  O O O O O  O  O  O  O O O O O  O  O O O  O  O O  B-TOTAL O  O O O O O O O  O O O O O O  O O O O O O O  O O O O O O O O  O O O O O O O  O O  O O  O O  O  O  O  ', 'O  B-COMPANY I-COMPANY B-COMPANY I-COMPANY I-COMPANY I-COMPANY I-COMPANY I-COMPANY O  B-ADDRESS I-ADDRESS I-ADDRESS I-ADDRESS I-ADDRESS B-ADDRESS I-ADDRESS O O O  O O O O  O O  O O O O  O  O O O  O O  O  O O O  O O  B-DATE I-DATE I-DATE I-DATE O O  O  O O O  O  O O O O O O  O O  O  O  O  O O  O O  O  O  O  B-TOTAL O  O O  O O  O  O O O O  O  O  O O O O O  O O O O O  O  O  O O O O  ', 'B-COMPANY I-COMPANY I-COMPANY B-ADDRESS I-ADDRESS I-ADDRESS B-ADDRESS I-ADDRESS I-ADDRESS I-ADDRESS O O  O  O O  O  B-DATE O  O O  O O O  O  O  O  O O  O  O O  O  O O  O  O O  O  O O  O  O O  O  O  O O  O O  O O  O O  O O  O O  O  O O O  O O  O O O  O  O  O  O O  B-TOTAL ', 'B-COMPANY I-COMPANY I-COMPANY O  B-ADDRESS I-ADDRESS I-ADDRESS I-ADDRESS B-ADDRESS I-ADDRESS I-ADDRESS I-ADDRESS I-ADDRESS B-ADDRESS I-ADDRESS I-ADDRESS O O O O  O O O  O O  O  B-DATE I-DATE I-DATE O  O  O  O  O  O O  O O  O  O  O  O O  O O  O  O  O  O O  O O  O  O  O  O O  O O O  O  O O O  O  O O O O  O  O  B-TOTAL O  O  O O  O O  O O  O  O O  O  O  O O  ', 'O O O O O  O O O O O  O O O O O O  O O  O O O O O  B-COMPANY I-COMPANY I-COMPANY I-COMPANY I-COMPANY O  B-ADDRESS I-ADDRESS I-ADDRESS B-ADDRESS I-ADDRESS I-ADDRESS B-ADDRESS I-ADDRESS I-ADDRESS O O O O O  O O  O O  O  B-DATE I-DATE I-DATE I-DATE I-DATE O  O O  O O O  O O O O O  O O O O O  O O O O  O O O  O O  O O O O O O  O O  O O O O  O O O  O  O  O  O O O  B-TOTAL O  O  O  O  O O O O  O O O O O  O O  O O  O  O  O O  O  O  O O O O O  ', 'B-COMPANY I-COMPANY I-COMPANY O  B-ADDRESS I-ADDRESS I-ADDRESS I-ADDRESS B-ADDRESS I-ADDRESS I-ADDRESS I-ADDRESS I-ADDRESS B-ADDRESS I-ADDRESS I-ADDRESS O O O O  O O  O O O  O O  O  B-DATE I-DATE I-DATE O  O  O  O  O  O O  O O  O  O  O  O O  O O  O  O  O  O O  O O  O  O  O  O O  O O O  O  O O O  O  O O O O  O  O  B-TOTAL O O  O  O O  O O  O O  O  O O  O  O  ', 'B-COMPANY I-COMPANY I-COMPANY I-COMPANY I-COMPANY B-ADDRESS I-ADDRESS I-ADDRESS I-ADDRESS I-ADDRESS I-ADDRESS B-ADDRESS I-ADDRESS I-ADDRESS I-ADDRESS I-ADDRESS I-ADDRESS I-ADDRESS B-ADDRESS O O O O O O O  O O  O O O O O  O O O O O  O O  O O O  O O  O O  B-DATE I-DATE O O  O  O  O  O O  O O  O  O  O  O  O  B-TOTAL O O O O O  O  O O  O  O O O  O  O O O O  O O  O  O  O  O O  O  O  O O  O O O  O O O O O  ', 'B-COMPANY I-COMPANY I-COMPANY I-COMPANY I-COMPANY B-ADDRESS I-ADDRESS I-ADDRESS I-ADDRESS I-ADDRESS B-ADDRESS I-ADDRESS B-ADDRESS I-ADDRESS I-ADDRESS B-ADDRESS I-ADDRESS I-ADDRESS I-ADDRESS O O O O O  O O O O  O  O  B-DATE O O O O O  O O  O O O O  O O O O O  O O  O O O O  O O O O O  B-TOTAL O O  O  O O  O  O O  O  O  O O O  O  O  O O O O O  O O O O O O  ', 'O  B-COMPANY I-COMPANY I-COMPANY I-COMPANY I-COMPANY O  B-ADDRESS I-ADDRESS I-ADDRESS I-ADDRESS I-ADDRESS I-ADDRESS I-ADDRESS B-ADDRESS I-ADDRESS I-ADDRESS B-ADDRESS I-ADDRESS I-ADDRESS I-ADDRESS B-ADDRESS I-ADDRESS O O O O  O O  B-DATE O O  O  O  O  O O O O  O  B-ADDRESS O  O O O O O  O O O O O  O  B-ADDRESS O  O O O  O O O O O O  O  O O  O O O  B-TOTAL O O  O  O  O  O O O  O  O O  O  O  O  O  O O O  O  O  O  O  O  O O  O O O O O O  ', 'B-COMPANY I-COMPANY I-COMPANY I-COMPANY I-COMPANY O  O O O O O O O  B-ADDRESS I-ADDRESS I-ADDRESS O O O O  O O O O  O O O  O  O O O O  B-DATE I-DATE I-DATE O  O  O  O  O  O  O  O  O  O O  O O O O O O  O  O  O  O  O O  O O O O O O O O  O O O  O  O  O O  O O  O  O  O  O  O  O  O  O  B-TOTAL O  O O  O O  O  O  O  O  O  O  O  O O  O  O  O O O O O O O O O  O O O O O O  O O O O O  O O  O  O  O  O  O  O O O O  O  O  O  O  O  O  O  ', 'O O O  O O O O O  B-COMPANY I-COMPANY I-COMPANY I-COMPANY I-COMPANY O O O  O O O  O O  O O O  O O  O O  O  O  O  B-DATE I-DATE I-DATE O  O O O  O O  O  O O  O O  O  O O  O O  O  O O  O O  O  O O  O O  O  O  O O O  O  O O  O  O  O  O  O  B-TOTAL O O O  O O O O O O  O O O  O O O O O O  O O O O  O O O O  O O  O O O O  O O O O O O O  O O O O O O O  O O O O O  O O O O  O O O O  O  O  O  O  O  O  ', 'B-COMPANY I-COMPANY I-COMPANY I-COMPANY I-COMPANY O O O  B-ADDRESS I-ADDRESS I-ADDRESS I-ADDRESS I-ADDRESS I-ADDRESS I-ADDRESS B-ADDRESS I-ADDRESS I-ADDRESS B-ADDRESS I-ADDRESS I-ADDRESS I-ADDRESS O O O O  O O O O O  O O  O O O  O  O O O  O  O  O  O  O  O  O  O  O  O  O  O O O  O O  O O  O O  O O  B-TOTAL I-TOTAL O  O O  O  O O  O O  O  O  O O  O  O  B-DATE O  O  O  O  O  O O O  O O O O  O O O O  O O O O  ', 'B-COMPANY I-COMPANY I-COMPANY I-COMPANY I-COMPANY B-ADDRESS I-ADDRESS I-ADDRESS I-ADDRESS I-ADDRESS I-ADDRESS B-ADDRESS I-ADDRESS I-ADDRESS I-ADDRESS I-ADDRESS I-ADDRESS I-ADDRESS B-ADDRESS O O O O O O O  O O  O O O O O  O O O O O  O O  O O O  O O  O O  B-DATE I-DATE O O  O  O O  O  O  O O  O  O  O  O  O O  B-TOTAL O O O O O  O  O O  O  O O O  O  O O O O  O O  O  O  O  O O  O  O  O O  O O O  O O O O O  ', 'B-COMPANY I-COMPANY B-COMPANY I-COMPANY I-COMPANY I-COMPANY O O O  O O O O  B-ADDRESS I-ADDRESS I-ADDRESS I-ADDRESS I-ADDRESS I-ADDRESS I-ADDRESS B-ADDRESS I-ADDRESS I-ADDRESS I-ADDRESS O O O  O O O  B-DATE I-DATE O O O  O O  O O  O  O  O O O  B-TOTAL I-TOTAL O O O O  O O O O O  O  O  O  O  O  O O  O  O O  O O  O O  O O O  O  O  O O O  O  O  O O  O  O O O O O  O O O O  O O O O O  O  O O O O  O  ', 'O  B-COMPANY I-COMPANY I-COMPANY I-COMPANY I-COMPANY B-ADDRESS I-ADDRESS I-ADDRESS B-ADDRESS I-ADDRESS I-ADDRESS B-ADDRESS I-ADDRESS I-ADDRESS B-ADDRESS O O O O  O O O O  O O  O O  O O  O O  B-DATE I-DATE O O  O  O  O  O O O O O  O O  O  O  O  O  O O  B-TOTAL O O O O  O  O O O O  O  O O O  O  O O  O  O O O  O  O O O O  O O  O  O  O  O O  O  O  O O  O O O  ', 'B-COMPANY I-COMPANY I-COMPANY I-COMPANY I-COMPANY O  O O O O  B-ADDRESS I-ADDRESS I-ADDRESS I-ADDRESS I-ADDRESS I-ADDRESS I-ADDRESS I-ADDRESS B-ADDRESS I-ADDRESS I-ADDRESS I-ADDRESS I-ADDRESS I-ADDRESS I-ADDRESS I-ADDRESS O  O  O O  O O  O  O  B-DATE I-DATE I-DATE O O  O  O O O  O  O O  O O O O  O  O O O O  O  O O O O  O  O O O O  O  O O O  O  O  O  O  O  O  O  O  O  O  O  O  O  O  O  O  O  O  O  O  O  O O O O  O  O  O  O O  B-TOTAL O O  O  O  O  O O  O  O  O O  O O  O O O  O O O  O  O  O  O  O  O  O  O  O  O  O  ', 'B-COMPANY I-COMPANY I-COMPANY O  B-ADDRESS I-ADDRESS I-ADDRESS I-ADDRESS B-ADDRESS I-ADDRESS I-ADDRESS I-ADDRESS I-ADDRESS B-ADDRESS I-ADDRESS I-ADDRESS O O O O  O O  O O O O  O O  O  B-DATE I-DATE I-DATE O  O  O  O  O  O O  O O  O  O  O  O O  O O  O  O  O  O O  O O  O  O  O  O O O  O O O  O  O O O O  O  O O  B-TOTAL O O  O  O O  O  O  O  O O  O  O  ', 'B-COMPANY I-COMPANY I-COMPANY I-COMPANY I-COMPANY O O  B-ADDRESS I-ADDRESS I-ADDRESS I-ADDRESS O O  O O O O  O  O O  B-DATE I-DATE I-DATE I-DATE O O  O  O O O  O O O  O O  O  O O O  O O O  O O  O O O O  O  O  B-TOTAL O  O  O  O  O O O O  O O  O  O  O O  O  O  O O  O O O  ', 'B-COMPANY I-COMPANY I-COMPANY I-COMPANY O  B-ADDRESS I-ADDRESS I-ADDRESS I-ADDRESS B-ADDRESS I-ADDRESS I-ADDRESS O O O  O O O  O O O O  O O  O O O  O O O O  O O O O O  O O O  B-ADDRESS I-ADDRESS O  O O  O  O  B-DATE I-DATE O  O  O  O O  O  O  O  O  O  O  O  O  O  O  O  O  O  O  O  O  O  O  O O  O  B-TOTAL O O O O  O  O  O  O  O  O O  O  O  O  O  O  O O O O O  O  O  O  O  O  O  O  O  O O  O O  O  O  O  O O  O  O O  O  O O  O  O  O O O O O O O  ', 'B-COMPANY I-COMPANY I-COMPANY I-COMPANY B-DATE I-DATE I-DATE I-DATE O  B-ADDRESS I-ADDRESS I-ADDRESS I-ADDRESS I-ADDRESS B-ADDRESS I-ADDRESS I-ADDRESS O O  O O O O  O  O  O  O O O O O O O  O  O  O  O O O  O  O  O  B-TOTAL I-TOTAL I-TOTAL O O O  O O O  O O  O  O  O  O  O  O O  O  O  O O O O  O  O  O O O  O O O O  O O O O  O O O O O  O O O O O O  O  ', 'B-COMPANY I-COMPANY I-COMPANY I-COMPANY I-COMPANY I-COMPANY I-COMPANY O  B-ADDRESS I-ADDRESS I-ADDRESS I-ADDRESS I-ADDRESS I-ADDRESS I-ADDRESS B-ADDRESS I-ADDRESS I-ADDRESS O O O O O  O O  O O  O  O O  O  B-DATE I-DATE I-DATE O O O O  O  O  O  O  O O  O  O  O O  O O  O  O  O O  O O O  O  O  O O  O O O O O O  O  O  O O  O  O  O  O O  O O O  O O O O  O  O O O O O  O  O O  B-TOTAL O O  O  O  O O O  O O  O  O O  O  O  O  O O  O  O  O O O O  O O O  ', 'O  B-COMPANY I-COMPANY I-COMPANY I-COMPANY I-COMPANY I-COMPANY O  B-ADDRESS I-ADDRESS I-ADDRESS I-ADDRESS I-ADDRESS B-ADDRESS I-ADDRESS I-ADDRESS I-ADDRESS I-ADDRESS I-ADDRESS B-ADDRESS I-ADDRESS I-ADDRESS O O O O O  O O O O  O O O O O  O O O  O O  O O  O O  O O O  B-DATE I-DATE I-DATE I-DATE O O O O  O  O  O  O O O  O  O  O  O  O  O  O O O O  O O  O O O O  O O  O O O  O O  O  B-TOTAL I-TOTAL O  O O  O  O O  O O O  O  O O  O O  O O  O O  O O  O  O  O  O  O  O  O  O  ', 'B-COMPANY I-COMPANY I-COMPANY I-COMPANY I-COMPANY B-ADDRESS I-ADDRESS I-ADDRESS I-ADDRESS I-ADDRESS B-ADDRESS I-ADDRESS O O O  O O O  O O O O  O  O O O  O  O O  O O O  O O O O O  O  O  O  O O O O  O  O  O  O O O O O  O  O O  O O  B-TOTAL O  O  O  O  O O  O  O  O O O  O  O  O O O O  B-DATE I-DATE I-DATE O O  O O  O O O  O  O  ', 'B-COMPANY I-COMPANY I-COMPANY I-COMPANY I-COMPANY I-COMPANY I-COMPANY B-ADDRESS I-ADDRESS I-ADDRESS I-ADDRESS I-ADDRESS B-ADDRESS I-ADDRESS I-ADDRESS I-ADDRESS O O O  O O O  O O O O O  O O O O  O  B-DATE I-DATE O O O O O  O O O O O O  O O O  O O O O  O O O  O O  O  O  O  O  O  O  O  O O  O  B-ADDRESS O  O  B-ADDRESS O  O  O  B-ADDRESS O  O  O  O  O O  O  O  O  O  B-ADDRESS O  O O O  O  O  O  O  O  O  O  O  O  O  O  B-ADDRESS O  O  O  O O O O O  O  O  O  O O O O O  O  O O O  O  O O  B-TOTAL O  O O O O O O O  O O O O O O  O O O O O O O  O O O O O O O O  O O O O O O O  O O  O O  O O  O  ', 'B-COMPANY O O  B-COMPANY I-COMPANY I-COMPANY B-COMPANY I-COMPANY B-ADDRESS I-ADDRESS I-ADDRESS I-ADDRESS B-ADDRESS I-ADDRESS I-ADDRESS I-ADDRESS I-ADDRESS B-ADDRESS I-ADDRESS I-ADDRESS I-ADDRESS B-ADDRESS I-ADDRESS I-ADDRESS O O O O O  O O  O O  O O  O O O  O O  O  B-DATE I-DATE I-DATE I-DATE O  O O  O O  O  O O O O O  O O  O  O  O  O  O O  O  O  O  O  O  O  O O O O O  O O  O  O  O  O  O O  O  O O  O  O O  B-TOTAL O O  O  O O O O O  O O O O  O O O O  O  O O O O O O O  O O O O  O O  O O  O O O O O  O O O O O O O  O  O  O  O O  O  O  O O  O  O  ', 'B-COMPANY I-COMPANY I-COMPANY I-COMPANY I-COMPANY B-ADDRESS I-ADDRESS I-ADDRESS I-ADDRESS I-ADDRESS I-ADDRESS B-ADDRESS I-ADDRESS I-ADDRESS I-ADDRESS B-ADDRESS I-ADDRESS I-ADDRESS I-ADDRESS O O O  O O  O O O O O O O O  O O O O O O O O  O O  O  O O O  O  O  O O O O  O  O O O O O  B-TOTAL O  O  O O O  O O  O  O O  O  O O  O  O  O O O  O  O  O  O  O  B-DATE I-DATE O O O  O O O O  O O O O  O O  O O O O O  O O O  ', 'O  B-COMPANY I-COMPANY B-COMPANY I-COMPANY I-COMPANY I-COMPANY O O O O O  O O O O  B-ADDRESS I-ADDRESS I-ADDRESS I-ADDRESS B-ADDRESS I-ADDRESS I-ADDRESS I-ADDRESS O O O O  O O  O  B-DATE O  O  O O  O  O O O  O  O  O O  O O O  O  O O  O  O  B-TOTAL O  O  O O O O  O O O O  O  ', 'B-COMPANY I-COMPANY I-COMPANY I-COMPANY I-COMPANY O  B-ADDRESS I-ADDRESS I-ADDRESS I-ADDRESS I-ADDRESS I-ADDRESS I-ADDRESS I-ADDRESS B-ADDRESS I-ADDRESS I-ADDRESS B-ADDRESS I-ADDRESS I-ADDRESS I-ADDRESS O O O O  O O  O O  O O O O O  O O O  O  O O  O O O  O  O O O  O  O O  O O O  O O O  O O O  B-TOTAL I-TOTAL O  O O  O  O O  O O O O O  B-DATE I-DATE I-DATE I-DATE O O O O O  O O O O  O O O O  O O O O  O  O  O O  O O  O  O  ', 'B-COMPANY I-COMPANY I-COMPANY I-COMPANY I-COMPANY B-ADDRESS I-ADDRESS I-ADDRESS I-ADDRESS I-ADDRESS I-ADDRESS B-ADDRESS I-ADDRESS I-ADDRESS I-ADDRESS B-ADDRESS I-ADDRESS I-ADDRESS I-ADDRESS O O O O  O O  O O O O O  O O O O O  O O  O  O O  O O  O  O O O  O  O  O O O O  O  O O  O  O O O O O  B-TOTAL O  O  O O O  O O  O  O O O  O O  O  O  O O O  O  O  O  O  O  B-DATE I-DATE O O O  O O O O  O O O  O O O  O O O O O  O O O  ', 'B-COMPANY I-COMPANY I-COMPANY I-COMPANY B-DATE I-DATE I-DATE I-DATE O  B-ADDRESS I-ADDRESS I-ADDRESS I-ADDRESS I-ADDRESS B-ADDRESS I-ADDRESS I-ADDRESS O O  O O O O  O  O  O  O  O  O O  O  O O O  O  O  O  O  O  B-TOTAL I-TOTAL I-TOTAL O O O  O O O  O O  O  O  O  O  O  O O  O  O  O O O O  O  O  O O O  O O O O  O O O O O  O O O O O O  O  ', 'B-COMPANY I-COMPANY I-COMPANY I-COMPANY I-COMPANY B-ADDRESS I-ADDRESS I-ADDRESS I-ADDRESS I-ADDRESS B-ADDRESS I-ADDRESS I-ADDRESS I-ADDRESS I-ADDRESS O O O  O O O O  O O  O O  O  O O  O  B-DATE I-DATE I-DATE O  O O  O  O O O O O  O  O  O O O O O  O  O  O O  O  O  O O  O  O  O  O  O  O O  O  O  O O O O O O  O  O O  O  O O  B-TOTAL ', 'B-COMPANY I-COMPANY I-COMPANY I-COMPANY I-COMPANY O O O O  B-ADDRESS I-ADDRESS I-ADDRESS I-ADDRESS I-ADDRESS I-ADDRESS I-ADDRESS B-ADDRESS I-ADDRESS I-ADDRESS B-ADDRESS I-ADDRESS I-ADDRESS I-ADDRESS O O O O  O  O O O O  O O O  O  O O O  O  B-TOTAL I-TOTAL I-TOTAL O  O O O  O O O  O O O  O O  O  O O  O  O O  O O  O  O  O O  O  O  B-DATE I-DATE I-DATE I-DATE O O  O O O O O  O O O O  O O O O  O O O O  ', 'B-COMPANY I-COMPANY I-COMPANY B-ADDRESS I-ADDRESS I-ADDRESS I-ADDRESS I-ADDRESS B-ADDRESS I-ADDRESS I-ADDRESS I-ADDRESS O O  O O O  O  B-DATE I-DATE I-DATE I-DATE I-DATE O O  O O  O O  O  O  O  O  O  O  O  O  O  O  O  O  O  O  O  O  O O O O O  O O O O O  O O  O O  O  O  O  O  O  O  O O  O  O  O  O  O  O  O  B-TOTAL O  O  O O O O O  O O  O  ', 'B-COMPANY I-COMPANY I-COMPANY I-COMPANY I-COMPANY B-ADDRESS I-ADDRESS I-ADDRESS I-ADDRESS I-ADDRESS I-ADDRESS I-ADDRESS I-ADDRESS I-ADDRESS I-ADDRESS O O O  O O O  B-DATE I-DATE I-DATE I-DATE O O O  O  O O O  O O  O  O  O  O  O  O O  O  B-TOTAL O O  O O  O O  O  O  O O  O  O  O  O  O  ', 'B-COMPANY I-COMPANY I-COMPANY I-COMPANY I-COMPANY O O O O  B-ADDRESS I-ADDRESS I-ADDRESS I-ADDRESS I-ADDRESS I-ADDRESS I-ADDRESS B-ADDRESS I-ADDRESS I-ADDRESS B-ADDRESS I-ADDRESS I-ADDRESS I-ADDRESS O O O O O  O O  O O  O O O O O O  O  O O O  O  O O  O  O  O O O O O O  O  O O O  O  O O  O  O  O O O O  O  O O O  O  O O O  O  O O O  O O O  O O O  B-TOTAL I-TOTAL O  O O  O O  O  O  O O  O  O  B-DATE I-DATE I-DATE I-DATE O O  O O O O O  O O O O  O O O O  O O O O  ', 'B-COMPANY I-COMPANY I-COMPANY I-COMPANY O O  B-ADDRESS I-ADDRESS I-ADDRESS I-ADDRESS I-ADDRESS I-ADDRESS I-ADDRESS B-ADDRESS I-ADDRESS I-ADDRESS B-ADDRESS I-ADDRESS I-ADDRESS I-ADDRESS O O O O  O O O  O O  O O O  O  O O O  O  O  O  O  O  O O O  O O O  O O O  O O  O  B-TOTAL I-TOTAL O O  O  O  O O  O  O  B-DATE I-DATE I-DATE I-DATE O O  O O O O O  O O O O  O O O O  O O O O  ', 'B-COMPANY I-COMPANY I-COMPANY I-COMPANY I-COMPANY B-ADDRESS I-ADDRESS I-ADDRESS I-ADDRESS B-ADDRESS I-ADDRESS I-ADDRESS I-ADDRESS I-ADDRESS I-ADDRESS I-ADDRESS B-ADDRESS I-ADDRESS I-ADDRESS I-ADDRESS I-ADDRESS I-ADDRESS O O O O  O O O  O  O O O O  O O O  O O O  O O  O O O  O O O O O O  O  O  O  O  O  O O  O  O  O  O O  O  O O O  B-TOTAL O  O  O  O  O O  O O O  O  O O O  O  O  O O O  O  O  O O  O  O O O O O O  O  B-DATE I-DATE I-DATE I-DATE O O O O O O O  O O O O O O O O  O O O O O O O O  O O O O O O  O O O O O O O O  O O O O  O O O O O O  O  O  ', 'B-COMPANY I-COMPANY I-COMPANY B-COMPANY I-COMPANY B-COMPANY I-COMPANY I-COMPANY O  B-ADDRESS I-ADDRESS I-ADDRESS I-ADDRESS I-ADDRESS B-ADDRESS I-ADDRESS I-ADDRESS I-ADDRESS B-ADDRESS I-ADDRESS I-ADDRESS I-ADDRESS I-ADDRESS O O O O O O O O  O O O  O O O  O  B-DATE I-DATE I-DATE I-DATE I-DATE O O O O O  O  O  O  O  O  O  O  O  O  O  O  O O O O O  O O  O  O O  O  O  O  O  O  O  O  O  B-TOTAL O  O  O O O O O O  O O  O  O  O  O  O  O  O  O  O O  O  O O O O O  O O O O O  O O O O O O  O O O O O O  O O O O O O O O  O O O  ', 'B-COMPANY I-COMPANY I-COMPANY I-COMPANY I-COMPANY I-COMPANY O O O O  B-ADDRESS I-ADDRESS I-ADDRESS I-ADDRESS I-ADDRESS I-ADDRESS I-ADDRESS I-ADDRESS B-ADDRESS I-ADDRESS I-ADDRESS I-ADDRESS I-ADDRESS I-ADDRESS I-ADDRESS I-ADDRESS O  O  O O  O O  O  O  B-DATE I-DATE O  O O  O  O O O  O  O O  O O O O  O  O O O  O  O O O O  O  O O O O O O  O  O O O  O  O  O  O  O  O  O  O  O  O  O  O  O  O  O  O  O  O  O  O  O  O O O  O  O  O  O O  B-TOTAL O O  O  O  O  O O  O  O O  O  O O  O O O  O O O  O  O  O  O  O  O  O  O  O  O  O  ', 'B-COMPANY I-COMPANY I-COMPANY I-COMPANY O O O O O O  O  B-ADDRESS I-ADDRESS I-ADDRESS B-ADDRESS I-ADDRESS I-ADDRESS B-ADDRESS I-ADDRESS I-ADDRESS B-ADDRESS O O O  O O O  O  O O O O  O O  O O  O O  B-DATE I-DATE O  O O  O O  O  O  O  O  O  O  O  O  O  O  O  O O  O  O  O  O  O O  O  O O  O  O  O  O  O O O O O  O O  O  O  O O O O  O  O O  O  O O O  O  O O  O  O O O O O  B-TOTAL O O  O  O O  O  O O  O O  O  O  O  O  O  O  O  O O  O  O  ', 'B-COMPANY I-COMPANY I-COMPANY I-COMPANY I-COMPANY I-COMPANY O O O O O  B-ADDRESS I-ADDRESS I-ADDRESS I-ADDRESS I-ADDRESS B-ADDRESS I-ADDRESS I-ADDRESS I-ADDRESS B-ADDRESS I-ADDRESS I-ADDRESS O O O O O O O  O O O O O O  O O  O O O O  O O  O O O O  O O  B-DATE I-DATE I-DATE I-DATE I-DATE O O O O O O O O O  O  O O O  B-TOTAL I-TOTAL O O  O O  O  O O  O O  O O  O O  ', 'B-COMPANY I-COMPANY I-COMPANY I-COMPANY B-ADDRESS I-ADDRESS I-ADDRESS I-ADDRESS I-ADDRESS B-ADDRESS I-ADDRESS I-ADDRESS I-ADDRESS B-ADDRESS I-ADDRESS I-ADDRESS I-ADDRESS I-ADDRESS O O O O  O O O O  O O O O  O O  O O  O O O  O O  O O O  O O O O  B-DATE I-DATE I-DATE I-DATE I-DATE O O O  O  O O  O  O O O  O  O  O  O  O O  O  O  O  O O  O  O  O  O  O  O O O O O O O O  O O O O  O  O O O O O O O  O O O O  O  O  O  O O  O  O  O  O O  O  O  O  O O  O  O  O  O O  O  B-TOTAL O O  O  O  O  O  O  O O O  O  O  O O O O O  O O O O O O  O O O O O O  O O O O O O  O O O O O O O  O O  O O  O O  O O O  O  O  ', 'B-COMPANY I-COMPANY I-COMPANY I-COMPANY I-COMPANY O O O  B-ADDRESS I-ADDRESS I-ADDRESS I-ADDRESS I-ADDRESS I-ADDRESS I-ADDRESS B-ADDRESS I-ADDRESS I-ADDRESS I-ADDRESS B-ADDRESS I-ADDRESS I-ADDRESS I-ADDRESS O O O O  O O O O  O O O O  O O O O O O  O  O O O  O  O O O  O  O O O  O O O  O O O  B-TOTAL I-TOTAL O  O O  O O  O  O  O O  O  O  B-DATE I-DATE I-DATE I-DATE O O  O O O O  O O O O  O O O O O  O O O O O  ', 'B-COMPANY I-COMPANY I-COMPANY I-COMPANY I-COMPANY O O O O  B-ADDRESS I-ADDRESS I-ADDRESS I-ADDRESS I-ADDRESS I-ADDRESS I-ADDRESS B-ADDRESS I-ADDRESS I-ADDRESS B-ADDRESS I-ADDRESS I-ADDRESS I-ADDRESS O O O O  O  O O  O O  O  O O O  O  O O O  O  O O O  O O O  O  O O  O  O  O  O O O O O  O  O O O  O  O O  O  O  O O O  O O O  O O O  O O  O O  O O  O O  B-TOTAL I-TOTAL O  O O  O  O O  O O  O  O  O O  O  O  B-DATE I-DATE I-DATE I-DATE O O  O O O O O  O O O O  O O O O  O O O O  ', 'O  B-COMPANY I-COMPANY I-COMPANY I-COMPANY B-ADDRESS I-ADDRESS I-ADDRESS I-ADDRESS I-ADDRESS B-ADDRESS I-ADDRESS B-ADDRESS I-ADDRESS I-ADDRESS I-ADDRESS I-ADDRESS O O  O O O O  O O  O O O  B-DATE I-DATE O O O O  O  O  O  O  O O O O O  O  O  O  O O  O  O  O  O O  O  O  O  O O  O O O  O O  O  O O O O O O  O O O  O  O  O  O  O  O O O  O  O O O  B-TOTAL O  O  O O  O  O  O  O  O  O  O  O  O  O  O O O  O O  ', 'B-COMPANY I-COMPANY I-COMPANY B-ADDRESS I-ADDRESS I-ADDRESS I-ADDRESS I-ADDRESS I-ADDRESS I-ADDRESS B-ADDRESS I-ADDRESS I-ADDRESS O O O O O  O O O  O O O O  O O O  O O O O O  O O O  O O  O O  O O O  O  O O O  O O O O  O  O  O O O O  O  O  O  O O O O O  O  O  O O  O O  B-TOTAL O  O  O  O  O  O  O  O  O O  O  O  O O O  O  O  O O O  B-DATE I-DATE I-DATE O O O O O O O  O O O O O  O O O  O O O O O  O O O O O O O O  O O O O O O  O O  O O O O O O  ', 'B-COMPANY I-COMPANY I-COMPANY I-COMPANY I-COMPANY B-ADDRESS I-ADDRESS I-ADDRESS I-ADDRESS I-ADDRESS B-ADDRESS I-ADDRESS O O O  O O O  O O O O  O O  O O O O  O  O O O O  O O O  O O  O O O O  O O O  O O  O O O O O  O O O  O O  O O O O  O O O  O O  O O O O  O O O  O  O  O O O O O  O O O  O  O  O O  O O  O  O O  O  O  O O  O O O  O  O O  O  O  B-TOTAL O O  O  O  O O O  O O O  O  O  O  O  O O O  O O O O  O O O O O  O O  O O O O O  O O O O O O O O  O O O  B-DATE I-DATE I-DATE I-DATE O O  O  O O O  O  ', 'B-COMPANY I-COMPANY I-COMPANY O O O  B-ADDRESS I-ADDRESS I-ADDRESS I-ADDRESS B-ADDRESS I-ADDRESS I-ADDRESS I-ADDRESS O O  O O  O O O  O  O O O O  O O O O O  O O  O  B-TOTAL I-TOTAL O O O O  O  O  O  O  O  O  O O  O  O  O  O O  O  O  O  O  O  O O O O O O O  O  O O  O O O  B-DATE I-DATE I-DATE I-DATE I-DATE O  O O O O O O  O O O O O O O O  O O O O O O  ', 'B-COMPANY I-COMPANY I-COMPANY O  B-ADDRESS I-ADDRESS I-ADDRESS I-ADDRESS B-ADDRESS I-ADDRESS I-ADDRESS I-ADDRESS I-ADDRESS B-ADDRESS I-ADDRESS I-ADDRESS O O O O  O O  O O O  O O  B-DATE I-DATE O  O  O  O  O  O  O O  O O  O  O  O  O O  O O  O  O  O  O O  O O  O  O  O  O O  O O  O  O  O  O O O  O O O  O  O O O  O  O O O O  O  O  B-TOTAL O  O  O O  O O  O O  O  O O  O  O  ', 'B-COMPANY I-COMPANY I-COMPANY I-COMPANY I-COMPANY B-ADDRESS I-ADDRESS I-ADDRESS I-ADDRESS I-ADDRESS I-ADDRESS I-ADDRESS B-ADDRESS I-ADDRESS I-ADDRESS B-ADDRESS I-ADDRESS I-ADDRESS I-ADDRESS O O O O  O O  O O O  O  O O O  O  O O  O O O  O O O  O O O  B-TOTAL I-TOTAL O  O O  O O O O O  B-DATE I-DATE I-DATE I-DATE O O O O  O O O O  O O O O  O O O O  O  O  O O  O O  ', 'B-COMPANY I-COMPANY I-COMPANY B-ADDRESS I-ADDRESS I-ADDRESS I-ADDRESS I-ADDRESS I-ADDRESS I-ADDRESS B-ADDRESS I-ADDRESS I-ADDRESS O O O O O  O O O  O O O O  O O O  O O O O O  O O O  O O  O O  O O O  O O O O  O  B-TOTAL O  O O O O O  O  O  O O  O O  O  O  O  O  O  O  O  O  O  O O  O O O  O  O  O  O  O O O  B-DATE I-DATE O O O O O O O  O O O O O  O O O  O O O O O  O O O O O O O O  O O O O O O  O O  O O O O O O  ', 'B-COMPANY I-COMPANY O O O O O  O O O O O  B-ADDRESS I-ADDRESS I-ADDRESS I-ADDRESS I-ADDRESS I-ADDRESS I-ADDRESS B-ADDRESS I-ADDRESS I-ADDRESS I-ADDRESS I-ADDRESS O O  O O  O O  O  B-DATE I-DATE I-DATE I-DATE O  O O O O  O  O  O  O  O O O O  O  O  O  B-TOTAL I-TOTAL O O O  O O  O  O  O  O  O  O  O  O  O O  O O O  O  O  O  O  O  O  O  O O  O O O  ', 'B-COMPANY I-COMPANY I-COMPANY I-COMPANY I-COMPANY I-COMPANY B-ADDRESS I-ADDRESS I-ADDRESS I-ADDRESS B-ADDRESS I-ADDRESS I-ADDRESS I-ADDRESS B-ADDRESS I-ADDRESS I-ADDRESS I-ADDRESS I-ADDRESS O  O O O  O O O  O  O O  O O O O  O O  O O  O O O  O  O O  O  B-TOTAL O O O  O  O O  O O  O  O  O  O  O O O O  O  O  O  O  O  O  O O O O  O O  O O O O O  O O O O  O O O O O  O O O O O O  O O O O O O  O O O O  O O O O  O  B-DATE O  O O  O O  ', 'B-COMPANY I-COMPANY I-COMPANY I-COMPANY B-COMPANY B-ADDRESS I-ADDRESS I-ADDRESS I-ADDRESS I-ADDRESS I-ADDRESS B-ADDRESS I-ADDRESS I-ADDRESS I-ADDRESS B-ADDRESS I-ADDRESS I-ADDRESS I-ADDRESS B-ADDRESS O O O O  O O O O  O O  O O  O O  B-DATE I-DATE O O O  O  O  O  O O O  O  O  O  O  O  O O  B-TOTAL O O O O  O  O O O O  O  O O O  O  O O  O  O O O  O  O O O O  O  O  O  O  O O  O  O  O O  O O O O O O  O O O O O O  O O  O  ', 'O  O  O  B-COMPANY I-COMPANY B-COMPANY B-COMPANY I-COMPANY I-COMPANY I-COMPANY I-COMPANY I-COMPANY I-COMPANY B-ADDRESS I-ADDRESS I-ADDRESS I-ADDRESS I-ADDRESS I-ADDRESS B-ADDRESS I-ADDRESS I-ADDRESS I-ADDRESS I-ADDRESS I-ADDRESS B-ADDRESS I-ADDRESS I-ADDRESS O O O  O O  O O  B-DATE I-DATE I-DATE I-DATE O O O  O  O O  O O O  O  O  O  O  O  O  O  O  O  O O O O O O  O  O  B-TOTAL O  O  O  O  O O  O  O  O O O O  O  O  O O O O O  O O O O  O  O  O O  O  O O O  ', 'B-COMPANY I-COMPANY I-COMPANY O  B-ADDRESS I-ADDRESS I-ADDRESS I-ADDRESS B-ADDRESS I-ADDRESS I-ADDRESS I-ADDRESS I-ADDRESS B-ADDRESS I-ADDRESS I-ADDRESS O O O O  O O  O O O  O O  O  B-DATE I-DATE I-DATE O  O  O  O  O  O O  O O  O  O  O  O O  O O  O  O  O  O O  O O  O  O  O  O O  O O O  O  O O O  O  O O O O  O  O  B-TOTAL O  O  O O  O O  O O  O  O O  O  O  ', 'O O  B-COMPANY I-COMPANY O O O O O  B-COMPANY I-COMPANY I-COMPANY I-COMPANY B-ADDRESS I-ADDRESS I-ADDRESS I-ADDRESS I-ADDRESS I-ADDRESS B-ADDRESS I-ADDRESS I-ADDRESS O O O  O O O O  O  O O  O  O  O O  O O  O  B-DATE O O O O  O O O  O O  O  O  O  O  O  O  O  O  O  O  O  O O  O  O  O  O  O O  O  O  O O  O  B-TOTAL O  O  O  O O  O  O  O  O O  O  O  O  O O O O O O  O O O O O  O O O O  O O  O O O O O O O  O O O  O O O  O O O O O  O O O  O O O O O O O O O O O O O  O  O O O O O O O  O O O  O O O O O  O  O  O O  O  O  O O  O  O  O  ', 'B-COMPANY I-COMPANY I-COMPANY I-COMPANY B-DATE I-DATE I-DATE I-DATE O  B-ADDRESS I-ADDRESS I-ADDRESS I-ADDRESS I-ADDRESS B-ADDRESS I-ADDRESS I-ADDRESS O O  O O O O  O  O O O O O O O  O  O O O O  O  B-TOTAL I-TOTAL I-TOTAL O O O  O O O  O O  O  O  O  O  O O  O O O O  O O O  O O O O  O O O O  O O O O O  O O O O O O  O  O  O  O  O  O  O  O  O  O  O  ', 'B-COMPANY I-COMPANY I-COMPANY I-COMPANY I-COMPANY O  B-ADDRESS I-ADDRESS I-ADDRESS I-ADDRESS I-ADDRESS I-ADDRESS B-ADDRESS I-ADDRESS I-ADDRESS I-ADDRESS B-ADDRESS I-ADDRESS I-ADDRESS I-ADDRESS I-ADDRESS O O  O O O O  O O  O O  O O  B-DATE I-DATE O  O O  O O  O  O  O  O  O  O  O  O  O  O  O  O  O O O O O O  O O  O  O  O O O O O  O  O O  O  O O O  O  O O  O  O O  O O  O O  O  O O  O O  O  O  O  O  O  O  O  O O  O  O  O O O O O  O O  O  B-TOTAL O O  O  ', 'B-COMPANY I-COMPANY I-COMPANY I-COMPANY I-COMPANY B-COMPANY I-COMPANY I-COMPANY O  O O O O O  B-ADDRESS I-ADDRESS B-ADDRESS I-ADDRESS B-ADDRESS I-ADDRESS O O O O O  O O  O O  O  B-DATE I-DATE O O  O  O  O  O  O  O  O O O  O  O  O  O  O  O  O  O  O  O  O  O  O O  O O  O O  O  O  O  O  O  O  O O  O O O O  O  O  O  O  O  O  O O  O O  O  O  O  O  O  O O O  O  O O O  O  O O O  O  O O O  B-TOTAL O O  O  O  O O  O  O  O O O  O  O  O O  O O O  ', 'B-COMPANY I-COMPANY I-COMPANY B-COMPANY I-COMPANY B-COMPANY I-COMPANY I-COMPANY O  B-ADDRESS I-ADDRESS I-ADDRESS I-ADDRESS I-ADDRESS B-ADDRESS I-ADDRESS I-ADDRESS I-ADDRESS B-ADDRESS I-ADDRESS I-ADDRESS I-ADDRESS I-ADDRESS O O O O O O O O  O O O  O O O  O  B-DATE I-DATE I-DATE I-DATE I-DATE O O O O O  O  O  O  O  O  O  O  O  O  O  O  O O O O O  O O  O  O O  O  O  O  O  O  O  O  O  B-TOTAL O  O  O O O O O O  O O  O  O  O  O  O  O  O  O  O O  O  O O O O O  O O O O O  O O O O O O  O O O O O O  O O O O O O O O  O O O  ', 'B-COMPANY I-COMPANY I-COMPANY I-COMPANY O  B-ADDRESS I-ADDRESS I-ADDRESS I-ADDRESS I-ADDRESS I-ADDRESS B-ADDRESS I-ADDRESS I-ADDRESS O O O  O O O  O O  O O O O O O O  O  O O O O O O O O  O  O  O O  O  O O  O O  O  O O  O  O  O  O  O O  O O O  O O O  O  O O O  O  O O O O  O O  O O O  O O  O O O O  O O O  O O  O O  O O  O O  O O  O O  O  B-TOTAL I-TOTAL O  O O  O  O O  O O O O  O O O O O  O  B-DATE O  ', 'B-COMPANY I-COMPANY I-COMPANY I-COMPANY I-COMPANY I-COMPANY I-COMPANY O  B-ADDRESS I-ADDRESS I-ADDRESS I-ADDRESS I-ADDRESS I-ADDRESS I-ADDRESS B-ADDRESS I-ADDRESS I-ADDRESS O O O O O  O O  O O  O  O O  O  B-DATE I-DATE I-DATE O O O  O  O  O  O  O O  B-ADDRESS O  O O  O O  B-ADDRESS O  O O  O  B-ADDRESS O  O O  O O O  O O O  O  O O O O  O  O  B-TOTAL O O  O  O  O O O  O O  O O  O  O  O  O O  O  O  O O O O  O O O  O  ', 'B-COMPANY I-COMPANY I-COMPANY I-COMPANY I-COMPANY I-COMPANY I-COMPANY B-ADDRESS I-ADDRESS I-ADDRESS I-ADDRESS I-ADDRESS B-ADDRESS I-ADDRESS I-ADDRESS I-ADDRESS O O O  O O O  O O O O O  O O O O  O  B-DATE I-DATE O O O O O  O O O O O O  O O O  O O O O  O O  O O  O  O  O  O  O  O O  O  O  B-ADDRESS O  O  O  O  O  B-ADDRESS O  O  B-ADDRESS O  O O  O  O  O  O  O  O  O O O  O  O  O  O  O  O  O  O  O  O  O  O  O  O  O  O O O O O  O  O  O  O O O O O  O  O O O  O  O O  B-TOTAL O  O O O O O O O  O O O O O O  O O O O O O O  O O O O O O O O  O O O O O O O  O O  O O  O O  O  O  O  ', 'B-COMPANY I-COMPANY I-COMPANY I-COMPANY I-COMPANY I-COMPANY I-COMPANY O  B-ADDRESS I-ADDRESS I-ADDRESS I-ADDRESS I-ADDRESS I-ADDRESS I-ADDRESS B-ADDRESS I-ADDRESS I-ADDRESS O O O O O  O O  O O  O  O O  O  O  B-DATE I-DATE O  O O  O  O  O  O  O O  B-ADDRESS O  O O  O  B-ADDRESS O  O O  O O  B-ADDRESS O  O O  O O  B-ADDRESS O  O O  O  O  O  O O  O O O  O O O O  O  O O O O O  O  O O  B-TOTAL O O  O  O  O O O  O O  O  O O  O  O O  O  O  O  O  O O O O  O O O  ', 'B-COMPANY I-COMPANY I-COMPANY I-COMPANY B-ADDRESS I-ADDRESS I-ADDRESS I-ADDRESS B-ADDRESS I-ADDRESS I-ADDRESS B-ADDRESS I-ADDRESS I-ADDRESS I-ADDRESS B-ADDRESS I-ADDRESS I-ADDRESS B-ADDRESS I-ADDRESS I-ADDRESS O O O O  O O O O  O O O O O  O  O  O  O O O  O  O  O  B-DATE I-DATE O  O  O  O  O O O  O  O O O O  O O  O O O  O  O O O O  O O O O  O O  O O O  O  O O O O O  O O O O  O O  O O  O O  O  O  O  O  O  O  O  O  O  O  O  O  B-TOTAL O O O O O  O O O O O O  O O O O  ', 'B-COMPANY I-COMPANY B-COMPANY I-COMPANY I-COMPANY I-COMPANY O O O  O O O O  B-ADDRESS I-ADDRESS I-ADDRESS I-ADDRESS I-ADDRESS I-ADDRESS I-ADDRESS B-ADDRESS I-ADDRESS I-ADDRESS I-ADDRESS O O  O O O  B-DATE O  O O O  O O O  O O  O  O  O O O O O O  O O O  O O  O O O  O O  O O O O O  B-TOTAL O  O  O  O  O O  O O  O O  O O  O  O O O  O  O  O O  O  O O O O O  O O O O  O O O O O  O  O O O O  O  ', 'B-COMPANY I-COMPANY I-COMPANY I-COMPANY I-COMPANY I-COMPANY B-ADDRESS I-ADDRESS I-ADDRESS B-ADDRESS I-ADDRESS I-ADDRESS I-ADDRESS I-ADDRESS I-ADDRESS B-ADDRESS I-ADDRESS I-ADDRESS O  O O O  O O O  O O O  O  O  O  O O O O  O  O  O O  O O O  O  O O  O  O  O  O  O  O  B-TOTAL O  O O O O  O  O  O  O  O  O O O O  O O  O O O O O  O O O O  O O O O  O O  O O O O O  O O O O O O  O O O O O O  O O O O  O O O O  O  O  O  O O  O O  B-DATE ', 'B-COMPANY I-COMPANY I-COMPANY O O O  O  O O  B-ADDRESS I-ADDRESS I-ADDRESS I-ADDRESS I-ADDRESS B-ADDRESS I-ADDRESS I-ADDRESS I-ADDRESS I-ADDRESS I-ADDRESS I-ADDRESS O O  O O O  B-ADDRESS I-ADDRESS O  B-DATE I-DATE I-DATE I-DATE I-DATE O  O  O  O  O  O  O  O  O O O  O O  O  O  O  O  O O O O O O  O O  O  O O O O O O  O O  O  O O  O  O O O  O  O O  O  O O  B-TOTAL O  O  O O  O  O O O  O O  O  O  O  O  O  O  O  O  O O O O O  O O O  O O O O  ', 'B-COMPANY I-COMPANY I-COMPANY I-COMPANY B-DATE I-DATE I-DATE I-DATE O  B-ADDRESS I-ADDRESS I-ADDRESS I-ADDRESS I-ADDRESS B-ADDRESS I-ADDRESS I-ADDRESS I-ADDRESS O O  O O O  O  O  O  O O O O O O O  O  O O O O  O  O  O  O  O  O O O  O O O  O O  B-TOTAL I-TOTAL I-TOTAL O O  O  O  O  O  O  O O  O O O O  O  O  O  O  O O O  O O O O  O O O O O  O O O O O O  O  ', 'B-COMPANY I-COMPANY I-COMPANY I-COMPANY O  B-ADDRESS I-ADDRESS I-ADDRESS I-ADDRESS I-ADDRESS I-ADDRESS B-ADDRESS I-ADDRESS I-ADDRESS I-ADDRESS I-ADDRESS I-ADDRESS B-ADDRESS I-ADDRESS I-ADDRESS O O  O O O  O O O  O  B-ADDRESS I-ADDRESS O  B-DATE I-DATE O  O  O O  O  O  O  O  O  O  O  O  O  O  O  O  O  O O O O O  O O  O  B-TOTAL O O O O O  O  O O  O  O O O  O  O O  O  O O O O O O  O  O O  O  O O  O  O O  O O  O  O O  O O  O  O  O  O  O O  O  O  O O O O O O O  ', 'B-COMPANY I-COMPANY I-COMPANY I-COMPANY I-COMPANY I-COMPANY B-ADDRESS I-ADDRESS I-ADDRESS I-ADDRESS I-ADDRESS O O O O O  O  O O  O O  O O  O  B-DATE I-DATE I-DATE I-DATE I-DATE O O  O  O O  O O  O O O O O O  O O O O  O O O O  O O O O  O O O O O O  O O O  O O  O O O  O O O  O O O  O O O  O O O  O O O O O  O O O  O O O  O O O  O O  O O  O O  O O  O O  O O  O O  O O  O  O  O O  O O  O  O  O  O  O O O O  O O O  O O  O  O  O  B-TOTAL O  O  O O O O  O O O O  O O O  O O O O O O  ', 'O O O O O O O  B-COMPANY I-COMPANY I-COMPANY I-COMPANY O  B-ADDRESS I-ADDRESS I-ADDRESS I-ADDRESS I-ADDRESS B-ADDRESS I-ADDRESS I-ADDRESS I-ADDRESS I-ADDRESS B-ADDRESS I-ADDRESS I-ADDRESS I-ADDRESS O O O  O O O O  O O O O  O O O  B-COMPANY O O  O O  B-DATE I-DATE O  O O  O O  O O  O O  O  O  O  O  O  O  O  O  O  O  O O O  O O  O  O  O O O O O  O  O O  O  O O  O  O O  O  O O O  B-TOTAL O O O  O O  O  O O  O  O O  O O  O  O O  O O  O  O  O  O  O O  O  O  ', 'O O  B-COMPANY I-COMPANY I-COMPANY I-COMPANY B-ADDRESS I-ADDRESS I-ADDRESS I-ADDRESS I-ADDRESS B-ADDRESS I-ADDRESS I-ADDRESS O  O  O O O  O  O O O  O  O O  B-DATE I-DATE I-DATE O  O  O  O  O  O  O  O O O  O O  O  O  O  O O O O  O O  O  O  O  O O O O  O O  O  O  O  O O O O O  O  O O O  O  O O O  B-TOTAL O O  O O O  O  O  O  O  O O  O  O  O  ', 'B-COMPANY O  B-ADDRESS I-ADDRESS I-ADDRESS I-ADDRESS B-ADDRESS I-ADDRESS I-ADDRESS I-ADDRESS I-ADDRESS O O O  O  O  O  O  O O O O  O O  O O O  O O  O O O O  O  O  O  O  O  O  O O  O  B-TOTAL O  O  O O O  O  O O  B-DATE I-DATE I-DATE O O O  O O  ', 'B-COMPANY I-COMPANY I-COMPANY I-COMPANY I-COMPANY B-ADDRESS I-ADDRESS I-ADDRESS I-ADDRESS I-ADDRESS B-ADDRESS I-ADDRESS B-ADDRESS I-ADDRESS I-ADDRESS O O  O O O O O  O O O O  O  O  B-DATE O O O O  O O  O O O O  O O  O O O O O  O  O O O  O  O O  B-TOTAL O O  O  O O  O  O O  O  O  O O O  O  O  O O O O O  O O O O O O  ', 'B-COMPANY I-COMPANY I-COMPANY B-ADDRESS I-ADDRESS I-ADDRESS I-ADDRESS I-ADDRESS I-ADDRESS I-ADDRESS B-ADDRESS I-ADDRESS I-ADDRESS O O O O O  O O O  O O O O  O O  O O O  O O O O O  O O O  O O  O O O  O O O O  O  O  O  O O O O O  O  O  O O  O O  O  O  B-TOTAL O  O  O  O  O O  O  O  O O O  O  O  O O O  O O O O O O O  O O O O O  O O O  O O O O O  O O O O O O O O  O O O O O O  O O  O O O O O O  O  O  B-DATE I-DATE ', 'B-COMPANY I-COMPANY I-COMPANY I-COMPANY O  B-ADDRESS I-ADDRESS I-ADDRESS I-ADDRESS I-ADDRESS B-ADDRESS B-ADDRESS I-ADDRESS I-ADDRESS O O O  O O O O  O O O  O  O O  O O  B-DATE I-DATE O  O O  O O  O O  O  O  O  O  O  O  O  O O O  O  O O  O  O  O  O  O  O  O  O  O O  O  B-TOTAL O O O O O  O  O O  O  O O O  O  O O  O  O O O O O O  O  O O  O  O O  O  O O  O O  O  O  O O  O  O  O  O  O O  O  O  O O O O O O O  ', 'O  B-COMPANY I-COMPANY I-COMPANY I-COMPANY I-COMPANY I-COMPANY B-ADDRESS I-ADDRESS I-ADDRESS I-ADDRESS B-ADDRESS I-ADDRESS I-ADDRESS I-ADDRESS O O O  O O O O  O O  O O  O O O  O  O O O O  O O  O O  O O  O O  O O  B-DATE I-DATE I-DATE I-DATE O O  O  O O  O  O O O O O O  O  O  O O  O O O O O  O  O  O O  O O  O O  O  O O O O  O  O O O  O  O O O  O  O O O O  O  O  B-TOTAL O  O  O  O  O O  O O O O  O  O  O  O  O O O  O O O O O O  ', 'B-COMPANY I-COMPANY I-COMPANY I-COMPANY I-COMPANY I-COMPANY I-COMPANY O  B-ADDRESS I-ADDRESS I-ADDRESS I-ADDRESS I-ADDRESS I-ADDRESS I-ADDRESS B-ADDRESS I-ADDRESS I-ADDRESS O O O O O  O O  O O  O  O O  O  B-DATE I-DATE I-DATE O O O  O  O  O  O  O O  O  O O O  O O O  O  O  O O  O O  O  O  O O  O O  O  O  O O  O  O O O  O  O O O O  O  O O  B-TOTAL O O  O  O  O O O  O O  O  O O  O  O  O O  O  O  O O O O  O O O  O  ', 'O  B-COMPANY I-COMPANY I-COMPANY I-COMPANY I-COMPANY O  O O O  B-ADDRESS I-ADDRESS I-ADDRESS I-ADDRESS I-ADDRESS I-ADDRESS B-ADDRESS I-ADDRESS I-ADDRESS I-ADDRESS I-ADDRESS B-ADDRESS O O O O  O O O O O O  O O O  O O  O O O  O O  B-DATE I-DATE I-DATE I-DATE I-DATE I-DATE O O  O  O O O  O O O  O O O  O  O O  O O O O  O  O O O O  B-TOTAL O O  O  O O  O  O  O  O O O O  O  O O O O O O  O O O O O  ', 'B-COMPANY I-COMPANY I-COMPANY O O O  B-ADDRESS I-ADDRESS I-ADDRESS I-ADDRESS B-ADDRESS I-ADDRESS I-ADDRESS B-ADDRESS I-ADDRESS I-ADDRESS O O O O  O O  O  O O  O O  O O  O O  B-DATE I-DATE I-DATE O  O O O  O  O O  O O  O O  O O O O O  O  B-TOTAL I-TOTAL I-TOTAL O  O O  O  O O O O  O  O O  O  O O O  O  O  O  O O  O O O  O O  O  O O O  O O  O  O  O O O  O  O  O O O O  O  O  O O  ', 'B-COMPANY B-COMPANY I-COMPANY I-COMPANY I-COMPANY O O  O O O O O  B-ADDRESS I-ADDRESS I-ADDRESS I-ADDRESS B-ADDRESS I-ADDRESS I-ADDRESS I-ADDRESS B-ADDRESS I-ADDRESS I-ADDRESS I-ADDRESS O O  O O  O O  O O  O  B-DATE I-DATE I-DATE I-DATE O  O O O  O  O  O  O  O O  O O  O  O  O  O  O O  O  O  O  O O O O O  O  O O  O  O O O O O  B-TOTAL O O O  O  O O  O  O O O O O O O O O O  O O O O O O O O O O  O O O O O O O O O O O O  O O O O O O O O O O O O  O O O O O O O O O  O O O O O O O O O  O O O O O O O O O  O O O O O O O  O O O O O O O O O O O  O O O O  O O  O  O  O  O  O  O  O  O O O O O O  O O O O  O O O O O O  O O O O  ', 'B-COMPANY I-COMPANY I-COMPANY I-COMPANY I-COMPANY I-COMPANY O  B-ADDRESS I-ADDRESS I-ADDRESS I-ADDRESS I-ADDRESS I-ADDRESS I-ADDRESS I-ADDRESS B-ADDRESS I-ADDRESS I-ADDRESS I-ADDRESS I-ADDRESS I-ADDRESS B-ADDRESS I-ADDRESS I-ADDRESS I-ADDRESS I-ADDRESS I-ADDRESS O O O  O  O  B-DATE I-DATE I-DATE I-DATE O O  O O  O O  B-ADDRESS O O O  O  O O O  O O O  O O O  O O  O  B-ADDRESS I-ADDRESS O O O O  B-ADDRESS I-ADDRESS O O  O  O  O  O  O  O  O  O  O  B-TOTAL I-TOTAL O O  O  ', 'O O  B-COMPANY I-COMPANY I-COMPANY I-COMPANY I-COMPANY I-COMPANY I-COMPANY O O O O  B-ADDRESS I-ADDRESS I-ADDRESS I-ADDRESS I-ADDRESS I-ADDRESS B-ADDRESS I-ADDRESS I-ADDRESS I-ADDRESS I-ADDRESS I-ADDRESS I-ADDRESS I-ADDRESS B-ADDRESS I-ADDRESS I-ADDRESS I-ADDRESS O O  O O O O O  O O O  O  O  B-DATE I-DATE I-DATE I-DATE O O  O O O  O O  O O  O  O  O  O  O O O O O  O  B-ADDRESS O  O  O O O O  O  B-ADDRESS O  O  O O O O  O  O  O  O  O O O  O  B-ADDRESS O  O  O O O  O  B-ADDRESS O  O  O O O O  O  B-ADDRESS O  O  O O O O  O O O  O  O O  O  O O O  O  O O  O  O  B-TOTAL I-TOTAL O O  O O  O O  O O  O O  O O  O O  O  O  O O  O  O  O O O O O O  ', 'B-COMPANY I-COMPANY I-COMPANY I-COMPANY I-COMPANY I-COMPANY B-ADDRESS I-ADDRESS I-ADDRESS I-ADDRESS I-ADDRESS B-ADDRESS I-ADDRESS I-ADDRESS B-ADDRESS I-ADDRESS I-ADDRESS O O  O O O O  O O  O  O  O O  O O  O O  O  O  O  O  O  O  O  O  O O  O  O  O  O O  O  O  O  O  O  O O  O  O O  O  O  O  O O  O  O O O  O  O  O  O O  O O  O  O O  O  O O  O  O  O  O O O O  B-TOTAL O  O  O  O  O  O  O  O  O O O  B-DATE I-DATE I-DATE ', 'B-COMPANY I-COMPANY I-COMPANY B-COMPANY I-COMPANY B-COMPANY I-COMPANY I-COMPANY O  B-ADDRESS I-ADDRESS I-ADDRESS I-ADDRESS I-ADDRESS B-ADDRESS I-ADDRESS I-ADDRESS I-ADDRESS B-ADDRESS I-ADDRESS I-ADDRESS I-ADDRESS I-ADDRESS O O O O O O O O  O O O  O O O  O  B-DATE I-DATE I-DATE I-DATE I-DATE O O O O  O O O  O O  O  O  O  O  O  O  O  O  O  O O  O O O O  O O  O  O O  O  O  O  O  O  O  O  O  B-TOTAL O  O  O O O O O O  O O  O  O  O  O  O  O  O  O  O O  O  O O O O O  O O O O O  O O O O O  O O O O O O  O O O O O O O O  O O O  ', 'B-COMPANY I-COMPANY B-COMPANY I-COMPANY I-COMPANY I-COMPANY O O O  O O O O  B-ADDRESS I-ADDRESS I-ADDRESS I-ADDRESS I-ADDRESS I-ADDRESS I-ADDRESS B-ADDRESS I-ADDRESS I-ADDRESS I-ADDRESS O O  O O O  B-DATE O  O O O  O O  O O  O  O  O O O O  O O O  O O  O O  O  O O O O O  O  O O  O  O O  B-TOTAL O  O  O  O  O O  O O  O O  O  O O O  O  O  O O  O  O O O O O  O O O O  O O O O O  O  O O O O  O  O O  ', 'B-COMPANY I-COMPANY I-COMPANY I-COMPANY I-COMPANY B-ADDRESS I-ADDRESS I-ADDRESS I-ADDRESS B-ADDRESS I-ADDRESS B-ADDRESS I-ADDRESS I-ADDRESS O O O  B-DATE I-DATE I-DATE I-DATE I-DATE O O O  O O O  O O  O O  O O O O O  O O O  O O O O  O O O O  O O O O  O O O O O  O O  O O  O O  O O  O O  O  O  O  O  O  B-TOTAL O  O  O O  O O  O O  O  O  O  O  O O O  O O O O O O O  O O O O O O O  O O  O O O O  O O  O O  O O O  O O O O O  O O O O  O O O O  ', 'B-COMPANY I-COMPANY B-COMPANY I-COMPANY I-COMPANY I-COMPANY O O O  O O O O  B-ADDRESS I-ADDRESS I-ADDRESS I-ADDRESS I-ADDRESS I-ADDRESS I-ADDRESS B-ADDRESS I-ADDRESS I-ADDRESS I-ADDRESS O O O  O O O  B-DATE I-DATE O  O O O O  O O O  O O O O O  O O O O  O  O  O O O O  O O O  O O  O O O O O  O O O  O O  O O O O  O O  O  O  O O  O  O O  O  O O  O  O O  O O O O O  O O  O O  O  O  O  O  B-TOTAL O  O  O O  O O  O O O  O O O  O O  O  O  O  O O  O  O  O O  O  O O O O O  O O O O  O O O O O  O  O O O O  O  ', 'B-COMPANY I-COMPANY I-COMPANY I-COMPANY I-COMPANY I-COMPANY I-COMPANY B-ADDRESS I-ADDRESS I-ADDRESS I-ADDRESS I-ADDRESS B-ADDRESS I-ADDRESS I-ADDRESS I-ADDRESS O O O  O O O  O  O O O O O  O O O O  O  B-DATE I-DATE O O O O O  O O O O O O  O O O  O O O O  O O O  O O  O  O  O  O  O  O  O  O O  O  O  O  O  O  O  O  O  O  O  O  O  O  O O  O  O  O  O  O  O  O O O  O  O O  O  O  O  O  O  O O O O O  O  O  O  O O O O O  O  O O O  O  O O  B-TOTAL O  O O O O O O O  O O O O O O  O O O O O O O  O O O O O O O O  O O O O O O O  O O  O O  O O  ', 'B-COMPANY I-COMPANY I-COMPANY I-COMPANY B-ADDRESS I-ADDRESS I-ADDRESS I-ADDRESS B-ADDRESS I-ADDRESS I-ADDRESS I-ADDRESS B-ADDRESS I-ADDRESS I-ADDRESS O O O  O O O  O O O  O  O  O O O  O  O  O O  O  O O O O  O  O O O  O  O  O  O O  O  O  O O  O  O  O O  O  O  O O  O  O O O O  O  O  O O  O O  O  O  O  O  B-TOTAL O O  O  O O  O  O O  O  O  B-DATE I-DATE I-DATE O  O O  O  O  O  O  O  O  O  O  O  O  O O  O O O  O O O O O  O  O  O  O  O  O  ', 'B-COMPANY I-COMPANY I-COMPANY I-COMPANY O  B-ADDRESS I-ADDRESS I-ADDRESS I-ADDRESS I-ADDRESS B-ADDRESS B-ADDRESS I-ADDRESS I-ADDRESS O O  O O O  O  O O  O O  B-DATE I-DATE O  O O  O O  O  O  O  O  O  O  O  O  O  B-TOTAL O  O  O O O O  O O  O  O  O O O O O  O  O O  O  O O O  O  O O  O  O O O O O  O  O O  O  O O  O  O O  O O  O  O  O  O  O  O  O  O  O  O  O O O O  ', 'B-COMPANY I-COMPANY I-COMPANY I-COMPANY O  B-ADDRESS I-ADDRESS I-ADDRESS I-ADDRESS I-ADDRESS B-ADDRESS B-ADDRESS I-ADDRESS I-ADDRESS O O O  O O O O  O O O  O  O O  O O O O O O O  O O  B-DATE I-DATE O  O  O O  O O  O O  O O  O  O  O  O  O  O  O  O  O  O  O O O O  O  O  O  O  O  O O O O  O O  O  B-TOTAL O O O O O  O  O O  O  O O O  O  O O  O  O O O O O O  O  O O  O  O O  O  O O  O O  O  O  O  O  O  O  O  O O  O  ', 'B-COMPANY I-COMPANY I-COMPANY I-COMPANY B-DATE I-DATE I-DATE I-DATE O  B-ADDRESS I-ADDRESS I-ADDRESS I-ADDRESS I-ADDRESS B-ADDRESS I-ADDRESS I-ADDRESS O O  O O O  O  O  O  O O O O O  O  O  O  O O O O O O O  O  O  O  O O O O  O  O  O  B-TOTAL I-TOTAL I-TOTAL O O O  O O O  O O  O  O  O  O  O  O O  O  O  O O O O  O  O  O O O  O O O O  O O O O  O O O O O  O O O O O O  O  ', 'B-COMPANY I-COMPANY I-COMPANY I-COMPANY I-COMPANY O O O  B-ADDRESS I-ADDRESS I-ADDRESS I-ADDRESS I-ADDRESS I-ADDRESS I-ADDRESS B-ADDRESS I-ADDRESS I-ADDRESS B-ADDRESS I-ADDRESS I-ADDRESS I-ADDRESS O O O O  O O  O O O O  O O O O  O  O O O  O  O O O  O  O O  O  O O O  O  O O O  O  O O  O O O  O  O O  O  O O O  O  O O O  O O O  O O O  B-TOTAL I-TOTAL O  O O  O  O O  O O O O O  O O  B-DATE I-DATE I-DATE I-DATE O O  O O O  O O O O  O O O O O  O O O O O  ', 'B-COMPANY I-COMPANY I-COMPANY I-COMPANY I-COMPANY B-ADDRESS I-ADDRESS I-ADDRESS I-ADDRESS I-ADDRESS B-ADDRESS I-ADDRESS B-ADDRESS I-ADDRESS I-ADDRESS B-ADDRESS I-ADDRESS I-ADDRESS O O O O O  O O O O  O  O  B-DATE O O O O O O  B-TOTAL I-TOTAL O O O O  O O O O O  O  O O  O  O O  O  O O  O  O  O O O  O  O  O O O O O  O O O O O O  ', 'O O  B-COMPANY I-COMPANY O O O O O  B-COMPANY I-COMPANY I-COMPANY I-COMPANY B-ADDRESS I-ADDRESS I-ADDRESS I-ADDRESS I-ADDRESS B-ADDRESS I-ADDRESS I-ADDRESS I-ADDRESS I-ADDRESS I-ADDRESS B-ADDRESS O O O  O O O  O  O O  O  O  O O O O  O O O  O O O  O O  O  O  O  O  O O  O  O  O  B-TOTAL O O  O  O  O O  O  O  O  O  O O  O  O  O O O  O  O  O O O O O O  O O O O O  O O O O  O O  O O O O O O O  O O O  O O O  O O O O O  O O O  O O O O O O O O O O O O O  O  O O O O O O O  O O  O O O O O  O O  O O  O O O O O  O O O  O  O  B-DATE I-DATE O  O  O  O  O  O  O  O  O  O  O  O  O  O  O  O  ', 'B-COMPANY I-COMPANY I-COMPANY I-COMPANY O  B-ADDRESS I-ADDRESS I-ADDRESS I-ADDRESS B-ADDRESS I-ADDRESS I-ADDRESS O O O  O O O  O O O O  O O  O O O  O O O O  O O O O O  O O O  B-ADDRESS I-ADDRESS O  O O  O  O  B-DATE I-DATE O  O  O  O O  O  O  O  O  O  O  O  O  O  O  O  O  O O  O  O  O  O  O  O  O O O  O  O  O  O  O O  O  B-TOTAL O O O O  O  O  O  O  O  O O  O  O  O  O  O  O O O O O  O  O  O  O  O  O  O  O  O O  O O  O  O O  O O  O  O  O  O  O O  O  O  O O O O O O O  ', 'B-COMPANY I-COMPANY I-COMPANY I-COMPANY I-COMPANY I-COMPANY I-COMPANY B-ADDRESS I-ADDRESS I-ADDRESS I-ADDRESS I-ADDRESS B-ADDRESS I-ADDRESS I-ADDRESS I-ADDRESS O O O  O O O  O O O O O  O O O O  B-DATE I-DATE O  O O O O O  O O O O O O  O O O  O O O O  O O  O O  O  O  O  O  O  O  O  O  O O  O  O  O  O  O  O  O  O  O  O  O  O  O  O O  O  O  O  O  O  O  O O O  O O  O  O  O  O  O  O  O  O  O  O  O  O  O O O O O  O  O  O  O O O O O  O  O O O  O  O O  B-TOTAL O  O O O O O O O  O O O O O O  O O O O O O O  O O O O O O O O  O O O O O O O  O O  O O  O O  O  ', 'B-COMPANY I-COMPANY I-COMPANY B-ADDRESS I-ADDRESS I-ADDRESS I-ADDRESS I-ADDRESS I-ADDRESS I-ADDRESS B-ADDRESS I-ADDRESS I-ADDRESS O O O O O  O O O  O O O O  O O  O O O  O O O O O  O O O  O O  O O O  O O O O O  O O O  B-TOTAL O  O O O O O  O  O  O O  O O  O  O  O  O  O  O  O  O  O  O O  O  O  O O O  O  O  O O O  B-DATE I-DATE I-DATE O O O O O O O  O O O O O  O O O  O O O O O  O O O O O O O O  O O O O O O  O O  O O O O O O  ', 'B-COMPANY I-COMPANY I-COMPANY I-COMPANY I-COMPANY I-COMPANY I-COMPANY B-ADDRESS I-ADDRESS I-ADDRESS I-ADDRESS I-ADDRESS B-ADDRESS I-ADDRESS I-ADDRESS I-ADDRESS O O O  O O  O O O  O O O O O  O O O O  O  B-DATE I-DATE O O O O O  O O O O O O  O O O  O O O O  O O  O O  O  O  O  O  O  O  O  O  O O  O  O  B-ADDRESS O  B-ADDRESS O  O  O  O  B-ADDRESS O  B-ADDRESS O  O O  O  O  B-ADDRESS O  O  O  O O O  O  O  O  B-ADDRESS O  O  B-ADDRESS O  O  O  O  O  O  O  O  O O  O  O  O  O  O  O  O O O O O  O  O  O  O O O O O  O  O O O  O  O O  B-TOTAL O  O O O O O O O  O O O O O O  O O O O O O O  O O O O O O O O  O O O O O O O  O O  O O  O  ', 'O O O  O O  B-COMPANY I-COMPANY I-COMPANY O  O O O  B-ADDRESS I-ADDRESS I-ADDRESS B-ADDRESS I-ADDRESS I-ADDRESS I-ADDRESS O O  O  O O O  B-DATE I-DATE O O O  O O  O O O  O  O  O  O  O  O  O  O  O  O O  O O O O O O O  O  O  O  O O  O O O O O O O O  O O  O  O  O  O  O  O  O  O  O  O  B-TOTAL O  O  O  O  O O O O O  O O  O O O O  O O  O  O  O  O  O  O  O  O  O O  O  O  ', 'B-COMPANY I-COMPANY I-COMPANY I-COMPANY I-COMPANY B-ADDRESS I-ADDRESS I-ADDRESS I-ADDRESS I-ADDRESS B-ADDRESS I-ADDRESS B-ADDRESS I-ADDRESS I-ADDRESS B-ADDRESS I-ADDRESS I-ADDRESS O O O O O  O O O O  O  O  B-DATE O O O O O  O O  O O O O  O O O O O  O O  O O O  O  O O  O  O O  O  O O  O  O  O O O  B-TOTAL O  O O O O O  O O O O O O  ', 'B-COMPANY I-COMPANY I-COMPANY I-COMPANY I-COMPANY O O O O  B-ADDRESS I-ADDRESS I-ADDRESS I-ADDRESS I-ADDRESS I-ADDRESS I-ADDRESS B-ADDRESS I-ADDRESS I-ADDRESS B-ADDRESS I-ADDRESS I-ADDRESS I-ADDRESS O O O O  O  O O  O O O O O  O  O O O  O  O O O  O  O O O  O O O  O O O  O O  O O  O O  O O  B-TOTAL I-TOTAL O  O O  O  O O  O O  O  O  O O  O  O  B-DATE I-DATE I-DATE I-DATE O O  O O O O O  O O O O  O O O O  O O O O  ', 'B-COMPANY I-COMPANY I-COMPANY B-ADDRESS I-ADDRESS I-ADDRESS I-ADDRESS I-ADDRESS I-ADDRESS B-ADDRESS I-ADDRESS I-ADDRESS I-ADDRESS I-ADDRESS O O O  O O O O  O O  O  B-ADDRESS I-ADDRESS O O O  O  O  B-DATE I-DATE I-DATE I-DATE O O  O  O  O  O  O  O  O  O  B-TOTAL O  O O O O O O  O  O  O O O O O  O O O  O  O  O  O  O  O  O O  O  O  O  O  O  O  O  O O O O O O O O O  O O O O O  O O O O O O O  ', 'B-COMPANY I-COMPANY I-COMPANY B-ADDRESS I-ADDRESS I-ADDRESS I-ADDRESS I-ADDRESS I-ADDRESS I-ADDRESS B-ADDRESS I-ADDRESS I-ADDRESS O O O O O  O O O  O O O O  O O  O O O  O O O O O  O O O  O O  B-TOTAL I-TOTAL I-TOTAL O O O O O  O O O  O  O  O  O O O O O  O  O  O O  O O  O  O  O  O  O  O  O  O  O  O O  O  O  O O O  O  O  O O O  B-DATE I-DATE I-DATE O O O O O O O  O O O O O  O O O  O O O O O  O O O O O O O O  O O O O O O  O O  O O O O O O  ', 'B-COMPANY I-COMPANY I-COMPANY I-COMPANY I-COMPANY B-ADDRESS I-ADDRESS I-ADDRESS I-ADDRESS I-ADDRESS B-ADDRESS I-ADDRESS B-ADDRESS I-ADDRESS I-ADDRESS B-ADDRESS I-ADDRESS O O O O O  O O O O  O  O  B-DATE O O O O O O  O O O O O  O O O O  O O O O O  O O O O O  O O  O O  O O  O O  O O  O O O O O  O O O O O O  O  O  O  O O O O O  O O O  O O  O O  O O  O  O  O  B-TOTAL O  O O  O  O  O O O  ', 'B-COMPANY I-COMPANY I-COMPANY I-COMPANY I-COMPANY I-COMPANY B-ADDRESS I-ADDRESS I-ADDRESS B-ADDRESS I-ADDRESS I-ADDRESS I-ADDRESS I-ADDRESS I-ADDRESS B-ADDRESS I-ADDRESS I-ADDRESS O  O O O  O O O  O  O O O O  B-TOTAL I-TOTAL O  O  O O O  O  O  O  O O  O  O O  O  O  O  O  O  O  O O O O  O O  O O O O O  O O O O  O O O O  O O  O O O O O  O O O O O O  O O O O O O  O O O O  O O O O  O  O  O O  O O  B-DATE ', 'O  B-COMPANY I-COMPANY I-COMPANY I-COMPANY I-COMPANY B-ADDRESS I-ADDRESS I-ADDRESS I-ADDRESS B-ADDRESS I-ADDRESS I-ADDRESS I-ADDRESS I-ADDRESS B-ADDRESS I-ADDRESS I-ADDRESS I-ADDRESS I-ADDRESS B-ADDRESS I-ADDRESS I-ADDRESS O O O O O  O O  O O  O O  O O O  O O  O  O O O  O O  O  O  O  O  O  O O  B-ADDRESS I-ADDRESS O  O  O  O O  O O  O  O  O  O O  O O  O  O  O  O O  O O  O  O  O  O O O  O  O O O  O  O O  O  O O O O  O  O O  O  O  B-TOTAL B-DATE I-DATE I-DATE O  O O  O  O  O O  O  O  O  O O  O  O  O O  O O  O O O  O O O  ', 'B-COMPANY I-COMPANY I-COMPANY I-COMPANY I-COMPANY O  B-ADDRESS I-ADDRESS I-ADDRESS I-ADDRESS I-ADDRESS I-ADDRESS I-ADDRESS B-ADDRESS I-ADDRESS I-ADDRESS B-ADDRESS I-ADDRESS I-ADDRESS I-ADDRESS O O O O  O O  O O  O O O  O  O O O  O  O O O  O  O O O  O  O O O  O  O O  O  O O O  O O O  O O O  B-TOTAL I-TOTAL O  O O  O  O O  O O O O O  O O  B-DATE I-DATE I-DATE I-DATE O O  O O O O O  O O O O  O O O O  O O O O  O  ', 'O O O O O  O  B-ADDRESS I-ADDRESS I-ADDRESS I-ADDRESS I-ADDRESS I-ADDRESS I-ADDRESS B-ADDRESS I-ADDRESS I-ADDRESS B-ADDRESS I-ADDRESS I-ADDRESS I-ADDRESS O O O O O  O O O O  O O  O O O  O O O  O  O  O O O  O  O O O O  O  O O O  O  O O  O  O  O O  O  O O O  O  O O  O  O  O O  O  O O  O  O  O O O O O  O  O O O  O  O O  O  O  O  O O  O O O  O O O  O  O  B-TOTAL I-TOTAL O O  O O  O O  O O  O O  O  O O  O  B-DATE I-DATE O O  O O  O  O O O O  O O O O  O O O O O  O O O O O  ', 'B-COMPANY I-COMPANY I-COMPANY I-COMPANY O  O O  B-ADDRESS I-ADDRESS I-ADDRESS I-ADDRESS B-ADDRESS I-ADDRESS B-ADDRESS I-ADDRESS I-ADDRESS O O O  O O  O O  B-DATE I-DATE O O  O O  O  O  O  O O  O O O O  O O O O  B-TOTAL I-TOTAL O O O O O  O  O O  O  O O  O  O  O  O  O  O  O  O  O O O  O  O O O  O  O O O O O  O  ', 'B-COMPANY I-COMPANY I-COMPANY I-COMPANY I-COMPANY O O O  B-ADDRESS I-ADDRESS I-ADDRESS I-ADDRESS B-ADDRESS I-ADDRESS I-ADDRESS I-ADDRESS I-ADDRESS O O O O  O O O O O  O O O  O  O  B-DATE I-DATE I-DATE I-DATE O O O  O  O O  O O  O O  B-ADDRESS B-ADDRESS O O O O  O O O  O  O  O O O  O O O  O O O  O  O  O  O O O  O  O O  B-TOTAL I-TOTAL O O  O O  O  O  O O O  O O  O O  O O  O  O O  O  O O O O O O O  O  ', 'B-COMPANY I-COMPANY I-COMPANY I-COMPANY I-COMPANY B-ADDRESS I-ADDRESS I-ADDRESS I-ADDRESS I-ADDRESS I-ADDRESS B-ADDRESS I-ADDRESS I-ADDRESS I-ADDRESS B-ADDRESS I-ADDRESS I-ADDRESS I-ADDRESS O O O O  O O  O O O O O  O O O O O  O O O  O O  O  O O O  O O  O  O O O  O  B-TOTAL O O O O  O  O O O O O  O  O  O  O O O  O O  O O O  O O  O  O  O O O  O  O  O  O  O  B-DATE I-DATE O O O  O O  O O O  O O O  O O O O O  O O O  O  ', 'B-COMPANY I-COMPANY I-COMPANY I-COMPANY O  B-ADDRESS I-ADDRESS I-ADDRESS I-ADDRESS B-ADDRESS I-ADDRESS I-ADDRESS I-ADDRESS I-ADDRESS B-ADDRESS I-ADDRESS I-ADDRESS O  O O O O  O O O O O  O  O  O  B-DATE I-DATE O O O  O O  O O  O  O  O O  O O  O O  B-ADDRESS I-ADDRESS O O  O O O  O O  O  O  O  O  O  O  O  B-TOTAL O  O  O O  O  O  O  O  O  O O  O O O O O O O  O O O O O  O O O O O O  O O O  ', 'B-COMPANY I-COMPANY I-COMPANY I-COMPANY I-COMPANY I-COMPANY I-COMPANY B-ADDRESS I-ADDRESS I-ADDRESS I-ADDRESS I-ADDRESS B-ADDRESS I-ADDRESS I-ADDRESS I-ADDRESS O O O  O O O  O O O O O  O O O O  O  B-DATE I-DATE O O O O O  O O O O O O  O O O  O O O O  O O O  O O  O  O  O  O  O  O  O  O O  O  B-ADDRESS O  O  B-ADDRESS O  O  O  B-ADDRESS O  O  B-ADDRESS O  O O  O  O  O  O  O  O  O O O  O  O  O  O  O  O  O  O  O O O O O  O  O  O  O O O O O  O  O O O  O  O O  B-TOTAL O  O O O O O O O  O O O O O O  O O O O O O O  O O O O O O O O  O O O O O O O  O O  O O  O O  O  ', 'B-COMPANY I-COMPANY I-COMPANY B-ADDRESS I-ADDRESS I-ADDRESS I-ADDRESS I-ADDRESS I-ADDRESS I-ADDRESS B-ADDRESS I-ADDRESS I-ADDRESS O O O O O  O O O  O O O O  O O  O O O  O O O O O  O O O  O O  O O O  O O O  O  O  O O O O O  O  O  O O  O O  O  O  O  O  B-TOTAL O  O  O  O  O O  O  O  O O O  O  O  O O O  B-DATE I-DATE O O O O O O O  O O O O O  O O O  O O O O O  O O O O O O O O  O O O O O O  O O  O O O O O O  ', 'B-COMPANY I-COMPANY B-ADDRESS I-ADDRESS I-ADDRESS I-ADDRESS I-ADDRESS I-ADDRESS B-ADDRESS I-ADDRESS I-ADDRESS I-ADDRESS I-ADDRESS B-ADDRESS O O O O O  O O O O O  O O O O  O O  O O O O  O O O O  O  O  O  O O  O  O  O  O  O  O  O  B-ADDRESS O  O  O  B-ADDRESS O  O  O  B-ADDRESS O O O O  O O O O O  O O O O  O  O  O  O  O  O  O  O  O  O O  O  O  O O  O  O  O  O  O  O  B-TOTAL O  O  O  O O O O  O O  O  O  O  O  O  O  O  O  B-DATE I-DATE O O  O O O O  O  O O O  O O  O O  ', 'B-COMPANY I-COMPANY I-COMPANY I-COMPANY I-COMPANY B-ADDRESS I-ADDRESS I-ADDRESS I-ADDRESS I-ADDRESS I-ADDRESS B-ADDRESS I-ADDRESS I-ADDRESS I-ADDRESS B-ADDRESS I-ADDRESS I-ADDRESS I-ADDRESS O O O O  O O  O O O O O  O O O O O  O O  O O  O O O  O O  O O O  O O  O O O  O O O  O  O  O  O  O  O  O O O O  O O O O O  O  O O O  O O  O O O  O  O  B-TOTAL O  O  O O  O  O  O O O  O  B-DATE I-DATE O O O O  O  O  O  O  O O O  O O  O O  O O  O  O  O  O  O  O  O O O O O  O O O O O  O  O O O  O O O  O O O O O  O O O  ', 'B-COMPANY I-COMPANY I-COMPANY I-COMPANY I-COMPANY O O O  B-ADDRESS I-ADDRESS I-ADDRESS I-ADDRESS I-ADDRESS I-ADDRESS I-ADDRESS B-ADDRESS I-ADDRESS I-ADDRESS I-ADDRESS B-ADDRESS I-ADDRESS I-ADDRESS I-ADDRESS O O O O  O O  O O  O O O O  O  O O O  O  O O O  O  O O O  O  O O O  O  B-TOTAL I-TOTAL I-TOTAL O  O O O  O O O  O O O  O O  O  O O  O  O O  O O O O O  O O  B-DATE I-DATE I-DATE I-DATE O O  O O O  O O O O  O O O O O  O O O O O  ', 'B-COMPANY I-COMPANY I-COMPANY I-COMPANY B-DATE I-DATE I-DATE I-DATE O  B-ADDRESS I-ADDRESS I-ADDRESS I-ADDRESS I-ADDRESS B-ADDRESS I-ADDRESS I-ADDRESS O  O O O O  O  O  O  O O O O O O O  O  O  O  O O O O  O  O  O  O O O  O  O  O  B-TOTAL I-TOTAL I-TOTAL O O O  O O O  O O  O  O  O  O  O  O O  O  O  O O O O  O  O  O O O  O O O O  O O O O  O O O O O  O O O O O O  O  ', 'B-COMPANY I-COMPANY I-COMPANY O  B-ADDRESS I-ADDRESS I-ADDRESS I-ADDRESS B-ADDRESS I-ADDRESS I-ADDRESS I-ADDRESS B-ADDRESS I-ADDRESS I-ADDRESS O O O O  O O O O  O O O  O  O O  O  O  B-DATE I-DATE O  O  O O  O  O  O  O  O  O  O  O  O  O  O O O O  O O  O  O  O O O O O O  O  O O O  O  O O O O  O  O O O  O  O O O  O  O O  B-TOTAL O O O  O  O O  O O  O  O  O  O  O  O  O  O O  O  O  O O O O O  O O  O O O O  ', 'B-COMPANY I-COMPANY I-COMPANY I-COMPANY I-COMPANY I-COMPANY O O O O O  B-ADDRESS I-ADDRESS I-ADDRESS I-ADDRESS I-ADDRESS B-ADDRESS I-ADDRESS I-ADDRESS I-ADDRESS B-ADDRESS I-ADDRESS I-ADDRESS O O O O O O O  O O O O O O  O O  O O O O  O O  O O O O  B-TOTAL I-TOTAL B-DATE I-DATE I-DATE I-DATE I-DATE O O O O O O O O O  O  O O O  O O  O O  O O  O O  O O  O O  ', 'B-COMPANY I-COMPANY I-COMPANY B-COMPANY I-COMPANY O O O  B-ADDRESS I-ADDRESS I-ADDRESS I-ADDRESS I-ADDRESS I-ADDRESS I-ADDRESS I-ADDRESS B-ADDRESS I-ADDRESS I-ADDRESS I-ADDRESS O  O O  O O  O O  O O  B-ADDRESS I-ADDRESS O O  O O  O O O O O  O  O  O  O O  O O O O O  O  O  O  O  O  O  O O O  O  O O O O  B-TOTAL O O  O  O  O  O  O O  O O  O O  O O O  O  O  O O O O O  O O O O O O  B-DATE I-DATE I-DATE I-DATE ', 'B-COMPANY I-COMPANY I-COMPANY I-COMPANY O  B-ADDRESS I-ADDRESS I-ADDRESS I-ADDRESS I-ADDRESS B-ADDRESS B-ADDRESS I-ADDRESS I-ADDRESS O  O O O  O O O  O  O O  O O  B-DATE I-DATE O  O O  O O  O O  O  O  O  O  O  O  O  O  O  B-TOTAL O  O O O O O  O O  O  O  O O O O O  O  O O  O  O O O  O  O O  O  O O O O O O  O  O O  O  O O  O  O O  O O  O  O  O  O  O  O  O  O O  O  O  O O O O O O O  ', 'B-COMPANY I-COMPANY I-COMPANY O O O  B-ADDRESS I-ADDRESS I-ADDRESS I-ADDRESS B-ADDRESS I-ADDRESS I-ADDRESS B-ADDRESS I-ADDRESS I-ADDRESS O O O O  O O  O  O O  O O  O O  O O  O O O  O  O O O  O  O O  O O  O O  O O O O  O  O  O  O O O  O  O O  O  O O  O  O  O  O O O  O  O O  O  O O O O  O  O O  O  O O O  O  O  B-TOTAL O O  O O O  O O  O  O O O  O O  O  O  O O O  O  O  O O O  O  O  O O O  O  B-DATE I-DATE I-DATE I-DATE O O  O O O  ', 'B-COMPANY I-COMPANY I-COMPANY O  B-ADDRESS I-ADDRESS I-ADDRESS I-ADDRESS B-ADDRESS I-ADDRESS I-ADDRESS I-ADDRESS I-ADDRESS B-ADDRESS I-ADDRESS I-ADDRESS O O O O  O O  O O O  O O  O  B-DATE I-DATE I-DATE O  O  O  O  O  O O O  O O  O  O  O  O O  O O  O  O  O  O O  O O O  O  O O O  O  O O O O  O  O  B-TOTAL O  O O  O O  O O  O  O O  O  O  O  ', 'O O O  B-COMPANY I-COMPANY I-COMPANY I-COMPANY I-COMPANY B-ADDRESS I-ADDRESS I-ADDRESS B-ADDRESS I-ADDRESS I-ADDRESS I-ADDRESS I-ADDRESS I-ADDRESS B-ADDRESS I-ADDRESS I-ADDRESS I-ADDRESS I-ADDRESS B-DATE I-DATE I-DATE I-DATE I-DATE O O O  O O O O  O  O  O  O  O  O  O  O O  O O O  O O O  O O O  O O  O O O  O O O O O  O O O  O O  O  O  O  O O  O O O  O  O  O  O  O  O  O O O  O O O  O  O  B-TOTAL O O O O O O  O O O O O O  O O O O O  O O O  ', 'B-COMPANY I-COMPANY B-COMPANY I-COMPANY O  B-ADDRESS I-ADDRESS I-ADDRESS I-ADDRESS I-ADDRESS B-ADDRESS I-ADDRESS I-ADDRESS I-ADDRESS I-ADDRESS B-ADDRESS I-ADDRESS O  O  O  O  O O  O  O  B-DATE I-DATE O  O  O  O  O  O  O  O O O O  O  O  O  O  O O O O  O O  O O  O O  O O  O O  O O O  O O  O  B-TOTAL I-TOTAL O  O O  O  O O  O O  O  ', 'B-COMPANY I-COMPANY I-COMPANY I-COMPANY I-COMPANY I-COMPANY I-COMPANY B-ADDRESS I-ADDRESS I-ADDRESS I-ADDRESS I-ADDRESS B-ADDRESS I-ADDRESS I-ADDRESS I-ADDRESS O O O  O O  O O O  O O O O O  O O O O  O  B-DATE I-DATE O O O O O  O O O O O O  O O O  O O O O  O O  O O O  O O  O  O  O  O  O  O  O  O  O O  O  O  O  O  B-ADDRESS O  O  O  O  O  O  O  O  O O  O  O  O  O  O  O  O O O  O  O  O  B-ADDRESS O  O  B-ADDRESS O  O  O  O  O  O  O  O  O O O O O  O  O  O  O O O O O  O  O O O  O  O O  B-TOTAL O  O O O O O O O  O O O O O O  O O O O O O O  O O O O O O O O  O O O O O O O  O O  ', 'B-COMPANY I-COMPANY I-COMPANY I-COMPANY I-COMPANY B-ADDRESS I-ADDRESS I-ADDRESS I-ADDRESS I-ADDRESS B-ADDRESS I-ADDRESS B-ADDRESS I-ADDRESS I-ADDRESS B-ADDRESS I-ADDRESS I-ADDRESS O O O O O  O O O O  O  O  B-DATE O O O O O  B-TOTAL I-TOTAL O O O O  O O O O O  O  O O  O O  O  O  O O  O O O  O  O  O  O  O O O O O  O O O O O O  ', 'B-COMPANY I-COMPANY I-COMPANY I-COMPANY B-ADDRESS I-ADDRESS I-ADDRESS I-ADDRESS I-ADDRESS I-ADDRESS I-ADDRESS B-ADDRESS I-ADDRESS I-ADDRESS I-ADDRESS O O O  O O O O  O O  O O O O O  O O O  O O O  O O O O  O O O O  O O  O O O O O O  O O O O O O  O  O O  O O  O  O  O  O O  O O  O O  O O O  O O  O O  O O  O O O O  O O  O O O O  O  O  O  O  O  O O  O O  O O  O O  O  O  O  O  O  B-TOTAL I-TOTAL I-TOTAL I-TOTAL I-TOTAL I-TOTAL O O O O O O  O O O O  O O O O  O O O O  O O O  O O O  O O O  O O O  O O O  O O O O O  O O O  O O O  O O  B-DATE I-DATE I-DATE O O  O  O O  O  O  O  O  O  O  O  O  O  O  O  O  O  O O O O O O O O  O O O O O O O O O  O O O O O O O O  O O O O  ', 'B-COMPANY I-COMPANY B-ADDRESS I-ADDRESS I-ADDRESS B-ADDRESS I-ADDRESS I-ADDRESS B-ADDRESS I-ADDRESS I-ADDRESS B-ADDRESS I-ADDRESS I-ADDRESS I-ADDRESS I-ADDRESS O O  O O O O O O O O O O O O O  O O  O O  O O  O  O O O O O  O O O  O O O O O  O O  O O O O  O O  O O O O  O O  O  O  O  O  O  O O O  O  O  B-TOTAL O O  O  O O O  O  O  O  O O  O  B-DATE I-DATE I-DATE I-DATE I-DATE I-DATE I-DATE O O O O O  O O O  O  O  O  O O  O  O  O O  O  O  O  O  O  ', 'O O O O O  B-ADDRESS I-ADDRESS I-ADDRESS I-ADDRESS B-ADDRESS I-ADDRESS I-ADDRESS I-ADDRESS I-ADDRESS I-ADDRESS I-ADDRESS B-ADDRESS I-ADDRESS I-ADDRESS I-ADDRESS O O O O O  O  B-COMPANY I-COMPANY I-COMPANY I-COMPANY I-COMPANY I-COMPANY I-COMPANY O O O O O  O  O  O  O  O O O O O O O  O  B-TOTAL O  O  O  O O  O  O O  O  O O O  O  O O  O  O O  O  O  O O  O  O O  O  B-DATE I-DATE I-DATE O O O O O O O O  O O O O  O  O O  ', 'B-COMPANY I-COMPANY I-COMPANY B-ADDRESS I-ADDRESS I-ADDRESS I-ADDRESS I-ADDRESS I-ADDRESS I-ADDRESS B-ADDRESS I-ADDRESS I-ADDRESS O O O O O  O O O  O O O O  O O  O O O  O O O O O  O O O  O O  O O O O O  O O O O  O O O  B-TOTAL O  O O O O O  O  O  O  O  O  O O  O  O O  O  O  O  O  O  O O  O  O  O O O  O  O  O O O  O O  B-DATE O O  O  O O O O O O O O  O O O O O O O  O O O O O  O O O  O O O O O  O O O O O O O O  O O O O O O  O O  O O O O O O  ', 'B-COMPANY I-COMPANY I-COMPANY B-ADDRESS I-ADDRESS I-ADDRESS I-ADDRESS I-ADDRESS I-ADDRESS I-ADDRESS B-ADDRESS I-ADDRESS I-ADDRESS O O O O O  O O O  O O O O  O O  O O O  O O O O O  O O O  O O  O O O O  O O O  O O O  O  O  O O O O O  O  O  O  O  O  O O  O  O O  O  O  O  O  B-TOTAL O O  O  O  O O O  O  O  O O O  B-DATE I-DATE I-DATE O O O O O O O  O O O O O  O O O  O O O O O  O O O O O O O O  O O O O O O  O O  O O O O O O  ', 'B-COMPANY I-COMPANY I-COMPANY I-COMPANY I-COMPANY I-COMPANY I-COMPANY O  B-ADDRESS I-ADDRESS I-ADDRESS I-ADDRESS I-ADDRESS I-ADDRESS I-ADDRESS B-ADDRESS I-ADDRESS I-ADDRESS O O O O O  O O  O O  O  O O  O  B-DATE I-DATE I-DATE O O O  O  O  O  O  O O  B-ADDRESS O  O O  O  B-ADDRESS O  O O  O O  B-ADDRESS O  O O  O O  B-ADDRESS O  O O  O O  B-ADDRESS O  O O  O  O O O  O  O O  O  O O O O  O  O O  O  O O  B-TOTAL O O  O  O  O O O  O O  O  O O  O  O  O  O O  O  O  O O O O  O O O  ']\n"
          ]
        }
      ]
    },
    {
      "cell_type": "code",
      "source": [
        "import pandas as pd\n",
        "d = pd.read_csv(\"/content/sroie_NER.csv\")"
      ],
      "metadata": {
        "id": "Qur8Np8oT6HG"
      },
      "execution_count": 18,
      "outputs": []
    },
    {
      "cell_type": "code",
      "source": [
        "d[\"labels\"][3]"
      ],
      "metadata": {
        "colab": {
          "base_uri": "https://localhost:8080/",
          "height": 90
        },
        "id": "KClPnPbtQc9u",
        "outputId": "3f8636ad-f0ad-496a-edbd-c7f02b68882e"
      },
      "execution_count": 21,
      "outputs": [
        {
          "output_type": "execute_result",
          "data": {
            "text/plain": [
              "'O O O O O  B-COMPANY I-COMPANY I-COMPANY I-COMPANY I-COMPANY I-COMPANY I-COMPANY O  B-ADDRESS I-ADDRESS B-ADDRESS I-ADDRESS I-ADDRESS I-ADDRESS I-ADDRESS I-ADDRESS I-ADDRESS O O O O O O  O O O O  O O  B-ADDRESS I-ADDRESS O  O O  O  O O  O  O  O O  O  B-DATE O  O  O  O  O  O  O  O  O  O O O O O O  O  O  O  O  O  O  O  O O O O O  O  O O  O  O O O  O  O O O  O  O O  O  O O O O O  B-TOTAL O  O  O  O  O O  O O  O  O O  O O  O  O  O  O  O O  O  O  O O O O O O O O  O  O O O O O O O  '"
            ],
            "application/vnd.google.colaboratory.intrinsic+json": {
              "type": "string"
            }
          },
          "metadata": {},
          "execution_count": 21
        }
      ]
    },
    {
      "cell_type": "markdown",
      "source": [
        "### This NERT exp \n",
        "is taken from https://towardsdatascience.com/named-entity-recognition-with-bert-in-pytorch-a454405e0b6a"
      ],
      "metadata": {
        "id": "cMNDTfuyVDKf"
      }
    },
    {
      "cell_type": "code",
      "source": [
        "labels = [i.split() for i in df['labels'].values.tolist()]\n",
        "\n",
        "# Check how many labels are there in the dataset\n",
        "unique_labels = set()\n",
        "\n",
        "for lb in labels:\n",
        "  [unique_labels.add(i) for i in lb if i not in unique_labels]\n",
        " \n",
        "print(unique_labels)"
      ],
      "metadata": {
        "colab": {
          "base_uri": "https://localhost:8080/"
        },
        "id": "Q3pbwe4JU4-g",
        "outputId": "42b6c624-c013-4957-feb8-7f2539b82779"
      },
      "execution_count": 22,
      "outputs": [
        {
          "output_type": "stream",
          "name": "stdout",
          "text": [
            "{'B-ADDRESS', 'I-DATE', 'B-COMPANY', 'I-ADDRESS', 'B-DATE', 'B-TOTAL', 'O', 'I-TOTAL', 'I-COMPANY'}\n"
          ]
        }
      ]
    },
    {
      "cell_type": "code",
      "source": [
        "labels_to_ids = {k: v for v, k in enumerate(sorted(unique_labels))}\n",
        "ids_to_labels = {v: k for v, k in enumerate(sorted(unique_labels))}\n",
        "print(labels_to_ids)"
      ],
      "metadata": {
        "colab": {
          "base_uri": "https://localhost:8080/"
        },
        "id": "qfYIU56EU47Z",
        "outputId": "1de3f94e-de0c-4682-abf2-f18801d88a35"
      },
      "execution_count": 23,
      "outputs": [
        {
          "output_type": "stream",
          "name": "stdout",
          "text": [
            "{'B-ADDRESS': 0, 'B-COMPANY': 1, 'B-DATE': 2, 'B-TOTAL': 3, 'I-ADDRESS': 4, 'I-COMPANY': 5, 'I-DATE': 6, 'I-TOTAL': 7, 'O': 8}\n"
          ]
        }
      ]
    },
    {
      "cell_type": "markdown",
      "source": [
        "#### Data Preprocessing\n",
        "Before we are able to use a BERT model to classify the entity of a token, of course, we need to do data preprocessing first, which includes two parts: tokenization and adjusting the label to match the tokenization. Let’s start with tokenization first.\n",
        "\n",
        "##### Tokenization\n",
        "\n",
        "Tokenization can be easily implemented with BERT, as we can use BertTokenizerFast class from a pretrained BERT base model with HuggingFace.\n",
        "\n",
        "To give you an example how BERT tokenizer works, let’s take a look at one of the texts from our dataset:"
      ],
      "metadata": {
        "id": "1I3iXtRQVZLe"
      }
    },
    {
      "cell_type": "code",
      "source": [
        "# Let's take a look at how can we preprocess the text - Take first example\n",
        "text = df['text'].values.tolist()\n",
        "example = text[36]\n",
        "\n",
        "print(example)"
      ],
      "metadata": {
        "colab": {
          "base_uri": "https://localhost:8080/"
        },
        "id": "Fdz-fNJHU44Z",
        "outputId": "9cef0954-1a0a-4065-e983-263d5de103a7"
      },
      "execution_count": 24,
      "outputs": [
        {
          "output_type": "stream",
          "name": "stdout",
          "text": [
            "MOONLIGHT CAKE HOUSE SDN BHD 862725-U (GST REG NO: 001559298048) NO.1, JALAN PERMAS 10/5, BANDAR BARU PERMAS JAYA 81750 JOHOR BAHRU, JOHOR. WWW.MOONLIGHTCAKE.COM TABLE : COUNTER INVOICE NO: SP-NULL-18/06/20-1022050 DATE : 20/06/2018 18:07:10 PAYMENT TYPE: CASH MEMBER NUMBER: 3000000100068587 TAKE AWAY T-BUTTER SLICE CHEESE *# DISCOUNT T-GREEN TEA MOCHI *# DISCOUNT T-HONEY WALNUT *# DISCOUNT T-SAHA BREAD *# DISCOUNT 1 1 1 1 RM4.15 ST RM-0.41 RM3.30 ST RM-0.33 RM3.70 ST RM-0.37 RM4.60 ST RM-0.46 TOTAL (INCL GST, 0%) RM14.18 ROUNDING RM0.02 GRAND TOTAL RM14.20 TOTAL PAID RM20.20 CHANGE RM6.00 DISCOUNT SUMMARY BIRTHDAY DISCOUNT RM1.57 GST SUMMARY GST SUMMARY ITEM AMOUNT(RM) GST(RM) ST = 0% NS = 0% 4 0 14.18 0.00 0.00 0.00 20/06/2018 18:07:10 \n"
          ]
        }
      ]
    },
    {
      "cell_type": "code",
      "source": [
        "%%capture\n",
        "!pip install transformers"
      ],
      "metadata": {
        "id": "f3q2kqcWVwOh"
      },
      "execution_count": 26,
      "outputs": []
    },
    {
      "cell_type": "code",
      "source": [
        "from transformers import BertTokenizerFast\n",
        "\n",
        "tokenizer = BertTokenizerFast.from_pretrained('bert-base-cased')\n",
        "text_tokenized = tokenizer(example, padding='max_length', max_length=512, truncation=True, return_tensors=\"pt\")"
      ],
      "metadata": {
        "colab": {
          "base_uri": "https://localhost:8080/",
          "height": 145,
          "referenced_widgets": [
            "36de886829f34c01ae5fd3151250d398",
            "5c2f592dec0949a6be0e674736c870a7",
            "5577cfb804df43998737b55bd3e94b01",
            "9a07f3c7aa374b4d82d7f868388969ae",
            "9bbfe0d1fbe84b4d909667a9b84458cd",
            "9eabb128d43d4be18b89e02398d1299c",
            "45dc6950a215433fa4b4fa146dba0aab",
            "d182199f35d84063b1cc1b6f206f844d",
            "c78bf33cf6f740389e8c3a8d790b1a7b",
            "87c009abd135421bbd342f4b806375c6",
            "6f798c0221494c1eb9fdc796f7cd637b",
            "e2cbd601c7024d0cba4f4bd7fdb0685b",
            "11d9ef240af9443994da472801772700",
            "7545e555758840ecba907b37cd3c4737",
            "ca66c4471f774923a175cb1311e91463",
            "2abe28a004d1450fb02417171614f7d6",
            "6bdece3a52dd48568464f9915f108428",
            "e0b0543f81024312b39f57575f0ee463",
            "6431cd35e65f4638814467fa6245d506",
            "6037f3a4bb6c4c50a9f433532d79a2cc",
            "d5457848e76d4fbf8e63d2017d79bc9c",
            "9e8890d95e334daba0614c2c8c05ca0c",
            "172b04dc8cb449d28e100860b4acedc9",
            "0fdde4e9efed48239d1187d9949398b1",
            "6872081f51fa4732b97f46748ba0d176",
            "c39fc6cd99f749fca49885958b8eb92f",
            "941f30f54b824e5c879a8e180cb0a22d",
            "9a6d847ae1b04b4882f69cebdc95fd6d",
            "a343c29b01504bc3a84a54fb7f39f508",
            "c65a363779d149a992e7a383e15cc945",
            "94fa3603a90a435691b2d6936f61f136",
            "928a0eacd3e84c12a6aa1c6773ff3ddc",
            "011bdf130796430cab2a2e8f9660ba4e",
            "68c939d8e25445c0a324d4de8ad53bdc",
            "aaf55a3c3d7849169c19ebbb0ba4c9db",
            "6b0400fe9f8840d7b8d771f56aa5cd7b",
            "849b123afa7a4ab689c316f65b889411",
            "8b3188734b9543faa40030d6c566e658",
            "91ada7c129cb4a6bad9636c89ef0425d",
            "94893822fcfe480dbee8b1972ac99be1",
            "059ef8b96a144c6abdf329f474708ad6",
            "7f2006d3660c4bc9a26d0657b4b6a2f0",
            "a0de9509ccb74c32816938ca8ae2ae28",
            "4fd049477cb34ec2a214885b7ad97b7a"
          ]
        },
        "id": "qD7CqqTuVf64",
        "outputId": "21f05df1-9898-45dd-d7b5-2b27d8617d2a"
      },
      "execution_count": 27,
      "outputs": [
        {
          "output_type": "display_data",
          "data": {
            "text/plain": [
              "Downloading (…)okenizer_config.json:   0%|          | 0.00/29.0 [00:00<?, ?B/s]"
            ],
            "application/vnd.jupyter.widget-view+json": {
              "version_major": 2,
              "version_minor": 0,
              "model_id": "36de886829f34c01ae5fd3151250d398"
            }
          },
          "metadata": {}
        },
        {
          "output_type": "display_data",
          "data": {
            "text/plain": [
              "Downloading (…)solve/main/vocab.txt:   0%|          | 0.00/213k [00:00<?, ?B/s]"
            ],
            "application/vnd.jupyter.widget-view+json": {
              "version_major": 2,
              "version_minor": 0,
              "model_id": "e2cbd601c7024d0cba4f4bd7fdb0685b"
            }
          },
          "metadata": {}
        },
        {
          "output_type": "display_data",
          "data": {
            "text/plain": [
              "Downloading (…)/main/tokenizer.json:   0%|          | 0.00/436k [00:00<?, ?B/s]"
            ],
            "application/vnd.jupyter.widget-view+json": {
              "version_major": 2,
              "version_minor": 0,
              "model_id": "172b04dc8cb449d28e100860b4acedc9"
            }
          },
          "metadata": {}
        },
        {
          "output_type": "display_data",
          "data": {
            "text/plain": [
              "Downloading (…)lve/main/config.json:   0%|          | 0.00/570 [00:00<?, ?B/s]"
            ],
            "application/vnd.jupyter.widget-view+json": {
              "version_major": 2,
              "version_minor": 0,
              "model_id": "68c939d8e25445c0a324d4de8ad53bdc"
            }
          },
          "metadata": {}
        }
      ]
    },
    {
      "cell_type": "markdown",
      "source": [
        "We provide several arguments when calling tokenizer method from BertTokenizerFast class above:\n",
        "\n",
        "* **padding** : to pad the sequence with a special [PAD] token to the maximum length that we specify. The maximum length of a sequence for a BERT model is 512.\n",
        "* **max_length** : maximum length of a sequence.\n",
        "* **truncation** : this is a Boolean value. If we set the value to True, then tokens that exceed the maximum length will not be used.\n",
        "* **return_tensors** : the tensor type that is returned, depending on machine learning frameworks that we use. Since we’re using PyTorch, then we use pt.\n",
        "\n",
        "And below is the output of the tokenization process:"
      ],
      "metadata": {
        "id": "b4MrVqVRV7t2"
      }
    },
    {
      "cell_type": "code",
      "source": [
        "print(text_tokenized)\n"
      ],
      "metadata": {
        "id": "G33C0rpRVf3G"
      },
      "execution_count": null,
      "outputs": []
    },
    {
      "cell_type": "markdown",
      "source": [
        "As you can see, the output that we get from the tokenization process is a dictionary, which contains three variables:\n",
        "\n",
        "* **input_ids**: The id representation of the tokens in a sequence. In BERT, the id 101 is reserved for the special [CLS] token, the id 102 is reserved for the special [SEP] token, and the id 0 is reserved for [PAD] token.\n",
        "* **token_type_ids**: To identify the sequence in which a token belongs to. Since we only have one sequence per text, then all the values of token_type_idswill be 0.\n",
        "* **attention_mask** : To identify whether a token is a real token or padding. The value would be 1 if it’s a real token, and 0 if it’s a [PAD] token.\n",
        "\n",
        "From the input_ids above, we can decode the ids back into the original sequence with decode method as follows:"
      ],
      "metadata": {
        "id": "klcySg48WLP1"
      }
    },
    {
      "cell_type": "code",
      "source": [
        "print(tokenizer.decode(text_tokenized.input_ids[0]))"
      ],
      "metadata": {
        "colab": {
          "base_uri": "https://localhost:8080/"
        },
        "id": "3UnmdzbQVfus",
        "outputId": "7fd1cef7-6511-455b-aa32-5a4f5cdb2bd5"
      },
      "execution_count": 29,
      "outputs": [
        {
          "output_type": "stream",
          "name": "stdout",
          "text": [
            "[CLS] MOONLIGHT CAKE HOUSE SDN BHD 862725 - U ( GST REG NO : 001559298048 ) NO. 1, JALAN PERMAS 10 / 5, BANDAR BARU PERMAS JAYA 81750 JOHOR BAHRU, JOHOR. WWW. MOONLIGHTCAKE. COM TABLE : COUNTER INVOICE NO : SP - NULL - 18 / 06 / 20 - 1022050 DATE : 20 / 06 / 2018 18 : 07 : 10 PAYMENT TYPE : CASH MEMBER NUMBER : 3000000100068587 TAKE AWAY T - BUTTER SLICE CHEESE * # DISCOUNT T - GREEN TEA MOCHI * # DISCOUNT T - HONEY WALNUT * # DISCOUNT T - SAHA BREAD * # DISCOUNT 1 1 1 1 RM4. 15 ST RM - 0. 41 RM3. 30 ST RM - 0. 33 RM3. 70 ST RM - 0. 37 RM4. 60 ST RM - 0. 46 TOTAL ( INCL GST, 0 % ) RM14. 18 ROUNDING RM0. 02 GRAND TOTAL RM14. 20 TOTAL PAID RM20. 20 CHANGE RM6. 00 DISCOUNT SUMMARY BIRTHDAY DISCOUNT RM1. 57 GST SUMMARY GST SUMMARY ITEM AMOUNT ( RM ) GST ( RM ) ST = 0 % NS = 0 % 4 0 14. 18 0. 00 0. 00 0. 00 20 / 06 / 2018 18 : 07 : 10 [SEP] [PAD] [PAD] [PAD] [PAD] [PAD] [PAD] [PAD] [PAD] [PAD] [PAD] [PAD] [PAD] [PAD] [PAD] [PAD] [PAD] [PAD] [PAD] [PAD] [PAD] [PAD] [PAD] [PAD] [PAD] [PAD] [PAD] [PAD] [PAD] [PAD] [PAD] [PAD] [PAD] [PAD] [PAD] [PAD] [PAD] [PAD] [PAD] [PAD] [PAD] [PAD] [PAD] [PAD] [PAD] [PAD] [PAD] [PAD] [PAD] [PAD] [PAD] [PAD] [PAD] [PAD] [PAD] [PAD] [PAD] [PAD] [PAD] [PAD] [PAD] [PAD] [PAD] [PAD] [PAD] [PAD] [PAD] [PAD] [PAD] [PAD] [PAD] [PAD] [PAD] [PAD]\n"
          ]
        }
      ]
    },
    {
      "cell_type": "markdown",
      "source": [
        "We got our original sequence back after implementing decode method with the addition of special tokens from BERT such as [CLS] token at the beginning of the sequence, [SEP] token at the end of the sequence, and a bunch of [PAD] tokens to fulfill the required maximum length of 512.\n",
        "\n",
        "After this tokenization process, we need to proceed to the next step, which is adjusting the label of each token."
      ],
      "metadata": {
        "id": "z6AUzFSqWoDa"
      }
    },
    {
      "cell_type": "markdown",
      "source": [
        "##### Adjusting Label After Tokenization\n",
        "This is a very important step that we need to do after the tokenization process. This is because the length of the sequence is no longer matching the length of the original label after the tokenization process.\n",
        "\n",
        "The BERT tokenizer uses the so-called word-piece tokenizer under the hood, which is a sub-word tokenizer. This means that BERT tokenizer will likely to split one word into one or more meaningful sub-words.\n",
        "\n",
        "As an example, let’s say we have the following sequence:\n",
        "\n",
        "![image.png](data:image/png;base64,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)\n",
        "\n",
        "The sequence above has in total 13 tokens and thus, it also has 13 labels. However, after BERT tokenization, we get the following result:"
      ],
      "metadata": {
        "id": "uEpJeagkWqW2"
      }
    },
    {
      "cell_type": "code",
      "source": [
        "\n",
        "print(tokenizer.convert_ids_to_tokens(text_tokenized[\"input_ids\"][0]))"
      ],
      "metadata": {
        "colab": {
          "base_uri": "https://localhost:8080/"
        },
        "id": "bxye6pvlVfnP",
        "outputId": "c5daac4e-8b45-46a1-fb48-ff4f7b67b609"
      },
      "execution_count": 30,
      "outputs": [
        {
          "output_type": "stream",
          "name": "stdout",
          "text": [
            "['[CLS]', 'M', '##O', '##ON', '##L', '##IG', '##HT', 'CA', '##KE', 'H', '##O', '##US', '##E', 'SD', '##N', 'B', '##HD', '86', '##27', '##25', '-', 'U', '(', 'G', '##ST', 'R', '##EG', 'NO', ':', '00', '##15', '##5', '##9', '##29', '##80', '##48', ')', 'NO', '.', '1', ',', 'J', '##AL', '##AN', 'P', '##ER', '##MA', '##S', '10', '/', '5', ',', 'BA', '##ND', '##AR', 'BA', '##R', '##U', 'P', '##ER', '##MA', '##S', 'J', '##A', '##Y', '##A', '81', '##75', '##0', 'J', '##OH', '##OR', 'BA', '##H', '##R', '##U', ',', 'J', '##OH', '##OR', '.', 'W', '##W', '##W', '.', 'M', '##O', '##ON', '##L', '##IG', '##HT', '##CA', '##KE', '.', 'CO', '##M', 'T', '##AB', '##LE', ':', 'CO', '##UN', '##TE', '##R', 'IN', '##VO', '##IC', '##E', 'NO', ':', 'SP', '-', 'N', '##U', '##LL', '-', '18', '/', '06', '/', '20', '-', '102', '##20', '##50', 'D', '##AT', '##E', ':', '20', '/', '06', '/', '2018', '18', ':', '07', ':', '10', 'PA', '##Y', '##ME', '##NT', 'T', '##YP', '##E', ':', 'CA', '##S', '##H', 'ME', '##MB', '##ER', 'N', '##UM', '##BE', '##R', ':', '3000', '##00', '##01', '##00', '##0', '##6', '##8', '##5', '##8', '##7', 'T', '##A', '##KE', 'A', '##WA', '##Y', 'T', '-', 'B', '##UT', '##TE', '##R', 'SL', '##IC', '##E', 'CH', '##EE', '##SE', '*', '#', 'D', '##IS', '##CO', '##UN', '##T', 'T', '-', 'G', '##RE', '##EN', 'T', '##EA', 'M', '##OC', '##H', '##I', '*', '#', 'D', '##IS', '##CO', '##UN', '##T', 'T', '-', 'H', '##ON', '##E', '##Y', 'WA', '##L', '##NU', '##T', '*', '#', 'D', '##IS', '##CO', '##UN', '##T', 'T', '-', 'SA', '##HA', 'BR', '##EA', '##D', '*', '#', 'D', '##IS', '##CO', '##UN', '##T', '1', '1', '1', '1', 'R', '##M', '##4', '.', '15', 'ST', 'R', '##M', '-', '0', '.', '41', 'R', '##M', '##3', '.', '30', 'ST', 'R', '##M', '-', '0', '.', '33', 'R', '##M', '##3', '.', '70', 'ST', 'R', '##M', '-', '0', '.', '37', 'R', '##M', '##4', '.', '60', 'ST', 'R', '##M', '-', '0', '.', '46', 'TO', '##TA', '##L', '(', 'IN', '##CL', 'G', '##ST', ',', '0', '%', ')', 'R', '##M', '##14', '.', '18', 'R', '##O', '##UN', '##DI', '##NG', 'R', '##M', '##0', '.', '02', 'G', '##RA', '##ND', 'TO', '##TA', '##L', 'R', '##M', '##14', '.', '20', 'TO', '##TA', '##L', 'PA', '##ID', 'R', '##M', '##20', '.', '20', 'CH', '##AN', '##GE', 'R', '##M', '##6', '.', '00', 'D', '##IS', '##CO', '##UN', '##T', 'S', '##UM', '##MA', '##R', '##Y', 'B', '##IR', '##TH', '##DA', '##Y', 'D', '##IS', '##CO', '##UN', '##T', 'R', '##M', '##1', '.', '57', 'G', '##ST', 'S', '##UM', '##MA', '##R', '##Y', 'G', '##ST', 'S', '##UM', '##MA', '##R', '##Y', 'IT', '##EM', 'AM', '##O', '##UN', '##T', '(', 'R', '##M', ')', 'G', '##ST', '(', 'R', '##M', ')', 'ST', '=', '0', '%', 'N', '##S', '=', '0', '%', '4', '0', '14', '.', '18', '0', '.', '00', '0', '.', '00', '0', '.', '00', '20', '/', '06', '/', '2018', '18', ':', '07', ':', '10', '[SEP]', '[PAD]', '[PAD]', '[PAD]', '[PAD]', '[PAD]', '[PAD]', '[PAD]', '[PAD]', '[PAD]', '[PAD]', '[PAD]', '[PAD]', '[PAD]', '[PAD]', '[PAD]', '[PAD]', '[PAD]', '[PAD]', '[PAD]', '[PAD]', '[PAD]', '[PAD]', '[PAD]', '[PAD]', '[PAD]', '[PAD]', '[PAD]', '[PAD]', '[PAD]', '[PAD]', '[PAD]', '[PAD]', '[PAD]', '[PAD]', '[PAD]', '[PAD]', '[PAD]', '[PAD]', '[PAD]', '[PAD]', '[PAD]', '[PAD]', '[PAD]', '[PAD]', '[PAD]', '[PAD]', '[PAD]', '[PAD]', '[PAD]', '[PAD]', '[PAD]', '[PAD]', '[PAD]', '[PAD]', '[PAD]', '[PAD]', '[PAD]', '[PAD]', '[PAD]', '[PAD]', '[PAD]', '[PAD]', '[PAD]', '[PAD]', '[PAD]', '[PAD]', '[PAD]', '[PAD]', '[PAD]', '[PAD]', '[PAD]', '[PAD]', '[PAD]']\n"
          ]
        }
      ]
    },
    {
      "cell_type": "markdown",
      "source": [
        "There are two problems that we need to address after tokenization process:\n",
        "\n",
        "The addition of special tokens from BERT such as [CLS], [SEP], and [PAD]\n",
        "The fact that some tokens are splitted into sub-words.\n",
        "As sub-word tokenization, word-piece tokenization splits uncommon words into their sub-words, such as ‘Geir’ and ‘Haarde’ in the example above. This sub-word tokenization helps the BERT model to learn the semantic meaning of related words.\n",
        "\n",
        "The consequence of this word piece tokenization and the addition of special tokens from BERT is that the sequence length after tokenization is no longer matching the length of the initial label.\n",
        "\n",
        "From the example above, now there are in total 512 tokens in the sequence after tokenization, while the length of the label is still the same as before. Also, the first token in a sequence is no longer the word ‘Prime’, but the newly added [CLS] token, so we need to shift our label as well.\n",
        "\n",
        "To solve this problem, we need to adjust the label such that it has the same length as the sequence after tokenization. To do this, we can utilize the word_ids method from the tokenization result as follows:\n",
        "\n"
      ],
      "metadata": {
        "id": "P4D2TxetW67L"
      }
    },
    {
      "cell_type": "code",
      "source": [
        "word_ids = text_tokenized.word_ids()\n",
        "print(tokenizer.convert_ids_to_tokens(text_tokenized[\"input_ids\"][0]))\n",
        "print(word_ids)"
      ],
      "metadata": {
        "colab": {
          "base_uri": "https://localhost:8080/"
        },
        "id": "h6KaVl4RVfk1",
        "outputId": "662b186d-dfd4-4060-e8cf-66974d6c2cd9"
      },
      "execution_count": 31,
      "outputs": [
        {
          "output_type": "stream",
          "name": "stdout",
          "text": [
            "['[CLS]', 'M', '##O', '##ON', '##L', '##IG', '##HT', 'CA', '##KE', 'H', '##O', '##US', '##E', 'SD', '##N', 'B', '##HD', '86', '##27', '##25', '-', 'U', '(', 'G', '##ST', 'R', '##EG', 'NO', ':', '00', '##15', '##5', '##9', '##29', '##80', '##48', ')', 'NO', '.', '1', ',', 'J', '##AL', '##AN', 'P', '##ER', '##MA', '##S', '10', '/', '5', ',', 'BA', '##ND', '##AR', 'BA', '##R', '##U', 'P', '##ER', '##MA', '##S', 'J', '##A', '##Y', '##A', '81', '##75', '##0', 'J', '##OH', '##OR', 'BA', '##H', '##R', '##U', ',', 'J', '##OH', '##OR', '.', 'W', '##W', '##W', '.', 'M', '##O', '##ON', '##L', '##IG', '##HT', '##CA', '##KE', '.', 'CO', '##M', 'T', '##AB', '##LE', ':', 'CO', '##UN', '##TE', '##R', 'IN', '##VO', '##IC', '##E', 'NO', ':', 'SP', '-', 'N', '##U', '##LL', '-', '18', '/', '06', '/', '20', '-', '102', '##20', '##50', 'D', '##AT', '##E', ':', '20', '/', '06', '/', '2018', '18', ':', '07', ':', '10', 'PA', '##Y', '##ME', '##NT', 'T', '##YP', '##E', ':', 'CA', '##S', '##H', 'ME', '##MB', '##ER', 'N', '##UM', '##BE', '##R', ':', '3000', '##00', '##01', '##00', '##0', '##6', '##8', '##5', '##8', '##7', 'T', '##A', '##KE', 'A', '##WA', '##Y', 'T', '-', 'B', '##UT', '##TE', '##R', 'SL', '##IC', '##E', 'CH', '##EE', '##SE', '*', '#', 'D', '##IS', '##CO', '##UN', '##T', 'T', '-', 'G', '##RE', '##EN', 'T', '##EA', 'M', '##OC', '##H', '##I', '*', '#', 'D', '##IS', '##CO', '##UN', '##T', 'T', '-', 'H', '##ON', '##E', '##Y', 'WA', '##L', '##NU', '##T', '*', '#', 'D', '##IS', '##CO', '##UN', '##T', 'T', '-', 'SA', '##HA', 'BR', '##EA', '##D', '*', '#', 'D', '##IS', '##CO', '##UN', '##T', '1', '1', '1', '1', 'R', '##M', '##4', '.', '15', 'ST', 'R', '##M', '-', '0', '.', '41', 'R', '##M', '##3', '.', '30', 'ST', 'R', '##M', '-', '0', '.', '33', 'R', '##M', '##3', '.', '70', 'ST', 'R', '##M', '-', '0', '.', '37', 'R', '##M', '##4', '.', '60', 'ST', 'R', '##M', '-', '0', '.', '46', 'TO', '##TA', '##L', '(', 'IN', '##CL', 'G', '##ST', ',', '0', '%', ')', 'R', '##M', '##14', '.', '18', 'R', '##O', '##UN', '##DI', '##NG', 'R', '##M', '##0', '.', '02', 'G', '##RA', '##ND', 'TO', '##TA', '##L', 'R', '##M', '##14', '.', '20', 'TO', '##TA', '##L', 'PA', '##ID', 'R', '##M', '##20', '.', '20', 'CH', '##AN', '##GE', 'R', '##M', '##6', '.', '00', 'D', '##IS', '##CO', '##UN', '##T', 'S', '##UM', '##MA', '##R', '##Y', 'B', '##IR', '##TH', '##DA', '##Y', 'D', '##IS', '##CO', '##UN', '##T', 'R', '##M', '##1', '.', '57', 'G', '##ST', 'S', '##UM', '##MA', '##R', '##Y', 'G', '##ST', 'S', '##UM', '##MA', '##R', '##Y', 'IT', '##EM', 'AM', '##O', '##UN', '##T', '(', 'R', '##M', ')', 'G', '##ST', '(', 'R', '##M', ')', 'ST', '=', '0', '%', 'N', '##S', '=', '0', '%', '4', '0', '14', '.', '18', '0', '.', '00', '0', '.', '00', '0', '.', '00', '20', '/', '06', '/', '2018', '18', ':', '07', ':', '10', '[SEP]', '[PAD]', '[PAD]', '[PAD]', '[PAD]', '[PAD]', '[PAD]', '[PAD]', '[PAD]', '[PAD]', '[PAD]', '[PAD]', '[PAD]', '[PAD]', '[PAD]', '[PAD]', '[PAD]', '[PAD]', '[PAD]', '[PAD]', '[PAD]', '[PAD]', '[PAD]', '[PAD]', '[PAD]', '[PAD]', '[PAD]', '[PAD]', '[PAD]', '[PAD]', '[PAD]', '[PAD]', '[PAD]', '[PAD]', '[PAD]', '[PAD]', '[PAD]', '[PAD]', '[PAD]', '[PAD]', '[PAD]', '[PAD]', '[PAD]', '[PAD]', '[PAD]', '[PAD]', '[PAD]', '[PAD]', '[PAD]', '[PAD]', '[PAD]', '[PAD]', '[PAD]', '[PAD]', '[PAD]', '[PAD]', '[PAD]', '[PAD]', '[PAD]', '[PAD]', '[PAD]', '[PAD]', '[PAD]', '[PAD]', '[PAD]', '[PAD]', '[PAD]', '[PAD]', '[PAD]', '[PAD]', '[PAD]', '[PAD]', '[PAD]', '[PAD]']\n",
            "[None, 0, 0, 0, 0, 0, 0, 1, 1, 2, 2, 2, 2, 3, 3, 4, 4, 5, 5, 5, 6, 7, 8, 9, 9, 10, 10, 11, 12, 13, 13, 13, 13, 13, 13, 13, 14, 15, 16, 17, 18, 19, 19, 19, 20, 20, 20, 20, 21, 22, 23, 24, 25, 25, 25, 26, 26, 26, 27, 27, 27, 27, 28, 28, 28, 28, 29, 29, 29, 30, 30, 30, 31, 31, 31, 31, 32, 33, 33, 33, 34, 35, 35, 35, 36, 37, 37, 37, 37, 37, 37, 37, 37, 38, 39, 39, 40, 40, 40, 41, 42, 42, 42, 42, 43, 43, 43, 43, 44, 45, 46, 47, 48, 48, 48, 49, 50, 51, 52, 53, 54, 55, 56, 56, 56, 57, 57, 57, 58, 59, 60, 61, 62, 63, 64, 65, 66, 67, 68, 69, 69, 69, 69, 70, 70, 70, 71, 72, 72, 72, 73, 73, 73, 74, 74, 74, 74, 75, 76, 76, 76, 76, 76, 76, 76, 76, 76, 76, 77, 77, 77, 78, 78, 78, 79, 80, 81, 81, 81, 81, 82, 82, 82, 83, 83, 83, 84, 85, 86, 86, 86, 86, 86, 87, 88, 89, 89, 89, 90, 90, 91, 91, 91, 91, 92, 93, 94, 94, 94, 94, 94, 95, 96, 97, 97, 97, 97, 98, 98, 98, 98, 99, 100, 101, 101, 101, 101, 101, 102, 103, 104, 104, 105, 105, 105, 106, 107, 108, 108, 108, 108, 108, 109, 110, 111, 112, 113, 113, 113, 114, 115, 116, 117, 117, 118, 119, 120, 121, 122, 122, 122, 123, 124, 125, 126, 126, 127, 128, 129, 130, 131, 131, 131, 132, 133, 134, 135, 135, 136, 137, 138, 139, 140, 140, 140, 141, 142, 143, 144, 144, 145, 146, 147, 148, 149, 149, 149, 150, 151, 151, 152, 152, 153, 154, 155, 156, 157, 157, 157, 158, 159, 160, 160, 160, 160, 160, 161, 161, 161, 162, 163, 164, 164, 164, 165, 165, 165, 166, 166, 166, 167, 168, 169, 169, 169, 170, 170, 171, 171, 171, 172, 173, 174, 174, 174, 175, 175, 175, 176, 177, 178, 178, 178, 178, 178, 179, 179, 179, 179, 179, 180, 180, 180, 180, 180, 181, 181, 181, 181, 181, 182, 182, 182, 183, 184, 185, 185, 186, 186, 186, 186, 186, 187, 187, 188, 188, 188, 188, 188, 189, 189, 190, 190, 190, 190, 191, 192, 192, 193, 194, 194, 195, 196, 196, 197, 198, 199, 200, 201, 202, 202, 203, 204, 205, 206, 207, 208, 209, 210, 211, 212, 213, 214, 215, 216, 217, 218, 219, 220, 221, 222, 223, 224, 225, 226, 227, 228, 229, None, None, None, None, None, None, None, None, None, None, None, None, None, None, None, None, None, None, None, None, None, None, None, None, None, None, None, None, None, None, None, None, None, None, None, None, None, None, None, None, None, None, None, None, None, None, None, None, None, None, None, None, None, None, None, None, None, None, None, None, None, None, None, None, None, None, None, None, None, None, None, None, None, None]\n"
          ]
        }
      ]
    },
    {
      "cell_type": "markdown",
      "source": [
        "As you can see from the code snippet above, each splitted token shares the same word_ids , where special tokens from BERT such as [CLS], [SEP], and [PAD] all do not have specificword_ids.\n",
        "\n",
        "These word_ids will be very useful to adjust the length of the label by applying either of these two methods:\n",
        "\n",
        "1. We only provide a label to the first sub-word of each splitted token. The continuation of the sub-word then will simply have ‘-100’ as a label. All tokens that don’t have word_ids will also be labeled with ‘-100’.\n",
        "2. We provide the same label among all of the sub-words that belong to the same token. All tokens that don’t have word_ids will be labeled with ‘-100’.\n",
        "\n",
        "The function in the code snippet below will do exactly the step defined above.\n",
        "\n"
      ],
      "metadata": {
        "id": "Nx29VxBXXAeP"
      }
    },
    {
      "cell_type": "code",
      "source": [
        "def align_label_example(tokenized_input, labels):\n",
        "\n",
        "        word_ids = tokenized_input.word_ids()\n",
        "\n",
        "        previous_word_idx = None\n",
        "        label_ids = []\n",
        "   \n",
        "        for word_idx in word_ids:\n",
        "\n",
        "            if word_idx is None:\n",
        "                label_ids.append(-100)\n",
        "                \n",
        "            elif word_idx != previous_word_idx:\n",
        "                try:\n",
        "                  label_ids.append(labels_to_ids[labels[word_idx]])\n",
        "                except:\n",
        "                  label_ids.append(-100)\n",
        "        \n",
        "            else:\n",
        "                label_ids.append(labels_to_ids[labels[word_idx]] if label_all_tokens else -100)\n",
        "            previous_word_idx = word_idx\n",
        "      \n",
        "\n",
        "        return label_ids"
      ],
      "metadata": {
        "id": "YEhwxLuvVfh_"
      },
      "execution_count": 32,
      "outputs": []
    },
    {
      "cell_type": "markdown",
      "source": [
        "If you want to apply the first method, set `label_all_tokens` to False. If you want to apply the second method, set `label_all_tokens` to True, as you can see in the following code snippet:"
      ],
      "metadata": {
        "id": "bd-N5DQkXII_"
      }
    },
    {
      "cell_type": "code",
      "source": [
        "label = labels[0]\n",
        "\n",
        "#If we set label_all_tokens to True.....\n",
        "label_all_tokens = True\n",
        "\n",
        "new_label = align_label_example(text_tokenized, label)\n",
        "print(new_label)\n",
        "print(tokenizer.convert_ids_to_tokens(text_tokenized[\"input_ids\"][0]))"
      ],
      "metadata": {
        "colab": {
          "base_uri": "https://localhost:8080/",
          "height": 373
        },
        "id": "pk87lGp6XH9G",
        "outputId": "55e9fb70-cb87-4463-ae1c-fc9f5fcf5dc9"
      },
      "execution_count": 34,
      "outputs": [
        {
          "output_type": "error",
          "ename": "IndexError",
          "evalue": "ignored",
          "traceback": [
            "\u001b[0;31m---------------------------------------------------------------------------\u001b[0m",
            "\u001b[0;31mIndexError\u001b[0m                                Traceback (most recent call last)",
            "\u001b[0;32m<ipython-input-34-26d3d41cb6c4>\u001b[0m in \u001b[0;36m<module>\u001b[0;34m\u001b[0m\n\u001b[1;32m      4\u001b[0m \u001b[0mlabel_all_tokens\u001b[0m \u001b[0;34m=\u001b[0m \u001b[0;32mTrue\u001b[0m\u001b[0;34m\u001b[0m\u001b[0;34m\u001b[0m\u001b[0m\n\u001b[1;32m      5\u001b[0m \u001b[0;34m\u001b[0m\u001b[0m\n\u001b[0;32m----> 6\u001b[0;31m \u001b[0mnew_label\u001b[0m \u001b[0;34m=\u001b[0m \u001b[0malign_label_example\u001b[0m\u001b[0;34m(\u001b[0m\u001b[0mtext_tokenized\u001b[0m\u001b[0;34m,\u001b[0m \u001b[0mlabel\u001b[0m\u001b[0;34m)\u001b[0m\u001b[0;34m\u001b[0m\u001b[0;34m\u001b[0m\u001b[0m\n\u001b[0m\u001b[1;32m      7\u001b[0m \u001b[0mprint\u001b[0m\u001b[0;34m(\u001b[0m\u001b[0mnew_label\u001b[0m\u001b[0;34m)\u001b[0m\u001b[0;34m\u001b[0m\u001b[0;34m\u001b[0m\u001b[0m\n\u001b[1;32m      8\u001b[0m \u001b[0mprint\u001b[0m\u001b[0;34m(\u001b[0m\u001b[0mtokenizer\u001b[0m\u001b[0;34m.\u001b[0m\u001b[0mconvert_ids_to_tokens\u001b[0m\u001b[0;34m(\u001b[0m\u001b[0mtext_tokenized\u001b[0m\u001b[0;34m[\u001b[0m\u001b[0;34m\"input_ids\"\u001b[0m\u001b[0;34m]\u001b[0m\u001b[0;34m[\u001b[0m\u001b[0;36m0\u001b[0m\u001b[0;34m]\u001b[0m\u001b[0;34m)\u001b[0m\u001b[0;34m)\u001b[0m\u001b[0;34m\u001b[0m\u001b[0;34m\u001b[0m\u001b[0m\n",
            "\u001b[0;32m<ipython-input-32-ee9ab37366f7>\u001b[0m in \u001b[0;36malign_label_example\u001b[0;34m(tokenized_input, labels)\u001b[0m\n\u001b[1;32m     18\u001b[0m \u001b[0;34m\u001b[0m\u001b[0m\n\u001b[1;32m     19\u001b[0m             \u001b[0;32melse\u001b[0m\u001b[0;34m:\u001b[0m\u001b[0;34m\u001b[0m\u001b[0;34m\u001b[0m\u001b[0m\n\u001b[0;32m---> 20\u001b[0;31m                 \u001b[0mlabel_ids\u001b[0m\u001b[0;34m.\u001b[0m\u001b[0mappend\u001b[0m\u001b[0;34m(\u001b[0m\u001b[0mlabels_to_ids\u001b[0m\u001b[0;34m[\u001b[0m\u001b[0mlabels\u001b[0m\u001b[0;34m[\u001b[0m\u001b[0mword_idx\u001b[0m\u001b[0;34m]\u001b[0m\u001b[0;34m]\u001b[0m \u001b[0;32mif\u001b[0m \u001b[0mlabel_all_tokens\u001b[0m \u001b[0;32melse\u001b[0m \u001b[0;34m-\u001b[0m\u001b[0;36m100\u001b[0m\u001b[0;34m)\u001b[0m\u001b[0;34m\u001b[0m\u001b[0;34m\u001b[0m\u001b[0m\n\u001b[0m\u001b[1;32m     21\u001b[0m             \u001b[0mprevious_word_idx\u001b[0m \u001b[0;34m=\u001b[0m \u001b[0mword_idx\u001b[0m\u001b[0;34m\u001b[0m\u001b[0;34m\u001b[0m\u001b[0m\n\u001b[1;32m     22\u001b[0m \u001b[0;34m\u001b[0m\u001b[0m\n",
            "\u001b[0;31mIndexError\u001b[0m: list index out of range"
          ]
        }
      ]
    },
    {
      "cell_type": "code",
      "source": [
        "#If we set label_all_tokens to False.....\n",
        "label_all_tokens = False\n",
        "\n",
        "new_label = align_label_example(text_tokenized, label)\n",
        "print(new_label)\n",
        "print(tokenizer.convert_ids_to_tokens(text_tokenized[\"input_ids\"][0]))"
      ],
      "metadata": {
        "colab": {
          "base_uri": "https://localhost:8080/"
        },
        "id": "lHAacvMWXH6j",
        "outputId": "3c06b16a-ee0c-4a6b-d990-38b3c11fd36c"
      },
      "execution_count": 35,
      "outputs": [
        {
          "output_type": "stream",
          "name": "stdout",
          "text": [
            "[-100, 1, -100, -100, -100, -100, -100, 5, -100, 5, -100, -100, -100, 5, -100, 2, -100, 6, -100, -100, 6, 6, 8, 0, -100, 4, -100, 4, 4, 4, -100, -100, -100, -100, -100, -100, 0, 4, 4, 8, 8, 8, -100, -100, 8, -100, -100, -100, 8, 8, 8, 8, 8, -100, -100, 8, -100, -100, 8, -100, -100, -100, 8, -100, -100, -100, 8, -100, -100, 8, -100, -100, 8, -100, -100, -100, 8, 8, -100, -100, 8, 8, -100, -100, 8, 8, -100, -100, -100, -100, -100, -100, -100, 8, 3, -100, 7, -100, -100, 7, 8, -100, -100, -100, 8, -100, -100, -100, 8, 8, 8, 8, 8, -100, -100, 8, 8, 8, 8, 8, 8, 8, 8, -100, -100, 8, -100, -100, 8, 8, 8, 8, 8, 8, 8, 8, 8, 8, 8, 8, -100, -100, -100, 8, -100, -100, 8, 8, -100, -100, 8, -100, -100, 8, -100, -100, -100, 8, 8, -100, -100, -100, -100, -100, -100, -100, -100, -100, 8, -100, -100, 8, -100, -100, 8, 8, 8, -100, -100, -100, 8, -100, -100, 8, -100, -100, 8, 8, -100, -100, -100, -100, -100, -100, -100, -100, -100, -100, -100, -100, -100, -100, -100, -100, -100, -100, -100, -100, -100, -100, -100, -100, -100, -100, -100, -100, -100, -100, -100, -100, -100, -100, -100, -100, -100, -100, -100, -100, -100, -100, -100, -100, -100, -100, -100, -100, -100, -100, -100, -100, -100, -100, -100, -100, -100, -100, -100, -100, -100, -100, -100, -100, -100, -100, -100, -100, -100, -100, -100, -100, -100, -100, -100, -100, -100, -100, -100, -100, -100, -100, -100, -100, -100, -100, -100, -100, -100, -100, -100, -100, -100, -100, -100, -100, -100, -100, -100, -100, -100, -100, -100, -100, -100, -100, -100, -100, -100, -100, -100, -100, -100, -100, -100, -100, -100, -100, -100, -100, -100, -100, -100, -100, -100, -100, -100, -100, -100, -100, -100, -100, -100, -100, -100, -100, -100, -100, -100, -100, -100, -100, -100, -100, -100, -100, -100, -100, -100, -100, -100, -100, -100, -100, -100, -100, -100, -100, -100, -100, -100, -100, -100, -100, -100, -100, -100, -100, -100, -100, -100, -100, -100, -100, -100, -100, -100, -100, -100, -100, -100, -100, -100, -100, -100, -100, -100, -100, -100, -100, -100, -100, -100, -100, -100, -100, -100, -100, -100, -100, -100, -100, -100, -100, -100, -100, -100, -100, -100, -100, -100, -100, -100, -100, -100, -100, -100, -100, -100, -100, -100, -100, -100, -100, -100, -100, -100, -100, -100, -100, -100, -100, -100, -100, -100, -100, -100, -100, -100, -100, -100, -100, -100, -100, -100, -100, -100, -100, -100, -100, -100, -100, -100, -100, -100, -100, -100, -100, -100, -100, -100, -100, -100, -100, -100, -100, -100, -100, -100, -100, -100, -100, -100, -100, -100, -100, -100, -100, -100, -100, -100, -100, -100, -100, -100, -100, -100, -100, -100, -100, -100, -100, -100, -100, -100, -100, -100, -100, -100, -100, -100, -100, -100, -100, -100, -100, -100, -100, -100, -100, -100, -100, -100, -100, -100, -100, -100, -100, -100, -100, -100, -100, -100, -100]\n",
            "['[CLS]', 'M', '##O', '##ON', '##L', '##IG', '##HT', 'CA', '##KE', 'H', '##O', '##US', '##E', 'SD', '##N', 'B', '##HD', '86', '##27', '##25', '-', 'U', '(', 'G', '##ST', 'R', '##EG', 'NO', ':', '00', '##15', '##5', '##9', '##29', '##80', '##48', ')', 'NO', '.', '1', ',', 'J', '##AL', '##AN', 'P', '##ER', '##MA', '##S', '10', '/', '5', ',', 'BA', '##ND', '##AR', 'BA', '##R', '##U', 'P', '##ER', '##MA', '##S', 'J', '##A', '##Y', '##A', '81', '##75', '##0', 'J', '##OH', '##OR', 'BA', '##H', '##R', '##U', ',', 'J', '##OH', '##OR', '.', 'W', '##W', '##W', '.', 'M', '##O', '##ON', '##L', '##IG', '##HT', '##CA', '##KE', '.', 'CO', '##M', 'T', '##AB', '##LE', ':', 'CO', '##UN', '##TE', '##R', 'IN', '##VO', '##IC', '##E', 'NO', ':', 'SP', '-', 'N', '##U', '##LL', '-', '18', '/', '06', '/', '20', '-', '102', '##20', '##50', 'D', '##AT', '##E', ':', '20', '/', '06', '/', '2018', '18', ':', '07', ':', '10', 'PA', '##Y', '##ME', '##NT', 'T', '##YP', '##E', ':', 'CA', '##S', '##H', 'ME', '##MB', '##ER', 'N', '##UM', '##BE', '##R', ':', '3000', '##00', '##01', '##00', '##0', '##6', '##8', '##5', '##8', '##7', 'T', '##A', '##KE', 'A', '##WA', '##Y', 'T', '-', 'B', '##UT', '##TE', '##R', 'SL', '##IC', '##E', 'CH', '##EE', '##SE', '*', '#', 'D', '##IS', '##CO', '##UN', '##T', 'T', '-', 'G', '##RE', '##EN', 'T', '##EA', 'M', '##OC', '##H', '##I', '*', '#', 'D', '##IS', '##CO', '##UN', '##T', 'T', '-', 'H', '##ON', '##E', '##Y', 'WA', '##L', '##NU', '##T', '*', '#', 'D', '##IS', '##CO', '##UN', '##T', 'T', '-', 'SA', '##HA', 'BR', '##EA', '##D', '*', '#', 'D', '##IS', '##CO', '##UN', '##T', '1', '1', '1', '1', 'R', '##M', '##4', '.', '15', 'ST', 'R', '##M', '-', '0', '.', '41', 'R', '##M', '##3', '.', '30', 'ST', 'R', '##M', '-', '0', '.', '33', 'R', '##M', '##3', '.', '70', 'ST', 'R', '##M', '-', '0', '.', '37', 'R', '##M', '##4', '.', '60', 'ST', 'R', '##M', '-', '0', '.', '46', 'TO', '##TA', '##L', '(', 'IN', '##CL', 'G', '##ST', ',', '0', '%', ')', 'R', '##M', '##14', '.', '18', 'R', '##O', '##UN', '##DI', '##NG', 'R', '##M', '##0', '.', '02', 'G', '##RA', '##ND', 'TO', '##TA', '##L', 'R', '##M', '##14', '.', '20', 'TO', '##TA', '##L', 'PA', '##ID', 'R', '##M', '##20', '.', '20', 'CH', '##AN', '##GE', 'R', '##M', '##6', '.', '00', 'D', '##IS', '##CO', '##UN', '##T', 'S', '##UM', '##MA', '##R', '##Y', 'B', '##IR', '##TH', '##DA', '##Y', 'D', '##IS', '##CO', '##UN', '##T', 'R', '##M', '##1', '.', '57', 'G', '##ST', 'S', '##UM', '##MA', '##R', '##Y', 'G', '##ST', 'S', '##UM', '##MA', '##R', '##Y', 'IT', '##EM', 'AM', '##O', '##UN', '##T', '(', 'R', '##M', ')', 'G', '##ST', '(', 'R', '##M', ')', 'ST', '=', '0', '%', 'N', '##S', '=', '0', '%', '4', '0', '14', '.', '18', '0', '.', '00', '0', '.', '00', '0', '.', '00', '20', '/', '06', '/', '2018', '18', ':', '07', ':', '10', '[SEP]', '[PAD]', '[PAD]', '[PAD]', '[PAD]', '[PAD]', '[PAD]', '[PAD]', '[PAD]', '[PAD]', '[PAD]', '[PAD]', '[PAD]', '[PAD]', '[PAD]', '[PAD]', '[PAD]', '[PAD]', '[PAD]', '[PAD]', '[PAD]', '[PAD]', '[PAD]', '[PAD]', '[PAD]', '[PAD]', '[PAD]', '[PAD]', '[PAD]', '[PAD]', '[PAD]', '[PAD]', '[PAD]', '[PAD]', '[PAD]', '[PAD]', '[PAD]', '[PAD]', '[PAD]', '[PAD]', '[PAD]', '[PAD]', '[PAD]', '[PAD]', '[PAD]', '[PAD]', '[PAD]', '[PAD]', '[PAD]', '[PAD]', '[PAD]', '[PAD]', '[PAD]', '[PAD]', '[PAD]', '[PAD]', '[PAD]', '[PAD]', '[PAD]', '[PAD]', '[PAD]', '[PAD]', '[PAD]', '[PAD]', '[PAD]', '[PAD]', '[PAD]', '[PAD]', '[PAD]', '[PAD]', '[PAD]', '[PAD]', '[PAD]', '[PAD]']\n"
          ]
        }
      ]
    },
    {
      "cell_type": "markdown",
      "source": [
        "In the rest of this article, we’re going to implement the first method, in which we will only provide a label to the first sub-word in each token and set `label_all_tokens` to **False**."
      ],
      "metadata": {
        "id": "UQP19qhIXg2H"
      }
    },
    {
      "cell_type": "markdown",
      "source": [
        "#### Dataset Class\n",
        "Before we train our BERT model for NER task, we need to create a dataset class to generate and fetch data in a batch."
      ],
      "metadata": {
        "id": "jquLPjSVXkOI"
      }
    },
    {
      "cell_type": "code",
      "source": [
        "import torch\n",
        "\n",
        "def align_label(texts, labels):\n",
        "    tokenized_inputs = tokenizer(texts, padding='max_length', max_length=512, truncation=True)\n",
        "\n",
        "    word_ids = tokenized_inputs.word_ids()\n",
        "\n",
        "    previous_word_idx = None\n",
        "    label_ids = []\n",
        "\n",
        "    for word_idx in word_ids:\n",
        "\n",
        "        if word_idx is None:\n",
        "            label_ids.append(-100)\n",
        "\n",
        "        elif word_idx != previous_word_idx:\n",
        "            try:\n",
        "                label_ids.append(labels_to_ids[labels[word_idx]])\n",
        "            except:\n",
        "                label_ids.append(-100)\n",
        "        else:\n",
        "            try:\n",
        "                label_ids.append(labels_to_ids[labels[word_idx]] if label_all_tokens else -100)\n",
        "            except:\n",
        "                label_ids.append(-100)\n",
        "        previous_word_idx = word_idx\n",
        "\n",
        "    return label_ids\n",
        "\n",
        "class DataSequence(torch.utils.data.Dataset):\n",
        "\n",
        "    def __init__(self, df):\n",
        "\n",
        "        lb = [i.split() for i in df['labels'].values.tolist()]\n",
        "        txt = df['text'].values.tolist()\n",
        "        self.texts = [tokenizer(str(i),\n",
        "                               padding='max_length', max_length = 512, truncation=True, return_tensors=\"pt\") for i in txt]\n",
        "        self.labels = [align_label(i,j) for i,j in zip(txt, lb)]\n",
        "\n",
        "    def __len__(self):\n",
        "\n",
        "        return len(self.labels)\n",
        "\n",
        "    def get_batch_data(self, idx):\n",
        "\n",
        "        return self.texts[idx]\n",
        "\n",
        "    def get_batch_labels(self, idx):\n",
        "\n",
        "        return torch.LongTensor(self.labels[idx])\n",
        "\n",
        "    def __getitem__(self, idx):\n",
        "\n",
        "        batch_data = self.get_batch_data(idx)\n",
        "        batch_labels = self.get_batch_labels(idx)\n",
        "\n",
        "        return batch_data, batch_labels"
      ],
      "metadata": {
        "id": "yzEtVtcEXH3u"
      },
      "execution_count": 36,
      "outputs": []
    },
    {
      "cell_type": "markdown",
      "source": [
        "In the code snippet above, we call `BertTokenizerFast` class with `tokenizer` variable in the `__init__` function to tokenize our input texts, and `align_label` function to adjust our label after tokenization process.\n",
        "\n",
        "Next, let’s split our data randomly into training, vaidation, and test. However, mind you that the total number of data is 47959. Hence, for demonstration purpose and to speed up the training process, I’m going to take only 1000 of them. You can, of course, take all of the data for model training."
      ],
      "metadata": {
        "id": "05JP7sUQXu9f"
      }
    },
    {
      "cell_type": "code",
      "source": [
        "import numpy as np\n",
        "\n",
        "df = df[0:1000]\n",
        "df_train, df_val, df_test = np.split(df.sample(frac=1, random_state=42),\n",
        "                            [int(.8 * len(df)), int(.9 * len(df))])"
      ],
      "metadata": {
        "id": "iEDG2Tw7WlIZ"
      },
      "execution_count": 37,
      "outputs": []
    },
    {
      "cell_type": "markdown",
      "source": [
        "### Model Building\n",
        "In this article, we’re going to use a pretrained BERT base model from HuggingFace. Since we’re going to classify text in the token level, then we need to use `BertForTokenClassification` class.\n",
        "\n",
        "`BertForTokenClassification` class is a model that wraps BERT model and adds linear layers on top of BERT model that will act as token-level classifiers."
      ],
      "metadata": {
        "id": "EzS9Ujt6X6JA"
      }
    },
    {
      "cell_type": "code",
      "source": [
        "from transformers import BertForTokenClassification\n",
        "\n",
        "class BertModel(torch.nn.Module):\n",
        "\n",
        "    def __init__(self):\n",
        "\n",
        "        super(BertModel, self).__init__()\n",
        "\n",
        "        self.bert = BertForTokenClassification.from_pretrained('bert-base-cased', num_labels=len(unique_labels))\n",
        "\n",
        "    def forward(self, input_id, mask, label):\n",
        "\n",
        "        output = self.bert(input_ids=input_id, attention_mask=mask, labels=label, return_dict=False)\n",
        "\n",
        "        return output"
      ],
      "metadata": {
        "id": "zpfFa-IWWlF5"
      },
      "execution_count": 38,
      "outputs": []
    },
    {
      "cell_type": "markdown",
      "source": [
        "In the code snippet above, first, we instantiate the model and set the output of each token classifier equal to the number of unique entities on our dataset, which in our case is 17.\n",
        "\n",
        "Next, we will define a function for the training loop."
      ],
      "metadata": {
        "id": "ZSyw3XV0YCsp"
      }
    },
    {
      "cell_type": "markdown",
      "source": [
        "### Training Loop\n",
        "The training loop for our BERT model is the standard PyTorch training loop with a few additions, as you can see below:"
      ],
      "metadata": {
        "id": "rbOtwHyAYFDY"
      }
    },
    {
      "cell_type": "code",
      "source": [
        "from torch.utils.data import DataLoader\n",
        "from tqdm import tqdm\n",
        "\n",
        "def train_loop(model, df_train, df_val):\n",
        "\n",
        "    train_dataset = DataSequence(df_train)\n",
        "    val_dataset = DataSequence(df_val)\n",
        "\n",
        "    train_dataloader = DataLoader(train_dataset, num_workers=4, batch_size=BATCH_SIZE, shuffle=True)\n",
        "    val_dataloader = DataLoader(val_dataset, num_workers=4, batch_size=BATCH_SIZE)\n",
        "\n",
        "    use_cuda = torch.cuda.is_available()\n",
        "    device = torch.device(\"cuda\" if use_cuda else \"cpu\")\n",
        "\n",
        "    optimizer = torch.optim.SGD(model.parameters(), lr=LEARNING_RATE)\n",
        "\n",
        "    if use_cuda:\n",
        "        model = model.cuda()\n",
        "\n",
        "    best_acc = 0\n",
        "    best_loss = 1000\n",
        "\n",
        "    for epoch_num in range(EPOCHS):\n",
        "\n",
        "        total_acc_train = 0\n",
        "        total_loss_train = 0\n",
        "\n",
        "        model.train()\n",
        "\n",
        "        for train_data, train_label in tqdm(train_dataloader):\n",
        "\n",
        "            train_label = train_label.to(device)\n",
        "            mask = train_data['attention_mask'].squeeze(1).to(device)\n",
        "            input_id = train_data['input_ids'].squeeze(1).to(device)\n",
        "\n",
        "            optimizer.zero_grad()\n",
        "            loss, logits = model(input_id, mask, train_label)\n",
        "\n",
        "            for i in range(logits.shape[0]):\n",
        "\n",
        "              logits_clean = logits[i][train_label[i] != -100]\n",
        "              label_clean = train_label[i][train_label[i] != -100]\n",
        "\n",
        "              predictions = logits_clean.argmax(dim=1)\n",
        "              acc = (predictions == label_clean).float().mean()\n",
        "              total_acc_train += acc\n",
        "              total_loss_train += loss.item()\n",
        "\n",
        "            loss.backward()\n",
        "            optimizer.step()\n",
        "\n",
        "        model.eval()\n",
        "\n",
        "        total_acc_val = 0\n",
        "        total_loss_val = 0\n",
        "\n",
        "        for val_data, val_label in val_dataloader:\n",
        "\n",
        "            val_label = val_label.to(device)\n",
        "            mask = val_data['attention_mask'].squeeze(1).to(device)\n",
        "            input_id = val_data['input_ids'].squeeze(1).to(device)\n",
        "\n",
        "            loss, logits = model(input_id, mask, val_label)\n",
        "\n",
        "            for i in range(logits.shape[0]):\n",
        "\n",
        "              logits_clean = logits[i][val_label[i] != -100]\n",
        "              label_clean = val_label[i][val_label[i] != -100]\n",
        "\n",
        "              predictions = logits_clean.argmax(dim=1)\n",
        "              acc = (predictions == label_clean).float().mean()\n",
        "              total_acc_val += acc\n",
        "              total_loss_val += loss.item()\n",
        "\n",
        "        val_accuracy = total_acc_val / len(df_val)\n",
        "        val_loss = total_loss_val / len(df_val)\n",
        "\n",
        "        print(\n",
        "            f'Epochs: {epoch_num + 1} | Loss: {total_loss_train / len(df_train): .3f} | Accuracy: {total_acc_train / len(df_train): .3f} | Val_Loss: {total_loss_val / len(df_val): .3f} | Accuracy: {total_acc_val / len(df_val): .3f}')\n",
        "\n",
        "LEARNING_RATE = 5e-3\n",
        "EPOCHS = 5\n",
        "BATCH_SIZE = 2\n",
        "\n",
        "model = BertModel()\n",
        "train_loop(model, df_train, df_val)"
      ],
      "metadata": {
        "colab": {
          "base_uri": "https://localhost:8080/"
        },
        "id": "Z9NGG_bfYA7c",
        "outputId": "a1381b93-3979-48a4-90a8-7f8053e9dc80"
      },
      "execution_count": null,
      "outputs": [
        {
          "output_type": "stream",
          "name": "stderr",
          "text": [
            "Some weights of the model checkpoint at bert-base-cased were not used when initializing BertForTokenClassification: ['cls.seq_relationship.bias', 'cls.predictions.transform.LayerNorm.weight', 'cls.seq_relationship.weight', 'cls.predictions.decoder.weight', 'cls.predictions.transform.LayerNorm.bias', 'cls.predictions.transform.dense.bias', 'cls.predictions.transform.dense.weight', 'cls.predictions.bias']\n",
            "- This IS expected if you are initializing BertForTokenClassification from the checkpoint of a model trained on another task or with another architecture (e.g. initializing a BertForSequenceClassification model from a BertForPreTraining model).\n",
            "- This IS NOT expected if you are initializing BertForTokenClassification from the checkpoint of a model that you expect to be exactly identical (initializing a BertForSequenceClassification model from a BertForSequenceClassification model).\n",
            "Some weights of BertForTokenClassification were not initialized from the model checkpoint at bert-base-cased and are newly initialized: ['classifier.bias', 'classifier.weight']\n",
            "You should probably TRAIN this model on a down-stream task to be able to use it for predictions and inference.\n",
            " 89%|████████▉ | 223/250 [46:58<05:31, 12.29s/it]"
          ]
        }
      ]
    },
    {
      "cell_type": "markdown",
      "source": [
        "In the training loop above, I only train the model for **5epochs** and then use **SGD** as the optimizer. The loss computation in each batch is already taken care of by `BertForTokenClassification` class.\n",
        "\n",
        "In each epoch of the training loop, there is also an important step that we need to do. After model prediction, we need to ignore all of the tokens that have ‘-100’ as the label, as you can see in lines 36, 37, 62, and 63.\n",
        "\n",
        "Below is the example of the training output after we train our BERT model for 5 epochs:"
      ],
      "metadata": {
        "id": "G9Rxc6UZYNZ3"
      }
    },
    {
      "cell_type": "code",
      "source": [],
      "metadata": {
        "id": "IYHc8rXQYA4j"
      },
      "execution_count": null,
      "outputs": []
    },
    {
      "cell_type": "code",
      "source": [],
      "metadata": {
        "id": "nYCel8pNWk-y"
      },
      "execution_count": null,
      "outputs": []
    },
    {
      "cell_type": "markdown",
      "source": [
        "## NER for kaggle dataset"
      ],
      "metadata": {
        "id": "ms-ZWsYvIg92"
      }
    },
    {
      "cell_type": "code",
      "source": [
        "!pip install -q kaggle\n",
        "\n",
        "# from google.colab import files\n",
        "# files.upload()\n",
        "\n",
        "!mkdir ~/.kaggle\n",
        "!cp kaggle.json ~/.kaggle/\n",
        "!chmod 600 ~/.kaggle/kaggle.json\n",
        "\n",
        "!kaggle datasets download -d 'rajnathpatel/ner-data'\n",
        "!unzip /content/ner-data.zip"
      ],
      "metadata": {
        "id": "bIFXNf72AqRl",
        "colab": {
          "base_uri": "https://localhost:8080/"
        },
        "outputId": "e1876948-22f8-42ff-e1b8-4ec8f12e3ffd"
      },
      "execution_count": null,
      "outputs": [
        {
          "output_type": "stream",
          "name": "stdout",
          "text": [
            "mkdir: cannot create directory ‘/root/.kaggle’: File exists\n",
            "Downloading ner-data.zip to /content\n",
            "  0% 0.00/2.64M [00:00<?, ?B/s]\n",
            "100% 2.64M/2.64M [00:00<00:00, 43.0MB/s]\n",
            "Archive:  /content/ner-data.zip\n",
            "  inflating: ner.csv                 \n"
          ]
        }
      ]
    },
    {
      "cell_type": "code",
      "source": [
        "%%capture\n",
        "!pip install transformers\n",
        "\n",
        "import warnings\n",
        "warnings.filterwarnings('ignore')\n",
        "\n",
        "import numpy as np\n",
        "import pandas as pd\n",
        "import seaborn as sns\n",
        "import matplotlib.pyplot as plt\n",
        "from tqdm import tqdm\n",
        "\n",
        "import transformers\n",
        "from transformers import AutoTokenizer\n",
        "from transformers import  DistilBertForTokenClassification\n",
        "\n",
        "from torch.optim import AdamW\n",
        "\n",
        "import torch\n",
        "import torch.nn as nn\n",
        "from torch.optim import SGD\n",
        "import torch.nn.functional as F\n",
        "from torch.utils.data import DataLoader\n",
        "\n",
        "from sklearn.metrics import accuracy_score,f1_score, precision_score, recall_score"
      ],
      "metadata": {
        "id": "d-bvrKSG7-Fd"
      },
      "execution_count": null,
      "outputs": []
    },
    {
      "cell_type": "code",
      "source": [
        "import pandas as pd\n",
        "import numpy as np\n",
        "\n",
        "N = 1_000\n",
        "df = pd.read_csv(\"/content/ner.csv\").sample(frac=1)[:N]\n",
        "\n",
        "#change columns names\n",
        "df.rename(columns = {'text':'sentence', 'labels':'tags'}, inplace = True)\n",
        "\n",
        "#split train, dev , test sets\n",
        "df_train, df_dev, df_test = np.split(df.sample(frac=1, random_state=42),\n",
        "                            [int(.8 * len(df)), int(.9 * len(df))])"
      ],
      "metadata": {
        "id": "2Lcu1CDoDrcD"
      },
      "execution_count": null,
      "outputs": []
    },
    {
      "cell_type": "code",
      "source": [
        "class DistilbertNER(nn.Module):\n",
        "  \"\"\"\n",
        "  Implement NN class based on distilbert pretrained from Hugging face.\n",
        "  Inputs : \n",
        "    tokens_dim : int specifyng the dimension of the classifier\n",
        "  \"\"\"\n",
        "  \n",
        "  def __init__(self, tokens_dim):\n",
        "    super(DistilbertNER,self).__init__()\n",
        "    \n",
        "    if type(tokens_dim) != int:\n",
        "            raise TypeError('Please tokens_dim should be an integer')\n",
        "\n",
        "    if tokens_dim <= 0:\n",
        "          raise ValueError('Classification layer dimension should be at least 1')\n",
        "\n",
        "    self.pretrained = DistilBertForTokenClassification.from_pretrained(\"distilbert-base-uncased\", num_labels = tokens_dim) #set the output of each token classifier = unique_lables\n",
        "\n",
        "\n",
        "  def forward(self, input_ids, attention_mask, labels = None): #labels are needed in order to compute the loss\n",
        "    \"\"\"\n",
        "  Forwad computation of the network\n",
        "  Input:\n",
        "    - inputs_ids : from model tokenizer\n",
        "    - attention :  mask from model tokenizer\n",
        "    - labels : if given the model is able to return the loss value\n",
        "  \"\"\"\n",
        "\n",
        "    #inference time no labels\n",
        "    if labels == None:\n",
        "      out = self.pretrained(input_ids = input_ids, attention_mask = attention_mask )\n",
        "      return out\n",
        "\n",
        "    out = self.pretrained(input_ids = input_ids, attention_mask = attention_mask , labels = labels)\n",
        "    return out"
      ],
      "metadata": {
        "id": "9Gh_3YVPEBBS"
      },
      "execution_count": null,
      "outputs": []
    },
    {
      "cell_type": "code",
      "source": [
        "class NerDataset(torch.utils.data.Dataset):\n",
        "  \"\"\"\n",
        "  Custom dataset implementation to get (text,labels) tuples\n",
        "  Inputs:\n",
        "   - df : dataframe with columns [tags, sentence]\n",
        "  \"\"\"\n",
        "  \n",
        "  def __init__(self, df):\n",
        "    if not isinstance(df, pd.DataFrame):\n",
        "      raise TypeError('Input should be a dataframe')\n",
        "    \n",
        "    if \"tags\" not in df.columns or \"sentence\" not in df.columns:\n",
        "      raise ValueError(\"Dataframe should contain 'tags' and 'sentence' columns\")\n",
        "\n",
        "     \n",
        "    \n",
        "    tags_list = [i.split() for i in df[\"tags\"].values.tolist()]\n",
        "    texts = df[\"sentence\"].values.tolist()\n",
        "\n",
        "    self.texts = [tokenizer(text, padding = \"max_length\", truncation = True, return_tensors = \"pt\") for text in texts]\n",
        "    self.labels = [match_tokens_labels(text, tags) for text,tags in zip(self.texts, tags_list)]\n",
        "\n",
        "  def __len__(self):\n",
        "    return len(self.labels)\n",
        "\n",
        "  def __getitem__(self, idx):\n",
        "    batch_text = self.texts[idx]\n",
        "    batch_labels = self.labels[idx]\n",
        "\n",
        "    return batch_text, torch.LongTensor(batch_labels)"
      ],
      "metadata": {
        "id": "mYz9WLWaEFkN"
      },
      "execution_count": null,
      "outputs": []
    },
    {
      "cell_type": "code",
      "source": [
        "class MetricsTracking():\n",
        "  \"\"\"\n",
        "  In order make the train loop lighter I define this class to track all the metrics that we are going to measure for our model.\n",
        "  \"\"\"\n",
        "  def __init__(self):\n",
        "\n",
        "    self.total_acc = 0\n",
        "    self.total_f1 = 0\n",
        "    self.total_precision = 0\n",
        "    self.total_recall = 0\n",
        "\n",
        "  def update(self, predictions, labels , ignore_token = -100):\n",
        "    '''\n",
        "    Call this function every time you need to update your metrics.\n",
        "    Where in the train there was a -100, were additional token that we dont want to label, so remove them.\n",
        "    If we flatten the batch its easier to access the indexed = -100\n",
        "    '''  \n",
        "    predictions = predictions.flatten()\n",
        "    labels = labels.flatten()\n",
        "    \n",
        "    predictions = predictions[labels != ignore_token]\n",
        "    labels = labels[labels != ignore_token]\n",
        "\n",
        "    predictions = predictions.to(\"cpu\")\n",
        "    labels = labels.to(\"cpu\")\n",
        "\n",
        "    acc = accuracy_score(labels,predictions)\n",
        "    f1 = f1_score(labels, predictions, average = \"macro\")\n",
        "    precision = precision_score(labels, predictions, average = \"macro\")\n",
        "    recall = recall_score(labels, predictions, average = \"macro\")\n",
        "\n",
        "    self.total_acc  += acc\n",
        "    self.total_f1 += f1\n",
        "    self.total_precision += precision\n",
        "    self.total_recall  += recall\n",
        "\n",
        "  def return_avg_metrics(self,data_loader_size):\n",
        "    n = data_loader_size\n",
        "    metrics = {\n",
        "        \"acc\": round(self.total_acc / n ,3), \n",
        "        \"f1\": round(self.total_f1 / n, 3), \n",
        "        \"precision\" : round(self.total_precision / n, 3), \n",
        "        \"recall\": round(self.total_recall / n, 3)\n",
        "          }\n",
        "    return metrics   "
      ],
      "metadata": {
        "id": "CSdSNPyVEJI8"
      },
      "execution_count": null,
      "outputs": []
    },
    {
      "cell_type": "code",
      "source": [
        "def tags_2_labels(tags : str, tag2idx : dict):\n",
        "  '''\n",
        "  Method that takes a list of tags and a dictionary mapping and returns a list of labels (associated).\n",
        "  Used to create the \"label\" column in df from the \"tags\" column.\n",
        "  '''\n",
        "  return [tag2idx[tag] if tag in tag2idx else unseen_label for tag in tags.split()]"
      ],
      "metadata": {
        "id": "rq7K4ti0ENaK"
      },
      "execution_count": null,
      "outputs": []
    },
    {
      "cell_type": "code",
      "source": [
        "def tags_mapping(tags_series : pd.Series):\n",
        "  \"\"\"\n",
        "  tag_series = df column with tags for each sentence.\n",
        "  Returns:\n",
        "    - dictionary mapping tags to indexes (label)\n",
        "    - dictionary mappign inedexes to tags\n",
        "    - The label corresponding to tag 'O'\n",
        "    - A set of unique tags ecountered in the trainind df, this will define the classifier dimension\n",
        "  \"\"\"\n",
        "\n",
        "  if not isinstance(tags_series, pd.Series):\n",
        "      raise TypeError('Input should be a padas Series')\n",
        "\n",
        "  unique_tags = set()\n",
        "  \n",
        "  for tag_list in df_train[\"tags\"]:\n",
        "    for tag in tag_list.split():\n",
        "      unique_tags.add(tag)\n",
        "\n",
        "\n",
        "  tag2idx = {k:v for v,k in enumerate(sorted(unique_tags))}\n",
        "  idx2tag = {k:v for v,k in tag2idx.items()}\n",
        "\n",
        "  unseen_label = tag2idx[\"O\"]\n",
        "\n",
        "  return tag2idx, idx2tag, unseen_label, unique_tags"
      ],
      "metadata": {
        "id": "e_WH3f8WEQq6"
      },
      "execution_count": null,
      "outputs": []
    },
    {
      "cell_type": "code",
      "source": [
        "def match_tokens_labels(tokenized_input, tags, ignore_token = -100):\n",
        "        '''\n",
        "        Used in the custom dataset.\n",
        "        -100 will be tha label used to match additional tokens like [CLS] [PAD] that we dont care about. \n",
        "        Inputs : \n",
        "          - tokenized_input : tokenizer over the imput text -> {input_ids, attention_mask}\n",
        "          - tags : is a single label array -> [O O O O O O O O O O O O O O B-tim O]\n",
        "        \n",
        "        Returns a list of labels that match the tokenized text -> [-100, 3,5,6,-100,...]\n",
        "        '''\n",
        "\n",
        "        #gives an array [ None , 0 , 1 ,2 ,... None]. Each index tells the word of reference of the token\n",
        "        word_ids = tokenized_input.word_ids()\n",
        "\n",
        "        previous_word_idx = None\n",
        "        label_ids = []\n",
        "\n",
        "        for word_idx in word_ids:\n",
        "\n",
        "            if word_idx is None:\n",
        "                label_ids.append(ignore_token)\n",
        "\n",
        "            #if its equal to the previous word we can add the same label id of the provious or -100 \n",
        "            else :\n",
        "                try:\n",
        "                  reference_tag = tags[word_idx]\n",
        "                  label_ids.append(tag2idx[reference_tag])\n",
        "                except:\n",
        "                  label_ids.append(ignore_token)\n",
        "              \n",
        "            \n",
        "            previous_word_idx = word_idx\n",
        "\n",
        "        return label_ids"
      ],
      "metadata": {
        "id": "STRDyji5EVn0"
      },
      "execution_count": null,
      "outputs": []
    },
    {
      "cell_type": "code",
      "source": [
        "def freeze_model(model,num_layers = 1):\n",
        "  \"\"\"\n",
        "  Freeze last num_layers of a model to prevent ctastrophic forgetting.\n",
        "  Doesn't seem to work weel, its better to fine tune the entire netwok\n",
        "  \"\"\"\n",
        "  for id , params in enumerate(model.parameters()):\n",
        "    if id == len(list(model.parameters())) - num_layers: \n",
        "      print(\"last layer unfreezed\")\n",
        "      params.requires_grad = True\n",
        "    else:\n",
        "      params.requires_grad = False\n",
        "  return model"
      ],
      "metadata": {
        "id": "LjWVUdNqEZ0C"
      },
      "execution_count": null,
      "outputs": []
    },
    {
      "cell_type": "code",
      "source": [
        "def train_loop(model, train_dataset, dev_dataset, optimizer,  batch_size, epochs):\n",
        "  \n",
        "  train_dataloader = DataLoader(train_dataset, batch_size = batch_size, shuffle = True)\n",
        "  dev_dataloader = DataLoader(dev_dataset, batch_size = batch_size, shuffle = True)\n",
        "\n",
        "  device = torch.device(\"cuda\" if torch.cuda.is_available() else \"cpu\")\n",
        "  model = model.to(device)\n",
        "\n",
        "  for epoch in range(epochs) : \n",
        "    \n",
        "    train_metrics = MetricsTracking()\n",
        "    total_loss_train = 0\n",
        "\n",
        "    model.train() #train mode\n",
        "\n",
        "    for train_data, train_label in tqdm(train_dataloader):\n",
        "\n",
        "      train_label = train_label.to(device)\n",
        "      '''\n",
        "      squeeze in order to match the sizes. From [batch,1,seq_len] --> [batch,seq_len] \n",
        "      '''\n",
        "      mask = train_data['attention_mask'].squeeze(1).to(device)\n",
        "      input_id = train_data['input_ids'].squeeze(1).to(device)\n",
        "\n",
        "      optimizer.zero_grad()\n",
        "      \n",
        "      output = model(input_id, mask, train_label)\n",
        "      loss, logits = output.loss, output.logits\n",
        "      predictions = logits.argmax(dim= -1) \n",
        "\n",
        "      #compute metrics\n",
        "      train_metrics.update(predictions, train_label)\n",
        "      total_loss_train += loss.item()\n",
        "\n",
        "      #grad step\n",
        "      loss.backward()\n",
        "      optimizer.step()\n",
        "    \n",
        "    '''\n",
        "    EVALUATION MODE\n",
        "    '''            \n",
        "    model.eval()\n",
        "\n",
        "    dev_metrics = MetricsTracking()\n",
        "    total_loss_dev = 0\n",
        "    \n",
        "    with torch.no_grad():\n",
        "      for dev_data, dev_label in dev_dataloader:\n",
        "\n",
        "        dev_label = dev_label.to(device)\n",
        "\n",
        "        mask = dev_data['attention_mask'].squeeze(1).to(device)\n",
        "        input_id = dev_data['input_ids'].squeeze(1).to(device)\n",
        "\n",
        "        output = model(input_id, mask, dev_label)\n",
        "        loss, logits = output.loss, output.logits\n",
        "\n",
        "        predictions = logits.argmax(dim= -1)     \n",
        "\n",
        "        dev_metrics.update(predictions, dev_label)\n",
        "        total_loss_dev += loss.item()\n",
        "    \n",
        "    train_results = train_metrics.return_avg_metrics(len(train_dataloader))\n",
        "    dev_results = dev_metrics.return_avg_metrics(len(dev_dataloader))\n",
        "\n",
        "    print(f\"TRAIN \\nLoss: {total_loss_train / len(train_dataset)} \\nMetrics {train_results}\\n\" ) \n",
        "    print(f\"VALIDATION \\nLoss {total_loss_dev / len(dev_dataset)} \\nMetrics{dev_results}\\n\" )  "
      ],
      "metadata": {
        "id": "sofj5DyJEdIR"
      },
      "execution_count": null,
      "outputs": []
    },
    {
      "cell_type": "code",
      "source": [
        "#create tag-label mapping\n",
        "tag2idx, idx2tag , unseen_label, unique_tags = tags_mapping(df_train[\"tags\"])\n",
        "\n",
        "#create the label column from tag. Unseen labels will be tagged as \"O\"\n",
        "for df in [df_train, df_dev, df_test]:\n",
        "  df[\"labels\"] = df[\"tags\"].apply(lambda tags : tags_2_labels(tags, tag2idx))"
      ],
      "metadata": {
        "id": "MiUKadHNEhaO"
      },
      "execution_count": null,
      "outputs": []
    },
    {
      "cell_type": "code",
      "source": [
        "text = df_train[\"sentence\"].values.tolist()\n",
        "\n",
        "#toeknized text\n",
        "tokenizer = AutoTokenizer.from_pretrained(\"distilbert-base-uncased\")\n",
        "text_tokenized = tokenizer(text , padding = \"max_length\" , truncation = True, return_tensors = \"pt\" )\n",
        "\n",
        "#mapping token to original word\n",
        "word_ids = text_tokenized.word_ids()"
      ],
      "metadata": {
        "colab": {
          "base_uri": "https://localhost:8080/",
          "height": 145,
          "referenced_widgets": [
            "a38a69a43cb2412db5118870c9108efb",
            "fcc3ee6063cb4c429fedfb33444547b3",
            "5551ac4220d642cbaa479ebb886b5987",
            "20a6f0c2f1ff4bc6ba0cd4b53f4e94e2",
            "cb917da4e0654d40bbaeabbc8e022d77",
            "0f35ee1d24ea49e69d236cc4ad66676d",
            "c60852e601314b1c8981229cbde4c822",
            "186a4235a4f2443db4b53f1a359f7924",
            "ee7f691d34b1486595dc1b9de7d67942",
            "d221b462aaf04eb09ba24419a5ab491b",
            "3c16ed8a8675435c8b61cad533c793a6",
            "053dc4ccaa624ba58468e0d2200254fe",
            "6145cfdd6237416cbbe09b05b1cb367c",
            "9c60396bfab4480d9266e5e6858ae65a",
            "0f1860e90e5e48408f38ad5681488b8b",
            "dc9063f4f635490c8dc95ff5ed049533",
            "a20d3fc5b183488b9be037441b5d653d",
            "fe829d8bdd624088849eb3f7d92c6768",
            "fc5fa3036dd04c198a221e28d6118182",
            "ec4f5d2cc3de45fc952d37a6429bff4c",
            "47315215fd294ee194eb89b1e7252f4a",
            "deadd3edb554433f9697949e272134c4",
            "b461108b93e34735a43c37f7013daeff",
            "56602bb2294b489e873328355651eda8",
            "7d59a5c65e184256a85d78755a0365e3",
            "3ef93918c99b48c6905a06d6cb764a8c",
            "1fcfaa2a74cc4952bb9913fbef11c4a8",
            "9df3bccc781542939c9a75487ac0843e",
            "e294eeb0eace4a07b1622bcca8837624",
            "1904eabb54e7496f950b253d951991ad",
            "3646fa6607e5430e9cfa0696ad6fc507",
            "ef3362f6d01d48bf83c760180a093910",
            "33069873888e4a4592e017a1ae4818cc",
            "a0841ef1c53c46269d556d8d0f2e8daa",
            "54b291e65b044f419eeaa92fb2ee3e16",
            "6acb77ebe47c4e5f99c4ab6f491e82de",
            "271cafa219c942c6a380695850b43c61",
            "6b2172fbad1e48338fdde7a5fbaa2a46",
            "236403d397d349b08c9f01889d84d785",
            "37e047c7b7a646e4940ca799ba055c80",
            "32b78bd05bdf47ad8025799854643aa2",
            "5262bf7e36874ad3ac8523000223e248",
            "f9eb45eccc7d4e28a81fe89e98d9ecc8",
            "0c736e4a3938420aa26e987f780c9339"
          ]
        },
        "id": "tHxlfDf3ElkU",
        "outputId": "02effec0-04af-4c49-8c31-75ddea7728d2"
      },
      "execution_count": null,
      "outputs": [
        {
          "output_type": "display_data",
          "data": {
            "text/plain": [
              "Downloading (…)okenizer_config.json:   0%|          | 0.00/28.0 [00:00<?, ?B/s]"
            ],
            "application/vnd.jupyter.widget-view+json": {
              "version_major": 2,
              "version_minor": 0,
              "model_id": "a38a69a43cb2412db5118870c9108efb"
            }
          },
          "metadata": {}
        },
        {
          "output_type": "display_data",
          "data": {
            "text/plain": [
              "Downloading (…)lve/main/config.json:   0%|          | 0.00/483 [00:00<?, ?B/s]"
            ],
            "application/vnd.jupyter.widget-view+json": {
              "version_major": 2,
              "version_minor": 0,
              "model_id": "053dc4ccaa624ba58468e0d2200254fe"
            }
          },
          "metadata": {}
        },
        {
          "output_type": "display_data",
          "data": {
            "text/plain": [
              "Downloading (…)solve/main/vocab.txt:   0%|          | 0.00/232k [00:00<?, ?B/s]"
            ],
            "application/vnd.jupyter.widget-view+json": {
              "version_major": 2,
              "version_minor": 0,
              "model_id": "b461108b93e34735a43c37f7013daeff"
            }
          },
          "metadata": {}
        },
        {
          "output_type": "display_data",
          "data": {
            "text/plain": [
              "Downloading (…)/main/tokenizer.json:   0%|          | 0.00/466k [00:00<?, ?B/s]"
            ],
            "application/vnd.jupyter.widget-view+json": {
              "version_major": 2,
              "version_minor": 0,
              "model_id": "a0841ef1c53c46269d556d8d0f2e8daa"
            }
          },
          "metadata": {}
        }
      ]
    },
    {
      "cell_type": "code",
      "source": [
        "model = DistilbertNER(len(unique_tags))\n",
        "#Prevent Catastrofic Forgetting\n",
        "#model = freeze_model(model, num_layers = 2)\n",
        "\n",
        "#datasets\n",
        "train_dataset = NerDataset(df_train)\n",
        "dev_dataset = NerDataset(df_dev)\n",
        "\n",
        "lr = 1e-2\n",
        "optimizer = SGD(model.parameters(), lr=lr, momentum = 0.9)  \n",
        "\n",
        "\n",
        "#MAIN\n",
        "parameters = {\n",
        "    \"model\": model,\n",
        "    \"train_dataset\": train_dataset,\n",
        "    \"dev_dataset\" : dev_dataset,\n",
        "    \"optimizer\" : optimizer,\n",
        "    \"batch_size\" : 32,\n",
        "    \"epochs\" : 8\n",
        "}\n",
        "\n",
        "train_loop(**parameters)"
      ],
      "metadata": {
        "colab": {
          "base_uri": "https://localhost:8080/",
          "height": 67,
          "referenced_widgets": [
            "a25b227c4830443d9b6a4f25bab01ea6",
            "13062904742f4f919f7cce32c2f45dfa",
            "5cf043e5d9ed4ead91fbb853ee7f45f5",
            "d10b286d4f37470681e1117e8febf38b",
            "0e5023800125418d87c3c6ea3469597b",
            "f3c66b007e1141feb29d1475482cabfe",
            "bf910753b6674194a11cf67ce8182859",
            "db5fbc8b5a07414a9571ec22f35c1e15",
            "5736d1b8f4cb4f1aa5910bd92f1ff91f",
            "93907cfb559440d9be10229b163d7882",
            "12ba7dc71254441ebbf75796fc258125"
          ]
        },
        "id": "tYwI-l3LEoLG",
        "outputId": "960a0ad7-d0d1-42f9-c8d4-d0e2aa572b96"
      },
      "execution_count": null,
      "outputs": [
        {
          "output_type": "display_data",
          "data": {
            "text/plain": [
              "Downloading pytorch_model.bin:   0%|          | 0.00/268M [00:00<?, ?B/s]"
            ],
            "application/vnd.jupyter.widget-view+json": {
              "version_major": 2,
              "version_minor": 0,
              "model_id": "a25b227c4830443d9b6a4f25bab01ea6"
            }
          },
          "metadata": {}
        },
        {
          "output_type": "stream",
          "name": "stderr",
          "text": [
            "\r  0%|          | 0/25 [00:00<?, ?it/s]"
          ]
        }
      ]
    },
    {
      "cell_type": "code",
      "source": [],
      "metadata": {
        "id": "l0bR4OJtEsv-"
      },
      "execution_count": null,
      "outputs": []
    }
  ],
  "metadata": {
    "colab": {
      "provenance": [],
      "mount_file_id": "1bn36MOCdKD-cowqwWgzd4t3ypWoULFM3",
      "authorship_tag": "ABX9TyMPpjaUdmdeTlyzGHuGPuzZ",
      "include_colab_link": true
    },
    "kernelspec": {
      "display_name": "Python 3",
      "name": "python3"
    },
    "language_info": {
      "name": "python"
    },
    "widgets": {
      "application/vnd.jupyter.widget-state+json": {
        "a38a69a43cb2412db5118870c9108efb": {
          "model_module": "@jupyter-widgets/controls",
          "model_name": "HBoxModel",
          "model_module_version": "1.5.0",
          "state": {
            "_dom_classes": [],
            "_model_module": "@jupyter-widgets/controls",
            "_model_module_version": "1.5.0",
            "_model_name": "HBoxModel",
            "_view_count": null,
            "_view_module": "@jupyter-widgets/controls",
            "_view_module_version": "1.5.0",
            "_view_name": "HBoxView",
            "box_style": "",
            "children": [
              "IPY_MODEL_fcc3ee6063cb4c429fedfb33444547b3",
              "IPY_MODEL_5551ac4220d642cbaa479ebb886b5987",
              "IPY_MODEL_20a6f0c2f1ff4bc6ba0cd4b53f4e94e2"
            ],
            "layout": "IPY_MODEL_cb917da4e0654d40bbaeabbc8e022d77"
          }
        },
        "fcc3ee6063cb4c429fedfb33444547b3": {
          "model_module": "@jupyter-widgets/controls",
          "model_name": "HTMLModel",
          "model_module_version": "1.5.0",
          "state": {
            "_dom_classes": [],
            "_model_module": "@jupyter-widgets/controls",
            "_model_module_version": "1.5.0",
            "_model_name": "HTMLModel",
            "_view_count": null,
            "_view_module": "@jupyter-widgets/controls",
            "_view_module_version": "1.5.0",
            "_view_name": "HTMLView",
            "description": "",
            "description_tooltip": null,
            "layout": "IPY_MODEL_0f35ee1d24ea49e69d236cc4ad66676d",
            "placeholder": "​",
            "style": "IPY_MODEL_c60852e601314b1c8981229cbde4c822",
            "value": "Downloading (…)okenizer_config.json: 100%"
          }
        },
        "5551ac4220d642cbaa479ebb886b5987": {
          "model_module": "@jupyter-widgets/controls",
          "model_name": "FloatProgressModel",
          "model_module_version": "1.5.0",
          "state": {
            "_dom_classes": [],
            "_model_module": "@jupyter-widgets/controls",
            "_model_module_version": "1.5.0",
            "_model_name": "FloatProgressModel",
            "_view_count": null,
            "_view_module": "@jupyter-widgets/controls",
            "_view_module_version": "1.5.0",
            "_view_name": "ProgressView",
            "bar_style": "success",
            "description": "",
            "description_tooltip": null,
            "layout": "IPY_MODEL_186a4235a4f2443db4b53f1a359f7924",
            "max": 28,
            "min": 0,
            "orientation": "horizontal",
            "style": "IPY_MODEL_ee7f691d34b1486595dc1b9de7d67942",
            "value": 28
          }
        },
        "20a6f0c2f1ff4bc6ba0cd4b53f4e94e2": {
          "model_module": "@jupyter-widgets/controls",
          "model_name": "HTMLModel",
          "model_module_version": "1.5.0",
          "state": {
            "_dom_classes": [],
            "_model_module": "@jupyter-widgets/controls",
            "_model_module_version": "1.5.0",
            "_model_name": "HTMLModel",
            "_view_count": null,
            "_view_module": "@jupyter-widgets/controls",
            "_view_module_version": "1.5.0",
            "_view_name": "HTMLView",
            "description": "",
            "description_tooltip": null,
            "layout": "IPY_MODEL_d221b462aaf04eb09ba24419a5ab491b",
            "placeholder": "​",
            "style": "IPY_MODEL_3c16ed8a8675435c8b61cad533c793a6",
            "value": " 28.0/28.0 [00:00&lt;00:00, 405B/s]"
          }
        },
        "cb917da4e0654d40bbaeabbc8e022d77": {
          "model_module": "@jupyter-widgets/base",
          "model_name": "LayoutModel",
          "model_module_version": "1.2.0",
          "state": {
            "_model_module": "@jupyter-widgets/base",
            "_model_module_version": "1.2.0",
            "_model_name": "LayoutModel",
            "_view_count": null,
            "_view_module": "@jupyter-widgets/base",
            "_view_module_version": "1.2.0",
            "_view_name": "LayoutView",
            "align_content": null,
            "align_items": null,
            "align_self": null,
            "border": null,
            "bottom": null,
            "display": null,
            "flex": null,
            "flex_flow": null,
            "grid_area": null,
            "grid_auto_columns": null,
            "grid_auto_flow": null,
            "grid_auto_rows": null,
            "grid_column": null,
            "grid_gap": null,
            "grid_row": null,
            "grid_template_areas": null,
            "grid_template_columns": null,
            "grid_template_rows": null,
            "height": null,
            "justify_content": null,
            "justify_items": null,
            "left": null,
            "margin": null,
            "max_height": null,
            "max_width": null,
            "min_height": null,
            "min_width": null,
            "object_fit": null,
            "object_position": null,
            "order": null,
            "overflow": null,
            "overflow_x": null,
            "overflow_y": null,
            "padding": null,
            "right": null,
            "top": null,
            "visibility": null,
            "width": null
          }
        },
        "0f35ee1d24ea49e69d236cc4ad66676d": {
          "model_module": "@jupyter-widgets/base",
          "model_name": "LayoutModel",
          "model_module_version": "1.2.0",
          "state": {
            "_model_module": "@jupyter-widgets/base",
            "_model_module_version": "1.2.0",
            "_model_name": "LayoutModel",
            "_view_count": null,
            "_view_module": "@jupyter-widgets/base",
            "_view_module_version": "1.2.0",
            "_view_name": "LayoutView",
            "align_content": null,
            "align_items": null,
            "align_self": null,
            "border": null,
            "bottom": null,
            "display": null,
            "flex": null,
            "flex_flow": null,
            "grid_area": null,
            "grid_auto_columns": null,
            "grid_auto_flow": null,
            "grid_auto_rows": null,
            "grid_column": null,
            "grid_gap": null,
            "grid_row": null,
            "grid_template_areas": null,
            "grid_template_columns": null,
            "grid_template_rows": null,
            "height": null,
            "justify_content": null,
            "justify_items": null,
            "left": null,
            "margin": null,
            "max_height": null,
            "max_width": null,
            "min_height": null,
            "min_width": null,
            "object_fit": null,
            "object_position": null,
            "order": null,
            "overflow": null,
            "overflow_x": null,
            "overflow_y": null,
            "padding": null,
            "right": null,
            "top": null,
            "visibility": null,
            "width": null
          }
        },
        "c60852e601314b1c8981229cbde4c822": {
          "model_module": "@jupyter-widgets/controls",
          "model_name": "DescriptionStyleModel",
          "model_module_version": "1.5.0",
          "state": {
            "_model_module": "@jupyter-widgets/controls",
            "_model_module_version": "1.5.0",
            "_model_name": "DescriptionStyleModel",
            "_view_count": null,
            "_view_module": "@jupyter-widgets/base",
            "_view_module_version": "1.2.0",
            "_view_name": "StyleView",
            "description_width": ""
          }
        },
        "186a4235a4f2443db4b53f1a359f7924": {
          "model_module": "@jupyter-widgets/base",
          "model_name": "LayoutModel",
          "model_module_version": "1.2.0",
          "state": {
            "_model_module": "@jupyter-widgets/base",
            "_model_module_version": "1.2.0",
            "_model_name": "LayoutModel",
            "_view_count": null,
            "_view_module": "@jupyter-widgets/base",
            "_view_module_version": "1.2.0",
            "_view_name": "LayoutView",
            "align_content": null,
            "align_items": null,
            "align_self": null,
            "border": null,
            "bottom": null,
            "display": null,
            "flex": null,
            "flex_flow": null,
            "grid_area": null,
            "grid_auto_columns": null,
            "grid_auto_flow": null,
            "grid_auto_rows": null,
            "grid_column": null,
            "grid_gap": null,
            "grid_row": null,
            "grid_template_areas": null,
            "grid_template_columns": null,
            "grid_template_rows": null,
            "height": null,
            "justify_content": null,
            "justify_items": null,
            "left": null,
            "margin": null,
            "max_height": null,
            "max_width": null,
            "min_height": null,
            "min_width": null,
            "object_fit": null,
            "object_position": null,
            "order": null,
            "overflow": null,
            "overflow_x": null,
            "overflow_y": null,
            "padding": null,
            "right": null,
            "top": null,
            "visibility": null,
            "width": null
          }
        },
        "ee7f691d34b1486595dc1b9de7d67942": {
          "model_module": "@jupyter-widgets/controls",
          "model_name": "ProgressStyleModel",
          "model_module_version": "1.5.0",
          "state": {
            "_model_module": "@jupyter-widgets/controls",
            "_model_module_version": "1.5.0",
            "_model_name": "ProgressStyleModel",
            "_view_count": null,
            "_view_module": "@jupyter-widgets/base",
            "_view_module_version": "1.2.0",
            "_view_name": "StyleView",
            "bar_color": null,
            "description_width": ""
          }
        },
        "d221b462aaf04eb09ba24419a5ab491b": {
          "model_module": "@jupyter-widgets/base",
          "model_name": "LayoutModel",
          "model_module_version": "1.2.0",
          "state": {
            "_model_module": "@jupyter-widgets/base",
            "_model_module_version": "1.2.0",
            "_model_name": "LayoutModel",
            "_view_count": null,
            "_view_module": "@jupyter-widgets/base",
            "_view_module_version": "1.2.0",
            "_view_name": "LayoutView",
            "align_content": null,
            "align_items": null,
            "align_self": null,
            "border": null,
            "bottom": null,
            "display": null,
            "flex": null,
            "flex_flow": null,
            "grid_area": null,
            "grid_auto_columns": null,
            "grid_auto_flow": null,
            "grid_auto_rows": null,
            "grid_column": null,
            "grid_gap": null,
            "grid_row": null,
            "grid_template_areas": null,
            "grid_template_columns": null,
            "grid_template_rows": null,
            "height": null,
            "justify_content": null,
            "justify_items": null,
            "left": null,
            "margin": null,
            "max_height": null,
            "max_width": null,
            "min_height": null,
            "min_width": null,
            "object_fit": null,
            "object_position": null,
            "order": null,
            "overflow": null,
            "overflow_x": null,
            "overflow_y": null,
            "padding": null,
            "right": null,
            "top": null,
            "visibility": null,
            "width": null
          }
        },
        "3c16ed8a8675435c8b61cad533c793a6": {
          "model_module": "@jupyter-widgets/controls",
          "model_name": "DescriptionStyleModel",
          "model_module_version": "1.5.0",
          "state": {
            "_model_module": "@jupyter-widgets/controls",
            "_model_module_version": "1.5.0",
            "_model_name": "DescriptionStyleModel",
            "_view_count": null,
            "_view_module": "@jupyter-widgets/base",
            "_view_module_version": "1.2.0",
            "_view_name": "StyleView",
            "description_width": ""
          }
        },
        "053dc4ccaa624ba58468e0d2200254fe": {
          "model_module": "@jupyter-widgets/controls",
          "model_name": "HBoxModel",
          "model_module_version": "1.5.0",
          "state": {
            "_dom_classes": [],
            "_model_module": "@jupyter-widgets/controls",
            "_model_module_version": "1.5.0",
            "_model_name": "HBoxModel",
            "_view_count": null,
            "_view_module": "@jupyter-widgets/controls",
            "_view_module_version": "1.5.0",
            "_view_name": "HBoxView",
            "box_style": "",
            "children": [
              "IPY_MODEL_6145cfdd6237416cbbe09b05b1cb367c",
              "IPY_MODEL_9c60396bfab4480d9266e5e6858ae65a",
              "IPY_MODEL_0f1860e90e5e48408f38ad5681488b8b"
            ],
            "layout": "IPY_MODEL_dc9063f4f635490c8dc95ff5ed049533"
          }
        },
        "6145cfdd6237416cbbe09b05b1cb367c": {
          "model_module": "@jupyter-widgets/controls",
          "model_name": "HTMLModel",
          "model_module_version": "1.5.0",
          "state": {
            "_dom_classes": [],
            "_model_module": "@jupyter-widgets/controls",
            "_model_module_version": "1.5.0",
            "_model_name": "HTMLModel",
            "_view_count": null,
            "_view_module": "@jupyter-widgets/controls",
            "_view_module_version": "1.5.0",
            "_view_name": "HTMLView",
            "description": "",
            "description_tooltip": null,
            "layout": "IPY_MODEL_a20d3fc5b183488b9be037441b5d653d",
            "placeholder": "​",
            "style": "IPY_MODEL_fe829d8bdd624088849eb3f7d92c6768",
            "value": "Downloading (…)lve/main/config.json: 100%"
          }
        },
        "9c60396bfab4480d9266e5e6858ae65a": {
          "model_module": "@jupyter-widgets/controls",
          "model_name": "FloatProgressModel",
          "model_module_version": "1.5.0",
          "state": {
            "_dom_classes": [],
            "_model_module": "@jupyter-widgets/controls",
            "_model_module_version": "1.5.0",
            "_model_name": "FloatProgressModel",
            "_view_count": null,
            "_view_module": "@jupyter-widgets/controls",
            "_view_module_version": "1.5.0",
            "_view_name": "ProgressView",
            "bar_style": "success",
            "description": "",
            "description_tooltip": null,
            "layout": "IPY_MODEL_fc5fa3036dd04c198a221e28d6118182",
            "max": 483,
            "min": 0,
            "orientation": "horizontal",
            "style": "IPY_MODEL_ec4f5d2cc3de45fc952d37a6429bff4c",
            "value": 483
          }
        },
        "0f1860e90e5e48408f38ad5681488b8b": {
          "model_module": "@jupyter-widgets/controls",
          "model_name": "HTMLModel",
          "model_module_version": "1.5.0",
          "state": {
            "_dom_classes": [],
            "_model_module": "@jupyter-widgets/controls",
            "_model_module_version": "1.5.0",
            "_model_name": "HTMLModel",
            "_view_count": null,
            "_view_module": "@jupyter-widgets/controls",
            "_view_module_version": "1.5.0",
            "_view_name": "HTMLView",
            "description": "",
            "description_tooltip": null,
            "layout": "IPY_MODEL_47315215fd294ee194eb89b1e7252f4a",
            "placeholder": "​",
            "style": "IPY_MODEL_deadd3edb554433f9697949e272134c4",
            "value": " 483/483 [00:00&lt;00:00, 7.46kB/s]"
          }
        },
        "dc9063f4f635490c8dc95ff5ed049533": {
          "model_module": "@jupyter-widgets/base",
          "model_name": "LayoutModel",
          "model_module_version": "1.2.0",
          "state": {
            "_model_module": "@jupyter-widgets/base",
            "_model_module_version": "1.2.0",
            "_model_name": "LayoutModel",
            "_view_count": null,
            "_view_module": "@jupyter-widgets/base",
            "_view_module_version": "1.2.0",
            "_view_name": "LayoutView",
            "align_content": null,
            "align_items": null,
            "align_self": null,
            "border": null,
            "bottom": null,
            "display": null,
            "flex": null,
            "flex_flow": null,
            "grid_area": null,
            "grid_auto_columns": null,
            "grid_auto_flow": null,
            "grid_auto_rows": null,
            "grid_column": null,
            "grid_gap": null,
            "grid_row": null,
            "grid_template_areas": null,
            "grid_template_columns": null,
            "grid_template_rows": null,
            "height": null,
            "justify_content": null,
            "justify_items": null,
            "left": null,
            "margin": null,
            "max_height": null,
            "max_width": null,
            "min_height": null,
            "min_width": null,
            "object_fit": null,
            "object_position": null,
            "order": null,
            "overflow": null,
            "overflow_x": null,
            "overflow_y": null,
            "padding": null,
            "right": null,
            "top": null,
            "visibility": null,
            "width": null
          }
        },
        "a20d3fc5b183488b9be037441b5d653d": {
          "model_module": "@jupyter-widgets/base",
          "model_name": "LayoutModel",
          "model_module_version": "1.2.0",
          "state": {
            "_model_module": "@jupyter-widgets/base",
            "_model_module_version": "1.2.0",
            "_model_name": "LayoutModel",
            "_view_count": null,
            "_view_module": "@jupyter-widgets/base",
            "_view_module_version": "1.2.0",
            "_view_name": "LayoutView",
            "align_content": null,
            "align_items": null,
            "align_self": null,
            "border": null,
            "bottom": null,
            "display": null,
            "flex": null,
            "flex_flow": null,
            "grid_area": null,
            "grid_auto_columns": null,
            "grid_auto_flow": null,
            "grid_auto_rows": null,
            "grid_column": null,
            "grid_gap": null,
            "grid_row": null,
            "grid_template_areas": null,
            "grid_template_columns": null,
            "grid_template_rows": null,
            "height": null,
            "justify_content": null,
            "justify_items": null,
            "left": null,
            "margin": null,
            "max_height": null,
            "max_width": null,
            "min_height": null,
            "min_width": null,
            "object_fit": null,
            "object_position": null,
            "order": null,
            "overflow": null,
            "overflow_x": null,
            "overflow_y": null,
            "padding": null,
            "right": null,
            "top": null,
            "visibility": null,
            "width": null
          }
        },
        "fe829d8bdd624088849eb3f7d92c6768": {
          "model_module": "@jupyter-widgets/controls",
          "model_name": "DescriptionStyleModel",
          "model_module_version": "1.5.0",
          "state": {
            "_model_module": "@jupyter-widgets/controls",
            "_model_module_version": "1.5.0",
            "_model_name": "DescriptionStyleModel",
            "_view_count": null,
            "_view_module": "@jupyter-widgets/base",
            "_view_module_version": "1.2.0",
            "_view_name": "StyleView",
            "description_width": ""
          }
        },
        "fc5fa3036dd04c198a221e28d6118182": {
          "model_module": "@jupyter-widgets/base",
          "model_name": "LayoutModel",
          "model_module_version": "1.2.0",
          "state": {
            "_model_module": "@jupyter-widgets/base",
            "_model_module_version": "1.2.0",
            "_model_name": "LayoutModel",
            "_view_count": null,
            "_view_module": "@jupyter-widgets/base",
            "_view_module_version": "1.2.0",
            "_view_name": "LayoutView",
            "align_content": null,
            "align_items": null,
            "align_self": null,
            "border": null,
            "bottom": null,
            "display": null,
            "flex": null,
            "flex_flow": null,
            "grid_area": null,
            "grid_auto_columns": null,
            "grid_auto_flow": null,
            "grid_auto_rows": null,
            "grid_column": null,
            "grid_gap": null,
            "grid_row": null,
            "grid_template_areas": null,
            "grid_template_columns": null,
            "grid_template_rows": null,
            "height": null,
            "justify_content": null,
            "justify_items": null,
            "left": null,
            "margin": null,
            "max_height": null,
            "max_width": null,
            "min_height": null,
            "min_width": null,
            "object_fit": null,
            "object_position": null,
            "order": null,
            "overflow": null,
            "overflow_x": null,
            "overflow_y": null,
            "padding": null,
            "right": null,
            "top": null,
            "visibility": null,
            "width": null
          }
        },
        "ec4f5d2cc3de45fc952d37a6429bff4c": {
          "model_module": "@jupyter-widgets/controls",
          "model_name": "ProgressStyleModel",
          "model_module_version": "1.5.0",
          "state": {
            "_model_module": "@jupyter-widgets/controls",
            "_model_module_version": "1.5.0",
            "_model_name": "ProgressStyleModel",
            "_view_count": null,
            "_view_module": "@jupyter-widgets/base",
            "_view_module_version": "1.2.0",
            "_view_name": "StyleView",
            "bar_color": null,
            "description_width": ""
          }
        },
        "47315215fd294ee194eb89b1e7252f4a": {
          "model_module": "@jupyter-widgets/base",
          "model_name": "LayoutModel",
          "model_module_version": "1.2.0",
          "state": {
            "_model_module": "@jupyter-widgets/base",
            "_model_module_version": "1.2.0",
            "_model_name": "LayoutModel",
            "_view_count": null,
            "_view_module": "@jupyter-widgets/base",
            "_view_module_version": "1.2.0",
            "_view_name": "LayoutView",
            "align_content": null,
            "align_items": null,
            "align_self": null,
            "border": null,
            "bottom": null,
            "display": null,
            "flex": null,
            "flex_flow": null,
            "grid_area": null,
            "grid_auto_columns": null,
            "grid_auto_flow": null,
            "grid_auto_rows": null,
            "grid_column": null,
            "grid_gap": null,
            "grid_row": null,
            "grid_template_areas": null,
            "grid_template_columns": null,
            "grid_template_rows": null,
            "height": null,
            "justify_content": null,
            "justify_items": null,
            "left": null,
            "margin": null,
            "max_height": null,
            "max_width": null,
            "min_height": null,
            "min_width": null,
            "object_fit": null,
            "object_position": null,
            "order": null,
            "overflow": null,
            "overflow_x": null,
            "overflow_y": null,
            "padding": null,
            "right": null,
            "top": null,
            "visibility": null,
            "width": null
          }
        },
        "deadd3edb554433f9697949e272134c4": {
          "model_module": "@jupyter-widgets/controls",
          "model_name": "DescriptionStyleModel",
          "model_module_version": "1.5.0",
          "state": {
            "_model_module": "@jupyter-widgets/controls",
            "_model_module_version": "1.5.0",
            "_model_name": "DescriptionStyleModel",
            "_view_count": null,
            "_view_module": "@jupyter-widgets/base",
            "_view_module_version": "1.2.0",
            "_view_name": "StyleView",
            "description_width": ""
          }
        },
        "b461108b93e34735a43c37f7013daeff": {
          "model_module": "@jupyter-widgets/controls",
          "model_name": "HBoxModel",
          "model_module_version": "1.5.0",
          "state": {
            "_dom_classes": [],
            "_model_module": "@jupyter-widgets/controls",
            "_model_module_version": "1.5.0",
            "_model_name": "HBoxModel",
            "_view_count": null,
            "_view_module": "@jupyter-widgets/controls",
            "_view_module_version": "1.5.0",
            "_view_name": "HBoxView",
            "box_style": "",
            "children": [
              "IPY_MODEL_56602bb2294b489e873328355651eda8",
              "IPY_MODEL_7d59a5c65e184256a85d78755a0365e3",
              "IPY_MODEL_3ef93918c99b48c6905a06d6cb764a8c"
            ],
            "layout": "IPY_MODEL_1fcfaa2a74cc4952bb9913fbef11c4a8"
          }
        },
        "56602bb2294b489e873328355651eda8": {
          "model_module": "@jupyter-widgets/controls",
          "model_name": "HTMLModel",
          "model_module_version": "1.5.0",
          "state": {
            "_dom_classes": [],
            "_model_module": "@jupyter-widgets/controls",
            "_model_module_version": "1.5.0",
            "_model_name": "HTMLModel",
            "_view_count": null,
            "_view_module": "@jupyter-widgets/controls",
            "_view_module_version": "1.5.0",
            "_view_name": "HTMLView",
            "description": "",
            "description_tooltip": null,
            "layout": "IPY_MODEL_9df3bccc781542939c9a75487ac0843e",
            "placeholder": "​",
            "style": "IPY_MODEL_e294eeb0eace4a07b1622bcca8837624",
            "value": "Downloading (…)solve/main/vocab.txt: 100%"
          }
        },
        "7d59a5c65e184256a85d78755a0365e3": {
          "model_module": "@jupyter-widgets/controls",
          "model_name": "FloatProgressModel",
          "model_module_version": "1.5.0",
          "state": {
            "_dom_classes": [],
            "_model_module": "@jupyter-widgets/controls",
            "_model_module_version": "1.5.0",
            "_model_name": "FloatProgressModel",
            "_view_count": null,
            "_view_module": "@jupyter-widgets/controls",
            "_view_module_version": "1.5.0",
            "_view_name": "ProgressView",
            "bar_style": "success",
            "description": "",
            "description_tooltip": null,
            "layout": "IPY_MODEL_1904eabb54e7496f950b253d951991ad",
            "max": 231508,
            "min": 0,
            "orientation": "horizontal",
            "style": "IPY_MODEL_3646fa6607e5430e9cfa0696ad6fc507",
            "value": 231508
          }
        },
        "3ef93918c99b48c6905a06d6cb764a8c": {
          "model_module": "@jupyter-widgets/controls",
          "model_name": "HTMLModel",
          "model_module_version": "1.5.0",
          "state": {
            "_dom_classes": [],
            "_model_module": "@jupyter-widgets/controls",
            "_model_module_version": "1.5.0",
            "_model_name": "HTMLModel",
            "_view_count": null,
            "_view_module": "@jupyter-widgets/controls",
            "_view_module_version": "1.5.0",
            "_view_name": "HTMLView",
            "description": "",
            "description_tooltip": null,
            "layout": "IPY_MODEL_ef3362f6d01d48bf83c760180a093910",
            "placeholder": "​",
            "style": "IPY_MODEL_33069873888e4a4592e017a1ae4818cc",
            "value": " 232k/232k [00:00&lt;00:00, 1.90MB/s]"
          }
        },
        "1fcfaa2a74cc4952bb9913fbef11c4a8": {
          "model_module": "@jupyter-widgets/base",
          "model_name": "LayoutModel",
          "model_module_version": "1.2.0",
          "state": {
            "_model_module": "@jupyter-widgets/base",
            "_model_module_version": "1.2.0",
            "_model_name": "LayoutModel",
            "_view_count": null,
            "_view_module": "@jupyter-widgets/base",
            "_view_module_version": "1.2.0",
            "_view_name": "LayoutView",
            "align_content": null,
            "align_items": null,
            "align_self": null,
            "border": null,
            "bottom": null,
            "display": null,
            "flex": null,
            "flex_flow": null,
            "grid_area": null,
            "grid_auto_columns": null,
            "grid_auto_flow": null,
            "grid_auto_rows": null,
            "grid_column": null,
            "grid_gap": null,
            "grid_row": null,
            "grid_template_areas": null,
            "grid_template_columns": null,
            "grid_template_rows": null,
            "height": null,
            "justify_content": null,
            "justify_items": null,
            "left": null,
            "margin": null,
            "max_height": null,
            "max_width": null,
            "min_height": null,
            "min_width": null,
            "object_fit": null,
            "object_position": null,
            "order": null,
            "overflow": null,
            "overflow_x": null,
            "overflow_y": null,
            "padding": null,
            "right": null,
            "top": null,
            "visibility": null,
            "width": null
          }
        },
        "9df3bccc781542939c9a75487ac0843e": {
          "model_module": "@jupyter-widgets/base",
          "model_name": "LayoutModel",
          "model_module_version": "1.2.0",
          "state": {
            "_model_module": "@jupyter-widgets/base",
            "_model_module_version": "1.2.0",
            "_model_name": "LayoutModel",
            "_view_count": null,
            "_view_module": "@jupyter-widgets/base",
            "_view_module_version": "1.2.0",
            "_view_name": "LayoutView",
            "align_content": null,
            "align_items": null,
            "align_self": null,
            "border": null,
            "bottom": null,
            "display": null,
            "flex": null,
            "flex_flow": null,
            "grid_area": null,
            "grid_auto_columns": null,
            "grid_auto_flow": null,
            "grid_auto_rows": null,
            "grid_column": null,
            "grid_gap": null,
            "grid_row": null,
            "grid_template_areas": null,
            "grid_template_columns": null,
            "grid_template_rows": null,
            "height": null,
            "justify_content": null,
            "justify_items": null,
            "left": null,
            "margin": null,
            "max_height": null,
            "max_width": null,
            "min_height": null,
            "min_width": null,
            "object_fit": null,
            "object_position": null,
            "order": null,
            "overflow": null,
            "overflow_x": null,
            "overflow_y": null,
            "padding": null,
            "right": null,
            "top": null,
            "visibility": null,
            "width": null
          }
        },
        "e294eeb0eace4a07b1622bcca8837624": {
          "model_module": "@jupyter-widgets/controls",
          "model_name": "DescriptionStyleModel",
          "model_module_version": "1.5.0",
          "state": {
            "_model_module": "@jupyter-widgets/controls",
            "_model_module_version": "1.5.0",
            "_model_name": "DescriptionStyleModel",
            "_view_count": null,
            "_view_module": "@jupyter-widgets/base",
            "_view_module_version": "1.2.0",
            "_view_name": "StyleView",
            "description_width": ""
          }
        },
        "1904eabb54e7496f950b253d951991ad": {
          "model_module": "@jupyter-widgets/base",
          "model_name": "LayoutModel",
          "model_module_version": "1.2.0",
          "state": {
            "_model_module": "@jupyter-widgets/base",
            "_model_module_version": "1.2.0",
            "_model_name": "LayoutModel",
            "_view_count": null,
            "_view_module": "@jupyter-widgets/base",
            "_view_module_version": "1.2.0",
            "_view_name": "LayoutView",
            "align_content": null,
            "align_items": null,
            "align_self": null,
            "border": null,
            "bottom": null,
            "display": null,
            "flex": null,
            "flex_flow": null,
            "grid_area": null,
            "grid_auto_columns": null,
            "grid_auto_flow": null,
            "grid_auto_rows": null,
            "grid_column": null,
            "grid_gap": null,
            "grid_row": null,
            "grid_template_areas": null,
            "grid_template_columns": null,
            "grid_template_rows": null,
            "height": null,
            "justify_content": null,
            "justify_items": null,
            "left": null,
            "margin": null,
            "max_height": null,
            "max_width": null,
            "min_height": null,
            "min_width": null,
            "object_fit": null,
            "object_position": null,
            "order": null,
            "overflow": null,
            "overflow_x": null,
            "overflow_y": null,
            "padding": null,
            "right": null,
            "top": null,
            "visibility": null,
            "width": null
          }
        },
        "3646fa6607e5430e9cfa0696ad6fc507": {
          "model_module": "@jupyter-widgets/controls",
          "model_name": "ProgressStyleModel",
          "model_module_version": "1.5.0",
          "state": {
            "_model_module": "@jupyter-widgets/controls",
            "_model_module_version": "1.5.0",
            "_model_name": "ProgressStyleModel",
            "_view_count": null,
            "_view_module": "@jupyter-widgets/base",
            "_view_module_version": "1.2.0",
            "_view_name": "StyleView",
            "bar_color": null,
            "description_width": ""
          }
        },
        "ef3362f6d01d48bf83c760180a093910": {
          "model_module": "@jupyter-widgets/base",
          "model_name": "LayoutModel",
          "model_module_version": "1.2.0",
          "state": {
            "_model_module": "@jupyter-widgets/base",
            "_model_module_version": "1.2.0",
            "_model_name": "LayoutModel",
            "_view_count": null,
            "_view_module": "@jupyter-widgets/base",
            "_view_module_version": "1.2.0",
            "_view_name": "LayoutView",
            "align_content": null,
            "align_items": null,
            "align_self": null,
            "border": null,
            "bottom": null,
            "display": null,
            "flex": null,
            "flex_flow": null,
            "grid_area": null,
            "grid_auto_columns": null,
            "grid_auto_flow": null,
            "grid_auto_rows": null,
            "grid_column": null,
            "grid_gap": null,
            "grid_row": null,
            "grid_template_areas": null,
            "grid_template_columns": null,
            "grid_template_rows": null,
            "height": null,
            "justify_content": null,
            "justify_items": null,
            "left": null,
            "margin": null,
            "max_height": null,
            "max_width": null,
            "min_height": null,
            "min_width": null,
            "object_fit": null,
            "object_position": null,
            "order": null,
            "overflow": null,
            "overflow_x": null,
            "overflow_y": null,
            "padding": null,
            "right": null,
            "top": null,
            "visibility": null,
            "width": null
          }
        },
        "33069873888e4a4592e017a1ae4818cc": {
          "model_module": "@jupyter-widgets/controls",
          "model_name": "DescriptionStyleModel",
          "model_module_version": "1.5.0",
          "state": {
            "_model_module": "@jupyter-widgets/controls",
            "_model_module_version": "1.5.0",
            "_model_name": "DescriptionStyleModel",
            "_view_count": null,
            "_view_module": "@jupyter-widgets/base",
            "_view_module_version": "1.2.0",
            "_view_name": "StyleView",
            "description_width": ""
          }
        },
        "a0841ef1c53c46269d556d8d0f2e8daa": {
          "model_module": "@jupyter-widgets/controls",
          "model_name": "HBoxModel",
          "model_module_version": "1.5.0",
          "state": {
            "_dom_classes": [],
            "_model_module": "@jupyter-widgets/controls",
            "_model_module_version": "1.5.0",
            "_model_name": "HBoxModel",
            "_view_count": null,
            "_view_module": "@jupyter-widgets/controls",
            "_view_module_version": "1.5.0",
            "_view_name": "HBoxView",
            "box_style": "",
            "children": [
              "IPY_MODEL_54b291e65b044f419eeaa92fb2ee3e16",
              "IPY_MODEL_6acb77ebe47c4e5f99c4ab6f491e82de",
              "IPY_MODEL_271cafa219c942c6a380695850b43c61"
            ],
            "layout": "IPY_MODEL_6b2172fbad1e48338fdde7a5fbaa2a46"
          }
        },
        "54b291e65b044f419eeaa92fb2ee3e16": {
          "model_module": "@jupyter-widgets/controls",
          "model_name": "HTMLModel",
          "model_module_version": "1.5.0",
          "state": {
            "_dom_classes": [],
            "_model_module": "@jupyter-widgets/controls",
            "_model_module_version": "1.5.0",
            "_model_name": "HTMLModel",
            "_view_count": null,
            "_view_module": "@jupyter-widgets/controls",
            "_view_module_version": "1.5.0",
            "_view_name": "HTMLView",
            "description": "",
            "description_tooltip": null,
            "layout": "IPY_MODEL_236403d397d349b08c9f01889d84d785",
            "placeholder": "​",
            "style": "IPY_MODEL_37e047c7b7a646e4940ca799ba055c80",
            "value": "Downloading (…)/main/tokenizer.json: 100%"
          }
        },
        "6acb77ebe47c4e5f99c4ab6f491e82de": {
          "model_module": "@jupyter-widgets/controls",
          "model_name": "FloatProgressModel",
          "model_module_version": "1.5.0",
          "state": {
            "_dom_classes": [],
            "_model_module": "@jupyter-widgets/controls",
            "_model_module_version": "1.5.0",
            "_model_name": "FloatProgressModel",
            "_view_count": null,
            "_view_module": "@jupyter-widgets/controls",
            "_view_module_version": "1.5.0",
            "_view_name": "ProgressView",
            "bar_style": "success",
            "description": "",
            "description_tooltip": null,
            "layout": "IPY_MODEL_32b78bd05bdf47ad8025799854643aa2",
            "max": 466062,
            "min": 0,
            "orientation": "horizontal",
            "style": "IPY_MODEL_5262bf7e36874ad3ac8523000223e248",
            "value": 466062
          }
        },
        "271cafa219c942c6a380695850b43c61": {
          "model_module": "@jupyter-widgets/controls",
          "model_name": "HTMLModel",
          "model_module_version": "1.5.0",
          "state": {
            "_dom_classes": [],
            "_model_module": "@jupyter-widgets/controls",
            "_model_module_version": "1.5.0",
            "_model_name": "HTMLModel",
            "_view_count": null,
            "_view_module": "@jupyter-widgets/controls",
            "_view_module_version": "1.5.0",
            "_view_name": "HTMLView",
            "description": "",
            "description_tooltip": null,
            "layout": "IPY_MODEL_f9eb45eccc7d4e28a81fe89e98d9ecc8",
            "placeholder": "​",
            "style": "IPY_MODEL_0c736e4a3938420aa26e987f780c9339",
            "value": " 466k/466k [00:00&lt;00:00, 2.82MB/s]"
          }
        },
        "6b2172fbad1e48338fdde7a5fbaa2a46": {
          "model_module": "@jupyter-widgets/base",
          "model_name": "LayoutModel",
          "model_module_version": "1.2.0",
          "state": {
            "_model_module": "@jupyter-widgets/base",
            "_model_module_version": "1.2.0",
            "_model_name": "LayoutModel",
            "_view_count": null,
            "_view_module": "@jupyter-widgets/base",
            "_view_module_version": "1.2.0",
            "_view_name": "LayoutView",
            "align_content": null,
            "align_items": null,
            "align_self": null,
            "border": null,
            "bottom": null,
            "display": null,
            "flex": null,
            "flex_flow": null,
            "grid_area": null,
            "grid_auto_columns": null,
            "grid_auto_flow": null,
            "grid_auto_rows": null,
            "grid_column": null,
            "grid_gap": null,
            "grid_row": null,
            "grid_template_areas": null,
            "grid_template_columns": null,
            "grid_template_rows": null,
            "height": null,
            "justify_content": null,
            "justify_items": null,
            "left": null,
            "margin": null,
            "max_height": null,
            "max_width": null,
            "min_height": null,
            "min_width": null,
            "object_fit": null,
            "object_position": null,
            "order": null,
            "overflow": null,
            "overflow_x": null,
            "overflow_y": null,
            "padding": null,
            "right": null,
            "top": null,
            "visibility": null,
            "width": null
          }
        },
        "236403d397d349b08c9f01889d84d785": {
          "model_module": "@jupyter-widgets/base",
          "model_name": "LayoutModel",
          "model_module_version": "1.2.0",
          "state": {
            "_model_module": "@jupyter-widgets/base",
            "_model_module_version": "1.2.0",
            "_model_name": "LayoutModel",
            "_view_count": null,
            "_view_module": "@jupyter-widgets/base",
            "_view_module_version": "1.2.0",
            "_view_name": "LayoutView",
            "align_content": null,
            "align_items": null,
            "align_self": null,
            "border": null,
            "bottom": null,
            "display": null,
            "flex": null,
            "flex_flow": null,
            "grid_area": null,
            "grid_auto_columns": null,
            "grid_auto_flow": null,
            "grid_auto_rows": null,
            "grid_column": null,
            "grid_gap": null,
            "grid_row": null,
            "grid_template_areas": null,
            "grid_template_columns": null,
            "grid_template_rows": null,
            "height": null,
            "justify_content": null,
            "justify_items": null,
            "left": null,
            "margin": null,
            "max_height": null,
            "max_width": null,
            "min_height": null,
            "min_width": null,
            "object_fit": null,
            "object_position": null,
            "order": null,
            "overflow": null,
            "overflow_x": null,
            "overflow_y": null,
            "padding": null,
            "right": null,
            "top": null,
            "visibility": null,
            "width": null
          }
        },
        "37e047c7b7a646e4940ca799ba055c80": {
          "model_module": "@jupyter-widgets/controls",
          "model_name": "DescriptionStyleModel",
          "model_module_version": "1.5.0",
          "state": {
            "_model_module": "@jupyter-widgets/controls",
            "_model_module_version": "1.5.0",
            "_model_name": "DescriptionStyleModel",
            "_view_count": null,
            "_view_module": "@jupyter-widgets/base",
            "_view_module_version": "1.2.0",
            "_view_name": "StyleView",
            "description_width": ""
          }
        },
        "32b78bd05bdf47ad8025799854643aa2": {
          "model_module": "@jupyter-widgets/base",
          "model_name": "LayoutModel",
          "model_module_version": "1.2.0",
          "state": {
            "_model_module": "@jupyter-widgets/base",
            "_model_module_version": "1.2.0",
            "_model_name": "LayoutModel",
            "_view_count": null,
            "_view_module": "@jupyter-widgets/base",
            "_view_module_version": "1.2.0",
            "_view_name": "LayoutView",
            "align_content": null,
            "align_items": null,
            "align_self": null,
            "border": null,
            "bottom": null,
            "display": null,
            "flex": null,
            "flex_flow": null,
            "grid_area": null,
            "grid_auto_columns": null,
            "grid_auto_flow": null,
            "grid_auto_rows": null,
            "grid_column": null,
            "grid_gap": null,
            "grid_row": null,
            "grid_template_areas": null,
            "grid_template_columns": null,
            "grid_template_rows": null,
            "height": null,
            "justify_content": null,
            "justify_items": null,
            "left": null,
            "margin": null,
            "max_height": null,
            "max_width": null,
            "min_height": null,
            "min_width": null,
            "object_fit": null,
            "object_position": null,
            "order": null,
            "overflow": null,
            "overflow_x": null,
            "overflow_y": null,
            "padding": null,
            "right": null,
            "top": null,
            "visibility": null,
            "width": null
          }
        },
        "5262bf7e36874ad3ac8523000223e248": {
          "model_module": "@jupyter-widgets/controls",
          "model_name": "ProgressStyleModel",
          "model_module_version": "1.5.0",
          "state": {
            "_model_module": "@jupyter-widgets/controls",
            "_model_module_version": "1.5.0",
            "_model_name": "ProgressStyleModel",
            "_view_count": null,
            "_view_module": "@jupyter-widgets/base",
            "_view_module_version": "1.2.0",
            "_view_name": "StyleView",
            "bar_color": null,
            "description_width": ""
          }
        },
        "f9eb45eccc7d4e28a81fe89e98d9ecc8": {
          "model_module": "@jupyter-widgets/base",
          "model_name": "LayoutModel",
          "model_module_version": "1.2.0",
          "state": {
            "_model_module": "@jupyter-widgets/base",
            "_model_module_version": "1.2.0",
            "_model_name": "LayoutModel",
            "_view_count": null,
            "_view_module": "@jupyter-widgets/base",
            "_view_module_version": "1.2.0",
            "_view_name": "LayoutView",
            "align_content": null,
            "align_items": null,
            "align_self": null,
            "border": null,
            "bottom": null,
            "display": null,
            "flex": null,
            "flex_flow": null,
            "grid_area": null,
            "grid_auto_columns": null,
            "grid_auto_flow": null,
            "grid_auto_rows": null,
            "grid_column": null,
            "grid_gap": null,
            "grid_row": null,
            "grid_template_areas": null,
            "grid_template_columns": null,
            "grid_template_rows": null,
            "height": null,
            "justify_content": null,
            "justify_items": null,
            "left": null,
            "margin": null,
            "max_height": null,
            "max_width": null,
            "min_height": null,
            "min_width": null,
            "object_fit": null,
            "object_position": null,
            "order": null,
            "overflow": null,
            "overflow_x": null,
            "overflow_y": null,
            "padding": null,
            "right": null,
            "top": null,
            "visibility": null,
            "width": null
          }
        },
        "0c736e4a3938420aa26e987f780c9339": {
          "model_module": "@jupyter-widgets/controls",
          "model_name": "DescriptionStyleModel",
          "model_module_version": "1.5.0",
          "state": {
            "_model_module": "@jupyter-widgets/controls",
            "_model_module_version": "1.5.0",
            "_model_name": "DescriptionStyleModel",
            "_view_count": null,
            "_view_module": "@jupyter-widgets/base",
            "_view_module_version": "1.2.0",
            "_view_name": "StyleView",
            "description_width": ""
          }
        },
        "a25b227c4830443d9b6a4f25bab01ea6": {
          "model_module": "@jupyter-widgets/controls",
          "model_name": "HBoxModel",
          "model_module_version": "1.5.0",
          "state": {
            "_dom_classes": [],
            "_model_module": "@jupyter-widgets/controls",
            "_model_module_version": "1.5.0",
            "_model_name": "HBoxModel",
            "_view_count": null,
            "_view_module": "@jupyter-widgets/controls",
            "_view_module_version": "1.5.0",
            "_view_name": "HBoxView",
            "box_style": "",
            "children": [
              "IPY_MODEL_13062904742f4f919f7cce32c2f45dfa",
              "IPY_MODEL_5cf043e5d9ed4ead91fbb853ee7f45f5",
              "IPY_MODEL_d10b286d4f37470681e1117e8febf38b"
            ],
            "layout": "IPY_MODEL_0e5023800125418d87c3c6ea3469597b"
          }
        },
        "13062904742f4f919f7cce32c2f45dfa": {
          "model_module": "@jupyter-widgets/controls",
          "model_name": "HTMLModel",
          "model_module_version": "1.5.0",
          "state": {
            "_dom_classes": [],
            "_model_module": "@jupyter-widgets/controls",
            "_model_module_version": "1.5.0",
            "_model_name": "HTMLModel",
            "_view_count": null,
            "_view_module": "@jupyter-widgets/controls",
            "_view_module_version": "1.5.0",
            "_view_name": "HTMLView",
            "description": "",
            "description_tooltip": null,
            "layout": "IPY_MODEL_f3c66b007e1141feb29d1475482cabfe",
            "placeholder": "​",
            "style": "IPY_MODEL_bf910753b6674194a11cf67ce8182859",
            "value": "Downloading pytorch_model.bin: 100%"
          }
        },
        "5cf043e5d9ed4ead91fbb853ee7f45f5": {
          "model_module": "@jupyter-widgets/controls",
          "model_name": "FloatProgressModel",
          "model_module_version": "1.5.0",
          "state": {
            "_dom_classes": [],
            "_model_module": "@jupyter-widgets/controls",
            "_model_module_version": "1.5.0",
            "_model_name": "FloatProgressModel",
            "_view_count": null,
            "_view_module": "@jupyter-widgets/controls",
            "_view_module_version": "1.5.0",
            "_view_name": "ProgressView",
            "bar_style": "success",
            "description": "",
            "description_tooltip": null,
            "layout": "IPY_MODEL_db5fbc8b5a07414a9571ec22f35c1e15",
            "max": 267967963,
            "min": 0,
            "orientation": "horizontal",
            "style": "IPY_MODEL_5736d1b8f4cb4f1aa5910bd92f1ff91f",
            "value": 267967963
          }
        },
        "d10b286d4f37470681e1117e8febf38b": {
          "model_module": "@jupyter-widgets/controls",
          "model_name": "HTMLModel",
          "model_module_version": "1.5.0",
          "state": {
            "_dom_classes": [],
            "_model_module": "@jupyter-widgets/controls",
            "_model_module_version": "1.5.0",
            "_model_name": "HTMLModel",
            "_view_count": null,
            "_view_module": "@jupyter-widgets/controls",
            "_view_module_version": "1.5.0",
            "_view_name": "HTMLView",
            "description": "",
            "description_tooltip": null,
            "layout": "IPY_MODEL_93907cfb559440d9be10229b163d7882",
            "placeholder": "​",
            "style": "IPY_MODEL_12ba7dc71254441ebbf75796fc258125",
            "value": " 268M/268M [00:02&lt;00:00, 116MB/s]"
          }
        },
        "0e5023800125418d87c3c6ea3469597b": {
          "model_module": "@jupyter-widgets/base",
          "model_name": "LayoutModel",
          "model_module_version": "1.2.0",
          "state": {
            "_model_module": "@jupyter-widgets/base",
            "_model_module_version": "1.2.0",
            "_model_name": "LayoutModel",
            "_view_count": null,
            "_view_module": "@jupyter-widgets/base",
            "_view_module_version": "1.2.0",
            "_view_name": "LayoutView",
            "align_content": null,
            "align_items": null,
            "align_self": null,
            "border": null,
            "bottom": null,
            "display": null,
            "flex": null,
            "flex_flow": null,
            "grid_area": null,
            "grid_auto_columns": null,
            "grid_auto_flow": null,
            "grid_auto_rows": null,
            "grid_column": null,
            "grid_gap": null,
            "grid_row": null,
            "grid_template_areas": null,
            "grid_template_columns": null,
            "grid_template_rows": null,
            "height": null,
            "justify_content": null,
            "justify_items": null,
            "left": null,
            "margin": null,
            "max_height": null,
            "max_width": null,
            "min_height": null,
            "min_width": null,
            "object_fit": null,
            "object_position": null,
            "order": null,
            "overflow": null,
            "overflow_x": null,
            "overflow_y": null,
            "padding": null,
            "right": null,
            "top": null,
            "visibility": null,
            "width": null
          }
        },
        "f3c66b007e1141feb29d1475482cabfe": {
          "model_module": "@jupyter-widgets/base",
          "model_name": "LayoutModel",
          "model_module_version": "1.2.0",
          "state": {
            "_model_module": "@jupyter-widgets/base",
            "_model_module_version": "1.2.0",
            "_model_name": "LayoutModel",
            "_view_count": null,
            "_view_module": "@jupyter-widgets/base",
            "_view_module_version": "1.2.0",
            "_view_name": "LayoutView",
            "align_content": null,
            "align_items": null,
            "align_self": null,
            "border": null,
            "bottom": null,
            "display": null,
            "flex": null,
            "flex_flow": null,
            "grid_area": null,
            "grid_auto_columns": null,
            "grid_auto_flow": null,
            "grid_auto_rows": null,
            "grid_column": null,
            "grid_gap": null,
            "grid_row": null,
            "grid_template_areas": null,
            "grid_template_columns": null,
            "grid_template_rows": null,
            "height": null,
            "justify_content": null,
            "justify_items": null,
            "left": null,
            "margin": null,
            "max_height": null,
            "max_width": null,
            "min_height": null,
            "min_width": null,
            "object_fit": null,
            "object_position": null,
            "order": null,
            "overflow": null,
            "overflow_x": null,
            "overflow_y": null,
            "padding": null,
            "right": null,
            "top": null,
            "visibility": null,
            "width": null
          }
        },
        "bf910753b6674194a11cf67ce8182859": {
          "model_module": "@jupyter-widgets/controls",
          "model_name": "DescriptionStyleModel",
          "model_module_version": "1.5.0",
          "state": {
            "_model_module": "@jupyter-widgets/controls",
            "_model_module_version": "1.5.0",
            "_model_name": "DescriptionStyleModel",
            "_view_count": null,
            "_view_module": "@jupyter-widgets/base",
            "_view_module_version": "1.2.0",
            "_view_name": "StyleView",
            "description_width": ""
          }
        },
        "db5fbc8b5a07414a9571ec22f35c1e15": {
          "model_module": "@jupyter-widgets/base",
          "model_name": "LayoutModel",
          "model_module_version": "1.2.0",
          "state": {
            "_model_module": "@jupyter-widgets/base",
            "_model_module_version": "1.2.0",
            "_model_name": "LayoutModel",
            "_view_count": null,
            "_view_module": "@jupyter-widgets/base",
            "_view_module_version": "1.2.0",
            "_view_name": "LayoutView",
            "align_content": null,
            "align_items": null,
            "align_self": null,
            "border": null,
            "bottom": null,
            "display": null,
            "flex": null,
            "flex_flow": null,
            "grid_area": null,
            "grid_auto_columns": null,
            "grid_auto_flow": null,
            "grid_auto_rows": null,
            "grid_column": null,
            "grid_gap": null,
            "grid_row": null,
            "grid_template_areas": null,
            "grid_template_columns": null,
            "grid_template_rows": null,
            "height": null,
            "justify_content": null,
            "justify_items": null,
            "left": null,
            "margin": null,
            "max_height": null,
            "max_width": null,
            "min_height": null,
            "min_width": null,
            "object_fit": null,
            "object_position": null,
            "order": null,
            "overflow": null,
            "overflow_x": null,
            "overflow_y": null,
            "padding": null,
            "right": null,
            "top": null,
            "visibility": null,
            "width": null
          }
        },
        "5736d1b8f4cb4f1aa5910bd92f1ff91f": {
          "model_module": "@jupyter-widgets/controls",
          "model_name": "ProgressStyleModel",
          "model_module_version": "1.5.0",
          "state": {
            "_model_module": "@jupyter-widgets/controls",
            "_model_module_version": "1.5.0",
            "_model_name": "ProgressStyleModel",
            "_view_count": null,
            "_view_module": "@jupyter-widgets/base",
            "_view_module_version": "1.2.0",
            "_view_name": "StyleView",
            "bar_color": null,
            "description_width": ""
          }
        },
        "93907cfb559440d9be10229b163d7882": {
          "model_module": "@jupyter-widgets/base",
          "model_name": "LayoutModel",
          "model_module_version": "1.2.0",
          "state": {
            "_model_module": "@jupyter-widgets/base",
            "_model_module_version": "1.2.0",
            "_model_name": "LayoutModel",
            "_view_count": null,
            "_view_module": "@jupyter-widgets/base",
            "_view_module_version": "1.2.0",
            "_view_name": "LayoutView",
            "align_content": null,
            "align_items": null,
            "align_self": null,
            "border": null,
            "bottom": null,
            "display": null,
            "flex": null,
            "flex_flow": null,
            "grid_area": null,
            "grid_auto_columns": null,
            "grid_auto_flow": null,
            "grid_auto_rows": null,
            "grid_column": null,
            "grid_gap": null,
            "grid_row": null,
            "grid_template_areas": null,
            "grid_template_columns": null,
            "grid_template_rows": null,
            "height": null,
            "justify_content": null,
            "justify_items": null,
            "left": null,
            "margin": null,
            "max_height": null,
            "max_width": null,
            "min_height": null,
            "min_width": null,
            "object_fit": null,
            "object_position": null,
            "order": null,
            "overflow": null,
            "overflow_x": null,
            "overflow_y": null,
            "padding": null,
            "right": null,
            "top": null,
            "visibility": null,
            "width": null
          }
        },
        "12ba7dc71254441ebbf75796fc258125": {
          "model_module": "@jupyter-widgets/controls",
          "model_name": "DescriptionStyleModel",
          "model_module_version": "1.5.0",
          "state": {
            "_model_module": "@jupyter-widgets/controls",
            "_model_module_version": "1.5.0",
            "_model_name": "DescriptionStyleModel",
            "_view_count": null,
            "_view_module": "@jupyter-widgets/base",
            "_view_module_version": "1.2.0",
            "_view_name": "StyleView",
            "description_width": ""
          }
        },
        "36de886829f34c01ae5fd3151250d398": {
          "model_module": "@jupyter-widgets/controls",
          "model_name": "HBoxModel",
          "model_module_version": "1.5.0",
          "state": {
            "_dom_classes": [],
            "_model_module": "@jupyter-widgets/controls",
            "_model_module_version": "1.5.0",
            "_model_name": "HBoxModel",
            "_view_count": null,
            "_view_module": "@jupyter-widgets/controls",
            "_view_module_version": "1.5.0",
            "_view_name": "HBoxView",
            "box_style": "",
            "children": [
              "IPY_MODEL_5c2f592dec0949a6be0e674736c870a7",
              "IPY_MODEL_5577cfb804df43998737b55bd3e94b01",
              "IPY_MODEL_9a07f3c7aa374b4d82d7f868388969ae"
            ],
            "layout": "IPY_MODEL_9bbfe0d1fbe84b4d909667a9b84458cd"
          }
        },
        "5c2f592dec0949a6be0e674736c870a7": {
          "model_module": "@jupyter-widgets/controls",
          "model_name": "HTMLModel",
          "model_module_version": "1.5.0",
          "state": {
            "_dom_classes": [],
            "_model_module": "@jupyter-widgets/controls",
            "_model_module_version": "1.5.0",
            "_model_name": "HTMLModel",
            "_view_count": null,
            "_view_module": "@jupyter-widgets/controls",
            "_view_module_version": "1.5.0",
            "_view_name": "HTMLView",
            "description": "",
            "description_tooltip": null,
            "layout": "IPY_MODEL_9eabb128d43d4be18b89e02398d1299c",
            "placeholder": "​",
            "style": "IPY_MODEL_45dc6950a215433fa4b4fa146dba0aab",
            "value": "Downloading (…)okenizer_config.json: 100%"
          }
        },
        "5577cfb804df43998737b55bd3e94b01": {
          "model_module": "@jupyter-widgets/controls",
          "model_name": "FloatProgressModel",
          "model_module_version": "1.5.0",
          "state": {
            "_dom_classes": [],
            "_model_module": "@jupyter-widgets/controls",
            "_model_module_version": "1.5.0",
            "_model_name": "FloatProgressModel",
            "_view_count": null,
            "_view_module": "@jupyter-widgets/controls",
            "_view_module_version": "1.5.0",
            "_view_name": "ProgressView",
            "bar_style": "success",
            "description": "",
            "description_tooltip": null,
            "layout": "IPY_MODEL_d182199f35d84063b1cc1b6f206f844d",
            "max": 29,
            "min": 0,
            "orientation": "horizontal",
            "style": "IPY_MODEL_c78bf33cf6f740389e8c3a8d790b1a7b",
            "value": 29
          }
        },
        "9a07f3c7aa374b4d82d7f868388969ae": {
          "model_module": "@jupyter-widgets/controls",
          "model_name": "HTMLModel",
          "model_module_version": "1.5.0",
          "state": {
            "_dom_classes": [],
            "_model_module": "@jupyter-widgets/controls",
            "_model_module_version": "1.5.0",
            "_model_name": "HTMLModel",
            "_view_count": null,
            "_view_module": "@jupyter-widgets/controls",
            "_view_module_version": "1.5.0",
            "_view_name": "HTMLView",
            "description": "",
            "description_tooltip": null,
            "layout": "IPY_MODEL_87c009abd135421bbd342f4b806375c6",
            "placeholder": "​",
            "style": "IPY_MODEL_6f798c0221494c1eb9fdc796f7cd637b",
            "value": " 29.0/29.0 [00:00&lt;00:00, 718B/s]"
          }
        },
        "9bbfe0d1fbe84b4d909667a9b84458cd": {
          "model_module": "@jupyter-widgets/base",
          "model_name": "LayoutModel",
          "model_module_version": "1.2.0",
          "state": {
            "_model_module": "@jupyter-widgets/base",
            "_model_module_version": "1.2.0",
            "_model_name": "LayoutModel",
            "_view_count": null,
            "_view_module": "@jupyter-widgets/base",
            "_view_module_version": "1.2.0",
            "_view_name": "LayoutView",
            "align_content": null,
            "align_items": null,
            "align_self": null,
            "border": null,
            "bottom": null,
            "display": null,
            "flex": null,
            "flex_flow": null,
            "grid_area": null,
            "grid_auto_columns": null,
            "grid_auto_flow": null,
            "grid_auto_rows": null,
            "grid_column": null,
            "grid_gap": null,
            "grid_row": null,
            "grid_template_areas": null,
            "grid_template_columns": null,
            "grid_template_rows": null,
            "height": null,
            "justify_content": null,
            "justify_items": null,
            "left": null,
            "margin": null,
            "max_height": null,
            "max_width": null,
            "min_height": null,
            "min_width": null,
            "object_fit": null,
            "object_position": null,
            "order": null,
            "overflow": null,
            "overflow_x": null,
            "overflow_y": null,
            "padding": null,
            "right": null,
            "top": null,
            "visibility": null,
            "width": null
          }
        },
        "9eabb128d43d4be18b89e02398d1299c": {
          "model_module": "@jupyter-widgets/base",
          "model_name": "LayoutModel",
          "model_module_version": "1.2.0",
          "state": {
            "_model_module": "@jupyter-widgets/base",
            "_model_module_version": "1.2.0",
            "_model_name": "LayoutModel",
            "_view_count": null,
            "_view_module": "@jupyter-widgets/base",
            "_view_module_version": "1.2.0",
            "_view_name": "LayoutView",
            "align_content": null,
            "align_items": null,
            "align_self": null,
            "border": null,
            "bottom": null,
            "display": null,
            "flex": null,
            "flex_flow": null,
            "grid_area": null,
            "grid_auto_columns": null,
            "grid_auto_flow": null,
            "grid_auto_rows": null,
            "grid_column": null,
            "grid_gap": null,
            "grid_row": null,
            "grid_template_areas": null,
            "grid_template_columns": null,
            "grid_template_rows": null,
            "height": null,
            "justify_content": null,
            "justify_items": null,
            "left": null,
            "margin": null,
            "max_height": null,
            "max_width": null,
            "min_height": null,
            "min_width": null,
            "object_fit": null,
            "object_position": null,
            "order": null,
            "overflow": null,
            "overflow_x": null,
            "overflow_y": null,
            "padding": null,
            "right": null,
            "top": null,
            "visibility": null,
            "width": null
          }
        },
        "45dc6950a215433fa4b4fa146dba0aab": {
          "model_module": "@jupyter-widgets/controls",
          "model_name": "DescriptionStyleModel",
          "model_module_version": "1.5.0",
          "state": {
            "_model_module": "@jupyter-widgets/controls",
            "_model_module_version": "1.5.0",
            "_model_name": "DescriptionStyleModel",
            "_view_count": null,
            "_view_module": "@jupyter-widgets/base",
            "_view_module_version": "1.2.0",
            "_view_name": "StyleView",
            "description_width": ""
          }
        },
        "d182199f35d84063b1cc1b6f206f844d": {
          "model_module": "@jupyter-widgets/base",
          "model_name": "LayoutModel",
          "model_module_version": "1.2.0",
          "state": {
            "_model_module": "@jupyter-widgets/base",
            "_model_module_version": "1.2.0",
            "_model_name": "LayoutModel",
            "_view_count": null,
            "_view_module": "@jupyter-widgets/base",
            "_view_module_version": "1.2.0",
            "_view_name": "LayoutView",
            "align_content": null,
            "align_items": null,
            "align_self": null,
            "border": null,
            "bottom": null,
            "display": null,
            "flex": null,
            "flex_flow": null,
            "grid_area": null,
            "grid_auto_columns": null,
            "grid_auto_flow": null,
            "grid_auto_rows": null,
            "grid_column": null,
            "grid_gap": null,
            "grid_row": null,
            "grid_template_areas": null,
            "grid_template_columns": null,
            "grid_template_rows": null,
            "height": null,
            "justify_content": null,
            "justify_items": null,
            "left": null,
            "margin": null,
            "max_height": null,
            "max_width": null,
            "min_height": null,
            "min_width": null,
            "object_fit": null,
            "object_position": null,
            "order": null,
            "overflow": null,
            "overflow_x": null,
            "overflow_y": null,
            "padding": null,
            "right": null,
            "top": null,
            "visibility": null,
            "width": null
          }
        },
        "c78bf33cf6f740389e8c3a8d790b1a7b": {
          "model_module": "@jupyter-widgets/controls",
          "model_name": "ProgressStyleModel",
          "model_module_version": "1.5.0",
          "state": {
            "_model_module": "@jupyter-widgets/controls",
            "_model_module_version": "1.5.0",
            "_model_name": "ProgressStyleModel",
            "_view_count": null,
            "_view_module": "@jupyter-widgets/base",
            "_view_module_version": "1.2.0",
            "_view_name": "StyleView",
            "bar_color": null,
            "description_width": ""
          }
        },
        "87c009abd135421bbd342f4b806375c6": {
          "model_module": "@jupyter-widgets/base",
          "model_name": "LayoutModel",
          "model_module_version": "1.2.0",
          "state": {
            "_model_module": "@jupyter-widgets/base",
            "_model_module_version": "1.2.0",
            "_model_name": "LayoutModel",
            "_view_count": null,
            "_view_module": "@jupyter-widgets/base",
            "_view_module_version": "1.2.0",
            "_view_name": "LayoutView",
            "align_content": null,
            "align_items": null,
            "align_self": null,
            "border": null,
            "bottom": null,
            "display": null,
            "flex": null,
            "flex_flow": null,
            "grid_area": null,
            "grid_auto_columns": null,
            "grid_auto_flow": null,
            "grid_auto_rows": null,
            "grid_column": null,
            "grid_gap": null,
            "grid_row": null,
            "grid_template_areas": null,
            "grid_template_columns": null,
            "grid_template_rows": null,
            "height": null,
            "justify_content": null,
            "justify_items": null,
            "left": null,
            "margin": null,
            "max_height": null,
            "max_width": null,
            "min_height": null,
            "min_width": null,
            "object_fit": null,
            "object_position": null,
            "order": null,
            "overflow": null,
            "overflow_x": null,
            "overflow_y": null,
            "padding": null,
            "right": null,
            "top": null,
            "visibility": null,
            "width": null
          }
        },
        "6f798c0221494c1eb9fdc796f7cd637b": {
          "model_module": "@jupyter-widgets/controls",
          "model_name": "DescriptionStyleModel",
          "model_module_version": "1.5.0",
          "state": {
            "_model_module": "@jupyter-widgets/controls",
            "_model_module_version": "1.5.0",
            "_model_name": "DescriptionStyleModel",
            "_view_count": null,
            "_view_module": "@jupyter-widgets/base",
            "_view_module_version": "1.2.0",
            "_view_name": "StyleView",
            "description_width": ""
          }
        },
        "e2cbd601c7024d0cba4f4bd7fdb0685b": {
          "model_module": "@jupyter-widgets/controls",
          "model_name": "HBoxModel",
          "model_module_version": "1.5.0",
          "state": {
            "_dom_classes": [],
            "_model_module": "@jupyter-widgets/controls",
            "_model_module_version": "1.5.0",
            "_model_name": "HBoxModel",
            "_view_count": null,
            "_view_module": "@jupyter-widgets/controls",
            "_view_module_version": "1.5.0",
            "_view_name": "HBoxView",
            "box_style": "",
            "children": [
              "IPY_MODEL_11d9ef240af9443994da472801772700",
              "IPY_MODEL_7545e555758840ecba907b37cd3c4737",
              "IPY_MODEL_ca66c4471f774923a175cb1311e91463"
            ],
            "layout": "IPY_MODEL_2abe28a004d1450fb02417171614f7d6"
          }
        },
        "11d9ef240af9443994da472801772700": {
          "model_module": "@jupyter-widgets/controls",
          "model_name": "HTMLModel",
          "model_module_version": "1.5.0",
          "state": {
            "_dom_classes": [],
            "_model_module": "@jupyter-widgets/controls",
            "_model_module_version": "1.5.0",
            "_model_name": "HTMLModel",
            "_view_count": null,
            "_view_module": "@jupyter-widgets/controls",
            "_view_module_version": "1.5.0",
            "_view_name": "HTMLView",
            "description": "",
            "description_tooltip": null,
            "layout": "IPY_MODEL_6bdece3a52dd48568464f9915f108428",
            "placeholder": "​",
            "style": "IPY_MODEL_e0b0543f81024312b39f57575f0ee463",
            "value": "Downloading (…)solve/main/vocab.txt: 100%"
          }
        },
        "7545e555758840ecba907b37cd3c4737": {
          "model_module": "@jupyter-widgets/controls",
          "model_name": "FloatProgressModel",
          "model_module_version": "1.5.0",
          "state": {
            "_dom_classes": [],
            "_model_module": "@jupyter-widgets/controls",
            "_model_module_version": "1.5.0",
            "_model_name": "FloatProgressModel",
            "_view_count": null,
            "_view_module": "@jupyter-widgets/controls",
            "_view_module_version": "1.5.0",
            "_view_name": "ProgressView",
            "bar_style": "success",
            "description": "",
            "description_tooltip": null,
            "layout": "IPY_MODEL_6431cd35e65f4638814467fa6245d506",
            "max": 213450,
            "min": 0,
            "orientation": "horizontal",
            "style": "IPY_MODEL_6037f3a4bb6c4c50a9f433532d79a2cc",
            "value": 213450
          }
        },
        "ca66c4471f774923a175cb1311e91463": {
          "model_module": "@jupyter-widgets/controls",
          "model_name": "HTMLModel",
          "model_module_version": "1.5.0",
          "state": {
            "_dom_classes": [],
            "_model_module": "@jupyter-widgets/controls",
            "_model_module_version": "1.5.0",
            "_model_name": "HTMLModel",
            "_view_count": null,
            "_view_module": "@jupyter-widgets/controls",
            "_view_module_version": "1.5.0",
            "_view_name": "HTMLView",
            "description": "",
            "description_tooltip": null,
            "layout": "IPY_MODEL_d5457848e76d4fbf8e63d2017d79bc9c",
            "placeholder": "​",
            "style": "IPY_MODEL_9e8890d95e334daba0614c2c8c05ca0c",
            "value": " 213k/213k [00:00&lt;00:00, 386kB/s]"
          }
        },
        "2abe28a004d1450fb02417171614f7d6": {
          "model_module": "@jupyter-widgets/base",
          "model_name": "LayoutModel",
          "model_module_version": "1.2.0",
          "state": {
            "_model_module": "@jupyter-widgets/base",
            "_model_module_version": "1.2.0",
            "_model_name": "LayoutModel",
            "_view_count": null,
            "_view_module": "@jupyter-widgets/base",
            "_view_module_version": "1.2.0",
            "_view_name": "LayoutView",
            "align_content": null,
            "align_items": null,
            "align_self": null,
            "border": null,
            "bottom": null,
            "display": null,
            "flex": null,
            "flex_flow": null,
            "grid_area": null,
            "grid_auto_columns": null,
            "grid_auto_flow": null,
            "grid_auto_rows": null,
            "grid_column": null,
            "grid_gap": null,
            "grid_row": null,
            "grid_template_areas": null,
            "grid_template_columns": null,
            "grid_template_rows": null,
            "height": null,
            "justify_content": null,
            "justify_items": null,
            "left": null,
            "margin": null,
            "max_height": null,
            "max_width": null,
            "min_height": null,
            "min_width": null,
            "object_fit": null,
            "object_position": null,
            "order": null,
            "overflow": null,
            "overflow_x": null,
            "overflow_y": null,
            "padding": null,
            "right": null,
            "top": null,
            "visibility": null,
            "width": null
          }
        },
        "6bdece3a52dd48568464f9915f108428": {
          "model_module": "@jupyter-widgets/base",
          "model_name": "LayoutModel",
          "model_module_version": "1.2.0",
          "state": {
            "_model_module": "@jupyter-widgets/base",
            "_model_module_version": "1.2.0",
            "_model_name": "LayoutModel",
            "_view_count": null,
            "_view_module": "@jupyter-widgets/base",
            "_view_module_version": "1.2.0",
            "_view_name": "LayoutView",
            "align_content": null,
            "align_items": null,
            "align_self": null,
            "border": null,
            "bottom": null,
            "display": null,
            "flex": null,
            "flex_flow": null,
            "grid_area": null,
            "grid_auto_columns": null,
            "grid_auto_flow": null,
            "grid_auto_rows": null,
            "grid_column": null,
            "grid_gap": null,
            "grid_row": null,
            "grid_template_areas": null,
            "grid_template_columns": null,
            "grid_template_rows": null,
            "height": null,
            "justify_content": null,
            "justify_items": null,
            "left": null,
            "margin": null,
            "max_height": null,
            "max_width": null,
            "min_height": null,
            "min_width": null,
            "object_fit": null,
            "object_position": null,
            "order": null,
            "overflow": null,
            "overflow_x": null,
            "overflow_y": null,
            "padding": null,
            "right": null,
            "top": null,
            "visibility": null,
            "width": null
          }
        },
        "e0b0543f81024312b39f57575f0ee463": {
          "model_module": "@jupyter-widgets/controls",
          "model_name": "DescriptionStyleModel",
          "model_module_version": "1.5.0",
          "state": {
            "_model_module": "@jupyter-widgets/controls",
            "_model_module_version": "1.5.0",
            "_model_name": "DescriptionStyleModel",
            "_view_count": null,
            "_view_module": "@jupyter-widgets/base",
            "_view_module_version": "1.2.0",
            "_view_name": "StyleView",
            "description_width": ""
          }
        },
        "6431cd35e65f4638814467fa6245d506": {
          "model_module": "@jupyter-widgets/base",
          "model_name": "LayoutModel",
          "model_module_version": "1.2.0",
          "state": {
            "_model_module": "@jupyter-widgets/base",
            "_model_module_version": "1.2.0",
            "_model_name": "LayoutModel",
            "_view_count": null,
            "_view_module": "@jupyter-widgets/base",
            "_view_module_version": "1.2.0",
            "_view_name": "LayoutView",
            "align_content": null,
            "align_items": null,
            "align_self": null,
            "border": null,
            "bottom": null,
            "display": null,
            "flex": null,
            "flex_flow": null,
            "grid_area": null,
            "grid_auto_columns": null,
            "grid_auto_flow": null,
            "grid_auto_rows": null,
            "grid_column": null,
            "grid_gap": null,
            "grid_row": null,
            "grid_template_areas": null,
            "grid_template_columns": null,
            "grid_template_rows": null,
            "height": null,
            "justify_content": null,
            "justify_items": null,
            "left": null,
            "margin": null,
            "max_height": null,
            "max_width": null,
            "min_height": null,
            "min_width": null,
            "object_fit": null,
            "object_position": null,
            "order": null,
            "overflow": null,
            "overflow_x": null,
            "overflow_y": null,
            "padding": null,
            "right": null,
            "top": null,
            "visibility": null,
            "width": null
          }
        },
        "6037f3a4bb6c4c50a9f433532d79a2cc": {
          "model_module": "@jupyter-widgets/controls",
          "model_name": "ProgressStyleModel",
          "model_module_version": "1.5.0",
          "state": {
            "_model_module": "@jupyter-widgets/controls",
            "_model_module_version": "1.5.0",
            "_model_name": "ProgressStyleModel",
            "_view_count": null,
            "_view_module": "@jupyter-widgets/base",
            "_view_module_version": "1.2.0",
            "_view_name": "StyleView",
            "bar_color": null,
            "description_width": ""
          }
        },
        "d5457848e76d4fbf8e63d2017d79bc9c": {
          "model_module": "@jupyter-widgets/base",
          "model_name": "LayoutModel",
          "model_module_version": "1.2.0",
          "state": {
            "_model_module": "@jupyter-widgets/base",
            "_model_module_version": "1.2.0",
            "_model_name": "LayoutModel",
            "_view_count": null,
            "_view_module": "@jupyter-widgets/base",
            "_view_module_version": "1.2.0",
            "_view_name": "LayoutView",
            "align_content": null,
            "align_items": null,
            "align_self": null,
            "border": null,
            "bottom": null,
            "display": null,
            "flex": null,
            "flex_flow": null,
            "grid_area": null,
            "grid_auto_columns": null,
            "grid_auto_flow": null,
            "grid_auto_rows": null,
            "grid_column": null,
            "grid_gap": null,
            "grid_row": null,
            "grid_template_areas": null,
            "grid_template_columns": null,
            "grid_template_rows": null,
            "height": null,
            "justify_content": null,
            "justify_items": null,
            "left": null,
            "margin": null,
            "max_height": null,
            "max_width": null,
            "min_height": null,
            "min_width": null,
            "object_fit": null,
            "object_position": null,
            "order": null,
            "overflow": null,
            "overflow_x": null,
            "overflow_y": null,
            "padding": null,
            "right": null,
            "top": null,
            "visibility": null,
            "width": null
          }
        },
        "9e8890d95e334daba0614c2c8c05ca0c": {
          "model_module": "@jupyter-widgets/controls",
          "model_name": "DescriptionStyleModel",
          "model_module_version": "1.5.0",
          "state": {
            "_model_module": "@jupyter-widgets/controls",
            "_model_module_version": "1.5.0",
            "_model_name": "DescriptionStyleModel",
            "_view_count": null,
            "_view_module": "@jupyter-widgets/base",
            "_view_module_version": "1.2.0",
            "_view_name": "StyleView",
            "description_width": ""
          }
        },
        "172b04dc8cb449d28e100860b4acedc9": {
          "model_module": "@jupyter-widgets/controls",
          "model_name": "HBoxModel",
          "model_module_version": "1.5.0",
          "state": {
            "_dom_classes": [],
            "_model_module": "@jupyter-widgets/controls",
            "_model_module_version": "1.5.0",
            "_model_name": "HBoxModel",
            "_view_count": null,
            "_view_module": "@jupyter-widgets/controls",
            "_view_module_version": "1.5.0",
            "_view_name": "HBoxView",
            "box_style": "",
            "children": [
              "IPY_MODEL_0fdde4e9efed48239d1187d9949398b1",
              "IPY_MODEL_6872081f51fa4732b97f46748ba0d176",
              "IPY_MODEL_c39fc6cd99f749fca49885958b8eb92f"
            ],
            "layout": "IPY_MODEL_941f30f54b824e5c879a8e180cb0a22d"
          }
        },
        "0fdde4e9efed48239d1187d9949398b1": {
          "model_module": "@jupyter-widgets/controls",
          "model_name": "HTMLModel",
          "model_module_version": "1.5.0",
          "state": {
            "_dom_classes": [],
            "_model_module": "@jupyter-widgets/controls",
            "_model_module_version": "1.5.0",
            "_model_name": "HTMLModel",
            "_view_count": null,
            "_view_module": "@jupyter-widgets/controls",
            "_view_module_version": "1.5.0",
            "_view_name": "HTMLView",
            "description": "",
            "description_tooltip": null,
            "layout": "IPY_MODEL_9a6d847ae1b04b4882f69cebdc95fd6d",
            "placeholder": "​",
            "style": "IPY_MODEL_a343c29b01504bc3a84a54fb7f39f508",
            "value": "Downloading (…)/main/tokenizer.json: 100%"
          }
        },
        "6872081f51fa4732b97f46748ba0d176": {
          "model_module": "@jupyter-widgets/controls",
          "model_name": "FloatProgressModel",
          "model_module_version": "1.5.0",
          "state": {
            "_dom_classes": [],
            "_model_module": "@jupyter-widgets/controls",
            "_model_module_version": "1.5.0",
            "_model_name": "FloatProgressModel",
            "_view_count": null,
            "_view_module": "@jupyter-widgets/controls",
            "_view_module_version": "1.5.0",
            "_view_name": "ProgressView",
            "bar_style": "success",
            "description": "",
            "description_tooltip": null,
            "layout": "IPY_MODEL_c65a363779d149a992e7a383e15cc945",
            "max": 435797,
            "min": 0,
            "orientation": "horizontal",
            "style": "IPY_MODEL_94fa3603a90a435691b2d6936f61f136",
            "value": 435797
          }
        },
        "c39fc6cd99f749fca49885958b8eb92f": {
          "model_module": "@jupyter-widgets/controls",
          "model_name": "HTMLModel",
          "model_module_version": "1.5.0",
          "state": {
            "_dom_classes": [],
            "_model_module": "@jupyter-widgets/controls",
            "_model_module_version": "1.5.0",
            "_model_name": "HTMLModel",
            "_view_count": null,
            "_view_module": "@jupyter-widgets/controls",
            "_view_module_version": "1.5.0",
            "_view_name": "HTMLView",
            "description": "",
            "description_tooltip": null,
            "layout": "IPY_MODEL_928a0eacd3e84c12a6aa1c6773ff3ddc",
            "placeholder": "​",
            "style": "IPY_MODEL_011bdf130796430cab2a2e8f9660ba4e",
            "value": " 436k/436k [00:00&lt;00:00, 589kB/s]"
          }
        },
        "941f30f54b824e5c879a8e180cb0a22d": {
          "model_module": "@jupyter-widgets/base",
          "model_name": "LayoutModel",
          "model_module_version": "1.2.0",
          "state": {
            "_model_module": "@jupyter-widgets/base",
            "_model_module_version": "1.2.0",
            "_model_name": "LayoutModel",
            "_view_count": null,
            "_view_module": "@jupyter-widgets/base",
            "_view_module_version": "1.2.0",
            "_view_name": "LayoutView",
            "align_content": null,
            "align_items": null,
            "align_self": null,
            "border": null,
            "bottom": null,
            "display": null,
            "flex": null,
            "flex_flow": null,
            "grid_area": null,
            "grid_auto_columns": null,
            "grid_auto_flow": null,
            "grid_auto_rows": null,
            "grid_column": null,
            "grid_gap": null,
            "grid_row": null,
            "grid_template_areas": null,
            "grid_template_columns": null,
            "grid_template_rows": null,
            "height": null,
            "justify_content": null,
            "justify_items": null,
            "left": null,
            "margin": null,
            "max_height": null,
            "max_width": null,
            "min_height": null,
            "min_width": null,
            "object_fit": null,
            "object_position": null,
            "order": null,
            "overflow": null,
            "overflow_x": null,
            "overflow_y": null,
            "padding": null,
            "right": null,
            "top": null,
            "visibility": null,
            "width": null
          }
        },
        "9a6d847ae1b04b4882f69cebdc95fd6d": {
          "model_module": "@jupyter-widgets/base",
          "model_name": "LayoutModel",
          "model_module_version": "1.2.0",
          "state": {
            "_model_module": "@jupyter-widgets/base",
            "_model_module_version": "1.2.0",
            "_model_name": "LayoutModel",
            "_view_count": null,
            "_view_module": "@jupyter-widgets/base",
            "_view_module_version": "1.2.0",
            "_view_name": "LayoutView",
            "align_content": null,
            "align_items": null,
            "align_self": null,
            "border": null,
            "bottom": null,
            "display": null,
            "flex": null,
            "flex_flow": null,
            "grid_area": null,
            "grid_auto_columns": null,
            "grid_auto_flow": null,
            "grid_auto_rows": null,
            "grid_column": null,
            "grid_gap": null,
            "grid_row": null,
            "grid_template_areas": null,
            "grid_template_columns": null,
            "grid_template_rows": null,
            "height": null,
            "justify_content": null,
            "justify_items": null,
            "left": null,
            "margin": null,
            "max_height": null,
            "max_width": null,
            "min_height": null,
            "min_width": null,
            "object_fit": null,
            "object_position": null,
            "order": null,
            "overflow": null,
            "overflow_x": null,
            "overflow_y": null,
            "padding": null,
            "right": null,
            "top": null,
            "visibility": null,
            "width": null
          }
        },
        "a343c29b01504bc3a84a54fb7f39f508": {
          "model_module": "@jupyter-widgets/controls",
          "model_name": "DescriptionStyleModel",
          "model_module_version": "1.5.0",
          "state": {
            "_model_module": "@jupyter-widgets/controls",
            "_model_module_version": "1.5.0",
            "_model_name": "DescriptionStyleModel",
            "_view_count": null,
            "_view_module": "@jupyter-widgets/base",
            "_view_module_version": "1.2.0",
            "_view_name": "StyleView",
            "description_width": ""
          }
        },
        "c65a363779d149a992e7a383e15cc945": {
          "model_module": "@jupyter-widgets/base",
          "model_name": "LayoutModel",
          "model_module_version": "1.2.0",
          "state": {
            "_model_module": "@jupyter-widgets/base",
            "_model_module_version": "1.2.0",
            "_model_name": "LayoutModel",
            "_view_count": null,
            "_view_module": "@jupyter-widgets/base",
            "_view_module_version": "1.2.0",
            "_view_name": "LayoutView",
            "align_content": null,
            "align_items": null,
            "align_self": null,
            "border": null,
            "bottom": null,
            "display": null,
            "flex": null,
            "flex_flow": null,
            "grid_area": null,
            "grid_auto_columns": null,
            "grid_auto_flow": null,
            "grid_auto_rows": null,
            "grid_column": null,
            "grid_gap": null,
            "grid_row": null,
            "grid_template_areas": null,
            "grid_template_columns": null,
            "grid_template_rows": null,
            "height": null,
            "justify_content": null,
            "justify_items": null,
            "left": null,
            "margin": null,
            "max_height": null,
            "max_width": null,
            "min_height": null,
            "min_width": null,
            "object_fit": null,
            "object_position": null,
            "order": null,
            "overflow": null,
            "overflow_x": null,
            "overflow_y": null,
            "padding": null,
            "right": null,
            "top": null,
            "visibility": null,
            "width": null
          }
        },
        "94fa3603a90a435691b2d6936f61f136": {
          "model_module": "@jupyter-widgets/controls",
          "model_name": "ProgressStyleModel",
          "model_module_version": "1.5.0",
          "state": {
            "_model_module": "@jupyter-widgets/controls",
            "_model_module_version": "1.5.0",
            "_model_name": "ProgressStyleModel",
            "_view_count": null,
            "_view_module": "@jupyter-widgets/base",
            "_view_module_version": "1.2.0",
            "_view_name": "StyleView",
            "bar_color": null,
            "description_width": ""
          }
        },
        "928a0eacd3e84c12a6aa1c6773ff3ddc": {
          "model_module": "@jupyter-widgets/base",
          "model_name": "LayoutModel",
          "model_module_version": "1.2.0",
          "state": {
            "_model_module": "@jupyter-widgets/base",
            "_model_module_version": "1.2.0",
            "_model_name": "LayoutModel",
            "_view_count": null,
            "_view_module": "@jupyter-widgets/base",
            "_view_module_version": "1.2.0",
            "_view_name": "LayoutView",
            "align_content": null,
            "align_items": null,
            "align_self": null,
            "border": null,
            "bottom": null,
            "display": null,
            "flex": null,
            "flex_flow": null,
            "grid_area": null,
            "grid_auto_columns": null,
            "grid_auto_flow": null,
            "grid_auto_rows": null,
            "grid_column": null,
            "grid_gap": null,
            "grid_row": null,
            "grid_template_areas": null,
            "grid_template_columns": null,
            "grid_template_rows": null,
            "height": null,
            "justify_content": null,
            "justify_items": null,
            "left": null,
            "margin": null,
            "max_height": null,
            "max_width": null,
            "min_height": null,
            "min_width": null,
            "object_fit": null,
            "object_position": null,
            "order": null,
            "overflow": null,
            "overflow_x": null,
            "overflow_y": null,
            "padding": null,
            "right": null,
            "top": null,
            "visibility": null,
            "width": null
          }
        },
        "011bdf130796430cab2a2e8f9660ba4e": {
          "model_module": "@jupyter-widgets/controls",
          "model_name": "DescriptionStyleModel",
          "model_module_version": "1.5.0",
          "state": {
            "_model_module": "@jupyter-widgets/controls",
            "_model_module_version": "1.5.0",
            "_model_name": "DescriptionStyleModel",
            "_view_count": null,
            "_view_module": "@jupyter-widgets/base",
            "_view_module_version": "1.2.0",
            "_view_name": "StyleView",
            "description_width": ""
          }
        },
        "68c939d8e25445c0a324d4de8ad53bdc": {
          "model_module": "@jupyter-widgets/controls",
          "model_name": "HBoxModel",
          "model_module_version": "1.5.0",
          "state": {
            "_dom_classes": [],
            "_model_module": "@jupyter-widgets/controls",
            "_model_module_version": "1.5.0",
            "_model_name": "HBoxModel",
            "_view_count": null,
            "_view_module": "@jupyter-widgets/controls",
            "_view_module_version": "1.5.0",
            "_view_name": "HBoxView",
            "box_style": "",
            "children": [
              "IPY_MODEL_aaf55a3c3d7849169c19ebbb0ba4c9db",
              "IPY_MODEL_6b0400fe9f8840d7b8d771f56aa5cd7b",
              "IPY_MODEL_849b123afa7a4ab689c316f65b889411"
            ],
            "layout": "IPY_MODEL_8b3188734b9543faa40030d6c566e658"
          }
        },
        "aaf55a3c3d7849169c19ebbb0ba4c9db": {
          "model_module": "@jupyter-widgets/controls",
          "model_name": "HTMLModel",
          "model_module_version": "1.5.0",
          "state": {
            "_dom_classes": [],
            "_model_module": "@jupyter-widgets/controls",
            "_model_module_version": "1.5.0",
            "_model_name": "HTMLModel",
            "_view_count": null,
            "_view_module": "@jupyter-widgets/controls",
            "_view_module_version": "1.5.0",
            "_view_name": "HTMLView",
            "description": "",
            "description_tooltip": null,
            "layout": "IPY_MODEL_91ada7c129cb4a6bad9636c89ef0425d",
            "placeholder": "​",
            "style": "IPY_MODEL_94893822fcfe480dbee8b1972ac99be1",
            "value": "Downloading (…)lve/main/config.json: 100%"
          }
        },
        "6b0400fe9f8840d7b8d771f56aa5cd7b": {
          "model_module": "@jupyter-widgets/controls",
          "model_name": "FloatProgressModel",
          "model_module_version": "1.5.0",
          "state": {
            "_dom_classes": [],
            "_model_module": "@jupyter-widgets/controls",
            "_model_module_version": "1.5.0",
            "_model_name": "FloatProgressModel",
            "_view_count": null,
            "_view_module": "@jupyter-widgets/controls",
            "_view_module_version": "1.5.0",
            "_view_name": "ProgressView",
            "bar_style": "success",
            "description": "",
            "description_tooltip": null,
            "layout": "IPY_MODEL_059ef8b96a144c6abdf329f474708ad6",
            "max": 570,
            "min": 0,
            "orientation": "horizontal",
            "style": "IPY_MODEL_7f2006d3660c4bc9a26d0657b4b6a2f0",
            "value": 570
          }
        },
        "849b123afa7a4ab689c316f65b889411": {
          "model_module": "@jupyter-widgets/controls",
          "model_name": "HTMLModel",
          "model_module_version": "1.5.0",
          "state": {
            "_dom_classes": [],
            "_model_module": "@jupyter-widgets/controls",
            "_model_module_version": "1.5.0",
            "_model_name": "HTMLModel",
            "_view_count": null,
            "_view_module": "@jupyter-widgets/controls",
            "_view_module_version": "1.5.0",
            "_view_name": "HTMLView",
            "description": "",
            "description_tooltip": null,
            "layout": "IPY_MODEL_a0de9509ccb74c32816938ca8ae2ae28",
            "placeholder": "​",
            "style": "IPY_MODEL_4fd049477cb34ec2a214885b7ad97b7a",
            "value": " 570/570 [00:00&lt;00:00, 9.83kB/s]"
          }
        },
        "8b3188734b9543faa40030d6c566e658": {
          "model_module": "@jupyter-widgets/base",
          "model_name": "LayoutModel",
          "model_module_version": "1.2.0",
          "state": {
            "_model_module": "@jupyter-widgets/base",
            "_model_module_version": "1.2.0",
            "_model_name": "LayoutModel",
            "_view_count": null,
            "_view_module": "@jupyter-widgets/base",
            "_view_module_version": "1.2.0",
            "_view_name": "LayoutView",
            "align_content": null,
            "align_items": null,
            "align_self": null,
            "border": null,
            "bottom": null,
            "display": null,
            "flex": null,
            "flex_flow": null,
            "grid_area": null,
            "grid_auto_columns": null,
            "grid_auto_flow": null,
            "grid_auto_rows": null,
            "grid_column": null,
            "grid_gap": null,
            "grid_row": null,
            "grid_template_areas": null,
            "grid_template_columns": null,
            "grid_template_rows": null,
            "height": null,
            "justify_content": null,
            "justify_items": null,
            "left": null,
            "margin": null,
            "max_height": null,
            "max_width": null,
            "min_height": null,
            "min_width": null,
            "object_fit": null,
            "object_position": null,
            "order": null,
            "overflow": null,
            "overflow_x": null,
            "overflow_y": null,
            "padding": null,
            "right": null,
            "top": null,
            "visibility": null,
            "width": null
          }
        },
        "91ada7c129cb4a6bad9636c89ef0425d": {
          "model_module": "@jupyter-widgets/base",
          "model_name": "LayoutModel",
          "model_module_version": "1.2.0",
          "state": {
            "_model_module": "@jupyter-widgets/base",
            "_model_module_version": "1.2.0",
            "_model_name": "LayoutModel",
            "_view_count": null,
            "_view_module": "@jupyter-widgets/base",
            "_view_module_version": "1.2.0",
            "_view_name": "LayoutView",
            "align_content": null,
            "align_items": null,
            "align_self": null,
            "border": null,
            "bottom": null,
            "display": null,
            "flex": null,
            "flex_flow": null,
            "grid_area": null,
            "grid_auto_columns": null,
            "grid_auto_flow": null,
            "grid_auto_rows": null,
            "grid_column": null,
            "grid_gap": null,
            "grid_row": null,
            "grid_template_areas": null,
            "grid_template_columns": null,
            "grid_template_rows": null,
            "height": null,
            "justify_content": null,
            "justify_items": null,
            "left": null,
            "margin": null,
            "max_height": null,
            "max_width": null,
            "min_height": null,
            "min_width": null,
            "object_fit": null,
            "object_position": null,
            "order": null,
            "overflow": null,
            "overflow_x": null,
            "overflow_y": null,
            "padding": null,
            "right": null,
            "top": null,
            "visibility": null,
            "width": null
          }
        },
        "94893822fcfe480dbee8b1972ac99be1": {
          "model_module": "@jupyter-widgets/controls",
          "model_name": "DescriptionStyleModel",
          "model_module_version": "1.5.0",
          "state": {
            "_model_module": "@jupyter-widgets/controls",
            "_model_module_version": "1.5.0",
            "_model_name": "DescriptionStyleModel",
            "_view_count": null,
            "_view_module": "@jupyter-widgets/base",
            "_view_module_version": "1.2.0",
            "_view_name": "StyleView",
            "description_width": ""
          }
        },
        "059ef8b96a144c6abdf329f474708ad6": {
          "model_module": "@jupyter-widgets/base",
          "model_name": "LayoutModel",
          "model_module_version": "1.2.0",
          "state": {
            "_model_module": "@jupyter-widgets/base",
            "_model_module_version": "1.2.0",
            "_model_name": "LayoutModel",
            "_view_count": null,
            "_view_module": "@jupyter-widgets/base",
            "_view_module_version": "1.2.0",
            "_view_name": "LayoutView",
            "align_content": null,
            "align_items": null,
            "align_self": null,
            "border": null,
            "bottom": null,
            "display": null,
            "flex": null,
            "flex_flow": null,
            "grid_area": null,
            "grid_auto_columns": null,
            "grid_auto_flow": null,
            "grid_auto_rows": null,
            "grid_column": null,
            "grid_gap": null,
            "grid_row": null,
            "grid_template_areas": null,
            "grid_template_columns": null,
            "grid_template_rows": null,
            "height": null,
            "justify_content": null,
            "justify_items": null,
            "left": null,
            "margin": null,
            "max_height": null,
            "max_width": null,
            "min_height": null,
            "min_width": null,
            "object_fit": null,
            "object_position": null,
            "order": null,
            "overflow": null,
            "overflow_x": null,
            "overflow_y": null,
            "padding": null,
            "right": null,
            "top": null,
            "visibility": null,
            "width": null
          }
        },
        "7f2006d3660c4bc9a26d0657b4b6a2f0": {
          "model_module": "@jupyter-widgets/controls",
          "model_name": "ProgressStyleModel",
          "model_module_version": "1.5.0",
          "state": {
            "_model_module": "@jupyter-widgets/controls",
            "_model_module_version": "1.5.0",
            "_model_name": "ProgressStyleModel",
            "_view_count": null,
            "_view_module": "@jupyter-widgets/base",
            "_view_module_version": "1.2.0",
            "_view_name": "StyleView",
            "bar_color": null,
            "description_width": ""
          }
        },
        "a0de9509ccb74c32816938ca8ae2ae28": {
          "model_module": "@jupyter-widgets/base",
          "model_name": "LayoutModel",
          "model_module_version": "1.2.0",
          "state": {
            "_model_module": "@jupyter-widgets/base",
            "_model_module_version": "1.2.0",
            "_model_name": "LayoutModel",
            "_view_count": null,
            "_view_module": "@jupyter-widgets/base",
            "_view_module_version": "1.2.0",
            "_view_name": "LayoutView",
            "align_content": null,
            "align_items": null,
            "align_self": null,
            "border": null,
            "bottom": null,
            "display": null,
            "flex": null,
            "flex_flow": null,
            "grid_area": null,
            "grid_auto_columns": null,
            "grid_auto_flow": null,
            "grid_auto_rows": null,
            "grid_column": null,
            "grid_gap": null,
            "grid_row": null,
            "grid_template_areas": null,
            "grid_template_columns": null,
            "grid_template_rows": null,
            "height": null,
            "justify_content": null,
            "justify_items": null,
            "left": null,
            "margin": null,
            "max_height": null,
            "max_width": null,
            "min_height": null,
            "min_width": null,
            "object_fit": null,
            "object_position": null,
            "order": null,
            "overflow": null,
            "overflow_x": null,
            "overflow_y": null,
            "padding": null,
            "right": null,
            "top": null,
            "visibility": null,
            "width": null
          }
        },
        "4fd049477cb34ec2a214885b7ad97b7a": {
          "model_module": "@jupyter-widgets/controls",
          "model_name": "DescriptionStyleModel",
          "model_module_version": "1.5.0",
          "state": {
            "_model_module": "@jupyter-widgets/controls",
            "_model_module_version": "1.5.0",
            "_model_name": "DescriptionStyleModel",
            "_view_count": null,
            "_view_module": "@jupyter-widgets/base",
            "_view_module_version": "1.2.0",
            "_view_name": "StyleView",
            "description_width": ""
          }
        }
      }
    }
  },
  "nbformat": 4,
  "nbformat_minor": 0
}