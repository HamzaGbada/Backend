{
  "cells": [
    {
      "cell_type": "markdown",
      "metadata": {
        "id": "view-in-github",
        "colab_type": "text"
      },
      "source": [
        "<a href=\"https://colab.research.google.com/github/HamzaGbada/Backend/blob/master/Name_entity_Recognition.ipynb\" target=\"_parent\"><img src=\"https://colab.research.google.com/assets/colab-badge.svg\" alt=\"Open In Colab\"/></a>"
      ]
    },
    {
      "cell_type": "code",
      "execution_count": null,
      "metadata": {
        "colab": {
          "base_uri": "https://localhost:8080/"
        },
        "id": "MNRIAIoApBgS",
        "outputId": "7ac980dd-91b5-4a72-c34f-8951c0be8b6c"
      },
      "outputs": [
        {
          "name": "stdout",
          "output_type": "stream",
          "text": [
            "cpu\n"
          ]
        }
      ],
      "source": [
        "import torch\n",
        "device = torch.device(\"cuda:0\" if torch.cuda.is_available() else \"cpu\")\n",
        "print(device)"
      ]
    },
    {
      "cell_type": "code",
      "execution_count": null,
      "metadata": {
        "id": "CfUQ2bE5o_1U"
      },
      "outputs": [],
      "source": [
        "!mkdir sroie/\n",
        "!unzip /content/drive/MyDrive/SROIE2019.zip -d sroie/"
      ]
    },
    {
      "cell_type": "code",
      "execution_count": null,
      "metadata": {
        "id": "xw4clJX3o8jc"
      },
      "outputs": [],
      "source": [
        "import json\n",
        "import os\n",
        "from difflib import SequenceMatcher\n",
        "from pathlib import Path\n",
        "import numpy as np\n",
        "import pandas as pd\n",
        "import warnings\n",
        "warnings.filterwarnings(\"ignore\", category=FutureWarning)\n",
        "\n",
        "def read_bbox_and_words(path: Path):\n",
        "    bbox_and_words_list = []\n",
        "\n",
        "    with open(path, 'r', errors='ignore') as f:\n",
        "        for line in f.read().splitlines():\n",
        "            if len(line) == 0:\n",
        "                continue\n",
        "\n",
        "            split_lines = line.split(\",\")\n",
        "\n",
        "            bbox = np.array(split_lines[0:8], dtype=np.int32)\n",
        "            text = \",\".join(split_lines[8:])\n",
        "\n",
        "            # From the splited line we save (filename, [bounding box points], text line).\n",
        "            # The filename will be useful in the future\n",
        "            bbox_and_words_list.append([path.stem, *bbox, text])\n",
        "\n",
        "    dataframe = pd.DataFrame(bbox_and_words_list,\n",
        "                             columns=['filename', 'x0', 'y0', 'x1', 'y1', 'x2', 'y2', 'x3', 'y3', 'line'],\n",
        "                             dtype=np.int16)\n",
        "    dataframe = dataframe.drop(columns=['x1', 'y1', 'x3', 'y3'])\n",
        "\n",
        "    return dataframe\n",
        "\n",
        "\n",
        "def read_entities(path: Path):\n",
        "    with open(path, 'r') as f:\n",
        "        data = json.load(f)\n",
        "\n",
        "    dataframe = pd.DataFrame([data])\n",
        "    return dataframe\n",
        "\n",
        "\n",
        "# Assign a label to the line by checking the similarity of the line and all the entities\n",
        "def assign_line_label(line: str, entities: pd.DataFrame):\n",
        "    line_set = line.replace(\",\", \"\").strip().split()\n",
        "    for i, column in enumerate(entities):\n",
        "        entity_values = entities.iloc[0, i].replace(\",\", \"\").strip()\n",
        "        entity_set = entity_values.split()\n",
        "\n",
        "        matches_count = 0\n",
        "        for l in line_set:\n",
        "            if any(SequenceMatcher(a=l, b=b).ratio() > 0.8 for b in entity_set):\n",
        "                matches_count += 1\n",
        "\n",
        "            if (column.upper() == 'ADDRESS' and (matches_count / len(line_set)) >= 0.5) or \\\n",
        "                    (column.upper() != 'ADDRESS' and (matches_count == len(line_set))) or \\\n",
        "                    matches_count == len(entity_set):\n",
        "                return column.upper()\n",
        "\n",
        "    return \"O\"\n",
        "\n",
        "\n",
        "def assign_labels(words: pd.DataFrame, entities: pd.DataFrame):\n",
        "    max_area = {\"TOTAL\": (0, -1), \"DATE\": (0, -1)}  # Value, index\n",
        "    already_labeled = {\"TOTAL\": False,\n",
        "                       \"DATE\": False,\n",
        "                       \"ADDRESS\": False,\n",
        "                       \"COMPANY\": False,\n",
        "                       \"O\": False\n",
        "                       }\n",
        "\n",
        "    # Go through every line in $words and assign it a label\n",
        "    labels = []\n",
        "    for i, line in enumerate(words['line']):\n",
        "        label = assign_line_label(line, entities)\n",
        "\n",
        "        already_labeled[label] = True\n",
        "        if (label == \"ADDRESS\" and already_labeled[\"TOTAL\"]) or \\\n",
        "                (label == \"COMPANY\" and (already_labeled[\"DATE\"] or already_labeled[\"TOTAL\"])):\n",
        "            label = \"O\"\n",
        "\n",
        "        # Assign to the largest bounding box\n",
        "        if label in [\"TOTAL\", \"DATE\"]:\n",
        "            x0_loc = words.columns.get_loc(\"x0\")\n",
        "            bbox = words.iloc[i, x0_loc:x0_loc + 4].to_list()\n",
        "            area = (bbox[2] - bbox[0]) + (bbox[3] - bbox[1])\n",
        "\n",
        "            if max_area[label][0] < area:\n",
        "                max_area[label] = (area, i)\n",
        "\n",
        "            label = \"O\"\n",
        "\n",
        "        labels.append(label)\n",
        "\n",
        "    labels[max_area[\"DATE\"][1]] = \"DATE\"\n",
        "    labels[max_area[\"TOTAL\"][1]] = \"TOTAL\"\n",
        "\n",
        "    words[\"label\"] = labels\n",
        "    return words\n"
      ]
    },
    {
      "cell_type": "code",
      "execution_count": null,
      "metadata": {
        "id": "iwUoFiuio53i"
      },
      "outputs": [],
      "source": [
        "import glob\n",
        "import os\n",
        "from pathlib import Path\n",
        "from typing import Any, Dict, List, Tuple, Optional, Callable\n",
        "\n",
        "import numpy as np\n",
        "import torch\n",
        "from torch.utils.data import Dataset"
      ]
    },
    {
      "cell_type": "code",
      "execution_count": null,
      "metadata": {
        "id": "vsurXcSKpPbP"
      },
      "outputs": [],
      "source": [
        "!mkdir sroie_csv/"
      ]
    },
    {
      "cell_type": "code",
      "execution_count": null,
      "metadata": {
        "id": "5cLRkhcbF5Mf"
      },
      "outputs": [],
      "source": []
    },
    {
      "cell_type": "code",
      "execution_count": null,
      "metadata": {
        "id": "y6bcucOnoxNw"
      },
      "outputs": [],
      "source": [
        "class CustomDataset(Dataset):\n",
        "    def __init__(self, train):\n",
        "        self.train = train\n",
        "        self.train_path = '/content/sroie/SROIE2019/train/'\n",
        "        if not self.train:\n",
        "          self.train_path = '/content/sroie/SROIE2019/test/'\n",
        "        \n",
        "        self.data = []\n",
        "        bbox_train_path = self.train_path + \"box/\"\n",
        "        entities_train_path = self.train_path + \"entities/\"\n",
        "\n",
        "        L = []\n",
        "        d = {\n",
        "             \"address_mean\":0,\n",
        "             \"company_mean\":0,\n",
        "             \"date_mean\":0,\n",
        "             \"total_mean\":0\n",
        "        }\n",
        "        address = []\n",
        "        company = []\n",
        "        date = []\n",
        "        total = []\n",
        "        # Train Loop\n",
        "        train_data = []\n",
        "        bbox = list()\n",
        "        for filename in os.listdir(bbox_train_path):\n",
        "            bbox_file_path = bbox_train_path + filename\n",
        "            entities_file_path = entities_train_path + filename\n",
        "\n",
        "            bbox = read_bbox_and_words(path=Path(bbox_file_path))\n",
        "            entities = read_entities(path=Path(entities_file_path))\n",
        "\n",
        "            bbox_labeled = assign_labels(bbox, entities)\n",
        "            bbox.append(bbox_labeled)\n",
        "            bbox_labeled.to_csv(\"sroie_csv/\"+filename[:-4]+\".csv\")\n",
        "            s = \"\"\n",
        "            L = []\n",
        "            for i in range(len(bbox_labeled[\"line\"])):\n",
        "              s+=bbox_labeled[\"line\"][i]+\"\\n\"\n",
        "\n",
        "              if bbox_labeled[\"label\"][i] != 'O':\n",
        "                L.append((len(s)-len(bbox_labeled[\"line\"][i])-1, len(s)-2, bbox_labeled[\"label\"][i]))\n",
        "\n",
        "            train_data.append((s, {\"entities\": L}))\n",
        "        print(bbox_labeled.head())\n",
        "        print(train_data[-1])\n",
        "        self.data = train_data\n",
        "        print(type(bbox))\n",
        "        df = pd.concat([bbox])\n",
        "        df.to_csv(\"srroie_\"+str(self.train)+\".csv\")\n",
        "\n",
        "\n",
        "    def __len__(self):\n",
        "        return len(self.data)\n",
        "    def __getitem__(self, idx):\n",
        "        return self.data[idx]"
      ]
    },
    {
      "cell_type": "code",
      "execution_count": null,
      "metadata": {
        "colab": {
          "base_uri": "https://localhost:8080/"
        },
        "id": "PCvbJnTFpK93",
        "outputId": "1d52cb66-9cac-4489-9c40-4416d16f9cd1"
      },
      "outputs": [
        {
          "output_type": "stream",
          "name": "stdout",
          "text": [
            "       filename   x0   y0    x2   y2                               line  \\\n",
            "0  X51005361946  912  372  1216  400             MR. D.I.Y. (M) SDN BHD   \n",
            "1  X51005361946  943  398  1187  429                 (CO REG :860671-D)   \n",
            "2  X51005361946  830  427  1283  457  LOT 1851-A & 1851-B, JALAN KPB 6,   \n",
            "3  X51005361946  846  456  1268  484    KAWASAN PERINDUSTRIAN BALAKONG,   \n",
            "4  X51005361946  860  483  1272  511     43300 SERI KEMBANGAN, SELANGOR   \n",
            "\n",
            "     label  \n",
            "0  COMPANY  \n",
            "1        O  \n",
            "2  ADDRESS  \n",
            "3  ADDRESS  \n",
            "4  ADDRESS  \n",
            "('MR. D.I.Y. (M) SDN BHD\\n(CO REG :860671-D)\\nLOT 1851-A & 1851-B, JALAN KPB 6,\\nKAWASAN PERINDUSTRIAN BALAKONG,\\n43300 SERI KEMBANGAN, SELANGOR\\n(GST ID NO :000306020352)\\n(TESCO MUTIARA DAMANSARA)\\nTAX INVOICE\\nSOURING PAD 1018-4 4S\\n*S\\nWA03 - 24/240\\n9555221301081\\n4 X\\nEXCHANGE ARE ALLOWED WITHIN\\n2.80\\n11.20\\nSCISSOR G/FISH\\n*S\\nAD51 - 24/360\\n9064422\\n2 X\\nOPERATOR TMDC - SAH BIJAY KUMAR\\n1.50\\n3.00\\nTRAILING SKT 5GN+SP 3X1.25MM CABLE 2\\n*S\\nWA27 - 20\\n9553114461966\\n1 X 22.90\\nSTRICTLY NO CASH REFUND .\\n7 DAYS WITH RECEIPT .\\n22.90\\nITEM(S) : 3\\nQTY(S) : 7\\nTOTAL INCL. GST@6%\\nRM 37.10\\nCASH\\nRM 50.00\\nCHANGE\\nRM 12.90\\nGST SUMMARY\\nAMT(RM)\\nTAX(RM)\\nGST S@6%\\n35.00\\n2.10\\n14-03-18 21:49 SH03 ZJ20\\nT1 R000418193\\n', {'entities': [(0, 21, 'COMPANY'), (42, 74, 'ADDRESS'), (76, 106, 'ADDRESS'), (108, 137, 'ADDRESS'), (555, 562, 'TOTAL'), (642, 665, 'DATE')]})\n",
            "<class 'pandas.core.frame.DataFrame'>\n"
          ]
        }
      ],
      "source": [
        "dataset_train = CustomDataset(True)\n",
        "# dataset_test = CustomDataset(False)"
      ]
    },
    {
      "cell_type": "code",
      "execution_count": null,
      "metadata": {
        "colab": {
          "base_uri": "https://localhost:8080/"
        },
        "id": "itUq67MNpo-2",
        "outputId": "ee446a78-ffc3-4a52-bbce-7d775b719980"
      },
      "outputs": [
        {
          "data": {
            "text/plain": [
              "list"
            ]
          },
          "execution_count": 10,
          "metadata": {},
          "output_type": "execute_result"
        }
      ],
      "source": [
        "type(dataset_train[:])"
      ]
    },
    {
      "cell_type": "code",
      "execution_count": null,
      "metadata": {
        "id": "5mEkjWqkqBDQ"
      },
      "outputs": [],
      "source": [
        "!pip install plac"
      ]
    },
    {
      "cell_type": "code",
      "execution_count": null,
      "metadata": {
        "id": "B5wHVY_DI3l9"
      },
      "outputs": [],
      "source": [
        "('SIZZLING STONEGRILL DIMILIKI OLEH : DOVE HOLDINGS SDN BHD REG NO : 91694-X LOT S25, AEON TEBRAU CITY JUSCO NO 1, JLN DESA TEBRAU, TMN DESA TEBRAU, 81100 JOHOR BAHRU, JOHOR +607-357 1177 GST ID: 0013 7941 8112 TAX INVOICE NO 15 80292 DATE: 26/05/2018 8:53:27 PM CASHIER: C001 TAX QTY CODE/DESC UNIT PRICE TOTAL RM SR 2 6.10 12.20 07 CREAM OF MUSHROOM SOUP SR 1 12.90 12.90 101 NOODLE SOUP O.T.ROCK SR 1 14.90 14.90 107 SPICY T/S SPAGHETTI SR 2 34.90 69.80 40 SIRLOIN STEAK SR 1 19.90 19.90 51 GRILLED MARINATED SR 1 18.90 18.90 54 GRILLED CHICKEN CHOP SR 1 6.90 6.90 99 ICED LEMON TEA TOTAL AMOUNT : 155.50 GST 6% 9.31 ROUNDING ADJ : -0.01 TOTAL AMOUNT: 164.80 TOTAL: RM 164.80 TYPE 7 QTY: 9 26/05/2018 8:53:37 GST SUMMARY AMOUNT RM TAX RM SR 6% 155.50 9.31 ZR 0% 0.00 0.00 ... XPOSMART WIFIPOS SINCE 1985 ... ', \n",
        " {'entities': [(20, 57, 'COMPANY'), (75, 106, 'ADDRESS'), (107, 146, 'ADDRESS'), (147, 171, 'ADDRESS'), (233, 260, 'DATE'), (358, 359, 'ADDRESS'), (400, 401, 'ADDRESS'), (475, 476, 'ADDRESS'), (513, 514, 'ADDRESS'), (554, 555, 'ADDRESS'), (667, 676, 'TOTAL')]})"
      ]
    },
    {
      "cell_type": "code",
      "execution_count": null,
      "metadata": {
        "id": "U1TYN_4JqnIE"
      },
      "outputs": [],
      "source": [
        "\n",
        "\n",
        "('AEON CO. (M) BHD (126926-H) 3RD FLR, AEON TAMAN MALURI SC JLN JEJAKA, TAMAN MALURI CHERAS, 55100 KUALA LUMPUR GST ID : 002017394688 SHOPPING HOURS SUN-THU:1000 HRS - 2200 HRS FRI-SAT:1000 HRS - 2300 HRS 1X 000006142384 7.51SR MUNCHY`S CREAM 3X 000005709410 18.60SR TOPVALU BESTPRI @6.20 SUB-TOTAL 26.11 TOTAL SALES INCL GST 26.11 ROUNDING ADJ -0.01 TOTAL AFTER ADJ INCL GST 26.10 CASH 50.00 ITEM COUNT 4 CHANGE AMT 23.90 INVOICE NO: 2018042810080010325 GST SUMMARY AMOUNT TAX SR @ 6% 24.63 1.48 TOTAL 24.63 1.48 28/04/2018 15:35 1008 001 0010325 0304662 HEMADAS A/L BALOO AEON BANDAR PUCHONG TEL 1-300-80-AEON (2366) THANK YOU FOR YOUR PATRONAGE PLEASE COME AGAIN ', \n",
        " {'entities': [(1, 28, 'COMPANY'), (29, 58, 'ADDRESS'), (59, 83, 'ADDRESS'), (84, 110, 'ADDRESS'), (375, 380, 'TOTAL'), (513, 529, 'DATE')]})\n"
      ]
    },
    {
      "cell_type": "code",
      "execution_count": null,
      "metadata": {
        "colab": {
          "base_uri": "https://localhost:8080/"
        },
        "id": "YIYjpTU18JHz",
        "outputId": "7fea5a05-b61c-461a-ac8a-b229c1f41b0d"
      },
      "outputs": [
        {
          "name": "stderr",
          "output_type": "stream",
          "text": [
            "/usr/local/lib/python3.9/dist-packages/torch/cuda/__init__.py:497: UserWarning: Can't initialize NVML\n",
            "  warnings.warn(\"Can't initialize NVML\")\n"
          ]
        }
      ],
      "source": [
        "from __future__ import unicode_literals, print_function\n",
        "import plac\n",
        "import random\n",
        "from pathlib import Path\n",
        "import spacy\n",
        "from tqdm import tqdm "
      ]
    },
    {
      "cell_type": "code",
      "execution_count": null,
      "metadata": {
        "id": "YwCpL8qjK2EI"
      },
      "outputs": [],
      "source": [
        "!mkdir ner/"
      ]
    },
    {
      "cell_type": "code",
      "execution_count": null,
      "metadata": {
        "id": "HiKFCmNn8JEM"
      },
      "outputs": [],
      "source": [
        "model = None\n",
        "output_dir=Path(\"ner/\")\n",
        "n_iter=100"
      ]
    },
    {
      "cell_type": "code",
      "execution_count": null,
      "metadata": {
        "colab": {
          "base_uri": "https://localhost:8080/"
        },
        "id": "ZH0qVBTm8JBg",
        "outputId": "1e500ffa-f78c-4736-e4e2-5b0180e332db"
      },
      "outputs": [
        {
          "name": "stdout",
          "output_type": "stream",
          "text": [
            "Created blank 'en' model\n"
          ]
        }
      ],
      "source": [
        "if model is not None:\n",
        "    nlp = spacy.load(model)  \n",
        "    print(\"Loaded model '%s'\" % model)\n",
        "else:\n",
        "    nlp = spacy.blank('en')  \n",
        "    print(\"Created blank 'en' model\")\n",
        "    "
      ]
    },
    {
      "cell_type": "code",
      "execution_count": null,
      "metadata": {
        "id": "mFsqzc9a8I-v"
      },
      "outputs": [],
      "source": [
        "if 'ner' not in nlp.pipe_names:\n",
        "    # ner = nlp.create_pipe('ner')\n",
        "    nlp.add_pipe('ner', last=True)\n",
        "else:\n",
        "    ner = nlp.get_pipe('ner')"
      ]
    },
    {
      "cell_type": "code",
      "execution_count": null,
      "metadata": {
        "id": "C0klG9MMqZL_"
      },
      "outputs": [],
      "source": [
        "TRAIN_DATA = dataset_train[:]\n",
        "TEST_DATA = dataset_test[:]"
      ]
    },
    {
      "cell_type": "code",
      "execution_count": null,
      "metadata": {
        "id": "cSiS7ajj8Yl-"
      },
      "outputs": [],
      "source": [
        "from spacy.training.example import Example\n",
        "\n",
        "for _, annotations in TRAIN_DATA:\n",
        "    for ent in annotations.get('entities'):\n",
        "        ner.add_label(ent[2])\n",
        "\n",
        "other_pipes = [pipe for pipe in nlp.pipe_names if pipe != 'ner']\n",
        "with nlp.disable_pipes(*other_pipes):  # only train NER\n",
        "    optimizer = nlp.begin_training()\n",
        "    for itn in range(n_iter):\n",
        "        random.shuffle(TRAIN_DATA)\n",
        "        losses = {}\n",
        "        for text, annotations in tqdm(TRAIN_DATA):\n",
        "          doc = nlp.make_doc(text)\n",
        "          example = Example.from_dict(doc, annotations)\n",
        "          # Update the model\n",
        "          nlp.update([example], losses=losses, drop=0.5, sgd=optimizer,)\n",
        "          # nlp.update(\n",
        "          #     [text],  \n",
        "          #     [annotations],  \n",
        "          #     drop=0.5,  \n",
        "          #     sgd=optimizer,\n",
        "          #     losses=losses)\n",
        "        print(losses)"
      ]
    },
    {
      "cell_type": "code",
      "execution_count": null,
      "metadata": {
        "colab": {
          "background_save": true
        },
        "id": "sKB9bUqH8dlt"
      },
      "outputs": [],
      "source": [
        "for text, _ in TRAIN_DATA:\n",
        "    doc = nlp(text)\n",
        "    print('Entities', [(ent.text, ent.label_) for ent in doc.ents])\n",
        "    print('Tokens', [(t.text, t.ent_type_, t.ent_iob) for t in doc])"
      ]
    },
    {
      "cell_type": "code",
      "execution_count": null,
      "metadata": {
        "colab": {
          "background_save": true
        },
        "id": "RlzzFE738fsN",
        "outputId": "e3530300-bc6c-4864-a471-78d8b5cbbfe7"
      },
      "outputs": [
        {
          "name": "stdout",
          "output_type": "stream",
          "text": [
            "Saved model to ner\n"
          ]
        }
      ],
      "source": [
        "if output_dir is not None:\n",
        "    output_dir = Path(output_dir)\n",
        "    if not output_dir.exists():\n",
        "        output_dir.mkdir()\n",
        "    nlp.to_disk(output_dir)\n",
        "    print(\"Saved model to\", output_dir)   "
      ]
    },
    {
      "cell_type": "code",
      "execution_count": null,
      "metadata": {
        "colab": {
          "background_save": true
        },
        "id": "IWvhiMzC8h5N"
      },
      "outputs": [],
      "source": [
        "print(\"Loading from\", output_dir)\n",
        "nlp2 = spacy.load(output_dir)\n",
        "for text, _ in TRAIN_DATA:\n",
        "    doc = nlp2(text)\n",
        "    print('Entities', [(ent.text, ent.label_) for ent in doc.ents])\n",
        "    print('Tokens', [(t.text, t.ent_type_, t.ent_iob) for t in doc])"
      ]
    },
    {
      "cell_type": "code",
      "source": [],
      "metadata": {
        "id": "OBe4iP9wpnVy"
      },
      "execution_count": null,
      "outputs": []
    },
    {
      "cell_type": "code",
      "execution_count": null,
      "metadata": {
        "id": "hZyHwqCXsJlv",
        "colab": {
          "base_uri": "https://localhost:8080/"
        },
        "outputId": "8839f8a8-243d-4b53-bb28-dd9c546846ae"
      },
      "outputs": [
        {
          "output_type": "stream",
          "name": "stdout",
          "text": [
            "<class 'pandas.core.frame.DataFrame'>\n",
            "RangeIndex: 48 entries, 0 to 47\n",
            "Data columns (total 8 columns):\n",
            " #   Column      Non-Null Count  Dtype \n",
            "---  ------      --------------  ----- \n",
            " 0   Unnamed: 0  48 non-null     int64 \n",
            " 1   filename    48 non-null     object\n",
            " 2   x0          48 non-null     int64 \n",
            " 3   y0          48 non-null     int64 \n",
            " 4   x2          48 non-null     int64 \n",
            " 5   y2          48 non-null     int64 \n",
            " 6   line        48 non-null     object\n",
            " 7   label       48 non-null     object\n",
            "dtypes: int64(5), object(3)\n",
            "memory usage: 3.1+ KB\n"
          ]
        }
      ],
      "source": [
        "import pandas as pd\n",
        "datapath = '/content/srroie_True.csv'\n",
        "df = pd.read_csv(datapath)\n",
        "df.info()"
      ]
    },
    {
      "cell_type": "code",
      "source": [
        "!ls sroie_csv/"
      ],
      "metadata": {
        "id": "n8INeswQsWw5"
      },
      "execution_count": null,
      "outputs": []
    },
    {
      "cell_type": "code",
      "source": [
        "path = 'sroie_csv/' # use your path\n",
        "all_files = glob.glob(os.path.join(path , \"*.csv\"))\n",
        "\n",
        "li = []\n",
        "\n",
        "for filename in all_files:\n",
        "    df = pd.read_csv(filename, index_col=None, header=0)\n",
        "    li.append(df)\n",
        "\n",
        "frame = pd.concat(li, axis=0, ignore_index=True)\n",
        "\n",
        "frame.to_csv(\"bob.csv\")"
      ],
      "metadata": {
        "id": "PpeYqapXyaq6"
      },
      "execution_count": null,
      "outputs": []
    },
    {
      "cell_type": "code",
      "source": [
        "import pandas as pd\n",
        "datapath = 'bob.csv'\n",
        "df = pd.read_csv(datapath)\n",
        "df.head()"
      ],
      "metadata": {
        "id": "t9HuFsjU4hJc"
      },
      "execution_count": null,
      "outputs": []
    },
    {
      "cell_type": "code",
      "source": [
        "df.groupby(['label']).size().plot.bar()\n"
      ],
      "metadata": {
        "colab": {
          "base_uri": "https://localhost:8080/",
          "height": 336
        },
        "id": "4IhgK3no784f",
        "outputId": "93c12983-a638-4443-e3e8-9f010216c0f4"
      },
      "execution_count": null,
      "outputs": [
        {
          "output_type": "execute_result",
          "data": {
            "text/plain": [
              "<Axes: xlabel='label'>"
            ]
          },
          "metadata": {},
          "execution_count": 86
        },
        {
          "output_type": "display_data",
          "data": {
            "text/plain": [
              "<Figure size 432x288 with 1 Axes>"
            ],
            "image/png": "[encoded data removed]"
          },
          "metadata": {
            "needs_background": "light"
          }
        }
      ]
    },
    {
      "cell_type": "markdown",
      "source": [
        "https://towardsdatascience.com/named-entity-recognition-with-bert-in-pytorch-a454405e0b6a\n",
        "\n",
        "https://towardsdatascience.com/text-classification-with-bert-in-pytorch-887965e5820f\n",
        "\n",
        "https://towardsdatascience.com/custom-named-entity-recognition-with-bert-cf1fd4510804\n",
        "\n",
        "https://github.com/Kanishkparganiha/Named-Entity-Recognition-using-BERT-with-PyTorch\n",
        "\n",
        "https://github.com/sandipan/Blogs/blob/master/2020-09-08_Named-Entity-Recognition--NER--on-Twitter-using-Bi-directional-LSTM-with-tensorflow-in-python-8b85cccc649c.md\n",
        "\n",
        "https://sandipanweb.wordpress.com/2020/08/30/named-entity-recognition-ner-on-twitter-with-bi-directional-lstm-with-tensorflow-in-python/\n",
        "\n",
        "https://pythonalgos.com/using-nlp-to-get-insights-from-twitter/\n",
        "\n",
        "https://www.analyticsvidhya.com/blog/2022/06/custom-named-entity-recognition-using-spacy-v3/"
      ],
      "metadata": {
        "id": "-Kgwxfi3AqgT"
      }
    },
    {
      "cell_type": "markdown",
      "source": [
        "# NER with BERT"
      ],
      "metadata": {
        "id": "3zfG8xDL4Xxi"
      }
    },
    {
      "cell_type": "markdown",
      "source": [],
      "metadata": {
        "id": "4ikrEOQr4XrR"
      }
    },
    {
      "cell_type": "code",
      "source": [
        "!mkdir sroie/\n",
        "!unzip /content/drive/MyDrive/SROIE2019.zip -d sroie/"
      ],
      "metadata": {
        "id": "UmUmzTpyIgak"
      },
      "execution_count": null,
      "outputs": []
    },
    {
      "cell_type": "code",
      "source": [
        "import json\n",
        "import os\n",
        "from difflib import SequenceMatcher\n",
        "from pathlib import Path\n",
        "import numpy as np\n",
        "import pandas as pd\n",
        "import warnings\n",
        "warnings.filterwarnings(\"ignore\", category=FutureWarning)\n",
        "\n",
        "def read_bbox_and_words(path: Path):\n",
        "    bbox_and_words_list = []\n",
        "\n",
        "    with open(path, 'r', errors='ignore') as f:\n",
        "        for line in f.read().splitlines():\n",
        "            if len(line) == 0:\n",
        "                continue\n",
        "\n",
        "            split_lines = line.split(\",\")\n",
        "\n",
        "            bbox = np.array(split_lines[0:8], dtype=np.int32)\n",
        "            text = \",\".join(split_lines[8:])\n",
        "\n",
        "            # From the splited line we save (filename, [bounding box points], text line).\n",
        "            # The filename will be useful in the future\n",
        "            bbox_and_words_list.append([path.stem, *bbox, text])\n",
        "\n",
        "    dataframe = pd.DataFrame(bbox_and_words_list,\n",
        "                             columns=['filename', 'x0', 'y0', 'x1', 'y1', 'x2', 'y2', 'x3', 'y3', 'line'],\n",
        "                             dtype=np.int16)\n",
        "    dataframe = dataframe.drop(columns=['x1', 'y1', 'x3', 'y3'])\n",
        "\n",
        "    return dataframe\n",
        "\n",
        "\n",
        "def read_entities(path: Path):\n",
        "    with open(path, 'r') as f:\n",
        "        data = json.load(f)\n",
        "\n",
        "    dataframe = pd.DataFrame([data])\n",
        "    return dataframe\n",
        "\n",
        "\n",
        "# Assign a label to the line by checking the similarity of the line and all the entities\n",
        "def assign_line_label(line: str, entities: pd.DataFrame):\n",
        "    line_set = line.replace(\",\", \"\").strip().split()\n",
        "    for i, column in enumerate(entities):\n",
        "        entity_values = entities.iloc[0, i].replace(\",\", \"\").strip()\n",
        "        entity_set = entity_values.split()\n",
        "\n",
        "        matches_count = 0\n",
        "        for l in line_set:\n",
        "            if any(SequenceMatcher(a=l, b=b).ratio() > 0.8 for b in entity_set):\n",
        "                matches_count += 1\n",
        "\n",
        "            if (column.upper() == 'ADDRESS' and (matches_count / len(line_set)) >= 0.5) or \\\n",
        "                    (column.upper() != 'ADDRESS' and (matches_count == len(line_set))) or \\\n",
        "                    matches_count == len(entity_set):\n",
        "                return column.upper()\n",
        "\n",
        "    return \"O\"\n",
        "\n",
        "\n",
        "def assign_labels(words: pd.DataFrame, entities: pd.DataFrame):\n",
        "    max_area = {\"TOTAL\": (0, -1), \"DATE\": (0, -1)}  # Value, index\n",
        "    already_labeled = {\"TOTAL\": False,\n",
        "                       \"DATE\": False,\n",
        "                       \"ADDRESS\": False,\n",
        "                       \"COMPANY\": False,\n",
        "                       \"O\": False\n",
        "                       }\n",
        "\n",
        "    # Go through every line in $words and assign it a label\n",
        "    labels = []\n",
        "    for i, line in enumerate(words['line']):\n",
        "        label = assign_line_label(line, entities)\n",
        "\n",
        "        already_labeled[label] = True\n",
        "        if (label == \"ADDRESS\" and already_labeled[\"TOTAL\"]) or \\\n",
        "                (label == \"COMPANY\" and (already_labeled[\"DATE\"] or already_labeled[\"TOTAL\"])):\n",
        "            label = \"O\"\n",
        "\n",
        "        # Assign to the largest bounding box\n",
        "        if label in [\"TOTAL\", \"DATE\"]:\n",
        "            x0_loc = words.columns.get_loc(\"x0\")\n",
        "            bbox = words.iloc[i, x0_loc:x0_loc + 4].to_list()\n",
        "            area = (bbox[2] - bbox[0]) + (bbox[3] - bbox[1])\n",
        "\n",
        "            if max_area[label][0] < area:\n",
        "                max_area[label] = (area, i)\n",
        "\n",
        "            label = \"O\"\n",
        "\n",
        "        labels.append(label)\n",
        "\n",
        "    labels[max_area[\"DATE\"][1]] = \"DATE\"\n",
        "    labels[max_area[\"TOTAL\"][1]] = \"TOTAL\"\n",
        "\n",
        "    words[\"label\"] = labels\n",
        "    return words\n"
      ],
      "metadata": {
        "id": "XcdepSuOIgX-"
      },
      "execution_count": 2,
      "outputs": []
    },
    {
      "cell_type": "code",
      "source": [
        "import glob\n",
        "import os\n",
        "from pathlib import Path\n",
        "from typing import Any, Dict, List, Tuple, Optional, Callable\n",
        "\n",
        "import numpy as np\n",
        "import torch\n",
        "from torch.utils.data import Dataset"
      ],
      "metadata": {
        "id": "XueBGdgtIgVN"
      },
      "execution_count": 3,
      "outputs": []
    },
    {
      "cell_type": "code",
      "source": [
        "!mkdir sroie_csv/"
      ],
      "metadata": {
        "id": "Os3tDxDhJJO8"
      },
      "execution_count": 4,
      "outputs": []
    },
    {
      "cell_type": "code",
      "source": [
        "class CustomDataset(Dataset):\n",
        "    def __init__(self, train):\n",
        "        self.train = train\n",
        "        self.train_path = '/content/sroie/SROIE2019/train/'\n",
        "        if not self.train:\n",
        "          self.train_path = '/content/sroie/SROIE2019/test/'\n",
        "        \n",
        "        self.data = []\n",
        "        bbox_train_path = self.train_path + \"box/\"\n",
        "        entities_train_path = self.train_path + \"entities/\"\n",
        "\n",
        "        L = []\n",
        "        d = {\n",
        "             \"address_mean\":0,\n",
        "             \"company_mean\":0,\n",
        "             \"date_mean\":0,\n",
        "             \"total_mean\":0\n",
        "        }\n",
        "        address = []\n",
        "        company = []\n",
        "        date = []\n",
        "        total = []\n",
        "        # Train Loop\n",
        "        train_data = []\n",
        "        bbox = list()\n",
        "        for filename in os.listdir(bbox_train_path):\n",
        "            bbox_file_path = bbox_train_path + filename\n",
        "            entities_file_path = entities_train_path + filename\n",
        "\n",
        "            bbox = read_bbox_and_words(path=Path(bbox_file_path))\n",
        "            entities = read_entities(path=Path(entities_file_path))\n",
        "\n",
        "            bbox_labeled = assign_labels(bbox, entities)\n",
        "            bbox.append(bbox_labeled)\n",
        "            bbox_labeled.to_csv(\"sroie_csv/\"+filename[:-4]+\".csv\")\n",
        "            s = \"\"\n",
        "            L = []\n",
        "            for i in range(len(bbox_labeled[\"line\"])):\n",
        "              s+=bbox_labeled[\"line\"][i]+\"\\n\"\n",
        "\n",
        "              if bbox_labeled[\"label\"][i] != 'O':\n",
        "                L.append((len(s)-len(bbox_labeled[\"line\"][i])-1, len(s)-2, bbox_labeled[\"label\"][i]))\n",
        "\n",
        "            train_data.append((s, {\"entities\": L}))\n",
        "        print(bbox_labeled.head())\n",
        "        print(train_data[-1])\n",
        "        self.data = train_data\n",
        "        print(type(bbox))\n",
        "        df = pd.concat([bbox])\n",
        "        df.to_csv(\"srroie_\"+str(self.train)+\".csv\")\n",
        "\n",
        "\n",
        "    def __len__(self):\n",
        "        return len(self.data)\n",
        "    def __getitem__(self, idx):\n",
        "        return self.data[idx]"
      ],
      "metadata": {
        "id": "iGY_HeVaIgSo"
      },
      "execution_count": 5,
      "outputs": []
    },
    {
      "cell_type": "code",
      "source": [
        "dataset = dataset_train = CustomDataset(True)\n"
      ],
      "metadata": {
        "id": "cSSOCfSSIgQG"
      },
      "execution_count": null,
      "outputs": []
    },
    {
      "cell_type": "code",
      "source": [
        "df_NER = pd.read_csv(\"/content/sroie_csv/X00016469612.csv\")[[\"line\", \"label\"]]\n",
        "df_NER.head()"
      ],
      "metadata": {
        "colab": {
          "base_uri": "https://localhost:8080/",
          "height": 206
        },
        "id": "eiqCwmGAIgL-",
        "outputId": "7df34ab6-e559-4428-a114-e05eac341c36"
      },
      "execution_count": 25,
      "outputs": [
        {
          "output_type": "execute_result",
          "data": {
            "text/plain": [
              "                               line    label\n",
              "0                     TAN WOON YANN        O\n",
              "1    BOOK TA .K(TAMAN DAYA) SDN BND        O\n",
              "2                          789417-W        O\n",
              "3  NO.53 55,57 & 59, JALAN SAGU 18,  ADDRESS\n",
              "4                       TAMAN DAYA,  COMPANY"
            ],
            "text/html": [
              "\n",
              "  <div id=\"df-2d9cbd14-ee32-4103-87c2-eb43224921fd\">\n",
              "    <div class=\"colab-df-container\">\n",
              "      <div>\n",
              "<style scoped>\n",
              "    .dataframe tbody tr th:only-of-type {\n",
              "        vertical-align: middle;\n",
              "    }\n",
              "\n",
              "    .dataframe tbody tr th {\n",
              "        vertical-align: top;\n",
              "    }\n",
              "\n",
              "    .dataframe thead th {\n",
              "        text-align: right;\n",
              "    }\n",
              "</style>\n",
              "<table border=\"1\" class=\"dataframe\">\n",
              "  <thead>\n",
              "    <tr style=\"text-align: right;\">\n",
              "      <th></th>\n",
              "      <th>line</th>\n",
              "      <th>label</th>\n",
              "    </tr>\n",
              "  </thead>\n",
              "  <tbody>\n",
              "    <tr>\n",
              "      <th>0</th>\n",
              "      <td>TAN WOON YANN</td>\n",
              "      <td>O</td>\n",
              "    </tr>\n",
              "    <tr>\n",
              "      <th>1</th>\n",
              "      <td>BOOK TA .K(TAMAN DAYA) SDN BND</td>\n",
              "      <td>O</td>\n",
              "    </tr>\n",
              "    <tr>\n",
              "      <th>2</th>\n",
              "      <td>789417-W</td>\n",
              "      <td>O</td>\n",
              "    </tr>\n",
              "    <tr>\n",
              "      <th>3</th>\n",
              "      <td>NO.53 55,57 &amp; 59, JALAN SAGU 18,</td>\n",
              "      <td>ADDRESS</td>\n",
              "    </tr>\n",
              "    <tr>\n",
              "      <th>4</th>\n",
              "      <td>TAMAN DAYA,</td>\n",
              "      <td>COMPANY</td>\n",
              "    </tr>\n",
              "  </tbody>\n",
              "</table>\n",
              "</div>\n",
              "      <button class=\"colab-df-convert\" onclick=\"convertToInteractive('df-2d9cbd14-ee32-4103-87c2-eb43224921fd')\"\n",
              "              title=\"Convert this dataframe to an interactive table.\"\n",
              "              style=\"display:none;\">\n",
              "        \n",
              "  <svg xmlns=\"http://www.w3.org/2000/svg\" height=\"24px\"viewBox=\"0 0 24 24\"\n",
              "       width=\"24px\">\n",
              "    <path d=\"M0 0h24v24H0V0z\" fill=\"none\"/>\n",
              "    <path d=\"M18.56 5.44l.94 2.06.94-2.06 2.06-.94-2.06-.94-.94-2.06-.94 2.06-2.06.94zm-11 1L8.5 8.5l.94-2.06 2.06-.94-2.06-.94L8.5 2.5l-.94 2.06-2.06.94zm10 10l.94 2.06.94-2.06 2.06-.94-2.06-.94-.94-2.06-.94 2.06-2.06.94z\"/><path d=\"M17.41 7.96l-1.37-1.37c-.4-.4-.92-.59-1.43-.59-.52 0-1.04.2-1.43.59L10.3 9.45l-7.72 7.72c-.78.78-.78 2.05 0 2.83L4 21.41c.39.39.9.59 1.41.59.51 0 1.02-.2 1.41-.59l7.78-7.78 2.81-2.81c.8-.78.8-2.07 0-2.86zM5.41 20L4 18.59l7.72-7.72 1.47 1.35L5.41 20z\"/>\n",
              "  </svg>\n",
              "      </button>\n",
              "      \n",
              "  <style>\n",
              "    .colab-df-container {\n",
              "      display:flex;\n",
              "      flex-wrap:wrap;\n",
              "      gap: 12px;\n",
              "    }\n",
              "\n",
              "    .colab-df-convert {\n",
              "      background-color: #E8F0FE;\n",
              "      border: none;\n",
              "      border-radius: 50%;\n",
              "      cursor: pointer;\n",
              "      display: none;\n",
              "      fill: #1967D2;\n",
              "      height: 32px;\n",
              "      padding: 0 0 0 0;\n",
              "      width: 32px;\n",
              "    }\n",
              "\n",
              "    .colab-df-convert:hover {\n",
              "      background-color: #E2EBFA;\n",
              "      box-shadow: 0px 1px 2px rgba(60, 64, 67, 0.3), 0px 1px 3px 1px rgba(60, 64, 67, 0.15);\n",
              "      fill: #174EA6;\n",
              "    }\n",
              "\n",
              "    [theme=dark] .colab-df-convert {\n",
              "      background-color: #3B4455;\n",
              "      fill: #D2E3FC;\n",
              "    }\n",
              "\n",
              "    [theme=dark] .colab-df-convert:hover {\n",
              "      background-color: #434B5C;\n",
              "      box-shadow: 0px 1px 3px 1px rgba(0, 0, 0, 0.15);\n",
              "      filter: drop-shadow(0px 1px 2px rgba(0, 0, 0, 0.3));\n",
              "      fill: #FFFFFF;\n",
              "    }\n",
              "  </style>\n",
              "\n",
              "      <script>\n",
              "        const buttonEl =\n",
              "          document.querySelector('#df-2d9cbd14-ee32-4103-87c2-eb43224921fd button.colab-df-convert');\n",
              "        buttonEl.style.display =\n",
              "          google.colab.kernel.accessAllowed ? 'block' : 'none';\n",
              "\n",
              "        async function convertToInteractive(key) {\n",
              "          const element = document.querySelector('#df-2d9cbd14-ee32-4103-87c2-eb43224921fd');\n",
              "          const dataTable =\n",
              "            await google.colab.kernel.invokeFunction('convertToInteractive',\n",
              "                                                     [key], {});\n",
              "          if (!dataTable) return;\n",
              "\n",
              "          const docLinkHtml = 'Like what you see? Visit the ' +\n",
              "            '<a target=\"_blank\" href=https://colab.research.google.com/notebooks/data_table.ipynb>data table notebook</a>'\n",
              "            + ' to learn more about interactive tables.';\n",
              "          element.innerHTML = '';\n",
              "          dataTable['output_type'] = 'display_data';\n",
              "          await google.colab.output.renderOutput(dataTable, element);\n",
              "          const docLink = document.createElement('div');\n",
              "          docLink.innerHTML = docLinkHtml;\n",
              "          element.appendChild(docLink);\n",
              "        }\n",
              "      </script>\n",
              "    </div>\n",
              "  </div>\n",
              "  "
            ]
          },
          "metadata": {},
          "execution_count": 25
        }
      ]
    },
    {
      "cell_type": "markdown",
      "source": [
        "### def SROIE NER"
      ],
      "metadata": {
        "id": "qZGZa-oYNUn2"
      }
    },
    {
      "cell_type": "code",
      "source": [
        "def sroie_relabel(df_NER):\n",
        "  ner_label = []\n",
        "\n",
        "  for i in range(len(df_NER[\"line\"])):\n",
        "    nb_word = len(df_NER['line'][i].split())\n",
        "    if df_NER[\"label\"][i] == \"O\":\n",
        "      ner_label.append(\"O \" * nb_word)\n",
        "    else:\n",
        "      s = (\" I-\"+df_NER[\"label\"][i]) * (nb_word-1)\n",
        "      ner_label.append(\"B-\"+df_NER[\"label\"][i]+s)\n",
        "\n",
        "  df_NER['ner_label'] = np.array(ner_label)\n",
        "  return df_NER"
      ],
      "metadata": {
        "id": "uDV0z36HNBE2"
      },
      "execution_count": 38,
      "outputs": []
    },
    {
      "cell_type": "code",
      "source": [
        "df_NER1 = sroie_relabel(df_NER)"
      ],
      "metadata": {
        "id": "ilgq54P1Ip_B"
      },
      "execution_count": 28,
      "outputs": []
    },
    {
      "cell_type": "code",
      "source": [
        "def convert_sroie_to_string(df_NER):\n",
        "  lines = \"\"\n",
        "  labels = \"\"\n",
        "  L = []\n",
        "  for i in range(len(df_NER[\"line\"])):\n",
        "    lines+=df_NER[\"line\"][i]+\" \"\n",
        "    labels+=df_NER[\"ner_label\"][i]+\" \"\n",
        "  return (lines, labels)"
      ],
      "metadata": {
        "id": "TVHf54xiNo5H"
      },
      "execution_count": 32,
      "outputs": []
    },
    {
      "cell_type": "code",
      "source": [
        "df_NER1.head(100)"
      ],
      "metadata": {
        "id": "aHALCMT7MAAl"
      },
      "execution_count": null,
      "outputs": []
    },
    {
      "cell_type": "code",
      "source": [
        "convert_sroie_to_string(df_NER1)"
      ],
      "metadata": {
        "id": "GM820EVmIp8g"
      },
      "execution_count": null,
      "outputs": []
    },
    {
      "cell_type": "code",
      "source": [
        "def sroie_to_ner(sroie_csv_path):\n",
        "  lines = []\n",
        "  labels = []\n",
        "  for filename in os.listdir(sroie_csv_path):\n",
        "    file_path = sroie_csv_path + filename\n",
        "    df_NER = pd.read_csv(file_path)[[\"line\", \"label\"]]\n",
        "    df_NER1 = sroie_relabel(df_NER)\n",
        "    (line, label) = convert_sroie_to_string(df_NER1)\n",
        "    lines.append(line)\n",
        "    labels.append(labels)\n",
        "  \n",
        "  zipped = list(zip(lines, labels))\n",
        "  df = pd.DataFrame(zipped, columns=['text', 'labels'])\n",
        "  df.to_csv(\"sroie_NER.csv\")\n",
        "  return df"
      ],
      "metadata": {
        "id": "7O_diXZaIp5d"
      },
      "execution_count": 39,
      "outputs": []
    },
    {
      "cell_type": "code",
      "source": [
        "df = sroie_to_ner(\"/content/sroie_csv/\")\n",
        "df.head()"
      ],
      "metadata": {
        "id": "G4hf9dw9QdAq"
      },
      "execution_count": null,
      "outputs": []
    },
    {
      "cell_type": "code",
      "source": [],
      "metadata": {
        "id": "KClPnPbtQc9u"
      },
      "execution_count": null,
      "outputs": []
    },
    {
      "cell_type": "markdown",
      "source": [
        "## NER for kaggle dataset"
      ],
      "metadata": {
        "id": "ms-ZWsYvIg92"
      }
    },
    {
      "cell_type": "code",
      "source": [
        "!pip install -q kaggle\n",
        "\n",
        "# from google.colab import files\n",
        "# files.upload()\n",
        "\n",
        "!mkdir ~/.kaggle\n",
        "!cp kaggle.json ~/.kaggle/\n",
        "!chmod 600 ~/.kaggle/kaggle.json\n",
        "\n",
        "!kaggle datasets download -d 'rajnathpatel/ner-data'\n",
        "!unzip /content/ner-data.zip"
      ],
      "metadata": {
        "id": "bIFXNf72AqRl",
        "colab": {
          "base_uri": "https://localhost:8080/"
        },
        "outputId": "e1876948-22f8-42ff-e1b8-4ec8f12e3ffd"
      },
      "execution_count": null,
      "outputs": [
        {
          "output_type": "stream",
          "name": "stdout",
          "text": [
            "mkdir: cannot create directory ‘/root/.kaggle’: File exists\n",
            "Downloading ner-data.zip to /content\n",
            "  0% 0.00/2.64M [00:00<?, ?B/s]\n",
            "100% 2.64M/2.64M [00:00<00:00, 43.0MB/s]\n",
            "Archive:  /content/ner-data.zip\n",
            "  inflating: ner.csv                 \n"
          ]
        }
      ]
    },
    {
      "cell_type": "code",
      "source": [
        "%%capture\n",
        "!pip install transformers\n",
        "\n",
        "import warnings\n",
        "warnings.filterwarnings('ignore')\n",
        "\n",
        "import numpy as np\n",
        "import pandas as pd\n",
        "import seaborn as sns\n",
        "import matplotlib.pyplot as plt\n",
        "from tqdm import tqdm\n",
        "\n",
        "import transformers\n",
        "from transformers import AutoTokenizer\n",
        "from transformers import  DistilBertForTokenClassification\n",
        "\n",
        "from torch.optim import AdamW\n",
        "\n",
        "import torch\n",
        "import torch.nn as nn\n",
        "from torch.optim import SGD\n",
        "import torch.nn.functional as F\n",
        "from torch.utils.data import DataLoader\n",
        "\n",
        "from sklearn.metrics import accuracy_score,f1_score, precision_score, recall_score"
      ],
      "metadata": {
        "id": "d-bvrKSG7-Fd"
      },
      "execution_count": null,
      "outputs": []
    },
    {
      "cell_type": "code",
      "source": [
        "import pandas as pd\n",
        "import numpy as np\n",
        "\n",
        "N = 1_000\n",
        "df = pd.read_csv(\"/content/ner.csv\").sample(frac=1)[:N]\n",
        "\n",
        "#change columns names\n",
        "df.rename(columns = {'text':'sentence', 'labels':'tags'}, inplace = True)\n",
        "\n",
        "#split train, dev , test sets\n",
        "df_train, df_dev, df_test = np.split(df.sample(frac=1, random_state=42),\n",
        "                            [int(.8 * len(df)), int(.9 * len(df))])"
      ],
      "metadata": {
        "id": "2Lcu1CDoDrcD"
      },
      "execution_count": null,
      "outputs": []
    },
    {
      "cell_type": "code",
      "source": [
        "class DistilbertNER(nn.Module):\n",
        "  \"\"\"\n",
        "  Implement NN class based on distilbert pretrained from Hugging face.\n",
        "  Inputs : \n",
        "    tokens_dim : int specifyng the dimension of the classifier\n",
        "  \"\"\"\n",
        "  \n",
        "  def __init__(self, tokens_dim):\n",
        "    super(DistilbertNER,self).__init__()\n",
        "    \n",
        "    if type(tokens_dim) != int:\n",
        "            raise TypeError('Please tokens_dim should be an integer')\n",
        "\n",
        "    if tokens_dim <= 0:\n",
        "          raise ValueError('Classification layer dimension should be at least 1')\n",
        "\n",
        "    self.pretrained = DistilBertForTokenClassification.from_pretrained(\"distilbert-base-uncased\", num_labels = tokens_dim) #set the output of each token classifier = unique_lables\n",
        "\n",
        "\n",
        "  def forward(self, input_ids, attention_mask, labels = None): #labels are needed in order to compute the loss\n",
        "    \"\"\"\n",
        "  Forwad computation of the network\n",
        "  Input:\n",
        "    - inputs_ids : from model tokenizer\n",
        "    - attention :  mask from model tokenizer\n",
        "    - labels : if given the model is able to return the loss value\n",
        "  \"\"\"\n",
        "\n",
        "    #inference time no labels\n",
        "    if labels == None:\n",
        "      out = self.pretrained(input_ids = input_ids, attention_mask = attention_mask )\n",
        "      return out\n",
        "\n",
        "    out = self.pretrained(input_ids = input_ids, attention_mask = attention_mask , labels = labels)\n",
        "    return out"
      ],
      "metadata": {
        "id": "9Gh_3YVPEBBS"
      },
      "execution_count": null,
      "outputs": []
    },
    {
      "cell_type": "code",
      "source": [
        "class NerDataset(torch.utils.data.Dataset):\n",
        "  \"\"\"\n",
        "  Custom dataset implementation to get (text,labels) tuples\n",
        "  Inputs:\n",
        "   - df : dataframe with columns [tags, sentence]\n",
        "  \"\"\"\n",
        "  \n",
        "  def __init__(self, df):\n",
        "    if not isinstance(df, pd.DataFrame):\n",
        "      raise TypeError('Input should be a dataframe')\n",
        "    \n",
        "    if \"tags\" not in df.columns or \"sentence\" not in df.columns:\n",
        "      raise ValueError(\"Dataframe should contain 'tags' and 'sentence' columns\")\n",
        "\n",
        "     \n",
        "    \n",
        "    tags_list = [i.split() for i in df[\"tags\"].values.tolist()]\n",
        "    texts = df[\"sentence\"].values.tolist()\n",
        "\n",
        "    self.texts = [tokenizer(text, padding = \"max_length\", truncation = True, return_tensors = \"pt\") for text in texts]\n",
        "    self.labels = [match_tokens_labels(text, tags) for text,tags in zip(self.texts, tags_list)]\n",
        "\n",
        "  def __len__(self):\n",
        "    return len(self.labels)\n",
        "\n",
        "  def __getitem__(self, idx):\n",
        "    batch_text = self.texts[idx]\n",
        "    batch_labels = self.labels[idx]\n",
        "\n",
        "    return batch_text, torch.LongTensor(batch_labels)"
      ],
      "metadata": {
        "id": "mYz9WLWaEFkN"
      },
      "execution_count": null,
      "outputs": []
    },
    {
      "cell_type": "code",
      "source": [
        "class MetricsTracking():\n",
        "  \"\"\"\n",
        "  In order make the train loop lighter I define this class to track all the metrics that we are going to measure for our model.\n",
        "  \"\"\"\n",
        "  def __init__(self):\n",
        "\n",
        "    self.total_acc = 0\n",
        "    self.total_f1 = 0\n",
        "    self.total_precision = 0\n",
        "    self.total_recall = 0\n",
        "\n",
        "  def update(self, predictions, labels , ignore_token = -100):\n",
        "    '''\n",
        "    Call this function every time you need to update your metrics.\n",
        "    Where in the train there was a -100, were additional token that we dont want to label, so remove them.\n",
        "    If we flatten the batch its easier to access the indexed = -100\n",
        "    '''  \n",
        "    predictions = predictions.flatten()\n",
        "    labels = labels.flatten()\n",
        "    \n",
        "    predictions = predictions[labels != ignore_token]\n",
        "    labels = labels[labels != ignore_token]\n",
        "\n",
        "    predictions = predictions.to(\"cpu\")\n",
        "    labels = labels.to(\"cpu\")\n",
        "\n",
        "    acc = accuracy_score(labels,predictions)\n",
        "    f1 = f1_score(labels, predictions, average = \"macro\")\n",
        "    precision = precision_score(labels, predictions, average = \"macro\")\n",
        "    recall = recall_score(labels, predictions, average = \"macro\")\n",
        "\n",
        "    self.total_acc  += acc\n",
        "    self.total_f1 += f1\n",
        "    self.total_precision += precision\n",
        "    self.total_recall  += recall\n",
        "\n",
        "  def return_avg_metrics(self,data_loader_size):\n",
        "    n = data_loader_size\n",
        "    metrics = {\n",
        "        \"acc\": round(self.total_acc / n ,3), \n",
        "        \"f1\": round(self.total_f1 / n, 3), \n",
        "        \"precision\" : round(self.total_precision / n, 3), \n",
        "        \"recall\": round(self.total_recall / n, 3)\n",
        "          }\n",
        "    return metrics   "
      ],
      "metadata": {
        "id": "CSdSNPyVEJI8"
      },
      "execution_count": null,
      "outputs": []
    },
    {
      "cell_type": "code",
      "source": [
        "def tags_2_labels(tags : str, tag2idx : dict):\n",
        "  '''\n",
        "  Method that takes a list of tags and a dictionary mapping and returns a list of labels (associated).\n",
        "  Used to create the \"label\" column in df from the \"tags\" column.\n",
        "  '''\n",
        "  return [tag2idx[tag] if tag in tag2idx else unseen_label for tag in tags.split()]"
      ],
      "metadata": {
        "id": "rq7K4ti0ENaK"
      },
      "execution_count": null,
      "outputs": []
    },
    {
      "cell_type": "code",
      "source": [
        "def tags_mapping(tags_series : pd.Series):\n",
        "  \"\"\"\n",
        "  tag_series = df column with tags for each sentence.\n",
        "  Returns:\n",
        "    - dictionary mapping tags to indexes (label)\n",
        "    - dictionary mappign inedexes to tags\n",
        "    - The label corresponding to tag 'O'\n",
        "    - A set of unique tags ecountered in the trainind df, this will define the classifier dimension\n",
        "  \"\"\"\n",
        "\n",
        "  if not isinstance(tags_series, pd.Series):\n",
        "      raise TypeError('Input should be a padas Series')\n",
        "\n",
        "  unique_tags = set()\n",
        "  \n",
        "  for tag_list in df_train[\"tags\"]:\n",
        "    for tag in tag_list.split():\n",
        "      unique_tags.add(tag)\n",
        "\n",
        "\n",
        "  tag2idx = {k:v for v,k in enumerate(sorted(unique_tags))}\n",
        "  idx2tag = {k:v for v,k in tag2idx.items()}\n",
        "\n",
        "  unseen_label = tag2idx[\"O\"]\n",
        "\n",
        "  return tag2idx, idx2tag, unseen_label, unique_tags"
      ],
      "metadata": {
        "id": "e_WH3f8WEQq6"
      },
      "execution_count": null,
      "outputs": []
    },
    {
      "cell_type": "code",
      "source": [
        "def match_tokens_labels(tokenized_input, tags, ignore_token = -100):\n",
        "        '''\n",
        "        Used in the custom dataset.\n",
        "        -100 will be tha label used to match additional tokens like [CLS] [PAD] that we dont care about. \n",
        "        Inputs : \n",
        "          - tokenized_input : tokenizer over the imput text -> {input_ids, attention_mask}\n",
        "          - tags : is a single label array -> [O O O O O O O O O O O O O O B-tim O]\n",
        "        \n",
        "        Returns a list of labels that match the tokenized text -> [-100, 3,5,6,-100,...]\n",
        "        '''\n",
        "\n",
        "        #gives an array [ None , 0 , 1 ,2 ,... None]. Each index tells the word of reference of the token\n",
        "        word_ids = tokenized_input.word_ids()\n",
        "\n",
        "        previous_word_idx = None\n",
        "        label_ids = []\n",
        "\n",
        "        for word_idx in word_ids:\n",
        "\n",
        "            if word_idx is None:\n",
        "                label_ids.append(ignore_token)\n",
        "\n",
        "            #if its equal to the previous word we can add the same label id of the provious or -100 \n",
        "            else :\n",
        "                try:\n",
        "                  reference_tag = tags[word_idx]\n",
        "                  label_ids.append(tag2idx[reference_tag])\n",
        "                except:\n",
        "                  label_ids.append(ignore_token)\n",
        "              \n",
        "            \n",
        "            previous_word_idx = word_idx\n",
        "\n",
        "        return label_ids"
      ],
      "metadata": {
        "id": "STRDyji5EVn0"
      },
      "execution_count": null,
      "outputs": []
    },
    {
      "cell_type": "code",
      "source": [
        "def freeze_model(model,num_layers = 1):\n",
        "  \"\"\"\n",
        "  Freeze last num_layers of a model to prevent ctastrophic forgetting.\n",
        "  Doesn't seem to work weel, its better to fine tune the entire netwok\n",
        "  \"\"\"\n",
        "  for id , params in enumerate(model.parameters()):\n",
        "    if id == len(list(model.parameters())) - num_layers: \n",
        "      print(\"last layer unfreezed\")\n",
        "      params.requires_grad = True\n",
        "    else:\n",
        "      params.requires_grad = False\n",
        "  return model"
      ],
      "metadata": {
        "id": "LjWVUdNqEZ0C"
      },
      "execution_count": null,
      "outputs": []
    },
    {
      "cell_type": "code",
      "source": [
        "def train_loop(model, train_dataset, dev_dataset, optimizer,  batch_size, epochs):\n",
        "  \n",
        "  train_dataloader = DataLoader(train_dataset, batch_size = batch_size, shuffle = True)\n",
        "  dev_dataloader = DataLoader(dev_dataset, batch_size = batch_size, shuffle = True)\n",
        "\n",
        "  device = torch.device(\"cuda\" if torch.cuda.is_available() else \"cpu\")\n",
        "  model = model.to(device)\n",
        "\n",
        "  for epoch in range(epochs) : \n",
        "    \n",
        "    train_metrics = MetricsTracking()\n",
        "    total_loss_train = 0\n",
        "\n",
        "    model.train() #train mode\n",
        "\n",
        "    for train_data, train_label in tqdm(train_dataloader):\n",
        "\n",
        "      train_label = train_label.to(device)\n",
        "      '''\n",
        "      squeeze in order to match the sizes. From [batch,1,seq_len] --> [batch,seq_len] \n",
        "      '''\n",
        "      mask = train_data['attention_mask'].squeeze(1).to(device)\n",
        "      input_id = train_data['input_ids'].squeeze(1).to(device)\n",
        "\n",
        "      optimizer.zero_grad()\n",
        "      \n",
        "      output = model(input_id, mask, train_label)\n",
        "      loss, logits = output.loss, output.logits\n",
        "      predictions = logits.argmax(dim= -1) \n",
        "\n",
        "      #compute metrics\n",
        "      train_metrics.update(predictions, train_label)\n",
        "      total_loss_train += loss.item()\n",
        "\n",
        "      #grad step\n",
        "      loss.backward()\n",
        "      optimizer.step()\n",
        "    \n",
        "    '''\n",
        "    EVALUATION MODE\n",
        "    '''            \n",
        "    model.eval()\n",
        "\n",
        "    dev_metrics = MetricsTracking()\n",
        "    total_loss_dev = 0\n",
        "    \n",
        "    with torch.no_grad():\n",
        "      for dev_data, dev_label in dev_dataloader:\n",
        "\n",
        "        dev_label = dev_label.to(device)\n",
        "\n",
        "        mask = dev_data['attention_mask'].squeeze(1).to(device)\n",
        "        input_id = dev_data['input_ids'].squeeze(1).to(device)\n",
        "\n",
        "        output = model(input_id, mask, dev_label)\n",
        "        loss, logits = output.loss, output.logits\n",
        "\n",
        "        predictions = logits.argmax(dim= -1)     \n",
        "\n",
        "        dev_metrics.update(predictions, dev_label)\n",
        "        total_loss_dev += loss.item()\n",
        "    \n",
        "    train_results = train_metrics.return_avg_metrics(len(train_dataloader))\n",
        "    dev_results = dev_metrics.return_avg_metrics(len(dev_dataloader))\n",
        "\n",
        "    print(f\"TRAIN \\nLoss: {total_loss_train / len(train_dataset)} \\nMetrics {train_results}\\n\" ) \n",
        "    print(f\"VALIDATION \\nLoss {total_loss_dev / len(dev_dataset)} \\nMetrics{dev_results}\\n\" )  "
      ],
      "metadata": {
        "id": "sofj5DyJEdIR"
      },
      "execution_count": null,
      "outputs": []
    },
    {
      "cell_type": "code",
      "source": [
        "#create tag-label mapping\n",
        "tag2idx, idx2tag , unseen_label, unique_tags = tags_mapping(df_train[\"tags\"])\n",
        "\n",
        "#create the label column from tag. Unseen labels will be tagged as \"O\"\n",
        "for df in [df_train, df_dev, df_test]:\n",
        "  df[\"labels\"] = df[\"tags\"].apply(lambda tags : tags_2_labels(tags, tag2idx))"
      ],
      "metadata": {
        "id": "MiUKadHNEhaO"
      },
      "execution_count": null,
      "outputs": []
    },
    {
      "cell_type": "code",
      "source": [
        "text = df_train[\"sentence\"].values.tolist()\n",
        "\n",
        "#toeknized text\n",
        "tokenizer = AutoTokenizer.from_pretrained(\"distilbert-base-uncased\")\n",
        "text_tokenized = tokenizer(text , padding = \"max_length\" , truncation = True, return_tensors = \"pt\" )\n",
        "\n",
        "#mapping token to original word\n",
        "word_ids = text_tokenized.word_ids()"
      ],
      "metadata": {
        "colab": {
          "base_uri": "https://localhost:8080/",
          "height": 145,
          "referenced_widgets": [
            "a38a69a43cb2412db5118870c9108efb",
            "fcc3ee6063cb4c429fedfb33444547b3",
            "5551ac4220d642cbaa479ebb886b5987",
            "20a6f0c2f1ff4bc6ba0cd4b53f4e94e2",
            "cb917da4e0654d40bbaeabbc8e022d77",
            "0f35ee1d24ea49e69d236cc4ad66676d",
            "c60852e601314b1c8981229cbde4c822",
            "186a4235a4f2443db4b53f1a359f7924",
            "ee7f691d34b1486595dc1b9de7d67942",
            "d221b462aaf04eb09ba24419a5ab491b",
            "3c16ed8a8675435c8b61cad533c793a6",
            "053dc4ccaa624ba58468e0d2200254fe",
            "6145cfdd6237416cbbe09b05b1cb367c",
            "9c60396bfab4480d9266e5e6858ae65a",
            "0f1860e90e5e48408f38ad5681488b8b",
            "dc9063f4f635490c8dc95ff5ed049533",
            "a20d3fc5b183488b9be037441b5d653d",
            "fe829d8bdd624088849eb3f7d92c6768",
            "fc5fa3036dd04c198a221e28d6118182",
            "ec4f5d2cc3de45fc952d37a6429bff4c",
            "47315215fd294ee194eb89b1e7252f4a",
            "deadd3edb554433f9697949e272134c4",
            "b461108b93e34735a43c37f7013daeff",
            "56602bb2294b489e873328355651eda8",
            "7d59a5c65e184256a85d78755a0365e3",
            "3ef93918c99b48c6905a06d6cb764a8c",
            "1fcfaa2a74cc4952bb9913fbef11c4a8",
            "9df3bccc781542939c9a75487ac0843e",
            "e294eeb0eace4a07b1622bcca8837624",
            "1904eabb54e7496f950b253d951991ad",
            "3646fa6607e5430e9cfa0696ad6fc507",
            "ef3362f6d01d48bf83c760180a093910",
            "33069873888e4a4592e017a1ae4818cc",
            "a0841ef1c53c46269d556d8d0f2e8daa",
            "54b291e65b044f419eeaa92fb2ee3e16",
            "6acb77ebe47c4e5f99c4ab6f491e82de",
            "271cafa219c942c6a380695850b43c61",
            "6b2172fbad1e48338fdde7a5fbaa2a46",
            "236403d397d349b08c9f01889d84d785",
            "37e047c7b7a646e4940ca799ba055c80",
            "32b78bd05bdf47ad8025799854643aa2",
            "5262bf7e36874ad3ac8523000223e248",
            "f9eb45eccc7d4e28a81fe89e98d9ecc8",
            "0c736e4a3938420aa26e987f780c9339"
          ]
        },
        "id": "tHxlfDf3ElkU",
        "outputId": "02effec0-04af-4c49-8c31-75ddea7728d2"
      },
      "execution_count": null,
      "outputs": [
        {
          "output_type": "display_data",
          "data": {
            "text/plain": [
              "Downloading (…)okenizer_config.json:   0%|          | 0.00/28.0 [00:00<?, ?B/s]"
            ],
            "application/vnd.jupyter.widget-view+json": {
              "version_major": 2,
              "version_minor": 0,
              "model_id": "a38a69a43cb2412db5118870c9108efb"
            }
          },
          "metadata": {}
        },
        {
          "output_type": "display_data",
          "data": {
            "text/plain": [
              "Downloading (…)lve/main/config.json:   0%|          | 0.00/483 [00:00<?, ?B/s]"
            ],
            "application/vnd.jupyter.widget-view+json": {
              "version_major": 2,
              "version_minor": 0,
              "model_id": "053dc4ccaa624ba58468e0d2200254fe"
            }
          },
          "metadata": {}
        },
        {
          "output_type": "display_data",
          "data": {
            "text/plain": [
              "Downloading (…)solve/main/vocab.txt:   0%|          | 0.00/232k [00:00<?, ?B/s]"
            ],
            "application/vnd.jupyter.widget-view+json": {
              "version_major": 2,
              "version_minor": 0,
              "model_id": "b461108b93e34735a43c37f7013daeff"
            }
          },
          "metadata": {}
        },
        {
          "output_type": "display_data",
          "data": {
            "text/plain": [
              "Downloading (…)/main/tokenizer.json:   0%|          | 0.00/466k [00:00<?, ?B/s]"
            ],
            "application/vnd.jupyter.widget-view+json": {
              "version_major": 2,
              "version_minor": 0,
              "model_id": "a0841ef1c53c46269d556d8d0f2e8daa"
            }
          },
          "metadata": {}
        }
      ]
    },
    {
      "cell_type": "code",
      "source": [
        "model = DistilbertNER(len(unique_tags))\n",
        "#Prevent Catastrofic Forgetting\n",
        "#model = freeze_model(model, num_layers = 2)\n",
        "\n",
        "#datasets\n",
        "train_dataset = NerDataset(df_train)\n",
        "dev_dataset = NerDataset(df_dev)\n",
        "\n",
        "lr = 1e-2\n",
        "optimizer = SGD(model.parameters(), lr=lr, momentum = 0.9)  \n",
        "\n",
        "\n",
        "#MAIN\n",
        "parameters = {\n",
        "    \"model\": model,\n",
        "    \"train_dataset\": train_dataset,\n",
        "    \"dev_dataset\" : dev_dataset,\n",
        "    \"optimizer\" : optimizer,\n",
        "    \"batch_size\" : 32,\n",
        "    \"epochs\" : 8\n",
        "}\n",
        "\n",
        "train_loop(**parameters)"
      ],
      "metadata": {
        "colab": {
          "base_uri": "https://localhost:8080/",
          "height": 67,
          "referenced_widgets": [
            "a25b227c4830443d9b6a4f25bab01ea6",
            "13062904742f4f919f7cce32c2f45dfa",
            "5cf043e5d9ed4ead91fbb853ee7f45f5",
            "d10b286d4f37470681e1117e8febf38b",
            "0e5023800125418d87c3c6ea3469597b",
            "f3c66b007e1141feb29d1475482cabfe",
            "bf910753b6674194a11cf67ce8182859",
            "db5fbc8b5a07414a9571ec22f35c1e15",
            "5736d1b8f4cb4f1aa5910bd92f1ff91f",
            "93907cfb559440d9be10229b163d7882",
            "12ba7dc71254441ebbf75796fc258125"
          ]
        },
        "id": "tYwI-l3LEoLG",
        "outputId": "960a0ad7-d0d1-42f9-c8d4-d0e2aa572b96"
      },
      "execution_count": null,
      "outputs": [
        {
          "output_type": "display_data",
          "data": {
            "text/plain": [
              "Downloading pytorch_model.bin:   0%|          | 0.00/268M [00:00<?, ?B/s]"
            ],
            "application/vnd.jupyter.widget-view+json": {
              "version_major": 2,
              "version_minor": 0,
              "model_id": "a25b227c4830443d9b6a4f25bab01ea6"
            }
          },
          "metadata": {}
        },
        {
          "output_type": "stream",
          "name": "stderr",
          "text": [
            "\r  0%|          | 0/25 [00:00<?, ?it/s]"
          ]
        }
      ]
    },
    {
      "cell_type": "code",
      "source": [],
      "metadata": {
        "id": "l0bR4OJtEsv-"
      },
      "execution_count": null,
      "outputs": []
    }
  ],
  "metadata": {
    "colab": {
      "provenance": [],
      "mount_file_id": "1bn36MOCdKD-cowqwWgzd4t3ypWoULFM3",
      "authorship_tag": "ABX9TyMB8/Tbrm4Y4M3eOH9bxBUH",
      "include_colab_link": true
    },
    "kernelspec": {
      "display_name": "Python 3",
      "name": "python3"
    },
    "language_info": {
      "name": "python"
    },
    "widgets": {
      "application/vnd.jupyter.widget-state+json": {
        "a38a69a43cb2412db5118870c9108efb": {
          "model_module": "@jupyter-widgets/controls",
          "model_name": "HBoxModel",
          "model_module_version": "1.5.0",
          "state": {
            "_dom_classes": [],
            "_model_module": "@jupyter-widgets/controls",
            "_model_module_version": "1.5.0",
            "_model_name": "HBoxModel",
            "_view_count": null,
            "_view_module": "@jupyter-widgets/controls",
            "_view_module_version": "1.5.0",
            "_view_name": "HBoxView",
            "box_style": "",
            "children": [
              "IPY_MODEL_fcc3ee6063cb4c429fedfb33444547b3",
              "IPY_MODEL_5551ac4220d642cbaa479ebb886b5987",
              "IPY_MODEL_20a6f0c2f1ff4bc6ba0cd4b53f4e94e2"
            ],
            "layout": "IPY_MODEL_cb917da4e0654d40bbaeabbc8e022d77"
          }
        },
        "fcc3ee6063cb4c429fedfb33444547b3": {
          "model_module": "@jupyter-widgets/controls",
          "model_name": "HTMLModel",
          "model_module_version": "1.5.0",
          "state": {
            "_dom_classes": [],
            "_model_module": "@jupyter-widgets/controls",
            "_model_module_version": "1.5.0",
            "_model_name": "HTMLModel",
            "_view_count": null,
            "_view_module": "@jupyter-widgets/controls",
            "_view_module_version": "1.5.0",
            "_view_name": "HTMLView",
            "description": "",
            "description_tooltip": null,
            "layout": "IPY_MODEL_0f35ee1d24ea49e69d236cc4ad66676d",
            "placeholder": "​",
            "style": "IPY_MODEL_c60852e601314b1c8981229cbde4c822",
            "value": "Downloading (…)okenizer_config.json: 100%"
          }
        },
        "5551ac4220d642cbaa479ebb886b5987": {
          "model_module": "@jupyter-widgets/controls",
          "model_name": "FloatProgressModel",
          "model_module_version": "1.5.0",
          "state": {
            "_dom_classes": [],
            "_model_module": "@jupyter-widgets/controls",
            "_model_module_version": "1.5.0",
            "_model_name": "FloatProgressModel",
            "_view_count": null,
            "_view_module": "@jupyter-widgets/controls",
            "_view_module_version": "1.5.0",
            "_view_name": "ProgressView",
            "bar_style": "success",
            "description": "",
            "description_tooltip": null,
            "layout": "IPY_MODEL_186a4235a4f2443db4b53f1a359f7924",
            "max": 28,
            "min": 0,
            "orientation": "horizontal",
            "style": "IPY_MODEL_ee7f691d34b1486595dc1b9de7d67942",
            "value": 28
          }
        },
        "20a6f0c2f1ff4bc6ba0cd4b53f4e94e2": {
          "model_module": "@jupyter-widgets/controls",
          "model_name": "HTMLModel",
          "model_module_version": "1.5.0",
          "state": {
            "_dom_classes": [],
            "_model_module": "@jupyter-widgets/controls",
            "_model_module_version": "1.5.0",
            "_model_name": "HTMLModel",
            "_view_count": null,
            "_view_module": "@jupyter-widgets/controls",
            "_view_module_version": "1.5.0",
            "_view_name": "HTMLView",
            "description": "",
            "description_tooltip": null,
            "layout": "IPY_MODEL_d221b462aaf04eb09ba24419a5ab491b",
            "placeholder": "​",
            "style": "IPY_MODEL_3c16ed8a8675435c8b61cad533c793a6",
            "value": " 28.0/28.0 [00:00&lt;00:00, 405B/s]"
          }
        },
        "cb917da4e0654d40bbaeabbc8e022d77": {
          "model_module": "@jupyter-widgets/base",
          "model_name": "LayoutModel",
          "model_module_version": "1.2.0",
          "state": {
            "_model_module": "@jupyter-widgets/base",
            "_model_module_version": "1.2.0",
            "_model_name": "LayoutModel",
            "_view_count": null,
            "_view_module": "@jupyter-widgets/base",
            "_view_module_version": "1.2.0",
            "_view_name": "LayoutView",
            "align_content": null,
            "align_items": null,
            "align_self": null,
            "border": null,
            "bottom": null,
            "display": null,
            "flex": null,
            "flex_flow": null,
            "grid_area": null,
            "grid_auto_columns": null,
            "grid_auto_flow": null,
            "grid_auto_rows": null,
            "grid_column": null,
            "grid_gap": null,
            "grid_row": null,
            "grid_template_areas": null,
            "grid_template_columns": null,
            "grid_template_rows": null,
            "height": null,
            "justify_content": null,
            "justify_items": null,
            "left": null,
            "margin": null,
            "max_height": null,
            "max_width": null,
            "min_height": null,
            "min_width": null,
            "object_fit": null,
            "object_position": null,
            "order": null,
            "overflow": null,
            "overflow_x": null,
            "overflow_y": null,
            "padding": null,
            "right": null,
            "top": null,
            "visibility": null,
            "width": null
          }
        },
        "0f35ee1d24ea49e69d236cc4ad66676d": {
          "model_module": "@jupyter-widgets/base",
          "model_name": "LayoutModel",
          "model_module_version": "1.2.0",
          "state": {
            "_model_module": "@jupyter-widgets/base",
            "_model_module_version": "1.2.0",
            "_model_name": "LayoutModel",
            "_view_count": null,
            "_view_module": "@jupyter-widgets/base",
            "_view_module_version": "1.2.0",
            "_view_name": "LayoutView",
            "align_content": null,
            "align_items": null,
            "align_self": null,
            "border": null,
            "bottom": null,
            "display": null,
            "flex": null,
            "flex_flow": null,
            "grid_area": null,
            "grid_auto_columns": null,
            "grid_auto_flow": null,
            "grid_auto_rows": null,
            "grid_column": null,
            "grid_gap": null,
            "grid_row": null,
            "grid_template_areas": null,
            "grid_template_columns": null,
            "grid_template_rows": null,
            "height": null,
            "justify_content": null,
            "justify_items": null,
            "left": null,
            "margin": null,
            "max_height": null,
            "max_width": null,
            "min_height": null,
            "min_width": null,
            "object_fit": null,
            "object_position": null,
            "order": null,
            "overflow": null,
            "overflow_x": null,
            "overflow_y": null,
            "padding": null,
            "right": null,
            "top": null,
            "visibility": null,
            "width": null
          }
        },
        "c60852e601314b1c8981229cbde4c822": {
          "model_module": "@jupyter-widgets/controls",
          "model_name": "DescriptionStyleModel",
          "model_module_version": "1.5.0",
          "state": {
            "_model_module": "@jupyter-widgets/controls",
            "_model_module_version": "1.5.0",
            "_model_name": "DescriptionStyleModel",
            "_view_count": null,
            "_view_module": "@jupyter-widgets/base",
            "_view_module_version": "1.2.0",
            "_view_name": "StyleView",
            "description_width": ""
          }
        },
        "186a4235a4f2443db4b53f1a359f7924": {
          "model_module": "@jupyter-widgets/base",
          "model_name": "LayoutModel",
          "model_module_version": "1.2.0",
          "state": {
            "_model_module": "@jupyter-widgets/base",
            "_model_module_version": "1.2.0",
            "_model_name": "LayoutModel",
            "_view_count": null,
            "_view_module": "@jupyter-widgets/base",
            "_view_module_version": "1.2.0",
            "_view_name": "LayoutView",
            "align_content": null,
            "align_items": null,
            "align_self": null,
            "border": null,
            "bottom": null,
            "display": null,
            "flex": null,
            "flex_flow": null,
            "grid_area": null,
            "grid_auto_columns": null,
            "grid_auto_flow": null,
            "grid_auto_rows": null,
            "grid_column": null,
            "grid_gap": null,
            "grid_row": null,
            "grid_template_areas": null,
            "grid_template_columns": null,
            "grid_template_rows": null,
            "height": null,
            "justify_content": null,
            "justify_items": null,
            "left": null,
            "margin": null,
            "max_height": null,
            "max_width": null,
            "min_height": null,
            "min_width": null,
            "object_fit": null,
            "object_position": null,
            "order": null,
            "overflow": null,
            "overflow_x": null,
            "overflow_y": null,
            "padding": null,
            "right": null,
            "top": null,
            "visibility": null,
            "width": null
          }
        },
        "ee7f691d34b1486595dc1b9de7d67942": {
          "model_module": "@jupyter-widgets/controls",
          "model_name": "ProgressStyleModel",
          "model_module_version": "1.5.0",
          "state": {
            "_model_module": "@jupyter-widgets/controls",
            "_model_module_version": "1.5.0",
            "_model_name": "ProgressStyleModel",
            "_view_count": null,
            "_view_module": "@jupyter-widgets/base",
            "_view_module_version": "1.2.0",
            "_view_name": "StyleView",
            "bar_color": null,
            "description_width": ""
          }
        },
        "d221b462aaf04eb09ba24419a5ab491b": {
          "model_module": "@jupyter-widgets/base",
          "model_name": "LayoutModel",
          "model_module_version": "1.2.0",
          "state": {
            "_model_module": "@jupyter-widgets/base",
            "_model_module_version": "1.2.0",
            "_model_name": "LayoutModel",
            "_view_count": null,
            "_view_module": "@jupyter-widgets/base",
            "_view_module_version": "1.2.0",
            "_view_name": "LayoutView",
            "align_content": null,
            "align_items": null,
            "align_self": null,
            "border": null,
            "bottom": null,
            "display": null,
            "flex": null,
            "flex_flow": null,
            "grid_area": null,
            "grid_auto_columns": null,
            "grid_auto_flow": null,
            "grid_auto_rows": null,
            "grid_column": null,
            "grid_gap": null,
            "grid_row": null,
            "grid_template_areas": null,
            "grid_template_columns": null,
            "grid_template_rows": null,
            "height": null,
            "justify_content": null,
            "justify_items": null,
            "left": null,
            "margin": null,
            "max_height": null,
            "max_width": null,
            "min_height": null,
            "min_width": null,
            "object_fit": null,
            "object_position": null,
            "order": null,
            "overflow": null,
            "overflow_x": null,
            "overflow_y": null,
            "padding": null,
            "right": null,
            "top": null,
            "visibility": null,
            "width": null
          }
        },
        "3c16ed8a8675435c8b61cad533c793a6": {
          "model_module": "@jupyter-widgets/controls",
          "model_name": "DescriptionStyleModel",
          "model_module_version": "1.5.0",
          "state": {
            "_model_module": "@jupyter-widgets/controls",
            "_model_module_version": "1.5.0",
            "_model_name": "DescriptionStyleModel",
            "_view_count": null,
            "_view_module": "@jupyter-widgets/base",
            "_view_module_version": "1.2.0",
            "_view_name": "StyleView",
            "description_width": ""
          }
        },
        "053dc4ccaa624ba58468e0d2200254fe": {
          "model_module": "@jupyter-widgets/controls",
          "model_name": "HBoxModel",
          "model_module_version": "1.5.0",
          "state": {
            "_dom_classes": [],
            "_model_module": "@jupyter-widgets/controls",
            "_model_module_version": "1.5.0",
            "_model_name": "HBoxModel",
            "_view_count": null,
            "_view_module": "@jupyter-widgets/controls",
            "_view_module_version": "1.5.0",
            "_view_name": "HBoxView",
            "box_style": "",
            "children": [
              "IPY_MODEL_6145cfdd6237416cbbe09b05b1cb367c",
              "IPY_MODEL_9c60396bfab4480d9266e5e6858ae65a",
              "IPY_MODEL_0f1860e90e5e48408f38ad5681488b8b"
            ],
            "layout": "IPY_MODEL_dc9063f4f635490c8dc95ff5ed049533"
          }
        },
        "6145cfdd6237416cbbe09b05b1cb367c": {
          "model_module": "@jupyter-widgets/controls",
          "model_name": "HTMLModel",
          "model_module_version": "1.5.0",
          "state": {
            "_dom_classes": [],
            "_model_module": "@jupyter-widgets/controls",
            "_model_module_version": "1.5.0",
            "_model_name": "HTMLModel",
            "_view_count": null,
            "_view_module": "@jupyter-widgets/controls",
            "_view_module_version": "1.5.0",
            "_view_name": "HTMLView",
            "description": "",
            "description_tooltip": null,
            "layout": "IPY_MODEL_a20d3fc5b183488b9be037441b5d653d",
            "placeholder": "​",
            "style": "IPY_MODEL_fe829d8bdd624088849eb3f7d92c6768",
            "value": "Downloading (…)lve/main/config.json: 100%"
          }
        },
        "9c60396bfab4480d9266e5e6858ae65a": {
          "model_module": "@jupyter-widgets/controls",
          "model_name": "FloatProgressModel",
          "model_module_version": "1.5.0",
          "state": {
            "_dom_classes": [],
            "_model_module": "@jupyter-widgets/controls",
            "_model_module_version": "1.5.0",
            "_model_name": "FloatProgressModel",
            "_view_count": null,
            "_view_module": "@jupyter-widgets/controls",
            "_view_module_version": "1.5.0",
            "_view_name": "ProgressView",
            "bar_style": "success",
            "description": "",
            "description_tooltip": null,
            "layout": "IPY_MODEL_fc5fa3036dd04c198a221e28d6118182",
            "max": 483,
            "min": 0,
            "orientation": "horizontal",
            "style": "IPY_MODEL_ec4f5d2cc3de45fc952d37a6429bff4c",
            "value": 483
          }
        },
        "0f1860e90e5e48408f38ad5681488b8b": {
          "model_module": "@jupyter-widgets/controls",
          "model_name": "HTMLModel",
          "model_module_version": "1.5.0",
          "state": {
            "_dom_classes": [],
            "_model_module": "@jupyter-widgets/controls",
            "_model_module_version": "1.5.0",
            "_model_name": "HTMLModel",
            "_view_count": null,
            "_view_module": "@jupyter-widgets/controls",
            "_view_module_version": "1.5.0",
            "_view_name": "HTMLView",
            "description": "",
            "description_tooltip": null,
            "layout": "IPY_MODEL_47315215fd294ee194eb89b1e7252f4a",
            "placeholder": "​",
            "style": "IPY_MODEL_deadd3edb554433f9697949e272134c4",
            "value": " 483/483 [00:00&lt;00:00, 7.46kB/s]"
          }
        },
        "dc9063f4f635490c8dc95ff5ed049533": {
          "model_module": "@jupyter-widgets/base",
          "model_name": "LayoutModel",
          "model_module_version": "1.2.0",
          "state": {
            "_model_module": "@jupyter-widgets/base",
            "_model_module_version": "1.2.0",
            "_model_name": "LayoutModel",
            "_view_count": null,
            "_view_module": "@jupyter-widgets/base",
            "_view_module_version": "1.2.0",
            "_view_name": "LayoutView",
            "align_content": null,
            "align_items": null,
            "align_self": null,
            "border": null,
            "bottom": null,
            "display": null,
            "flex": null,
            "flex_flow": null,
            "grid_area": null,
            "grid_auto_columns": null,
            "grid_auto_flow": null,
            "grid_auto_rows": null,
            "grid_column": null,
            "grid_gap": null,
            "grid_row": null,
            "grid_template_areas": null,
            "grid_template_columns": null,
            "grid_template_rows": null,
            "height": null,
            "justify_content": null,
            "justify_items": null,
            "left": null,
            "margin": null,
            "max_height": null,
            "max_width": null,
            "min_height": null,
            "min_width": null,
            "object_fit": null,
            "object_position": null,
            "order": null,
            "overflow": null,
            "overflow_x": null,
            "overflow_y": null,
            "padding": null,
            "right": null,
            "top": null,
            "visibility": null,
            "width": null
          }
        },
        "a20d3fc5b183488b9be037441b5d653d": {
          "model_module": "@jupyter-widgets/base",
          "model_name": "LayoutModel",
          "model_module_version": "1.2.0",
          "state": {
            "_model_module": "@jupyter-widgets/base",
            "_model_module_version": "1.2.0",
            "_model_name": "LayoutModel",
            "_view_count": null,
            "_view_module": "@jupyter-widgets/base",
            "_view_module_version": "1.2.0",
            "_view_name": "LayoutView",
            "align_content": null,
            "align_items": null,
            "align_self": null,
            "border": null,
            "bottom": null,
            "display": null,
            "flex": null,
            "flex_flow": null,
            "grid_area": null,
            "grid_auto_columns": null,
            "grid_auto_flow": null,
            "grid_auto_rows": null,
            "grid_column": null,
            "grid_gap": null,
            "grid_row": null,
            "grid_template_areas": null,
            "grid_template_columns": null,
            "grid_template_rows": null,
            "height": null,
            "justify_content": null,
            "justify_items": null,
            "left": null,
            "margin": null,
            "max_height": null,
            "max_width": null,
            "min_height": null,
            "min_width": null,
            "object_fit": null,
            "object_position": null,
            "order": null,
            "overflow": null,
            "overflow_x": null,
            "overflow_y": null,
            "padding": null,
            "right": null,
            "top": null,
            "visibility": null,
            "width": null
          }
        },
        "fe829d8bdd624088849eb3f7d92c6768": {
          "model_module": "@jupyter-widgets/controls",
          "model_name": "DescriptionStyleModel",
          "model_module_version": "1.5.0",
          "state": {
            "_model_module": "@jupyter-widgets/controls",
            "_model_module_version": "1.5.0",
            "_model_name": "DescriptionStyleModel",
            "_view_count": null,
            "_view_module": "@jupyter-widgets/base",
            "_view_module_version": "1.2.0",
            "_view_name": "StyleView",
            "description_width": ""
          }
        },
        "fc5fa3036dd04c198a221e28d6118182": {
          "model_module": "@jupyter-widgets/base",
          "model_name": "LayoutModel",
          "model_module_version": "1.2.0",
          "state": {
            "_model_module": "@jupyter-widgets/base",
            "_model_module_version": "1.2.0",
            "_model_name": "LayoutModel",
            "_view_count": null,
            "_view_module": "@jupyter-widgets/base",
            "_view_module_version": "1.2.0",
            "_view_name": "LayoutView",
            "align_content": null,
            "align_items": null,
            "align_self": null,
            "border": null,
            "bottom": null,
            "display": null,
            "flex": null,
            "flex_flow": null,
            "grid_area": null,
            "grid_auto_columns": null,
            "grid_auto_flow": null,
            "grid_auto_rows": null,
            "grid_column": null,
            "grid_gap": null,
            "grid_row": null,
            "grid_template_areas": null,
            "grid_template_columns": null,
            "grid_template_rows": null,
            "height": null,
            "justify_content": null,
            "justify_items": null,
            "left": null,
            "margin": null,
            "max_height": null,
            "max_width": null,
            "min_height": null,
            "min_width": null,
            "object_fit": null,
            "object_position": null,
            "order": null,
            "overflow": null,
            "overflow_x": null,
            "overflow_y": null,
            "padding": null,
            "right": null,
            "top": null,
            "visibility": null,
            "width": null
          }
        },
        "ec4f5d2cc3de45fc952d37a6429bff4c": {
          "model_module": "@jupyter-widgets/controls",
          "model_name": "ProgressStyleModel",
          "model_module_version": "1.5.0",
          "state": {
            "_model_module": "@jupyter-widgets/controls",
            "_model_module_version": "1.5.0",
            "_model_name": "ProgressStyleModel",
            "_view_count": null,
            "_view_module": "@jupyter-widgets/base",
            "_view_module_version": "1.2.0",
            "_view_name": "StyleView",
            "bar_color": null,
            "description_width": ""
          }
        },
        "47315215fd294ee194eb89b1e7252f4a": {
          "model_module": "@jupyter-widgets/base",
          "model_name": "LayoutModel",
          "model_module_version": "1.2.0",
          "state": {
            "_model_module": "@jupyter-widgets/base",
            "_model_module_version": "1.2.0",
            "_model_name": "LayoutModel",
            "_view_count": null,
            "_view_module": "@jupyter-widgets/base",
            "_view_module_version": "1.2.0",
            "_view_name": "LayoutView",
            "align_content": null,
            "align_items": null,
            "align_self": null,
            "border": null,
            "bottom": null,
            "display": null,
            "flex": null,
            "flex_flow": null,
            "grid_area": null,
            "grid_auto_columns": null,
            "grid_auto_flow": null,
            "grid_auto_rows": null,
            "grid_column": null,
            "grid_gap": null,
            "grid_row": null,
            "grid_template_areas": null,
            "grid_template_columns": null,
            "grid_template_rows": null,
            "height": null,
            "justify_content": null,
            "justify_items": null,
            "left": null,
            "margin": null,
            "max_height": null,
            "max_width": null,
            "min_height": null,
            "min_width": null,
            "object_fit": null,
            "object_position": null,
            "order": null,
            "overflow": null,
            "overflow_x": null,
            "overflow_y": null,
            "padding": null,
            "right": null,
            "top": null,
            "visibility": null,
            "width": null
          }
        },
        "deadd3edb554433f9697949e272134c4": {
          "model_module": "@jupyter-widgets/controls",
          "model_name": "DescriptionStyleModel",
          "model_module_version": "1.5.0",
          "state": {
            "_model_module": "@jupyter-widgets/controls",
            "_model_module_version": "1.5.0",
            "_model_name": "DescriptionStyleModel",
            "_view_count": null,
            "_view_module": "@jupyter-widgets/base",
            "_view_module_version": "1.2.0",
            "_view_name": "StyleView",
            "description_width": ""
          }
        },
        "b461108b93e34735a43c37f7013daeff": {
          "model_module": "@jupyter-widgets/controls",
          "model_name": "HBoxModel",
          "model_module_version": "1.5.0",
          "state": {
            "_dom_classes": [],
            "_model_module": "@jupyter-widgets/controls",
            "_model_module_version": "1.5.0",
            "_model_name": "HBoxModel",
            "_view_count": null,
            "_view_module": "@jupyter-widgets/controls",
            "_view_module_version": "1.5.0",
            "_view_name": "HBoxView",
            "box_style": "",
            "children": [
              "IPY_MODEL_56602bb2294b489e873328355651eda8",
              "IPY_MODEL_7d59a5c65e184256a85d78755a0365e3",
              "IPY_MODEL_3ef93918c99b48c6905a06d6cb764a8c"
            ],
            "layout": "IPY_MODEL_1fcfaa2a74cc4952bb9913fbef11c4a8"
          }
        },
        "56602bb2294b489e873328355651eda8": {
          "model_module": "@jupyter-widgets/controls",
          "model_name": "HTMLModel",
          "model_module_version": "1.5.0",
          "state": {
            "_dom_classes": [],
            "_model_module": "@jupyter-widgets/controls",
            "_model_module_version": "1.5.0",
            "_model_name": "HTMLModel",
            "_view_count": null,
            "_view_module": "@jupyter-widgets/controls",
            "_view_module_version": "1.5.0",
            "_view_name": "HTMLView",
            "description": "",
            "description_tooltip": null,
            "layout": "IPY_MODEL_9df3bccc781542939c9a75487ac0843e",
            "placeholder": "​",
            "style": "IPY_MODEL_e294eeb0eace4a07b1622bcca8837624",
            "value": "Downloading (…)solve/main/vocab.txt: 100%"
          }
        },
        "7d59a5c65e184256a85d78755a0365e3": {
          "model_module": "@jupyter-widgets/controls",
          "model_name": "FloatProgressModel",
          "model_module_version": "1.5.0",
          "state": {
            "_dom_classes": [],
            "_model_module": "@jupyter-widgets/controls",
            "_model_module_version": "1.5.0",
            "_model_name": "FloatProgressModel",
            "_view_count": null,
            "_view_module": "@jupyter-widgets/controls",
            "_view_module_version": "1.5.0",
            "_view_name": "ProgressView",
            "bar_style": "success",
            "description": "",
            "description_tooltip": null,
            "layout": "IPY_MODEL_1904eabb54e7496f950b253d951991ad",
            "max": 231508,
            "min": 0,
            "orientation": "horizontal",
            "style": "IPY_MODEL_3646fa6607e5430e9cfa0696ad6fc507",
            "value": 231508
          }
        },
        "3ef93918c99b48c6905a06d6cb764a8c": {
          "model_module": "@jupyter-widgets/controls",
          "model_name": "HTMLModel",
          "model_module_version": "1.5.0",
          "state": {
            "_dom_classes": [],
            "_model_module": "@jupyter-widgets/controls",
            "_model_module_version": "1.5.0",
            "_model_name": "HTMLModel",
            "_view_count": null,
            "_view_module": "@jupyter-widgets/controls",
            "_view_module_version": "1.5.0",
            "_view_name": "HTMLView",
            "description": "",
            "description_tooltip": null,
            "layout": "IPY_MODEL_ef3362f6d01d48bf83c760180a093910",
            "placeholder": "​",
            "style": "IPY_MODEL_33069873888e4a4592e017a1ae4818cc",
            "value": " 232k/232k [00:00&lt;00:00, 1.90MB/s]"
          }
        },
        "1fcfaa2a74cc4952bb9913fbef11c4a8": {
          "model_module": "@jupyter-widgets/base",
          "model_name": "LayoutModel",
          "model_module_version": "1.2.0",
          "state": {
            "_model_module": "@jupyter-widgets/base",
            "_model_module_version": "1.2.0",
            "_model_name": "LayoutModel",
            "_view_count": null,
            "_view_module": "@jupyter-widgets/base",
            "_view_module_version": "1.2.0",
            "_view_name": "LayoutView",
            "align_content": null,
            "align_items": null,
            "align_self": null,
            "border": null,
            "bottom": null,
            "display": null,
            "flex": null,
            "flex_flow": null,
            "grid_area": null,
            "grid_auto_columns": null,
            "grid_auto_flow": null,
            "grid_auto_rows": null,
            "grid_column": null,
            "grid_gap": null,
            "grid_row": null,
            "grid_template_areas": null,
            "grid_template_columns": null,
            "grid_template_rows": null,
            "height": null,
            "justify_content": null,
            "justify_items": null,
            "left": null,
            "margin": null,
            "max_height": null,
            "max_width": null,
            "min_height": null,
            "min_width": null,
            "object_fit": null,
            "object_position": null,
            "order": null,
            "overflow": null,
            "overflow_x": null,
            "overflow_y": null,
            "padding": null,
            "right": null,
            "top": null,
            "visibility": null,
            "width": null
          }
        },
        "9df3bccc781542939c9a75487ac0843e": {
          "model_module": "@jupyter-widgets/base",
          "model_name": "LayoutModel",
          "model_module_version": "1.2.0",
          "state": {
            "_model_module": "@jupyter-widgets/base",
            "_model_module_version": "1.2.0",
            "_model_name": "LayoutModel",
            "_view_count": null,
            "_view_module": "@jupyter-widgets/base",
            "_view_module_version": "1.2.0",
            "_view_name": "LayoutView",
            "align_content": null,
            "align_items": null,
            "align_self": null,
            "border": null,
            "bottom": null,
            "display": null,
            "flex": null,
            "flex_flow": null,
            "grid_area": null,
            "grid_auto_columns": null,
            "grid_auto_flow": null,
            "grid_auto_rows": null,
            "grid_column": null,
            "grid_gap": null,
            "grid_row": null,
            "grid_template_areas": null,
            "grid_template_columns": null,
            "grid_template_rows": null,
            "height": null,
            "justify_content": null,
            "justify_items": null,
            "left": null,
            "margin": null,
            "max_height": null,
            "max_width": null,
            "min_height": null,
            "min_width": null,
            "object_fit": null,
            "object_position": null,
            "order": null,
            "overflow": null,
            "overflow_x": null,
            "overflow_y": null,
            "padding": null,
            "right": null,
            "top": null,
            "visibility": null,
            "width": null
          }
        },
        "e294eeb0eace4a07b1622bcca8837624": {
          "model_module": "@jupyter-widgets/controls",
          "model_name": "DescriptionStyleModel",
          "model_module_version": "1.5.0",
          "state": {
            "_model_module": "@jupyter-widgets/controls",
            "_model_module_version": "1.5.0",
            "_model_name": "DescriptionStyleModel",
            "_view_count": null,
            "_view_module": "@jupyter-widgets/base",
            "_view_module_version": "1.2.0",
            "_view_name": "StyleView",
            "description_width": ""
          }
        },
        "1904eabb54e7496f950b253d951991ad": {
          "model_module": "@jupyter-widgets/base",
          "model_name": "LayoutModel",
          "model_module_version": "1.2.0",
          "state": {
            "_model_module": "@jupyter-widgets/base",
            "_model_module_version": "1.2.0",
            "_model_name": "LayoutModel",
            "_view_count": null,
            "_view_module": "@jupyter-widgets/base",
            "_view_module_version": "1.2.0",
            "_view_name": "LayoutView",
            "align_content": null,
            "align_items": null,
            "align_self": null,
            "border": null,
            "bottom": null,
            "display": null,
            "flex": null,
            "flex_flow": null,
            "grid_area": null,
            "grid_auto_columns": null,
            "grid_auto_flow": null,
            "grid_auto_rows": null,
            "grid_column": null,
            "grid_gap": null,
            "grid_row": null,
            "grid_template_areas": null,
            "grid_template_columns": null,
            "grid_template_rows": null,
            "height": null,
            "justify_content": null,
            "justify_items": null,
            "left": null,
            "margin": null,
            "max_height": null,
            "max_width": null,
            "min_height": null,
            "min_width": null,
            "object_fit": null,
            "object_position": null,
            "order": null,
            "overflow": null,
            "overflow_x": null,
            "overflow_y": null,
            "padding": null,
            "right": null,
            "top": null,
            "visibility": null,
            "width": null
          }
        },
        "3646fa6607e5430e9cfa0696ad6fc507": {
          "model_module": "@jupyter-widgets/controls",
          "model_name": "ProgressStyleModel",
          "model_module_version": "1.5.0",
          "state": {
            "_model_module": "@jupyter-widgets/controls",
            "_model_module_version": "1.5.0",
            "_model_name": "ProgressStyleModel",
            "_view_count": null,
            "_view_module": "@jupyter-widgets/base",
            "_view_module_version": "1.2.0",
            "_view_name": "StyleView",
            "bar_color": null,
            "description_width": ""
          }
        },
        "ef3362f6d01d48bf83c760180a093910": {
          "model_module": "@jupyter-widgets/base",
          "model_name": "LayoutModel",
          "model_module_version": "1.2.0",
          "state": {
            "_model_module": "@jupyter-widgets/base",
            "_model_module_version": "1.2.0",
            "_model_name": "LayoutModel",
            "_view_count": null,
            "_view_module": "@jupyter-widgets/base",
            "_view_module_version": "1.2.0",
            "_view_name": "LayoutView",
            "align_content": null,
            "align_items": null,
            "align_self": null,
            "border": null,
            "bottom": null,
            "display": null,
            "flex": null,
            "flex_flow": null,
            "grid_area": null,
            "grid_auto_columns": null,
            "grid_auto_flow": null,
            "grid_auto_rows": null,
            "grid_column": null,
            "grid_gap": null,
            "grid_row": null,
            "grid_template_areas": null,
            "grid_template_columns": null,
            "grid_template_rows": null,
            "height": null,
            "justify_content": null,
            "justify_items": null,
            "left": null,
            "margin": null,
            "max_height": null,
            "max_width": null,
            "min_height": null,
            "min_width": null,
            "object_fit": null,
            "object_position": null,
            "order": null,
            "overflow": null,
            "overflow_x": null,
            "overflow_y": null,
            "padding": null,
            "right": null,
            "top": null,
            "visibility": null,
            "width": null
          }
        },
        "33069873888e4a4592e017a1ae4818cc": {
          "model_module": "@jupyter-widgets/controls",
          "model_name": "DescriptionStyleModel",
          "model_module_version": "1.5.0",
          "state": {
            "_model_module": "@jupyter-widgets/controls",
            "_model_module_version": "1.5.0",
            "_model_name": "DescriptionStyleModel",
            "_view_count": null,
            "_view_module": "@jupyter-widgets/base",
            "_view_module_version": "1.2.0",
            "_view_name": "StyleView",
            "description_width": ""
          }
        },
        "a0841ef1c53c46269d556d8d0f2e8daa": {
          "model_module": "@jupyter-widgets/controls",
          "model_name": "HBoxModel",
          "model_module_version": "1.5.0",
          "state": {
            "_dom_classes": [],
            "_model_module": "@jupyter-widgets/controls",
            "_model_module_version": "1.5.0",
            "_model_name": "HBoxModel",
            "_view_count": null,
            "_view_module": "@jupyter-widgets/controls",
            "_view_module_version": "1.5.0",
            "_view_name": "HBoxView",
            "box_style": "",
            "children": [
              "IPY_MODEL_54b291e65b044f419eeaa92fb2ee3e16",
              "IPY_MODEL_6acb77ebe47c4e5f99c4ab6f491e82de",
              "IPY_MODEL_271cafa219c942c6a380695850b43c61"
            ],
            "layout": "IPY_MODEL_6b2172fbad1e48338fdde7a5fbaa2a46"
          }
        },
        "54b291e65b044f419eeaa92fb2ee3e16": {
          "model_module": "@jupyter-widgets/controls",
          "model_name": "HTMLModel",
          "model_module_version": "1.5.0",
          "state": {
            "_dom_classes": [],
            "_model_module": "@jupyter-widgets/controls",
            "_model_module_version": "1.5.0",
            "_model_name": "HTMLModel",
            "_view_count": null,
            "_view_module": "@jupyter-widgets/controls",
            "_view_module_version": "1.5.0",
            "_view_name": "HTMLView",
            "description": "",
            "description_tooltip": null,
            "layout": "IPY_MODEL_236403d397d349b08c9f01889d84d785",
            "placeholder": "​",
            "style": "IPY_MODEL_37e047c7b7a646e4940ca799ba055c80",
            "value": "Downloading (…)/main/tokenizer.json: 100%"
          }
        },
        "6acb77ebe47c4e5f99c4ab6f491e82de": {
          "model_module": "@jupyter-widgets/controls",
          "model_name": "FloatProgressModel",
          "model_module_version": "1.5.0",
          "state": {
            "_dom_classes": [],
            "_model_module": "@jupyter-widgets/controls",
            "_model_module_version": "1.5.0",
            "_model_name": "FloatProgressModel",
            "_view_count": null,
            "_view_module": "@jupyter-widgets/controls",
            "_view_module_version": "1.5.0",
            "_view_name": "ProgressView",
            "bar_style": "success",
            "description": "",
            "description_tooltip": null,
            "layout": "IPY_MODEL_32b78bd05bdf47ad8025799854643aa2",
            "max": 466062,
            "min": 0,
            "orientation": "horizontal",
            "style": "IPY_MODEL_5262bf7e36874ad3ac8523000223e248",
            "value": 466062
          }
        },
        "271cafa219c942c6a380695850b43c61": {
          "model_module": "@jupyter-widgets/controls",
          "model_name": "HTMLModel",
          "model_module_version": "1.5.0",
          "state": {
            "_dom_classes": [],
            "_model_module": "@jupyter-widgets/controls",
            "_model_module_version": "1.5.0",
            "_model_name": "HTMLModel",
            "_view_count": null,
            "_view_module": "@jupyter-widgets/controls",
            "_view_module_version": "1.5.0",
            "_view_name": "HTMLView",
            "description": "",
            "description_tooltip": null,
            "layout": "IPY_MODEL_f9eb45eccc7d4e28a81fe89e98d9ecc8",
            "placeholder": "​",
            "style": "IPY_MODEL_0c736e4a3938420aa26e987f780c9339",
            "value": " 466k/466k [00:00&lt;00:00, 2.82MB/s]"
          }
        },
        "6b2172fbad1e48338fdde7a5fbaa2a46": {
          "model_module": "@jupyter-widgets/base",
          "model_name": "LayoutModel",
          "model_module_version": "1.2.0",
          "state": {
            "_model_module": "@jupyter-widgets/base",
            "_model_module_version": "1.2.0",
            "_model_name": "LayoutModel",
            "_view_count": null,
            "_view_module": "@jupyter-widgets/base",
            "_view_module_version": "1.2.0",
            "_view_name": "LayoutView",
            "align_content": null,
            "align_items": null,
            "align_self": null,
            "border": null,
            "bottom": null,
            "display": null,
            "flex": null,
            "flex_flow": null,
            "grid_area": null,
            "grid_auto_columns": null,
            "grid_auto_flow": null,
            "grid_auto_rows": null,
            "grid_column": null,
            "grid_gap": null,
            "grid_row": null,
            "grid_template_areas": null,
            "grid_template_columns": null,
            "grid_template_rows": null,
            "height": null,
            "justify_content": null,
            "justify_items": null,
            "left": null,
            "margin": null,
            "max_height": null,
            "max_width": null,
            "min_height": null,
            "min_width": null,
            "object_fit": null,
            "object_position": null,
            "order": null,
            "overflow": null,
            "overflow_x": null,
            "overflow_y": null,
            "padding": null,
            "right": null,
            "top": null,
            "visibility": null,
            "width": null
          }
        },
        "236403d397d349b08c9f01889d84d785": {
          "model_module": "@jupyter-widgets/base",
          "model_name": "LayoutModel",
          "model_module_version": "1.2.0",
          "state": {
            "_model_module": "@jupyter-widgets/base",
            "_model_module_version": "1.2.0",
            "_model_name": "LayoutModel",
            "_view_count": null,
            "_view_module": "@jupyter-widgets/base",
            "_view_module_version": "1.2.0",
            "_view_name": "LayoutView",
            "align_content": null,
            "align_items": null,
            "align_self": null,
            "border": null,
            "bottom": null,
            "display": null,
            "flex": null,
            "flex_flow": null,
            "grid_area": null,
            "grid_auto_columns": null,
            "grid_auto_flow": null,
            "grid_auto_rows": null,
            "grid_column": null,
            "grid_gap": null,
            "grid_row": null,
            "grid_template_areas": null,
            "grid_template_columns": null,
            "grid_template_rows": null,
            "height": null,
            "justify_content": null,
            "justify_items": null,
            "left": null,
            "margin": null,
            "max_height": null,
            "max_width": null,
            "min_height": null,
            "min_width": null,
            "object_fit": null,
            "object_position": null,
            "order": null,
            "overflow": null,
            "overflow_x": null,
            "overflow_y": null,
            "padding": null,
            "right": null,
            "top": null,
            "visibility": null,
            "width": null
          }
        },
        "37e047c7b7a646e4940ca799ba055c80": {
          "model_module": "@jupyter-widgets/controls",
          "model_name": "DescriptionStyleModel",
          "model_module_version": "1.5.0",
          "state": {
            "_model_module": "@jupyter-widgets/controls",
            "_model_module_version": "1.5.0",
            "_model_name": "DescriptionStyleModel",
            "_view_count": null,
            "_view_module": "@jupyter-widgets/base",
            "_view_module_version": "1.2.0",
            "_view_name": "StyleView",
            "description_width": ""
          }
        },
        "32b78bd05bdf47ad8025799854643aa2": {
          "model_module": "@jupyter-widgets/base",
          "model_name": "LayoutModel",
          "model_module_version": "1.2.0",
          "state": {
            "_model_module": "@jupyter-widgets/base",
            "_model_module_version": "1.2.0",
            "_model_name": "LayoutModel",
            "_view_count": null,
            "_view_module": "@jupyter-widgets/base",
            "_view_module_version": "1.2.0",
            "_view_name": "LayoutView",
            "align_content": null,
            "align_items": null,
            "align_self": null,
            "border": null,
            "bottom": null,
            "display": null,
            "flex": null,
            "flex_flow": null,
            "grid_area": null,
            "grid_auto_columns": null,
            "grid_auto_flow": null,
            "grid_auto_rows": null,
            "grid_column": null,
            "grid_gap": null,
            "grid_row": null,
            "grid_template_areas": null,
            "grid_template_columns": null,
            "grid_template_rows": null,
            "height": null,
            "justify_content": null,
            "justify_items": null,
            "left": null,
            "margin": null,
            "max_height": null,
            "max_width": null,
            "min_height": null,
            "min_width": null,
            "object_fit": null,
            "object_position": null,
            "order": null,
            "overflow": null,
            "overflow_x": null,
            "overflow_y": null,
            "padding": null,
            "right": null,
            "top": null,
            "visibility": null,
            "width": null
          }
        },
        "5262bf7e36874ad3ac8523000223e248": {
          "model_module": "@jupyter-widgets/controls",
          "model_name": "ProgressStyleModel",
          "model_module_version": "1.5.0",
          "state": {
            "_model_module": "@jupyter-widgets/controls",
            "_model_module_version": "1.5.0",
            "_model_name": "ProgressStyleModel",
            "_view_count": null,
            "_view_module": "@jupyter-widgets/base",
            "_view_module_version": "1.2.0",
            "_view_name": "StyleView",
            "bar_color": null,
            "description_width": ""
          }
        },
        "f9eb45eccc7d4e28a81fe89e98d9ecc8": {
          "model_module": "@jupyter-widgets/base",
          "model_name": "LayoutModel",
          "model_module_version": "1.2.0",
          "state": {
            "_model_module": "@jupyter-widgets/base",
            "_model_module_version": "1.2.0",
            "_model_name": "LayoutModel",
            "_view_count": null,
            "_view_module": "@jupyter-widgets/base",
            "_view_module_version": "1.2.0",
            "_view_name": "LayoutView",
            "align_content": null,
            "align_items": null,
            "align_self": null,
            "border": null,
            "bottom": null,
            "display": null,
            "flex": null,
            "flex_flow": null,
            "grid_area": null,
            "grid_auto_columns": null,
            "grid_auto_flow": null,
            "grid_auto_rows": null,
            "grid_column": null,
            "grid_gap": null,
            "grid_row": null,
            "grid_template_areas": null,
            "grid_template_columns": null,
            "grid_template_rows": null,
            "height": null,
            "justify_content": null,
            "justify_items": null,
            "left": null,
            "margin": null,
            "max_height": null,
            "max_width": null,
            "min_height": null,
            "min_width": null,
            "object_fit": null,
            "object_position": null,
            "order": null,
            "overflow": null,
            "overflow_x": null,
            "overflow_y": null,
            "padding": null,
            "right": null,
            "top": null,
            "visibility": null,
            "width": null
          }
        },
        "0c736e4a3938420aa26e987f780c9339": {
          "model_module": "@jupyter-widgets/controls",
          "model_name": "DescriptionStyleModel",
          "model_module_version": "1.5.0",
          "state": {
            "_model_module": "@jupyter-widgets/controls",
            "_model_module_version": "1.5.0",
            "_model_name": "DescriptionStyleModel",
            "_view_count": null,
            "_view_module": "@jupyter-widgets/base",
            "_view_module_version": "1.2.0",
            "_view_name": "StyleView",
            "description_width": ""
          }
        },
        "a25b227c4830443d9b6a4f25bab01ea6": {
          "model_module": "@jupyter-widgets/controls",
          "model_name": "HBoxModel",
          "model_module_version": "1.5.0",
          "state": {
            "_dom_classes": [],
            "_model_module": "@jupyter-widgets/controls",
            "_model_module_version": "1.5.0",
            "_model_name": "HBoxModel",
            "_view_count": null,
            "_view_module": "@jupyter-widgets/controls",
            "_view_module_version": "1.5.0",
            "_view_name": "HBoxView",
            "box_style": "",
            "children": [
              "IPY_MODEL_13062904742f4f919f7cce32c2f45dfa",
              "IPY_MODEL_5cf043e5d9ed4ead91fbb853ee7f45f5",
              "IPY_MODEL_d10b286d4f37470681e1117e8febf38b"
            ],
            "layout": "IPY_MODEL_0e5023800125418d87c3c6ea3469597b"
          }
        },
        "13062904742f4f919f7cce32c2f45dfa": {
          "model_module": "@jupyter-widgets/controls",
          "model_name": "HTMLModel",
          "model_module_version": "1.5.0",
          "state": {
            "_dom_classes": [],
            "_model_module": "@jupyter-widgets/controls",
            "_model_module_version": "1.5.0",
            "_model_name": "HTMLModel",
            "_view_count": null,
            "_view_module": "@jupyter-widgets/controls",
            "_view_module_version": "1.5.0",
            "_view_name": "HTMLView",
            "description": "",
            "description_tooltip": null,
            "layout": "IPY_MODEL_f3c66b007e1141feb29d1475482cabfe",
            "placeholder": "​",
            "style": "IPY_MODEL_bf910753b6674194a11cf67ce8182859",
            "value": "Downloading pytorch_model.bin: 100%"
          }
        },
        "5cf043e5d9ed4ead91fbb853ee7f45f5": {
          "model_module": "@jupyter-widgets/controls",
          "model_name": "FloatProgressModel",
          "model_module_version": "1.5.0",
          "state": {
            "_dom_classes": [],
            "_model_module": "@jupyter-widgets/controls",
            "_model_module_version": "1.5.0",
            "_model_name": "FloatProgressModel",
            "_view_count": null,
            "_view_module": "@jupyter-widgets/controls",
            "_view_module_version": "1.5.0",
            "_view_name": "ProgressView",
            "bar_style": "success",
            "description": "",
            "description_tooltip": null,
            "layout": "IPY_MODEL_db5fbc8b5a07414a9571ec22f35c1e15",
            "max": 267967963,
            "min": 0,
            "orientation": "horizontal",
            "style": "IPY_MODEL_5736d1b8f4cb4f1aa5910bd92f1ff91f",
            "value": 267967963
          }
        },
        "d10b286d4f37470681e1117e8febf38b": {
          "model_module": "@jupyter-widgets/controls",
          "model_name": "HTMLModel",
          "model_module_version": "1.5.0",
          "state": {
            "_dom_classes": [],
            "_model_module": "@jupyter-widgets/controls",
            "_model_module_version": "1.5.0",
            "_model_name": "HTMLModel",
            "_view_count": null,
            "_view_module": "@jupyter-widgets/controls",
            "_view_module_version": "1.5.0",
            "_view_name": "HTMLView",
            "description": "",
            "description_tooltip": null,
            "layout": "IPY_MODEL_93907cfb559440d9be10229b163d7882",
            "placeholder": "​",
            "style": "IPY_MODEL_12ba7dc71254441ebbf75796fc258125",
            "value": " 268M/268M [00:02&lt;00:00, 116MB/s]"
          }
        },
        "0e5023800125418d87c3c6ea3469597b": {
          "model_module": "@jupyter-widgets/base",
          "model_name": "LayoutModel",
          "model_module_version": "1.2.0",
          "state": {
            "_model_module": "@jupyter-widgets/base",
            "_model_module_version": "1.2.0",
            "_model_name": "LayoutModel",
            "_view_count": null,
            "_view_module": "@jupyter-widgets/base",
            "_view_module_version": "1.2.0",
            "_view_name": "LayoutView",
            "align_content": null,
            "align_items": null,
            "align_self": null,
            "border": null,
            "bottom": null,
            "display": null,
            "flex": null,
            "flex_flow": null,
            "grid_area": null,
            "grid_auto_columns": null,
            "grid_auto_flow": null,
            "grid_auto_rows": null,
            "grid_column": null,
            "grid_gap": null,
            "grid_row": null,
            "grid_template_areas": null,
            "grid_template_columns": null,
            "grid_template_rows": null,
            "height": null,
            "justify_content": null,
            "justify_items": null,
            "left": null,
            "margin": null,
            "max_height": null,
            "max_width": null,
            "min_height": null,
            "min_width": null,
            "object_fit": null,
            "object_position": null,
            "order": null,
            "overflow": null,
            "overflow_x": null,
            "overflow_y": null,
            "padding": null,
            "right": null,
            "top": null,
            "visibility": null,
            "width": null
          }
        },
        "f3c66b007e1141feb29d1475482cabfe": {
          "model_module": "@jupyter-widgets/base",
          "model_name": "LayoutModel",
          "model_module_version": "1.2.0",
          "state": {
            "_model_module": "@jupyter-widgets/base",
            "_model_module_version": "1.2.0",
            "_model_name": "LayoutModel",
            "_view_count": null,
            "_view_module": "@jupyter-widgets/base",
            "_view_module_version": "1.2.0",
            "_view_name": "LayoutView",
            "align_content": null,
            "align_items": null,
            "align_self": null,
            "border": null,
            "bottom": null,
            "display": null,
            "flex": null,
            "flex_flow": null,
            "grid_area": null,
            "grid_auto_columns": null,
            "grid_auto_flow": null,
            "grid_auto_rows": null,
            "grid_column": null,
            "grid_gap": null,
            "grid_row": null,
            "grid_template_areas": null,
            "grid_template_columns": null,
            "grid_template_rows": null,
            "height": null,
            "justify_content": null,
            "justify_items": null,
            "left": null,
            "margin": null,
            "max_height": null,
            "max_width": null,
            "min_height": null,
            "min_width": null,
            "object_fit": null,
            "object_position": null,
            "order": null,
            "overflow": null,
            "overflow_x": null,
            "overflow_y": null,
            "padding": null,
            "right": null,
            "top": null,
            "visibility": null,
            "width": null
          }
        },
        "bf910753b6674194a11cf67ce8182859": {
          "model_module": "@jupyter-widgets/controls",
          "model_name": "DescriptionStyleModel",
          "model_module_version": "1.5.0",
          "state": {
            "_model_module": "@jupyter-widgets/controls",
            "_model_module_version": "1.5.0",
            "_model_name": "DescriptionStyleModel",
            "_view_count": null,
            "_view_module": "@jupyter-widgets/base",
            "_view_module_version": "1.2.0",
            "_view_name": "StyleView",
            "description_width": ""
          }
        },
        "db5fbc8b5a07414a9571ec22f35c1e15": {
          "model_module": "@jupyter-widgets/base",
          "model_name": "LayoutModel",
          "model_module_version": "1.2.0",
          "state": {
            "_model_module": "@jupyter-widgets/base",
            "_model_module_version": "1.2.0",
            "_model_name": "LayoutModel",
            "_view_count": null,
            "_view_module": "@jupyter-widgets/base",
            "_view_module_version": "1.2.0",
            "_view_name": "LayoutView",
            "align_content": null,
            "align_items": null,
            "align_self": null,
            "border": null,
            "bottom": null,
            "display": null,
            "flex": null,
            "flex_flow": null,
            "grid_area": null,
            "grid_auto_columns": null,
            "grid_auto_flow": null,
            "grid_auto_rows": null,
            "grid_column": null,
            "grid_gap": null,
            "grid_row": null,
            "grid_template_areas": null,
            "grid_template_columns": null,
            "grid_template_rows": null,
            "height": null,
            "justify_content": null,
            "justify_items": null,
            "left": null,
            "margin": null,
            "max_height": null,
            "max_width": null,
            "min_height": null,
            "min_width": null,
            "object_fit": null,
            "object_position": null,
            "order": null,
            "overflow": null,
            "overflow_x": null,
            "overflow_y": null,
            "padding": null,
            "right": null,
            "top": null,
            "visibility": null,
            "width": null
          }
        },
        "5736d1b8f4cb4f1aa5910bd92f1ff91f": {
          "model_module": "@jupyter-widgets/controls",
          "model_name": "ProgressStyleModel",
          "model_module_version": "1.5.0",
          "state": {
            "_model_module": "@jupyter-widgets/controls",
            "_model_module_version": "1.5.0",
            "_model_name": "ProgressStyleModel",
            "_view_count": null,
            "_view_module": "@jupyter-widgets/base",
            "_view_module_version": "1.2.0",
            "_view_name": "StyleView",
            "bar_color": null,
            "description_width": ""
          }
        },
        "93907cfb559440d9be10229b163d7882": {
          "model_module": "@jupyter-widgets/base",
          "model_name": "LayoutModel",
          "model_module_version": "1.2.0",
          "state": {
            "_model_module": "@jupyter-widgets/base",
            "_model_module_version": "1.2.0",
            "_model_name": "LayoutModel",
            "_view_count": null,
            "_view_module": "@jupyter-widgets/base",
            "_view_module_version": "1.2.0",
            "_view_name": "LayoutView",
            "align_content": null,
            "align_items": null,
            "align_self": null,
            "border": null,
            "bottom": null,
            "display": null,
            "flex": null,
            "flex_flow": null,
            "grid_area": null,
            "grid_auto_columns": null,
            "grid_auto_flow": null,
            "grid_auto_rows": null,
            "grid_column": null,
            "grid_gap": null,
            "grid_row": null,
            "grid_template_areas": null,
            "grid_template_columns": null,
            "grid_template_rows": null,
            "height": null,
            "justify_content": null,
            "justify_items": null,
            "left": null,
            "margin": null,
            "max_height": null,
            "max_width": null,
            "min_height": null,
            "min_width": null,
            "object_fit": null,
            "object_position": null,
            "order": null,
            "overflow": null,
            "overflow_x": null,
            "overflow_y": null,
            "padding": null,
            "right": null,
            "top": null,
            "visibility": null,
            "width": null
          }
        },
        "12ba7dc71254441ebbf75796fc258125": {
          "model_module": "@jupyter-widgets/controls",
          "model_name": "DescriptionStyleModel",
          "model_module_version": "1.5.0",
          "state": {
            "_model_module": "@jupyter-widgets/controls",
            "_model_module_version": "1.5.0",
            "_model_name": "DescriptionStyleModel",
            "_view_count": null,
            "_view_module": "@jupyter-widgets/base",
            "_view_module_version": "1.2.0",
            "_view_name": "StyleView",
            "description_width": ""
          }
        }
      }
    }
  },
  "nbformat": 4,
  "nbformat_minor": 0
}