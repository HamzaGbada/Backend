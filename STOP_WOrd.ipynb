{
  "nbformat": 4,
  "nbformat_minor": 0,
  "metadata": {
    "colab": {
      "name": "STOP_WOrd.ipynb",
      "provenance": [],
      "authorship_tag": "ABX9TyPsMGFQLvK7wuiPT95yCDbO",
      "include_colab_link": true
    },
    "kernelspec": {
      "name": "python3",
      "display_name": "Python 3"
    },
    "language_info": {
      "name": "python"
    }
  },
  "cells": [
    {
      "cell_type": "markdown",
      "metadata": {
        "id": "view-in-github",
        "colab_type": "text"
      },
      "source": [
        "<a href=\"https://colab.research.google.com/github/HamzaGbada/Backend/blob/master/STOP_WOrd.ipynb\" target=\"_parent\"><img src=\"https://colab.research.google.com/assets/colab-badge.svg\" alt=\"Open In Colab\"/></a>"
      ]
    },
    {
      "cell_type": "markdown",
      "source": [
        "Stop words are the **most frequently used words** in a language e.g. 'a', 'an', 'the'\n",
        "\n",
        "Stop words don't give any additionl information, so they can be filtered from the text to be processed\n"
      ],
      "metadata": {
        "id": "tYVM1NToUuvx"
      }
    },
    {
      "cell_type": "code",
      "execution_count": 1,
      "metadata": {
        "id": "3C1t6nP-Ulti"
      },
      "outputs": [],
      "source": [
        "import spacy\n",
        "nlp = spacy.load('en_core_web_sm')"
      ]
    },
    {
      "cell_type": "code",
      "source": [
        "# get default stop words\n",
        "print(nlp.Defaults.stop_words)"
      ],
      "metadata": {
        "colab": {
          "base_uri": "https://localhost:8080/"
        },
        "id": "N-JVJHj6Xt6-",
        "outputId": "eeff9e0a-cec5-44b7-ecd1-6f1738066cce"
      },
      "execution_count": 2,
      "outputs": [
        {
          "output_type": "stream",
          "name": "stdout",
          "text": [
            "{'while', 'ten', 'upon', 'and', 'whereby', 'onto', 'your', 'further', 'among', 'seems', 'every', 'has', 'few', 'indeed', 'becomes', 'someone', \"'d\", '’s', 'under', '‘d', 'my', 'itself', 'a', 'for', \"'ve\", 'whereas', 'rather', 'get', 'so', 'this', 'former', 'front', 'seeming', \"n't\", 'after', 'eleven', 'sixty', 'our', 'around', 'against', 'it', 'everything', 'ours', 'may', 'down', 'call', 'no', 'how', 'thereafter', 'hundred', 'keep', 'serious', 'well', 'its', 'see', 'those', 'ca', 'the', 'who', 'although', 'nowhere', 'below', 'hereby', 'yourselves', 'many', 'whence', 'seem', 'least', 'now', 'could', 'thence', 'hers', 'still', 'doing', 'hereupon', 'back', 'yourself', 'since', 'hence', 'none', 'became', 'same', 'again', 'of', 'own', 'yet', 'unless', 'either', 'amount', 'hereafter', 'too', 'am', 'twenty', 'from', 'whereupon', 'which', 'very', 'mine', 'or', 'whom', 'their', 'along', 'various', 'namely', 'whenever', 'through', 'also', 'within', '’m', 'amongst', 'nevertheless', '’d', 'herein', 'into', 'than', 'several', 'sometime', 'twelve', 'there', 'thereby', 'do', 'done', 'thus', 'only', 'via', '’re', 'just', 'everywhere', 'what', 'when', 'we', 'these', 'during', 'seemed', 'become', 'both', 'would', 'four', 'over', \"'re\", 'quite', 'between', 'by', 'that', 'is', 'me', '’ll', 'them', 'all', 'anyone', 'one', 'somehow', 'in', 'six', 'nor', 'next', 'show', 'once', 'mostly', 'can', 'she', 'go', 'herself', 'third', 'before', 'something', 'above', 'less', 'must', 'anyhow', 'name', 'whither', 'much', 'used', 'five', 'somewhere', 'anyway', 'he', 'out', 'beyond', 'move', 'whatever', 'but', 'elsewhere', 'last', 'first', 'more', 're', 'about', 'per', 'really', 'throughout', 'however', 'neither', 'please', 'are', \"'m\", 'ever', 'moreover', 'to', 'using', 'forty', 'did', 'if', 'thereupon', \"'s\", 'himself', 'where', 'fifty', 'always', '’ve', 'toward', 'without', 'already', '‘m', 'whole', 'behind', 'else', 'though', 'beside', 'due', 'make', 'otherwise', 'everyone', 'towards', 'top', 'then', 'had', 'at', 'because', 'even', 'put', 'across', 'formerly', 'except', 'whoever', 'been', 'whereafter', 'alone', \"'ll\", 'others', 'such', 'some', 'fifteen', 'most', 'until', 'sometimes', 'wherever', 'you', 'themselves', 'never', 'besides', 'as', 'other', 'therefore', 'on', '‘ve', 'full', 'any', 'ourselves', 'anywhere', 'nobody', 'us', 'being', 'nine', 'her', 'whose', 'give', 'part', '‘re', 'anything', 'made', 'becoming', '‘ll', 'regarding', 'enough', 'should', 'eight', 'will', 'often', 'does', 'three', 'cannot', 'each', 'side', 'another', 'his', 'afterwards', 'off', 'an', 'latterly', 'was', 'perhaps', 'together', '‘s', 'why', 'two', 'wherein', 'beforehand', 'empty', 'say', 'i', 'have', 'noone', 'yours', 'bottom', 'whether', 'nothing', 'might', 'meanwhile', 'take', 'him', 'here', 'almost', 'myself', 'n‘t', 'were', 'not', 'latter', 'be', 'up', 'with', 'n’t', 'therein', 'they', 'thru'}\n"
          ]
        }
      ]
    },
    {
      "cell_type": "code",
      "source": [
        "# The number of stop words in this model (it depends on the model)\n",
        "print(len(nlp.Defaults.stop_words))"
      ],
      "metadata": {
        "colab": {
          "base_uri": "https://localhost:8080/"
        },
        "id": "nukN3gm2X0lo",
        "outputId": "4432d0c3-f241-4a0e-f052-1dd4b2524302"
      },
      "execution_count": 4,
      "outputs": [
        {
          "output_type": "stream",
          "name": "stdout",
          "text": [
            "326\n"
          ]
        }
      ]
    },
    {
      "cell_type": "code",
      "source": [
        "# check if attribut is a Stop word\n",
        "nlp.vocab[\"always\"].is_stop"
      ],
      "metadata": {
        "colab": {
          "base_uri": "https://localhost:8080/"
        },
        "id": "aG-AooPUX85P",
        "outputId": "ea1c485f-bafa-418f-d8c8-9f663bed9fa1"
      },
      "execution_count": 5,
      "outputs": [
        {
          "output_type": "execute_result",
          "data": {
            "text/plain": [
              "True"
            ]
          },
          "metadata": {},
          "execution_count": 5
        }
      ]
    },
    {
      "cell_type": "code",
      "source": [
        "# check if attribut is a Stop word\n",
        "nlp.vocab[\"samir\"].is_stop"
      ],
      "metadata": {
        "colab": {
          "base_uri": "https://localhost:8080/"
        },
        "id": "hplGsWgdYnRF",
        "outputId": "535b8dbe-8014-4cdf-dd88-3067fd651b58"
      },
      "execution_count": 6,
      "outputs": [
        {
          "output_type": "execute_result",
          "data": {
            "text/plain": [
              "False"
            ]
          },
          "metadata": {},
          "execution_count": 6
        }
      ]
    },
    {
      "cell_type": "code",
      "source": [
        "# I want to add stop word to this model for exep add samir\n",
        "nlp.Defaults.stop_words.add(\"samir\")\n",
        "nlp.vocab[\"samir\"].is_stop = True"
      ],
      "metadata": {
        "id": "7Q5o1zy4YsQY"
      },
      "execution_count": 19,
      "outputs": []
    },
    {
      "cell_type": "code",
      "source": [
        "# check if attribut is a Stop word after adding it\n",
        "nlp.vocab[\"samir\"].is_stop"
      ],
      "metadata": {
        "colab": {
          "base_uri": "https://localhost:8080/"
        },
        "id": "Uj8ilqH2Y5Gl",
        "outputId": "6f31a311-95d8-40e6-9b07-336e4426a787"
      },
      "execution_count": 20,
      "outputs": [
        {
          "output_type": "execute_result",
          "data": {
            "text/plain": [
              "True"
            ]
          },
          "metadata": {},
          "execution_count": 20
        }
      ]
    },
    {
      "cell_type": "code",
      "source": [
        "# The number of stop words in this model (it depends on the model)\n",
        "print(len(nlp.Defaults.stop_words))"
      ],
      "metadata": {
        "colab": {
          "base_uri": "https://localhost:8080/"
        },
        "id": "5mlZ-BLRY7uw",
        "outputId": "587482f9-d60e-498a-e5bd-0380d56cc16d"
      },
      "execution_count": 21,
      "outputs": [
        {
          "output_type": "stream",
          "name": "stdout",
          "text": [
            "327\n"
          ]
        }
      ]
    },
    {
      "cell_type": "code",
      "source": [
        "# I want to remove a word from stop word list\n",
        "nlp.Defaults.stop_words.remove(\"samir\")\n",
        "nlp.vocab[\"samir\"].is_stop = False"
      ],
      "metadata": {
        "id": "mZ6ANnv4ZMWv"
      },
      "execution_count": 22,
      "outputs": []
    },
    {
      "cell_type": "code",
      "source": [
        "nlp.vocab[\"samir\"].is_stop"
      ],
      "metadata": {
        "colab": {
          "base_uri": "https://localhost:8080/"
        },
        "id": "bIyv3TkgZpat",
        "outputId": "633c97cf-1b5f-44e2-e5d7-cc2002bd01ac"
      },
      "execution_count": 23,
      "outputs": [
        {
          "output_type": "execute_result",
          "data": {
            "text/plain": [
              "False"
            ]
          },
          "metadata": {},
          "execution_count": 23
        }
      ]
    },
    {
      "cell_type": "code",
      "source": [
        "# The number of stop words in this model (it depends on the model)\n",
        "print(len(nlp.Defaults.stop_words))"
      ],
      "metadata": {
        "colab": {
          "base_uri": "https://localhost:8080/"
        },
        "id": "q7I5pbA9Zq7u",
        "outputId": "3bdff4a2-68c0-4dea-af49-644209418882"
      },
      "execution_count": 24,
      "outputs": [
        {
          "output_type": "stream",
          "name": "stdout",
          "text": [
            "326\n"
          ]
        }
      ]
    },
    {
      "cell_type": "code",
      "source": [
        ""
      ],
      "metadata": {
        "id": "haQVSGJ9Zx7_"
      },
      "execution_count": null,
      "outputs": []
    }
  ]
}